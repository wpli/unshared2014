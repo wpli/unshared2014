{
 "metadata": {
  "name": ""
 },
 "nbformat": 3,
 "nbformat_minor": 0,
 "worksheets": [
  {
   "cells": [
    {
     "cell_type": "code",
     "collapsed": false,
     "input": [
      "import os, sys\n",
      "import csv\n",
      "import datetime\n",
      "import dateutil\n",
      "data_path = '../../data/unshared-task-poliinformatics-2014-v1.0/CongressionalBills'\n",
      "bills = [ i for i in os.listdir( data_path ) if \".txt\" in i ]\n"
     ],
     "language": "python",
     "metadata": {},
     "outputs": [],
     "prompt_number": 1
    },
    {
     "cell_type": "code",
     "collapsed": false,
     "input": [
      "import sys\n",
      "import csv\n",
      "sys.path.append( '../utils' )\n",
      "import utils_text\n",
      "import utils_search\n",
      "csv.field_size_limit(sys.maxsize)"
     ],
     "language": "python",
     "metadata": {},
     "outputs": [
      {
       "metadata": {},
       "output_type": "pyout",
       "prompt_number": 13,
       "text": [
        "131072"
       ]
      },
      {
       "output_type": "stream",
       "stream": "stdout",
       "text": [
        "\n"
       ]
      }
     ],
     "prompt_number": 13
    },
    {
     "cell_type": "code",
     "collapsed": false,
     "input": [
      "full_path = os.path.join( data_path, '111thALL.txt' )\n",
      "data_list = []\n",
      "with open( full_path, 'rb' ) as f:\n",
      "    csvreader = csv.reader( f, delimiter='\\t', quoting=csv.QUOTE_ALL )\n",
      "    for idx, row in enumerate(  csvreader ):\n",
      "        #print idx, \n",
      "        if idx == 0:\n",
      "            header = row\n",
      "        else:    \n",
      "            x = row\n",
      "            data_list.append( row )\n",
      "        #print type(row), \n",
      "        \n",
      "    #for row in csvreader:\n",
      "    #    data.append( row )"
     ],
     "language": "python",
     "metadata": {},
     "outputs": [],
     "prompt_number": 16
    },
    {
     "cell_type": "code",
     "collapsed": false,
     "input": [
      "data_list_of_dicts = [] \n",
      "for i in data_list:\n",
      "    data_dict = dict( zip( header, i ) )\n",
      "    data_list_of_dicts.append( data_dict )"
     ],
     "language": "python",
     "metadata": {},
     "outputs": [],
     "prompt_number": 19
    },
    {
     "cell_type": "code",
     "collapsed": false,
     "input": [
      "data_list_of_dicts[123]"
     ],
     "language": "python",
     "metadata": {},
     "outputs": [
      {
       "metadata": {},
       "output_type": "pyout",
       "prompt_number": 21,
       "text": [
        "{'BillNum': '352',\n",
        " 'BillType': 's',\n",
        " 'BillVer': 'enr',\n",
        " 'Bill_id': '452922',\n",
        " 'Cong': '111',\n",
        " 'IssuedOn': '0000-00-00',\n",
        " 'SecCount': '6',\n",
        " 'bill_ver_id': '26',\n",
        " 'bill_version': 's352-111-enr',\n",
        " 'sec_id': '124',\n",
        " 'sec_length': '219',\n",
        " 'sec_sequence': '1',\n",
        " 'text': '                                 An Act                   To postpone the DTV transition date.    Be it enacted by the Senate and House of Representatives of the United States of America in Congress assembled,'}"
       ]
      }
     ],
     "prompt_number": 21
    }
   ],
   "metadata": {}
  }
 ]
}