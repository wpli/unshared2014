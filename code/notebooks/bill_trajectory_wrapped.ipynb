{
 "metadata": {
  "name": "bill_trajectory_wrapped"
 },
 "nbformat": 3,
 "nbformat_minor": 0,
 "worksheets": [
  {
   "cells": [
    {
     "cell_type": "code",
     "collapsed": true,
     "input": [
      "import datetime\n",
      "#from matplotlib import pyplot as plt\n",
      "from matplotlib.dates import date2num\n",
      "\n",
      "def plot_data( data, xmin_date = datetime.datetime( 2007, 7, 1 ), xmax_date = datetime.datetime( 2008,10,15) ):\n",
      "        \n",
      "    x = [date2num(date) for (date, value) in data]\n",
      "    y = [int(value) for (date, value) in data]\n",
      "    \n",
      "    \n",
      "    xmin = date2num( datetime.datetime( 2007, 1, 1 ) )\n",
      "    #xmax = date2num( datetime.datetime( 2008, 8, 1 ) ) \n",
      "    \n",
      "    # Dodd-Frank\n",
      "    #xmax = date2num( datetime.datetime( 2010, 8, 1 ) )\n",
      "    \n",
      "    #ARRA\n",
      "    xmin = date2num( datetime.datetime( 2007, 7, 1 ) )\n",
      "    xmax = date2num( datetime.datetime( 2008,10,15) )\n",
      "    \n",
      "    xmin = date2num( xmin_date )\n",
      "    xmax = date2num( xmax_date )\n",
      "    \n",
      "    min_date = min( [ i[0] for i in data ] )\n",
      "    max_date = max( [ i[0] for i in data ] )\n",
      "    \n",
      "    starting_month = datetime.datetime( min_date.year, min_date.month, day=1 )\n",
      "    ending_month = max_date + dateutil.relativedelta.relativedelta( months=1 )\n",
      "    ending_month = datetime.datetime( ending_month.year, ending_month.month, day=1 )\n",
      "    #print starting_month\n",
      "    #print ending_month \n",
      "    \n",
      "    months = []\n",
      "    current_month = starting_month\n",
      "    while current_month <= ending_month:\n",
      "        months.append( current_month )\n",
      "        current_month += dateutil.relativedelta.relativedelta( months=1 )\n",
      "        \n",
      "    #print months\n",
      "    \n",
      "    fig = plt.figure()\n",
      "    figsize( 10,6 )\n",
      "    graph = fig.add_subplot(111)\n",
      "    \n",
      "    graph.scatter(x,y, s=20, c='k', marker='o', alpha=1)\n",
      "    \n",
      "    \n",
      "    plt.xlabel( 'Date', fontsize='large' )\n",
      "    plt.ylabel( 'Bill Section', fontsize='large' )\n",
      "    \n",
      "    # Set the xtick locations to correspond to just the dates you entered.\n",
      "    \n",
      "    month_nums = [ date2num( date ) for date in months ] \n",
      "    graph.set_xticks( month_nums )\n",
      "    num_sections = max(y)\n",
      "    plt.ylim( (0,num_sections) )\n",
      "    \n",
      "    #plt.ylim( ( 70, 100 ) )\n",
      "    \n",
      "    plt.xlim( ( xmin, xmax ) )\n",
      "    plt.gca().invert_yaxis()\n",
      "    graph.yaxis.set_label_position(\"right\")\n",
      "    graph.yaxis.tick_right()\n",
      "    # Set the xtick labels to correspond to just the dates you entered.\n",
      "    graph.set_xticklabels(\n",
      "            [date.strftime(\"%Y-%m\") for date in months ], rotation=90, fontsize='large'\n",
      "            )\n",
      "    \n",
      "    \n",
      "    \n",
      "    plt.show()"
     ],
     "language": "python",
     "metadata": {},
     "outputs": [],
     "prompt_number": 1
    },
    {
     "cell_type": "code",
     "collapsed": false,
     "input": [
      "import os, sys\n",
      "import csv\n",
      "import datetime\n",
      "import dateutil\n",
      "import cPickle\n",
      "sys.path.append( '../utils' )\n",
      "import utils_text\n",
      "import utils_search\n",
      "\n"
     ],
     "language": "python",
     "metadata": {},
     "outputs": [],
     "prompt_number": 2
    },
    {
     "cell_type": "code",
     "collapsed": false,
     "input": [
      "def load_data():\n",
      "    data_path = '../../data/unshared-task-poliinformatics-2014-v1.0/CongressionalBills'\n",
      "    bills = [ i for i in os.listdir( data_path ) if \".txt\" in i ]\n",
      "    sys.path.append( '../utils' )\n",
      "    csv.field_size_limit(sys.maxsize)\n",
      "    \n",
      "    congress_files = [ '110thALL.txt', '111thALL.txt' ]\n",
      "    \n",
      "    data_list_of_dicts = []\n",
      "    for congress in congress_files:    \n",
      "        full_path = os.path.join( data_path, congress )\n",
      "        with open( full_path, 'rb' ) as f:\n",
      "            csvreader = csv.reader( f, delimiter='\\t', quoting=csv.QUOTE_ALL )\n",
      "            for idx, row in enumerate(  csvreader ):\n",
      "                if idx == 0:\n",
      "                    header = row\n",
      "                else:    \n",
      "                    data_dict = dict( zip( header, row ) )\n",
      "                    assert len( data_dict ) == len( header )\n",
      "                    data_list_of_dicts.append( data_dict )\n",
      "\n",
      "    return data_list_of_dicts"
     ],
     "language": "python",
     "metadata": {},
     "outputs": [],
     "prompt_number": 3
    },
    {
     "cell_type": "code",
     "collapsed": false,
     "input": [
      "def get_top_matches_dates( data_list_of_dicts, target_top_matches_jaccard):\n",
      "    top_matches_dates = []\n",
      "    # [ query_idx, [ ( match_idx, date ), ... \n",
      "    for query_idx, matches in target_top_matches_jaccard:\n",
      "        #print query_idx, len( data_list_sets[query_idx] )\n",
      "        match_dates = []\n",
      "        for match_idx, jaccard in matches:\n",
      "            match_entry = data_list_of_dicts[match_idx]\n",
      "            \n",
      "            if jaccard > 0.7:\n",
      "                match_dates.append( ( match_idx, match_entry['IssuedOn'] ) )\n",
      "        top_matches_dates.append( ( query_idx, match_dates ) )\n",
      "                #print match_idx, jaccard,  \n",
      "                #print match_entry['IssuedOn'], match_entry['Bill_id']\n",
      "    return top_matches_dates\n",
      "        \n",
      "    #print \"\\n\""
     ],
     "language": "python",
     "metadata": {},
     "outputs": [],
     "prompt_number": 4
    },
    {
     "cell_type": "code",
     "collapsed": false,
     "input": [
      "def get_gestation_times( target_top_matches_jaccard, data_list_of_dicts, jaccard_threshold = 0.7):\n",
      "    \n",
      "    gestation_times = []\n",
      "    \n",
      "    query_idx = target_top_matches_jaccard[2][0]\n",
      "    matches = target_top_matches_jaccard[2][1]\n",
      "    \n",
      "    for query_idx, matches in target_top_matches_jaccard:\n",
      "        gestation_time = datetime.timedelta( 0 )\n",
      "        for match_idx, jaccard in matches:\n",
      "            if jaccard < jaccard_threshold:\n",
      "                continue\n",
      "                \n",
      "            elif data_list_of_dicts[ query_idx ]['bill_version'] == data_list_of_dicts[ match_idx ]['bill_version']:\n",
      "                #print  \"same bill version\", match_idx, data_list_of_dicts[ match_idx ]['bill_version']\n",
      "                continue\n",
      "                \n",
      "            if data_list_of_dicts[ match_idx ]['IssuedOn'] == '0000-00-00':\n",
      "                continue\n",
      "                \n",
      "            match_date = datetime.datetime.strptime( data_list_of_dicts[ match_idx ]['IssuedOn'], \"%Y-%m-%d\" )\n",
      "            query_date = datetime.datetime.strptime( data_list_of_dicts[ query_idx ]['IssuedOn'], \"%Y-%m-%d\" )\n",
      "            \n",
      "            if match_date > query_date:\n",
      "                #print \"future date {} for {} {}\".format(  match_date, query_idx, query_date )\n",
      "                pass\n",
      "            else:\n",
      "                #print \"ancestor for {} ({}), Issued {}. Gestation: {}\".format(  query_idx, query_date, match_date, query_date - match_date)\n",
      "                gestation_time = max( gestation_time, query_date - match_date )\n",
      "                #print \"gestation {}\".format( gestation_time )\n",
      "    \n",
      "        gestation_times.append( (query_idx, gestation_time) )\n",
      "    \n",
      "    return gestation_times"
     ],
     "language": "python",
     "metadata": {},
     "outputs": [],
     "prompt_number": 6
    },
    {
     "cell_type": "code",
     "collapsed": false,
     "input": [
      "reload( utils_search )\n",
      "\n",
      "def get_top_matches( target_indices, data_list_sets, word_inverted_index):\n",
      "    target_top_matches = []\n",
      "    for idx in sorted(target_indices):\n",
      "        sys.stderr.write( \"%s \" % idx )        \n",
      "        matches = utils_search.get_ranked_matches( data_list_sets[ idx] , word_inverted_index, top_k=100 ) \n",
      "        target_top_matches.append( ( idx, matches ) )\n",
      "        \n",
      "    return target_top_matches\n",
      "    "
     ],
     "language": "python",
     "metadata": {},
     "outputs": [],
     "prompt_number": 7
    },
    {
     "cell_type": "code",
     "collapsed": false,
     "input": [
      "import collections\n",
      "def create_word_inverted_index( list_of_word_sets):\n",
      "    word_inverted_index = collections.defaultdict( list )\n",
      "    \n",
      "    for idx, word_set in enumerate( list_of_word_sets ):\n",
      "        if idx % 1000 == 0:\n",
      "            sys.stderr.write( \"%s \" % idx )\n",
      "    \n",
      "            \n",
      "        for word in list( word_set ):\n",
      "            word_inverted_index[word].append( idx )\n",
      "\n",
      "    return word_inverted_index"
     ],
     "language": "python",
     "metadata": {},
     "outputs": [],
     "prompt_number": 8
    },
    {
     "cell_type": "code",
     "collapsed": false,
     "input": [
      "def get_indices_for_bill_version( bill_version, data_list_of_dicts):\n",
      "    target_indices = set( [ idx for idx, i in enumerate( data_list_of_dicts ) if i['bill_version'] == bill_version ] )\n",
      "    return target_indices"
     ],
     "language": "python",
     "metadata": {},
     "outputs": [],
     "prompt_number": 44
    },
    {
     "cell_type": "code",
     "collapsed": false,
     "input": [
      "\n",
      "import datetime\n",
      "def gen_graph_data( top_matches_dates, data_list_of_dicts ):\n",
      "    ct = 0\n",
      "    data = []\n",
      "    for query_idx, top_matches in top_matches_dates:\n",
      "        #if query_idx in exclude:\n",
      "        #    pass\n",
      "        #else:\n",
      "        if 1:\n",
      "            section_idx = data_list_of_dicts[query_idx]['sec_sequence']\n",
      "            for match_idx, date in top_matches:\n",
      "                #if match_idx in target_indices:\n",
      "                #    assert date == '0000-00-00'\n",
      "                #    # ARRA\n",
      "                #    dt = datetime.datetime( 2009, 1, 6 )\n",
      "                #    # Dodd-Frank\n",
      "                #    #dt = datetime.datetime( 2010, 7, 21 )\n",
      "                #    data.append( ( dt, section_idx ) )\n",
      "                if date == '0000-00-00':\n",
      "                    print match_idx\n",
      "                    ct += 1\n",
      "                else:\n",
      "                    dt = datetime.datetime.strptime( date, \"%Y-%m-%d\" )\n",
      "                    data.append( ( dt, section_idx ) )\n",
      "        \n",
      "    #data = [(DT.datetime.strptime('2010-02-05', \"%Y-%m-%d\"), 123),\n",
      "    #        (DT.datetime.strptime('2010-02-19', \"%Y-%m-%d\"), 678),\n",
      "    #        (DT.datetime.strptime('2010-03-05', \"%Y-%m-%d\"), 987),\n",
      "    #        (DT.datetime.strptime('2010-03-19', \"%Y-%m-%d\"), 345)]\n",
      "    print ct"
     ],
     "language": "python",
     "metadata": {},
     "outputs": [],
     "prompt_number": 10
    },
    {
     "cell_type": "code",
     "collapsed": false,
     "input": [
      "def get_jaccard_scores_for_matches( target_top_matches, section_word_sets ):\n",
      "    target_top_matches_jaccard = []\n",
      "\n",
      "    for query_idx, matches in target_top_matches:\n",
      "        query_word_set = section_word_sets[query_idx]\n",
      "        jaccard_scores = []\n",
      "        for match_idx, num_matches in matches:\n",
      "            match_word_set = data_list_sets[match_idx]\n",
      "            jacc = utils_text.jaccard( query_word_set, match_word_set )\n",
      "            jaccard_scores.append( jacc )\n",
      "            \n",
      "        match_jaccard = zip( [ i[0] for i in matches ], jaccard_scores )\n",
      "        match_jaccard.sort( key=lambda x:x[1], reverse=True )\n",
      "        \n",
      "        target_top_matches_jaccard.append( ( query_idx, match_jaccard ) )\n",
      "        \n",
      "    return target_top_matches_jaccard   "
     ],
     "language": "python",
     "metadata": {},
     "outputs": [],
     "prompt_number": 11
    },
    {
     "cell_type": "code",
     "collapsed": false,
     "input": [
      "def get_word_sets_list( data_list_of_dicts):\n",
      "    data_list_sets = []\n",
      "    for idx, i in enumerate( data_list_of_dicts ):\n",
      "        if idx % 10000 == 0:\n",
      "            sys.stderr.write( \"%s \" % idx )\n",
      "        x = i['text'].lower()\n",
      "        text = utils_text.strip_punctuation( x )\n",
      "        word_set = set( text.split() )\n",
      "        data_list_sets.append( word_set )\n",
      "    \n",
      "    return data_list_sets"
     ],
     "language": "python",
     "metadata": {},
     "outputs": [],
     "prompt_number": 12
    },
    {
     "cell_type": "code",
     "collapsed": false,
     "input": [
      "data_list_of_dicts = load_data()"
     ],
     "language": "python",
     "metadata": {},
     "outputs": [],
     "prompt_number": 13
    },
    {
     "cell_type": "markdown",
     "metadata": {},
     "source": [
      "Load the data"
     ]
    },
    {
     "cell_type": "code",
     "collapsed": false,
     "input": [
      "data_list_sets = get_word_sets_list( data_list_of_dicts )"
     ],
     "language": "python",
     "metadata": {},
     "outputs": [
      {
       "output_type": "stream",
       "stream": "stderr",
       "text": [
        "0 10000 "
       ]
      },
      {
       "output_type": "stream",
       "stream": "stderr",
       "text": [
        "20000 30000 "
       ]
      },
      {
       "output_type": "stream",
       "stream": "stderr",
       "text": [
        "40000 50000 "
       ]
      },
      {
       "output_type": "stream",
       "stream": "stderr",
       "text": [
        "60000 70000 "
       ]
      },
      {
       "output_type": "stream",
       "stream": "stderr",
       "text": [
        "80000 90000 "
       ]
      },
      {
       "output_type": "stream",
       "stream": "stderr",
       "text": [
        "100000 110000 "
       ]
      },
      {
       "output_type": "stream",
       "stream": "stderr",
       "text": [
        "120000 130000 "
       ]
      },
      {
       "output_type": "stream",
       "stream": "stderr",
       "text": [
        "140000 150000 "
       ]
      },
      {
       "output_type": "stream",
       "stream": "stderr",
       "text": [
        "160000 170000 "
       ]
      },
      {
       "output_type": "stream",
       "stream": "stderr",
       "text": [
        "180000 190000 "
       ]
      },
      {
       "output_type": "stream",
       "stream": "stderr",
       "text": [
        "200000 210000 "
       ]
      },
      {
       "output_type": "stream",
       "stream": "stderr",
       "text": [
        "220000 230000 "
       ]
      },
      {
       "output_type": "stream",
       "stream": "stderr",
       "text": [
        "240000 250000 "
       ]
      }
     ],
     "prompt_number": 14
    },
    {
     "cell_type": "code",
     "collapsed": false,
     "input": [
      "word_inverted_index = create_word_inverted_index( data_list_sets )\n",
      "\n"
     ],
     "language": "python",
     "metadata": {},
     "outputs": [
      {
       "output_type": "stream",
       "stream": "stderr",
       "text": [
        "0 1000 "
       ]
      },
      {
       "output_type": "stream",
       "stream": "stderr",
       "text": [
        "2000 3000 4000 "
       ]
      },
      {
       "output_type": "stream",
       "stream": "stderr",
       "text": [
        "5000 6000 7000 "
       ]
      },
      {
       "output_type": "stream",
       "stream": "stderr",
       "text": [
        "8000 9000 10000 "
       ]
      },
      {
       "output_type": "stream",
       "stream": "stderr",
       "text": [
        "11000 12000 13000 "
       ]
      },
      {
       "output_type": "stream",
       "stream": "stderr",
       "text": [
        "14000 15000 16000 "
       ]
      },
      {
       "output_type": "stream",
       "stream": "stderr",
       "text": [
        "17000 18000 19000 "
       ]
      },
      {
       "output_type": "stream",
       "stream": "stderr",
       "text": [
        "20000 21000 22000 "
       ]
      },
      {
       "output_type": "stream",
       "stream": "stderr",
       "text": [
        "23000 24000 25000 "
       ]
      },
      {
       "output_type": "stream",
       "stream": "stderr",
       "text": [
        "26000 27000 28000 "
       ]
      },
      {
       "output_type": "stream",
       "stream": "stderr",
       "text": [
        "29000 30000 31000 "
       ]
      },
      {
       "output_type": "stream",
       "stream": "stderr",
       "text": [
        "32000 33000 34000 35000 "
       ]
      },
      {
       "output_type": "stream",
       "stream": "stderr",
       "text": [
        "36000 37000 38000 "
       ]
      },
      {
       "output_type": "stream",
       "stream": "stderr",
       "text": [
        "39000 40000 41000 "
       ]
      },
      {
       "output_type": "stream",
       "stream": "stderr",
       "text": [
        "42000 43000 44000 "
       ]
      },
      {
       "output_type": "stream",
       "stream": "stderr",
       "text": [
        "45000 46000 47000 "
       ]
      },
      {
       "output_type": "stream",
       "stream": "stderr",
       "text": [
        "48000 49000 50000 "
       ]
      },
      {
       "output_type": "stream",
       "stream": "stderr",
       "text": [
        "51000 52000 53000 "
       ]
      },
      {
       "output_type": "stream",
       "stream": "stderr",
       "text": [
        "54000 55000 56000 "
       ]
      },
      {
       "output_type": "stream",
       "stream": "stderr",
       "text": [
        "57000 58000 59000 "
       ]
      },
      {
       "output_type": "stream",
       "stream": "stderr",
       "text": [
        "60000 61000 62000 "
       ]
      },
      {
       "output_type": "stream",
       "stream": "stderr",
       "text": [
        "63000 64000 65000 "
       ]
      },
      {
       "output_type": "stream",
       "stream": "stderr",
       "text": [
        "66000 67000 68000 "
       ]
      },
      {
       "output_type": "stream",
       "stream": "stderr",
       "text": [
        "69000 70000 71000 "
       ]
      },
      {
       "output_type": "stream",
       "stream": "stderr",
       "text": [
        "72000 73000 74000 "
       ]
      },
      {
       "output_type": "stream",
       "stream": "stderr",
       "text": [
        "75000 76000 77000 "
       ]
      },
      {
       "output_type": "stream",
       "stream": "stderr",
       "text": [
        "78000 79000 80000 "
       ]
      },
      {
       "output_type": "stream",
       "stream": "stderr",
       "text": [
        "81000 82000 83000 "
       ]
      },
      {
       "output_type": "stream",
       "stream": "stderr",
       "text": [
        "84000 85000 86000 "
       ]
      },
      {
       "output_type": "stream",
       "stream": "stderr",
       "text": [
        "87000 88000 89000 "
       ]
      },
      {
       "output_type": "stream",
       "stream": "stderr",
       "text": [
        "90000 91000 92000 "
       ]
      },
      {
       "output_type": "stream",
       "stream": "stderr",
       "text": [
        "93000 94000 95000 "
       ]
      },
      {
       "output_type": "stream",
       "stream": "stderr",
       "text": [
        "96000 97000 98000 "
       ]
      },
      {
       "output_type": "stream",
       "stream": "stderr",
       "text": [
        "99000 100000 101000 "
       ]
      },
      {
       "output_type": "stream",
       "stream": "stderr",
       "text": [
        "102000 103000 104000 "
       ]
      },
      {
       "output_type": "stream",
       "stream": "stderr",
       "text": [
        "105000 106000 107000 "
       ]
      },
      {
       "output_type": "stream",
       "stream": "stderr",
       "text": [
        "108000 109000 110000 "
       ]
      },
      {
       "output_type": "stream",
       "stream": "stderr",
       "text": [
        "111000 112000 113000 "
       ]
      },
      {
       "output_type": "stream",
       "stream": "stderr",
       "text": [
        "114000 115000 116000 "
       ]
      },
      {
       "output_type": "stream",
       "stream": "stderr",
       "text": [
        "117000 118000 119000 "
       ]
      },
      {
       "output_type": "stream",
       "stream": "stderr",
       "text": [
        "120000 121000 122000 "
       ]
      },
      {
       "output_type": "stream",
       "stream": "stderr",
       "text": [
        "123000 124000 125000 "
       ]
      },
      {
       "output_type": "stream",
       "stream": "stderr",
       "text": [
        "126000 127000 128000 "
       ]
      },
      {
       "output_type": "stream",
       "stream": "stderr",
       "text": [
        "129000 130000 131000 "
       ]
      },
      {
       "output_type": "stream",
       "stream": "stderr",
       "text": [
        "132000 133000 134000 "
       ]
      },
      {
       "output_type": "stream",
       "stream": "stderr",
       "text": [
        "135000 136000 137000 "
       ]
      },
      {
       "output_type": "stream",
       "stream": "stderr",
       "text": [
        "138000 139000 140000 "
       ]
      },
      {
       "output_type": "stream",
       "stream": "stderr",
       "text": [
        "141000 142000 143000 "
       ]
      },
      {
       "output_type": "stream",
       "stream": "stderr",
       "text": [
        "144000 145000 146000 "
       ]
      },
      {
       "output_type": "stream",
       "stream": "stderr",
       "text": [
        "147000 148000 149000 "
       ]
      },
      {
       "output_type": "stream",
       "stream": "stderr",
       "text": [
        "150000 151000 152000 "
       ]
      },
      {
       "output_type": "stream",
       "stream": "stderr",
       "text": [
        "153000 154000 155000 "
       ]
      },
      {
       "output_type": "stream",
       "stream": "stderr",
       "text": [
        "156000 157000 158000 "
       ]
      },
      {
       "output_type": "stream",
       "stream": "stderr",
       "text": [
        "159000 160000 161000 "
       ]
      },
      {
       "output_type": "stream",
       "stream": "stderr",
       "text": [
        "162000 163000 164000 "
       ]
      },
      {
       "output_type": "stream",
       "stream": "stderr",
       "text": [
        "165000 166000 167000 "
       ]
      },
      {
       "output_type": "stream",
       "stream": "stderr",
       "text": [
        "168000 169000 170000 "
       ]
      },
      {
       "output_type": "stream",
       "stream": "stderr",
       "text": [
        "171000 172000 173000 "
       ]
      },
      {
       "output_type": "stream",
       "stream": "stderr",
       "text": [
        "174000 175000 176000 "
       ]
      },
      {
       "output_type": "stream",
       "stream": "stderr",
       "text": [
        "177000 178000 179000 "
       ]
      },
      {
       "output_type": "stream",
       "stream": "stderr",
       "text": [
        "180000 181000 182000 "
       ]
      },
      {
       "output_type": "stream",
       "stream": "stderr",
       "text": [
        "183000 184000 185000 "
       ]
      },
      {
       "output_type": "stream",
       "stream": "stderr",
       "text": [
        "186000 187000 188000 "
       ]
      },
      {
       "output_type": "stream",
       "stream": "stderr",
       "text": [
        "189000 190000 191000 "
       ]
      },
      {
       "output_type": "stream",
       "stream": "stderr",
       "text": [
        "192000 193000 194000 "
       ]
      },
      {
       "output_type": "stream",
       "stream": "stderr",
       "text": [
        "195000 196000 197000 "
       ]
      },
      {
       "output_type": "stream",
       "stream": "stderr",
       "text": [
        "198000 199000 200000 "
       ]
      },
      {
       "output_type": "stream",
       "stream": "stderr",
       "text": [
        "201000 202000 203000 "
       ]
      },
      {
       "output_type": "stream",
       "stream": "stderr",
       "text": [
        "204000 205000 206000 "
       ]
      },
      {
       "output_type": "stream",
       "stream": "stderr",
       "text": [
        "207000 208000 209000 "
       ]
      },
      {
       "output_type": "stream",
       "stream": "stderr",
       "text": [
        "210000 211000 212000 "
       ]
      },
      {
       "output_type": "stream",
       "stream": "stderr",
       "text": [
        "213000 214000 215000 "
       ]
      },
      {
       "output_type": "stream",
       "stream": "stderr",
       "text": [
        "216000 217000 218000 "
       ]
      },
      {
       "output_type": "stream",
       "stream": "stderr",
       "text": [
        "219000 220000 221000 "
       ]
      },
      {
       "output_type": "stream",
       "stream": "stderr",
       "text": [
        "222000 223000 224000 "
       ]
      },
      {
       "output_type": "stream",
       "stream": "stderr",
       "text": [
        "225000 226000 "
       ]
      },
      {
       "output_type": "stream",
       "stream": "stderr",
       "text": [
        "227000 228000 229000 "
       ]
      },
      {
       "output_type": "stream",
       "stream": "stderr",
       "text": [
        "230000 231000 232000 "
       ]
      },
      {
       "output_type": "stream",
       "stream": "stderr",
       "text": [
        "233000 234000 235000 "
       ]
      },
      {
       "output_type": "stream",
       "stream": "stderr",
       "text": [
        "236000 237000 238000 "
       ]
      },
      {
       "output_type": "stream",
       "stream": "stderr",
       "text": [
        "239000 240000 241000 "
       ]
      },
      {
       "output_type": "stream",
       "stream": "stderr",
       "text": [
        "242000 243000 244000 "
       ]
      },
      {
       "output_type": "stream",
       "stream": "stderr",
       "text": [
        "245000 246000 247000 "
       ]
      },
      {
       "output_type": "stream",
       "stream": "stderr",
       "text": [
        "248000 249000 250000 "
       ]
      },
      {
       "output_type": "stream",
       "stream": "stderr",
       "text": [
        "251000 252000 253000 "
       ]
      },
      {
       "output_type": "stream",
       "stream": "stderr",
       "text": [
        "254000 255000 256000 "
       ]
      },
      {
       "output_type": "stream",
       "stream": "stderr",
       "text": [
        "257000 258000 259000 "
       ]
      }
     ],
     "prompt_number": 15
    },
    {
     "cell_type": "code",
     "collapsed": false,
     "input": [
      "with open( '../../data/processed/word_inverted_index_110_111.pkl', 'w' ) as f:\n",
      "    cPickle.dump( word_inverted_index, f )"
     ],
     "language": "python",
     "metadata": {},
     "outputs": [],
     "prompt_number": 15
    },
    {
     "cell_type": "code",
     "collapsed": false,
     "input": [
      "# Load from pickle\n",
      "with open( '../../data/processed/word_inverted_index_110_111.pkl' ) as f:\n",
      "    word_inverted_index = cPickle.load( f )"
     ],
     "language": "python",
     "metadata": {},
     "outputs": [],
     "prompt_number": 16
    },
    {
     "cell_type": "code",
     "collapsed": false,
     "input": [
      "def average_gestation( gestation_times ):\n",
      "    average_gestation =sum([gestation_time[1] for gestation_time in gestation_times ]) / len(gestation_times)\n",
      "    return average_gestation"
     ],
     "language": "python",
     "metadata": {},
     "outputs": [],
     "prompt_number": 34
    },
    {
     "cell_type": "code",
     "collapsed": false,
     "input": [
      "def week_threshold( gestation_times, weeks=12 ):\n",
      "    return len( [ gestation_time for idx, gestation_time in gestation_times if gestation_time > datetime.timedelta( weeks=12)] ) / float(len( gestation_times ))"
     ],
     "language": "python",
     "metadata": {},
     "outputs": [],
     "prompt_number": 29
    },
    {
     "cell_type": "code",
     "collapsed": false,
     "input": [
      "bill_name_dict = { 'TARP': 'hr1424-110-enr', 'HERA': 'hr3221-110-enr', 'Dodd-Frank': 'hr4173-111-enr', \n",
      "                  'ARRA': 'hr1-111-as2'}\n",
      "gestation_results = []\n",
      "for bill_name in bill_name_dict.keys():\n",
      "    \n",
      "    print \"Bill Name:{} \".format(bill_name)\n",
      "    bill_version = bill_name_dict[ bill_name ]\n",
      "    print \"bill_version: {}\".format( bill_version )\n",
      "    print \"getting bill indices\"\n",
      "    target_indices =  get_indices_for_bill_version( bill_name_dict[ bill_name ], data_list_of_dicts )\n",
      "    print target_indices\n",
      "    print \"getting top_matches\"\n",
      "    target_top_matches = get_top_matches( target_indices, data_list_sets, word_inverted_index )\n",
      "    print \"getting jaccard_scores\"\n",
      "    target_top_matches_jaccard = get_jaccard_scores_for_matches( target_top_matches, data_list_sets )\n",
      "    gestation_times = get_gestation_times( target_top_matches_jaccard, data_list_of_dicts)\n",
      "    average_gest = average_gestation( gestation_times )\n",
      "    wt12 = week_threshold( gestation_times)\n",
      "    gestation_results.append( { 'name': bill_name, 'average_gestation': average_gest, 'wt12': wt12 } )\n",
      "\n",
      "print gestation_results"
     ],
     "language": "python",
     "metadata": {},
     "outputs": [
      {
       "output_type": "stream",
       "stream": "stdout",
       "text": [
        "Bill Name:HERA \n",
        "bill_version: hr3221-110-enr\n",
        "getting bill indices\n",
        "set([22016, 22017, 22018, 22019, 22020, 22021, 22022, 22023, 22024, 22025, 22026, 22027, 22028, 22029, 22030, 22031, 22032, 22033, 22034, 22035, 22036, 22037, 22038, 22039, 22040, 22041, 22042, 22043, 22044, 22045, 22046, 22047, 22048, 22049, 22050, 22051, 22052, 22053, 22054, 22055, 22056, 22057, 22058, 22059, 22060, 22061, 22062, 22063, 22064, 22065, 22066, 22067, 22068, 22069, 22070, 22071, 22072, 22073, 22074, 22075, 22076, 22077, 22078, 22079, 22080, 22081, 22082, 22083, 22084, 22085, 22086, 22087, 22088, 21834, 21835, 21836, 21837, 21838, 21839, 21840, 21841, 21842, 21843, 21844, 21845, 21846, 21847, 21848, 21849, 21850, 21851, 21852, 21853, 21854, 21855, 21856, 21857, 21858, 21859, 21860, 21861, 21862, 21863, 21864, 21865, 21866, 21867, 21868, 21869, 21870, 21871, 21872, 21873, 21874, 21875, 21876, 21877, 21878, 21879, 21880, 21881, 21882, 21883, 21884, 21885, 21886, 21887, 21888, 21889, 21890, 21891, 21892, 21893, 21894, 21895, 21896, 21897, 21898, 21899, 21900, 21901, 21902, 21903, 21904, 21905, 21906, 21907, 21908, 21909, 21910, 21911, 21912, 21913, 21914, 21915, 21916, 21917, 21918, 21919, 21920, 21921, 21922, 21923, 21924, 21925, 21926, 21927, 21928, 21929, 21930, 21931, 21932, 21933, 21934, 21935, 21936, 21937, 21938, 21939, 21940, 21941, 21942, 21943, 21944, 21945, 21946, 21947, 21948, 21949, 21950, 21951, 21952, 21953, 21954, 21955, 21956, 21957, 21958, 21959, 21960, 21961, 21962, 21963, 21964, 21965, 21966, 21967, 21968, 21969, 21970, 21971, 21972, 21973, 21974, 21975, 21976, 21977, 21978, 21979, 21980, 21981, 21982, 21983, 21984, 21985, 21986, 21987, 21988, 21989, 21990, 21991, 21992, 21993, 21994, 21995, 21996, 21997, 21998, 21999, 22000, 22001, 22002, 22003, 22004, 22005, 22006, 22007, 22008, 22009, 22010, 22011, 22012, 22013, 22014, 22015])"
       ]
      },
      {
       "output_type": "stream",
       "stream": "stderr",
       "text": [
        "21834 21835 "
       ]
      },
      {
       "output_type": "stream",
       "stream": "stderr",
       "text": [
        "21836 21837 21838 "
       ]
      },
      {
       "output_type": "stream",
       "stream": "stderr",
       "text": [
        "21839 21840 "
       ]
      },
      {
       "output_type": "stream",
       "stream": "stderr",
       "text": [
        "21841 21842 "
       ]
      },
      {
       "output_type": "stream",
       "stream": "stderr",
       "text": [
        "21843 21844 21845 "
       ]
      },
      {
       "output_type": "stream",
       "stream": "stderr",
       "text": [
        "21846 21847 "
       ]
      },
      {
       "output_type": "stream",
       "stream": "stderr",
       "text": [
        "21848 21849 "
       ]
      },
      {
       "output_type": "stream",
       "stream": "stderr",
       "text": [
        "21850 21851 "
       ]
      },
      {
       "output_type": "stream",
       "stream": "stderr",
       "text": [
        "21852 21853 "
       ]
      },
      {
       "output_type": "stream",
       "stream": "stderr",
       "text": [
        "21854 21855 "
       ]
      },
      {
       "output_type": "stream",
       "stream": "stderr",
       "text": [
        "21856 21857 "
       ]
      },
      {
       "output_type": "stream",
       "stream": "stderr",
       "text": [
        "21858 21859 "
       ]
      },
      {
       "output_type": "stream",
       "stream": "stderr",
       "text": [
        "21860 21861 "
       ]
      },
      {
       "output_type": "stream",
       "stream": "stderr",
       "text": [
        "21862 21863 "
       ]
      },
      {
       "output_type": "stream",
       "stream": "stderr",
       "text": [
        "21864 21865 "
       ]
      },
      {
       "output_type": "stream",
       "stream": "stderr",
       "text": [
        "21866 21867 "
       ]
      },
      {
       "output_type": "stream",
       "stream": "stderr",
       "text": [
        "21868 21869 "
       ]
      },
      {
       "output_type": "stream",
       "stream": "stderr",
       "text": [
        "21870 21871 "
       ]
      },
      {
       "output_type": "stream",
       "stream": "stderr",
       "text": [
        "21872 21873 "
       ]
      },
      {
       "output_type": "stream",
       "stream": "stderr",
       "text": [
        "21874 21875 "
       ]
      },
      {
       "output_type": "stream",
       "stream": "stderr",
       "text": [
        "21876 21877 "
       ]
      },
      {
       "output_type": "stream",
       "stream": "stderr",
       "text": [
        "21878 21879 "
       ]
      },
      {
       "output_type": "stream",
       "stream": "stderr",
       "text": [
        "21880 21881 "
       ]
      },
      {
       "output_type": "stream",
       "stream": "stderr",
       "text": [
        "21882 21883 "
       ]
      },
      {
       "output_type": "stream",
       "stream": "stderr",
       "text": [
        "21884 21885 "
       ]
      },
      {
       "output_type": "stream",
       "stream": "stderr",
       "text": [
        "21886 21887 "
       ]
      },
      {
       "output_type": "stream",
       "stream": "stderr",
       "text": [
        "21888 21889 "
       ]
      },
      {
       "output_type": "stream",
       "stream": "stderr",
       "text": [
        "21890 21891 "
       ]
      },
      {
       "output_type": "stream",
       "stream": "stderr",
       "text": [
        "21892 21893 "
       ]
      },
      {
       "output_type": "stream",
       "stream": "stderr",
       "text": [
        "21894 21895 "
       ]
      },
      {
       "output_type": "stream",
       "stream": "stderr",
       "text": [
        "21896 21897 "
       ]
      },
      {
       "output_type": "stream",
       "stream": "stderr",
       "text": [
        "21898 21899 "
       ]
      },
      {
       "output_type": "stream",
       "stream": "stderr",
       "text": [
        "21900 21901 "
       ]
      },
      {
       "output_type": "stream",
       "stream": "stderr",
       "text": [
        "21902 21903 "
       ]
      },
      {
       "output_type": "stream",
       "stream": "stderr",
       "text": [
        "21904 21905 "
       ]
      },
      {
       "output_type": "stream",
       "stream": "stderr",
       "text": [
        "21906 21907 "
       ]
      },
      {
       "output_type": "stream",
       "stream": "stderr",
       "text": [
        "21908 21909 "
       ]
      },
      {
       "output_type": "stream",
       "stream": "stderr",
       "text": [
        "21910 21911 "
       ]
      },
      {
       "output_type": "stream",
       "stream": "stderr",
       "text": [
        "21912 21913 "
       ]
      },
      {
       "output_type": "stream",
       "stream": "stderr",
       "text": [
        "21914 21915 "
       ]
      },
      {
       "output_type": "stream",
       "stream": "stderr",
       "text": [
        "21916 21917 "
       ]
      },
      {
       "output_type": "stream",
       "stream": "stderr",
       "text": [
        "21918 21919 "
       ]
      },
      {
       "output_type": "stream",
       "stream": "stderr",
       "text": [
        "21920 21921 "
       ]
      },
      {
       "output_type": "stream",
       "stream": "stderr",
       "text": [
        "21922 21923 "
       ]
      },
      {
       "output_type": "stream",
       "stream": "stderr",
       "text": [
        "21924 21925 "
       ]
      },
      {
       "output_type": "stream",
       "stream": "stderr",
       "text": [
        "21926 21927 "
       ]
      },
      {
       "output_type": "stream",
       "stream": "stderr",
       "text": [
        "21928 21929 "
       ]
      },
      {
       "output_type": "stream",
       "stream": "stderr",
       "text": [
        "21930 21931 "
       ]
      },
      {
       "output_type": "stream",
       "stream": "stderr",
       "text": [
        "21932 21933 "
       ]
      },
      {
       "output_type": "stream",
       "stream": "stderr",
       "text": [
        "21934 21935 "
       ]
      },
      {
       "output_type": "stream",
       "stream": "stderr",
       "text": [
        "21936 21937 "
       ]
      },
      {
       "output_type": "stream",
       "stream": "stderr",
       "text": [
        "21938 21939 "
       ]
      },
      {
       "output_type": "stream",
       "stream": "stderr",
       "text": [
        "21940 21941 "
       ]
      },
      {
       "output_type": "stream",
       "stream": "stderr",
       "text": [
        "21942 21943 "
       ]
      },
      {
       "output_type": "stream",
       "stream": "stderr",
       "text": [
        "21944 21945 "
       ]
      },
      {
       "output_type": "stream",
       "stream": "stderr",
       "text": [
        "21946 21947 "
       ]
      },
      {
       "output_type": "stream",
       "stream": "stderr",
       "text": [
        "21948 21949 "
       ]
      },
      {
       "output_type": "stream",
       "stream": "stderr",
       "text": [
        "21950 21951 "
       ]
      },
      {
       "output_type": "stream",
       "stream": "stderr",
       "text": [
        "21952 21953 "
       ]
      },
      {
       "output_type": "stream",
       "stream": "stderr",
       "text": [
        "21954 21955 "
       ]
      },
      {
       "output_type": "stream",
       "stream": "stderr",
       "text": [
        "21956 21957 "
       ]
      },
      {
       "output_type": "stream",
       "stream": "stderr",
       "text": [
        "21958 21959 "
       ]
      },
      {
       "output_type": "stream",
       "stream": "stderr",
       "text": [
        "21960 21961 "
       ]
      },
      {
       "output_type": "stream",
       "stream": "stderr",
       "text": [
        "21962 21963 "
       ]
      },
      {
       "output_type": "stream",
       "stream": "stderr",
       "text": [
        "21964 21965 "
       ]
      },
      {
       "output_type": "stream",
       "stream": "stderr",
       "text": [
        "21966 21967 "
       ]
      },
      {
       "output_type": "stream",
       "stream": "stderr",
       "text": [
        "21968 21969 "
       ]
      },
      {
       "output_type": "stream",
       "stream": "stderr",
       "text": [
        "21970 21971 "
       ]
      },
      {
       "output_type": "stream",
       "stream": "stderr",
       "text": [
        "21972 21973 "
       ]
      },
      {
       "output_type": "stream",
       "stream": "stderr",
       "text": [
        "21974 21975 "
       ]
      },
      {
       "output_type": "stream",
       "stream": "stderr",
       "text": [
        "21976 21977 "
       ]
      },
      {
       "output_type": "stream",
       "stream": "stderr",
       "text": [
        "21978 21979 "
       ]
      },
      {
       "output_type": "stream",
       "stream": "stderr",
       "text": [
        "21980 21981 "
       ]
      },
      {
       "output_type": "stream",
       "stream": "stderr",
       "text": [
        "21982 21983 "
       ]
      },
      {
       "output_type": "stream",
       "stream": "stderr",
       "text": [
        "21984 21985 "
       ]
      },
      {
       "output_type": "stream",
       "stream": "stderr",
       "text": [
        "21986 21987 "
       ]
      },
      {
       "output_type": "stream",
       "stream": "stderr",
       "text": [
        "21988 21989 "
       ]
      },
      {
       "output_type": "stream",
       "stream": "stderr",
       "text": [
        "21990 21991 "
       ]
      },
      {
       "output_type": "stream",
       "stream": "stderr",
       "text": [
        "21992 21993 "
       ]
      },
      {
       "output_type": "stream",
       "stream": "stderr",
       "text": [
        "21994 21995 "
       ]
      },
      {
       "output_type": "stream",
       "stream": "stderr",
       "text": [
        "21996 21997 "
       ]
      },
      {
       "output_type": "stream",
       "stream": "stderr",
       "text": [
        "21998 21999 "
       ]
      },
      {
       "output_type": "stream",
       "stream": "stderr",
       "text": [
        "22000 22001 "
       ]
      },
      {
       "output_type": "stream",
       "stream": "stderr",
       "text": [
        "22002 22003 "
       ]
      },
      {
       "output_type": "stream",
       "stream": "stderr",
       "text": [
        "22004 22005 "
       ]
      },
      {
       "output_type": "stream",
       "stream": "stderr",
       "text": [
        "22006 22007 "
       ]
      },
      {
       "output_type": "stream",
       "stream": "stderr",
       "text": [
        "22008 22009 "
       ]
      },
      {
       "output_type": "stream",
       "stream": "stderr",
       "text": [
        "22010 22011 "
       ]
      },
      {
       "output_type": "stream",
       "stream": "stderr",
       "text": [
        "22012 22013 "
       ]
      },
      {
       "output_type": "stream",
       "stream": "stderr",
       "text": [
        "22014 22015 "
       ]
      },
      {
       "output_type": "stream",
       "stream": "stderr",
       "text": [
        "22016 22017 "
       ]
      },
      {
       "output_type": "stream",
       "stream": "stderr",
       "text": [
        "22018 22019 "
       ]
      },
      {
       "output_type": "stream",
       "stream": "stderr",
       "text": [
        "22020 22021 "
       ]
      }
     ],
     "prompt_number": "*"
    },
    {
     "cell_type": "code",
     "collapsed": false,
     "input": [
      "top_matches_dates = get_top_matches_dates( data_list_of_dicts, target_top_matches_jaccard )\n",
      "len( top_matches_dates)"
     ],
     "language": "python",
     "metadata": {},
     "outputs": [
      {
       "output_type": "pyout",
       "prompt_number": 45,
       "text": [
        "39"
       ]
      }
     ],
     "prompt_number": 45
    },
    {
     "cell_type": "code",
     "collapsed": false,
     "input": [
      "data = gen_graph_data( top_matches_dates, data_list_of_dicts )"
     ],
     "language": "python",
     "metadata": {},
     "outputs": [
      {
       "output_type": "stream",
       "stream": "stdout",
       "text": [
        "195264\n",
        "195290\n",
        "2\n"
       ]
      }
     ],
     "prompt_number": 29
    },
    {
     "cell_type": "code",
     "collapsed": false,
     "input": [
      "len(data)"
     ],
     "language": "python",
     "metadata": {},
     "outputs": [
      {
       "output_type": "pyout",
       "prompt_number": 27,
       "text": [
        "231"
       ]
      }
     ],
     "prompt_number": 27
    },
    {
     "cell_type": "code",
     "collapsed": false,
     "input": [
      "# Graph cell\n",
      "#data = filtered_data\n",
      "data = data\n",
      "plot_data(data)"
     ],
     "language": "python",
     "metadata": {},
     "outputs": [
      {
       "output_type": "display_data",
       "png": "[encoded data removed]"
      }
     ],
     "prompt_number": 24
    },
    {
     "cell_type": "code",
     "collapsed": false,
     "input": [
      "idx = sorted( list( target_indices ) )[77]\n",
      "#print data_list_of_dicts[idx]\n",
      "matches = get_matches( idx, target_top_matches_jaccard)\n",
      "\n",
      "for query_idx in range( idx, idx+20 ):\n",
      "    matches = get_matches( query_idx, target_top_matches_jaccard)\n",
      "    for i in matches:\n",
      "        issued_date = data_list_of_dicts[i]['IssuedOn']\n",
      "        if \"2008-09\" in issued_date:\n",
      "            #print query_idx, issued_date, data_list_of_dicts[i]['bill_version'], data_list_of_dicts[i]['sec_sequence'], data_list_of_dicts[i]['text']\n",
      "            print data_list_of_dicts[query_idx]['text']\n",
      "    print\n"
     ],
     "language": "python",
     "metadata": {},
     "outputs": [
      {
       "ename": "IndexError",
       "evalue": "list index out of range",
       "output_type": "pyerr",
       "traceback": [
        "\u001b[0;31m---------------------------------------------------------------------------\u001b[0m\n\u001b[0;31mIndexError\u001b[0m                                Traceback (most recent call last)",
        "\u001b[0;32m<ipython-input-40-75f2893b691d>\u001b[0m in \u001b[0;36m<module>\u001b[0;34m()\u001b[0m\n\u001b[0;32m----> 1\u001b[0;31m \u001b[0midx\u001b[0m \u001b[0;34m=\u001b[0m \u001b[0msorted\u001b[0m\u001b[0;34m(\u001b[0m \u001b[0mlist\u001b[0m\u001b[0;34m(\u001b[0m \u001b[0mtarget_indices\u001b[0m \u001b[0;34m)\u001b[0m \u001b[0;34m)\u001b[0m\u001b[0;34m[\u001b[0m\u001b[0;36m77\u001b[0m\u001b[0;34m]\u001b[0m\u001b[0;34m\u001b[0m\u001b[0m\n\u001b[0m\u001b[1;32m      2\u001b[0m \u001b[0;31m#print data_list_of_dicts[idx]\u001b[0m\u001b[0;34m\u001b[0m\u001b[0;34m\u001b[0m\u001b[0m\n\u001b[1;32m      3\u001b[0m \u001b[0mmatches\u001b[0m \u001b[0;34m=\u001b[0m \u001b[0mget_matches\u001b[0m\u001b[0;34m(\u001b[0m \u001b[0midx\u001b[0m\u001b[0;34m,\u001b[0m \u001b[0mtarget_top_matches_jaccard\u001b[0m\u001b[0;34m)\u001b[0m\u001b[0;34m\u001b[0m\u001b[0m\n\u001b[1;32m      4\u001b[0m \u001b[0;34m\u001b[0m\u001b[0m\n\u001b[1;32m      5\u001b[0m \u001b[0;32mfor\u001b[0m \u001b[0mquery_idx\u001b[0m \u001b[0;32min\u001b[0m \u001b[0mrange\u001b[0m\u001b[0;34m(\u001b[0m \u001b[0midx\u001b[0m\u001b[0;34m,\u001b[0m \u001b[0midx\u001b[0m\u001b[0;34m+\u001b[0m\u001b[0;36m20\u001b[0m \u001b[0;34m)\u001b[0m\u001b[0;34m:\u001b[0m\u001b[0;34m\u001b[0m\u001b[0m\n",
        "\u001b[0;31mIndexError\u001b[0m: list index out of range"
       ]
      }
     ],
     "prompt_number": 40
    },
    {
     "cell_type": "code",
     "collapsed": false,
     "input": [
      "with open( '/home/dlarochelle/Dropbox/unshared/data/processed/tarp_results.pkl' ) as f:\n",
      "    tarp_results = cPickle.load( f )\n",
      "len( tarp_results)\n"
     ],
     "language": "python",
     "metadata": {},
     "outputs": [
      {
       "output_type": "pyout",
       "prompt_number": 17,
       "text": [
        "246"
       ]
      }
     ],
     "prompt_number": 17
    },
    {
     "cell_type": "code",
     "collapsed": false,
     "input": [
      "def get_matches( target_idx, target_top_matches_jaccard ):\n",
      "    d  = dict( target_top_matches_jaccard )\n",
      "    return [ i[0] for i in d[target_idx] if i[1] > 0.7 ]    \n"
     ],
     "language": "python",
     "metadata": {},
     "outputs": [],
     "prompt_number": 14
    },
    {
     "cell_type": "code",
     "collapsed": false,
     "input": [
      "import collections\n",
      "collections.Counter( [ i[1] for i in data ] )"
     ],
     "language": "python",
     "metadata": {},
     "outputs": [
      {
       "output_type": "pyout",
       "prompt_number": 15,
       "text": [
        "Counter({'13': 44, '23': 38, '39': 26, '3': 17, '32': 11, '37': 10, '24': 9, '17': 6, '26': 5, '25': 4, '15': 4, '14': 4, '16': 4, '27': 3, '22': 3, '28': 3, '29': 3, '7': 3, '31': 3, '30': 3, '35': 3, '2': 2, '5': 2, '4': 2, '6': 2, '8': 2, '11': 2, '12': 2, '20': 1, '21': 1, '1': 1, '9': 1, '38': 1, '10': 1, '19': 1, '18': 1, '36': 1, '34': 1, '33': 1})"
       ]
      }
     ],
     "prompt_number": 15
    },
    {
     "cell_type": "code",
     "collapsed": false,
     "input": [
      "import cPickle\n",
      "import utils_text\n",
      "reload( utils_text )\n",
      "\n",
      "with open( '../../../../interactiveml/labelcli/outputs/query_match_results.pkl.bak' ) as f:\n",
      "    query_match_results = cPickle.load( f )\n",
      "\n",
      "with open( './query_match.pkl' ) as f:\n",
      "    query_match = cPickle.load( f )\n",
      "\n",
      "query_indices = [i[0] for i in query_match ]\n",
      "#print len( query_indices )\n",
      "#print len( query_match_results )\n",
      "indices_results_dict = dict( zip( query_indices, query_match_results ) )\n",
      "\n",
      "lengths_jaccards = []\n",
      "\n",
      "for index, ( query_text, match_text ) in query_match:\n",
      "    length = len( query_text.split() )\n",
      "    query_text_set = set( query_text.split() )\n",
      "    match_text_set = set( match_text.split() )\n",
      "    jaccard = utils_text.jaccard( query_text_set, match_text_set )\n",
      "    lengths_jaccards.append( (length, jaccard) )\n"
     ],
     "language": "python",
     "metadata": {},
     "outputs": [],
     "prompt_number": 57
    },
    {
     "cell_type": "code",
     "collapsed": false,
     "input": [
      "for query_idx, matches in top_matches_dates:\n",
      "    if int( data_list_of_dicts[query_idx]['sec_sequence'] ) in set( range(80,100)):\n",
      "        print matches\n",
      "                                     "
     ],
     "language": "python",
     "metadata": {},
     "outputs": [
      {
       "output_type": "stream",
       "stream": "stdout",
       "text": [
        "[(252089, '2009-02-07'), (252359, '2009-02-10'), (253904, '2009-02-10'), (154784, '2009-01-27'), (253121, '0000-00-00'), (253668, '2009-01-30'), (206524, '2009-01-16'), (206606, '2009-01-27'), (235864, '2009-01-22'), (235928, '2009-01-27'), (252737, '2009-01-28'), (252975, '2009-01-29'), (253540, '2009-01-26')]\n",
        "[(252090, '2009-02-07'), (252360, '2009-02-10'), (253905, '2009-02-10')]\n",
        "[(154785, '2009-01-27'), (252091, '2009-02-07'), (252361, '2009-02-10'), (253122, '0000-00-00'), (253669, '2009-01-30'), (253906, '2009-02-10'), (206525, '2009-01-16'), (206607, '2009-01-27'), (235865, '2009-01-22'), (235929, '2009-01-27'), (252738, '2009-01-28'), (252976, '2009-01-29'), (253541, '2009-01-26'), (68145, '2008-06-24'), (93678, '2008-09-15')]\n",
        "[(252092, '2009-02-07'), (252362, '2009-02-10'), (253907, '2009-02-10'), (154786, '2009-01-27'), (253670, '2009-01-30'), (206526, '2009-01-16'), (206608, '2009-01-27'), (235866, '2009-01-22'), (235930, '2009-01-27'), (252739, '2009-01-28'), (252977, '2009-01-29'), (253542, '2009-01-26'), (68146, '2008-06-24'), (39151, '2007-05-21'), (253123, '0000-00-00')]\n",
        "[(252093, '2009-02-07'), (252363, '2009-02-10'), (253908, '2009-02-10'), (154787, '2009-01-27'), (253671, '2009-01-30'), (206527, '2009-01-16'), (206609, '2009-01-27'), (235867, '2009-01-22'), (235931, '2009-01-27'), (252740, '2009-01-28'), (252978, '2009-01-29'), (253124, '0000-00-00'), (253543, '2009-01-26')]\n",
        "[(154788, '2009-01-27'), (252094, '2009-02-07'), (252364, '2009-02-10'), (253672, '2009-01-30'), (253909, '2009-02-10'), (206533, '2009-01-16'), (206615, '2009-01-27'), (235873, '2009-01-22'), (235937, '2009-01-27'), (252747, '2009-01-28'), (252985, '2009-01-29'), (253550, '2009-01-26'), (93685, '2008-09-15'), (253125, '0000-00-00'), (68148, '2008-06-24')]\n",
        "[(154789, '2009-01-27'), (252095, '2009-02-07'), (252365, '2009-02-10'), (253673, '2009-01-30'), (253910, '2009-02-10'), (206534, '2009-01-16'), (206616, '2009-01-27'), (235874, '2009-01-22'), (235938, '2009-01-27'), (253126, '0000-00-00'), (252748, '2009-01-28'), (252986, '2009-01-29'), (253551, '2009-01-26')]\n",
        "[(154790, '2009-01-27'), (252096, '2009-02-07'), (252366, '2009-02-10'), (253674, '2009-01-30'), (253911, '2009-02-10'), (235875, '2009-01-22'), (235939, '2009-01-27'), (253127, '0000-00-00'), (206535, '2009-01-16'), (206617, '2009-01-27'), (252749, '2009-01-28'), (252987, '2009-01-29'), (253552, '2009-01-26'), (93687, '2008-09-15'), (68150, '2008-06-24')]\n",
        "[(154791, '2009-01-27'), (252097, '2009-02-07'), (252367, '2009-02-10'), (253128, '0000-00-00'), (253675, '2009-01-30'), (253912, '2009-02-10'), (206536, '2009-01-16'), (206618, '2009-01-27'), (235876, '2009-01-22'), (235940, '2009-01-27'), (252750, '2009-01-28'), (252988, '2009-01-29'), (253553, '2009-01-26')]\n",
        "[(154792, '2009-01-27'), (252098, '2009-02-07'), (252368, '2009-02-10'), (253129, '0000-00-00'), (253676, '2009-01-30'), (253913, '2009-02-10'), (206537, '2009-01-16'), (206619, '2009-01-27'), (235877, '2009-01-22'), (235941, '2009-01-27'), (252751, '2009-01-28'), (252989, '2009-01-29'), (253554, '2009-01-26'), (93689, '2008-09-15'), (68152, '2008-06-24')]\n",
        "[(252099, '2009-02-07'), (252369, '2009-02-10'), (253914, '2009-02-10'), (154793, '2009-01-27'), (253677, '2009-01-30'), (206538, '2009-01-16'), (206620, '2009-01-27'), (235878, '2009-01-22'), (235942, '2009-01-27'), (253130, '0000-00-00'), (252752, '2009-01-28'), (252990, '2009-01-29'), (253555, '2009-01-26')]\n",
        "[(252100, '2009-02-07'), (252370, '2009-02-10'), (253915, '2009-02-10'), (154794, '2009-01-27'), (253678, '2009-01-30'), (206539, '2009-01-16'), (206621, '2009-01-27'), (235879, '2009-01-22'), (235943, '2009-01-27'), (252753, '2009-01-28'), (252991, '2009-01-29'), (253556, '2009-01-26')]\n",
        "[(252101, '2009-02-07'), (252371, '2009-02-10'), (253916, '2009-02-10'), (154795, '2009-01-27'), (253679, '2009-01-30'), (206540, '2009-01-16'), (206622, '2009-01-27'), (235880, '2009-01-22'), (235944, '2009-01-27'), (252754, '2009-01-28'), (252992, '2009-01-29'), (253557, '2009-01-26'), (253132, '0000-00-00'), (93693, '2008-09-15')]\n",
        "[(154796, '2009-01-27'), (252102, '2009-02-07'), (252372, '2009-02-10'), (253133, '0000-00-00'), (253680, '2009-01-30'), (253917, '2009-02-10'), (206541, '2009-01-16'), (206623, '2009-01-27'), (235881, '2009-01-22'), (235945, '2009-01-27'), (252755, '2009-01-28'), (252993, '2009-01-29'), (253558, '2009-01-26')]\n",
        "[(154797, '2009-01-27'), (252103, '2009-02-07'), (252373, '2009-02-10'), (253134, '0000-00-00'), (253681, '2009-01-30'), (253918, '2009-02-10'), (206542, '2009-01-16'), (206624, '2009-01-27'), (235882, '2009-01-22'), (235946, '2009-01-27'), (252756, '2009-01-28'), (252994, '2009-01-29'), (253559, '2009-01-26'), (93697, '2008-09-15'), (68160, '2008-06-24')]\n",
        "[(154798, '2009-01-27'), (252104, '2009-02-07'), (252374, '2009-02-10'), (253682, '2009-01-30'), (253919, '2009-02-10'), (206543, '2009-01-16'), (206625, '2009-01-27'), (235883, '2009-01-22'), (235947, '2009-01-27'), (252757, '2009-01-28'), (252995, '2009-01-29'), (253560, '2009-01-26'), (253135, '0000-00-00')]\n",
        "[(154799, '2009-01-27'), (252105, '2009-02-07'), (252375, '2009-02-10'), (253683, '2009-01-30'), (253920, '2009-02-10'), (206544, '2009-01-16'), (206626, '2009-01-27'), (235884, '2009-01-22'), (253136, '0000-00-00'), (235948, '2009-01-27'), (252758, '2009-01-28')]\n",
        "[(154800, '2009-01-27'), (252106, '2009-02-07'), (252376, '2009-02-10'), (253684, '2009-01-30'), (253921, '2009-02-10'), (206545, '2009-01-16'), (206627, '2009-01-27'), (235885, '2009-01-22'), (235951, '2009-01-27'), (252760, '2009-01-28'), (252998, '2009-01-29'), (253563, '2009-01-26'), (68161, '2008-06-24'), (93703, '2008-09-15')]\n",
        "[(154801, '2009-01-27'), (252107, '2009-02-07'), (252377, '2009-02-10'), (253138, '0000-00-00'), (253685, '2009-01-30'), (253922, '2009-02-10'), (206546, '2009-01-16'), (206628, '2009-01-27'), (235886, '2009-01-22'), (235952, '2009-01-27'), (252761, '2009-01-28'), (252999, '2009-01-29'), (253564, '2009-01-26'), (93704, '2008-09-15')]\n",
        "[(154802, '2009-01-27'), (252108, '2009-02-07'), (252378, '2009-02-10'), (253139, '0000-00-00'), (253686, '2009-01-30'), (253923, '2009-02-10'), (206547, '2009-01-16'), (206629, '2009-01-27'), (235887, '2009-01-22'), (235953, '2009-01-27'), (252762, '2009-01-28'), (253000, '2009-01-29'), (253565, '2009-01-26')]\n"
       ]
      }
     ],
     "prompt_number": 54
    },
    {
     "cell_type": "code",
     "collapsed": false,
     "input": [
      "print data_list_of_dicts[93685]"
     ],
     "language": "python",
     "metadata": {},
     "outputs": [
      {
       "output_type": "stream",
       "stream": "stdout",
       "text": [
        "{'IssuedOn': '2008-09-15', 'bill_version': 'hr6898-110-ih', 'sec_sequence': '20', 'SecCount': '40', 'BillVer': 'ih', 'sec_id': '213390', 'text': \"SEC. 400. DEFINITIONS.    In this title, except as specified otherwise:            (1) Breach.--The term ``breach'' means the unauthorized         acquisition, access, or disclosure of protected health         information which compromises the security, privacy, or         integrity of protected health information maintained by or on         behalf of a person. Such term does not include any         unintentional acquisition or access of such information by an         employee or agent of the covered entity or business associate         involved if such acquisition or access, respectively, was made         in good faith and within the course and scope of the employment         or other contractual relationship of such employee or agent,         respectively, with the covered entity or business associate and         if such information is not further acquired, accessed, or         disclosed by such employee or agent.            (2) Business associate.--The term ``business associate''         has the meaning given such term in section 160.103 of title 45,         Code of Federal Regulations.            (3) Covered entity.--The term ``covered entity'' has the         meaning given such term in section 160.103 of title 45, Code of         Federal Regulations.            (4) Disclose.--The terms ``disclose'' and ``disclosure''         have the meaning given the term ``disclosure'' in section         160.103 of title 45, Code of Federal Regulations.            (5) Electronic health record.--The term ``electronic health         record'' means an electronic record of health-related         information on an individual that is created, gathered,         managed, and consulted by authorized health care clinicians and         staff of one or more organizations, that conforms to standards         adopted under section 3003(a) of the Public Health Service Act,         as added by section 101, and is made accessible electronically         to other health care organizations and other authorized users.            (6) Electronic medical record.--The term ``electronic         medical record'' means an electronic record of individually         identifiable health information on an individual that is         created, gathered, managed, and consulted by authorized health         care clinicians and staff within a single organization.            (7) Health care operations.--The term ``health care         operation'' has the meaning given such term in section 164.501         of title 45, Code of Federal Regulations.            (8) Health care provider.--The term ``health care         provider'' has the meaning given such term in section 160.103         of title 45, Code of Federal Regulations.            (9) Health plan.--The term ``health plan'' has the meaning         given such term in section 1171(5) of the Social Security Act,         as amended by section 415.            (10) National coordinator.--The term ``National         Coordinator'' means the head of the Office of the National         Coordinator for Health Information Technology established under         section 3001(a) of the Public Health Service Act, as added by         section 101.            (11) Payment.--The term ``payment'' has the meaning given         such term in section 164.501 of title 45, Code of Federal         Regulations.            (12) Personal health record.--The term ``personal health         record'' means an electronic record of individually         identifiable health information on an individual that can be         drawn from multiple sources and that is managed, shared, and         controlled by or for the individual.            (13) Protected health information.--The term ``protected         health information'' has the meaning given such term in section         160.103 of title 45, Code of Federal Regulations.            (14) Secretary.--The term ``Secretary'' means the Secretary         of Health and Human Services.            (15) Security.--The term ``security'' has the meaning given         such term in section 164.304 of title 45, Code of Federal         Regulations.            (16) State.--The term ``State'' means each of the several         States, the District of Columbia, Puerto Rico, the Virgin         Islands, Guam, American Samoa, and the Northern Mariana         Islands.            (17) Treatment.--The term ``treatment'' has the meaning         given such term in section 164.501 of title 45, Code of Federal         Regulations.            (18) Use.--The term ``use'' has the meaning given such term         in section 160.103 of title 45, Code of Federal Regulations.            (19) Vendor of personal health records.--The term ``vendor         of personal health records'' means an entity that offers or         maintains a personal health record. Such term does not include         an entity that is a covered entity for purposes of offering or         maintaining such personal health record.    Subtitle A--Improved Privacy Provisions and Security Provisions\", 'Bill_id': '443100', 'Cong': '110', 'sec_length': '5113', 'bill_ver_id': '23732', 'BillNum': '6898', 'BillType': 'hr'}\n"
       ]
      }
     ],
     "prompt_number": 55
    }
   ],
   "metadata": {}
  }
 ]
}