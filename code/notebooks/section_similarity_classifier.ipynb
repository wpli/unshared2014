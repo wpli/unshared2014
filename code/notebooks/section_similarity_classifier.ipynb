{
 "metadata": {
  "name": ""
 },
 "nbformat": 3,
 "nbformat_minor": 0,
 "worksheets": [
  {
   "cells": [
    {
     "cell_type": "code",
     "collapsed": false,
     "input": [
      "import os, sys\n",
      "import csv\n",
      "import datetime\n",
      "import dateutil\n",
      "data_path = '../../data/unshared-task-poliinformatics-2014-v1.0/CongressionalBills'\n",
      "bills = [ i for i in os.listdir( data_path ) if \".txt\" in i ]\n",
      "sys.path.append( '../utils' )"
     ],
     "language": "python",
     "metadata": {},
     "outputs": [],
     "prompt_number": 1
    },
    {
     "cell_type": "code",
     "collapsed": false,
     "input": [
      "import cPickle\n",
      "import utils_text\n",
      "reload( utils_text )\n",
      "\n",
      "with open( '../../../../interactiveml/labelcli/outputs/query_match_results.pkl.bak' ) as f:\n",
      "    query_match_results = cPickle.load( f )\n",
      "\n",
      "with open( './query_match.pkl' ) as f:\n",
      "    query_match = cPickle.load( f )\n",
      "\n",
      "query_indices = [i[0] for i in query_match ]\n",
      "#print len( query_indices )\n",
      "#print len( query_match_results )\n",
      "indices_results_dict = dict( zip( query_indices, query_match_results ) )\n",
      "\n",
      "lengths_jaccards = []\n",
      "\n",
      "for index, ( query_text, match_text ) in query_match:\n",
      "    length = len( query_text.split() )\n",
      "    query_text_set = set( query_text.split() )\n",
      "    match_text_set = set( match_text.split() )\n",
      "    jaccard = utils_text.jaccard( query_text_set, match_text_set )\n",
      "    lengths_jaccards.append( (length, jaccard) )\n"
     ],
     "language": "python",
     "metadata": {},
     "outputs": [],
     "prompt_number": 2
    },
    {
     "cell_type": "code",
     "collapsed": false,
     "input": [
      "negatives = []\n",
      "positives = []\n",
      "negatives = [ i for (idx, i) in enumerate( lengths_jaccards ) if query_match_results[idx] == '0' ]\n",
      "positives = [ i for (idx, i) in enumerate( lengths_jaccards ) if query_match_results[idx] == '1' ]\n",
      "\n",
      "scatter( *zip(*negatives), c='r', marker='x' )\n",
      "scatter( *zip(*positives), c='b', marker='o' )\n",
      "xlabel( \"Length (words)\" )\n",
      "ylabel( \"Jaccard Index\" )"
     ],
     "language": "python",
     "metadata": {},
     "outputs": [
      {
       "metadata": {},
       "output_type": "pyout",
       "prompt_number": 3,
       "text": [
        "<matplotlib.text.Text at 0x105c4bf10>"
       ]
      },
      {
       "metadata": {},
       "output_type": "display_data",
       "png": "[encoded data removed]",
       "text": [
        "<matplotlib.figure.Figure at 0x105c0d9d0>"
       ]
      }
     ],
     "prompt_number": 3
    },
    {
     "cell_type": "code",
     "collapsed": false,
     "input": [
      "from sklearn import linear_model\n",
      "from sklearn import ensemble\n",
      "\n",
      "X_neg = negatives\n",
      "X_pos = positives\n",
      "X = numpy.array( X_neg + X_pos )\n",
      "Y = [ 0 ] * len( X_neg ) + [1]*len(X_pos)\n",
      "#clf = ensemble.RandomForestClassifier()\n",
      "clf = linear_model.LogisticRegression()\n",
      "clf.fit(X, Y)"
     ],
     "language": "python",
     "metadata": {},
     "outputs": [
      {
       "metadata": {},
       "output_type": "pyout",
       "prompt_number": 18,
       "text": [
        "LogisticRegression(C=1.0, class_weight=None, dual=False, fit_intercept=True,\n",
        "          intercept_scaling=1, penalty='l2', random_state=None, tol=0.0001)"
       ]
      }
     ],
     "prompt_number": 18
    },
    {
     "cell_type": "code",
     "collapsed": false,
     "input": [
      "predictions = clf.predict( X )\n",
      "print clf.coef_\n",
      "print predictions\n",
      "print numpy.array(Y)"
     ],
     "language": "python",
     "metadata": {},
     "outputs": [
      {
       "output_type": "stream",
       "stream": "stdout",
       "text": [
        "[[  1.69200152e-04   2.11419316e+00]]\n",
        "[0 0 0 0 0 0 0 0 0 0 0 0 0 0 0 0 0 0 0 0 0 0 0 0 0 0 0 0 0 0 0 0 0 0 0 0 0\n",
        " 0 0 0 0 0 0 0 0 0 0 0 0 0 0 0 0 0 0 0 0 0 0 0 0 0 0 0 0 0 0 0 0 0 0 0 0 0\n",
        " 0 0 0 0 0 0 0 0 0 0 0 0 0 0 0 0 0 0 0 0 0 0 0 0 0 0 0 0 0 0 0 0 0 0 0 0 0\n",
        " 0 0 0 0 0 0 0 0 0 0 0 0 0 0 0 0 0 0 0 0 0 0 0 0 0 0 0 0 0 0 0 0 0 0 0 0 0\n",
        " 0 0 0 0 0 0 0 0 0 0 0 0 0 0 0 0 0 0 0 0 0 0 0 0 0 0 0 0 0 0 0 0 0 0 0 0 0\n",
        " 0 0 0 0 0 0 0 0 0 0 0 0 0 0 0 0 0 0 0 0 0 0 0 1 1 1 1 1 1 1 1 1 0 0 0 0 0\n",
        " 0 0 0 0 0 0 0 0 0 0 0 0 0 0 0 0 0 0 0 0 0 0 0 0]\n",
        "[0 0 0 0 0 0 0 0 0 0 0 0 0 0 0 0 0 0 0 0 0 0 0 0 0 0 0 0 0 0 0 0 0 0 0 0 0\n",
        " 0 0 0 0 0 0 0 0 0 0 0 0 0 0 0 0 0 0 0 0 0 0 0 0 0 0 0 0 0 0 0 0 0 0 0 0 0\n",
        " 0 0 0 0 0 0 0 0 0 0 0 0 0 0 0 0 0 0 0 0 0 0 0 0 0 0 0 0 0 0 0 0 0 0 0 0 0\n",
        " 0 0 0 0 0 0 0 0 0 0 0 0 0 0 0 0 0 0 0 0 0 0 0 0 0 0 0 0 0 0 0 0 0 0 0 0 0\n",
        " 0 0 0 0 0 0 0 0 0 0 0 0 0 0 0 0 0 0 0 0 0 0 0 0 1 1 1 1 1 1 1 1 1 1 1 1 1\n",
        " 1 1 1 1 1 1 1 1 1 1 1 1 1 1 1 1 1 1 1 1 1 1 1 1 1 1 1 1 1 1 1 1 1 1 1 1 1\n",
        " 1 1 1 1 1 1 1 1 1 1 1 1 1 1 1 1 1 1 1 1 1 1 1 1]\n"
       ]
      }
     ],
     "prompt_number": 20
    }
   ],
   "metadata": {}
  }
 ]
}