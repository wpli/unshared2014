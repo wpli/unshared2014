{
 "metadata": {
  "name": ""
 },
 "nbformat": 3,
 "nbformat_minor": 0,
 "worksheets": [
  {
   "cells": [
    {
     "cell_type": "markdown",
     "metadata": {},
     "source": [
      "Advantages:\n",
      "\n",
      "* heterogeneous data (features measured on different scale)\n",
      "* supports different loss functions (e.g. ranking)\n",
      "* autoamtically detects (non-linear) feature interactions\n",
      "\n",
      "Disadvantages:\n",
      "\n",
      "* careful tuning\n",
      "* slow to train (but fast to predict)\n",
      "* cannot extrapolate (this is a property of all tree-based methods\n",
      "\n"
     ]
    },
    {
     "cell_type": "markdown",
     "metadata": {},
     "source": [
      "AdaBoost: boosting\n",
      "\n",
      "Gradient Boosting: fit to the residual!"
     ]
    },
    {
     "cell_type": "code",
     "collapsed": false,
     "input": [
      "from sklearn import ensemble\n",
      "from sklearn.datasets import make_hastie_10_2\n",
      "X, y = make_hastie_10_2(n_samples=10000)"
     ],
     "language": "python",
     "metadata": {},
     "outputs": [],
     "prompt_number": 3
    },
    {
     "cell_type": "code",
     "collapsed": false,
     "input": [
      "est = ensemble.GradientBoostingClassifier( n_estimators=200, max_depth=3 )\n",
      "est.fit( X,y )"
     ],
     "language": "python",
     "metadata": {},
     "outputs": [
      {
       "metadata": {},
       "output_type": "pyout",
       "prompt_number": 4,
       "text": [
        "GradientBoostingClassifier(init=None, learning_rate=0.1, loss='deviance',\n",
        "              max_depth=3, max_features=None, min_samples_leaf=1,\n",
        "              min_samples_split=2, n_estimators=200, random_state=None,\n",
        "              subsample=1.0, verbose=0)"
       ]
      }
     ],
     "prompt_number": 4
    },
    {
     "cell_type": "code",
     "collapsed": false,
     "input": [
      "pred = est.predict(X)\n",
      "est.predict_proba(X)[0]"
     ],
     "language": "python",
     "metadata": {},
     "outputs": [
      {
       "metadata": {},
       "output_type": "pyout",
       "prompt_number": 5,
       "text": [
        "array([ 0.0470911,  0.9529089])"
       ]
      }
     ],
     "prompt_number": 5
    },
    {
     "cell_type": "code",
     "collapsed": false,
     "input": [
      "# Set n_estimators as high as possible\n",
      "n_estimators = 3000\n",
      "\n",
      "# tune hyperparameters via grid search\n",
      "from sklearn.grid_search import GridSearchCV\n",
      "param_grid = { 'learning_rate': [0.1, 0.02, 0.02, 0.01],\n",
      "                'max_depeth': [4,6],\n",
      "                ''min_samples':\n",
      "                \n",
      "                "
     ],
     "language": "python",
     "metadata": {},
     "outputs": []
    },
    {
     "cell_type": "markdown",
     "metadata": {},
     "source": [
      "GBRT can use mean absolute error"
     ]
    },
    {
     "cell_type": "markdown",
     "metadata": {},
     "source": [
      "Mean, ridge, SVR, RF, GBRT are good comparison baselines"
     ]
    },
    {
     "cell_type": "code",
     "collapsed": false,
     "input": [
      "# Which features are important?\n",
      "est.feature_importances_"
     ],
     "language": "python",
     "metadata": {},
     "outputs": [
      {
       "metadata": {},
       "output_type": "pyout",
       "prompt_number": 7,
       "text": [
        "array([ 0.10256729,  0.09800065,  0.10688602,  0.10197178,  0.09711901,\n",
        "        0.09652448,  0.09928282,  0.09928903,  0.0993788 ,  0.09898012])"
       ]
      }
     ],
     "prompt_number": 7
    },
    {
     "cell_type": "markdown",
     "metadata": {},
     "source": []
    },
    {
     "cell_type": "markdown",
     "metadata": {},
     "source": [
      "Read G. Ridgeway, Generalized Boosted Models, a Guide to the..."
     ]
    },
    {
     "cell_type": "code",
     "collapsed": false,
     "input": [],
     "language": "python",
     "metadata": {},
     "outputs": []
    },
    {
     "cell_type": "markdown",
     "metadata": {},
     "source": []
    },
    {
     "cell_type": "code",
     "collapsed": false,
     "input": [
      "print(__doc__)\n",
      "\n",
      "# Author: Peter Prettenhofer <peter.prettenhofer@gmail.com>\n",
      "#\n",
      "# License: BSD 3 clause\n",
      "\n",
      "import numpy as np\n",
      "import pylab as pl\n",
      "from sklearn import ensemble\n",
      "from sklearn import datasets\n",
      "from sklearn.utils import shuffle\n",
      "from sklearn.metrics import mean_squared_error\n",
      "\n",
      "###############################################################################\n",
      "# Load data\n",
      "boston = datasets.load_boston()\n",
      "X, y = shuffle(boston.data, boston.target, random_state=13)\n",
      "X = X.astype(np.float32)\n",
      "offset = int(X.shape[0] * 0.9)\n",
      "X_train, y_train = X[:offset], y[:offset]\n",
      "X_test, y_test = X[offset:], y[offset:]\n",
      "\n",
      "###############################################################################\n",
      "# Fit regression model\n",
      "params = {'n_estimators': 500, 'max_depth': 4, 'min_samples_split': 1,\n",
      "          'learning_rate': 0.01, 'loss': 'ls'}\n",
      "clf = ensemble.GradientBoostingRegressor(**params)\n",
      "\n",
      "clf.fit(X_train, y_train)\n",
      "mse = mean_squared_error(y_test, clf.predict(X_test))\n",
      "print(\"MSE: %.4f\" % mse)\n",
      "\n",
      "###############################################################################\n",
      "# Plot training deviance\n",
      "\n",
      "# compute test set deviance\n",
      "test_score = np.zeros((params['n_estimators'],), dtype=np.float64)\n",
      "\n",
      "for i, y_pred in enumerate(clf.staged_decision_function(X_test)):\n",
      "    test_score[i] = clf.loss_(y_test, y_pred)\n",
      "\n",
      "pl.figure(figsize=(12, 6))\n",
      "pl.subplot(1, 2, 1)\n",
      "pl.title('Deviance')\n",
      "pl.plot(np.arange(params['n_estimators']) + 1, clf.train_score_, 'b-',\n",
      "        label='Training Set Deviance')\n",
      "pl.plot(np.arange(params['n_estimators']) + 1, test_score, 'r-',\n",
      "        label='Test Set Deviance')\n",
      "pl.legend(loc='upper right')\n",
      "pl.xlabel('Boosting Iterations')\n",
      "pl.ylabel('Deviance')\n",
      "\n",
      "###############################################################################\n",
      "# Plot feature importance\n",
      "feature_importance = clf.feature_importances_\n",
      "# make importances relative to max importance\n",
      "feature_importance = 100.0 * (feature_importance / feature_importance.max())\n",
      "sorted_idx = np.argsort(feature_importance)\n",
      "pos = np.arange(sorted_idx.shape[0]) + .5\n",
      "pl.subplot(1, 2, 2)\n",
      "pl.barh(pos, feature_importance[sorted_idx], align='center')\n",
      "pl.yticks(pos, boston.feature_names[sorted_idx])\n",
      "pl.xlabel('Relative Importance')\n",
      "pl.title('Variable Importance')\n",
      "pl.show()"
     ],
     "language": "python",
     "metadata": {},
     "outputs": [
      {
       "output_type": "stream",
       "stream": "stdout",
       "text": [
        "Built-in functions, exceptions, and other objects.\n",
        "\n",
        "Noteworthy: None is the `nil' object; Ellipsis represents `...' in slices.\n",
        "MSE: 6.6009"
       ]
      },
      {
       "output_type": "stream",
       "stream": "stdout",
       "text": [
        "\n"
       ]
      },
      {
       "metadata": {},
       "output_type": "display_data",
       "png": "[encoded data removed]",
       "text": [
        "<matplotlib.figure.Figure at 0x10792b050>"
       ]
      }
     ],
     "prompt_number": 1
    }
   ],
   "metadata": {}
  }
 ]
}