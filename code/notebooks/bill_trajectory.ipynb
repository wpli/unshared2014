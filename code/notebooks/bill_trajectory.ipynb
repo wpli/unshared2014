{
 "metadata": {
  "name": ""
 },
 "nbformat": 3,
 "nbformat_minor": 0,
 "worksheets": [
  {
   "cells": [
    {
     "cell_type": "code",
     "collapsed": false,
     "input": [
      "import os, sys\n",
      "import csv\n",
      "import datetime\n",
      "import dateutil\n",
      "import cPickle\n",
      "sys.path.append( '../utils' )\n",
      "import utils_text\n",
      "import utils_search\n",
      "data_path = '../../data/unshared-task-poliinformatics-2014-v1.0/CongressionalBills'\n",
      "bills = [ i for i in os.listdir( data_path ) if \".txt\" in i ]\n",
      "sys.path.append( '../utils' )\n",
      "csv.field_size_limit(sys.maxsize)"
     ],
     "language": "python",
     "metadata": {},
     "outputs": [
      {
       "metadata": {},
       "output_type": "pyout",
       "prompt_number": 11,
       "text": [
        "9223372036854775807"
       ]
      }
     ],
     "prompt_number": 11
    },
    {
     "cell_type": "code",
     "collapsed": false,
     "input": [
      "with open( os.path.join( data_path, '110thALL.txt' ) ) as f:\n",
      "    x = f.read().split('\\n')\n",
      "    if x[-1] == '':\n",
      "        del x[-1]"
     ],
     "language": "python",
     "metadata": {},
     "outputs": [],
     "prompt_number": 12
    },
    {
     "cell_type": "code",
     "collapsed": false,
     "input": [
      "full_path = os.path.join( data_path, '110thALL.txt' )\n",
      "data_list = []\n",
      "with open( full_path, 'rb' ) as f:\n",
      "    csvreader = csv.reader( f, delimiter='\\t', quoting=csv.QUOTE_ALL )\n",
      "    for idx, row in enumerate(  csvreader ):\n",
      "        if idx == 0:\n",
      "            header = row\n",
      "        else:    \n",
      "            x = row\n",
      "            data_list.append( row )\n",
      "        #print type(row), \n",
      "        \n",
      "    #for row in csvreader:\n",
      "    #    data.append( row )\n",
      "    \n"
     ],
     "language": "python",
     "metadata": {},
     "outputs": [],
     "prompt_number": 13
    },
    {
     "cell_type": "code",
     "collapsed": false,
     "input": [
      "tarp = [ i for i in data_list_of_dicts if i['bill_version'] == 'hr1424-110-enr' ]"
     ],
     "language": "python",
     "metadata": {},
     "outputs": [],
     "prompt_number": 14
    },
    {
     "cell_type": "markdown",
     "metadata": {},
     "source": [
      "Load the data"
     ]
    },
    {
     "cell_type": "code",
     "collapsed": false,
     "input": [
      "all_vocab = set()\n",
      "reload( utils_text )\n",
      "\n",
      "for idx, i in enumerate( data_list_of_dicts ):\n",
      "    if idx % 1000 == 0:\n",
      "        sys.stderr.write( \"%s \" % idx )\n",
      "    x = i['text'].lower()\n",
      "    text = utils_text.strip_punctuation( x )\n",
      "    word_set = set( text.split() )\n",
      "    all_vocab = all_vocab.union( word_set )\n",
      "import cPickle\n",
      "with open( '../../data/processed/all_vocab.pkl', 'w' ) as f:\n",
      "    cPickle.dump( all_vocab, f )"
     ],
     "language": "python",
     "metadata": {},
     "outputs": []
    },
    {
     "cell_type": "code",
     "collapsed": false,
     "input": [
      "with open( '../../data/processed/all_vocab.pkl' ) as f:\n",
      "    all_vocab = cPickle.load( f )"
     ],
     "language": "python",
     "metadata": {},
     "outputs": [],
     "prompt_number": 15
    },
    {
     "cell_type": "code",
     "collapsed": false,
     "input": [
      "data_list_sets = []\n",
      "for idx, i in enumerate( data_list_of_dicts ):\n",
      "    if idx % 1000 == 0:\n",
      "        sys.stderr.write( \"%s \" % idx )\n",
      "    x = i['text'].lower()\n",
      "    text = utils_text.strip_punctuation( x )\n",
      "    word_set = set( text.split() )\n",
      "    data_list_sets.append( word_set )"
     ],
     "language": "python",
     "metadata": {},
     "outputs": [
      {
       "output_type": "stream",
       "stream": "stderr",
       "text": [
        "0 1000 "
       ]
      },
      {
       "output_type": "stream",
       "stream": "stderr",
       "text": [
        "2000 3000 "
       ]
      },
      {
       "output_type": "stream",
       "stream": "stderr",
       "text": [
        "4000 5000 "
       ]
      },
      {
       "output_type": "stream",
       "stream": "stderr",
       "text": [
        "6000 7000 "
       ]
      },
      {
       "output_type": "stream",
       "stream": "stderr",
       "text": [
        "8000 9000 "
       ]
      },
      {
       "output_type": "stream",
       "stream": "stderr",
       "text": [
        "10000 11000 "
       ]
      },
      {
       "output_type": "stream",
       "stream": "stderr",
       "text": [
        "12000 13000 "
       ]
      },
      {
       "output_type": "stream",
       "stream": "stderr",
       "text": [
        "14000 15000 "
       ]
      },
      {
       "output_type": "stream",
       "stream": "stderr",
       "text": [
        "16000 17000 "
       ]
      },
      {
       "output_type": "stream",
       "stream": "stderr",
       "text": [
        "18000 19000 "
       ]
      },
      {
       "output_type": "stream",
       "stream": "stderr",
       "text": [
        "20000 21000 "
       ]
      },
      {
       "output_type": "stream",
       "stream": "stderr",
       "text": [
        "22000 23000 "
       ]
      },
      {
       "output_type": "stream",
       "stream": "stderr",
       "text": [
        "24000 25000 "
       ]
      },
      {
       "output_type": "stream",
       "stream": "stderr",
       "text": [
        "26000 27000 "
       ]
      },
      {
       "output_type": "stream",
       "stream": "stderr",
       "text": [
        "28000 29000 "
       ]
      },
      {
       "output_type": "stream",
       "stream": "stderr",
       "text": [
        "30000 31000 "
       ]
      },
      {
       "output_type": "stream",
       "stream": "stderr",
       "text": [
        "32000 33000 "
       ]
      },
      {
       "output_type": "stream",
       "stream": "stderr",
       "text": [
        "34000 35000 "
       ]
      },
      {
       "output_type": "stream",
       "stream": "stderr",
       "text": [
        "36000 37000 "
       ]
      },
      {
       "output_type": "stream",
       "stream": "stderr",
       "text": [
        "38000 39000 "
       ]
      },
      {
       "output_type": "stream",
       "stream": "stderr",
       "text": [
        "40000 41000 "
       ]
      },
      {
       "output_type": "stream",
       "stream": "stderr",
       "text": [
        "42000 43000 "
       ]
      },
      {
       "output_type": "stream",
       "stream": "stderr",
       "text": [
        "44000 45000 "
       ]
      },
      {
       "output_type": "stream",
       "stream": "stderr",
       "text": [
        "46000 47000 "
       ]
      },
      {
       "output_type": "stream",
       "stream": "stderr",
       "text": [
        "48000 49000 "
       ]
      },
      {
       "output_type": "stream",
       "stream": "stderr",
       "text": [
        "50000 51000 "
       ]
      },
      {
       "output_type": "stream",
       "stream": "stderr",
       "text": [
        "52000 53000 "
       ]
      },
      {
       "output_type": "stream",
       "stream": "stderr",
       "text": [
        "54000 55000 "
       ]
      },
      {
       "output_type": "stream",
       "stream": "stderr",
       "text": [
        "56000 57000 "
       ]
      },
      {
       "output_type": "stream",
       "stream": "stderr",
       "text": [
        "58000 59000 "
       ]
      },
      {
       "output_type": "stream",
       "stream": "stderr",
       "text": [
        "60000 61000 "
       ]
      },
      {
       "output_type": "stream",
       "stream": "stderr",
       "text": [
        "62000 63000 "
       ]
      },
      {
       "output_type": "stream",
       "stream": "stderr",
       "text": [
        "64000 65000 "
       ]
      },
      {
       "output_type": "stream",
       "stream": "stderr",
       "text": [
        "66000 67000 "
       ]
      },
      {
       "output_type": "stream",
       "stream": "stderr",
       "text": [
        "68000 69000 "
       ]
      },
      {
       "output_type": "stream",
       "stream": "stderr",
       "text": [
        "70000 71000 "
       ]
      },
      {
       "output_type": "stream",
       "stream": "stderr",
       "text": [
        "72000 73000 "
       ]
      },
      {
       "output_type": "stream",
       "stream": "stderr",
       "text": [
        "74000 75000 "
       ]
      },
      {
       "output_type": "stream",
       "stream": "stderr",
       "text": [
        "76000 77000 "
       ]
      },
      {
       "output_type": "stream",
       "stream": "stderr",
       "text": [
        "78000 79000 "
       ]
      },
      {
       "output_type": "stream",
       "stream": "stderr",
       "text": [
        "80000 81000 "
       ]
      },
      {
       "output_type": "stream",
       "stream": "stderr",
       "text": [
        "82000 83000 "
       ]
      },
      {
       "output_type": "stream",
       "stream": "stderr",
       "text": [
        "84000 85000 "
       ]
      },
      {
       "output_type": "stream",
       "stream": "stderr",
       "text": [
        "86000 87000 "
       ]
      },
      {
       "output_type": "stream",
       "stream": "stderr",
       "text": [
        "88000 89000 "
       ]
      },
      {
       "output_type": "stream",
       "stream": "stderr",
       "text": [
        "90000 91000 "
       ]
      },
      {
       "output_type": "stream",
       "stream": "stderr",
       "text": [
        "92000 93000 "
       ]
      },
      {
       "output_type": "stream",
       "stream": "stderr",
       "text": [
        "94000 95000 "
       ]
      },
      {
       "output_type": "stream",
       "stream": "stderr",
       "text": [
        "96000 97000 "
       ]
      },
      {
       "output_type": "stream",
       "stream": "stderr",
       "text": [
        "98000 99000 "
       ]
      },
      {
       "output_type": "stream",
       "stream": "stderr",
       "text": [
        "100000 101000 "
       ]
      },
      {
       "output_type": "stream",
       "stream": "stderr",
       "text": [
        "102000 103000 "
       ]
      },
      {
       "output_type": "stream",
       "stream": "stderr",
       "text": [
        "104000 105000 "
       ]
      },
      {
       "output_type": "stream",
       "stream": "stderr",
       "text": [
        "106000 107000 "
       ]
      },
      {
       "output_type": "stream",
       "stream": "stderr",
       "text": [
        "108000 109000 "
       ]
      },
      {
       "output_type": "stream",
       "stream": "stderr",
       "text": [
        "110000 111000 "
       ]
      },
      {
       "output_type": "stream",
       "stream": "stderr",
       "text": [
        "112000 113000 "
       ]
      },
      {
       "output_type": "stream",
       "stream": "stderr",
       "text": [
        "114000 115000 "
       ]
      },
      {
       "output_type": "stream",
       "stream": "stderr",
       "text": [
        "116000 117000 "
       ]
      },
      {
       "output_type": "stream",
       "stream": "stderr",
       "text": [
        "118000 119000 "
       ]
      },
      {
       "output_type": "stream",
       "stream": "stderr",
       "text": [
        "120000 121000 "
       ]
      },
      {
       "output_type": "stream",
       "stream": "stderr",
       "text": [
        "122000 123000 "
       ]
      },
      {
       "output_type": "stream",
       "stream": "stderr",
       "text": [
        "124000 125000 "
       ]
      },
      {
       "output_type": "stream",
       "stream": "stderr",
       "text": [
        "126000 127000 "
       ]
      },
      {
       "output_type": "stream",
       "stream": "stderr",
       "text": [
        "128000 129000 "
       ]
      },
      {
       "output_type": "stream",
       "stream": "stderr",
       "text": [
        "130000 131000 "
       ]
      },
      {
       "output_type": "stream",
       "stream": "stderr",
       "text": [
        "132000 133000 "
       ]
      },
      {
       "output_type": "stream",
       "stream": "stderr",
       "text": [
        "134000 135000 "
       ]
      },
      {
       "output_type": "stream",
       "stream": "stderr",
       "text": [
        "136000 137000 "
       ]
      },
      {
       "output_type": "stream",
       "stream": "stderr",
       "text": [
        "138000 139000 "
       ]
      }
     ],
     "prompt_number": 21
    },
    {
     "cell_type": "code",
     "collapsed": false,
     "input": [
      "import collections\n",
      "word_inverted_index = collections.defaultdict( list )\n",
      "\n",
      "for idx, word_set in enumerate( data_list_sets ):\n",
      "    if idx % 1000 == 0:\n",
      "        sys.stderr.write( \"%s \" % idx )\n",
      "\n",
      "        \n",
      "    for word in list( word_set ):\n",
      "        word_inverted_index[word].append( idx )\n",
      "\n",
      "with open( '../../data/processed/word_inverted_index.pkl', 'w' ) as f:\n",
      "    cPickle.dump( word_inverted_index, f )"
     ],
     "language": "python",
     "metadata": {},
     "outputs": [
      {
       "ename": "NameError",
       "evalue": "name 'data_list_sets' is not defined",
       "output_type": "pyerr",
       "traceback": [
        "\u001b[0;31m---------------------------------------------------------------------------\u001b[0m\n\u001b[0;31mNameError\u001b[0m                                 Traceback (most recent call last)",
        "\u001b[0;32m<ipython-input-20-54efc60f3370>\u001b[0m in \u001b[0;36m<module>\u001b[0;34m()\u001b[0m\n\u001b[1;32m      2\u001b[0m \u001b[0mword_inverted_index\u001b[0m \u001b[0;34m=\u001b[0m \u001b[0mcollections\u001b[0m\u001b[0;34m.\u001b[0m\u001b[0mdefaultdict\u001b[0m\u001b[0;34m(\u001b[0m \u001b[0mlist\u001b[0m \u001b[0;34m)\u001b[0m\u001b[0;34m\u001b[0m\u001b[0m\n\u001b[1;32m      3\u001b[0m \u001b[0;34m\u001b[0m\u001b[0m\n\u001b[0;32m----> 4\u001b[0;31m \u001b[0;32mfor\u001b[0m \u001b[0midx\u001b[0m\u001b[0;34m,\u001b[0m \u001b[0mword_set\u001b[0m \u001b[0;32min\u001b[0m \u001b[0menumerate\u001b[0m\u001b[0;34m(\u001b[0m \u001b[0mdata_list_sets\u001b[0m \u001b[0;34m)\u001b[0m\u001b[0;34m:\u001b[0m\u001b[0;34m\u001b[0m\u001b[0m\n\u001b[0m\u001b[1;32m      5\u001b[0m     \u001b[0;32mif\u001b[0m \u001b[0midx\u001b[0m \u001b[0;34m%\u001b[0m \u001b[0;36m1000\u001b[0m \u001b[0;34m==\u001b[0m \u001b[0;36m0\u001b[0m\u001b[0;34m:\u001b[0m\u001b[0;34m\u001b[0m\u001b[0m\n\u001b[1;32m      6\u001b[0m         \u001b[0msys\u001b[0m\u001b[0;34m.\u001b[0m\u001b[0mstderr\u001b[0m\u001b[0;34m.\u001b[0m\u001b[0mwrite\u001b[0m\u001b[0;34m(\u001b[0m \u001b[0;34m\"%s \"\u001b[0m \u001b[0;34m%\u001b[0m \u001b[0midx\u001b[0m \u001b[0;34m)\u001b[0m\u001b[0;34m\u001b[0m\u001b[0m\n",
        "\u001b[0;31mNameError\u001b[0m: name 'data_list_sets' is not defined"
       ]
      }
     ],
     "prompt_number": 20
    },
    {
     "cell_type": "code",
     "collapsed": false,
     "input": [
      "# Load from pickle\n",
      "with open( '../../data/processed/word_inverted_index.pkl' ) as f:\n",
      "    word_inverted_index = cPickle.load( f )"
     ],
     "language": "python",
     "metadata": {},
     "outputs": [],
     "prompt_number": 47
    },
    {
     "cell_type": "code",
     "collapsed": false,
     "input": [
      "reload( utils_search )\n",
      "top_matches = []\n",
      "for idx, i in enumerate( data_list_sets ):\n",
      "    if 1:\n",
      "    #if idx % 100 == 0:\n",
      "        sys.stderr.write( \"%s \" % idx )\n",
      "    \n",
      "    matches = utils_search.get_ranked_matches( i, word_inverted_index ) \n",
      "    top_matches.append( matches )"
     ],
     "language": "python",
     "metadata": {},
     "outputs": [
      {
       "output_type": "stream",
       "stream": "stderr",
       "text": [
        "0 1 "
       ]
      },
      {
       "output_type": "stream",
       "stream": "stderr",
       "text": [
        "2 3 "
       ]
      },
      {
       "output_type": "stream",
       "stream": "stderr",
       "text": [
        "4 5 "
       ]
      },
      {
       "output_type": "stream",
       "stream": "stderr",
       "text": [
        "6 7 "
       ]
      },
      {
       "output_type": "stream",
       "stream": "stderr",
       "text": [
        "8 9 "
       ]
      },
      {
       "output_type": "stream",
       "stream": "stderr",
       "text": [
        "10 11 "
       ]
      },
      {
       "output_type": "stream",
       "stream": "stderr",
       "text": [
        "12 13 "
       ]
      },
      {
       "output_type": "stream",
       "stream": "stderr",
       "text": [
        "14 15 "
       ]
      },
      {
       "output_type": "stream",
       "stream": "stderr",
       "text": [
        "16 17 "
       ]
      },
      {
       "output_type": "stream",
       "stream": "stderr",
       "text": [
        "18 19 "
       ]
      },
      {
       "output_type": "stream",
       "stream": "stderr",
       "text": [
        "20 21 "
       ]
      },
      {
       "output_type": "stream",
       "stream": "stderr",
       "text": [
        "22 23 "
       ]
      },
      {
       "output_type": "stream",
       "stream": "stderr",
       "text": [
        "24 25 "
       ]
      },
      {
       "output_type": "stream",
       "stream": "stderr",
       "text": [
        "26 27 "
       ]
      },
      {
       "output_type": "stream",
       "stream": "stderr",
       "text": [
        "28 29 "
       ]
      },
      {
       "output_type": "stream",
       "stream": "stderr",
       "text": [
        "30 31 "
       ]
      },
      {
       "output_type": "stream",
       "stream": "stderr",
       "text": [
        "32 33 "
       ]
      },
      {
       "output_type": "stream",
       "stream": "stderr",
       "text": [
        "34 35 "
       ]
      },
      {
       "output_type": "stream",
       "stream": "stderr",
       "text": [
        "36 37 "
       ]
      },
      {
       "output_type": "stream",
       "stream": "stderr",
       "text": [
        "38 39 "
       ]
      },
      {
       "output_type": "stream",
       "stream": "stderr",
       "text": [
        "40 41 "
       ]
      },
      {
       "output_type": "stream",
       "stream": "stderr",
       "text": [
        "42 43 "
       ]
      },
      {
       "output_type": "stream",
       "stream": "stderr",
       "text": [
        "44 45 "
       ]
      },
      {
       "output_type": "stream",
       "stream": "stderr",
       "text": [
        "46 47 "
       ]
      },
      {
       "output_type": "stream",
       "stream": "stderr",
       "text": [
        "48 49 "
       ]
      },
      {
       "output_type": "stream",
       "stream": "stderr",
       "text": [
        "50 51 "
       ]
      },
      {
       "output_type": "stream",
       "stream": "stderr",
       "text": [
        "52 53 "
       ]
      },
      {
       "output_type": "stream",
       "stream": "stderr",
       "text": [
        "54 55 "
       ]
      },
      {
       "output_type": "stream",
       "stream": "stderr",
       "text": [
        "56 57 "
       ]
      },
      {
       "output_type": "stream",
       "stream": "stderr",
       "text": [
        "58 59 "
       ]
      },
      {
       "output_type": "stream",
       "stream": "stderr",
       "text": [
        "60 61 "
       ]
      },
      {
       "output_type": "stream",
       "stream": "stderr",
       "text": [
        "62 63 "
       ]
      },
      {
       "output_type": "stream",
       "stream": "stderr",
       "text": [
        "64 65 "
       ]
      },
      {
       "output_type": "stream",
       "stream": "stderr",
       "text": [
        "66 67 "
       ]
      },
      {
       "output_type": "stream",
       "stream": "stderr",
       "text": [
        "68 69 "
       ]
      },
      {
       "output_type": "stream",
       "stream": "stderr",
       "text": [
        "70 71 "
       ]
      },
      {
       "output_type": "stream",
       "stream": "stderr",
       "text": [
        "72 73 "
       ]
      },
      {
       "output_type": "stream",
       "stream": "stderr",
       "text": [
        "74 75 "
       ]
      },
      {
       "output_type": "stream",
       "stream": "stderr",
       "text": [
        "76 77 "
       ]
      },
      {
       "output_type": "stream",
       "stream": "stderr",
       "text": [
        "78 79 "
       ]
      },
      {
       "output_type": "stream",
       "stream": "stderr",
       "text": [
        "80 81 "
       ]
      },
      {
       "output_type": "stream",
       "stream": "stderr",
       "text": [
        "82 83 "
       ]
      },
      {
       "output_type": "stream",
       "stream": "stderr",
       "text": [
        "84 85 "
       ]
      },
      {
       "output_type": "stream",
       "stream": "stderr",
       "text": [
        "86 87 "
       ]
      },
      {
       "output_type": "stream",
       "stream": "stderr",
       "text": [
        "88 89 "
       ]
      },
      {
       "output_type": "stream",
       "stream": "stderr",
       "text": [
        "90 91 "
       ]
      },
      {
       "output_type": "stream",
       "stream": "stderr",
       "text": [
        "92 93 "
       ]
      },
      {
       "output_type": "stream",
       "stream": "stderr",
       "text": [
        "94 95 "
       ]
      },
      {
       "output_type": "stream",
       "stream": "stderr",
       "text": [
        "96 97 "
       ]
      },
      {
       "output_type": "stream",
       "stream": "stderr",
       "text": [
        "98 99 "
       ]
      },
      {
       "output_type": "stream",
       "stream": "stderr",
       "text": [
        "100 101 "
       ]
      },
      {
       "output_type": "stream",
       "stream": "stderr",
       "text": [
        "102 103 "
       ]
      },
      {
       "output_type": "stream",
       "stream": "stderr",
       "text": [
        "104 105 "
       ]
      },
      {
       "output_type": "stream",
       "stream": "stderr",
       "text": [
        "106 107 "
       ]
      },
      {
       "output_type": "stream",
       "stream": "stderr",
       "text": [
        "108 109 "
       ]
      },
      {
       "output_type": "stream",
       "stream": "stderr",
       "text": [
        "110 111 "
       ]
      },
      {
       "output_type": "stream",
       "stream": "stderr",
       "text": [
        "112 113 "
       ]
      },
      {
       "output_type": "stream",
       "stream": "stderr",
       "text": [
        "114 115 "
       ]
      },
      {
       "output_type": "stream",
       "stream": "stderr",
       "text": [
        "116 117 "
       ]
      },
      {
       "output_type": "stream",
       "stream": "stderr",
       "text": [
        "118 119 "
       ]
      },
      {
       "output_type": "stream",
       "stream": "stderr",
       "text": [
        "120 121 "
       ]
      },
      {
       "output_type": "stream",
       "stream": "stderr",
       "text": [
        "122 123 "
       ]
      },
      {
       "output_type": "stream",
       "stream": "stderr",
       "text": [
        "124 125 "
       ]
      },
      {
       "output_type": "stream",
       "stream": "stderr",
       "text": [
        "126 127 "
       ]
      },
      {
       "output_type": "stream",
       "stream": "stderr",
       "text": [
        "128 129 "
       ]
      },
      {
       "output_type": "stream",
       "stream": "stderr",
       "text": [
        "130 131 132 "
       ]
      },
      {
       "output_type": "stream",
       "stream": "stderr",
       "text": [
        "133 134 135 "
       ]
      },
      {
       "output_type": "stream",
       "stream": "stderr",
       "text": [
        "136 137 "
       ]
      },
      {
       "output_type": "stream",
       "stream": "stderr",
       "text": [
        "138 139 "
       ]
      },
      {
       "output_type": "stream",
       "stream": "stderr",
       "text": [
        "140 141 "
       ]
      },
      {
       "output_type": "stream",
       "stream": "stderr",
       "text": [
        "142 143 "
       ]
      },
      {
       "output_type": "stream",
       "stream": "stderr",
       "text": [
        "144 145 "
       ]
      },
      {
       "output_type": "stream",
       "stream": "stderr",
       "text": [
        "146 147 "
       ]
      },
      {
       "output_type": "stream",
       "stream": "stderr",
       "text": [
        "148 149 "
       ]
      },
      {
       "output_type": "stream",
       "stream": "stderr",
       "text": [
        "150 151 "
       ]
      },
      {
       "output_type": "stream",
       "stream": "stderr",
       "text": [
        "152 153 "
       ]
      },
      {
       "output_type": "stream",
       "stream": "stderr",
       "text": [
        "154 155 "
       ]
      },
      {
       "output_type": "stream",
       "stream": "stderr",
       "text": [
        "156 157 "
       ]
      },
      {
       "output_type": "stream",
       "stream": "stderr",
       "text": [
        "158 159 "
       ]
      },
      {
       "output_type": "stream",
       "stream": "stderr",
       "text": [
        "160 161 "
       ]
      },
      {
       "output_type": "stream",
       "stream": "stderr",
       "text": [
        "162 163 "
       ]
      },
      {
       "output_type": "stream",
       "stream": "stderr",
       "text": [
        "164 165 "
       ]
      },
      {
       "output_type": "stream",
       "stream": "stderr",
       "text": [
        "166 167 "
       ]
      },
      {
       "output_type": "stream",
       "stream": "stderr",
       "text": [
        "168 169 "
       ]
      },
      {
       "output_type": "stream",
       "stream": "stderr",
       "text": [
        "170 171 "
       ]
      },
      {
       "output_type": "stream",
       "stream": "stderr",
       "text": [
        "172 173 "
       ]
      },
      {
       "output_type": "stream",
       "stream": "stderr",
       "text": [
        "174 175 "
       ]
      },
      {
       "output_type": "stream",
       "stream": "stderr",
       "text": [
        "176 177 "
       ]
      },
      {
       "output_type": "stream",
       "stream": "stderr",
       "text": [
        "178 179 "
       ]
      },
      {
       "output_type": "stream",
       "stream": "stderr",
       "text": [
        "180 181 "
       ]
      },
      {
       "output_type": "stream",
       "stream": "stderr",
       "text": [
        "182 183 "
       ]
      },
      {
       "output_type": "stream",
       "stream": "stderr",
       "text": [
        "184 185 "
       ]
      },
      {
       "output_type": "stream",
       "stream": "stderr",
       "text": [
        "186 187 "
       ]
      },
      {
       "output_type": "stream",
       "stream": "stderr",
       "text": [
        "188 189 "
       ]
      },
      {
       "output_type": "stream",
       "stream": "stderr",
       "text": [
        "190 191 "
       ]
      },
      {
       "output_type": "stream",
       "stream": "stderr",
       "text": [
        "192 193 "
       ]
      },
      {
       "output_type": "stream",
       "stream": "stderr",
       "text": [
        "194 195 "
       ]
      },
      {
       "output_type": "stream",
       "stream": "stderr",
       "text": [
        "196 197 "
       ]
      },
      {
       "output_type": "stream",
       "stream": "stderr",
       "text": [
        "198 199 "
       ]
      },
      {
       "output_type": "stream",
       "stream": "stderr",
       "text": [
        "200 201 "
       ]
      },
      {
       "output_type": "stream",
       "stream": "stderr",
       "text": [
        "202 203 "
       ]
      },
      {
       "output_type": "stream",
       "stream": "stderr",
       "text": [
        "204 205 "
       ]
      },
      {
       "output_type": "stream",
       "stream": "stderr",
       "text": [
        "206 207 "
       ]
      },
      {
       "output_type": "stream",
       "stream": "stderr",
       "text": [
        "208 209 "
       ]
      },
      {
       "output_type": "stream",
       "stream": "stderr",
       "text": [
        "210 211 "
       ]
      },
      {
       "output_type": "stream",
       "stream": "stderr",
       "text": [
        "212 213 "
       ]
      },
      {
       "output_type": "stream",
       "stream": "stderr",
       "text": [
        "214 215 "
       ]
      },
      {
       "output_type": "stream",
       "stream": "stderr",
       "text": [
        "216 217 "
       ]
      },
      {
       "output_type": "stream",
       "stream": "stderr",
       "text": [
        "218 219 "
       ]
      },
      {
       "output_type": "stream",
       "stream": "stderr",
       "text": [
        "220 221 "
       ]
      },
      {
       "output_type": "stream",
       "stream": "stderr",
       "text": [
        "222 223 "
       ]
      },
      {
       "output_type": "stream",
       "stream": "stderr",
       "text": [
        "224 225 "
       ]
      },
      {
       "output_type": "stream",
       "stream": "stderr",
       "text": [
        "226 227 "
       ]
      },
      {
       "output_type": "stream",
       "stream": "stderr",
       "text": [
        "228 229 "
       ]
      },
      {
       "output_type": "stream",
       "stream": "stderr",
       "text": [
        "230 231 "
       ]
      },
      {
       "output_type": "stream",
       "stream": "stderr",
       "text": [
        "232 233 "
       ]
      },
      {
       "output_type": "stream",
       "stream": "stderr",
       "text": [
        "234 235 "
       ]
      },
      {
       "output_type": "stream",
       "stream": "stderr",
       "text": [
        "236 237 "
       ]
      },
      {
       "output_type": "stream",
       "stream": "stderr",
       "text": [
        "238 239 "
       ]
      },
      {
       "output_type": "stream",
       "stream": "stderr",
       "text": [
        "240 241 "
       ]
      },
      {
       "output_type": "stream",
       "stream": "stderr",
       "text": [
        "242 243 "
       ]
      },
      {
       "output_type": "stream",
       "stream": "stderr",
       "text": [
        "244 245 "
       ]
      },
      {
       "output_type": "stream",
       "stream": "stderr",
       "text": [
        "246 247 "
       ]
      },
      {
       "output_type": "stream",
       "stream": "stderr",
       "text": [
        "248 249 250 "
       ]
      },
      {
       "output_type": "stream",
       "stream": "stderr",
       "text": [
        "251 252 "
       ]
      },
      {
       "output_type": "stream",
       "stream": "stderr",
       "text": [
        "253 254 "
       ]
      },
      {
       "output_type": "stream",
       "stream": "stderr",
       "text": [
        "255 256 "
       ]
      },
      {
       "output_type": "stream",
       "stream": "stderr",
       "text": [
        "257 258 "
       ]
      },
      {
       "output_type": "stream",
       "stream": "stderr",
       "text": [
        "259 260 "
       ]
      },
      {
       "output_type": "stream",
       "stream": "stderr",
       "text": [
        "261 262 "
       ]
      },
      {
       "output_type": "stream",
       "stream": "stderr",
       "text": [
        "263 264 "
       ]
      },
      {
       "output_type": "stream",
       "stream": "stderr",
       "text": [
        "265 266 "
       ]
      },
      {
       "output_type": "stream",
       "stream": "stderr",
       "text": [
        "267 268 "
       ]
      },
      {
       "output_type": "stream",
       "stream": "stderr",
       "text": [
        "269 270 "
       ]
      },
      {
       "output_type": "stream",
       "stream": "stderr",
       "text": [
        "271 272 "
       ]
      },
      {
       "output_type": "stream",
       "stream": "stderr",
       "text": [
        "273 274 "
       ]
      },
      {
       "output_type": "stream",
       "stream": "stderr",
       "text": [
        "275 276 "
       ]
      },
      {
       "output_type": "stream",
       "stream": "stderr",
       "text": [
        "277 278 "
       ]
      },
      {
       "output_type": "stream",
       "stream": "stderr",
       "text": [
        "279 280 "
       ]
      },
      {
       "output_type": "stream",
       "stream": "stderr",
       "text": [
        "281 282 "
       ]
      },
      {
       "output_type": "stream",
       "stream": "stderr",
       "text": [
        "283 284 "
       ]
      },
      {
       "output_type": "stream",
       "stream": "stderr",
       "text": [
        "285 286 "
       ]
      },
      {
       "output_type": "stream",
       "stream": "stderr",
       "text": [
        "287 288 "
       ]
      },
      {
       "output_type": "stream",
       "stream": "stderr",
       "text": [
        "289 290 "
       ]
      },
      {
       "output_type": "stream",
       "stream": "stderr",
       "text": [
        "291 292 "
       ]
      },
      {
       "output_type": "stream",
       "stream": "stderr",
       "text": [
        "293 294 "
       ]
      },
      {
       "output_type": "stream",
       "stream": "stderr",
       "text": [
        "295 296 "
       ]
      },
      {
       "output_type": "stream",
       "stream": "stderr",
       "text": [
        "297 298 "
       ]
      },
      {
       "output_type": "stream",
       "stream": "stderr",
       "text": [
        "299 300 "
       ]
      },
      {
       "output_type": "stream",
       "stream": "stderr",
       "text": [
        "301 302 "
       ]
      },
      {
       "output_type": "stream",
       "stream": "stderr",
       "text": [
        "303 304 "
       ]
      },
      {
       "output_type": "stream",
       "stream": "stderr",
       "text": [
        "305 306 "
       ]
      },
      {
       "output_type": "stream",
       "stream": "stderr",
       "text": [
        "307 308 "
       ]
      },
      {
       "output_type": "stream",
       "stream": "stderr",
       "text": [
        "309 310 "
       ]
      },
      {
       "output_type": "stream",
       "stream": "stderr",
       "text": [
        "311 312 "
       ]
      },
      {
       "output_type": "stream",
       "stream": "stderr",
       "text": [
        "313 314 "
       ]
      },
      {
       "output_type": "stream",
       "stream": "stderr",
       "text": [
        "315 316 "
       ]
      },
      {
       "output_type": "stream",
       "stream": "stderr",
       "text": [
        "317 318 "
       ]
      },
      {
       "output_type": "stream",
       "stream": "stderr",
       "text": [
        "319 320 "
       ]
      },
      {
       "output_type": "stream",
       "stream": "stderr",
       "text": [
        "321 322 "
       ]
      },
      {
       "output_type": "stream",
       "stream": "stderr",
       "text": [
        "323 324 "
       ]
      },
      {
       "output_type": "stream",
       "stream": "stderr",
       "text": [
        "325 326 "
       ]
      },
      {
       "output_type": "stream",
       "stream": "stderr",
       "text": [
        "327 328 "
       ]
      },
      {
       "output_type": "stream",
       "stream": "stderr",
       "text": [
        "329 330 "
       ]
      },
      {
       "output_type": "stream",
       "stream": "stderr",
       "text": [
        "331 332 "
       ]
      },
      {
       "output_type": "stream",
       "stream": "stderr",
       "text": [
        "333 334 "
       ]
      },
      {
       "output_type": "stream",
       "stream": "stderr",
       "text": [
        "335 336 "
       ]
      },
      {
       "output_type": "stream",
       "stream": "stderr",
       "text": [
        "337 338 "
       ]
      },
      {
       "output_type": "stream",
       "stream": "stderr",
       "text": [
        "339 340 "
       ]
      },
      {
       "output_type": "stream",
       "stream": "stderr",
       "text": [
        "341 342 343 "
       ]
      },
      {
       "output_type": "stream",
       "stream": "stderr",
       "text": [
        "344 345 "
       ]
      },
      {
       "output_type": "stream",
       "stream": "stderr",
       "text": [
        "346 347 348 "
       ]
      },
      {
       "output_type": "stream",
       "stream": "stderr",
       "text": [
        "349 350 "
       ]
      },
      {
       "output_type": "stream",
       "stream": "stderr",
       "text": [
        "351 352 "
       ]
      },
      {
       "output_type": "stream",
       "stream": "stderr",
       "text": [
        "353 354 "
       ]
      },
      {
       "output_type": "stream",
       "stream": "stderr",
       "text": [
        "355 356 "
       ]
      },
      {
       "output_type": "stream",
       "stream": "stderr",
       "text": [
        "357 358 "
       ]
      },
      {
       "output_type": "stream",
       "stream": "stderr",
       "text": [
        "359 360 "
       ]
      },
      {
       "output_type": "stream",
       "stream": "stderr",
       "text": [
        "361 362 "
       ]
      },
      {
       "output_type": "stream",
       "stream": "stderr",
       "text": [
        "363 364 "
       ]
      },
      {
       "output_type": "stream",
       "stream": "stderr",
       "text": [
        "365 366 "
       ]
      },
      {
       "output_type": "stream",
       "stream": "stderr",
       "text": [
        "367 368 "
       ]
      },
      {
       "output_type": "stream",
       "stream": "stderr",
       "text": [
        "369 370 "
       ]
      },
      {
       "output_type": "stream",
       "stream": "stderr",
       "text": [
        "371 372 "
       ]
      },
      {
       "output_type": "stream",
       "stream": "stderr",
       "text": [
        "373 374 "
       ]
      },
      {
       "output_type": "stream",
       "stream": "stderr",
       "text": [
        "375 376 "
       ]
      },
      {
       "output_type": "stream",
       "stream": "stderr",
       "text": [
        "377 378 "
       ]
      },
      {
       "output_type": "stream",
       "stream": "stderr",
       "text": [
        "379 380 "
       ]
      },
      {
       "output_type": "stream",
       "stream": "stderr",
       "text": [
        "381 382 "
       ]
      },
      {
       "output_type": "stream",
       "stream": "stderr",
       "text": [
        "383 384 "
       ]
      },
      {
       "output_type": "stream",
       "stream": "stderr",
       "text": [
        "385 386 "
       ]
      },
      {
       "output_type": "stream",
       "stream": "stderr",
       "text": [
        "387 388 "
       ]
      },
      {
       "output_type": "stream",
       "stream": "stderr",
       "text": [
        "389 390 "
       ]
      },
      {
       "output_type": "stream",
       "stream": "stderr",
       "text": [
        "391 392 "
       ]
      },
      {
       "output_type": "stream",
       "stream": "stderr",
       "text": [
        "393 394 "
       ]
      },
      {
       "output_type": "stream",
       "stream": "stderr",
       "text": [
        "395 396 "
       ]
      },
      {
       "output_type": "stream",
       "stream": "stderr",
       "text": [
        "397 398 "
       ]
      },
      {
       "output_type": "stream",
       "stream": "stderr",
       "text": [
        "399 400 401 "
       ]
      },
      {
       "output_type": "stream",
       "stream": "stderr",
       "text": [
        "402 403 "
       ]
      },
      {
       "output_type": "stream",
       "stream": "stderr",
       "text": [
        "404 405 "
       ]
      },
      {
       "output_type": "stream",
       "stream": "stderr",
       "text": [
        "406 407 "
       ]
      },
      {
       "output_type": "stream",
       "stream": "stderr",
       "text": [
        "408 409 "
       ]
      },
      {
       "output_type": "stream",
       "stream": "stderr",
       "text": [
        "410 411 "
       ]
      },
      {
       "output_type": "stream",
       "stream": "stderr",
       "text": [
        "412 413 "
       ]
      },
      {
       "output_type": "stream",
       "stream": "stderr",
       "text": [
        "414 415 "
       ]
      },
      {
       "output_type": "stream",
       "stream": "stderr",
       "text": [
        "416 417 "
       ]
      },
      {
       "output_type": "stream",
       "stream": "stderr",
       "text": [
        "418 419 "
       ]
      },
      {
       "output_type": "stream",
       "stream": "stderr",
       "text": [
        "420 421 "
       ]
      },
      {
       "output_type": "stream",
       "stream": "stderr",
       "text": [
        "422 423 "
       ]
      },
      {
       "output_type": "stream",
       "stream": "stderr",
       "text": [
        "424 425 "
       ]
      },
      {
       "output_type": "stream",
       "stream": "stderr",
       "text": [
        "426 427 "
       ]
      },
      {
       "output_type": "stream",
       "stream": "stderr",
       "text": [
        "428 429 "
       ]
      },
      {
       "output_type": "stream",
       "stream": "stderr",
       "text": [
        "430 431 "
       ]
      },
      {
       "output_type": "stream",
       "stream": "stderr",
       "text": [
        "432 433 "
       ]
      },
      {
       "output_type": "stream",
       "stream": "stderr",
       "text": [
        "434 435 "
       ]
      },
      {
       "output_type": "stream",
       "stream": "stderr",
       "text": [
        "436 437 "
       ]
      },
      {
       "output_type": "stream",
       "stream": "stderr",
       "text": [
        "438 439 "
       ]
      },
      {
       "output_type": "stream",
       "stream": "stderr",
       "text": [
        "440 441 "
       ]
      },
      {
       "output_type": "stream",
       "stream": "stderr",
       "text": [
        "442 443 "
       ]
      },
      {
       "output_type": "stream",
       "stream": "stderr",
       "text": [
        "444 445 "
       ]
      },
      {
       "output_type": "stream",
       "stream": "stderr",
       "text": [
        "446 447 "
       ]
      },
      {
       "output_type": "stream",
       "stream": "stderr",
       "text": [
        "448 449 "
       ]
      },
      {
       "output_type": "stream",
       "stream": "stderr",
       "text": [
        "450 451 "
       ]
      },
      {
       "output_type": "stream",
       "stream": "stderr",
       "text": [
        "452 453 "
       ]
      },
      {
       "output_type": "stream",
       "stream": "stderr",
       "text": [
        "454 455 "
       ]
      },
      {
       "output_type": "stream",
       "stream": "stderr",
       "text": [
        "456 457 "
       ]
      },
      {
       "output_type": "stream",
       "stream": "stderr",
       "text": [
        "458 459 "
       ]
      },
      {
       "output_type": "stream",
       "stream": "stderr",
       "text": [
        "460 461 "
       ]
      },
      {
       "output_type": "stream",
       "stream": "stderr",
       "text": [
        "462 463 "
       ]
      },
      {
       "output_type": "stream",
       "stream": "stderr",
       "text": [
        "464 465 "
       ]
      },
      {
       "output_type": "stream",
       "stream": "stderr",
       "text": [
        "466 467 "
       ]
      },
      {
       "output_type": "stream",
       "stream": "stderr",
       "text": [
        "468 469 "
       ]
      },
      {
       "output_type": "stream",
       "stream": "stderr",
       "text": [
        "470 471 "
       ]
      },
      {
       "output_type": "stream",
       "stream": "stderr",
       "text": [
        "472 473 "
       ]
      },
      {
       "output_type": "stream",
       "stream": "stderr",
       "text": [
        "474 475 "
       ]
      },
      {
       "output_type": "stream",
       "stream": "stderr",
       "text": [
        "476 477 "
       ]
      },
      {
       "output_type": "stream",
       "stream": "stderr",
       "text": [
        "478 479 "
       ]
      },
      {
       "output_type": "stream",
       "stream": "stderr",
       "text": [
        "480 481 "
       ]
      },
      {
       "output_type": "stream",
       "stream": "stderr",
       "text": [
        "482 483 "
       ]
      },
      {
       "output_type": "stream",
       "stream": "stderr",
       "text": [
        "484 485 "
       ]
      },
      {
       "output_type": "stream",
       "stream": "stderr",
       "text": [
        "486 487 "
       ]
      },
      {
       "output_type": "stream",
       "stream": "stderr",
       "text": [
        "488 489 "
       ]
      },
      {
       "output_type": "stream",
       "stream": "stderr",
       "text": [
        "490 491 "
       ]
      },
      {
       "output_type": "stream",
       "stream": "stderr",
       "text": [
        "492 493 "
       ]
      },
      {
       "output_type": "stream",
       "stream": "stderr",
       "text": [
        "494 495 "
       ]
      },
      {
       "output_type": "stream",
       "stream": "stderr",
       "text": [
        "496 497 "
       ]
      },
      {
       "output_type": "stream",
       "stream": "stderr",
       "text": [
        "498 499 "
       ]
      },
      {
       "output_type": "stream",
       "stream": "stderr",
       "text": [
        "500 501 "
       ]
      },
      {
       "output_type": "stream",
       "stream": "stderr",
       "text": [
        "502 503 "
       ]
      },
      {
       "output_type": "stream",
       "stream": "stderr",
       "text": [
        "504 505 "
       ]
      },
      {
       "output_type": "stream",
       "stream": "stderr",
       "text": [
        "506 507 "
       ]
      },
      {
       "output_type": "stream",
       "stream": "stderr",
       "text": [
        "508 509 "
       ]
      },
      {
       "output_type": "stream",
       "stream": "stderr",
       "text": [
        "510 511 "
       ]
      },
      {
       "output_type": "stream",
       "stream": "stderr",
       "text": [
        "512 513 "
       ]
      },
      {
       "output_type": "stream",
       "stream": "stderr",
       "text": [
        "514 515 "
       ]
      },
      {
       "output_type": "stream",
       "stream": "stderr",
       "text": [
        "516 517 "
       ]
      },
      {
       "output_type": "stream",
       "stream": "stderr",
       "text": [
        "518 519 "
       ]
      },
      {
       "output_type": "stream",
       "stream": "stderr",
       "text": [
        "520 521 "
       ]
      },
      {
       "output_type": "stream",
       "stream": "stderr",
       "text": [
        "522 523 "
       ]
      },
      {
       "output_type": "stream",
       "stream": "stderr",
       "text": [
        "524 525 "
       ]
      },
      {
       "output_type": "stream",
       "stream": "stderr",
       "text": [
        "526 527 "
       ]
      },
      {
       "output_type": "stream",
       "stream": "stderr",
       "text": [
        "528 529 "
       ]
      },
      {
       "output_type": "stream",
       "stream": "stderr",
       "text": [
        "530 531 "
       ]
      },
      {
       "output_type": "stream",
       "stream": "stderr",
       "text": [
        "532 533 "
       ]
      },
      {
       "output_type": "stream",
       "stream": "stderr",
       "text": [
        "534 535 "
       ]
      },
      {
       "output_type": "stream",
       "stream": "stderr",
       "text": [
        "536 537 "
       ]
      },
      {
       "output_type": "stream",
       "stream": "stderr",
       "text": [
        "538 539 "
       ]
      },
      {
       "output_type": "stream",
       "stream": "stderr",
       "text": [
        "540 541 "
       ]
      },
      {
       "output_type": "stream",
       "stream": "stderr",
       "text": [
        "542 543 "
       ]
      },
      {
       "output_type": "stream",
       "stream": "stderr",
       "text": [
        "544 545 "
       ]
      },
      {
       "output_type": "stream",
       "stream": "stderr",
       "text": [
        "546 547 "
       ]
      },
      {
       "output_type": "stream",
       "stream": "stderr",
       "text": [
        "548 549 "
       ]
      },
      {
       "output_type": "stream",
       "stream": "stderr",
       "text": [
        "550 551 "
       ]
      },
      {
       "output_type": "stream",
       "stream": "stderr",
       "text": [
        "552 553 "
       ]
      },
      {
       "output_type": "stream",
       "stream": "stderr",
       "text": [
        "554 555 "
       ]
      },
      {
       "output_type": "stream",
       "stream": "stderr",
       "text": [
        "556 557 "
       ]
      },
      {
       "output_type": "stream",
       "stream": "stderr",
       "text": [
        "558 559 "
       ]
      },
      {
       "output_type": "stream",
       "stream": "stderr",
       "text": [
        "560 561 "
       ]
      },
      {
       "output_type": "stream",
       "stream": "stderr",
       "text": [
        "562 563 "
       ]
      },
      {
       "output_type": "stream",
       "stream": "stderr",
       "text": [
        "564 565 "
       ]
      },
      {
       "output_type": "stream",
       "stream": "stderr",
       "text": [
        "566 567 "
       ]
      },
      {
       "output_type": "stream",
       "stream": "stderr",
       "text": [
        "568 569 "
       ]
      },
      {
       "output_type": "stream",
       "stream": "stderr",
       "text": [
        "570 571 "
       ]
      },
      {
       "output_type": "stream",
       "stream": "stderr",
       "text": [
        "572 573 "
       ]
      },
      {
       "output_type": "stream",
       "stream": "stderr",
       "text": [
        "574 575 "
       ]
      },
      {
       "output_type": "stream",
       "stream": "stderr",
       "text": [
        "576 577 "
       ]
      },
      {
       "output_type": "stream",
       "stream": "stderr",
       "text": [
        "578 579 "
       ]
      },
      {
       "output_type": "stream",
       "stream": "stderr",
       "text": [
        "580 581 "
       ]
      },
      {
       "output_type": "stream",
       "stream": "stderr",
       "text": [
        "582 583 "
       ]
      },
      {
       "output_type": "stream",
       "stream": "stderr",
       "text": [
        "584 585 "
       ]
      },
      {
       "output_type": "stream",
       "stream": "stderr",
       "text": [
        "586 587 "
       ]
      },
      {
       "output_type": "stream",
       "stream": "stderr",
       "text": [
        "588 589 "
       ]
      },
      {
       "output_type": "stream",
       "stream": "stderr",
       "text": [
        "590 591 "
       ]
      },
      {
       "output_type": "stream",
       "stream": "stderr",
       "text": [
        "592 593 "
       ]
      },
      {
       "output_type": "stream",
       "stream": "stderr",
       "text": [
        "594 595 "
       ]
      },
      {
       "output_type": "stream",
       "stream": "stderr",
       "text": [
        "596 597 "
       ]
      },
      {
       "output_type": "stream",
       "stream": "stderr",
       "text": [
        "598 599 "
       ]
      },
      {
       "output_type": "stream",
       "stream": "stderr",
       "text": [
        "600 601 "
       ]
      },
      {
       "output_type": "stream",
       "stream": "stderr",
       "text": [
        "602 603 "
       ]
      },
      {
       "output_type": "stream",
       "stream": "stderr",
       "text": [
        "604 605 "
       ]
      },
      {
       "output_type": "stream",
       "stream": "stderr",
       "text": [
        "606 607 "
       ]
      },
      {
       "output_type": "stream",
       "stream": "stderr",
       "text": [
        "608 609 "
       ]
      },
      {
       "output_type": "stream",
       "stream": "stderr",
       "text": [
        "610 611 "
       ]
      },
      {
       "output_type": "stream",
       "stream": "stderr",
       "text": [
        "612 613 "
       ]
      },
      {
       "output_type": "stream",
       "stream": "stderr",
       "text": [
        "614 615 "
       ]
      },
      {
       "output_type": "stream",
       "stream": "stderr",
       "text": [
        "616 617 "
       ]
      },
      {
       "output_type": "stream",
       "stream": "stderr",
       "text": [
        "618 619 "
       ]
      },
      {
       "output_type": "stream",
       "stream": "stderr",
       "text": [
        "620 621 "
       ]
      },
      {
       "output_type": "stream",
       "stream": "stderr",
       "text": [
        "622 623 "
       ]
      },
      {
       "output_type": "stream",
       "stream": "stderr",
       "text": [
        "624 625 "
       ]
      },
      {
       "output_type": "stream",
       "stream": "stderr",
       "text": [
        "626 627 "
       ]
      },
      {
       "output_type": "stream",
       "stream": "stderr",
       "text": [
        "628 629 "
       ]
      },
      {
       "output_type": "stream",
       "stream": "stderr",
       "text": [
        "630 631 "
       ]
      },
      {
       "output_type": "stream",
       "stream": "stderr",
       "text": [
        "632 633 "
       ]
      },
      {
       "output_type": "stream",
       "stream": "stderr",
       "text": [
        "634 635 "
       ]
      },
      {
       "output_type": "stream",
       "stream": "stderr",
       "text": [
        "636 637 "
       ]
      },
      {
       "output_type": "stream",
       "stream": "stderr",
       "text": [
        "638 639 "
       ]
      },
      {
       "output_type": "stream",
       "stream": "stderr",
       "text": [
        "640 641 "
       ]
      },
      {
       "output_type": "stream",
       "stream": "stderr",
       "text": [
        "642 643 "
       ]
      },
      {
       "output_type": "stream",
       "stream": "stderr",
       "text": [
        "644 645 "
       ]
      },
      {
       "output_type": "stream",
       "stream": "stderr",
       "text": [
        "646 647 "
       ]
      },
      {
       "output_type": "stream",
       "stream": "stderr",
       "text": [
        "648 649 "
       ]
      },
      {
       "output_type": "stream",
       "stream": "stderr",
       "text": [
        "650 651 "
       ]
      },
      {
       "output_type": "stream",
       "stream": "stderr",
       "text": [
        "652 653 "
       ]
      },
      {
       "output_type": "stream",
       "stream": "stderr",
       "text": [
        "654 655 "
       ]
      },
      {
       "output_type": "stream",
       "stream": "stderr",
       "text": [
        "656 657 "
       ]
      },
      {
       "output_type": "stream",
       "stream": "stderr",
       "text": [
        "658 659 "
       ]
      },
      {
       "output_type": "stream",
       "stream": "stderr",
       "text": [
        "660 661 "
       ]
      },
      {
       "output_type": "stream",
       "stream": "stderr",
       "text": [
        "662 663 "
       ]
      },
      {
       "output_type": "stream",
       "stream": "stderr",
       "text": [
        "664 665 "
       ]
      },
      {
       "output_type": "stream",
       "stream": "stderr",
       "text": [
        "666 667 "
       ]
      },
      {
       "output_type": "stream",
       "stream": "stderr",
       "text": [
        "668 669 "
       ]
      },
      {
       "output_type": "stream",
       "stream": "stderr",
       "text": [
        "670 671 "
       ]
      },
      {
       "output_type": "stream",
       "stream": "stderr",
       "text": [
        "672 673 "
       ]
      },
      {
       "output_type": "stream",
       "stream": "stderr",
       "text": [
        "674 675 "
       ]
      },
      {
       "output_type": "stream",
       "stream": "stderr",
       "text": [
        "676 677 "
       ]
      },
      {
       "output_type": "stream",
       "stream": "stderr",
       "text": [
        "678 679 "
       ]
      },
      {
       "output_type": "stream",
       "stream": "stderr",
       "text": [
        "680 681 "
       ]
      },
      {
       "output_type": "stream",
       "stream": "stderr",
       "text": [
        "682 683 "
       ]
      },
      {
       "output_type": "stream",
       "stream": "stderr",
       "text": [
        "684 685 "
       ]
      },
      {
       "output_type": "stream",
       "stream": "stderr",
       "text": [
        "686 687 "
       ]
      },
      {
       "output_type": "stream",
       "stream": "stderr",
       "text": [
        "688 689 "
       ]
      },
      {
       "output_type": "stream",
       "stream": "stderr",
       "text": [
        "690 691 "
       ]
      },
      {
       "output_type": "stream",
       "stream": "stderr",
       "text": [
        "692 693 "
       ]
      },
      {
       "output_type": "stream",
       "stream": "stderr",
       "text": [
        "694 695 "
       ]
      },
      {
       "output_type": "stream",
       "stream": "stderr",
       "text": [
        "696 697 "
       ]
      },
      {
       "output_type": "stream",
       "stream": "stderr",
       "text": [
        "698 699 "
       ]
      },
      {
       "output_type": "stream",
       "stream": "stderr",
       "text": [
        "700 701 "
       ]
      },
      {
       "output_type": "stream",
       "stream": "stderr",
       "text": [
        "702 703 "
       ]
      },
      {
       "output_type": "stream",
       "stream": "stderr",
       "text": [
        "704 705 "
       ]
      },
      {
       "output_type": "stream",
       "stream": "stderr",
       "text": [
        "706 707 708 "
       ]
      },
      {
       "output_type": "stream",
       "stream": "stderr",
       "text": [
        "709 710 "
       ]
      },
      {
       "output_type": "stream",
       "stream": "stderr",
       "text": [
        "711 712 "
       ]
      },
      {
       "output_type": "stream",
       "stream": "stderr",
       "text": [
        "713 714 "
       ]
      },
      {
       "output_type": "stream",
       "stream": "stderr",
       "text": [
        "715 716 "
       ]
      },
      {
       "output_type": "stream",
       "stream": "stderr",
       "text": [
        "717 718 "
       ]
      },
      {
       "output_type": "stream",
       "stream": "stderr",
       "text": [
        "719 720 "
       ]
      },
      {
       "output_type": "stream",
       "stream": "stderr",
       "text": [
        "721 722 "
       ]
      },
      {
       "output_type": "stream",
       "stream": "stderr",
       "text": [
        "723 724 "
       ]
      },
      {
       "output_type": "stream",
       "stream": "stderr",
       "text": [
        "725 726 "
       ]
      },
      {
       "output_type": "stream",
       "stream": "stderr",
       "text": [
        "727 728 "
       ]
      },
      {
       "output_type": "stream",
       "stream": "stderr",
       "text": [
        "729 730 "
       ]
      },
      {
       "output_type": "stream",
       "stream": "stderr",
       "text": [
        "731 732 "
       ]
      },
      {
       "output_type": "stream",
       "stream": "stderr",
       "text": [
        "733 734 "
       ]
      },
      {
       "output_type": "stream",
       "stream": "stderr",
       "text": [
        "735 736 "
       ]
      },
      {
       "output_type": "stream",
       "stream": "stderr",
       "text": [
        "737 738 "
       ]
      },
      {
       "output_type": "stream",
       "stream": "stderr",
       "text": [
        "739 740 "
       ]
      },
      {
       "output_type": "stream",
       "stream": "stderr",
       "text": [
        "741 742 "
       ]
      },
      {
       "output_type": "stream",
       "stream": "stderr",
       "text": [
        "743 744 "
       ]
      },
      {
       "output_type": "stream",
       "stream": "stderr",
       "text": [
        "745 746 "
       ]
      },
      {
       "output_type": "stream",
       "stream": "stderr",
       "text": [
        "747 748 "
       ]
      },
      {
       "output_type": "stream",
       "stream": "stderr",
       "text": [
        "749 750 "
       ]
      },
      {
       "output_type": "stream",
       "stream": "stderr",
       "text": [
        "751 752 "
       ]
      },
      {
       "output_type": "stream",
       "stream": "stderr",
       "text": [
        "753 754 "
       ]
      },
      {
       "output_type": "stream",
       "stream": "stderr",
       "text": [
        "755 756 "
       ]
      },
      {
       "output_type": "stream",
       "stream": "stderr",
       "text": [
        "757 758 "
       ]
      },
      {
       "output_type": "stream",
       "stream": "stderr",
       "text": [
        "759 760 "
       ]
      },
      {
       "output_type": "stream",
       "stream": "stderr",
       "text": [
        "761 762 "
       ]
      },
      {
       "output_type": "stream",
       "stream": "stderr",
       "text": [
        "763 764 "
       ]
      },
      {
       "output_type": "stream",
       "stream": "stderr",
       "text": [
        "765 766 "
       ]
      },
      {
       "output_type": "stream",
       "stream": "stderr",
       "text": [
        "767 768 "
       ]
      },
      {
       "output_type": "stream",
       "stream": "stderr",
       "text": [
        "769 770 "
       ]
      },
      {
       "output_type": "stream",
       "stream": "stderr",
       "text": [
        "771 772 "
       ]
      },
      {
       "output_type": "stream",
       "stream": "stderr",
       "text": [
        "773 774 "
       ]
      },
      {
       "output_type": "stream",
       "stream": "stderr",
       "text": [
        "775 776 "
       ]
      },
      {
       "output_type": "stream",
       "stream": "stderr",
       "text": [
        "777 778 "
       ]
      },
      {
       "output_type": "stream",
       "stream": "stderr",
       "text": [
        "779 780 "
       ]
      },
      {
       "output_type": "stream",
       "stream": "stderr",
       "text": [
        "781 782 "
       ]
      },
      {
       "output_type": "stream",
       "stream": "stderr",
       "text": [
        "783 784 "
       ]
      },
      {
       "output_type": "stream",
       "stream": "stderr",
       "text": [
        "785 786 "
       ]
      },
      {
       "output_type": "stream",
       "stream": "stderr",
       "text": [
        "787 788 "
       ]
      },
      {
       "output_type": "stream",
       "stream": "stderr",
       "text": [
        "789 790 "
       ]
      },
      {
       "output_type": "stream",
       "stream": "stderr",
       "text": [
        "791 792 "
       ]
      },
      {
       "output_type": "stream",
       "stream": "stderr",
       "text": [
        "793 794 "
       ]
      },
      {
       "output_type": "stream",
       "stream": "stderr",
       "text": [
        "795 796 "
       ]
      },
      {
       "output_type": "stream",
       "stream": "stderr",
       "text": [
        "797 798 "
       ]
      },
      {
       "output_type": "stream",
       "stream": "stderr",
       "text": [
        "799 800 "
       ]
      },
      {
       "output_type": "stream",
       "stream": "stderr",
       "text": [
        "801 802 803 "
       ]
      },
      {
       "output_type": "stream",
       "stream": "stderr",
       "text": [
        "804 805 "
       ]
      },
      {
       "output_type": "stream",
       "stream": "stderr",
       "text": [
        "806 807 808 "
       ]
      },
      {
       "output_type": "stream",
       "stream": "stderr",
       "text": [
        "809 810 "
       ]
      },
      {
       "output_type": "stream",
       "stream": "stderr",
       "text": [
        "811 812 "
       ]
      },
      {
       "output_type": "stream",
       "stream": "stderr",
       "text": [
        "813 814 "
       ]
      },
      {
       "output_type": "stream",
       "stream": "stderr",
       "text": [
        "815 816 "
       ]
      },
      {
       "output_type": "stream",
       "stream": "stderr",
       "text": [
        "817 818 "
       ]
      },
      {
       "output_type": "stream",
       "stream": "stderr",
       "text": [
        "819 820 "
       ]
      },
      {
       "output_type": "stream",
       "stream": "stderr",
       "text": [
        "821 822 "
       ]
      },
      {
       "output_type": "stream",
       "stream": "stderr",
       "text": [
        "823 824 "
       ]
      },
      {
       "output_type": "stream",
       "stream": "stderr",
       "text": [
        "825 826 "
       ]
      },
      {
       "output_type": "stream",
       "stream": "stderr",
       "text": [
        "827 828 "
       ]
      },
      {
       "output_type": "stream",
       "stream": "stderr",
       "text": [
        "829 830 "
       ]
      },
      {
       "output_type": "stream",
       "stream": "stderr",
       "text": [
        "831 832 833 "
       ]
      },
      {
       "output_type": "stream",
       "stream": "stderr",
       "text": [
        "834 835 "
       ]
      },
      {
       "output_type": "stream",
       "stream": "stderr",
       "text": [
        "836 837 "
       ]
      },
      {
       "output_type": "stream",
       "stream": "stderr",
       "text": [
        "838 839 "
       ]
      },
      {
       "output_type": "stream",
       "stream": "stderr",
       "text": [
        "840 841 "
       ]
      },
      {
       "output_type": "stream",
       "stream": "stderr",
       "text": [
        "842 843 "
       ]
      },
      {
       "output_type": "stream",
       "stream": "stderr",
       "text": [
        "844 845 "
       ]
      },
      {
       "output_type": "stream",
       "stream": "stderr",
       "text": [
        "846 847 "
       ]
      },
      {
       "output_type": "stream",
       "stream": "stderr",
       "text": [
        "848 849 "
       ]
      },
      {
       "output_type": "stream",
       "stream": "stderr",
       "text": [
        "850 851 "
       ]
      },
      {
       "output_type": "stream",
       "stream": "stderr",
       "text": [
        "852 853 "
       ]
      },
      {
       "output_type": "stream",
       "stream": "stderr",
       "text": [
        "854 855 "
       ]
      },
      {
       "output_type": "stream",
       "stream": "stderr",
       "text": [
        "856 857 "
       ]
      },
      {
       "output_type": "stream",
       "stream": "stderr",
       "text": [
        "858 859 "
       ]
      },
      {
       "output_type": "stream",
       "stream": "stderr",
       "text": [
        "860 861 "
       ]
      },
      {
       "output_type": "stream",
       "stream": "stderr",
       "text": [
        "862 863 "
       ]
      },
      {
       "output_type": "stream",
       "stream": "stderr",
       "text": [
        "864 865 "
       ]
      },
      {
       "output_type": "stream",
       "stream": "stderr",
       "text": [
        "866 867 "
       ]
      },
      {
       "output_type": "stream",
       "stream": "stderr",
       "text": [
        "868 869 "
       ]
      },
      {
       "output_type": "stream",
       "stream": "stderr",
       "text": [
        "870 871 "
       ]
      },
      {
       "output_type": "stream",
       "stream": "stderr",
       "text": [
        "872 873 "
       ]
      },
      {
       "output_type": "stream",
       "stream": "stderr",
       "text": [
        "874 875 "
       ]
      },
      {
       "output_type": "stream",
       "stream": "stderr",
       "text": [
        "876 877 "
       ]
      },
      {
       "output_type": "stream",
       "stream": "stderr",
       "text": [
        "878 879 "
       ]
      },
      {
       "output_type": "stream",
       "stream": "stderr",
       "text": [
        "880 881 "
       ]
      },
      {
       "output_type": "stream",
       "stream": "stderr",
       "text": [
        "882 883 "
       ]
      },
      {
       "output_type": "stream",
       "stream": "stderr",
       "text": [
        "884 885 "
       ]
      },
      {
       "output_type": "stream",
       "stream": "stderr",
       "text": [
        "886 887 "
       ]
      },
      {
       "output_type": "stream",
       "stream": "stderr",
       "text": [
        "888 889 "
       ]
      },
      {
       "output_type": "stream",
       "stream": "stderr",
       "text": [
        "890 891 "
       ]
      },
      {
       "output_type": "stream",
       "stream": "stderr",
       "text": [
        "892 893 "
       ]
      },
      {
       "output_type": "stream",
       "stream": "stderr",
       "text": [
        "894 895 "
       ]
      },
      {
       "output_type": "stream",
       "stream": "stderr",
       "text": [
        "896 897 "
       ]
      },
      {
       "output_type": "stream",
       "stream": "stderr",
       "text": [
        "898 899 "
       ]
      },
      {
       "output_type": "stream",
       "stream": "stderr",
       "text": [
        "900 901 "
       ]
      },
      {
       "output_type": "stream",
       "stream": "stderr",
       "text": [
        "902 903 "
       ]
      },
      {
       "output_type": "stream",
       "stream": "stderr",
       "text": [
        "904 905 "
       ]
      },
      {
       "output_type": "stream",
       "stream": "stderr",
       "text": [
        "906 907 "
       ]
      },
      {
       "output_type": "stream",
       "stream": "stderr",
       "text": [
        "908 909 "
       ]
      },
      {
       "output_type": "stream",
       "stream": "stderr",
       "text": [
        "910 911 "
       ]
      },
      {
       "output_type": "stream",
       "stream": "stderr",
       "text": [
        "912 913 "
       ]
      },
      {
       "output_type": "stream",
       "stream": "stderr",
       "text": [
        "914 915 "
       ]
      },
      {
       "output_type": "stream",
       "stream": "stderr",
       "text": [
        "916 917 "
       ]
      },
      {
       "output_type": "stream",
       "stream": "stderr",
       "text": [
        "918 919 "
       ]
      },
      {
       "output_type": "stream",
       "stream": "stderr",
       "text": [
        "920 921 "
       ]
      },
      {
       "output_type": "stream",
       "stream": "stderr",
       "text": [
        "922 923 "
       ]
      },
      {
       "output_type": "stream",
       "stream": "stderr",
       "text": [
        "924 925 "
       ]
      },
      {
       "output_type": "stream",
       "stream": "stderr",
       "text": [
        "926 927 "
       ]
      },
      {
       "output_type": "stream",
       "stream": "stderr",
       "text": [
        "928 929 "
       ]
      },
      {
       "output_type": "stream",
       "stream": "stderr",
       "text": [
        "930 931 "
       ]
      },
      {
       "output_type": "stream",
       "stream": "stderr",
       "text": [
        "932 933 "
       ]
      },
      {
       "output_type": "stream",
       "stream": "stderr",
       "text": [
        "934 935 "
       ]
      },
      {
       "output_type": "stream",
       "stream": "stderr",
       "text": [
        "936 937 "
       ]
      },
      {
       "output_type": "stream",
       "stream": "stderr",
       "text": [
        "938 939 "
       ]
      },
      {
       "output_type": "stream",
       "stream": "stderr",
       "text": [
        "940 941 "
       ]
      },
      {
       "output_type": "stream",
       "stream": "stderr",
       "text": [
        "942 943 "
       ]
      },
      {
       "output_type": "stream",
       "stream": "stderr",
       "text": [
        "944 945 "
       ]
      },
      {
       "output_type": "stream",
       "stream": "stderr",
       "text": [
        "946 947 "
       ]
      },
      {
       "output_type": "stream",
       "stream": "stderr",
       "text": [
        "948 949 "
       ]
      },
      {
       "output_type": "stream",
       "stream": "stderr",
       "text": [
        "950 951 "
       ]
      },
      {
       "output_type": "stream",
       "stream": "stderr",
       "text": [
        "952 953 "
       ]
      },
      {
       "output_type": "stream",
       "stream": "stderr",
       "text": [
        "954 955 "
       ]
      },
      {
       "output_type": "stream",
       "stream": "stderr",
       "text": [
        "956 957 "
       ]
      },
      {
       "output_type": "stream",
       "stream": "stderr",
       "text": [
        "958 959 "
       ]
      },
      {
       "output_type": "stream",
       "stream": "stderr",
       "text": [
        "960 961 "
       ]
      },
      {
       "output_type": "stream",
       "stream": "stderr",
       "text": [
        "962 963 "
       ]
      },
      {
       "output_type": "stream",
       "stream": "stderr",
       "text": [
        "964 965 "
       ]
      },
      {
       "output_type": "stream",
       "stream": "stderr",
       "text": [
        "966 967 "
       ]
      },
      {
       "output_type": "stream",
       "stream": "stderr",
       "text": [
        "968 969 "
       ]
      },
      {
       "output_type": "stream",
       "stream": "stderr",
       "text": [
        "970 971 "
       ]
      },
      {
       "output_type": "stream",
       "stream": "stderr",
       "text": [
        "972 973 "
       ]
      },
      {
       "output_type": "stream",
       "stream": "stderr",
       "text": [
        "974 975 "
       ]
      },
      {
       "output_type": "stream",
       "stream": "stderr",
       "text": [
        "976 977 "
       ]
      },
      {
       "output_type": "stream",
       "stream": "stderr",
       "text": [
        "978 979 "
       ]
      },
      {
       "output_type": "stream",
       "stream": "stderr",
       "text": [
        "980 981 "
       ]
      },
      {
       "output_type": "stream",
       "stream": "stderr",
       "text": [
        "982 983 "
       ]
      },
      {
       "output_type": "stream",
       "stream": "stderr",
       "text": [
        "984 985 "
       ]
      },
      {
       "output_type": "stream",
       "stream": "stderr",
       "text": [
        "986 987 "
       ]
      },
      {
       "output_type": "stream",
       "stream": "stderr",
       "text": [
        "988 989 "
       ]
      },
      {
       "output_type": "stream",
       "stream": "stderr",
       "text": [
        "990 991 "
       ]
      },
      {
       "output_type": "stream",
       "stream": "stderr",
       "text": [
        "992 993 "
       ]
      },
      {
       "output_type": "stream",
       "stream": "stderr",
       "text": [
        "994 995 "
       ]
      },
      {
       "output_type": "stream",
       "stream": "stderr",
       "text": [
        "996 997 "
       ]
      },
      {
       "output_type": "stream",
       "stream": "stderr",
       "text": [
        "998 999 "
       ]
      },
      {
       "output_type": "stream",
       "stream": "stderr",
       "text": [
        "1000 1001 "
       ]
      },
      {
       "output_type": "stream",
       "stream": "stderr",
       "text": [
        "1002 1003 "
       ]
      },
      {
       "output_type": "stream",
       "stream": "stderr",
       "text": [
        "1004 1005 "
       ]
      },
      {
       "output_type": "stream",
       "stream": "stderr",
       "text": [
        "1006 1007 "
       ]
      },
      {
       "output_type": "stream",
       "stream": "stderr",
       "text": [
        "1008 1009 "
       ]
      },
      {
       "output_type": "stream",
       "stream": "stderr",
       "text": [
        "1010 1011 "
       ]
      },
      {
       "output_type": "stream",
       "stream": "stderr",
       "text": [
        "1012 1013 "
       ]
      },
      {
       "output_type": "stream",
       "stream": "stderr",
       "text": [
        "1014 1015 "
       ]
      },
      {
       "output_type": "stream",
       "stream": "stderr",
       "text": [
        "1016 1017 "
       ]
      },
      {
       "output_type": "stream",
       "stream": "stderr",
       "text": [
        "1018 1019 "
       ]
      },
      {
       "output_type": "stream",
       "stream": "stderr",
       "text": [
        "1020 1021 "
       ]
      },
      {
       "output_type": "stream",
       "stream": "stderr",
       "text": [
        "1022 1023 "
       ]
      },
      {
       "output_type": "stream",
       "stream": "stderr",
       "text": [
        "1024 1025 "
       ]
      },
      {
       "output_type": "stream",
       "stream": "stderr",
       "text": [
        "1026 1027 "
       ]
      },
      {
       "output_type": "stream",
       "stream": "stderr",
       "text": [
        "1028 1029 "
       ]
      },
      {
       "output_type": "stream",
       "stream": "stderr",
       "text": [
        "1030 1031 "
       ]
      },
      {
       "output_type": "stream",
       "stream": "stderr",
       "text": [
        "1032 1033 "
       ]
      },
      {
       "output_type": "stream",
       "stream": "stderr",
       "text": [
        "1034 1035 "
       ]
      },
      {
       "output_type": "stream",
       "stream": "stderr",
       "text": [
        "1036 1037 "
       ]
      },
      {
       "output_type": "stream",
       "stream": "stderr",
       "text": [
        "1038 1039 "
       ]
      },
      {
       "output_type": "stream",
       "stream": "stderr",
       "text": [
        "1040 1041 "
       ]
      },
      {
       "output_type": "stream",
       "stream": "stderr",
       "text": [
        "1042 1043 "
       ]
      },
      {
       "output_type": "stream",
       "stream": "stderr",
       "text": [
        "1044 1045 "
       ]
      },
      {
       "output_type": "stream",
       "stream": "stderr",
       "text": [
        "1046 1047 "
       ]
      },
      {
       "output_type": "stream",
       "stream": "stderr",
       "text": [
        "1048 1049 "
       ]
      },
      {
       "output_type": "stream",
       "stream": "stderr",
       "text": [
        "1050 1051 "
       ]
      },
      {
       "output_type": "stream",
       "stream": "stderr",
       "text": [
        "1052 1053 "
       ]
      },
      {
       "output_type": "stream",
       "stream": "stderr",
       "text": [
        "1054 1055 "
       ]
      },
      {
       "output_type": "stream",
       "stream": "stderr",
       "text": [
        "1056 1057 "
       ]
      },
      {
       "output_type": "stream",
       "stream": "stderr",
       "text": [
        "1058 1059 "
       ]
      },
      {
       "output_type": "stream",
       "stream": "stderr",
       "text": [
        "1060 1061 "
       ]
      },
      {
       "output_type": "stream",
       "stream": "stderr",
       "text": [
        "1062 1063 "
       ]
      },
      {
       "output_type": "stream",
       "stream": "stderr",
       "text": [
        "1064 1065 "
       ]
      },
      {
       "output_type": "stream",
       "stream": "stderr",
       "text": [
        "1066 1067 "
       ]
      },
      {
       "output_type": "stream",
       "stream": "stderr",
       "text": [
        "1068 1069 "
       ]
      },
      {
       "output_type": "stream",
       "stream": "stderr",
       "text": [
        "1070 1071 "
       ]
      },
      {
       "output_type": "stream",
       "stream": "stderr",
       "text": [
        "1072 1073 "
       ]
      },
      {
       "output_type": "stream",
       "stream": "stderr",
       "text": [
        "1074 1075 "
       ]
      },
      {
       "output_type": "stream",
       "stream": "stderr",
       "text": [
        "1076 1077 "
       ]
      },
      {
       "output_type": "stream",
       "stream": "stderr",
       "text": [
        "1078 1079 "
       ]
      },
      {
       "output_type": "stream",
       "stream": "stderr",
       "text": [
        "1080 1081 "
       ]
      },
      {
       "output_type": "stream",
       "stream": "stderr",
       "text": [
        "1082 1083 "
       ]
      },
      {
       "output_type": "stream",
       "stream": "stderr",
       "text": [
        "1084 1085 "
       ]
      },
      {
       "output_type": "stream",
       "stream": "stderr",
       "text": [
        "1086 1087 "
       ]
      },
      {
       "output_type": "stream",
       "stream": "stderr",
       "text": [
        "1088 1089 "
       ]
      },
      {
       "output_type": "stream",
       "stream": "stderr",
       "text": [
        "1090 1091 "
       ]
      },
      {
       "output_type": "stream",
       "stream": "stderr",
       "text": [
        "1092 1093 "
       ]
      },
      {
       "output_type": "stream",
       "stream": "stderr",
       "text": [
        "1094 1095 "
       ]
      },
      {
       "output_type": "stream",
       "stream": "stderr",
       "text": [
        "1096 1097 "
       ]
      },
      {
       "output_type": "stream",
       "stream": "stderr",
       "text": [
        "1098 1099 "
       ]
      },
      {
       "output_type": "stream",
       "stream": "stderr",
       "text": [
        "1100 1101 "
       ]
      },
      {
       "output_type": "stream",
       "stream": "stderr",
       "text": [
        "1102 1103 "
       ]
      },
      {
       "output_type": "stream",
       "stream": "stderr",
       "text": [
        "1104 1105 "
       ]
      },
      {
       "output_type": "stream",
       "stream": "stderr",
       "text": [
        "1106 1107 "
       ]
      },
      {
       "output_type": "stream",
       "stream": "stderr",
       "text": [
        "1108 1109 "
       ]
      },
      {
       "output_type": "stream",
       "stream": "stderr",
       "text": [
        "1110 1111 "
       ]
      },
      {
       "output_type": "stream",
       "stream": "stderr",
       "text": [
        "1112 1113 "
       ]
      },
      {
       "output_type": "stream",
       "stream": "stderr",
       "text": [
        "1114 1115 "
       ]
      },
      {
       "output_type": "stream",
       "stream": "stderr",
       "text": [
        "1116 1117 "
       ]
      },
      {
       "output_type": "stream",
       "stream": "stderr",
       "text": [
        "1118 1119 "
       ]
      },
      {
       "output_type": "stream",
       "stream": "stderr",
       "text": [
        "1120 1121 "
       ]
      },
      {
       "output_type": "stream",
       "stream": "stderr",
       "text": [
        "1122 1123 "
       ]
      },
      {
       "output_type": "stream",
       "stream": "stderr",
       "text": [
        "1124 1125 "
       ]
      },
      {
       "output_type": "stream",
       "stream": "stderr",
       "text": [
        "1126 1127 1128 "
       ]
      },
      {
       "output_type": "stream",
       "stream": "stderr",
       "text": [
        "1129 1130 "
       ]
      },
      {
       "output_type": "stream",
       "stream": "stderr",
       "text": [
        "1131 1132 "
       ]
      },
      {
       "output_type": "stream",
       "stream": "stderr",
       "text": [
        "1133 1134 "
       ]
      },
      {
       "output_type": "stream",
       "stream": "stderr",
       "text": [
        "1135 1136 "
       ]
      },
      {
       "output_type": "stream",
       "stream": "stderr",
       "text": [
        "1137 1138 "
       ]
      },
      {
       "output_type": "stream",
       "stream": "stderr",
       "text": [
        "1139 1140 "
       ]
      },
      {
       "output_type": "stream",
       "stream": "stderr",
       "text": [
        "1141 1142 "
       ]
      },
      {
       "output_type": "stream",
       "stream": "stderr",
       "text": [
        "1143 1144 "
       ]
      },
      {
       "output_type": "stream",
       "stream": "stderr",
       "text": [
        "1145 1146 "
       ]
      },
      {
       "output_type": "stream",
       "stream": "stderr",
       "text": [
        "1147 1148 "
       ]
      },
      {
       "output_type": "stream",
       "stream": "stderr",
       "text": [
        "1149 1150 "
       ]
      },
      {
       "output_type": "stream",
       "stream": "stderr",
       "text": [
        "1151 1152 "
       ]
      },
      {
       "output_type": "stream",
       "stream": "stderr",
       "text": [
        "1153 1154 "
       ]
      },
      {
       "output_type": "stream",
       "stream": "stderr",
       "text": [
        "1155 1156 "
       ]
      },
      {
       "output_type": "stream",
       "stream": "stderr",
       "text": [
        "1157 1158 "
       ]
      },
      {
       "output_type": "stream",
       "stream": "stderr",
       "text": [
        "1159 1160 "
       ]
      },
      {
       "output_type": "stream",
       "stream": "stderr",
       "text": [
        "1161 1162 "
       ]
      },
      {
       "output_type": "stream",
       "stream": "stderr",
       "text": [
        "1163 1164 "
       ]
      },
      {
       "output_type": "stream",
       "stream": "stderr",
       "text": [
        "1165 1166 "
       ]
      },
      {
       "output_type": "stream",
       "stream": "stderr",
       "text": [
        "1167 1168 "
       ]
      },
      {
       "output_type": "stream",
       "stream": "stderr",
       "text": [
        "1169 1170 "
       ]
      },
      {
       "output_type": "stream",
       "stream": "stderr",
       "text": [
        "1171 1172 "
       ]
      },
      {
       "output_type": "stream",
       "stream": "stderr",
       "text": [
        "1173 1174 "
       ]
      },
      {
       "output_type": "stream",
       "stream": "stderr",
       "text": [
        "1175 1176 "
       ]
      },
      {
       "output_type": "stream",
       "stream": "stderr",
       "text": [
        "1177 1178 "
       ]
      },
      {
       "output_type": "stream",
       "stream": "stderr",
       "text": [
        "1179 1180 "
       ]
      },
      {
       "output_type": "stream",
       "stream": "stderr",
       "text": [
        "1181 1182 "
       ]
      },
      {
       "output_type": "stream",
       "stream": "stderr",
       "text": [
        "1183 1184 "
       ]
      },
      {
       "output_type": "stream",
       "stream": "stderr",
       "text": [
        "1185 1186 "
       ]
      },
      {
       "output_type": "stream",
       "stream": "stderr",
       "text": [
        "1187 1188 "
       ]
      },
      {
       "output_type": "stream",
       "stream": "stderr",
       "text": [
        "1189 1190 "
       ]
      },
      {
       "output_type": "stream",
       "stream": "stderr",
       "text": [
        "1191 1192 "
       ]
      },
      {
       "output_type": "stream",
       "stream": "stderr",
       "text": [
        "1193 1194 "
       ]
      },
      {
       "output_type": "stream",
       "stream": "stderr",
       "text": [
        "1195 1196 "
       ]
      },
      {
       "output_type": "stream",
       "stream": "stderr",
       "text": [
        "1197 1198 "
       ]
      },
      {
       "output_type": "stream",
       "stream": "stderr",
       "text": [
        "1199 1200 "
       ]
      },
      {
       "output_type": "stream",
       "stream": "stderr",
       "text": [
        "1201 1202 "
       ]
      },
      {
       "output_type": "stream",
       "stream": "stderr",
       "text": [
        "1203 1204 "
       ]
      },
      {
       "output_type": "stream",
       "stream": "stderr",
       "text": [
        "1205 1206 "
       ]
      },
      {
       "output_type": "stream",
       "stream": "stderr",
       "text": [
        "1207 1208 "
       ]
      },
      {
       "output_type": "stream",
       "stream": "stderr",
       "text": [
        "1209 1210 "
       ]
      },
      {
       "output_type": "stream",
       "stream": "stderr",
       "text": [
        "1211 1212 "
       ]
      },
      {
       "output_type": "stream",
       "stream": "stderr",
       "text": [
        "1213 1214 "
       ]
      },
      {
       "output_type": "stream",
       "stream": "stderr",
       "text": [
        "1215 1216 "
       ]
      },
      {
       "output_type": "stream",
       "stream": "stderr",
       "text": [
        "1217 1218 "
       ]
      },
      {
       "output_type": "stream",
       "stream": "stderr",
       "text": [
        "1219 1220 "
       ]
      },
      {
       "output_type": "stream",
       "stream": "stderr",
       "text": [
        "1221 1222 "
       ]
      },
      {
       "output_type": "stream",
       "stream": "stderr",
       "text": [
        "1223 1224 "
       ]
      },
      {
       "output_type": "stream",
       "stream": "stderr",
       "text": [
        "1225 1226 "
       ]
      },
      {
       "output_type": "stream",
       "stream": "stderr",
       "text": [
        "1227 1228 "
       ]
      },
      {
       "output_type": "stream",
       "stream": "stderr",
       "text": [
        "1229 1230 "
       ]
      },
      {
       "output_type": "stream",
       "stream": "stderr",
       "text": [
        "1231 1232 "
       ]
      },
      {
       "output_type": "stream",
       "stream": "stderr",
       "text": [
        "1233 1234 "
       ]
      },
      {
       "output_type": "stream",
       "stream": "stderr",
       "text": [
        "1235 1236 "
       ]
      },
      {
       "output_type": "stream",
       "stream": "stderr",
       "text": [
        "1237 1238 "
       ]
      },
      {
       "output_type": "stream",
       "stream": "stderr",
       "text": [
        "1239 1240 "
       ]
      },
      {
       "output_type": "stream",
       "stream": "stderr",
       "text": [
        "1241 1242 "
       ]
      },
      {
       "output_type": "stream",
       "stream": "stderr",
       "text": [
        "1243 1244 "
       ]
      },
      {
       "output_type": "stream",
       "stream": "stderr",
       "text": [
        "1245 1246 "
       ]
      },
      {
       "output_type": "stream",
       "stream": "stderr",
       "text": [
        "1247 1248 "
       ]
      },
      {
       "output_type": "stream",
       "stream": "stderr",
       "text": [
        "1249 1250 "
       ]
      },
      {
       "output_type": "stream",
       "stream": "stderr",
       "text": [
        "1251 1252 "
       ]
      },
      {
       "output_type": "stream",
       "stream": "stderr",
       "text": [
        "1253 1254 "
       ]
      },
      {
       "output_type": "stream",
       "stream": "stderr",
       "text": [
        "1255 1256 "
       ]
      },
      {
       "output_type": "stream",
       "stream": "stderr",
       "text": [
        "1257 1258 "
       ]
      },
      {
       "output_type": "stream",
       "stream": "stderr",
       "text": [
        "1259 1260 "
       ]
      },
      {
       "output_type": "stream",
       "stream": "stderr",
       "text": [
        "1261 1262 "
       ]
      },
      {
       "output_type": "stream",
       "stream": "stderr",
       "text": [
        "1263 1264 "
       ]
      },
      {
       "output_type": "stream",
       "stream": "stderr",
       "text": [
        "1265 1266 "
       ]
      },
      {
       "output_type": "stream",
       "stream": "stderr",
       "text": [
        "1267 1268 "
       ]
      },
      {
       "output_type": "stream",
       "stream": "stderr",
       "text": [
        "1269 1270 "
       ]
      },
      {
       "output_type": "stream",
       "stream": "stderr",
       "text": [
        "1271 1272 "
       ]
      },
      {
       "output_type": "stream",
       "stream": "stderr",
       "text": [
        "1273 1274 "
       ]
      },
      {
       "output_type": "stream",
       "stream": "stderr",
       "text": [
        "1275 1276 "
       ]
      },
      {
       "output_type": "stream",
       "stream": "stderr",
       "text": [
        "1277 1278 "
       ]
      },
      {
       "output_type": "stream",
       "stream": "stderr",
       "text": [
        "1279 1280 "
       ]
      },
      {
       "output_type": "stream",
       "stream": "stderr",
       "text": [
        "1281 1282 "
       ]
      },
      {
       "output_type": "stream",
       "stream": "stderr",
       "text": [
        "1283 1284 1285 "
       ]
      },
      {
       "output_type": "stream",
       "stream": "stderr",
       "text": [
        "1286 1287 "
       ]
      },
      {
       "output_type": "stream",
       "stream": "stderr",
       "text": [
        "1288 1289 "
       ]
      },
      {
       "output_type": "stream",
       "stream": "stderr",
       "text": [
        "1290 1291 1292 "
       ]
      },
      {
       "output_type": "stream",
       "stream": "stderr",
       "text": [
        "1293 1294 "
       ]
      },
      {
       "output_type": "stream",
       "stream": "stderr",
       "text": [
        "1295 1296 "
       ]
      },
      {
       "output_type": "stream",
       "stream": "stderr",
       "text": [
        "1297 1298 "
       ]
      },
      {
       "output_type": "stream",
       "stream": "stderr",
       "text": [
        "1299 1300 "
       ]
      },
      {
       "output_type": "stream",
       "stream": "stderr",
       "text": [
        "1301 1302 "
       ]
      },
      {
       "output_type": "stream",
       "stream": "stderr",
       "text": [
        "1303 1304 "
       ]
      },
      {
       "output_type": "stream",
       "stream": "stderr",
       "text": [
        "1305 1306 "
       ]
      },
      {
       "output_type": "stream",
       "stream": "stderr",
       "text": [
        "1307 1308 "
       ]
      },
      {
       "output_type": "stream",
       "stream": "stderr",
       "text": [
        "1309 1310 "
       ]
      },
      {
       "output_type": "stream",
       "stream": "stderr",
       "text": [
        "1311 1312 "
       ]
      },
      {
       "output_type": "stream",
       "stream": "stderr",
       "text": [
        "1313 1314 "
       ]
      },
      {
       "output_type": "stream",
       "stream": "stderr",
       "text": [
        "1315 1316 "
       ]
      },
      {
       "output_type": "stream",
       "stream": "stderr",
       "text": [
        "1317 1318 "
       ]
      },
      {
       "output_type": "stream",
       "stream": "stderr",
       "text": [
        "1319 1320 "
       ]
      },
      {
       "output_type": "stream",
       "stream": "stderr",
       "text": [
        "1321 1322 "
       ]
      },
      {
       "output_type": "stream",
       "stream": "stderr",
       "text": [
        "1323 1324 "
       ]
      },
      {
       "output_type": "stream",
       "stream": "stderr",
       "text": [
        "1325 1326 "
       ]
      },
      {
       "output_type": "stream",
       "stream": "stderr",
       "text": [
        "1327 1328 "
       ]
      },
      {
       "output_type": "stream",
       "stream": "stderr",
       "text": [
        "1329 1330 "
       ]
      },
      {
       "output_type": "stream",
       "stream": "stderr",
       "text": [
        "1331 1332 "
       ]
      },
      {
       "output_type": "stream",
       "stream": "stderr",
       "text": [
        "1333 1334 "
       ]
      },
      {
       "output_type": "stream",
       "stream": "stderr",
       "text": [
        "1335 1336 "
       ]
      },
      {
       "output_type": "stream",
       "stream": "stderr",
       "text": [
        "1337 1338 "
       ]
      },
      {
       "output_type": "stream",
       "stream": "stderr",
       "text": [
        "1339 1340 "
       ]
      },
      {
       "output_type": "stream",
       "stream": "stderr",
       "text": [
        "1341 1342 "
       ]
      },
      {
       "output_type": "stream",
       "stream": "stderr",
       "text": [
        "1343 1344 "
       ]
      },
      {
       "output_type": "stream",
       "stream": "stderr",
       "text": [
        "1345 1346 "
       ]
      },
      {
       "output_type": "stream",
       "stream": "stderr",
       "text": [
        "1347 1348 "
       ]
      },
      {
       "output_type": "stream",
       "stream": "stderr",
       "text": [
        "1349 1350 "
       ]
      },
      {
       "output_type": "stream",
       "stream": "stderr",
       "text": [
        "1351 1352 "
       ]
      },
      {
       "output_type": "stream",
       "stream": "stderr",
       "text": [
        "1353 1354 "
       ]
      },
      {
       "output_type": "stream",
       "stream": "stderr",
       "text": [
        "1355 1356 "
       ]
      },
      {
       "output_type": "stream",
       "stream": "stderr",
       "text": [
        "1357 1358 "
       ]
      },
      {
       "output_type": "stream",
       "stream": "stderr",
       "text": [
        "1359 1360 "
       ]
      },
      {
       "output_type": "stream",
       "stream": "stderr",
       "text": [
        "1361 1362 "
       ]
      },
      {
       "output_type": "stream",
       "stream": "stderr",
       "text": [
        "1363 1364 "
       ]
      },
      {
       "output_type": "stream",
       "stream": "stderr",
       "text": [
        "1365 1366 "
       ]
      },
      {
       "output_type": "stream",
       "stream": "stderr",
       "text": [
        "1367 1368 "
       ]
      },
      {
       "output_type": "stream",
       "stream": "stderr",
       "text": [
        "1369 1370 "
       ]
      },
      {
       "output_type": "stream",
       "stream": "stderr",
       "text": [
        "1371 1372 1373 "
       ]
      },
      {
       "output_type": "stream",
       "stream": "stderr",
       "text": [
        "1374 1375 "
       ]
      },
      {
       "output_type": "stream",
       "stream": "stderr",
       "text": [
        "1376 1377 "
       ]
      },
      {
       "output_type": "stream",
       "stream": "stderr",
       "text": [
        "1378 1379 "
       ]
      },
      {
       "output_type": "stream",
       "stream": "stderr",
       "text": [
        "1380 1381 "
       ]
      },
      {
       "output_type": "stream",
       "stream": "stderr",
       "text": [
        "1382 1383 "
       ]
      },
      {
       "output_type": "stream",
       "stream": "stderr",
       "text": [
        "1384 1385 "
       ]
      },
      {
       "output_type": "stream",
       "stream": "stderr",
       "text": [
        "1386 1387 "
       ]
      },
      {
       "output_type": "stream",
       "stream": "stderr",
       "text": [
        "1388 1389 "
       ]
      },
      {
       "output_type": "stream",
       "stream": "stderr",
       "text": [
        "1390 1391 "
       ]
      },
      {
       "output_type": "stream",
       "stream": "stderr",
       "text": [
        "1392 1393 "
       ]
      },
      {
       "output_type": "stream",
       "stream": "stderr",
       "text": [
        "1394 1395 "
       ]
      },
      {
       "output_type": "stream",
       "stream": "stderr",
       "text": [
        "1396 1397 "
       ]
      },
      {
       "output_type": "stream",
       "stream": "stderr",
       "text": [
        "1398 1399 "
       ]
      },
      {
       "output_type": "stream",
       "stream": "stderr",
       "text": [
        "1400 1401 "
       ]
      },
      {
       "output_type": "stream",
       "stream": "stderr",
       "text": [
        "1402 1403 "
       ]
      },
      {
       "output_type": "stream",
       "stream": "stderr",
       "text": [
        "1404 1405 "
       ]
      },
      {
       "output_type": "stream",
       "stream": "stderr",
       "text": [
        "1406 1407 "
       ]
      },
      {
       "output_type": "stream",
       "stream": "stderr",
       "text": [
        "1408 1409 "
       ]
      },
      {
       "output_type": "stream",
       "stream": "stderr",
       "text": [
        "1410 1411 "
       ]
      },
      {
       "output_type": "stream",
       "stream": "stderr",
       "text": [
        "1412 1413 "
       ]
      },
      {
       "output_type": "stream",
       "stream": "stderr",
       "text": [
        "1414 1415 "
       ]
      },
      {
       "output_type": "stream",
       "stream": "stderr",
       "text": [
        "1416 1417 "
       ]
      },
      {
       "output_type": "stream",
       "stream": "stderr",
       "text": [
        "1418 1419 "
       ]
      },
      {
       "output_type": "stream",
       "stream": "stderr",
       "text": [
        "1420 1421 "
       ]
      },
      {
       "output_type": "stream",
       "stream": "stderr",
       "text": [
        "1422 1423 "
       ]
      },
      {
       "output_type": "stream",
       "stream": "stderr",
       "text": [
        "1424 1425 "
       ]
      },
      {
       "output_type": "stream",
       "stream": "stderr",
       "text": [
        "1426 1427 "
       ]
      },
      {
       "output_type": "stream",
       "stream": "stderr",
       "text": [
        "1428 1429 "
       ]
      },
      {
       "output_type": "stream",
       "stream": "stderr",
       "text": [
        "1430 1431 "
       ]
      },
      {
       "output_type": "stream",
       "stream": "stderr",
       "text": [
        "1432 1433 "
       ]
      },
      {
       "output_type": "stream",
       "stream": "stderr",
       "text": [
        "1434 1435 "
       ]
      },
      {
       "output_type": "stream",
       "stream": "stderr",
       "text": [
        "1436 1437 "
       ]
      },
      {
       "output_type": "stream",
       "stream": "stderr",
       "text": [
        "1438 1439 "
       ]
      },
      {
       "output_type": "stream",
       "stream": "stderr",
       "text": [
        "1440 1441 "
       ]
      },
      {
       "output_type": "stream",
       "stream": "stderr",
       "text": [
        "1442 1443 "
       ]
      },
      {
       "output_type": "stream",
       "stream": "stderr",
       "text": [
        "1444 1445 "
       ]
      },
      {
       "output_type": "stream",
       "stream": "stderr",
       "text": [
        "1446 1447 "
       ]
      },
      {
       "output_type": "stream",
       "stream": "stderr",
       "text": [
        "1448 1449 "
       ]
      },
      {
       "output_type": "stream",
       "stream": "stderr",
       "text": [
        "1450 1451 "
       ]
      },
      {
       "output_type": "stream",
       "stream": "stderr",
       "text": [
        "1452 1453 1454 "
       ]
      },
      {
       "output_type": "stream",
       "stream": "stderr",
       "text": [
        "1455 1456 "
       ]
      },
      {
       "output_type": "stream",
       "stream": "stderr",
       "text": [
        "1457 1458 "
       ]
      },
      {
       "output_type": "stream",
       "stream": "stderr",
       "text": [
        "1459 1460 "
       ]
      },
      {
       "output_type": "stream",
       "stream": "stderr",
       "text": [
        "1461 1462 "
       ]
      },
      {
       "output_type": "stream",
       "stream": "stderr",
       "text": [
        "1463 1464 "
       ]
      },
      {
       "output_type": "stream",
       "stream": "stderr",
       "text": [
        "1465 1466 "
       ]
      },
      {
       "output_type": "stream",
       "stream": "stderr",
       "text": [
        "1467 1468 "
       ]
      },
      {
       "output_type": "stream",
       "stream": "stderr",
       "text": [
        "1469 1470 "
       ]
      },
      {
       "output_type": "stream",
       "stream": "stderr",
       "text": [
        "1471 1472 "
       ]
      },
      {
       "output_type": "stream",
       "stream": "stderr",
       "text": [
        "1473 1474 "
       ]
      },
      {
       "output_type": "stream",
       "stream": "stderr",
       "text": [
        "1475 1476 "
       ]
      },
      {
       "output_type": "stream",
       "stream": "stderr",
       "text": [
        "1477 1478 "
       ]
      },
      {
       "output_type": "stream",
       "stream": "stderr",
       "text": [
        "1479 1480 "
       ]
      },
      {
       "output_type": "stream",
       "stream": "stderr",
       "text": [
        "1481 1482 "
       ]
      },
      {
       "output_type": "stream",
       "stream": "stderr",
       "text": [
        "1483 1484 "
       ]
      },
      {
       "output_type": "stream",
       "stream": "stderr",
       "text": [
        "1485 1486 "
       ]
      },
      {
       "output_type": "stream",
       "stream": "stderr",
       "text": [
        "1487 1488 "
       ]
      },
      {
       "output_type": "stream",
       "stream": "stderr",
       "text": [
        "1489 1490 "
       ]
      },
      {
       "output_type": "stream",
       "stream": "stderr",
       "text": [
        "1491 1492 "
       ]
      },
      {
       "output_type": "stream",
       "stream": "stderr",
       "text": [
        "1493 1494 "
       ]
      },
      {
       "output_type": "stream",
       "stream": "stderr",
       "text": [
        "1495 1496 "
       ]
      },
      {
       "output_type": "stream",
       "stream": "stderr",
       "text": [
        "1497 1498 "
       ]
      },
      {
       "output_type": "stream",
       "stream": "stderr",
       "text": [
        "1499 1500 "
       ]
      },
      {
       "output_type": "stream",
       "stream": "stderr",
       "text": [
        "1501 1502 "
       ]
      },
      {
       "output_type": "stream",
       "stream": "stderr",
       "text": [
        "1503 1504 "
       ]
      },
      {
       "output_type": "stream",
       "stream": "stderr",
       "text": [
        "1505 1506 "
       ]
      },
      {
       "output_type": "stream",
       "stream": "stderr",
       "text": [
        "1507 1508 "
       ]
      },
      {
       "output_type": "stream",
       "stream": "stderr",
       "text": [
        "1509 1510 "
       ]
      },
      {
       "output_type": "stream",
       "stream": "stderr",
       "text": [
        "1511 1512 "
       ]
      },
      {
       "output_type": "stream",
       "stream": "stderr",
       "text": [
        "1513 1514 "
       ]
      },
      {
       "output_type": "stream",
       "stream": "stderr",
       "text": [
        "1515 1516 "
       ]
      },
      {
       "output_type": "stream",
       "stream": "stderr",
       "text": [
        "1517 1518 "
       ]
      },
      {
       "output_type": "stream",
       "stream": "stderr",
       "text": [
        "1519 1520 "
       ]
      },
      {
       "output_type": "stream",
       "stream": "stderr",
       "text": [
        "1521 1522 "
       ]
      },
      {
       "output_type": "stream",
       "stream": "stderr",
       "text": [
        "1523 1524 "
       ]
      },
      {
       "output_type": "stream",
       "stream": "stderr",
       "text": [
        "1525 1526 "
       ]
      },
      {
       "output_type": "stream",
       "stream": "stderr",
       "text": [
        "1527 1528 "
       ]
      },
      {
       "output_type": "stream",
       "stream": "stderr",
       "text": [
        "1529 1530 "
       ]
      },
      {
       "output_type": "stream",
       "stream": "stderr",
       "text": [
        "1531 1532 "
       ]
      },
      {
       "output_type": "stream",
       "stream": "stderr",
       "text": [
        "1533 1534 "
       ]
      },
      {
       "output_type": "stream",
       "stream": "stderr",
       "text": [
        "1535 1536 "
       ]
      },
      {
       "output_type": "stream",
       "stream": "stderr",
       "text": [
        "1537 1538 "
       ]
      },
      {
       "output_type": "stream",
       "stream": "stderr",
       "text": [
        "1539 1540 "
       ]
      },
      {
       "output_type": "stream",
       "stream": "stderr",
       "text": [
        "1541 1542 "
       ]
      },
      {
       "output_type": "stream",
       "stream": "stderr",
       "text": [
        "1543 1544 "
       ]
      },
      {
       "output_type": "stream",
       "stream": "stderr",
       "text": [
        "1545 1546 "
       ]
      },
      {
       "output_type": "stream",
       "stream": "stderr",
       "text": [
        "1547 1548 "
       ]
      },
      {
       "output_type": "stream",
       "stream": "stderr",
       "text": [
        "1549 1550 "
       ]
      },
      {
       "output_type": "stream",
       "stream": "stderr",
       "text": [
        "1551 1552 "
       ]
      },
      {
       "output_type": "stream",
       "stream": "stderr",
       "text": [
        "1553 1554 "
       ]
      },
      {
       "output_type": "stream",
       "stream": "stderr",
       "text": [
        "1555 1556 "
       ]
      },
      {
       "output_type": "stream",
       "stream": "stderr",
       "text": [
        "1557 1558 "
       ]
      },
      {
       "output_type": "stream",
       "stream": "stderr",
       "text": [
        "1559 1560 "
       ]
      },
      {
       "output_type": "stream",
       "stream": "stderr",
       "text": [
        "1561 1562 "
       ]
      },
      {
       "output_type": "stream",
       "stream": "stderr",
       "text": [
        "1563 1564 "
       ]
      },
      {
       "output_type": "stream",
       "stream": "stderr",
       "text": [
        "1565 1566 "
       ]
      },
      {
       "output_type": "stream",
       "stream": "stderr",
       "text": [
        "1567 1568 "
       ]
      },
      {
       "output_type": "stream",
       "stream": "stderr",
       "text": [
        "1569 1570 "
       ]
      },
      {
       "output_type": "stream",
       "stream": "stderr",
       "text": [
        "1571 1572 "
       ]
      },
      {
       "output_type": "stream",
       "stream": "stderr",
       "text": [
        "1573 1574 "
       ]
      },
      {
       "output_type": "stream",
       "stream": "stderr",
       "text": [
        "1575 1576 "
       ]
      },
      {
       "output_type": "stream",
       "stream": "stderr",
       "text": [
        "1577 1578 "
       ]
      },
      {
       "output_type": "stream",
       "stream": "stderr",
       "text": [
        "1579 1580 "
       ]
      },
      {
       "output_type": "stream",
       "stream": "stderr",
       "text": [
        "1581 1582 "
       ]
      },
      {
       "output_type": "stream",
       "stream": "stderr",
       "text": [
        "1583 1584 "
       ]
      },
      {
       "output_type": "stream",
       "stream": "stderr",
       "text": [
        "1585 1586 "
       ]
      },
      {
       "output_type": "stream",
       "stream": "stderr",
       "text": [
        "1587 1588 "
       ]
      },
      {
       "output_type": "stream",
       "stream": "stderr",
       "text": [
        "1589 1590 "
       ]
      },
      {
       "output_type": "stream",
       "stream": "stderr",
       "text": [
        "1591 1592 "
       ]
      },
      {
       "output_type": "stream",
       "stream": "stderr",
       "text": [
        "1593 1594 "
       ]
      },
      {
       "output_type": "stream",
       "stream": "stderr",
       "text": [
        "1595 1596 "
       ]
      },
      {
       "output_type": "stream",
       "stream": "stderr",
       "text": [
        "1597 1598 "
       ]
      },
      {
       "output_type": "stream",
       "stream": "stderr",
       "text": [
        "1599 1600 "
       ]
      },
      {
       "output_type": "stream",
       "stream": "stderr",
       "text": [
        "1601 1602 "
       ]
      },
      {
       "output_type": "stream",
       "stream": "stderr",
       "text": [
        "1603 1604 "
       ]
      },
      {
       "output_type": "stream",
       "stream": "stderr",
       "text": [
        "1605 1606 "
       ]
      },
      {
       "output_type": "stream",
       "stream": "stderr",
       "text": [
        "1607 1608 "
       ]
      },
      {
       "output_type": "stream",
       "stream": "stderr",
       "text": [
        "1609 1610 "
       ]
      },
      {
       "output_type": "stream",
       "stream": "stderr",
       "text": [
        "1611 1612 "
       ]
      },
      {
       "output_type": "stream",
       "stream": "stderr",
       "text": [
        "1613 1614 "
       ]
      },
      {
       "output_type": "stream",
       "stream": "stderr",
       "text": [
        "1615 1616 "
       ]
      },
      {
       "output_type": "stream",
       "stream": "stderr",
       "text": [
        "1617 1618 "
       ]
      },
      {
       "output_type": "stream",
       "stream": "stderr",
       "text": [
        "1619 1620 "
       ]
      },
      {
       "output_type": "stream",
       "stream": "stderr",
       "text": [
        "1621 1622 "
       ]
      },
      {
       "output_type": "stream",
       "stream": "stderr",
       "text": [
        "1623 1624 "
       ]
      },
      {
       "output_type": "stream",
       "stream": "stderr",
       "text": [
        "1625 1626 "
       ]
      },
      {
       "output_type": "stream",
       "stream": "stderr",
       "text": [
        "1627 1628 "
       ]
      },
      {
       "output_type": "stream",
       "stream": "stderr",
       "text": [
        "1629 1630 "
       ]
      },
      {
       "output_type": "stream",
       "stream": "stderr",
       "text": [
        "1631 1632 "
       ]
      },
      {
       "output_type": "stream",
       "stream": "stderr",
       "text": [
        "1633 1634 "
       ]
      },
      {
       "output_type": "stream",
       "stream": "stderr",
       "text": [
        "1635 1636 "
       ]
      },
      {
       "output_type": "stream",
       "stream": "stderr",
       "text": [
        "1637 1638 "
       ]
      },
      {
       "output_type": "stream",
       "stream": "stderr",
       "text": [
        "1639 1640 "
       ]
      },
      {
       "output_type": "stream",
       "stream": "stderr",
       "text": [
        "1641 1642 "
       ]
      },
      {
       "output_type": "stream",
       "stream": "stderr",
       "text": [
        "1643 1644 "
       ]
      },
      {
       "output_type": "stream",
       "stream": "stderr",
       "text": [
        "1645 1646 "
       ]
      },
      {
       "output_type": "stream",
       "stream": "stderr",
       "text": [
        "1647 1648 "
       ]
      },
      {
       "output_type": "stream",
       "stream": "stderr",
       "text": [
        "1649 1650 "
       ]
      },
      {
       "output_type": "stream",
       "stream": "stderr",
       "text": [
        "1651 1652 "
       ]
      },
      {
       "output_type": "stream",
       "stream": "stderr",
       "text": [
        "1653 1654 "
       ]
      },
      {
       "output_type": "stream",
       "stream": "stderr",
       "text": [
        "1655 1656 "
       ]
      },
      {
       "output_type": "stream",
       "stream": "stderr",
       "text": [
        "1657 1658 "
       ]
      },
      {
       "output_type": "stream",
       "stream": "stderr",
       "text": [
        "1659 1660 "
       ]
      },
      {
       "output_type": "stream",
       "stream": "stderr",
       "text": [
        "1661 1662 "
       ]
      },
      {
       "output_type": "stream",
       "stream": "stderr",
       "text": [
        "1663 1664 "
       ]
      },
      {
       "output_type": "stream",
       "stream": "stderr",
       "text": [
        "1665 1666 "
       ]
      },
      {
       "output_type": "stream",
       "stream": "stderr",
       "text": [
        "1667 1668 "
       ]
      },
      {
       "output_type": "stream",
       "stream": "stderr",
       "text": [
        "1669 1670 "
       ]
      },
      {
       "output_type": "stream",
       "stream": "stderr",
       "text": [
        "1671 1672 "
       ]
      },
      {
       "output_type": "stream",
       "stream": "stderr",
       "text": [
        "1673 1674 "
       ]
      },
      {
       "output_type": "stream",
       "stream": "stderr",
       "text": [
        "1675 1676 "
       ]
      },
      {
       "output_type": "stream",
       "stream": "stderr",
       "text": [
        "1677 1678 "
       ]
      },
      {
       "output_type": "stream",
       "stream": "stderr",
       "text": [
        "1679 1680 "
       ]
      },
      {
       "output_type": "stream",
       "stream": "stderr",
       "text": [
        "1681 1682 "
       ]
      },
      {
       "output_type": "stream",
       "stream": "stderr",
       "text": [
        "1683 1684 "
       ]
      },
      {
       "output_type": "stream",
       "stream": "stderr",
       "text": [
        "1685 1686 "
       ]
      },
      {
       "output_type": "stream",
       "stream": "stderr",
       "text": [
        "1687 1688 "
       ]
      },
      {
       "output_type": "stream",
       "stream": "stderr",
       "text": [
        "1689 1690 "
       ]
      },
      {
       "output_type": "stream",
       "stream": "stderr",
       "text": [
        "1691 1692 "
       ]
      },
      {
       "output_type": "stream",
       "stream": "stderr",
       "text": [
        "1693 1694 "
       ]
      },
      {
       "output_type": "stream",
       "stream": "stderr",
       "text": [
        "1695 1696 "
       ]
      },
      {
       "output_type": "stream",
       "stream": "stderr",
       "text": [
        "1697 1698 "
       ]
      },
      {
       "output_type": "stream",
       "stream": "stderr",
       "text": [
        "1699 1700 "
       ]
      },
      {
       "output_type": "stream",
       "stream": "stderr",
       "text": [
        "1701 1702 "
       ]
      },
      {
       "output_type": "stream",
       "stream": "stderr",
       "text": [
        "1703 1704 "
       ]
      },
      {
       "output_type": "stream",
       "stream": "stderr",
       "text": [
        "1705 1706 "
       ]
      },
      {
       "output_type": "stream",
       "stream": "stderr",
       "text": [
        "1707 1708 "
       ]
      },
      {
       "output_type": "stream",
       "stream": "stderr",
       "text": [
        "1709 1710 "
       ]
      },
      {
       "output_type": "stream",
       "stream": "stderr",
       "text": [
        "1711 1712 "
       ]
      },
      {
       "output_type": "stream",
       "stream": "stderr",
       "text": [
        "1713 1714 "
       ]
      },
      {
       "output_type": "stream",
       "stream": "stderr",
       "text": [
        "1715 1716 1717 "
       ]
      },
      {
       "output_type": "stream",
       "stream": "stderr",
       "text": [
        "1718 1719 "
       ]
      },
      {
       "output_type": "stream",
       "stream": "stderr",
       "text": [
        "1720 1721 1722 "
       ]
      },
      {
       "output_type": "stream",
       "stream": "stderr",
       "text": [
        "1723 1724 "
       ]
      },
      {
       "output_type": "stream",
       "stream": "stderr",
       "text": [
        "1725 1726 "
       ]
      },
      {
       "output_type": "stream",
       "stream": "stderr",
       "text": [
        "1727 1728 "
       ]
      },
      {
       "output_type": "stream",
       "stream": "stderr",
       "text": [
        "1729 1730 "
       ]
      },
      {
       "output_type": "stream",
       "stream": "stderr",
       "text": [
        "1731 1732 "
       ]
      },
      {
       "output_type": "stream",
       "stream": "stderr",
       "text": [
        "1733 1734 "
       ]
      },
      {
       "output_type": "stream",
       "stream": "stderr",
       "text": [
        "1735 1736 "
       ]
      },
      {
       "output_type": "stream",
       "stream": "stderr",
       "text": [
        "1737 1738 1739 "
       ]
      },
      {
       "output_type": "stream",
       "stream": "stderr",
       "text": [
        "1740 1741 "
       ]
      },
      {
       "output_type": "stream",
       "stream": "stderr",
       "text": [
        "1742 1743 "
       ]
      },
      {
       "output_type": "stream",
       "stream": "stderr",
       "text": [
        "1744 1745 "
       ]
      },
      {
       "output_type": "stream",
       "stream": "stderr",
       "text": [
        "1746 1747 "
       ]
      },
      {
       "output_type": "stream",
       "stream": "stderr",
       "text": [
        "1748 1749 "
       ]
      },
      {
       "output_type": "stream",
       "stream": "stderr",
       "text": [
        "1750 1751 "
       ]
      },
      {
       "output_type": "stream",
       "stream": "stderr",
       "text": [
        "1752 1753 1754 "
       ]
      },
      {
       "output_type": "stream",
       "stream": "stderr",
       "text": [
        "1755 1756 "
       ]
      },
      {
       "output_type": "stream",
       "stream": "stderr",
       "text": [
        "1757 1758 "
       ]
      },
      {
       "output_type": "stream",
       "stream": "stderr",
       "text": [
        "1759 1760 "
       ]
      },
      {
       "output_type": "stream",
       "stream": "stderr",
       "text": [
        "1761 1762 "
       ]
      },
      {
       "output_type": "stream",
       "stream": "stderr",
       "text": [
        "1763 1764 "
       ]
      },
      {
       "output_type": "stream",
       "stream": "stderr",
       "text": [
        "1765 1766 "
       ]
      },
      {
       "output_type": "stream",
       "stream": "stderr",
       "text": [
        "1767 1768 1769 "
       ]
      },
      {
       "output_type": "stream",
       "stream": "stderr",
       "text": [
        "1770 1771 "
       ]
      },
      {
       "output_type": "stream",
       "stream": "stderr",
       "text": [
        "1772 1773 "
       ]
      },
      {
       "output_type": "stream",
       "stream": "stderr",
       "text": [
        "1774 1775 "
       ]
      },
      {
       "output_type": "stream",
       "stream": "stderr",
       "text": [
        "1776 1777 "
       ]
      },
      {
       "output_type": "stream",
       "stream": "stderr",
       "text": [
        "1778 1779 "
       ]
      },
      {
       "output_type": "stream",
       "stream": "stderr",
       "text": [
        "1780 1781 "
       ]
      },
      {
       "output_type": "stream",
       "stream": "stderr",
       "text": [
        "1782 1783 "
       ]
      },
      {
       "output_type": "stream",
       "stream": "stderr",
       "text": [
        "1784 1785 "
       ]
      },
      {
       "output_type": "stream",
       "stream": "stderr",
       "text": [
        "1786 1787 "
       ]
      },
      {
       "output_type": "stream",
       "stream": "stderr",
       "text": [
        "1788 1789 "
       ]
      },
      {
       "output_type": "stream",
       "stream": "stderr",
       "text": [
        "1790 1791 "
       ]
      },
      {
       "output_type": "stream",
       "stream": "stderr",
       "text": [
        "1792 1793 "
       ]
      },
      {
       "output_type": "stream",
       "stream": "stderr",
       "text": [
        "1794 1795 "
       ]
      },
      {
       "output_type": "stream",
       "stream": "stderr",
       "text": [
        "1796 1797 "
       ]
      },
      {
       "output_type": "stream",
       "stream": "stderr",
       "text": [
        "1798 1799 "
       ]
      },
      {
       "output_type": "stream",
       "stream": "stderr",
       "text": [
        "1800 1801 "
       ]
      },
      {
       "output_type": "stream",
       "stream": "stderr",
       "text": [
        "1802 1803 "
       ]
      },
      {
       "output_type": "stream",
       "stream": "stderr",
       "text": [
        "1804 1805 "
       ]
      },
      {
       "output_type": "stream",
       "stream": "stderr",
       "text": [
        "1806 1807 "
       ]
      },
      {
       "output_type": "stream",
       "stream": "stderr",
       "text": [
        "1808 1809 "
       ]
      },
      {
       "output_type": "stream",
       "stream": "stderr",
       "text": [
        "1810 1811 "
       ]
      },
      {
       "output_type": "stream",
       "stream": "stderr",
       "text": [
        "1812 1813 "
       ]
      },
      {
       "output_type": "stream",
       "stream": "stderr",
       "text": [
        "1814 1815 "
       ]
      },
      {
       "output_type": "stream",
       "stream": "stderr",
       "text": [
        "1816 1817 "
       ]
      },
      {
       "output_type": "stream",
       "stream": "stderr",
       "text": [
        "1818 1819 "
       ]
      },
      {
       "output_type": "stream",
       "stream": "stderr",
       "text": [
        "1820 1821 "
       ]
      },
      {
       "output_type": "stream",
       "stream": "stderr",
       "text": [
        "1822 1823 "
       ]
      },
      {
       "output_type": "stream",
       "stream": "stderr",
       "text": [
        "1824 1825 "
       ]
      },
      {
       "output_type": "stream",
       "stream": "stderr",
       "text": [
        "1826 1827 "
       ]
      },
      {
       "output_type": "stream",
       "stream": "stderr",
       "text": [
        "1828 1829 "
       ]
      },
      {
       "output_type": "stream",
       "stream": "stderr",
       "text": [
        "1830 1831 "
       ]
      },
      {
       "output_type": "stream",
       "stream": "stderr",
       "text": [
        "1832 1833 "
       ]
      },
      {
       "output_type": "stream",
       "stream": "stderr",
       "text": [
        "1834 1835 "
       ]
      },
      {
       "output_type": "stream",
       "stream": "stderr",
       "text": [
        "1836 1837 "
       ]
      },
      {
       "output_type": "stream",
       "stream": "stderr",
       "text": [
        "1838 1839 "
       ]
      },
      {
       "output_type": "stream",
       "stream": "stderr",
       "text": [
        "1840 1841 "
       ]
      },
      {
       "output_type": "stream",
       "stream": "stderr",
       "text": [
        "1842 1843 "
       ]
      },
      {
       "output_type": "stream",
       "stream": "stderr",
       "text": [
        "1844 1845 "
       ]
      },
      {
       "output_type": "stream",
       "stream": "stderr",
       "text": [
        "1846 1847 "
       ]
      },
      {
       "output_type": "stream",
       "stream": "stderr",
       "text": [
        "1848 1849 "
       ]
      },
      {
       "output_type": "stream",
       "stream": "stderr",
       "text": [
        "1850 1851 "
       ]
      },
      {
       "output_type": "stream",
       "stream": "stderr",
       "text": [
        "1852 1853 "
       ]
      },
      {
       "output_type": "stream",
       "stream": "stderr",
       "text": [
        "1854 1855 "
       ]
      },
      {
       "output_type": "stream",
       "stream": "stderr",
       "text": [
        "1856 1857 "
       ]
      },
      {
       "output_type": "stream",
       "stream": "stderr",
       "text": [
        "1858 1859 "
       ]
      },
      {
       "output_type": "stream",
       "stream": "stderr",
       "text": [
        "1860 1861 "
       ]
      },
      {
       "output_type": "stream",
       "stream": "stderr",
       "text": [
        "1862 1863 "
       ]
      },
      {
       "output_type": "stream",
       "stream": "stderr",
       "text": [
        "1864 1865 "
       ]
      },
      {
       "output_type": "stream",
       "stream": "stderr",
       "text": [
        "1866 1867 "
       ]
      },
      {
       "output_type": "stream",
       "stream": "stderr",
       "text": [
        "1868 1869 "
       ]
      },
      {
       "output_type": "stream",
       "stream": "stderr",
       "text": [
        "1870 1871 "
       ]
      },
      {
       "output_type": "stream",
       "stream": "stderr",
       "text": [
        "1872 1873 "
       ]
      },
      {
       "output_type": "stream",
       "stream": "stderr",
       "text": [
        "1874 1875 "
       ]
      },
      {
       "output_type": "stream",
       "stream": "stderr",
       "text": [
        "1876 1877 "
       ]
      },
      {
       "output_type": "stream",
       "stream": "stderr",
       "text": [
        "1878 1879 "
       ]
      },
      {
       "output_type": "stream",
       "stream": "stderr",
       "text": [
        "1880 1881 "
       ]
      },
      {
       "output_type": "stream",
       "stream": "stderr",
       "text": [
        "1882 1883 "
       ]
      },
      {
       "output_type": "stream",
       "stream": "stderr",
       "text": [
        "1884 1885 "
       ]
      },
      {
       "output_type": "stream",
       "stream": "stderr",
       "text": [
        "1886 1887 "
       ]
      },
      {
       "output_type": "stream",
       "stream": "stderr",
       "text": [
        "1888 1889 "
       ]
      },
      {
       "output_type": "stream",
       "stream": "stderr",
       "text": [
        "1890 1891 "
       ]
      },
      {
       "output_type": "stream",
       "stream": "stderr",
       "text": [
        "1892 1893 "
       ]
      },
      {
       "output_type": "stream",
       "stream": "stderr",
       "text": [
        "1894 1895 "
       ]
      },
      {
       "output_type": "stream",
       "stream": "stderr",
       "text": [
        "1896 1897 "
       ]
      },
      {
       "output_type": "stream",
       "stream": "stderr",
       "text": [
        "1898 1899 "
       ]
      },
      {
       "output_type": "stream",
       "stream": "stderr",
       "text": [
        "1900 1901 "
       ]
      },
      {
       "output_type": "stream",
       "stream": "stderr",
       "text": [
        "1902 1903 "
       ]
      },
      {
       "output_type": "stream",
       "stream": "stderr",
       "text": [
        "1904 1905 1906 "
       ]
      },
      {
       "output_type": "stream",
       "stream": "stderr",
       "text": [
        "1907 1908 "
       ]
      },
      {
       "output_type": "stream",
       "stream": "stderr",
       "text": [
        "1909 1910 "
       ]
      },
      {
       "output_type": "stream",
       "stream": "stderr",
       "text": [
        "1911 1912 1913 "
       ]
      },
      {
       "output_type": "stream",
       "stream": "stderr",
       "text": [
        "1914 1915 "
       ]
      },
      {
       "output_type": "stream",
       "stream": "stderr",
       "text": [
        "1916 1917 "
       ]
      },
      {
       "output_type": "stream",
       "stream": "stderr",
       "text": [
        "1918 1919 "
       ]
      },
      {
       "output_type": "stream",
       "stream": "stderr",
       "text": [
        "1920 1921 "
       ]
      },
      {
       "output_type": "stream",
       "stream": "stderr",
       "text": [
        "1922 1923 "
       ]
      },
      {
       "output_type": "stream",
       "stream": "stderr",
       "text": [
        "1924 1925 "
       ]
      },
      {
       "output_type": "stream",
       "stream": "stderr",
       "text": [
        "1926 1927 "
       ]
      },
      {
       "output_type": "stream",
       "stream": "stderr",
       "text": [
        "1928 1929 "
       ]
      },
      {
       "output_type": "stream",
       "stream": "stderr",
       "text": [
        "1930 1931 "
       ]
      },
      {
       "output_type": "stream",
       "stream": "stderr",
       "text": [
        "1932 1933 "
       ]
      },
      {
       "output_type": "stream",
       "stream": "stderr",
       "text": [
        "1934 1935 "
       ]
      },
      {
       "output_type": "stream",
       "stream": "stderr",
       "text": [
        "1936 1937 "
       ]
      },
      {
       "output_type": "stream",
       "stream": "stderr",
       "text": [
        "1938 1939 "
       ]
      },
      {
       "output_type": "stream",
       "stream": "stderr",
       "text": [
        "1940 1941 "
       ]
      },
      {
       "output_type": "stream",
       "stream": "stderr",
       "text": [
        "1942 1943 "
       ]
      },
      {
       "output_type": "stream",
       "stream": "stderr",
       "text": [
        "1944 1945 "
       ]
      },
      {
       "output_type": "stream",
       "stream": "stderr",
       "text": [
        "1946 1947 "
       ]
      },
      {
       "output_type": "stream",
       "stream": "stderr",
       "text": [
        "1948 1949 "
       ]
      },
      {
       "output_type": "stream",
       "stream": "stderr",
       "text": [
        "1950 1951 "
       ]
      },
      {
       "output_type": "stream",
       "stream": "stderr",
       "text": [
        "1952 1953 "
       ]
      },
      {
       "output_type": "stream",
       "stream": "stderr",
       "text": [
        "1954 1955 "
       ]
      },
      {
       "output_type": "stream",
       "stream": "stderr",
       "text": [
        "1956 1957 "
       ]
      },
      {
       "output_type": "stream",
       "stream": "stderr",
       "text": [
        "1958 1959 "
       ]
      },
      {
       "output_type": "stream",
       "stream": "stderr",
       "text": [
        "1960 1961 "
       ]
      },
      {
       "output_type": "stream",
       "stream": "stderr",
       "text": [
        "1962 1963 "
       ]
      },
      {
       "output_type": "stream",
       "stream": "stderr",
       "text": [
        "1964 1965 "
       ]
      },
      {
       "output_type": "stream",
       "stream": "stderr",
       "text": [
        "1966 1967 "
       ]
      },
      {
       "output_type": "stream",
       "stream": "stderr",
       "text": [
        "1968 1969 "
       ]
      },
      {
       "output_type": "stream",
       "stream": "stderr",
       "text": [
        "1970 1971 "
       ]
      },
      {
       "output_type": "stream",
       "stream": "stderr",
       "text": [
        "1972 1973 "
       ]
      },
      {
       "output_type": "stream",
       "stream": "stderr",
       "text": [
        "1974 1975 "
       ]
      },
      {
       "output_type": "stream",
       "stream": "stderr",
       "text": [
        "1976 1977 "
       ]
      },
      {
       "output_type": "stream",
       "stream": "stderr",
       "text": [
        "1978 1979 "
       ]
      },
      {
       "output_type": "stream",
       "stream": "stderr",
       "text": [
        "1980 1981 "
       ]
      },
      {
       "output_type": "stream",
       "stream": "stderr",
       "text": [
        "1982 1983 "
       ]
      },
      {
       "output_type": "stream",
       "stream": "stderr",
       "text": [
        "1984 1985 "
       ]
      },
      {
       "output_type": "stream",
       "stream": "stderr",
       "text": [
        "1986 1987 "
       ]
      },
      {
       "output_type": "stream",
       "stream": "stderr",
       "text": [
        "1988 1989 "
       ]
      },
      {
       "output_type": "stream",
       "stream": "stderr",
       "text": [
        "1990 1991 "
       ]
      },
      {
       "output_type": "stream",
       "stream": "stderr",
       "text": [
        "1992 1993 "
       ]
      },
      {
       "output_type": "stream",
       "stream": "stderr",
       "text": [
        "1994 1995 "
       ]
      },
      {
       "output_type": "stream",
       "stream": "stderr",
       "text": [
        "1996 1997 "
       ]
      },
      {
       "output_type": "stream",
       "stream": "stderr",
       "text": [
        "1998 1999 "
       ]
      },
      {
       "output_type": "stream",
       "stream": "stderr",
       "text": [
        "2000 2001 "
       ]
      },
      {
       "output_type": "stream",
       "stream": "stderr",
       "text": [
        "2002 2003 "
       ]
      },
      {
       "output_type": "stream",
       "stream": "stderr",
       "text": [
        "2004 2005 "
       ]
      },
      {
       "output_type": "stream",
       "stream": "stderr",
       "text": [
        "2006 2007 "
       ]
      },
      {
       "output_type": "stream",
       "stream": "stderr",
       "text": [
        "2008 2009 "
       ]
      },
      {
       "output_type": "stream",
       "stream": "stderr",
       "text": [
        "2010 2011 "
       ]
      },
      {
       "output_type": "stream",
       "stream": "stderr",
       "text": [
        "2012 2013 "
       ]
      },
      {
       "output_type": "stream",
       "stream": "stderr",
       "text": [
        "2014 2015 "
       ]
      },
      {
       "output_type": "stream",
       "stream": "stderr",
       "text": [
        "2016 2017 "
       ]
      },
      {
       "output_type": "stream",
       "stream": "stderr",
       "text": [
        "2018 2019 "
       ]
      },
      {
       "output_type": "stream",
       "stream": "stderr",
       "text": [
        "2020 2021 "
       ]
      },
      {
       "output_type": "stream",
       "stream": "stderr",
       "text": [
        "2022 2023 "
       ]
      },
      {
       "output_type": "stream",
       "stream": "stderr",
       "text": [
        "2024 2025 "
       ]
      },
      {
       "output_type": "stream",
       "stream": "stderr",
       "text": [
        "2026 2027 "
       ]
      },
      {
       "output_type": "stream",
       "stream": "stderr",
       "text": [
        "2028 2029 "
       ]
      },
      {
       "output_type": "stream",
       "stream": "stderr",
       "text": [
        "2030 2031 "
       ]
      },
      {
       "output_type": "stream",
       "stream": "stderr",
       "text": [
        "2032 2033 "
       ]
      },
      {
       "output_type": "stream",
       "stream": "stderr",
       "text": [
        "2034 2035 "
       ]
      },
      {
       "output_type": "stream",
       "stream": "stderr",
       "text": [
        "2036 2037 "
       ]
      },
      {
       "output_type": "stream",
       "stream": "stderr",
       "text": [
        "2038 2039 "
       ]
      },
      {
       "output_type": "stream",
       "stream": "stderr",
       "text": [
        "2040 2041 "
       ]
      },
      {
       "output_type": "stream",
       "stream": "stderr",
       "text": [
        "2042 2043 "
       ]
      },
      {
       "output_type": "stream",
       "stream": "stderr",
       "text": [
        "2044 2045 "
       ]
      },
      {
       "output_type": "stream",
       "stream": "stderr",
       "text": [
        "2046 2047 "
       ]
      },
      {
       "output_type": "stream",
       "stream": "stderr",
       "text": [
        "2048 2049 "
       ]
      },
      {
       "output_type": "stream",
       "stream": "stderr",
       "text": [
        "2050 2051 "
       ]
      },
      {
       "output_type": "stream",
       "stream": "stderr",
       "text": [
        "2052 2053 "
       ]
      },
      {
       "output_type": "stream",
       "stream": "stderr",
       "text": [
        "2054 2055 "
       ]
      },
      {
       "output_type": "stream",
       "stream": "stderr",
       "text": [
        "2056 2057 "
       ]
      },
      {
       "output_type": "stream",
       "stream": "stderr",
       "text": [
        "2058 2059 "
       ]
      },
      {
       "output_type": "stream",
       "stream": "stderr",
       "text": [
        "2060 2061 "
       ]
      },
      {
       "output_type": "stream",
       "stream": "stderr",
       "text": [
        "2062 2063 "
       ]
      },
      {
       "output_type": "stream",
       "stream": "stderr",
       "text": [
        "2064 2065 "
       ]
      },
      {
       "output_type": "stream",
       "stream": "stderr",
       "text": [
        "2066 2067 "
       ]
      },
      {
       "output_type": "stream",
       "stream": "stderr",
       "text": [
        "2068 2069 "
       ]
      },
      {
       "output_type": "stream",
       "stream": "stderr",
       "text": [
        "2070 2071 "
       ]
      },
      {
       "output_type": "stream",
       "stream": "stderr",
       "text": [
        "2072 2073 "
       ]
      },
      {
       "output_type": "stream",
       "stream": "stderr",
       "text": [
        "2074 2075 "
       ]
      },
      {
       "output_type": "stream",
       "stream": "stderr",
       "text": [
        "2076 2077 "
       ]
      },
      {
       "output_type": "stream",
       "stream": "stderr",
       "text": [
        "2078 2079 "
       ]
      },
      {
       "output_type": "stream",
       "stream": "stderr",
       "text": [
        "2080 2081 "
       ]
      },
      {
       "output_type": "stream",
       "stream": "stderr",
       "text": [
        "2082 2083 "
       ]
      },
      {
       "output_type": "stream",
       "stream": "stderr",
       "text": [
        "2084 2085 "
       ]
      },
      {
       "output_type": "stream",
       "stream": "stderr",
       "text": [
        "2086 2087 "
       ]
      },
      {
       "output_type": "stream",
       "stream": "stderr",
       "text": [
        "2088 2089 "
       ]
      },
      {
       "output_type": "stream",
       "stream": "stderr",
       "text": [
        "2090 2091 "
       ]
      },
      {
       "output_type": "stream",
       "stream": "stderr",
       "text": [
        "2092 2093 "
       ]
      },
      {
       "output_type": "stream",
       "stream": "stderr",
       "text": [
        "2094 2095 "
       ]
      },
      {
       "output_type": "stream",
       "stream": "stderr",
       "text": [
        "2096 2097 "
       ]
      },
      {
       "output_type": "stream",
       "stream": "stderr",
       "text": [
        "2098 2099 "
       ]
      },
      {
       "output_type": "stream",
       "stream": "stderr",
       "text": [
        "2100 2101 "
       ]
      },
      {
       "output_type": "stream",
       "stream": "stderr",
       "text": [
        "2102 2103 "
       ]
      },
      {
       "output_type": "stream",
       "stream": "stderr",
       "text": [
        "2104 2105 "
       ]
      },
      {
       "output_type": "stream",
       "stream": "stderr",
       "text": [
        "2106 2107 "
       ]
      },
      {
       "output_type": "stream",
       "stream": "stderr",
       "text": [
        "2108 2109 "
       ]
      },
      {
       "output_type": "stream",
       "stream": "stderr",
       "text": [
        "2110 2111 "
       ]
      },
      {
       "output_type": "stream",
       "stream": "stderr",
       "text": [
        "2112 2113 "
       ]
      },
      {
       "output_type": "stream",
       "stream": "stderr",
       "text": [
        "2114 2115 "
       ]
      },
      {
       "output_type": "stream",
       "stream": "stderr",
       "text": [
        "2116 2117 "
       ]
      },
      {
       "output_type": "stream",
       "stream": "stderr",
       "text": [
        "2118 2119 "
       ]
      },
      {
       "output_type": "stream",
       "stream": "stderr",
       "text": [
        "2120 2121 "
       ]
      },
      {
       "output_type": "stream",
       "stream": "stderr",
       "text": [
        "2122 2123 "
       ]
      },
      {
       "output_type": "stream",
       "stream": "stderr",
       "text": [
        "2124 2125 "
       ]
      },
      {
       "output_type": "stream",
       "stream": "stderr",
       "text": [
        "2126 2127 "
       ]
      },
      {
       "output_type": "stream",
       "stream": "stderr",
       "text": [
        "2128 2129 "
       ]
      },
      {
       "output_type": "stream",
       "stream": "stderr",
       "text": [
        "2130 2131 "
       ]
      },
      {
       "output_type": "stream",
       "stream": "stderr",
       "text": [
        "2132 2133 "
       ]
      },
      {
       "output_type": "stream",
       "stream": "stderr",
       "text": [
        "2134 2135 "
       ]
      },
      {
       "output_type": "stream",
       "stream": "stderr",
       "text": [
        "2136 2137 "
       ]
      },
      {
       "output_type": "stream",
       "stream": "stderr",
       "text": [
        "2138 2139 "
       ]
      },
      {
       "output_type": "stream",
       "stream": "stderr",
       "text": [
        "2140 2141 "
       ]
      },
      {
       "output_type": "stream",
       "stream": "stderr",
       "text": [
        "2142 2143 2144 "
       ]
      },
      {
       "output_type": "stream",
       "stream": "stderr",
       "text": [
        "2145 2146 "
       ]
      },
      {
       "output_type": "stream",
       "stream": "stderr",
       "text": [
        "2147 2148 2149 "
       ]
      },
      {
       "output_type": "stream",
       "stream": "stderr",
       "text": [
        "2150 2151 "
       ]
      },
      {
       "output_type": "stream",
       "stream": "stderr",
       "text": [
        "2152 2153 "
       ]
      },
      {
       "output_type": "stream",
       "stream": "stderr",
       "text": [
        "2154 2155 "
       ]
      },
      {
       "output_type": "stream",
       "stream": "stderr",
       "text": [
        "2156 2157 "
       ]
      },
      {
       "output_type": "stream",
       "stream": "stderr",
       "text": [
        "2158 2159 "
       ]
      },
      {
       "output_type": "stream",
       "stream": "stderr",
       "text": [
        "2160 2161 "
       ]
      },
      {
       "output_type": "stream",
       "stream": "stderr",
       "text": [
        "2162 2163 "
       ]
      },
      {
       "output_type": "stream",
       "stream": "stderr",
       "text": [
        "2164 2165 "
       ]
      },
      {
       "output_type": "stream",
       "stream": "stderr",
       "text": [
        "2166 2167 "
       ]
      },
      {
       "output_type": "stream",
       "stream": "stderr",
       "text": [
        "2168 2169 "
       ]
      },
      {
       "output_type": "stream",
       "stream": "stderr",
       "text": [
        "2170 2171 "
       ]
      },
      {
       "output_type": "stream",
       "stream": "stderr",
       "text": [
        "2172 2173 "
       ]
      },
      {
       "output_type": "stream",
       "stream": "stderr",
       "text": [
        "2174 2175 "
       ]
      },
      {
       "output_type": "stream",
       "stream": "stderr",
       "text": [
        "2176 2177 "
       ]
      },
      {
       "output_type": "stream",
       "stream": "stderr",
       "text": [
        "2178 2179 "
       ]
      },
      {
       "output_type": "stream",
       "stream": "stderr",
       "text": [
        "2180 2181 2182 "
       ]
      },
      {
       "output_type": "stream",
       "stream": "stderr",
       "text": [
        "2183 2184 "
       ]
      },
      {
       "output_type": "stream",
       "stream": "stderr",
       "text": [
        "2185 2186 "
       ]
      },
      {
       "output_type": "stream",
       "stream": "stderr",
       "text": [
        "2187 2188 2189 "
       ]
      },
      {
       "output_type": "stream",
       "stream": "stderr",
       "text": [
        "2190 2191 "
       ]
      },
      {
       "output_type": "stream",
       "stream": "stderr",
       "text": [
        "2192 2193 "
       ]
      },
      {
       "output_type": "stream",
       "stream": "stderr",
       "text": [
        "2194 2195 "
       ]
      },
      {
       "output_type": "stream",
       "stream": "stderr",
       "text": [
        "2196 2197 "
       ]
      },
      {
       "output_type": "stream",
       "stream": "stderr",
       "text": [
        "2198 2199 "
       ]
      },
      {
       "output_type": "stream",
       "stream": "stderr",
       "text": [
        "2200 2201 "
       ]
      },
      {
       "output_type": "stream",
       "stream": "stderr",
       "text": [
        "2202 2203 "
       ]
      },
      {
       "output_type": "stream",
       "stream": "stderr",
       "text": [
        "2204 2205 "
       ]
      },
      {
       "output_type": "stream",
       "stream": "stderr",
       "text": [
        "2206 2207 "
       ]
      },
      {
       "output_type": "stream",
       "stream": "stderr",
       "text": [
        "2208 2209 "
       ]
      },
      {
       "output_type": "stream",
       "stream": "stderr",
       "text": [
        "2210 2211 "
       ]
      },
      {
       "output_type": "stream",
       "stream": "stderr",
       "text": [
        "2212 2213 "
       ]
      },
      {
       "output_type": "stream",
       "stream": "stderr",
       "text": [
        "2214 2215 "
       ]
      },
      {
       "output_type": "stream",
       "stream": "stderr",
       "text": [
        "2216 2217 "
       ]
      },
      {
       "output_type": "stream",
       "stream": "stderr",
       "text": [
        "2218 2219 "
       ]
      },
      {
       "output_type": "stream",
       "stream": "stderr",
       "text": [
        "2220 2221 "
       ]
      },
      {
       "output_type": "stream",
       "stream": "stderr",
       "text": [
        "2222 2223 "
       ]
      },
      {
       "output_type": "stream",
       "stream": "stderr",
       "text": [
        "2224 2225 "
       ]
      },
      {
       "output_type": "stream",
       "stream": "stderr",
       "text": [
        "2226 2227 "
       ]
      },
      {
       "output_type": "stream",
       "stream": "stderr",
       "text": [
        "2228 2229 "
       ]
      },
      {
       "output_type": "stream",
       "stream": "stderr",
       "text": [
        "2230 2231 "
       ]
      },
      {
       "output_type": "stream",
       "stream": "stderr",
       "text": [
        "2232 2233 "
       ]
      },
      {
       "output_type": "stream",
       "stream": "stderr",
       "text": [
        "2234 2235 "
       ]
      },
      {
       "output_type": "stream",
       "stream": "stderr",
       "text": [
        "2236 2237 "
       ]
      },
      {
       "output_type": "stream",
       "stream": "stderr",
       "text": [
        "2238 2239 "
       ]
      },
      {
       "output_type": "stream",
       "stream": "stderr",
       "text": [
        "2240 2241 "
       ]
      },
      {
       "output_type": "stream",
       "stream": "stderr",
       "text": [
        "2242 2243 "
       ]
      },
      {
       "output_type": "stream",
       "stream": "stderr",
       "text": [
        "2244 2245 "
       ]
      },
      {
       "output_type": "stream",
       "stream": "stderr",
       "text": [
        "2246 2247 "
       ]
      },
      {
       "output_type": "stream",
       "stream": "stderr",
       "text": [
        "2248 2249 "
       ]
      },
      {
       "output_type": "stream",
       "stream": "stderr",
       "text": [
        "2250 2251 "
       ]
      },
      {
       "output_type": "stream",
       "stream": "stderr",
       "text": [
        "2252 2253 "
       ]
      },
      {
       "output_type": "stream",
       "stream": "stderr",
       "text": [
        "2254 2255 "
       ]
      },
      {
       "output_type": "stream",
       "stream": "stderr",
       "text": [
        "2256 2257 "
       ]
      },
      {
       "output_type": "stream",
       "stream": "stderr",
       "text": [
        "2258 2259 "
       ]
      },
      {
       "output_type": "stream",
       "stream": "stderr",
       "text": [
        "2260 2261 "
       ]
      },
      {
       "output_type": "stream",
       "stream": "stderr",
       "text": [
        "2262 2263 "
       ]
      },
      {
       "output_type": "stream",
       "stream": "stderr",
       "text": [
        "2264 2265 "
       ]
      },
      {
       "output_type": "stream",
       "stream": "stderr",
       "text": [
        "2266 2267 "
       ]
      },
      {
       "output_type": "stream",
       "stream": "stderr",
       "text": [
        "2268 2269 "
       ]
      },
      {
       "output_type": "stream",
       "stream": "stderr",
       "text": [
        "2270 2271 "
       ]
      },
      {
       "output_type": "stream",
       "stream": "stderr",
       "text": [
        "2272 2273 "
       ]
      },
      {
       "output_type": "stream",
       "stream": "stderr",
       "text": [
        "2274 2275 "
       ]
      },
      {
       "output_type": "stream",
       "stream": "stderr",
       "text": [
        "2276 2277 "
       ]
      },
      {
       "output_type": "stream",
       "stream": "stderr",
       "text": [
        "2278 2279 "
       ]
      },
      {
       "output_type": "stream",
       "stream": "stderr",
       "text": [
        "2280 2281 "
       ]
      },
      {
       "output_type": "stream",
       "stream": "stderr",
       "text": [
        "2282 2283 "
       ]
      },
      {
       "output_type": "stream",
       "stream": "stderr",
       "text": [
        "2284 2285 "
       ]
      },
      {
       "output_type": "stream",
       "stream": "stderr",
       "text": [
        "2286 2287 "
       ]
      },
      {
       "output_type": "stream",
       "stream": "stderr",
       "text": [
        "2288 2289 "
       ]
      },
      {
       "output_type": "stream",
       "stream": "stderr",
       "text": [
        "2290 2291 "
       ]
      },
      {
       "output_type": "stream",
       "stream": "stderr",
       "text": [
        "2292 2293 "
       ]
      },
      {
       "output_type": "stream",
       "stream": "stderr",
       "text": [
        "2294 2295 "
       ]
      },
      {
       "output_type": "stream",
       "stream": "stderr",
       "text": [
        "2296 2297 "
       ]
      },
      {
       "output_type": "stream",
       "stream": "stderr",
       "text": [
        "2298 2299 "
       ]
      },
      {
       "output_type": "stream",
       "stream": "stderr",
       "text": [
        "2300 2301 "
       ]
      },
      {
       "output_type": "stream",
       "stream": "stderr",
       "text": [
        "2302 2303 "
       ]
      },
      {
       "output_type": "stream",
       "stream": "stderr",
       "text": [
        "2304 2305 "
       ]
      },
      {
       "output_type": "stream",
       "stream": "stderr",
       "text": [
        "2306 2307 "
       ]
      },
      {
       "output_type": "stream",
       "stream": "stderr",
       "text": [
        "2308 2309 "
       ]
      },
      {
       "output_type": "stream",
       "stream": "stderr",
       "text": [
        "2310 2311 "
       ]
      },
      {
       "output_type": "stream",
       "stream": "stderr",
       "text": [
        "2312 2313 "
       ]
      },
      {
       "output_type": "stream",
       "stream": "stderr",
       "text": [
        "2314 2315 "
       ]
      },
      {
       "output_type": "stream",
       "stream": "stderr",
       "text": [
        "2316 2317 "
       ]
      },
      {
       "output_type": "stream",
       "stream": "stderr",
       "text": [
        "2318 2319 "
       ]
      },
      {
       "output_type": "stream",
       "stream": "stderr",
       "text": [
        "2320 2321 "
       ]
      },
      {
       "output_type": "stream",
       "stream": "stderr",
       "text": [
        "2322 2323 "
       ]
      },
      {
       "output_type": "stream",
       "stream": "stderr",
       "text": [
        "2324 2325 "
       ]
      },
      {
       "output_type": "stream",
       "stream": "stderr",
       "text": [
        "2326 2327 "
       ]
      },
      {
       "output_type": "stream",
       "stream": "stderr",
       "text": [
        "2328 2329 "
       ]
      },
      {
       "output_type": "stream",
       "stream": "stderr",
       "text": [
        "2330 2331 "
       ]
      },
      {
       "output_type": "stream",
       "stream": "stderr",
       "text": [
        "2332 2333 "
       ]
      },
      {
       "output_type": "stream",
       "stream": "stderr",
       "text": [
        "2334 2335 "
       ]
      },
      {
       "output_type": "stream",
       "stream": "stderr",
       "text": [
        "2336 2337 "
       ]
      },
      {
       "output_type": "stream",
       "stream": "stderr",
       "text": [
        "2338 2339 "
       ]
      },
      {
       "output_type": "stream",
       "stream": "stderr",
       "text": [
        "2340 2341 2342 "
       ]
      },
      {
       "output_type": "stream",
       "stream": "stderr",
       "text": [
        "2343 2344 "
       ]
      },
      {
       "output_type": "stream",
       "stream": "stderr",
       "text": [
        "2345 2346 "
       ]
      },
      {
       "output_type": "stream",
       "stream": "stderr",
       "text": [
        "2347 2348 "
       ]
      },
      {
       "output_type": "stream",
       "stream": "stderr",
       "text": [
        "2349 2350 "
       ]
      },
      {
       "output_type": "stream",
       "stream": "stderr",
       "text": [
        "2351 2352 "
       ]
      },
      {
       "output_type": "stream",
       "stream": "stderr",
       "text": [
        "2353 2354 "
       ]
      },
      {
       "output_type": "stream",
       "stream": "stderr",
       "text": [
        "2355 2356 "
       ]
      },
      {
       "output_type": "stream",
       "stream": "stderr",
       "text": [
        "2357 2358 "
       ]
      },
      {
       "output_type": "stream",
       "stream": "stderr",
       "text": [
        "2359 2360 "
       ]
      },
      {
       "output_type": "stream",
       "stream": "stderr",
       "text": [
        "2361 2362 2363 "
       ]
      },
      {
       "output_type": "stream",
       "stream": "stderr",
       "text": [
        "2364 2365 "
       ]
      },
      {
       "output_type": "stream",
       "stream": "stderr",
       "text": [
        "2366 2367 "
       ]
      },
      {
       "output_type": "stream",
       "stream": "stderr",
       "text": [
        "2368 2369 "
       ]
      },
      {
       "output_type": "stream",
       "stream": "stderr",
       "text": [
        "2370 2371 "
       ]
      },
      {
       "output_type": "stream",
       "stream": "stderr",
       "text": [
        "2372 2373 "
       ]
      },
      {
       "output_type": "stream",
       "stream": "stderr",
       "text": [
        "2374 2375 "
       ]
      },
      {
       "output_type": "stream",
       "stream": "stderr",
       "text": [
        "2376 2377 "
       ]
      },
      {
       "output_type": "stream",
       "stream": "stderr",
       "text": [
        "2378 2379 "
       ]
      },
      {
       "output_type": "stream",
       "stream": "stderr",
       "text": [
        "2380 2381 "
       ]
      },
      {
       "output_type": "stream",
       "stream": "stderr",
       "text": [
        "2382 2383 "
       ]
      },
      {
       "output_type": "stream",
       "stream": "stderr",
       "text": [
        "2384 2385 "
       ]
      },
      {
       "output_type": "stream",
       "stream": "stderr",
       "text": [
        "2386 2387 "
       ]
      },
      {
       "output_type": "stream",
       "stream": "stderr",
       "text": [
        "2388 2389 "
       ]
      },
      {
       "output_type": "stream",
       "stream": "stderr",
       "text": [
        "2390 2391 "
       ]
      },
      {
       "output_type": "stream",
       "stream": "stderr",
       "text": [
        "2392 2393 "
       ]
      },
      {
       "output_type": "stream",
       "stream": "stderr",
       "text": [
        "2394 2395 "
       ]
      },
      {
       "output_type": "stream",
       "stream": "stderr",
       "text": [
        "2396 2397 "
       ]
      },
      {
       "output_type": "stream",
       "stream": "stderr",
       "text": [
        "2398 2399 "
       ]
      },
      {
       "output_type": "stream",
       "stream": "stderr",
       "text": [
        "2400 2401 "
       ]
      },
      {
       "output_type": "stream",
       "stream": "stderr",
       "text": [
        "2402 2403 "
       ]
      },
      {
       "output_type": "stream",
       "stream": "stderr",
       "text": [
        "2404 2405 "
       ]
      },
      {
       "output_type": "stream",
       "stream": "stderr",
       "text": [
        "2406 2407 "
       ]
      },
      {
       "output_type": "stream",
       "stream": "stderr",
       "text": [
        "2408 2409 "
       ]
      },
      {
       "output_type": "stream",
       "stream": "stderr",
       "text": [
        "2410 2411 "
       ]
      },
      {
       "output_type": "stream",
       "stream": "stderr",
       "text": [
        "2412 2413 "
       ]
      },
      {
       "output_type": "stream",
       "stream": "stderr",
       "text": [
        "2414 2415 "
       ]
      },
      {
       "output_type": "stream",
       "stream": "stderr",
       "text": [
        "2416 2417 "
       ]
      },
      {
       "output_type": "stream",
       "stream": "stderr",
       "text": [
        "2418 2419 "
       ]
      },
      {
       "output_type": "stream",
       "stream": "stderr",
       "text": [
        "2420 2421 "
       ]
      },
      {
       "output_type": "stream",
       "stream": "stderr",
       "text": [
        "2422 2423 "
       ]
      },
      {
       "output_type": "stream",
       "stream": "stderr",
       "text": [
        "2424 2425 "
       ]
      },
      {
       "output_type": "stream",
       "stream": "stderr",
       "text": [
        "2426 2427 "
       ]
      },
      {
       "output_type": "stream",
       "stream": "stderr",
       "text": [
        "2428 2429 "
       ]
      },
      {
       "output_type": "stream",
       "stream": "stderr",
       "text": [
        "2430 2431 "
       ]
      },
      {
       "output_type": "stream",
       "stream": "stderr",
       "text": [
        "2432 2433 "
       ]
      },
      {
       "output_type": "stream",
       "stream": "stderr",
       "text": [
        "2434 2435 "
       ]
      },
      {
       "output_type": "stream",
       "stream": "stderr",
       "text": [
        "2436 2437 "
       ]
      },
      {
       "output_type": "stream",
       "stream": "stderr",
       "text": [
        "2438 2439 "
       ]
      },
      {
       "output_type": "stream",
       "stream": "stderr",
       "text": [
        "2440 2441 "
       ]
      },
      {
       "output_type": "stream",
       "stream": "stderr",
       "text": [
        "2442 2443 "
       ]
      },
      {
       "output_type": "stream",
       "stream": "stderr",
       "text": [
        "2444 2445 "
       ]
      },
      {
       "output_type": "stream",
       "stream": "stderr",
       "text": [
        "2446 2447 "
       ]
      },
      {
       "output_type": "stream",
       "stream": "stderr",
       "text": [
        "2448 2449 "
       ]
      },
      {
       "output_type": "stream",
       "stream": "stderr",
       "text": [
        "2450 2451 "
       ]
      },
      {
       "output_type": "stream",
       "stream": "stderr",
       "text": [
        "2452 2453 "
       ]
      },
      {
       "output_type": "stream",
       "stream": "stderr",
       "text": [
        "2454 2455 "
       ]
      },
      {
       "output_type": "stream",
       "stream": "stderr",
       "text": [
        "2456 2457 "
       ]
      },
      {
       "output_type": "stream",
       "stream": "stderr",
       "text": [
        "2458 2459 "
       ]
      },
      {
       "output_type": "stream",
       "stream": "stderr",
       "text": [
        "2460 2461 "
       ]
      },
      {
       "output_type": "stream",
       "stream": "stderr",
       "text": [
        "2462 2463 "
       ]
      },
      {
       "output_type": "stream",
       "stream": "stderr",
       "text": [
        "2464 2465 "
       ]
      },
      {
       "output_type": "stream",
       "stream": "stderr",
       "text": [
        "2466 2467 "
       ]
      },
      {
       "output_type": "stream",
       "stream": "stderr",
       "text": [
        "2468 2469 "
       ]
      },
      {
       "output_type": "stream",
       "stream": "stderr",
       "text": [
        "2470 2471 "
       ]
      },
      {
       "output_type": "stream",
       "stream": "stderr",
       "text": [
        "2472 2473 "
       ]
      },
      {
       "output_type": "stream",
       "stream": "stderr",
       "text": [
        "2474 2475 "
       ]
      },
      {
       "output_type": "stream",
       "stream": "stderr",
       "text": [
        "2476 2477 "
       ]
      },
      {
       "output_type": "stream",
       "stream": "stderr",
       "text": [
        "2478 2479 2480 "
       ]
      },
      {
       "output_type": "stream",
       "stream": "stderr",
       "text": [
        "2481 2482 "
       ]
      },
      {
       "output_type": "stream",
       "stream": "stderr",
       "text": [
        "2483 2484 "
       ]
      },
      {
       "output_type": "stream",
       "stream": "stderr",
       "text": [
        "2485 2486 "
       ]
      },
      {
       "output_type": "stream",
       "stream": "stderr",
       "text": [
        "2487 2488 "
       ]
      },
      {
       "output_type": "stream",
       "stream": "stderr",
       "text": [
        "2489 2490 "
       ]
      },
      {
       "output_type": "stream",
       "stream": "stderr",
       "text": [
        "2491 2492 "
       ]
      },
      {
       "output_type": "stream",
       "stream": "stderr",
       "text": [
        "2493 2494 "
       ]
      },
      {
       "output_type": "stream",
       "stream": "stderr",
       "text": [
        "2495 2496 "
       ]
      },
      {
       "output_type": "stream",
       "stream": "stderr",
       "text": [
        "2497 2498 "
       ]
      },
      {
       "output_type": "stream",
       "stream": "stderr",
       "text": [
        "2499 2500 "
       ]
      },
      {
       "output_type": "stream",
       "stream": "stderr",
       "text": [
        "2501 2502 "
       ]
      },
      {
       "output_type": "stream",
       "stream": "stderr",
       "text": [
        "2503 2504 "
       ]
      },
      {
       "output_type": "stream",
       "stream": "stderr",
       "text": [
        "2505 2506 "
       ]
      },
      {
       "output_type": "stream",
       "stream": "stderr",
       "text": [
        "2507 2508 "
       ]
      },
      {
       "output_type": "stream",
       "stream": "stderr",
       "text": [
        "2509 2510 "
       ]
      },
      {
       "output_type": "stream",
       "stream": "stderr",
       "text": [
        "2511 2512 "
       ]
      },
      {
       "output_type": "stream",
       "stream": "stderr",
       "text": [
        "2513 2514 "
       ]
      },
      {
       "output_type": "stream",
       "stream": "stderr",
       "text": [
        "2515 2516 "
       ]
      },
      {
       "output_type": "stream",
       "stream": "stderr",
       "text": [
        "2517 2518 "
       ]
      },
      {
       "output_type": "stream",
       "stream": "stderr",
       "text": [
        "2519 2520 "
       ]
      },
      {
       "output_type": "stream",
       "stream": "stderr",
       "text": [
        "2521 2522 "
       ]
      },
      {
       "output_type": "stream",
       "stream": "stderr",
       "text": [
        "2523 2524 "
       ]
      },
      {
       "output_type": "stream",
       "stream": "stderr",
       "text": [
        "2525 2526 "
       ]
      },
      {
       "output_type": "stream",
       "stream": "stderr",
       "text": [
        "2527 2528 "
       ]
      },
      {
       "output_type": "stream",
       "stream": "stderr",
       "text": [
        "2529 2530 "
       ]
      },
      {
       "output_type": "stream",
       "stream": "stderr",
       "text": [
        "2531 2532 "
       ]
      },
      {
       "output_type": "stream",
       "stream": "stderr",
       "text": [
        "2533 2534 "
       ]
      },
      {
       "output_type": "stream",
       "stream": "stderr",
       "text": [
        "2535 2536 "
       ]
      },
      {
       "output_type": "stream",
       "stream": "stderr",
       "text": [
        "2537 2538 "
       ]
      },
      {
       "output_type": "stream",
       "stream": "stderr",
       "text": [
        "2539 2540 "
       ]
      },
      {
       "output_type": "stream",
       "stream": "stderr",
       "text": [
        "2541 2542 "
       ]
      },
      {
       "output_type": "stream",
       "stream": "stderr",
       "text": [
        "2543 2544 "
       ]
      },
      {
       "output_type": "stream",
       "stream": "stderr",
       "text": [
        "2545 2546 "
       ]
      },
      {
       "output_type": "stream",
       "stream": "stderr",
       "text": [
        "2547 2548 "
       ]
      },
      {
       "output_type": "stream",
       "stream": "stderr",
       "text": [
        "2549 2550 "
       ]
      },
      {
       "output_type": "stream",
       "stream": "stderr",
       "text": [
        "2551 2552 "
       ]
      },
      {
       "output_type": "stream",
       "stream": "stderr",
       "text": [
        "2553 2554 "
       ]
      },
      {
       "output_type": "stream",
       "stream": "stderr",
       "text": [
        "2555 2556 "
       ]
      },
      {
       "output_type": "stream",
       "stream": "stderr",
       "text": [
        "2557 2558 "
       ]
      },
      {
       "output_type": "stream",
       "stream": "stderr",
       "text": [
        "2559 2560 "
       ]
      },
      {
       "output_type": "stream",
       "stream": "stderr",
       "text": [
        "2561 2562 "
       ]
      },
      {
       "output_type": "stream",
       "stream": "stderr",
       "text": [
        "2563 2564 "
       ]
      },
      {
       "output_type": "stream",
       "stream": "stderr",
       "text": [
        "2565 2566 "
       ]
      },
      {
       "output_type": "stream",
       "stream": "stderr",
       "text": [
        "2567 2568 "
       ]
      },
      {
       "output_type": "stream",
       "stream": "stderr",
       "text": [
        "2569 2570 "
       ]
      },
      {
       "output_type": "stream",
       "stream": "stderr",
       "text": [
        "2571 2572 "
       ]
      },
      {
       "output_type": "stream",
       "stream": "stderr",
       "text": [
        "2573 2574 "
       ]
      },
      {
       "output_type": "stream",
       "stream": "stderr",
       "text": [
        "2575 2576 "
       ]
      },
      {
       "output_type": "stream",
       "stream": "stderr",
       "text": [
        "2577 2578 "
       ]
      },
      {
       "output_type": "stream",
       "stream": "stderr",
       "text": [
        "2579 2580 "
       ]
      },
      {
       "output_type": "stream",
       "stream": "stderr",
       "text": [
        "2581 2582 "
       ]
      },
      {
       "output_type": "stream",
       "stream": "stderr",
       "text": [
        "2583 2584 "
       ]
      },
      {
       "output_type": "stream",
       "stream": "stderr",
       "text": [
        "2585 2586 "
       ]
      },
      {
       "output_type": "stream",
       "stream": "stderr",
       "text": [
        "2587 2588 "
       ]
      },
      {
       "output_type": "stream",
       "stream": "stderr",
       "text": [
        "2589 2590 "
       ]
      },
      {
       "output_type": "stream",
       "stream": "stderr",
       "text": [
        "2591 2592 "
       ]
      },
      {
       "output_type": "stream",
       "stream": "stderr",
       "text": [
        "2593 2594 "
       ]
      },
      {
       "output_type": "stream",
       "stream": "stderr",
       "text": [
        "2595 2596 "
       ]
      },
      {
       "output_type": "stream",
       "stream": "stderr",
       "text": [
        "2597 2598 "
       ]
      },
      {
       "output_type": "stream",
       "stream": "stderr",
       "text": [
        "2599 2600 "
       ]
      },
      {
       "output_type": "stream",
       "stream": "stderr",
       "text": [
        "2601 2602 "
       ]
      },
      {
       "output_type": "stream",
       "stream": "stderr",
       "text": [
        "2603 2604 "
       ]
      },
      {
       "output_type": "stream",
       "stream": "stderr",
       "text": [
        "2605 2606 "
       ]
      },
      {
       "output_type": "stream",
       "stream": "stderr",
       "text": [
        "2607 2608 "
       ]
      },
      {
       "output_type": "stream",
       "stream": "stderr",
       "text": [
        "2609 2610 "
       ]
      },
      {
       "output_type": "stream",
       "stream": "stderr",
       "text": [
        "2611 2612 "
       ]
      },
      {
       "output_type": "stream",
       "stream": "stderr",
       "text": [
        "2613 2614 "
       ]
      },
      {
       "output_type": "stream",
       "stream": "stderr",
       "text": [
        "2615 2616 "
       ]
      },
      {
       "output_type": "stream",
       "stream": "stderr",
       "text": [
        "2617 2618 "
       ]
      },
      {
       "output_type": "stream",
       "stream": "stderr",
       "text": [
        "2619 2620 "
       ]
      },
      {
       "output_type": "stream",
       "stream": "stderr",
       "text": [
        "2621 2622 "
       ]
      },
      {
       "output_type": "stream",
       "stream": "stderr",
       "text": [
        "2623 2624 "
       ]
      },
      {
       "output_type": "stream",
       "stream": "stderr",
       "text": [
        "2625 2626 "
       ]
      },
      {
       "output_type": "stream",
       "stream": "stderr",
       "text": [
        "2627 2628 "
       ]
      },
      {
       "output_type": "stream",
       "stream": "stderr",
       "text": [
        "2629 2630 "
       ]
      },
      {
       "output_type": "stream",
       "stream": "stderr",
       "text": [
        "2631 2632 "
       ]
      },
      {
       "output_type": "stream",
       "stream": "stderr",
       "text": [
        "2633 2634 "
       ]
      },
      {
       "output_type": "stream",
       "stream": "stderr",
       "text": [
        "2635 2636 "
       ]
      },
      {
       "output_type": "stream",
       "stream": "stderr",
       "text": [
        "2637 2638 "
       ]
      },
      {
       "output_type": "stream",
       "stream": "stderr",
       "text": [
        "2639 2640 "
       ]
      },
      {
       "output_type": "stream",
       "stream": "stderr",
       "text": [
        "2641 2642 "
       ]
      },
      {
       "output_type": "stream",
       "stream": "stderr",
       "text": [
        "2643 2644 "
       ]
      },
      {
       "output_type": "stream",
       "stream": "stderr",
       "text": [
        "2645 2646 "
       ]
      },
      {
       "output_type": "stream",
       "stream": "stderr",
       "text": [
        "2647 2648 "
       ]
      },
      {
       "output_type": "stream",
       "stream": "stderr",
       "text": [
        "2649 2650 "
       ]
      },
      {
       "output_type": "stream",
       "stream": "stderr",
       "text": [
        "2651 2652 "
       ]
      },
      {
       "output_type": "stream",
       "stream": "stderr",
       "text": [
        "2653 2654 "
       ]
      },
      {
       "output_type": "stream",
       "stream": "stderr",
       "text": [
        "2655 2656 "
       ]
      },
      {
       "output_type": "stream",
       "stream": "stderr",
       "text": [
        "2657 2658 "
       ]
      },
      {
       "output_type": "stream",
       "stream": "stderr",
       "text": [
        "2659 2660 "
       ]
      },
      {
       "output_type": "stream",
       "stream": "stderr",
       "text": [
        "2661 2662 "
       ]
      },
      {
       "output_type": "stream",
       "stream": "stderr",
       "text": [
        "2663 2664 "
       ]
      },
      {
       "output_type": "stream",
       "stream": "stderr",
       "text": [
        "2665 2666 "
       ]
      },
      {
       "output_type": "stream",
       "stream": "stderr",
       "text": [
        "2667 2668 "
       ]
      },
      {
       "output_type": "stream",
       "stream": "stderr",
       "text": [
        "2669 2670 "
       ]
      },
      {
       "output_type": "stream",
       "stream": "stderr",
       "text": [
        "2671 2672 "
       ]
      },
      {
       "output_type": "stream",
       "stream": "stderr",
       "text": [
        "2673 2674 "
       ]
      },
      {
       "output_type": "stream",
       "stream": "stderr",
       "text": [
        "2675 2676 "
       ]
      },
      {
       "output_type": "stream",
       "stream": "stderr",
       "text": [
        "2677 2678 "
       ]
      },
      {
       "output_type": "stream",
       "stream": "stderr",
       "text": [
        "2679 2680 "
       ]
      },
      {
       "output_type": "stream",
       "stream": "stderr",
       "text": [
        "2681 2682 "
       ]
      },
      {
       "output_type": "stream",
       "stream": "stderr",
       "text": [
        "2683 2684 "
       ]
      },
      {
       "output_type": "stream",
       "stream": "stderr",
       "text": [
        "2685 2686 "
       ]
      },
      {
       "output_type": "stream",
       "stream": "stderr",
       "text": [
        "2687 2688 "
       ]
      },
      {
       "output_type": "stream",
       "stream": "stderr",
       "text": [
        "2689 2690 "
       ]
      },
      {
       "output_type": "stream",
       "stream": "stderr",
       "text": [
        "2691 2692 "
       ]
      },
      {
       "output_type": "stream",
       "stream": "stderr",
       "text": [
        "2693 2694 "
       ]
      },
      {
       "output_type": "stream",
       "stream": "stderr",
       "text": [
        "2695 2696 "
       ]
      },
      {
       "output_type": "stream",
       "stream": "stderr",
       "text": [
        "2697 2698 "
       ]
      },
      {
       "output_type": "stream",
       "stream": "stderr",
       "text": [
        "2699 2700 "
       ]
      },
      {
       "output_type": "stream",
       "stream": "stderr",
       "text": [
        "2701 2702 "
       ]
      },
      {
       "output_type": "stream",
       "stream": "stderr",
       "text": [
        "2703 2704 "
       ]
      },
      {
       "output_type": "stream",
       "stream": "stderr",
       "text": [
        "2705 2706 "
       ]
      },
      {
       "output_type": "stream",
       "stream": "stderr",
       "text": [
        "2707 2708 "
       ]
      },
      {
       "output_type": "stream",
       "stream": "stderr",
       "text": [
        "2709 2710 "
       ]
      },
      {
       "output_type": "stream",
       "stream": "stderr",
       "text": [
        "2711 2712 "
       ]
      },
      {
       "output_type": "stream",
       "stream": "stderr",
       "text": [
        "2713 2714 "
       ]
      },
      {
       "output_type": "stream",
       "stream": "stderr",
       "text": [
        "2715 2716 "
       ]
      },
      {
       "output_type": "stream",
       "stream": "stderr",
       "text": [
        "2717 2718 "
       ]
      },
      {
       "output_type": "stream",
       "stream": "stderr",
       "text": [
        "2719 2720 "
       ]
      },
      {
       "output_type": "stream",
       "stream": "stderr",
       "text": [
        "2721 2722 "
       ]
      },
      {
       "output_type": "stream",
       "stream": "stderr",
       "text": [
        "2723 2724 "
       ]
      },
      {
       "output_type": "stream",
       "stream": "stderr",
       "text": [
        "2725 2726 "
       ]
      },
      {
       "output_type": "stream",
       "stream": "stderr",
       "text": [
        "2727 2728 "
       ]
      },
      {
       "output_type": "stream",
       "stream": "stderr",
       "text": [
        "2729 2730 "
       ]
      },
      {
       "output_type": "stream",
       "stream": "stderr",
       "text": [
        "2731 2732 "
       ]
      },
      {
       "output_type": "stream",
       "stream": "stderr",
       "text": [
        "2733 2734 "
       ]
      },
      {
       "output_type": "stream",
       "stream": "stderr",
       "text": [
        "2735 2736 "
       ]
      },
      {
       "output_type": "stream",
       "stream": "stderr",
       "text": [
        "2737 2738 "
       ]
      },
      {
       "output_type": "stream",
       "stream": "stderr",
       "text": [
        "2739 2740 "
       ]
      },
      {
       "output_type": "stream",
       "stream": "stderr",
       "text": [
        "2741 2742 "
       ]
      },
      {
       "output_type": "stream",
       "stream": "stderr",
       "text": [
        "2743 2744 "
       ]
      },
      {
       "output_type": "stream",
       "stream": "stderr",
       "text": [
        "2745 2746 "
       ]
      },
      {
       "output_type": "stream",
       "stream": "stderr",
       "text": [
        "2747 2748 "
       ]
      },
      {
       "output_type": "stream",
       "stream": "stderr",
       "text": [
        "2749 2750 "
       ]
      },
      {
       "output_type": "stream",
       "stream": "stderr",
       "text": [
        "2751 2752 "
       ]
      },
      {
       "output_type": "stream",
       "stream": "stderr",
       "text": [
        "2753 2754 "
       ]
      },
      {
       "output_type": "stream",
       "stream": "stderr",
       "text": [
        "2755 2756 "
       ]
      },
      {
       "output_type": "stream",
       "stream": "stderr",
       "text": [
        "2757 2758 "
       ]
      },
      {
       "output_type": "stream",
       "stream": "stderr",
       "text": [
        "2759 2760 "
       ]
      },
      {
       "output_type": "stream",
       "stream": "stderr",
       "text": [
        "2761 2762 "
       ]
      },
      {
       "output_type": "stream",
       "stream": "stderr",
       "text": [
        "2763 2764 "
       ]
      },
      {
       "output_type": "stream",
       "stream": "stderr",
       "text": [
        "2765 2766 "
       ]
      },
      {
       "output_type": "stream",
       "stream": "stderr",
       "text": [
        "2767 2768 "
       ]
      },
      {
       "output_type": "stream",
       "stream": "stderr",
       "text": [
        "2769 2770 "
       ]
      },
      {
       "output_type": "stream",
       "stream": "stderr",
       "text": [
        "2771 2772 "
       ]
      },
      {
       "output_type": "stream",
       "stream": "stderr",
       "text": [
        "2773 2774 "
       ]
      },
      {
       "output_type": "stream",
       "stream": "stderr",
       "text": [
        "2775 2776 "
       ]
      },
      {
       "output_type": "stream",
       "stream": "stderr",
       "text": [
        "2777 2778 "
       ]
      },
      {
       "output_type": "stream",
       "stream": "stderr",
       "text": [
        "2779 2780 "
       ]
      },
      {
       "output_type": "stream",
       "stream": "stderr",
       "text": [
        "2781 2782 "
       ]
      },
      {
       "output_type": "stream",
       "stream": "stderr",
       "text": [
        "2783 2784 "
       ]
      },
      {
       "output_type": "stream",
       "stream": "stderr",
       "text": [
        "2785 2786 "
       ]
      },
      {
       "output_type": "stream",
       "stream": "stderr",
       "text": [
        "2787 2788 "
       ]
      },
      {
       "output_type": "stream",
       "stream": "stderr",
       "text": [
        "2789 2790 "
       ]
      },
      {
       "output_type": "stream",
       "stream": "stderr",
       "text": [
        "2791 2792 "
       ]
      },
      {
       "output_type": "stream",
       "stream": "stderr",
       "text": [
        "2793 2794 "
       ]
      },
      {
       "output_type": "stream",
       "stream": "stderr",
       "text": [
        "2795 2796 "
       ]
      },
      {
       "output_type": "stream",
       "stream": "stderr",
       "text": [
        "2797 2798 "
       ]
      },
      {
       "output_type": "stream",
       "stream": "stderr",
       "text": [
        "2799 2800 "
       ]
      },
      {
       "output_type": "stream",
       "stream": "stderr",
       "text": [
        "2801 2802 "
       ]
      },
      {
       "output_type": "stream",
       "stream": "stderr",
       "text": [
        "2803 2804 "
       ]
      },
      {
       "output_type": "stream",
       "stream": "stderr",
       "text": [
        "2805 2806 "
       ]
      },
      {
       "output_type": "stream",
       "stream": "stderr",
       "text": [
        "2807 2808 "
       ]
      },
      {
       "output_type": "stream",
       "stream": "stderr",
       "text": [
        "2809 2810 "
       ]
      },
      {
       "output_type": "stream",
       "stream": "stderr",
       "text": [
        "2811 2812 "
       ]
      },
      {
       "output_type": "stream",
       "stream": "stderr",
       "text": [
        "2813 2814 "
       ]
      },
      {
       "output_type": "stream",
       "stream": "stderr",
       "text": [
        "2815 2816 "
       ]
      },
      {
       "output_type": "stream",
       "stream": "stderr",
       "text": [
        "2817 2818 "
       ]
      },
      {
       "output_type": "stream",
       "stream": "stderr",
       "text": [
        "2819 2820 "
       ]
      },
      {
       "output_type": "stream",
       "stream": "stderr",
       "text": [
        "2821 2822 "
       ]
      },
      {
       "output_type": "stream",
       "stream": "stderr",
       "text": [
        "2823 2824 "
       ]
      },
      {
       "output_type": "stream",
       "stream": "stderr",
       "text": [
        "2825 2826 "
       ]
      },
      {
       "output_type": "stream",
       "stream": "stderr",
       "text": [
        "2827 2828 "
       ]
      },
      {
       "output_type": "stream",
       "stream": "stderr",
       "text": [
        "2829 2830 "
       ]
      },
      {
       "output_type": "stream",
       "stream": "stderr",
       "text": [
        "2831 2832 "
       ]
      },
      {
       "output_type": "stream",
       "stream": "stderr",
       "text": [
        "2833 2834 "
       ]
      },
      {
       "output_type": "stream",
       "stream": "stderr",
       "text": [
        "2835 2836 "
       ]
      },
      {
       "output_type": "stream",
       "stream": "stderr",
       "text": [
        "2837 2838 "
       ]
      },
      {
       "output_type": "stream",
       "stream": "stderr",
       "text": [
        "2839 2840 "
       ]
      },
      {
       "output_type": "stream",
       "stream": "stderr",
       "text": [
        "2841 2842 "
       ]
      },
      {
       "output_type": "stream",
       "stream": "stderr",
       "text": [
        "2843 2844 "
       ]
      },
      {
       "output_type": "stream",
       "stream": "stderr",
       "text": [
        "2845 2846 "
       ]
      },
      {
       "output_type": "stream",
       "stream": "stderr",
       "text": [
        "2847 2848 "
       ]
      },
      {
       "output_type": "stream",
       "stream": "stderr",
       "text": [
        "2849 2850 "
       ]
      },
      {
       "output_type": "stream",
       "stream": "stderr",
       "text": [
        "2851 2852 "
       ]
      },
      {
       "output_type": "stream",
       "stream": "stderr",
       "text": [
        "2853 2854 "
       ]
      },
      {
       "output_type": "stream",
       "stream": "stderr",
       "text": [
        "2855 2856 "
       ]
      },
      {
       "output_type": "stream",
       "stream": "stderr",
       "text": [
        "2857 2858 "
       ]
      },
      {
       "output_type": "stream",
       "stream": "stderr",
       "text": [
        "2859 2860 "
       ]
      },
      {
       "output_type": "stream",
       "stream": "stderr",
       "text": [
        "2861 2862 "
       ]
      },
      {
       "output_type": "stream",
       "stream": "stderr",
       "text": [
        "2863 2864 "
       ]
      },
      {
       "output_type": "stream",
       "stream": "stderr",
       "text": [
        "2865 2866 "
       ]
      },
      {
       "output_type": "stream",
       "stream": "stderr",
       "text": [
        "2867 2868 "
       ]
      },
      {
       "output_type": "stream",
       "stream": "stderr",
       "text": [
        "2869 2870 "
       ]
      },
      {
       "output_type": "stream",
       "stream": "stderr",
       "text": [
        "2871 2872 "
       ]
      },
      {
       "output_type": "stream",
       "stream": "stderr",
       "text": [
        "2873 2874 "
       ]
      },
      {
       "output_type": "stream",
       "stream": "stderr",
       "text": [
        "2875 2876 "
       ]
      },
      {
       "output_type": "stream",
       "stream": "stderr",
       "text": [
        "2877 2878 "
       ]
      },
      {
       "output_type": "stream",
       "stream": "stderr",
       "text": [
        "2879 2880 "
       ]
      },
      {
       "output_type": "stream",
       "stream": "stderr",
       "text": [
        "2881 2882 "
       ]
      },
      {
       "output_type": "stream",
       "stream": "stderr",
       "text": [
        "2883 2884 "
       ]
      },
      {
       "output_type": "stream",
       "stream": "stderr",
       "text": [
        "2885 2886 "
       ]
      },
      {
       "output_type": "stream",
       "stream": "stderr",
       "text": [
        "2887 2888 "
       ]
      },
      {
       "output_type": "stream",
       "stream": "stderr",
       "text": [
        "2889 2890 "
       ]
      },
      {
       "output_type": "stream",
       "stream": "stderr",
       "text": [
        "2891 2892 "
       ]
      },
      {
       "output_type": "stream",
       "stream": "stderr",
       "text": [
        "2893 2894 "
       ]
      },
      {
       "output_type": "stream",
       "stream": "stderr",
       "text": [
        "2895 2896 "
       ]
      },
      {
       "output_type": "stream",
       "stream": "stderr",
       "text": [
        "2897 2898 "
       ]
      },
      {
       "output_type": "stream",
       "stream": "stderr",
       "text": [
        "2899 2900 "
       ]
      },
      {
       "output_type": "stream",
       "stream": "stderr",
       "text": [
        "2901 2902 "
       ]
      },
      {
       "output_type": "stream",
       "stream": "stderr",
       "text": [
        "2903 2904 "
       ]
      },
      {
       "output_type": "stream",
       "stream": "stderr",
       "text": [
        "2905 2906 "
       ]
      },
      {
       "output_type": "stream",
       "stream": "stderr",
       "text": [
        "2907 2908 "
       ]
      },
      {
       "output_type": "stream",
       "stream": "stderr",
       "text": [
        "2909 2910 "
       ]
      },
      {
       "output_type": "stream",
       "stream": "stderr",
       "text": [
        "2911 2912 "
       ]
      },
      {
       "output_type": "stream",
       "stream": "stderr",
       "text": [
        "2913 2914 "
       ]
      },
      {
       "output_type": "stream",
       "stream": "stderr",
       "text": [
        "2915 2916 "
       ]
      },
      {
       "output_type": "stream",
       "stream": "stderr",
       "text": [
        "2917 2918 "
       ]
      },
      {
       "output_type": "stream",
       "stream": "stderr",
       "text": [
        "2919 2920 "
       ]
      },
      {
       "output_type": "stream",
       "stream": "stderr",
       "text": [
        "2921 2922 "
       ]
      },
      {
       "output_type": "stream",
       "stream": "stderr",
       "text": [
        "2923 2924 "
       ]
      },
      {
       "output_type": "stream",
       "stream": "stderr",
       "text": [
        "2925 2926 "
       ]
      },
      {
       "output_type": "stream",
       "stream": "stderr",
       "text": [
        "2927 2928 "
       ]
      },
      {
       "output_type": "stream",
       "stream": "stderr",
       "text": [
        "2929 2930 "
       ]
      },
      {
       "output_type": "stream",
       "stream": "stderr",
       "text": [
        "2931 2932 "
       ]
      },
      {
       "output_type": "stream",
       "stream": "stderr",
       "text": [
        "2933 2934 "
       ]
      },
      {
       "output_type": "stream",
       "stream": "stderr",
       "text": [
        "2935 2936 "
       ]
      },
      {
       "output_type": "stream",
       "stream": "stderr",
       "text": [
        "2937 2938 "
       ]
      },
      {
       "output_type": "stream",
       "stream": "stderr",
       "text": [
        "2939 2940 "
       ]
      },
      {
       "output_type": "stream",
       "stream": "stderr",
       "text": [
        "2941 2942 "
       ]
      },
      {
       "output_type": "stream",
       "stream": "stderr",
       "text": [
        "2943 2944 "
       ]
      },
      {
       "output_type": "stream",
       "stream": "stderr",
       "text": [
        "2945 2946 "
       ]
      },
      {
       "output_type": "stream",
       "stream": "stderr",
       "text": [
        "2947 2948 2949 "
       ]
      },
      {
       "output_type": "stream",
       "stream": "stderr",
       "text": [
        "2950 2951 "
       ]
      },
      {
       "output_type": "stream",
       "stream": "stderr",
       "text": [
        "2952 2953 "
       ]
      },
      {
       "output_type": "stream",
       "stream": "stderr",
       "text": [
        "2954 2955 "
       ]
      },
      {
       "output_type": "stream",
       "stream": "stderr",
       "text": [
        "2956 2957 "
       ]
      },
      {
       "output_type": "stream",
       "stream": "stderr",
       "text": [
        "2958 2959 "
       ]
      },
      {
       "output_type": "stream",
       "stream": "stderr",
       "text": [
        "2960 2961 "
       ]
      },
      {
       "output_type": "stream",
       "stream": "stderr",
       "text": [
        "2962 2963 "
       ]
      },
      {
       "output_type": "stream",
       "stream": "stderr",
       "text": [
        "2964 2965 "
       ]
      },
      {
       "output_type": "stream",
       "stream": "stderr",
       "text": [
        "2966 2967 "
       ]
      },
      {
       "output_type": "stream",
       "stream": "stderr",
       "text": [
        "2968 2969 2970 "
       ]
      },
      {
       "output_type": "stream",
       "stream": "stderr",
       "text": [
        "2971 2972 "
       ]
      },
      {
       "output_type": "stream",
       "stream": "stderr",
       "text": [
        "2973 2974 "
       ]
      },
      {
       "output_type": "stream",
       "stream": "stderr",
       "text": [
        "2975 2976 "
       ]
      },
      {
       "output_type": "stream",
       "stream": "stderr",
       "text": [
        "2977 2978 "
       ]
      },
      {
       "output_type": "stream",
       "stream": "stderr",
       "text": [
        "2979 2980 "
       ]
      },
      {
       "output_type": "stream",
       "stream": "stderr",
       "text": [
        "2981 2982 "
       ]
      },
      {
       "output_type": "stream",
       "stream": "stderr",
       "text": [
        "2983 2984 "
       ]
      },
      {
       "output_type": "stream",
       "stream": "stderr",
       "text": [
        "2985 2986 2987 "
       ]
      },
      {
       "output_type": "stream",
       "stream": "stderr",
       "text": [
        "2988 2989 "
       ]
      },
      {
       "output_type": "stream",
       "stream": "stderr",
       "text": [
        "2990 2991 "
       ]
      },
      {
       "output_type": "stream",
       "stream": "stderr",
       "text": [
        "2992 2993 "
       ]
      },
      {
       "output_type": "stream",
       "stream": "stderr",
       "text": [
        "2994 2995 "
       ]
      },
      {
       "output_type": "stream",
       "stream": "stderr",
       "text": [
        "2996 2997 "
       ]
      },
      {
       "output_type": "stream",
       "stream": "stderr",
       "text": [
        "2998 2999 "
       ]
      },
      {
       "output_type": "stream",
       "stream": "stderr",
       "text": [
        "3000 3001 "
       ]
      },
      {
       "output_type": "stream",
       "stream": "stderr",
       "text": [
        "3002 3003 "
       ]
      },
      {
       "output_type": "stream",
       "stream": "stderr",
       "text": [
        "3004 3005 "
       ]
      },
      {
       "output_type": "stream",
       "stream": "stderr",
       "text": [
        "3006 3007 "
       ]
      },
      {
       "output_type": "stream",
       "stream": "stderr",
       "text": [
        "3008 3009 "
       ]
      },
      {
       "output_type": "stream",
       "stream": "stderr",
       "text": [
        "3010 3011 "
       ]
      },
      {
       "output_type": "stream",
       "stream": "stderr",
       "text": [
        "3012 3013 "
       ]
      },
      {
       "output_type": "stream",
       "stream": "stderr",
       "text": [
        "3014 3015 "
       ]
      },
      {
       "output_type": "stream",
       "stream": "stderr",
       "text": [
        "3016 3017 3018 "
       ]
      },
      {
       "output_type": "stream",
       "stream": "stderr",
       "text": [
        "3019 3020 "
       ]
      },
      {
       "output_type": "stream",
       "stream": "stderr",
       "text": [
        "3021 3022 "
       ]
      },
      {
       "output_type": "stream",
       "stream": "stderr",
       "text": [
        "3023 3024 "
       ]
      },
      {
       "output_type": "stream",
       "stream": "stderr",
       "text": [
        "3025 3026 "
       ]
      },
      {
       "output_type": "stream",
       "stream": "stderr",
       "text": [
        "3027 3028 "
       ]
      },
      {
       "output_type": "stream",
       "stream": "stderr",
       "text": [
        "3029 3030 "
       ]
      },
      {
       "output_type": "stream",
       "stream": "stderr",
       "text": [
        "3031 3032 "
       ]
      },
      {
       "output_type": "stream",
       "stream": "stderr",
       "text": [
        "3033 3034 "
       ]
      },
      {
       "output_type": "stream",
       "stream": "stderr",
       "text": [
        "3035 3036 "
       ]
      },
      {
       "output_type": "stream",
       "stream": "stderr",
       "text": [
        "3037 3038 "
       ]
      },
      {
       "output_type": "stream",
       "stream": "stderr",
       "text": [
        "3039 3040 "
       ]
      },
      {
       "output_type": "stream",
       "stream": "stderr",
       "text": [
        "3041 3042 "
       ]
      },
      {
       "output_type": "stream",
       "stream": "stderr",
       "text": [
        "3043 3044 "
       ]
      },
      {
       "output_type": "stream",
       "stream": "stderr",
       "text": [
        "3045 3046 "
       ]
      },
      {
       "output_type": "stream",
       "stream": "stderr",
       "text": [
        "3047 3048 "
       ]
      },
      {
       "output_type": "stream",
       "stream": "stderr",
       "text": [
        "3049 3050 "
       ]
      },
      {
       "output_type": "stream",
       "stream": "stderr",
       "text": [
        "3051 3052 "
       ]
      },
      {
       "output_type": "stream",
       "stream": "stderr",
       "text": [
        "3053 3054 "
       ]
      },
      {
       "output_type": "stream",
       "stream": "stderr",
       "text": [
        "3055 3056 "
       ]
      },
      {
       "output_type": "stream",
       "stream": "stderr",
       "text": [
        "3057 3058 "
       ]
      },
      {
       "output_type": "stream",
       "stream": "stderr",
       "text": [
        "3059 3060 "
       ]
      },
      {
       "output_type": "stream",
       "stream": "stderr",
       "text": [
        "3061 3062 "
       ]
      },
      {
       "output_type": "stream",
       "stream": "stderr",
       "text": [
        "3063 3064 "
       ]
      },
      {
       "output_type": "stream",
       "stream": "stderr",
       "text": [
        "3065 3066 "
       ]
      },
      {
       "output_type": "stream",
       "stream": "stderr",
       "text": [
        "3067 3068 "
       ]
      },
      {
       "output_type": "stream",
       "stream": "stderr",
       "text": [
        "3069 3070 "
       ]
      },
      {
       "output_type": "stream",
       "stream": "stderr",
       "text": [
        "3071 3072 "
       ]
      },
      {
       "output_type": "stream",
       "stream": "stderr",
       "text": [
        "3073 3074 "
       ]
      },
      {
       "output_type": "stream",
       "stream": "stderr",
       "text": [
        "3075 3076 "
       ]
      },
      {
       "output_type": "stream",
       "stream": "stderr",
       "text": [
        "3077 3078 "
       ]
      },
      {
       "output_type": "stream",
       "stream": "stderr",
       "text": [
        "3079 3080 "
       ]
      },
      {
       "output_type": "stream",
       "stream": "stderr",
       "text": [
        "3081 3082 "
       ]
      },
      {
       "output_type": "stream",
       "stream": "stderr",
       "text": [
        "3083 3084 "
       ]
      },
      {
       "output_type": "stream",
       "stream": "stderr",
       "text": [
        "3085 3086 "
       ]
      },
      {
       "output_type": "stream",
       "stream": "stderr",
       "text": [
        "3087 3088 "
       ]
      },
      {
       "output_type": "stream",
       "stream": "stderr",
       "text": [
        "3089 3090 "
       ]
      },
      {
       "output_type": "stream",
       "stream": "stderr",
       "text": [
        "3091 3092 "
       ]
      },
      {
       "output_type": "stream",
       "stream": "stderr",
       "text": [
        "3093 3094 "
       ]
      },
      {
       "output_type": "stream",
       "stream": "stderr",
       "text": [
        "3095 3096 "
       ]
      },
      {
       "output_type": "stream",
       "stream": "stderr",
       "text": [
        "3097 3098 "
       ]
      },
      {
       "output_type": "stream",
       "stream": "stderr",
       "text": [
        "3099 3100 "
       ]
      },
      {
       "output_type": "stream",
       "stream": "stderr",
       "text": [
        "3101 3102 "
       ]
      },
      {
       "output_type": "stream",
       "stream": "stderr",
       "text": [
        "3103 3104 "
       ]
      },
      {
       "output_type": "stream",
       "stream": "stderr",
       "text": [
        "3105 3106 "
       ]
      },
      {
       "output_type": "stream",
       "stream": "stderr",
       "text": [
        "3107 3108 "
       ]
      },
      {
       "output_type": "stream",
       "stream": "stderr",
       "text": [
        "3109 3110 "
       ]
      },
      {
       "output_type": "stream",
       "stream": "stderr",
       "text": [
        "3111 3112 "
       ]
      },
      {
       "output_type": "stream",
       "stream": "stderr",
       "text": [
        "3113 3114 "
       ]
      },
      {
       "output_type": "stream",
       "stream": "stderr",
       "text": [
        "3115 3116 "
       ]
      },
      {
       "output_type": "stream",
       "stream": "stderr",
       "text": [
        "3117 3118 "
       ]
      },
      {
       "output_type": "stream",
       "stream": "stderr",
       "text": [
        "3119 3120 "
       ]
      },
      {
       "output_type": "stream",
       "stream": "stderr",
       "text": [
        "3121 3122 "
       ]
      },
      {
       "output_type": "stream",
       "stream": "stderr",
       "text": [
        "3123 3124 "
       ]
      },
      {
       "output_type": "stream",
       "stream": "stderr",
       "text": [
        "3125 3126 "
       ]
      },
      {
       "output_type": "stream",
       "stream": "stderr",
       "text": [
        "3127 3128 "
       ]
      },
      {
       "output_type": "stream",
       "stream": "stderr",
       "text": [
        "3129 3130 "
       ]
      },
      {
       "output_type": "stream",
       "stream": "stderr",
       "text": [
        "3131 3132 "
       ]
      },
      {
       "output_type": "stream",
       "stream": "stderr",
       "text": [
        "3133 3134 "
       ]
      },
      {
       "output_type": "stream",
       "stream": "stderr",
       "text": [
        "3135 3136 "
       ]
      },
      {
       "output_type": "stream",
       "stream": "stderr",
       "text": [
        "3137 3138 "
       ]
      },
      {
       "output_type": "stream",
       "stream": "stderr",
       "text": [
        "3139 3140 "
       ]
      },
      {
       "output_type": "stream",
       "stream": "stderr",
       "text": [
        "3141 3142 "
       ]
      },
      {
       "output_type": "stream",
       "stream": "stderr",
       "text": [
        "3143 3144 "
       ]
      },
      {
       "output_type": "stream",
       "stream": "stderr",
       "text": [
        "3145 3146 "
       ]
      },
      {
       "output_type": "stream",
       "stream": "stderr",
       "text": [
        "3147 3148 "
       ]
      },
      {
       "output_type": "stream",
       "stream": "stderr",
       "text": [
        "3149 3150 "
       ]
      },
      {
       "output_type": "stream",
       "stream": "stderr",
       "text": [
        "3151 3152 "
       ]
      },
      {
       "output_type": "stream",
       "stream": "stderr",
       "text": [
        "3153 3154 "
       ]
      },
      {
       "output_type": "stream",
       "stream": "stderr",
       "text": [
        "3155 3156 "
       ]
      },
      {
       "output_type": "stream",
       "stream": "stderr",
       "text": [
        "3157 3158 "
       ]
      },
      {
       "output_type": "stream",
       "stream": "stderr",
       "text": [
        "3159 3160 "
       ]
      },
      {
       "output_type": "stream",
       "stream": "stderr",
       "text": [
        "3161 3162 "
       ]
      },
      {
       "output_type": "stream",
       "stream": "stderr",
       "text": [
        "3163 3164 "
       ]
      },
      {
       "output_type": "stream",
       "stream": "stderr",
       "text": [
        "3165 3166 "
       ]
      },
      {
       "output_type": "stream",
       "stream": "stderr",
       "text": [
        "3167 3168 "
       ]
      },
      {
       "output_type": "stream",
       "stream": "stderr",
       "text": [
        "3169 3170 "
       ]
      },
      {
       "output_type": "stream",
       "stream": "stderr",
       "text": [
        "3171 3172 "
       ]
      },
      {
       "output_type": "stream",
       "stream": "stderr",
       "text": [
        "3173 3174 "
       ]
      },
      {
       "output_type": "stream",
       "stream": "stderr",
       "text": [
        "3175 3176 "
       ]
      },
      {
       "output_type": "stream",
       "stream": "stderr",
       "text": [
        "3177 3178 "
       ]
      },
      {
       "output_type": "stream",
       "stream": "stderr",
       "text": [
        "3179 3180 "
       ]
      },
      {
       "output_type": "stream",
       "stream": "stderr",
       "text": [
        "3181 3182 "
       ]
      },
      {
       "output_type": "stream",
       "stream": "stderr",
       "text": [
        "3183 3184 "
       ]
      },
      {
       "output_type": "stream",
       "stream": "stderr",
       "text": [
        "3185 3186 "
       ]
      },
      {
       "output_type": "stream",
       "stream": "stderr",
       "text": [
        "3187 3188 "
       ]
      },
      {
       "output_type": "stream",
       "stream": "stderr",
       "text": [
        "3189 3190 "
       ]
      },
      {
       "output_type": "stream",
       "stream": "stderr",
       "text": [
        "3191 3192 "
       ]
      },
      {
       "output_type": "stream",
       "stream": "stderr",
       "text": [
        "3193 3194 "
       ]
      },
      {
       "output_type": "stream",
       "stream": "stderr",
       "text": [
        "3195 3196 "
       ]
      },
      {
       "output_type": "stream",
       "stream": "stderr",
       "text": [
        "3197 3198 "
       ]
      },
      {
       "output_type": "stream",
       "stream": "stderr",
       "text": [
        "3199 3200 "
       ]
      },
      {
       "output_type": "stream",
       "stream": "stderr",
       "text": [
        "3201 3202 "
       ]
      },
      {
       "output_type": "stream",
       "stream": "stderr",
       "text": [
        "3203 3204 "
       ]
      },
      {
       "output_type": "stream",
       "stream": "stderr",
       "text": [
        "3205 3206 "
       ]
      },
      {
       "output_type": "stream",
       "stream": "stderr",
       "text": [
        "3207 3208 "
       ]
      },
      {
       "output_type": "stream",
       "stream": "stderr",
       "text": [
        "3209 3210 "
       ]
      },
      {
       "output_type": "stream",
       "stream": "stderr",
       "text": [
        "3211 3212 "
       ]
      },
      {
       "output_type": "stream",
       "stream": "stderr",
       "text": [
        "3213 3214 "
       ]
      },
      {
       "output_type": "stream",
       "stream": "stderr",
       "text": [
        "3215 3216 "
       ]
      },
      {
       "output_type": "stream",
       "stream": "stderr",
       "text": [
        "3217 3218 "
       ]
      },
      {
       "output_type": "stream",
       "stream": "stderr",
       "text": [
        "3219 3220 "
       ]
      },
      {
       "output_type": "stream",
       "stream": "stderr",
       "text": [
        "3221 3222 "
       ]
      },
      {
       "output_type": "stream",
       "stream": "stderr",
       "text": [
        "3223 3224 "
       ]
      },
      {
       "output_type": "stream",
       "stream": "stderr",
       "text": [
        "3225 3226 "
       ]
      },
      {
       "output_type": "stream",
       "stream": "stderr",
       "text": [
        "3227 3228 "
       ]
      },
      {
       "output_type": "stream",
       "stream": "stderr",
       "text": [
        "3229 3230 "
       ]
      },
      {
       "output_type": "stream",
       "stream": "stderr",
       "text": [
        "3231 3232 "
       ]
      },
      {
       "output_type": "stream",
       "stream": "stderr",
       "text": [
        "3233 3234 "
       ]
      },
      {
       "output_type": "stream",
       "stream": "stderr",
       "text": [
        "3235 3236 "
       ]
      },
      {
       "output_type": "stream",
       "stream": "stderr",
       "text": [
        "3237 3238 "
       ]
      },
      {
       "output_type": "stream",
       "stream": "stderr",
       "text": [
        "3239 3240 "
       ]
      },
      {
       "output_type": "stream",
       "stream": "stderr",
       "text": [
        "3241 3242 "
       ]
      },
      {
       "output_type": "stream",
       "stream": "stderr",
       "text": [
        "3243 3244 "
       ]
      },
      {
       "output_type": "stream",
       "stream": "stderr",
       "text": [
        "3245 3246 "
       ]
      },
      {
       "output_type": "stream",
       "stream": "stderr",
       "text": [
        "3247 3248 "
       ]
      },
      {
       "output_type": "stream",
       "stream": "stderr",
       "text": [
        "3249 3250 "
       ]
      },
      {
       "output_type": "stream",
       "stream": "stderr",
       "text": [
        "3251 3252 "
       ]
      },
      {
       "output_type": "stream",
       "stream": "stderr",
       "text": [
        "3253 3254 "
       ]
      },
      {
       "output_type": "stream",
       "stream": "stderr",
       "text": [
        "3255 3256 "
       ]
      },
      {
       "output_type": "stream",
       "stream": "stderr",
       "text": [
        "3257 3258 "
       ]
      },
      {
       "output_type": "stream",
       "stream": "stderr",
       "text": [
        "3259 3260 "
       ]
      },
      {
       "output_type": "stream",
       "stream": "stderr",
       "text": [
        "3261 3262 "
       ]
      },
      {
       "output_type": "stream",
       "stream": "stderr",
       "text": [
        "3263 3264 "
       ]
      },
      {
       "output_type": "stream",
       "stream": "stderr",
       "text": [
        "3265 3266 "
       ]
      },
      {
       "output_type": "stream",
       "stream": "stderr",
       "text": [
        "3267 3268 "
       ]
      },
      {
       "output_type": "stream",
       "stream": "stderr",
       "text": [
        "3269 3270 "
       ]
      },
      {
       "output_type": "stream",
       "stream": "stderr",
       "text": [
        "3271 3272 "
       ]
      },
      {
       "output_type": "stream",
       "stream": "stderr",
       "text": [
        "3273 3274 "
       ]
      },
      {
       "output_type": "stream",
       "stream": "stderr",
       "text": [
        "3275 3276 "
       ]
      },
      {
       "output_type": "stream",
       "stream": "stderr",
       "text": [
        "3277 3278 "
       ]
      },
      {
       "output_type": "stream",
       "stream": "stderr",
       "text": [
        "3279 3280 "
       ]
      },
      {
       "output_type": "stream",
       "stream": "stderr",
       "text": [
        "3281 3282 "
       ]
      },
      {
       "output_type": "stream",
       "stream": "stderr",
       "text": [
        "3283 3284 "
       ]
      },
      {
       "output_type": "stream",
       "stream": "stderr",
       "text": [
        "3285 3286 "
       ]
      },
      {
       "output_type": "stream",
       "stream": "stderr",
       "text": [
        "3287 3288 "
       ]
      },
      {
       "output_type": "stream",
       "stream": "stderr",
       "text": [
        "3289 3290 "
       ]
      },
      {
       "output_type": "stream",
       "stream": "stderr",
       "text": [
        "3291 3292 "
       ]
      },
      {
       "output_type": "stream",
       "stream": "stderr",
       "text": [
        "3293 3294 "
       ]
      },
      {
       "output_type": "stream",
       "stream": "stderr",
       "text": [
        "3295 3296 "
       ]
      },
      {
       "output_type": "stream",
       "stream": "stderr",
       "text": [
        "3297 3298 "
       ]
      },
      {
       "output_type": "stream",
       "stream": "stderr",
       "text": [
        "3299 3300 "
       ]
      },
      {
       "output_type": "stream",
       "stream": "stderr",
       "text": [
        "3301 3302 "
       ]
      },
      {
       "output_type": "stream",
       "stream": "stderr",
       "text": [
        "3303 3304 "
       ]
      },
      {
       "output_type": "stream",
       "stream": "stderr",
       "text": [
        "3305 3306 "
       ]
      },
      {
       "output_type": "stream",
       "stream": "stderr",
       "text": [
        "3307 3308 "
       ]
      },
      {
       "output_type": "stream",
       "stream": "stderr",
       "text": [
        "3309 3310 "
       ]
      },
      {
       "output_type": "stream",
       "stream": "stderr",
       "text": [
        "3311 3312 "
       ]
      },
      {
       "output_type": "stream",
       "stream": "stderr",
       "text": [
        "3313 3314 "
       ]
      },
      {
       "output_type": "stream",
       "stream": "stderr",
       "text": [
        "3315 3316 "
       ]
      },
      {
       "output_type": "stream",
       "stream": "stderr",
       "text": [
        "3317 3318 "
       ]
      },
      {
       "output_type": "stream",
       "stream": "stderr",
       "text": [
        "3319 3320 "
       ]
      },
      {
       "output_type": "stream",
       "stream": "stderr",
       "text": [
        "3321 3322 "
       ]
      },
      {
       "output_type": "stream",
       "stream": "stderr",
       "text": [
        "3323 3324 "
       ]
      },
      {
       "output_type": "stream",
       "stream": "stderr",
       "text": [
        "3325 3326 "
       ]
      },
      {
       "output_type": "stream",
       "stream": "stderr",
       "text": [
        "3327 3328 "
       ]
      },
      {
       "output_type": "stream",
       "stream": "stderr",
       "text": [
        "3329 3330 "
       ]
      },
      {
       "output_type": "stream",
       "stream": "stderr",
       "text": [
        "3331 3332 "
       ]
      },
      {
       "output_type": "stream",
       "stream": "stderr",
       "text": [
        "3333 3334 "
       ]
      },
      {
       "output_type": "stream",
       "stream": "stderr",
       "text": [
        "3335 3336 "
       ]
      },
      {
       "output_type": "stream",
       "stream": "stderr",
       "text": [
        "3337 3338 "
       ]
      },
      {
       "output_type": "stream",
       "stream": "stderr",
       "text": [
        "3339 3340 "
       ]
      },
      {
       "output_type": "stream",
       "stream": "stderr",
       "text": [
        "3341 3342 "
       ]
      },
      {
       "output_type": "stream",
       "stream": "stderr",
       "text": [
        "3343 3344 "
       ]
      },
      {
       "output_type": "stream",
       "stream": "stderr",
       "text": [
        "3345 3346 "
       ]
      },
      {
       "output_type": "stream",
       "stream": "stderr",
       "text": [
        "3347 3348 "
       ]
      },
      {
       "output_type": "stream",
       "stream": "stderr",
       "text": [
        "3349 3350 "
       ]
      },
      {
       "output_type": "stream",
       "stream": "stderr",
       "text": [
        "3351 3352 "
       ]
      },
      {
       "output_type": "stream",
       "stream": "stderr",
       "text": [
        "3353 3354 "
       ]
      },
      {
       "output_type": "stream",
       "stream": "stderr",
       "text": [
        "3355 3356 "
       ]
      },
      {
       "output_type": "stream",
       "stream": "stderr",
       "text": [
        "3357 3358 "
       ]
      },
      {
       "output_type": "stream",
       "stream": "stderr",
       "text": [
        "3359 3360 "
       ]
      },
      {
       "output_type": "stream",
       "stream": "stderr",
       "text": [
        "3361 3362 "
       ]
      },
      {
       "output_type": "stream",
       "stream": "stderr",
       "text": [
        "3363 3364 "
       ]
      },
      {
       "output_type": "stream",
       "stream": "stderr",
       "text": [
        "3365 3366 "
       ]
      },
      {
       "output_type": "stream",
       "stream": "stderr",
       "text": [
        "3367 3368 "
       ]
      },
      {
       "output_type": "stream",
       "stream": "stderr",
       "text": [
        "3369 3370 "
       ]
      },
      {
       "output_type": "stream",
       "stream": "stderr",
       "text": [
        "3371 3372 "
       ]
      },
      {
       "output_type": "stream",
       "stream": "stderr",
       "text": [
        "3373 3374 "
       ]
      },
      {
       "output_type": "stream",
       "stream": "stderr",
       "text": [
        "3375 3376 "
       ]
      },
      {
       "output_type": "stream",
       "stream": "stderr",
       "text": [
        "3377 3378 "
       ]
      },
      {
       "output_type": "stream",
       "stream": "stderr",
       "text": [
        "3379 3380 "
       ]
      },
      {
       "output_type": "stream",
       "stream": "stderr",
       "text": [
        "3381 3382 "
       ]
      },
      {
       "output_type": "stream",
       "stream": "stderr",
       "text": [
        "3383 3384 "
       ]
      },
      {
       "output_type": "stream",
       "stream": "stderr",
       "text": [
        "3385 3386 "
       ]
      },
      {
       "output_type": "stream",
       "stream": "stderr",
       "text": [
        "3387 3388 "
       ]
      },
      {
       "output_type": "stream",
       "stream": "stderr",
       "text": [
        "3389 3390 "
       ]
      },
      {
       "output_type": "stream",
       "stream": "stderr",
       "text": [
        "3391 3392 "
       ]
      },
      {
       "output_type": "stream",
       "stream": "stderr",
       "text": [
        "3393 3394 "
       ]
      },
      {
       "output_type": "stream",
       "stream": "stderr",
       "text": [
        "3395 3396 "
       ]
      },
      {
       "output_type": "stream",
       "stream": "stderr",
       "text": [
        "3397 3398 "
       ]
      },
      {
       "output_type": "stream",
       "stream": "stderr",
       "text": [
        "3399 3400 "
       ]
      },
      {
       "output_type": "stream",
       "stream": "stderr",
       "text": [
        "3401 3402 "
       ]
      },
      {
       "output_type": "stream",
       "stream": "stderr",
       "text": [
        "3403 3404 "
       ]
      },
      {
       "output_type": "stream",
       "stream": "stderr",
       "text": [
        "3405 3406 "
       ]
      },
      {
       "output_type": "stream",
       "stream": "stderr",
       "text": [
        "3407 3408 "
       ]
      },
      {
       "output_type": "stream",
       "stream": "stderr",
       "text": [
        "3409 3410 "
       ]
      },
      {
       "output_type": "stream",
       "stream": "stderr",
       "text": [
        "3411 3412 "
       ]
      },
      {
       "output_type": "stream",
       "stream": "stderr",
       "text": [
        "3413 3414 "
       ]
      },
      {
       "output_type": "stream",
       "stream": "stderr",
       "text": [
        "3415 3416 "
       ]
      },
      {
       "output_type": "stream",
       "stream": "stderr",
       "text": [
        "3417 3418 "
       ]
      },
      {
       "output_type": "stream",
       "stream": "stderr",
       "text": [
        "3419 3420 3421 "
       ]
      },
      {
       "output_type": "stream",
       "stream": "stderr",
       "text": [
        "3422 3423 "
       ]
      },
      {
       "output_type": "stream",
       "stream": "stderr",
       "text": [
        "3424 3425 "
       ]
      },
      {
       "output_type": "stream",
       "stream": "stderr",
       "text": [
        "3426 3427 "
       ]
      },
      {
       "output_type": "stream",
       "stream": "stderr",
       "text": [
        "3428 3429 "
       ]
      },
      {
       "output_type": "stream",
       "stream": "stderr",
       "text": [
        "3430 3431 "
       ]
      },
      {
       "output_type": "stream",
       "stream": "stderr",
       "text": [
        "3432 3433 "
       ]
      },
      {
       "output_type": "stream",
       "stream": "stderr",
       "text": [
        "3434 3435 "
       ]
      },
      {
       "output_type": "stream",
       "stream": "stderr",
       "text": [
        "3436 3437 "
       ]
      },
      {
       "output_type": "stream",
       "stream": "stderr",
       "text": [
        "3438 3439 "
       ]
      },
      {
       "output_type": "stream",
       "stream": "stderr",
       "text": [
        "3440 3441 "
       ]
      },
      {
       "output_type": "stream",
       "stream": "stderr",
       "text": [
        "3442 3443 "
       ]
      },
      {
       "output_type": "stream",
       "stream": "stderr",
       "text": [
        "3444 3445 "
       ]
      },
      {
       "output_type": "stream",
       "stream": "stderr",
       "text": [
        "3446 3447 "
       ]
      },
      {
       "output_type": "stream",
       "stream": "stderr",
       "text": [
        "3448 3449 "
       ]
      },
      {
       "output_type": "stream",
       "stream": "stderr",
       "text": [
        "3450 3451 "
       ]
      },
      {
       "output_type": "stream",
       "stream": "stderr",
       "text": [
        "3452 3453 "
       ]
      },
      {
       "output_type": "stream",
       "stream": "stderr",
       "text": [
        "3454 3455 "
       ]
      },
      {
       "output_type": "stream",
       "stream": "stderr",
       "text": [
        "3456 3457 "
       ]
      },
      {
       "output_type": "stream",
       "stream": "stderr",
       "text": [
        "3458 3459 3460 "
       ]
      },
      {
       "output_type": "stream",
       "stream": "stderr",
       "text": [
        "3461 3462 "
       ]
      },
      {
       "output_type": "stream",
       "stream": "stderr",
       "text": [
        "3463 3464 "
       ]
      },
      {
       "output_type": "stream",
       "stream": "stderr",
       "text": [
        "3465 3466 "
       ]
      },
      {
       "output_type": "stream",
       "stream": "stderr",
       "text": [
        "3467 3468 "
       ]
      },
      {
       "output_type": "stream",
       "stream": "stderr",
       "text": [
        "3469 3470 "
       ]
      },
      {
       "output_type": "stream",
       "stream": "stderr",
       "text": [
        "3471 3472 "
       ]
      },
      {
       "output_type": "stream",
       "stream": "stderr",
       "text": [
        "3473 3474 "
       ]
      },
      {
       "output_type": "stream",
       "stream": "stderr",
       "text": [
        "3475 3476 "
       ]
      },
      {
       "output_type": "stream",
       "stream": "stderr",
       "text": [
        "3477 3478 "
       ]
      },
      {
       "output_type": "stream",
       "stream": "stderr",
       "text": [
        "3479 3480 "
       ]
      },
      {
       "output_type": "stream",
       "stream": "stderr",
       "text": [
        "3481 3482 "
       ]
      },
      {
       "output_type": "stream",
       "stream": "stderr",
       "text": [
        "3483 3484 "
       ]
      },
      {
       "output_type": "stream",
       "stream": "stderr",
       "text": [
        "3485 3486 "
       ]
      },
      {
       "output_type": "stream",
       "stream": "stderr",
       "text": [
        "3487 3488 "
       ]
      },
      {
       "output_type": "stream",
       "stream": "stderr",
       "text": [
        "3489 3490 "
       ]
      },
      {
       "output_type": "stream",
       "stream": "stderr",
       "text": [
        "3491 3492 "
       ]
      },
      {
       "output_type": "stream",
       "stream": "stderr",
       "text": [
        "3493 3494 "
       ]
      },
      {
       "output_type": "stream",
       "stream": "stderr",
       "text": [
        "3495 3496 "
       ]
      },
      {
       "output_type": "stream",
       "stream": "stderr",
       "text": [
        "3497 3498 "
       ]
      },
      {
       "output_type": "stream",
       "stream": "stderr",
       "text": [
        "3499 3500 "
       ]
      },
      {
       "output_type": "stream",
       "stream": "stderr",
       "text": [
        "3501 3502 "
       ]
      },
      {
       "output_type": "stream",
       "stream": "stderr",
       "text": [
        "3503 3504 "
       ]
      },
      {
       "output_type": "stream",
       "stream": "stderr",
       "text": [
        "3505 3506 "
       ]
      },
      {
       "output_type": "stream",
       "stream": "stderr",
       "text": [
        "3507 3508 "
       ]
      },
      {
       "output_type": "stream",
       "stream": "stderr",
       "text": [
        "3509 3510 "
       ]
      },
      {
       "output_type": "stream",
       "stream": "stderr",
       "text": [
        "3511 3512 "
       ]
      },
      {
       "output_type": "stream",
       "stream": "stderr",
       "text": [
        "3513 3514 "
       ]
      },
      {
       "output_type": "stream",
       "stream": "stderr",
       "text": [
        "3515 3516 "
       ]
      },
      {
       "output_type": "stream",
       "stream": "stderr",
       "text": [
        "3517 3518 "
       ]
      },
      {
       "output_type": "stream",
       "stream": "stderr",
       "text": [
        "3519 3520 "
       ]
      },
      {
       "output_type": "stream",
       "stream": "stderr",
       "text": [
        "3521 3522 "
       ]
      },
      {
       "output_type": "stream",
       "stream": "stderr",
       "text": [
        "3523 3524 "
       ]
      },
      {
       "output_type": "stream",
       "stream": "stderr",
       "text": [
        "3525 3526 "
       ]
      },
      {
       "output_type": "stream",
       "stream": "stderr",
       "text": [
        "3527 3528 "
       ]
      },
      {
       "output_type": "stream",
       "stream": "stderr",
       "text": [
        "3529 3530 "
       ]
      },
      {
       "output_type": "stream",
       "stream": "stderr",
       "text": [
        "3531 3532 "
       ]
      },
      {
       "output_type": "stream",
       "stream": "stderr",
       "text": [
        "3533 3534 "
       ]
      },
      {
       "output_type": "stream",
       "stream": "stderr",
       "text": [
        "3535 3536 "
       ]
      },
      {
       "output_type": "stream",
       "stream": "stderr",
       "text": [
        "3537 3538 3539 "
       ]
      },
      {
       "output_type": "stream",
       "stream": "stderr",
       "text": [
        "3540 3541 "
       ]
      },
      {
       "output_type": "stream",
       "stream": "stderr",
       "text": [
        "3542 3543 "
       ]
      },
      {
       "output_type": "stream",
       "stream": "stderr",
       "text": [
        "3544 3545 "
       ]
      },
      {
       "output_type": "stream",
       "stream": "stderr",
       "text": [
        "3546 3547 3548 "
       ]
      },
      {
       "output_type": "stream",
       "stream": "stderr",
       "text": [
        "3549 3550 "
       ]
      },
      {
       "output_type": "stream",
       "stream": "stderr",
       "text": [
        "3551 3552 "
       ]
      },
      {
       "output_type": "stream",
       "stream": "stderr",
       "text": [
        "3553 3554 "
       ]
      },
      {
       "output_type": "stream",
       "stream": "stderr",
       "text": [
        "3555 3556 "
       ]
      },
      {
       "output_type": "stream",
       "stream": "stderr",
       "text": [
        "3557 3558 "
       ]
      },
      {
       "output_type": "stream",
       "stream": "stderr",
       "text": [
        "3559 3560 "
       ]
      },
      {
       "output_type": "stream",
       "stream": "stderr",
       "text": [
        "3561 3562 "
       ]
      },
      {
       "output_type": "stream",
       "stream": "stderr",
       "text": [
        "3563 3564 "
       ]
      },
      {
       "output_type": "stream",
       "stream": "stderr",
       "text": [
        "3565 3566 "
       ]
      },
      {
       "output_type": "stream",
       "stream": "stderr",
       "text": [
        "3567 3568 "
       ]
      },
      {
       "output_type": "stream",
       "stream": "stderr",
       "text": [
        "3569 3570 "
       ]
      },
      {
       "output_type": "stream",
       "stream": "stderr",
       "text": [
        "3571 3572 "
       ]
      },
      {
       "output_type": "stream",
       "stream": "stderr",
       "text": [
        "3573 3574 "
       ]
      },
      {
       "output_type": "stream",
       "stream": "stderr",
       "text": [
        "3575 3576 "
       ]
      },
      {
       "output_type": "stream",
       "stream": "stderr",
       "text": [
        "3577 3578 "
       ]
      },
      {
       "output_type": "stream",
       "stream": "stderr",
       "text": [
        "3579 3580 "
       ]
      },
      {
       "output_type": "stream",
       "stream": "stderr",
       "text": [
        "3581 3582 "
       ]
      },
      {
       "output_type": "stream",
       "stream": "stderr",
       "text": [
        "3583 3584 "
       ]
      },
      {
       "output_type": "stream",
       "stream": "stderr",
       "text": [
        "3585 3586 3587 "
       ]
      },
      {
       "output_type": "stream",
       "stream": "stderr",
       "text": [
        "3588 3589 "
       ]
      },
      {
       "output_type": "stream",
       "stream": "stderr",
       "text": [
        "3590 3591 "
       ]
      },
      {
       "output_type": "stream",
       "stream": "stderr",
       "text": [
        "3592 3593 "
       ]
      },
      {
       "output_type": "stream",
       "stream": "stderr",
       "text": [
        "3594 3595 "
       ]
      },
      {
       "output_type": "stream",
       "stream": "stderr",
       "text": [
        "3596 3597 "
       ]
      },
      {
       "output_type": "stream",
       "stream": "stderr",
       "text": [
        "3598 3599 "
       ]
      },
      {
       "output_type": "stream",
       "stream": "stderr",
       "text": [
        "3600 3601 "
       ]
      },
      {
       "output_type": "stream",
       "stream": "stderr",
       "text": [
        "3602 3603 "
       ]
      },
      {
       "output_type": "stream",
       "stream": "stderr",
       "text": [
        "3604 3605 "
       ]
      },
      {
       "output_type": "stream",
       "stream": "stderr",
       "text": [
        "3606 3607 3608 "
       ]
      },
      {
       "output_type": "stream",
       "stream": "stderr",
       "text": [
        "3609 3610 "
       ]
      },
      {
       "output_type": "stream",
       "stream": "stderr",
       "text": [
        "3611 3612 "
       ]
      },
      {
       "output_type": "stream",
       "stream": "stderr",
       "text": [
        "3613 3614 "
       ]
      },
      {
       "output_type": "stream",
       "stream": "stderr",
       "text": [
        "3615 3616 3617 "
       ]
      },
      {
       "output_type": "stream",
       "stream": "stderr",
       "text": [
        "3618 3619 "
       ]
      },
      {
       "output_type": "stream",
       "stream": "stderr",
       "text": [
        "3620 3621 "
       ]
      },
      {
       "output_type": "stream",
       "stream": "stderr",
       "text": [
        "3622 3623 "
       ]
      },
      {
       "output_type": "stream",
       "stream": "stderr",
       "text": [
        "3624 3625 "
       ]
      },
      {
       "output_type": "stream",
       "stream": "stderr",
       "text": [
        "3626 3627 "
       ]
      },
      {
       "output_type": "stream",
       "stream": "stderr",
       "text": [
        "3628 3629 "
       ]
      },
      {
       "output_type": "stream",
       "stream": "stderr",
       "text": [
        "3630 3631 "
       ]
      },
      {
       "output_type": "stream",
       "stream": "stderr",
       "text": [
        "3632 3633 "
       ]
      },
      {
       "output_type": "stream",
       "stream": "stderr",
       "text": [
        "3634 3635 "
       ]
      },
      {
       "output_type": "stream",
       "stream": "stderr",
       "text": [
        "3636 3637 "
       ]
      },
      {
       "output_type": "stream",
       "stream": "stderr",
       "text": [
        "3638 3639 3640 "
       ]
      },
      {
       "output_type": "stream",
       "stream": "stderr",
       "text": [
        "3641 3642 "
       ]
      },
      {
       "output_type": "stream",
       "stream": "stderr",
       "text": [
        "3643 3644 "
       ]
      },
      {
       "output_type": "stream",
       "stream": "stderr",
       "text": [
        "3645 3646 "
       ]
      },
      {
       "output_type": "stream",
       "stream": "stderr",
       "text": [
        "3647 3648 "
       ]
      },
      {
       "output_type": "stream",
       "stream": "stderr",
       "text": [
        "3649 3650 "
       ]
      },
      {
       "output_type": "stream",
       "stream": "stderr",
       "text": [
        "3651 3652 "
       ]
      },
      {
       "output_type": "stream",
       "stream": "stderr",
       "text": [
        "3653 3654 "
       ]
      },
      {
       "output_type": "stream",
       "stream": "stderr",
       "text": [
        "3655 3656 "
       ]
      },
      {
       "output_type": "stream",
       "stream": "stderr",
       "text": [
        "3657 3658 "
       ]
      },
      {
       "output_type": "stream",
       "stream": "stderr",
       "text": [
        "3659 3660 "
       ]
      },
      {
       "output_type": "stream",
       "stream": "stderr",
       "text": [
        "3661 3662 "
       ]
      },
      {
       "output_type": "stream",
       "stream": "stderr",
       "text": [
        "3663 3664 "
       ]
      },
      {
       "output_type": "stream",
       "stream": "stderr",
       "text": [
        "3665 3666 "
       ]
      },
      {
       "output_type": "stream",
       "stream": "stderr",
       "text": [
        "3667 3668 "
       ]
      },
      {
       "output_type": "stream",
       "stream": "stderr",
       "text": [
        "3669 3670 "
       ]
      },
      {
       "output_type": "stream",
       "stream": "stderr",
       "text": [
        "3671 3672 "
       ]
      },
      {
       "output_type": "stream",
       "stream": "stderr",
       "text": [
        "3673 3674 "
       ]
      },
      {
       "output_type": "stream",
       "stream": "stderr",
       "text": [
        "3675 3676 "
       ]
      },
      {
       "output_type": "stream",
       "stream": "stderr",
       "text": [
        "3677 3678 "
       ]
      },
      {
       "output_type": "stream",
       "stream": "stderr",
       "text": [
        "3679 3680 "
       ]
      },
      {
       "output_type": "stream",
       "stream": "stderr",
       "text": [
        "3681 3682 "
       ]
      },
      {
       "output_type": "stream",
       "stream": "stderr",
       "text": [
        "3683 3684 "
       ]
      },
      {
       "output_type": "stream",
       "stream": "stderr",
       "text": [
        "3685 3686 "
       ]
      },
      {
       "output_type": "stream",
       "stream": "stderr",
       "text": [
        "3687 3688 "
       ]
      },
      {
       "output_type": "stream",
       "stream": "stderr",
       "text": [
        "3689 3690 "
       ]
      },
      {
       "output_type": "stream",
       "stream": "stderr",
       "text": [
        "3691 3692 "
       ]
      },
      {
       "output_type": "stream",
       "stream": "stderr",
       "text": [
        "3693 3694 3695 "
       ]
      },
      {
       "output_type": "stream",
       "stream": "stderr",
       "text": [
        "3696 3697 "
       ]
      },
      {
       "output_type": "stream",
       "stream": "stderr",
       "text": [
        "3698 3699 "
       ]
      },
      {
       "output_type": "stream",
       "stream": "stderr",
       "text": [
        "3700 3701 "
       ]
      },
      {
       "output_type": "stream",
       "stream": "stderr",
       "text": [
        "3702 3703 "
       ]
      },
      {
       "output_type": "stream",
       "stream": "stderr",
       "text": [
        "3704 3705 3706 "
       ]
      },
      {
       "output_type": "stream",
       "stream": "stderr",
       "text": [
        "3707 3708 "
       ]
      },
      {
       "output_type": "stream",
       "stream": "stderr",
       "text": [
        "3709 3710 "
       ]
      },
      {
       "output_type": "stream",
       "stream": "stderr",
       "text": [
        "3711 3712 "
       ]
      },
      {
       "output_type": "stream",
       "stream": "stderr",
       "text": [
        "3713 3714 "
       ]
      },
      {
       "output_type": "stream",
       "stream": "stderr",
       "text": [
        "3715 3716 "
       ]
      },
      {
       "output_type": "stream",
       "stream": "stderr",
       "text": [
        "3717 3718 "
       ]
      },
      {
       "output_type": "stream",
       "stream": "stderr",
       "text": [
        "3719 3720 "
       ]
      },
      {
       "output_type": "stream",
       "stream": "stderr",
       "text": [
        "3721 3722 "
       ]
      },
      {
       "output_type": "stream",
       "stream": "stderr",
       "text": [
        "3723 3724 "
       ]
      },
      {
       "output_type": "stream",
       "stream": "stderr",
       "text": [
        "3725 3726 "
       ]
      },
      {
       "output_type": "stream",
       "stream": "stderr",
       "text": [
        "3727 3728 "
       ]
      },
      {
       "output_type": "stream",
       "stream": "stderr",
       "text": [
        "3729 3730 "
       ]
      },
      {
       "output_type": "stream",
       "stream": "stderr",
       "text": [
        "3731 3732 "
       ]
      },
      {
       "output_type": "stream",
       "stream": "stderr",
       "text": [
        "3733 3734 "
       ]
      },
      {
       "output_type": "stream",
       "stream": "stderr",
       "text": [
        "3735 3736 "
       ]
      },
      {
       "output_type": "stream",
       "stream": "stderr",
       "text": [
        "3737 3738 3739 "
       ]
      },
      {
       "output_type": "stream",
       "stream": "stderr",
       "text": [
        "3740 3741 "
       ]
      },
      {
       "output_type": "stream",
       "stream": "stderr",
       "text": [
        "3742 3743 "
       ]
      },
      {
       "output_type": "stream",
       "stream": "stderr",
       "text": [
        "3744 3745 "
       ]
      },
      {
       "output_type": "stream",
       "stream": "stderr",
       "text": [
        "3746 3747 "
       ]
      },
      {
       "output_type": "stream",
       "stream": "stderr",
       "text": [
        "3748 3749 "
       ]
      },
      {
       "output_type": "stream",
       "stream": "stderr",
       "text": [
        "3750 3751 "
       ]
      },
      {
       "output_type": "stream",
       "stream": "stderr",
       "text": [
        "3752 3753 "
       ]
      },
      {
       "output_type": "stream",
       "stream": "stderr",
       "text": [
        "3754 3755 "
       ]
      },
      {
       "output_type": "stream",
       "stream": "stderr",
       "text": [
        "3756 3757 "
       ]
      },
      {
       "output_type": "stream",
       "stream": "stderr",
       "text": [
        "3758 3759 "
       ]
      },
      {
       "output_type": "stream",
       "stream": "stderr",
       "text": [
        "3760 3761 "
       ]
      },
      {
       "output_type": "stream",
       "stream": "stderr",
       "text": [
        "3762 3763 "
       ]
      },
      {
       "output_type": "stream",
       "stream": "stderr",
       "text": [
        "3764 3765 "
       ]
      },
      {
       "output_type": "stream",
       "stream": "stderr",
       "text": [
        "3766 3767 "
       ]
      },
      {
       "output_type": "stream",
       "stream": "stderr",
       "text": [
        "3768 3769 3770 "
       ]
      },
      {
       "output_type": "stream",
       "stream": "stderr",
       "text": [
        "3771 3772 "
       ]
      },
      {
       "output_type": "stream",
       "stream": "stderr",
       "text": [
        "3773 3774 "
       ]
      },
      {
       "output_type": "stream",
       "stream": "stderr",
       "text": [
        "3775 3776 "
       ]
      },
      {
       "output_type": "stream",
       "stream": "stderr",
       "text": [
        "3777 3778 "
       ]
      },
      {
       "output_type": "stream",
       "stream": "stderr",
       "text": [
        "3779 3780 "
       ]
      },
      {
       "output_type": "stream",
       "stream": "stderr",
       "text": [
        "3781 3782 "
       ]
      },
      {
       "output_type": "stream",
       "stream": "stderr",
       "text": [
        "3783 3784 "
       ]
      },
      {
       "output_type": "stream",
       "stream": "stderr",
       "text": [
        "3785 3786 "
       ]
      },
      {
       "output_type": "stream",
       "stream": "stderr",
       "text": [
        "3787 3788 "
       ]
      },
      {
       "output_type": "stream",
       "stream": "stderr",
       "text": [
        "3789 3790 "
       ]
      },
      {
       "output_type": "stream",
       "stream": "stderr",
       "text": [
        "3791 3792 "
       ]
      },
      {
       "output_type": "stream",
       "stream": "stderr",
       "text": [
        "3793 3794 "
       ]
      },
      {
       "output_type": "stream",
       "stream": "stderr",
       "text": [
        "3795 3796 "
       ]
      },
      {
       "output_type": "stream",
       "stream": "stderr",
       "text": [
        "3797 3798 "
       ]
      },
      {
       "output_type": "stream",
       "stream": "stderr",
       "text": [
        "3799 3800 "
       ]
      },
      {
       "output_type": "stream",
       "stream": "stderr",
       "text": [
        "3801 3802 "
       ]
      },
      {
       "output_type": "stream",
       "stream": "stderr",
       "text": [
        "3803 3804 "
       ]
      },
      {
       "output_type": "stream",
       "stream": "stderr",
       "text": [
        "3805 3806 "
       ]
      },
      {
       "output_type": "stream",
       "stream": "stderr",
       "text": [
        "3807 3808 "
       ]
      },
      {
       "output_type": "stream",
       "stream": "stderr",
       "text": [
        "3809 3810 "
       ]
      },
      {
       "output_type": "stream",
       "stream": "stderr",
       "text": [
        "3811 3812 "
       ]
      },
      {
       "output_type": "stream",
       "stream": "stderr",
       "text": [
        "3813 3814 3815 "
       ]
      },
      {
       "output_type": "stream",
       "stream": "stderr",
       "text": [
        "3816 3817 "
       ]
      },
      {
       "output_type": "stream",
       "stream": "stderr",
       "text": [
        "3818 3819 "
       ]
      },
      {
       "output_type": "stream",
       "stream": "stderr",
       "text": [
        "3820 3821 "
       ]
      },
      {
       "output_type": "stream",
       "stream": "stderr",
       "text": [
        "3822 3823 "
       ]
      },
      {
       "output_type": "stream",
       "stream": "stderr",
       "text": [
        "3824 3825 "
       ]
      },
      {
       "output_type": "stream",
       "stream": "stderr",
       "text": [
        "3826 3827 "
       ]
      },
      {
       "output_type": "stream",
       "stream": "stderr",
       "text": [
        "3828 3829 "
       ]
      },
      {
       "output_type": "stream",
       "stream": "stderr",
       "text": [
        "3830 3831 "
       ]
      },
      {
       "output_type": "stream",
       "stream": "stderr",
       "text": [
        "3832 3833 "
       ]
      },
      {
       "output_type": "stream",
       "stream": "stderr",
       "text": [
        "3834 3835 "
       ]
      },
      {
       "output_type": "stream",
       "stream": "stderr",
       "text": [
        "3836 3837 "
       ]
      },
      {
       "output_type": "stream",
       "stream": "stderr",
       "text": [
        "3838 3839 "
       ]
      },
      {
       "output_type": "stream",
       "stream": "stderr",
       "text": [
        "3840 3841 "
       ]
      },
      {
       "output_type": "stream",
       "stream": "stderr",
       "text": [
        "3842 3843 "
       ]
      },
      {
       "output_type": "stream",
       "stream": "stderr",
       "text": [
        "3844 3845 "
       ]
      },
      {
       "output_type": "stream",
       "stream": "stderr",
       "text": [
        "3846 3847 "
       ]
      },
      {
       "output_type": "stream",
       "stream": "stderr",
       "text": [
        "3848 3849 "
       ]
      },
      {
       "output_type": "stream",
       "stream": "stderr",
       "text": [
        "3850 3851 "
       ]
      },
      {
       "output_type": "stream",
       "stream": "stderr",
       "text": [
        "3852 3853 "
       ]
      },
      {
       "output_type": "stream",
       "stream": "stderr",
       "text": [
        "3854 3855 "
       ]
      },
      {
       "output_type": "stream",
       "stream": "stderr",
       "text": [
        "3856 3857 "
       ]
      },
      {
       "output_type": "stream",
       "stream": "stderr",
       "text": [
        "3858 3859 "
       ]
      },
      {
       "output_type": "stream",
       "stream": "stderr",
       "text": [
        "3860 3861 "
       ]
      },
      {
       "output_type": "stream",
       "stream": "stderr",
       "text": [
        "3862 3863 "
       ]
      },
      {
       "output_type": "stream",
       "stream": "stderr",
       "text": [
        "3864 3865 "
       ]
      },
      {
       "output_type": "stream",
       "stream": "stderr",
       "text": [
        "3866 3867 "
       ]
      },
      {
       "output_type": "stream",
       "stream": "stderr",
       "text": [
        "3868 3869 "
       ]
      },
      {
       "output_type": "stream",
       "stream": "stderr",
       "text": [
        "3870 3871 "
       ]
      },
      {
       "output_type": "stream",
       "stream": "stderr",
       "text": [
        "3872 3873 "
       ]
      },
      {
       "output_type": "stream",
       "stream": "stderr",
       "text": [
        "3874 3875 "
       ]
      },
      {
       "output_type": "stream",
       "stream": "stderr",
       "text": [
        "3876 3877 3878 "
       ]
      },
      {
       "output_type": "stream",
       "stream": "stderr",
       "text": [
        "3879 3880 "
       ]
      },
      {
       "output_type": "stream",
       "stream": "stderr",
       "text": [
        "3881 3882 "
       ]
      },
      {
       "output_type": "stream",
       "stream": "stderr",
       "text": [
        "3883 3884 "
       ]
      },
      {
       "output_type": "stream",
       "stream": "stderr",
       "text": [
        "3885 3886 "
       ]
      },
      {
       "output_type": "stream",
       "stream": "stderr",
       "text": [
        "3887 3888 "
       ]
      },
      {
       "output_type": "stream",
       "stream": "stderr",
       "text": [
        "3889 3890 "
       ]
      },
      {
       "output_type": "stream",
       "stream": "stderr",
       "text": [
        "3891 3892 "
       ]
      },
      {
       "output_type": "stream",
       "stream": "stderr",
       "text": [
        "3893 3894 "
       ]
      },
      {
       "output_type": "stream",
       "stream": "stderr",
       "text": [
        "3895 3896 "
       ]
      },
      {
       "output_type": "stream",
       "stream": "stderr",
       "text": [
        "3897 3898 "
       ]
      },
      {
       "output_type": "stream",
       "stream": "stderr",
       "text": [
        "3899 3900 "
       ]
      },
      {
       "output_type": "stream",
       "stream": "stderr",
       "text": [
        "3901 3902 "
       ]
      },
      {
       "output_type": "stream",
       "stream": "stderr",
       "text": [
        "3903 3904 "
       ]
      },
      {
       "output_type": "stream",
       "stream": "stderr",
       "text": [
        "3905 3906 "
       ]
      },
      {
       "output_type": "stream",
       "stream": "stderr",
       "text": [
        "3907 3908 "
       ]
      },
      {
       "output_type": "stream",
       "stream": "stderr",
       "text": [
        "3909 3910 "
       ]
      },
      {
       "output_type": "stream",
       "stream": "stderr",
       "text": [
        "3911 3912 "
       ]
      },
      {
       "output_type": "stream",
       "stream": "stderr",
       "text": [
        "3913 3914 "
       ]
      },
      {
       "output_type": "stream",
       "stream": "stderr",
       "text": [
        "3915 3916 "
       ]
      },
      {
       "output_type": "stream",
       "stream": "stderr",
       "text": [
        "3917 3918 "
       ]
      },
      {
       "output_type": "stream",
       "stream": "stderr",
       "text": [
        "3919 3920 "
       ]
      },
      {
       "output_type": "stream",
       "stream": "stderr",
       "text": [
        "3921 3922 "
       ]
      },
      {
       "output_type": "stream",
       "stream": "stderr",
       "text": [
        "3923 3924 "
       ]
      },
      {
       "output_type": "stream",
       "stream": "stderr",
       "text": [
        "3925 3926 "
       ]
      },
      {
       "output_type": "stream",
       "stream": "stderr",
       "text": [
        "3927 3928 "
       ]
      },
      {
       "output_type": "stream",
       "stream": "stderr",
       "text": [
        "3929 3930 "
       ]
      },
      {
       "output_type": "stream",
       "stream": "stderr",
       "text": [
        "3931 3932 "
       ]
      },
      {
       "output_type": "stream",
       "stream": "stderr",
       "text": [
        "3933 3934 "
       ]
      },
      {
       "output_type": "stream",
       "stream": "stderr",
       "text": [
        "3935 3936 "
       ]
      },
      {
       "output_type": "stream",
       "stream": "stderr",
       "text": [
        "3937 3938 "
       ]
      },
      {
       "output_type": "stream",
       "stream": "stderr",
       "text": [
        "3939 3940 "
       ]
      },
      {
       "output_type": "stream",
       "stream": "stderr",
       "text": [
        "3941 3942 "
       ]
      },
      {
       "output_type": "stream",
       "stream": "stderr",
       "text": [
        "3943 3944 "
       ]
      },
      {
       "output_type": "stream",
       "stream": "stderr",
       "text": [
        "3945 3946 "
       ]
      },
      {
       "output_type": "stream",
       "stream": "stderr",
       "text": [
        "3947 3948 "
       ]
      },
      {
       "output_type": "stream",
       "stream": "stderr",
       "text": [
        "3949 3950 "
       ]
      },
      {
       "output_type": "stream",
       "stream": "stderr",
       "text": [
        "3951 3952 "
       ]
      },
      {
       "output_type": "stream",
       "stream": "stderr",
       "text": [
        "3953 3954 "
       ]
      },
      {
       "output_type": "stream",
       "stream": "stderr",
       "text": [
        "3955 3956 3957 "
       ]
      },
      {
       "output_type": "stream",
       "stream": "stderr",
       "text": [
        "3958 3959 "
       ]
      },
      {
       "output_type": "stream",
       "stream": "stderr",
       "text": [
        "3960 3961 "
       ]
      },
      {
       "output_type": "stream",
       "stream": "stderr",
       "text": [
        "3962 3963 3964 "
       ]
      },
      {
       "output_type": "stream",
       "stream": "stderr",
       "text": [
        "3965 3966 "
       ]
      },
      {
       "output_type": "stream",
       "stream": "stderr",
       "text": [
        "3967 3968 "
       ]
      },
      {
       "output_type": "stream",
       "stream": "stderr",
       "text": [
        "3969 3970 "
       ]
      },
      {
       "output_type": "stream",
       "stream": "stderr",
       "text": [
        "3971 3972 "
       ]
      },
      {
       "output_type": "stream",
       "stream": "stderr",
       "text": [
        "3973 3974 "
       ]
      },
      {
       "output_type": "stream",
       "stream": "stderr",
       "text": [
        "3975 3976 "
       ]
      },
      {
       "output_type": "stream",
       "stream": "stderr",
       "text": [
        "3977 3978 "
       ]
      },
      {
       "output_type": "stream",
       "stream": "stderr",
       "text": [
        "3979 3980 "
       ]
      },
      {
       "output_type": "stream",
       "stream": "stderr",
       "text": [
        "3981 3982 "
       ]
      },
      {
       "output_type": "stream",
       "stream": "stderr",
       "text": [
        "3983 3984 "
       ]
      },
      {
       "output_type": "stream",
       "stream": "stderr",
       "text": [
        "3985 3986 "
       ]
      },
      {
       "output_type": "stream",
       "stream": "stderr",
       "text": [
        "3987 3988 "
       ]
      },
      {
       "output_type": "stream",
       "stream": "stderr",
       "text": [
        "3989 3990 "
       ]
      },
      {
       "output_type": "stream",
       "stream": "stderr",
       "text": [
        "3991 3992 "
       ]
      },
      {
       "output_type": "stream",
       "stream": "stderr",
       "text": [
        "3993 3994 "
       ]
      },
      {
       "output_type": "stream",
       "stream": "stderr",
       "text": [
        "3995 3996 "
       ]
      },
      {
       "output_type": "stream",
       "stream": "stderr",
       "text": [
        "3997 3998 3999 "
       ]
      },
      {
       "output_type": "stream",
       "stream": "stderr",
       "text": [
        "4000 4001 "
       ]
      },
      {
       "output_type": "stream",
       "stream": "stderr",
       "text": [
        "4002 4003 "
       ]
      },
      {
       "output_type": "stream",
       "stream": "stderr",
       "text": [
        "4004 4005 "
       ]
      },
      {
       "output_type": "stream",
       "stream": "stderr",
       "text": [
        "4006 4007 "
       ]
      },
      {
       "output_type": "stream",
       "stream": "stderr",
       "text": [
        "4008 4009 "
       ]
      },
      {
       "output_type": "stream",
       "stream": "stderr",
       "text": [
        "4010 4011 "
       ]
      },
      {
       "output_type": "stream",
       "stream": "stderr",
       "text": [
        "4012 4013 "
       ]
      },
      {
       "output_type": "stream",
       "stream": "stderr",
       "text": [
        "4014 4015 "
       ]
      },
      {
       "output_type": "stream",
       "stream": "stderr",
       "text": [
        "4016 4017 "
       ]
      },
      {
       "output_type": "stream",
       "stream": "stderr",
       "text": [
        "4018 4019 "
       ]
      },
      {
       "output_type": "stream",
       "stream": "stderr",
       "text": [
        "4020 4021 "
       ]
      },
      {
       "output_type": "stream",
       "stream": "stderr",
       "text": [
        "4022 4023 "
       ]
      },
      {
       "output_type": "stream",
       "stream": "stderr",
       "text": [
        "4024 4025 "
       ]
      },
      {
       "output_type": "stream",
       "stream": "stderr",
       "text": [
        "4026 4027 "
       ]
      },
      {
       "output_type": "stream",
       "stream": "stderr",
       "text": [
        "4028 4029 "
       ]
      },
      {
       "output_type": "stream",
       "stream": "stderr",
       "text": [
        "4030 4031 "
       ]
      },
      {
       "output_type": "stream",
       "stream": "stderr",
       "text": [
        "4032 4033 "
       ]
      },
      {
       "output_type": "stream",
       "stream": "stderr",
       "text": [
        "4034 4035 "
       ]
      },
      {
       "output_type": "stream",
       "stream": "stderr",
       "text": [
        "4036 4037 "
       ]
      },
      {
       "output_type": "stream",
       "stream": "stderr",
       "text": [
        "4038 4039 "
       ]
      },
      {
       "output_type": "stream",
       "stream": "stderr",
       "text": [
        "4040 4041 "
       ]
      },
      {
       "output_type": "stream",
       "stream": "stderr",
       "text": [
        "4042 4043 "
       ]
      },
      {
       "output_type": "stream",
       "stream": "stderr",
       "text": [
        "4044 4045 4046 "
       ]
      },
      {
       "output_type": "stream",
       "stream": "stderr",
       "text": [
        "4047 4048 "
       ]
      },
      {
       "output_type": "stream",
       "stream": "stderr",
       "text": [
        "4049 4050 "
       ]
      },
      {
       "output_type": "stream",
       "stream": "stderr",
       "text": [
        "4051 4052 "
       ]
      },
      {
       "output_type": "stream",
       "stream": "stderr",
       "text": [
        "4053 4054 "
       ]
      },
      {
       "output_type": "stream",
       "stream": "stderr",
       "text": [
        "4055 4056 "
       ]
      },
      {
       "output_type": "stream",
       "stream": "stderr",
       "text": [
        "4057 4058 "
       ]
      },
      {
       "output_type": "stream",
       "stream": "stderr",
       "text": [
        "4059 4060 "
       ]
      },
      {
       "output_type": "stream",
       "stream": "stderr",
       "text": [
        "4061 4062 "
       ]
      },
      {
       "output_type": "stream",
       "stream": "stderr",
       "text": [
        "4063 4064 "
       ]
      },
      {
       "output_type": "stream",
       "stream": "stderr",
       "text": [
        "4065 4066 "
       ]
      },
      {
       "output_type": "stream",
       "stream": "stderr",
       "text": [
        "4067 4068 4069 "
       ]
      },
      {
       "output_type": "stream",
       "stream": "stderr",
       "text": [
        "4070 4071 "
       ]
      },
      {
       "output_type": "stream",
       "stream": "stderr",
       "text": [
        "4072 4073 "
       ]
      },
      {
       "output_type": "stream",
       "stream": "stderr",
       "text": [
        "4074 4075 "
       ]
      },
      {
       "output_type": "stream",
       "stream": "stderr",
       "text": [
        "4076 4077 "
       ]
      },
      {
       "output_type": "stream",
       "stream": "stderr",
       "text": [
        "4078 4079 "
       ]
      },
      {
       "output_type": "stream",
       "stream": "stderr",
       "text": [
        "4080 4081 "
       ]
      },
      {
       "output_type": "stream",
       "stream": "stderr",
       "text": [
        "4082 4083 "
       ]
      },
      {
       "output_type": "stream",
       "stream": "stderr",
       "text": [
        "4084 4085 "
       ]
      },
      {
       "output_type": "stream",
       "stream": "stderr",
       "text": [
        "4086 4087 "
       ]
      },
      {
       "output_type": "stream",
       "stream": "stderr",
       "text": [
        "4088 4089 "
       ]
      },
      {
       "output_type": "stream",
       "stream": "stderr",
       "text": [
        "4090 4091 "
       ]
      },
      {
       "output_type": "stream",
       "stream": "stderr",
       "text": [
        "4092 4093 "
       ]
      },
      {
       "output_type": "stream",
       "stream": "stderr",
       "text": [
        "4094 4095 "
       ]
      },
      {
       "output_type": "stream",
       "stream": "stderr",
       "text": [
        "4096 4097 "
       ]
      },
      {
       "output_type": "stream",
       "stream": "stderr",
       "text": [
        "4098 4099 "
       ]
      },
      {
       "output_type": "stream",
       "stream": "stderr",
       "text": [
        "4100 4101 "
       ]
      },
      {
       "output_type": "stream",
       "stream": "stderr",
       "text": [
        "4102 4103 "
       ]
      },
      {
       "output_type": "stream",
       "stream": "stderr",
       "text": [
        "4104 4105 "
       ]
      },
      {
       "output_type": "stream",
       "stream": "stderr",
       "text": [
        "4106 4107 "
       ]
      },
      {
       "output_type": "stream",
       "stream": "stderr",
       "text": [
        "4108 4109 "
       ]
      },
      {
       "output_type": "stream",
       "stream": "stderr",
       "text": [
        "4110 4111 "
       ]
      },
      {
       "output_type": "stream",
       "stream": "stderr",
       "text": [
        "4112 4113 "
       ]
      },
      {
       "output_type": "stream",
       "stream": "stderr",
       "text": [
        "4114 4115 "
       ]
      },
      {
       "output_type": "stream",
       "stream": "stderr",
       "text": [
        "4116 4117 "
       ]
      },
      {
       "output_type": "stream",
       "stream": "stderr",
       "text": [
        "4118 4119 "
       ]
      },
      {
       "output_type": "stream",
       "stream": "stderr",
       "text": [
        "4120 4121 "
       ]
      },
      {
       "output_type": "stream",
       "stream": "stderr",
       "text": [
        "4122 4123 "
       ]
      },
      {
       "output_type": "stream",
       "stream": "stderr",
       "text": [
        "4124 4125 "
       ]
      },
      {
       "output_type": "stream",
       "stream": "stderr",
       "text": [
        "4126 4127 "
       ]
      },
      {
       "output_type": "stream",
       "stream": "stderr",
       "text": [
        "4128 4129 "
       ]
      },
      {
       "output_type": "stream",
       "stream": "stderr",
       "text": [
        "4130 4131 "
       ]
      },
      {
       "output_type": "stream",
       "stream": "stderr",
       "text": [
        "4132 4133 "
       ]
      },
      {
       "output_type": "stream",
       "stream": "stderr",
       "text": [
        "4134 4135 "
       ]
      },
      {
       "output_type": "stream",
       "stream": "stderr",
       "text": [
        "4136 4137 "
       ]
      },
      {
       "output_type": "stream",
       "stream": "stderr",
       "text": [
        "4138 4139 "
       ]
      },
      {
       "output_type": "stream",
       "stream": "stderr",
       "text": [
        "4140 4141 "
       ]
      },
      {
       "output_type": "stream",
       "stream": "stderr",
       "text": [
        "4142 4143 "
       ]
      },
      {
       "output_type": "stream",
       "stream": "stderr",
       "text": [
        "4144 4145 "
       ]
      },
      {
       "output_type": "stream",
       "stream": "stderr",
       "text": [
        "4146 4147 "
       ]
      },
      {
       "output_type": "stream",
       "stream": "stderr",
       "text": [
        "4148 4149 "
       ]
      },
      {
       "output_type": "stream",
       "stream": "stderr",
       "text": [
        "4150 4151 "
       ]
      },
      {
       "output_type": "stream",
       "stream": "stderr",
       "text": [
        "4152 4153 "
       ]
      },
      {
       "output_type": "stream",
       "stream": "stderr",
       "text": [
        "4154 4155 "
       ]
      },
      {
       "output_type": "stream",
       "stream": "stderr",
       "text": [
        "4156 4157 "
       ]
      },
      {
       "output_type": "stream",
       "stream": "stderr",
       "text": [
        "4158 4159 "
       ]
      },
      {
       "output_type": "stream",
       "stream": "stderr",
       "text": [
        "4160 4161 "
       ]
      },
      {
       "output_type": "stream",
       "stream": "stderr",
       "text": [
        "4162 4163 "
       ]
      },
      {
       "output_type": "stream",
       "stream": "stderr",
       "text": [
        "4164 4165 "
       ]
      },
      {
       "output_type": "stream",
       "stream": "stderr",
       "text": [
        "4166 4167 "
       ]
      },
      {
       "output_type": "stream",
       "stream": "stderr",
       "text": [
        "4168 4169 "
       ]
      },
      {
       "output_type": "stream",
       "stream": "stderr",
       "text": [
        "4170 4171 "
       ]
      },
      {
       "output_type": "stream",
       "stream": "stderr",
       "text": [
        "4172 4173 "
       ]
      },
      {
       "output_type": "stream",
       "stream": "stderr",
       "text": [
        "4174 4175 "
       ]
      },
      {
       "output_type": "stream",
       "stream": "stderr",
       "text": [
        "4176 4177 "
       ]
      },
      {
       "output_type": "stream",
       "stream": "stderr",
       "text": [
        "4178 4179 "
       ]
      },
      {
       "output_type": "stream",
       "stream": "stderr",
       "text": [
        "4180 4181 "
       ]
      },
      {
       "output_type": "stream",
       "stream": "stderr",
       "text": [
        "4182 4183 "
       ]
      },
      {
       "output_type": "stream",
       "stream": "stderr",
       "text": [
        "4184 4185 "
       ]
      },
      {
       "output_type": "stream",
       "stream": "stderr",
       "text": [
        "4186 4187 "
       ]
      },
      {
       "output_type": "stream",
       "stream": "stderr",
       "text": [
        "4188 4189 "
       ]
      },
      {
       "output_type": "stream",
       "stream": "stderr",
       "text": [
        "4190 4191 "
       ]
      },
      {
       "output_type": "stream",
       "stream": "stderr",
       "text": [
        "4192 4193 "
       ]
      },
      {
       "output_type": "stream",
       "stream": "stderr",
       "text": [
        "4194 4195 "
       ]
      },
      {
       "output_type": "stream",
       "stream": "stderr",
       "text": [
        "4196 4197 "
       ]
      },
      {
       "output_type": "stream",
       "stream": "stderr",
       "text": [
        "4198 4199 "
       ]
      },
      {
       "output_type": "stream",
       "stream": "stderr",
       "text": [
        "4200 4201 "
       ]
      },
      {
       "output_type": "stream",
       "stream": "stderr",
       "text": [
        "4202 4203 "
       ]
      },
      {
       "output_type": "stream",
       "stream": "stderr",
       "text": [
        "4204 4205 "
       ]
      },
      {
       "output_type": "stream",
       "stream": "stderr",
       "text": [
        "4206 4207 "
       ]
      },
      {
       "output_type": "stream",
       "stream": "stderr",
       "text": [
        "4208 4209 "
       ]
      },
      {
       "output_type": "stream",
       "stream": "stderr",
       "text": [
        "4210 4211 "
       ]
      },
      {
       "output_type": "stream",
       "stream": "stderr",
       "text": [
        "4212 4213 "
       ]
      },
      {
       "output_type": "stream",
       "stream": "stderr",
       "text": [
        "4214 4215 "
       ]
      },
      {
       "output_type": "stream",
       "stream": "stderr",
       "text": [
        "4216 4217 "
       ]
      },
      {
       "output_type": "stream",
       "stream": "stderr",
       "text": [
        "4218 4219 "
       ]
      },
      {
       "output_type": "stream",
       "stream": "stderr",
       "text": [
        "4220 4221 "
       ]
      },
      {
       "output_type": "stream",
       "stream": "stderr",
       "text": [
        "4222 4223 "
       ]
      },
      {
       "output_type": "stream",
       "stream": "stderr",
       "text": [
        "4224 4225 "
       ]
      },
      {
       "output_type": "stream",
       "stream": "stderr",
       "text": [
        "4226 4227 "
       ]
      },
      {
       "output_type": "stream",
       "stream": "stderr",
       "text": [
        "4228 4229 "
       ]
      },
      {
       "output_type": "stream",
       "stream": "stderr",
       "text": [
        "4230 4231 "
       ]
      },
      {
       "output_type": "stream",
       "stream": "stderr",
       "text": [
        "4232 4233 "
       ]
      },
      {
       "output_type": "stream",
       "stream": "stderr",
       "text": [
        "4234 4235 "
       ]
      },
      {
       "output_type": "stream",
       "stream": "stderr",
       "text": [
        "4236 4237 "
       ]
      },
      {
       "output_type": "stream",
       "stream": "stderr",
       "text": [
        "4238 4239 "
       ]
      },
      {
       "output_type": "stream",
       "stream": "stderr",
       "text": [
        "4240 4241 "
       ]
      },
      {
       "output_type": "stream",
       "stream": "stderr",
       "text": [
        "4242 4243 "
       ]
      },
      {
       "output_type": "stream",
       "stream": "stderr",
       "text": [
        "4244 4245 "
       ]
      },
      {
       "output_type": "stream",
       "stream": "stderr",
       "text": [
        "4246 4247 "
       ]
      },
      {
       "output_type": "stream",
       "stream": "stderr",
       "text": [
        "4248 4249 "
       ]
      },
      {
       "output_type": "stream",
       "stream": "stderr",
       "text": [
        "4250 4251 "
       ]
      },
      {
       "output_type": "stream",
       "stream": "stderr",
       "text": [
        "4252 4253 "
       ]
      },
      {
       "output_type": "stream",
       "stream": "stderr",
       "text": [
        "4254 4255 "
       ]
      },
      {
       "output_type": "stream",
       "stream": "stderr",
       "text": [
        "4256 4257 "
       ]
      },
      {
       "output_type": "stream",
       "stream": "stderr",
       "text": [
        "4258 4259 "
       ]
      },
      {
       "output_type": "stream",
       "stream": "stderr",
       "text": [
        "4260 4261 "
       ]
      },
      {
       "output_type": "stream",
       "stream": "stderr",
       "text": [
        "4262 4263 "
       ]
      },
      {
       "output_type": "stream",
       "stream": "stderr",
       "text": [
        "4264 4265 "
       ]
      },
      {
       "output_type": "stream",
       "stream": "stderr",
       "text": [
        "4266 4267 "
       ]
      },
      {
       "output_type": "stream",
       "stream": "stderr",
       "text": [
        "4268 4269 "
       ]
      },
      {
       "output_type": "stream",
       "stream": "stderr",
       "text": [
        "4270 4271 "
       ]
      },
      {
       "output_type": "stream",
       "stream": "stderr",
       "text": [
        "4272 4273 "
       ]
      },
      {
       "output_type": "stream",
       "stream": "stderr",
       "text": [
        "4274 4275 "
       ]
      },
      {
       "output_type": "stream",
       "stream": "stderr",
       "text": [
        "4276 4277 "
       ]
      },
      {
       "output_type": "stream",
       "stream": "stderr",
       "text": [
        "4278 4279 "
       ]
      },
      {
       "output_type": "stream",
       "stream": "stderr",
       "text": [
        "4280 4281 "
       ]
      },
      {
       "output_type": "stream",
       "stream": "stderr",
       "text": [
        "4282 4283 "
       ]
      },
      {
       "output_type": "stream",
       "stream": "stderr",
       "text": [
        "4284 4285 "
       ]
      },
      {
       "output_type": "stream",
       "stream": "stderr",
       "text": [
        "4286 4287 "
       ]
      },
      {
       "output_type": "stream",
       "stream": "stderr",
       "text": [
        "4288 4289 "
       ]
      },
      {
       "output_type": "stream",
       "stream": "stderr",
       "text": [
        "4290 4291 "
       ]
      },
      {
       "output_type": "stream",
       "stream": "stderr",
       "text": [
        "4292 4293 "
       ]
      },
      {
       "output_type": "stream",
       "stream": "stderr",
       "text": [
        "4294 4295 "
       ]
      },
      {
       "output_type": "stream",
       "stream": "stderr",
       "text": [
        "4296 4297 "
       ]
      },
      {
       "output_type": "stream",
       "stream": "stderr",
       "text": [
        "4298 4299 "
       ]
      },
      {
       "output_type": "stream",
       "stream": "stderr",
       "text": [
        "4300 4301 "
       ]
      },
      {
       "output_type": "stream",
       "stream": "stderr",
       "text": [
        "4302 4303 "
       ]
      },
      {
       "output_type": "stream",
       "stream": "stderr",
       "text": [
        "4304 4305 "
       ]
      },
      {
       "output_type": "stream",
       "stream": "stderr",
       "text": [
        "4306 4307 "
       ]
      },
      {
       "output_type": "stream",
       "stream": "stderr",
       "text": [
        "4308 4309 "
       ]
      },
      {
       "output_type": "stream",
       "stream": "stderr",
       "text": [
        "4310 4311 "
       ]
      },
      {
       "output_type": "stream",
       "stream": "stderr",
       "text": [
        "4312 4313 "
       ]
      },
      {
       "output_type": "stream",
       "stream": "stderr",
       "text": [
        "4314 4315 "
       ]
      },
      {
       "output_type": "stream",
       "stream": "stderr",
       "text": [
        "4316 4317 "
       ]
      },
      {
       "output_type": "stream",
       "stream": "stderr",
       "text": [
        "4318 4319 "
       ]
      },
      {
       "output_type": "stream",
       "stream": "stderr",
       "text": [
        "4320 4321 "
       ]
      },
      {
       "output_type": "stream",
       "stream": "stderr",
       "text": [
        "4322 4323 "
       ]
      },
      {
       "output_type": "stream",
       "stream": "stderr",
       "text": [
        "4324 4325 "
       ]
      },
      {
       "output_type": "stream",
       "stream": "stderr",
       "text": [
        "4326 4327 "
       ]
      },
      {
       "output_type": "stream",
       "stream": "stderr",
       "text": [
        "4328 4329 "
       ]
      },
      {
       "output_type": "stream",
       "stream": "stderr",
       "text": [
        "4330 4331 "
       ]
      },
      {
       "output_type": "stream",
       "stream": "stderr",
       "text": [
        "4332 4333 "
       ]
      },
      {
       "output_type": "stream",
       "stream": "stderr",
       "text": [
        "4334 4335 "
       ]
      },
      {
       "output_type": "stream",
       "stream": "stderr",
       "text": [
        "4336 4337 "
       ]
      },
      {
       "output_type": "stream",
       "stream": "stderr",
       "text": [
        "4338 4339 "
       ]
      },
      {
       "output_type": "stream",
       "stream": "stderr",
       "text": [
        "4340 4341 "
       ]
      },
      {
       "output_type": "stream",
       "stream": "stderr",
       "text": [
        "4342 4343 "
       ]
      },
      {
       "output_type": "stream",
       "stream": "stderr",
       "text": [
        "4344 4345 "
       ]
      },
      {
       "output_type": "stream",
       "stream": "stderr",
       "text": [
        "4346 4347 "
       ]
      },
      {
       "output_type": "stream",
       "stream": "stderr",
       "text": [
        "4348 4349 "
       ]
      },
      {
       "output_type": "stream",
       "stream": "stderr",
       "text": [
        "4350 4351 "
       ]
      },
      {
       "output_type": "stream",
       "stream": "stderr",
       "text": [
        "4352 4353 "
       ]
      },
      {
       "output_type": "stream",
       "stream": "stderr",
       "text": [
        "4354 4355 "
       ]
      },
      {
       "output_type": "stream",
       "stream": "stderr",
       "text": [
        "4356 4357 "
       ]
      },
      {
       "output_type": "stream",
       "stream": "stderr",
       "text": [
        "4358 4359 "
       ]
      },
      {
       "output_type": "stream",
       "stream": "stderr",
       "text": [
        "4360 4361 "
       ]
      },
      {
       "output_type": "stream",
       "stream": "stderr",
       "text": [
        "4362 4363 "
       ]
      },
      {
       "output_type": "stream",
       "stream": "stderr",
       "text": [
        "4364 4365 "
       ]
      },
      {
       "output_type": "stream",
       "stream": "stderr",
       "text": [
        "4366 4367 "
       ]
      },
      {
       "output_type": "stream",
       "stream": "stderr",
       "text": [
        "4368 4369 "
       ]
      },
      {
       "output_type": "stream",
       "stream": "stderr",
       "text": [
        "4370 4371 "
       ]
      },
      {
       "output_type": "stream",
       "stream": "stderr",
       "text": [
        "4372 4373 "
       ]
      },
      {
       "output_type": "stream",
       "stream": "stderr",
       "text": [
        "4374 4375 "
       ]
      },
      {
       "output_type": "stream",
       "stream": "stderr",
       "text": [
        "4376 4377 "
       ]
      },
      {
       "output_type": "stream",
       "stream": "stderr",
       "text": [
        "4378 4379 "
       ]
      },
      {
       "output_type": "stream",
       "stream": "stderr",
       "text": [
        "4380 4381 "
       ]
      },
      {
       "output_type": "stream",
       "stream": "stderr",
       "text": [
        "4382 4383 "
       ]
      },
      {
       "output_type": "stream",
       "stream": "stderr",
       "text": [
        "4384 4385 "
       ]
      },
      {
       "output_type": "stream",
       "stream": "stderr",
       "text": [
        "4386 4387 "
       ]
      },
      {
       "output_type": "stream",
       "stream": "stderr",
       "text": [
        "4388 4389 "
       ]
      },
      {
       "output_type": "stream",
       "stream": "stderr",
       "text": [
        "4390 4391 "
       ]
      },
      {
       "output_type": "stream",
       "stream": "stderr",
       "text": [
        "4392 4393 "
       ]
      },
      {
       "output_type": "stream",
       "stream": "stderr",
       "text": [
        "4394 4395 "
       ]
      },
      {
       "output_type": "stream",
       "stream": "stderr",
       "text": [
        "4396 4397 "
       ]
      },
      {
       "output_type": "stream",
       "stream": "stderr",
       "text": [
        "4398 4399 "
       ]
      },
      {
       "output_type": "stream",
       "stream": "stderr",
       "text": [
        "4400 4401 "
       ]
      },
      {
       "output_type": "stream",
       "stream": "stderr",
       "text": [
        "4402 4403 "
       ]
      },
      {
       "output_type": "stream",
       "stream": "stderr",
       "text": [
        "4404 4405 "
       ]
      },
      {
       "output_type": "stream",
       "stream": "stderr",
       "text": [
        "4406 4407 "
       ]
      },
      {
       "output_type": "stream",
       "stream": "stderr",
       "text": [
        "4408 4409 "
       ]
      },
      {
       "output_type": "stream",
       "stream": "stderr",
       "text": [
        "4410 4411 "
       ]
      },
      {
       "output_type": "stream",
       "stream": "stderr",
       "text": [
        "4412 4413 "
       ]
      },
      {
       "output_type": "stream",
       "stream": "stderr",
       "text": [
        "4414 4415 4416 "
       ]
      },
      {
       "output_type": "stream",
       "stream": "stderr",
       "text": [
        "4417 4418 "
       ]
      },
      {
       "output_type": "stream",
       "stream": "stderr",
       "text": [
        "4419 4420 "
       ]
      },
      {
       "output_type": "stream",
       "stream": "stderr",
       "text": [
        "4421 4422 4423 "
       ]
      },
      {
       "output_type": "stream",
       "stream": "stderr",
       "text": [
        "4424 4425 "
       ]
      },
      {
       "output_type": "stream",
       "stream": "stderr",
       "text": [
        "4426 4427 "
       ]
      },
      {
       "output_type": "stream",
       "stream": "stderr",
       "text": [
        "4428 4429 "
       ]
      },
      {
       "output_type": "stream",
       "stream": "stderr",
       "text": [
        "4430 4431 "
       ]
      },
      {
       "output_type": "stream",
       "stream": "stderr",
       "text": [
        "4432 4433 "
       ]
      },
      {
       "output_type": "stream",
       "stream": "stderr",
       "text": [
        "4434 4435 "
       ]
      },
      {
       "output_type": "stream",
       "stream": "stderr",
       "text": [
        "4436 4437 "
       ]
      },
      {
       "output_type": "stream",
       "stream": "stderr",
       "text": [
        "4438 4439 "
       ]
      },
      {
       "output_type": "stream",
       "stream": "stderr",
       "text": [
        "4440 4441 "
       ]
      },
      {
       "output_type": "stream",
       "stream": "stderr",
       "text": [
        "4442 4443 "
       ]
      },
      {
       "output_type": "stream",
       "stream": "stderr",
       "text": [
        "4444 4445 "
       ]
      },
      {
       "output_type": "stream",
       "stream": "stderr",
       "text": [
        "4446 4447 "
       ]
      },
      {
       "output_type": "stream",
       "stream": "stderr",
       "text": [
        "4448 4449 "
       ]
      },
      {
       "output_type": "stream",
       "stream": "stderr",
       "text": [
        "4450 4451 "
       ]
      },
      {
       "output_type": "stream",
       "stream": "stderr",
       "text": [
        "4452 4453 "
       ]
      },
      {
       "output_type": "stream",
       "stream": "stderr",
       "text": [
        "4454 4455 "
       ]
      },
      {
       "output_type": "stream",
       "stream": "stderr",
       "text": [
        "4456 4457 "
       ]
      },
      {
       "output_type": "stream",
       "stream": "stderr",
       "text": [
        "4458 4459 "
       ]
      },
      {
       "output_type": "stream",
       "stream": "stderr",
       "text": [
        "4460 4461 "
       ]
      },
      {
       "output_type": "stream",
       "stream": "stderr",
       "text": [
        "4462 4463 "
       ]
      },
      {
       "output_type": "stream",
       "stream": "stderr",
       "text": [
        "4464 4465 "
       ]
      },
      {
       "output_type": "stream",
       "stream": "stderr",
       "text": [
        "4466 4467 "
       ]
      },
      {
       "output_type": "stream",
       "stream": "stderr",
       "text": [
        "4468 4469 "
       ]
      },
      {
       "output_type": "stream",
       "stream": "stderr",
       "text": [
        "4470 4471 "
       ]
      },
      {
       "output_type": "stream",
       "stream": "stderr",
       "text": [
        "4472 4473 "
       ]
      },
      {
       "output_type": "stream",
       "stream": "stderr",
       "text": [
        "4474 4475 "
       ]
      },
      {
       "output_type": "stream",
       "stream": "stderr",
       "text": [
        "4476 4477 "
       ]
      },
      {
       "output_type": "stream",
       "stream": "stderr",
       "text": [
        "4478 4479 4480 "
       ]
      },
      {
       "output_type": "stream",
       "stream": "stderr",
       "text": [
        "4481 4482 "
       ]
      },
      {
       "output_type": "stream",
       "stream": "stderr",
       "text": [
        "4483 4484 "
       ]
      },
      {
       "output_type": "stream",
       "stream": "stderr",
       "text": [
        "4485 4486 "
       ]
      },
      {
       "output_type": "stream",
       "stream": "stderr",
       "text": [
        "4487 4488 "
       ]
      },
      {
       "output_type": "stream",
       "stream": "stderr",
       "text": [
        "4489 4490 "
       ]
      },
      {
       "output_type": "stream",
       "stream": "stderr",
       "text": [
        "4491 4492 "
       ]
      },
      {
       "output_type": "stream",
       "stream": "stderr",
       "text": [
        "4493 4494 "
       ]
      },
      {
       "output_type": "stream",
       "stream": "stderr",
       "text": [
        "4495 4496 "
       ]
      },
      {
       "output_type": "stream",
       "stream": "stderr",
       "text": [
        "4497 4498 "
       ]
      },
      {
       "output_type": "stream",
       "stream": "stderr",
       "text": [
        "4499 4500 "
       ]
      },
      {
       "output_type": "stream",
       "stream": "stderr",
       "text": [
        "4501 4502 "
       ]
      },
      {
       "output_type": "stream",
       "stream": "stderr",
       "text": [
        "4503 4504 "
       ]
      },
      {
       "output_type": "stream",
       "stream": "stderr",
       "text": [
        "4505 4506 "
       ]
      },
      {
       "output_type": "stream",
       "stream": "stderr",
       "text": [
        "4507 4508 "
       ]
      },
      {
       "output_type": "stream",
       "stream": "stderr",
       "text": [
        "4509 4510 "
       ]
      },
      {
       "output_type": "stream",
       "stream": "stderr",
       "text": [
        "4511 4512 "
       ]
      },
      {
       "output_type": "stream",
       "stream": "stderr",
       "text": [
        "4513 4514 "
       ]
      },
      {
       "output_type": "stream",
       "stream": "stderr",
       "text": [
        "4515 4516 "
       ]
      },
      {
       "output_type": "stream",
       "stream": "stderr",
       "text": [
        "4517 4518 "
       ]
      },
      {
       "output_type": "stream",
       "stream": "stderr",
       "text": [
        "4519 4520 "
       ]
      },
      {
       "output_type": "stream",
       "stream": "stderr",
       "text": [
        "4521 4522 "
       ]
      },
      {
       "output_type": "stream",
       "stream": "stderr",
       "text": [
        "4523 4524 "
       ]
      },
      {
       "output_type": "stream",
       "stream": "stderr",
       "text": [
        "4525 4526 "
       ]
      },
      {
       "output_type": "stream",
       "stream": "stderr",
       "text": [
        "4527 4528 "
       ]
      },
      {
       "output_type": "stream",
       "stream": "stderr",
       "text": [
        "4529 4530 "
       ]
      },
      {
       "output_type": "stream",
       "stream": "stderr",
       "text": [
        "4531 4532 "
       ]
      },
      {
       "output_type": "stream",
       "stream": "stderr",
       "text": [
        "4533 4534 "
       ]
      },
      {
       "output_type": "stream",
       "stream": "stderr",
       "text": [
        "4535 4536 "
       ]
      },
      {
       "output_type": "stream",
       "stream": "stderr",
       "text": [
        "4537 4538 "
       ]
      },
      {
       "output_type": "stream",
       "stream": "stderr",
       "text": [
        "4539 4540 "
       ]
      },
      {
       "output_type": "stream",
       "stream": "stderr",
       "text": [
        "4541 4542 "
       ]
      },
      {
       "output_type": "stream",
       "stream": "stderr",
       "text": [
        "4543 4544 "
       ]
      },
      {
       "output_type": "stream",
       "stream": "stderr",
       "text": [
        "4545 4546 "
       ]
      },
      {
       "output_type": "stream",
       "stream": "stderr",
       "text": [
        "4547 4548 "
       ]
      },
      {
       "output_type": "stream",
       "stream": "stderr",
       "text": [
        "4549 4550 "
       ]
      },
      {
       "output_type": "stream",
       "stream": "stderr",
       "text": [
        "4551 4552 "
       ]
      },
      {
       "output_type": "stream",
       "stream": "stderr",
       "text": [
        "4553 4554 "
       ]
      },
      {
       "output_type": "stream",
       "stream": "stderr",
       "text": [
        "4555 4556 "
       ]
      },
      {
       "output_type": "stream",
       "stream": "stderr",
       "text": [
        "4557 4558 "
       ]
      },
      {
       "output_type": "stream",
       "stream": "stderr",
       "text": [
        "4559 4560 "
       ]
      },
      {
       "output_type": "stream",
       "stream": "stderr",
       "text": [
        "4561 4562 "
       ]
      },
      {
       "output_type": "stream",
       "stream": "stderr",
       "text": [
        "4563 4564 "
       ]
      },
      {
       "output_type": "stream",
       "stream": "stderr",
       "text": [
        "4565 4566 "
       ]
      },
      {
       "output_type": "stream",
       "stream": "stderr",
       "text": [
        "4567 4568 "
       ]
      },
      {
       "output_type": "stream",
       "stream": "stderr",
       "text": [
        "4569 4570 "
       ]
      },
      {
       "output_type": "stream",
       "stream": "stderr",
       "text": [
        "4571 4572 "
       ]
      },
      {
       "output_type": "stream",
       "stream": "stderr",
       "text": [
        "4573 4574 "
       ]
      },
      {
       "output_type": "stream",
       "stream": "stderr",
       "text": [
        "4575 4576 "
       ]
      },
      {
       "output_type": "stream",
       "stream": "stderr",
       "text": [
        "4577 4578 "
       ]
      },
      {
       "output_type": "stream",
       "stream": "stderr",
       "text": [
        "4579 4580 "
       ]
      },
      {
       "output_type": "stream",
       "stream": "stderr",
       "text": [
        "4581 4582 "
       ]
      },
      {
       "output_type": "stream",
       "stream": "stderr",
       "text": [
        "4583 4584 "
       ]
      },
      {
       "output_type": "stream",
       "stream": "stderr",
       "text": [
        "4585 4586 "
       ]
      },
      {
       "output_type": "stream",
       "stream": "stderr",
       "text": [
        "4587 4588 "
       ]
      },
      {
       "output_type": "stream",
       "stream": "stderr",
       "text": [
        "4589 4590 "
       ]
      },
      {
       "output_type": "stream",
       "stream": "stderr",
       "text": [
        "4591 4592 "
       ]
      },
      {
       "output_type": "stream",
       "stream": "stderr",
       "text": [
        "4593 4594 "
       ]
      },
      {
       "output_type": "stream",
       "stream": "stderr",
       "text": [
        "4595 4596 "
       ]
      },
      {
       "output_type": "stream",
       "stream": "stderr",
       "text": [
        "4597 4598 "
       ]
      },
      {
       "output_type": "stream",
       "stream": "stderr",
       "text": [
        "4599 4600 "
       ]
      },
      {
       "output_type": "stream",
       "stream": "stderr",
       "text": [
        "4601 4602 "
       ]
      },
      {
       "output_type": "stream",
       "stream": "stderr",
       "text": [
        "4603 4604 "
       ]
      },
      {
       "output_type": "stream",
       "stream": "stderr",
       "text": [
        "4605 4606 "
       ]
      },
      {
       "output_type": "stream",
       "stream": "stderr",
       "text": [
        "4607 4608 "
       ]
      },
      {
       "output_type": "stream",
       "stream": "stderr",
       "text": [
        "4609 4610 "
       ]
      },
      {
       "output_type": "stream",
       "stream": "stderr",
       "text": [
        "4611 4612 "
       ]
      },
      {
       "output_type": "stream",
       "stream": "stderr",
       "text": [
        "4613 4614 "
       ]
      },
      {
       "output_type": "stream",
       "stream": "stderr",
       "text": [
        "4615 4616 "
       ]
      },
      {
       "output_type": "stream",
       "stream": "stderr",
       "text": [
        "4617 4618 "
       ]
      },
      {
       "output_type": "stream",
       "stream": "stderr",
       "text": [
        "4619 4620 "
       ]
      },
      {
       "output_type": "stream",
       "stream": "stderr",
       "text": [
        "4621 4622 "
       ]
      },
      {
       "output_type": "stream",
       "stream": "stderr",
       "text": [
        "4623 4624 "
       ]
      },
      {
       "output_type": "stream",
       "stream": "stderr",
       "text": [
        "4625 4626 "
       ]
      },
      {
       "output_type": "stream",
       "stream": "stderr",
       "text": [
        "4627 4628 "
       ]
      },
      {
       "output_type": "stream",
       "stream": "stderr",
       "text": [
        "4629 4630 "
       ]
      },
      {
       "output_type": "stream",
       "stream": "stderr",
       "text": [
        "4631 4632 "
       ]
      },
      {
       "output_type": "stream",
       "stream": "stderr",
       "text": [
        "4633 4634 "
       ]
      },
      {
       "output_type": "stream",
       "stream": "stderr",
       "text": [
        "4635 4636 "
       ]
      },
      {
       "output_type": "stream",
       "stream": "stderr",
       "text": [
        "4637 4638 "
       ]
      },
      {
       "output_type": "stream",
       "stream": "stderr",
       "text": [
        "4639 4640 "
       ]
      },
      {
       "output_type": "stream",
       "stream": "stderr",
       "text": [
        "4641 4642 "
       ]
      },
      {
       "output_type": "stream",
       "stream": "stderr",
       "text": [
        "4643 4644 "
       ]
      },
      {
       "output_type": "stream",
       "stream": "stderr",
       "text": [
        "4645 4646 "
       ]
      },
      {
       "output_type": "stream",
       "stream": "stderr",
       "text": [
        "4647 4648 "
       ]
      },
      {
       "output_type": "stream",
       "stream": "stderr",
       "text": [
        "4649 4650 "
       ]
      },
      {
       "output_type": "stream",
       "stream": "stderr",
       "text": [
        "4651 4652 "
       ]
      },
      {
       "output_type": "stream",
       "stream": "stderr",
       "text": [
        "4653 4654 "
       ]
      },
      {
       "output_type": "stream",
       "stream": "stderr",
       "text": [
        "4655 4656 "
       ]
      },
      {
       "output_type": "stream",
       "stream": "stderr",
       "text": [
        "4657 4658 "
       ]
      },
      {
       "output_type": "stream",
       "stream": "stderr",
       "text": [
        "4659 4660 "
       ]
      },
      {
       "output_type": "stream",
       "stream": "stderr",
       "text": [
        "4661 4662 "
       ]
      },
      {
       "output_type": "stream",
       "stream": "stderr",
       "text": [
        "4663 4664 "
       ]
      },
      {
       "output_type": "stream",
       "stream": "stderr",
       "text": [
        "4665 4666 "
       ]
      },
      {
       "output_type": "stream",
       "stream": "stderr",
       "text": [
        "4667 4668 "
       ]
      },
      {
       "output_type": "stream",
       "stream": "stderr",
       "text": [
        "4669 4670 "
       ]
      },
      {
       "output_type": "stream",
       "stream": "stderr",
       "text": [
        "4671 4672 "
       ]
      },
      {
       "output_type": "stream",
       "stream": "stderr",
       "text": [
        "4673 4674 "
       ]
      },
      {
       "output_type": "stream",
       "stream": "stderr",
       "text": [
        "4675 4676 "
       ]
      },
      {
       "output_type": "stream",
       "stream": "stderr",
       "text": [
        "4677 4678 "
       ]
      },
      {
       "output_type": "stream",
       "stream": "stderr",
       "text": [
        "4679 4680 "
       ]
      },
      {
       "output_type": "stream",
       "stream": "stderr",
       "text": [
        "4681 4682 "
       ]
      },
      {
       "output_type": "stream",
       "stream": "stderr",
       "text": [
        "4683 4684 "
       ]
      },
      {
       "output_type": "stream",
       "stream": "stderr",
       "text": [
        "4685 4686 "
       ]
      },
      {
       "output_type": "stream",
       "stream": "stderr",
       "text": [
        "4687 4688 "
       ]
      },
      {
       "output_type": "stream",
       "stream": "stderr",
       "text": [
        "4689 4690 "
       ]
      },
      {
       "output_type": "stream",
       "stream": "stderr",
       "text": [
        "4691 4692 "
       ]
      },
      {
       "output_type": "stream",
       "stream": "stderr",
       "text": [
        "4693 4694 "
       ]
      },
      {
       "output_type": "stream",
       "stream": "stderr",
       "text": [
        "4695 4696 "
       ]
      },
      {
       "output_type": "stream",
       "stream": "stderr",
       "text": [
        "4697 4698 "
       ]
      },
      {
       "output_type": "stream",
       "stream": "stderr",
       "text": [
        "4699 4700 "
       ]
      },
      {
       "output_type": "stream",
       "stream": "stderr",
       "text": [
        "4701 4702 "
       ]
      },
      {
       "output_type": "stream",
       "stream": "stderr",
       "text": [
        "4703 4704 "
       ]
      },
      {
       "output_type": "stream",
       "stream": "stderr",
       "text": [
        "4705 4706 "
       ]
      },
      {
       "output_type": "stream",
       "stream": "stderr",
       "text": [
        "4707 4708 "
       ]
      },
      {
       "output_type": "stream",
       "stream": "stderr",
       "text": [
        "4709 4710 "
       ]
      },
      {
       "output_type": "stream",
       "stream": "stderr",
       "text": [
        "4711 4712 "
       ]
      },
      {
       "output_type": "stream",
       "stream": "stderr",
       "text": [
        "4713 4714 "
       ]
      },
      {
       "output_type": "stream",
       "stream": "stderr",
       "text": [
        "4715 4716 "
       ]
      },
      {
       "output_type": "stream",
       "stream": "stderr",
       "text": [
        "4717 4718 "
       ]
      },
      {
       "output_type": "stream",
       "stream": "stderr",
       "text": [
        "4719 4720 "
       ]
      },
      {
       "output_type": "stream",
       "stream": "stderr",
       "text": [
        "4721 4722 "
       ]
      },
      {
       "output_type": "stream",
       "stream": "stderr",
       "text": [
        "4723 4724 "
       ]
      },
      {
       "output_type": "stream",
       "stream": "stderr",
       "text": [
        "4725 4726 "
       ]
      },
      {
       "output_type": "stream",
       "stream": "stderr",
       "text": [
        "4727 4728 "
       ]
      },
      {
       "output_type": "stream",
       "stream": "stderr",
       "text": [
        "4729 4730 "
       ]
      },
      {
       "output_type": "stream",
       "stream": "stderr",
       "text": [
        "4731 4732 "
       ]
      },
      {
       "output_type": "stream",
       "stream": "stderr",
       "text": [
        "4733 4734 "
       ]
      },
      {
       "output_type": "stream",
       "stream": "stderr",
       "text": [
        "4735 4736 "
       ]
      },
      {
       "output_type": "stream",
       "stream": "stderr",
       "text": [
        "4737 4738 "
       ]
      },
      {
       "output_type": "stream",
       "stream": "stderr",
       "text": [
        "4739 4740 "
       ]
      },
      {
       "output_type": "stream",
       "stream": "stderr",
       "text": [
        "4741 4742 "
       ]
      },
      {
       "output_type": "stream",
       "stream": "stderr",
       "text": [
        "4743 4744 "
       ]
      },
      {
       "output_type": "stream",
       "stream": "stderr",
       "text": [
        "4745 4746 "
       ]
      },
      {
       "output_type": "stream",
       "stream": "stderr",
       "text": [
        "4747 4748 "
       ]
      },
      {
       "output_type": "stream",
       "stream": "stderr",
       "text": [
        "4749 4750 "
       ]
      },
      {
       "output_type": "stream",
       "stream": "stderr",
       "text": [
        "4751 4752 "
       ]
      },
      {
       "output_type": "stream",
       "stream": "stderr",
       "text": [
        "4753 4754 "
       ]
      },
      {
       "output_type": "stream",
       "stream": "stderr",
       "text": [
        "4755 4756 "
       ]
      },
      {
       "output_type": "stream",
       "stream": "stderr",
       "text": [
        "4757 4758 "
       ]
      },
      {
       "output_type": "stream",
       "stream": "stderr",
       "text": [
        "4759 4760 "
       ]
      },
      {
       "output_type": "stream",
       "stream": "stderr",
       "text": [
        "4761 4762 "
       ]
      },
      {
       "output_type": "stream",
       "stream": "stderr",
       "text": [
        "4763 4764 "
       ]
      },
      {
       "output_type": "stream",
       "stream": "stderr",
       "text": [
        "4765 4766 "
       ]
      },
      {
       "output_type": "stream",
       "stream": "stderr",
       "text": [
        "4767 4768 "
       ]
      },
      {
       "output_type": "stream",
       "stream": "stderr",
       "text": [
        "4769 4770 4771 "
       ]
      },
      {
       "output_type": "stream",
       "stream": "stderr",
       "text": [
        "4772 4773 "
       ]
      },
      {
       "output_type": "stream",
       "stream": "stderr",
       "text": [
        "4774 4775 "
       ]
      },
      {
       "output_type": "stream",
       "stream": "stderr",
       "text": [
        "4776 4777 "
       ]
      },
      {
       "output_type": "stream",
       "stream": "stderr",
       "text": [
        "4778 4779 "
       ]
      },
      {
       "output_type": "stream",
       "stream": "stderr",
       "text": [
        "4780 4781 "
       ]
      },
      {
       "output_type": "stream",
       "stream": "stderr",
       "text": [
        "4782 4783 "
       ]
      },
      {
       "output_type": "stream",
       "stream": "stderr",
       "text": [
        "4784 4785 4786 "
       ]
      },
      {
       "output_type": "stream",
       "stream": "stderr",
       "text": [
        "4787 4788 "
       ]
      },
      {
       "output_type": "stream",
       "stream": "stderr",
       "text": [
        "4789 4790 "
       ]
      },
      {
       "output_type": "stream",
       "stream": "stderr",
       "text": [
        "4791 4792 "
       ]
      },
      {
       "output_type": "stream",
       "stream": "stderr",
       "text": [
        "4793 4794 "
       ]
      },
      {
       "output_type": "stream",
       "stream": "stderr",
       "text": [
        "4795 4796 "
       ]
      },
      {
       "output_type": "stream",
       "stream": "stderr",
       "text": [
        "4797 4798 "
       ]
      },
      {
       "output_type": "stream",
       "stream": "stderr",
       "text": [
        "4799 4800 "
       ]
      },
      {
       "output_type": "stream",
       "stream": "stderr",
       "text": [
        "4801 4802 "
       ]
      },
      {
       "output_type": "stream",
       "stream": "stderr",
       "text": [
        "4803 4804 "
       ]
      },
      {
       "output_type": "stream",
       "stream": "stderr",
       "text": [
        "4805 4806 "
       ]
      },
      {
       "output_type": "stream",
       "stream": "stderr",
       "text": [
        "4807 4808 "
       ]
      },
      {
       "output_type": "stream",
       "stream": "stderr",
       "text": [
        "4809 4810 "
       ]
      },
      {
       "output_type": "stream",
       "stream": "stderr",
       "text": [
        "4811 4812 "
       ]
      },
      {
       "output_type": "stream",
       "stream": "stderr",
       "text": [
        "4813 4814 "
       ]
      },
      {
       "output_type": "stream",
       "stream": "stderr",
       "text": [
        "4815 4816 "
       ]
      },
      {
       "output_type": "stream",
       "stream": "stderr",
       "text": [
        "4817 4818 "
       ]
      },
      {
       "output_type": "stream",
       "stream": "stderr",
       "text": [
        "4819 4820 "
       ]
      },
      {
       "output_type": "stream",
       "stream": "stderr",
       "text": [
        "4821 4822 "
       ]
      },
      {
       "output_type": "stream",
       "stream": "stderr",
       "text": [
        "4823 4824 "
       ]
      },
      {
       "output_type": "stream",
       "stream": "stderr",
       "text": [
        "4825 4826 "
       ]
      },
      {
       "output_type": "stream",
       "stream": "stderr",
       "text": [
        "4827 4828 "
       ]
      },
      {
       "output_type": "stream",
       "stream": "stderr",
       "text": [
        "4829 4830 "
       ]
      },
      {
       "output_type": "stream",
       "stream": "stderr",
       "text": [
        "4831 4832 "
       ]
      },
      {
       "output_type": "stream",
       "stream": "stderr",
       "text": [
        "4833 4834 "
       ]
      },
      {
       "output_type": "stream",
       "stream": "stderr",
       "text": [
        "4835 4836 "
       ]
      },
      {
       "output_type": "stream",
       "stream": "stderr",
       "text": [
        "4837 4838 "
       ]
      },
      {
       "output_type": "stream",
       "stream": "stderr",
       "text": [
        "4839 4840 "
       ]
      },
      {
       "output_type": "stream",
       "stream": "stderr",
       "text": [
        "4841 4842 "
       ]
      },
      {
       "output_type": "stream",
       "stream": "stderr",
       "text": [
        "4843 4844 "
       ]
      },
      {
       "output_type": "stream",
       "stream": "stderr",
       "text": [
        "4845 4846 "
       ]
      },
      {
       "output_type": "stream",
       "stream": "stderr",
       "text": [
        "4847 4848 "
       ]
      },
      {
       "output_type": "stream",
       "stream": "stderr",
       "text": [
        "4849 4850 "
       ]
      },
      {
       "output_type": "stream",
       "stream": "stderr",
       "text": [
        "4851 4852 "
       ]
      },
      {
       "output_type": "stream",
       "stream": "stderr",
       "text": [
        "4853 4854 "
       ]
      },
      {
       "output_type": "stream",
       "stream": "stderr",
       "text": [
        "4855 4856 "
       ]
      },
      {
       "output_type": "stream",
       "stream": "stderr",
       "text": [
        "4857 4858 "
       ]
      },
      {
       "output_type": "stream",
       "stream": "stderr",
       "text": [
        "4859 4860 "
       ]
      },
      {
       "output_type": "stream",
       "stream": "stderr",
       "text": [
        "4861 4862 "
       ]
      },
      {
       "output_type": "stream",
       "stream": "stderr",
       "text": [
        "4863 4864 "
       ]
      },
      {
       "output_type": "stream",
       "stream": "stderr",
       "text": [
        "4865 4866 "
       ]
      },
      {
       "output_type": "stream",
       "stream": "stderr",
       "text": [
        "4867 4868 "
       ]
      },
      {
       "output_type": "stream",
       "stream": "stderr",
       "text": [
        "4869 4870 "
       ]
      },
      {
       "output_type": "stream",
       "stream": "stderr",
       "text": [
        "4871 4872 "
       ]
      },
      {
       "output_type": "stream",
       "stream": "stderr",
       "text": [
        "4873 4874 "
       ]
      },
      {
       "output_type": "stream",
       "stream": "stderr",
       "text": [
        "4875 4876 "
       ]
      },
      {
       "output_type": "stream",
       "stream": "stderr",
       "text": [
        "4877 4878 "
       ]
      },
      {
       "output_type": "stream",
       "stream": "stderr",
       "text": [
        "4879 4880 "
       ]
      },
      {
       "output_type": "stream",
       "stream": "stderr",
       "text": [
        "4881 4882 "
       ]
      },
      {
       "output_type": "stream",
       "stream": "stderr",
       "text": [
        "4883 4884 "
       ]
      },
      {
       "output_type": "stream",
       "stream": "stderr",
       "text": [
        "4885 4886 "
       ]
      },
      {
       "output_type": "stream",
       "stream": "stderr",
       "text": [
        "4887 4888 "
       ]
      },
      {
       "output_type": "stream",
       "stream": "stderr",
       "text": [
        "4889 4890 "
       ]
      },
      {
       "output_type": "stream",
       "stream": "stderr",
       "text": [
        "4891 4892 "
       ]
      },
      {
       "output_type": "stream",
       "stream": "stderr",
       "text": [
        "4893 4894 "
       ]
      },
      {
       "output_type": "stream",
       "stream": "stderr",
       "text": [
        "4895 4896 "
       ]
      },
      {
       "output_type": "stream",
       "stream": "stderr",
       "text": [
        "4897 4898 "
       ]
      },
      {
       "output_type": "stream",
       "stream": "stderr",
       "text": [
        "4899 4900 "
       ]
      },
      {
       "output_type": "stream",
       "stream": "stderr",
       "text": [
        "4901 4902 "
       ]
      },
      {
       "output_type": "stream",
       "stream": "stderr",
       "text": [
        "4903 4904 "
       ]
      },
      {
       "output_type": "stream",
       "stream": "stderr",
       "text": [
        "4905 4906 "
       ]
      },
      {
       "output_type": "stream",
       "stream": "stderr",
       "text": [
        "4907 4908 "
       ]
      },
      {
       "output_type": "stream",
       "stream": "stderr",
       "text": [
        "4909 4910 "
       ]
      },
      {
       "output_type": "stream",
       "stream": "stderr",
       "text": [
        "4911 4912 "
       ]
      },
      {
       "output_type": "stream",
       "stream": "stderr",
       "text": [
        "4913 4914 "
       ]
      },
      {
       "output_type": "stream",
       "stream": "stderr",
       "text": [
        "4915 4916 "
       ]
      },
      {
       "output_type": "stream",
       "stream": "stderr",
       "text": [
        "4917 4918 "
       ]
      },
      {
       "output_type": "stream",
       "stream": "stderr",
       "text": [
        "4919 4920 "
       ]
      },
      {
       "output_type": "stream",
       "stream": "stderr",
       "text": [
        "4921 4922 "
       ]
      },
      {
       "output_type": "stream",
       "stream": "stderr",
       "text": [
        "4923 4924 "
       ]
      },
      {
       "output_type": "stream",
       "stream": "stderr",
       "text": [
        "4925 4926 "
       ]
      },
      {
       "output_type": "stream",
       "stream": "stderr",
       "text": [
        "4927 4928 "
       ]
      },
      {
       "output_type": "stream",
       "stream": "stderr",
       "text": [
        "4929 4930 "
       ]
      },
      {
       "output_type": "stream",
       "stream": "stderr",
       "text": [
        "4931 4932 "
       ]
      },
      {
       "output_type": "stream",
       "stream": "stderr",
       "text": [
        "4933 4934 "
       ]
      },
      {
       "output_type": "stream",
       "stream": "stderr",
       "text": [
        "4935 4936 "
       ]
      },
      {
       "output_type": "stream",
       "stream": "stderr",
       "text": [
        "4937 4938 "
       ]
      },
      {
       "output_type": "stream",
       "stream": "stderr",
       "text": [
        "4939 4940 "
       ]
      },
      {
       "output_type": "stream",
       "stream": "stderr",
       "text": [
        "4941 4942 "
       ]
      },
      {
       "output_type": "stream",
       "stream": "stderr",
       "text": [
        "4943 4944 "
       ]
      },
      {
       "output_type": "stream",
       "stream": "stderr",
       "text": [
        "4945 4946 "
       ]
      },
      {
       "output_type": "stream",
       "stream": "stderr",
       "text": [
        "4947 4948 "
       ]
      },
      {
       "output_type": "stream",
       "stream": "stderr",
       "text": [
        "4949 4950 "
       ]
      },
      {
       "output_type": "stream",
       "stream": "stderr",
       "text": [
        "4951 4952 "
       ]
      },
      {
       "output_type": "stream",
       "stream": "stderr",
       "text": [
        "4953 4954 "
       ]
      },
      {
       "output_type": "stream",
       "stream": "stderr",
       "text": [
        "4955 4956 "
       ]
      },
      {
       "output_type": "stream",
       "stream": "stderr",
       "text": [
        "4957 4958 "
       ]
      },
      {
       "output_type": "stream",
       "stream": "stderr",
       "text": [
        "4959 4960 "
       ]
      },
      {
       "output_type": "stream",
       "stream": "stderr",
       "text": [
        "4961 4962 "
       ]
      },
      {
       "output_type": "stream",
       "stream": "stderr",
       "text": [
        "4963 4964 "
       ]
      },
      {
       "output_type": "stream",
       "stream": "stderr",
       "text": [
        "4965 4966 "
       ]
      },
      {
       "output_type": "stream",
       "stream": "stderr",
       "text": [
        "4967 4968 "
       ]
      },
      {
       "output_type": "stream",
       "stream": "stderr",
       "text": [
        "4969 4970 "
       ]
      },
      {
       "output_type": "stream",
       "stream": "stderr",
       "text": [
        "4971 4972 "
       ]
      },
      {
       "output_type": "stream",
       "stream": "stderr",
       "text": [
        "4973 4974 "
       ]
      },
      {
       "output_type": "stream",
       "stream": "stderr",
       "text": [
        "4975 4976 "
       ]
      },
      {
       "output_type": "stream",
       "stream": "stderr",
       "text": [
        "4977 4978 "
       ]
      },
      {
       "output_type": "stream",
       "stream": "stderr",
       "text": [
        "4979 4980 "
       ]
      },
      {
       "output_type": "stream",
       "stream": "stderr",
       "text": [
        "4981 4982 "
       ]
      },
      {
       "output_type": "stream",
       "stream": "stderr",
       "text": [
        "4983 4984 "
       ]
      },
      {
       "output_type": "stream",
       "stream": "stderr",
       "text": [
        "4985 4986 "
       ]
      },
      {
       "output_type": "stream",
       "stream": "stderr",
       "text": [
        "4987 4988 "
       ]
      },
      {
       "output_type": "stream",
       "stream": "stderr",
       "text": [
        "4989 4990 "
       ]
      },
      {
       "output_type": "stream",
       "stream": "stderr",
       "text": [
        "4991 4992 "
       ]
      },
      {
       "output_type": "stream",
       "stream": "stderr",
       "text": [
        "4993 4994 "
       ]
      },
      {
       "output_type": "stream",
       "stream": "stderr",
       "text": [
        "4995 4996 "
       ]
      },
      {
       "output_type": "stream",
       "stream": "stderr",
       "text": [
        "4997 4998 "
       ]
      },
      {
       "output_type": "stream",
       "stream": "stderr",
       "text": [
        "4999 5000 "
       ]
      },
      {
       "output_type": "stream",
       "stream": "stderr",
       "text": [
        "5001 5002 "
       ]
      },
      {
       "output_type": "stream",
       "stream": "stderr",
       "text": [
        "5003 5004 "
       ]
      },
      {
       "output_type": "stream",
       "stream": "stderr",
       "text": [
        "5005 5006 "
       ]
      },
      {
       "output_type": "stream",
       "stream": "stderr",
       "text": [
        "5007 5008 "
       ]
      },
      {
       "output_type": "stream",
       "stream": "stderr",
       "text": [
        "5009 5010 "
       ]
      },
      {
       "output_type": "stream",
       "stream": "stderr",
       "text": [
        "5011 5012 "
       ]
      },
      {
       "output_type": "stream",
       "stream": "stderr",
       "text": [
        "5013 5014 "
       ]
      },
      {
       "output_type": "stream",
       "stream": "stderr",
       "text": [
        "5015 5016 "
       ]
      },
      {
       "output_type": "stream",
       "stream": "stderr",
       "text": [
        "5017 5018 "
       ]
      },
      {
       "output_type": "stream",
       "stream": "stderr",
       "text": [
        "5019 5020 "
       ]
      },
      {
       "output_type": "stream",
       "stream": "stderr",
       "text": [
        "5021 5022 "
       ]
      },
      {
       "output_type": "stream",
       "stream": "stderr",
       "text": [
        "5023 5024 "
       ]
      },
      {
       "output_type": "stream",
       "stream": "stderr",
       "text": [
        "5025 5026 "
       ]
      },
      {
       "output_type": "stream",
       "stream": "stderr",
       "text": [
        "5027 5028 "
       ]
      },
      {
       "output_type": "stream",
       "stream": "stderr",
       "text": [
        "5029 5030 "
       ]
      },
      {
       "output_type": "stream",
       "stream": "stderr",
       "text": [
        "5031 5032 "
       ]
      },
      {
       "output_type": "stream",
       "stream": "stderr",
       "text": [
        "5033 5034 "
       ]
      },
      {
       "output_type": "stream",
       "stream": "stderr",
       "text": [
        "5035 5036 "
       ]
      },
      {
       "output_type": "stream",
       "stream": "stderr",
       "text": [
        "5037 5038 "
       ]
      },
      {
       "output_type": "stream",
       "stream": "stderr",
       "text": [
        "5039 5040 "
       ]
      },
      {
       "output_type": "stream",
       "stream": "stderr",
       "text": [
        "5041 5042 "
       ]
      },
      {
       "output_type": "stream",
       "stream": "stderr",
       "text": [
        "5043 5044 "
       ]
      },
      {
       "output_type": "stream",
       "stream": "stderr",
       "text": [
        "5045 5046 "
       ]
      },
      {
       "output_type": "stream",
       "stream": "stderr",
       "text": [
        "5047 5048 "
       ]
      },
      {
       "output_type": "stream",
       "stream": "stderr",
       "text": [
        "5049 5050 "
       ]
      },
      {
       "output_type": "stream",
       "stream": "stderr",
       "text": [
        "5051 5052 "
       ]
      },
      {
       "output_type": "stream",
       "stream": "stderr",
       "text": [
        "5053 5054 "
       ]
      },
      {
       "output_type": "stream",
       "stream": "stderr",
       "text": [
        "5055 5056 "
       ]
      },
      {
       "output_type": "stream",
       "stream": "stderr",
       "text": [
        "5057 5058 "
       ]
      },
      {
       "output_type": "stream",
       "stream": "stderr",
       "text": [
        "5059 5060 "
       ]
      },
      {
       "output_type": "stream",
       "stream": "stderr",
       "text": [
        "5061 5062 "
       ]
      },
      {
       "output_type": "stream",
       "stream": "stderr",
       "text": [
        "5063 5064 "
       ]
      },
      {
       "output_type": "stream",
       "stream": "stderr",
       "text": [
        "5065 5066 "
       ]
      },
      {
       "output_type": "stream",
       "stream": "stderr",
       "text": [
        "5067 5068 "
       ]
      },
      {
       "output_type": "stream",
       "stream": "stderr",
       "text": [
        "5069 5070 "
       ]
      },
      {
       "output_type": "stream",
       "stream": "stderr",
       "text": [
        "5071 5072 "
       ]
      },
      {
       "output_type": "stream",
       "stream": "stderr",
       "text": [
        "5073 5074 "
       ]
      },
      {
       "output_type": "stream",
       "stream": "stderr",
       "text": [
        "5075 5076 5077 "
       ]
      },
      {
       "output_type": "stream",
       "stream": "stderr",
       "text": [
        "5078 5079 "
       ]
      },
      {
       "output_type": "stream",
       "stream": "stderr",
       "text": [
        "5080 5081 "
       ]
      },
      {
       "output_type": "stream",
       "stream": "stderr",
       "text": [
        "5082 5083 "
       ]
      },
      {
       "output_type": "stream",
       "stream": "stderr",
       "text": [
        "5084 5085 "
       ]
      },
      {
       "output_type": "stream",
       "stream": "stderr",
       "text": [
        "5086 5087 "
       ]
      },
      {
       "output_type": "stream",
       "stream": "stderr",
       "text": [
        "5088 5089 "
       ]
      },
      {
       "output_type": "stream",
       "stream": "stderr",
       "text": [
        "5090 5091 "
       ]
      },
      {
       "output_type": "stream",
       "stream": "stderr",
       "text": [
        "5092 5093 "
       ]
      },
      {
       "output_type": "stream",
       "stream": "stderr",
       "text": [
        "5094 5095 "
       ]
      },
      {
       "output_type": "stream",
       "stream": "stderr",
       "text": [
        "5096 5097 "
       ]
      },
      {
       "output_type": "stream",
       "stream": "stderr",
       "text": [
        "5098 5099 "
       ]
      },
      {
       "output_type": "stream",
       "stream": "stderr",
       "text": [
        "5100 5101 "
       ]
      },
      {
       "output_type": "stream",
       "stream": "stderr",
       "text": [
        "5102 5103 "
       ]
      },
      {
       "output_type": "stream",
       "stream": "stderr",
       "text": [
        "5104 5105 "
       ]
      },
      {
       "output_type": "stream",
       "stream": "stderr",
       "text": [
        "5106 5107 "
       ]
      },
      {
       "output_type": "stream",
       "stream": "stderr",
       "text": [
        "5108 5109 "
       ]
      },
      {
       "output_type": "stream",
       "stream": "stderr",
       "text": [
        "5110 5111 "
       ]
      },
      {
       "output_type": "stream",
       "stream": "stderr",
       "text": [
        "5112 5113 "
       ]
      },
      {
       "output_type": "stream",
       "stream": "stderr",
       "text": [
        "5114 5115 "
       ]
      },
      {
       "output_type": "stream",
       "stream": "stderr",
       "text": [
        "5116 5117 "
       ]
      },
      {
       "output_type": "stream",
       "stream": "stderr",
       "text": [
        "5118 5119 "
       ]
      },
      {
       "output_type": "stream",
       "stream": "stderr",
       "text": [
        "5120 5121 "
       ]
      },
      {
       "output_type": "stream",
       "stream": "stderr",
       "text": [
        "5122 5123 "
       ]
      },
      {
       "output_type": "stream",
       "stream": "stderr",
       "text": [
        "5124 5125 "
       ]
      },
      {
       "output_type": "stream",
       "stream": "stderr",
       "text": [
        "5126 5127 "
       ]
      },
      {
       "output_type": "stream",
       "stream": "stderr",
       "text": [
        "5128 5129 "
       ]
      },
      {
       "output_type": "stream",
       "stream": "stderr",
       "text": [
        "5130 5131 "
       ]
      },
      {
       "output_type": "stream",
       "stream": "stderr",
       "text": [
        "5132 5133 "
       ]
      },
      {
       "output_type": "stream",
       "stream": "stderr",
       "text": [
        "5134 5135 "
       ]
      },
      {
       "output_type": "stream",
       "stream": "stderr",
       "text": [
        "5136 5137 "
       ]
      },
      {
       "output_type": "stream",
       "stream": "stderr",
       "text": [
        "5138 5139 "
       ]
      },
      {
       "output_type": "stream",
       "stream": "stderr",
       "text": [
        "5140 5141 "
       ]
      },
      {
       "output_type": "stream",
       "stream": "stderr",
       "text": [
        "5142 5143 "
       ]
      },
      {
       "output_type": "stream",
       "stream": "stderr",
       "text": [
        "5144 5145 "
       ]
      },
      {
       "output_type": "stream",
       "stream": "stderr",
       "text": [
        "5146 5147 "
       ]
      },
      {
       "output_type": "stream",
       "stream": "stderr",
       "text": [
        "5148 5149 "
       ]
      },
      {
       "output_type": "stream",
       "stream": "stderr",
       "text": [
        "5150 5151 "
       ]
      },
      {
       "output_type": "stream",
       "stream": "stderr",
       "text": [
        "5152 5153 "
       ]
      },
      {
       "output_type": "stream",
       "stream": "stderr",
       "text": [
        "5154 5155 "
       ]
      },
      {
       "output_type": "stream",
       "stream": "stderr",
       "text": [
        "5156 5157 "
       ]
      },
      {
       "output_type": "stream",
       "stream": "stderr",
       "text": [
        "5158 5159 "
       ]
      },
      {
       "output_type": "stream",
       "stream": "stderr",
       "text": [
        "5160 5161 "
       ]
      },
      {
       "output_type": "stream",
       "stream": "stderr",
       "text": [
        "5162 5163 "
       ]
      },
      {
       "output_type": "stream",
       "stream": "stderr",
       "text": [
        "5164 5165 "
       ]
      },
      {
       "output_type": "stream",
       "stream": "stderr",
       "text": [
        "5166 5167 "
       ]
      },
      {
       "output_type": "stream",
       "stream": "stderr",
       "text": [
        "5168 5169 "
       ]
      },
      {
       "output_type": "stream",
       "stream": "stderr",
       "text": [
        "5170 5171 "
       ]
      },
      {
       "output_type": "stream",
       "stream": "stderr",
       "text": [
        "5172 5173 "
       ]
      },
      {
       "output_type": "stream",
       "stream": "stderr",
       "text": [
        "5174 5175 "
       ]
      },
      {
       "output_type": "stream",
       "stream": "stderr",
       "text": [
        "5176 5177 "
       ]
      },
      {
       "output_type": "stream",
       "stream": "stderr",
       "text": [
        "5178 5179 "
       ]
      },
      {
       "output_type": "stream",
       "stream": "stderr",
       "text": [
        "5180 5181 "
       ]
      },
      {
       "output_type": "stream",
       "stream": "stderr",
       "text": [
        "5182 5183 "
       ]
      },
      {
       "output_type": "stream",
       "stream": "stderr",
       "text": [
        "5184 5185 "
       ]
      },
      {
       "output_type": "stream",
       "stream": "stderr",
       "text": [
        "5186 5187 "
       ]
      },
      {
       "output_type": "stream",
       "stream": "stderr",
       "text": [
        "5188 5189 "
       ]
      },
      {
       "output_type": "stream",
       "stream": "stderr",
       "text": [
        "5190 5191 "
       ]
      },
      {
       "output_type": "stream",
       "stream": "stderr",
       "text": [
        "5192 5193 "
       ]
      },
      {
       "output_type": "stream",
       "stream": "stderr",
       "text": [
        "5194 5195 "
       ]
      },
      {
       "output_type": "stream",
       "stream": "stderr",
       "text": [
        "5196 5197 "
       ]
      },
      {
       "output_type": "stream",
       "stream": "stderr",
       "text": [
        "5198 5199 "
       ]
      },
      {
       "output_type": "stream",
       "stream": "stderr",
       "text": [
        "5200 5201 "
       ]
      },
      {
       "output_type": "stream",
       "stream": "stderr",
       "text": [
        "5202 5203 "
       ]
      },
      {
       "output_type": "stream",
       "stream": "stderr",
       "text": [
        "5204 5205 "
       ]
      },
      {
       "output_type": "stream",
       "stream": "stderr",
       "text": [
        "5206 5207 "
       ]
      },
      {
       "output_type": "stream",
       "stream": "stderr",
       "text": [
        "5208 5209 "
       ]
      },
      {
       "output_type": "stream",
       "stream": "stderr",
       "text": [
        "5210 5211 "
       ]
      },
      {
       "output_type": "stream",
       "stream": "stderr",
       "text": [
        "5212 5213 "
       ]
      },
      {
       "output_type": "stream",
       "stream": "stderr",
       "text": [
        "5214 5215 "
       ]
      },
      {
       "output_type": "stream",
       "stream": "stderr",
       "text": [
        "5216 5217 "
       ]
      },
      {
       "output_type": "stream",
       "stream": "stderr",
       "text": [
        "5218 5219 "
       ]
      },
      {
       "output_type": "stream",
       "stream": "stderr",
       "text": [
        "5220 5221 "
       ]
      },
      {
       "output_type": "stream",
       "stream": "stderr",
       "text": [
        "5222 5223 "
       ]
      },
      {
       "output_type": "stream",
       "stream": "stderr",
       "text": [
        "5224 5225 "
       ]
      },
      {
       "output_type": "stream",
       "stream": "stderr",
       "text": [
        "5226 5227 "
       ]
      },
      {
       "output_type": "stream",
       "stream": "stderr",
       "text": [
        "5228 5229 "
       ]
      },
      {
       "output_type": "stream",
       "stream": "stderr",
       "text": [
        "5230 5231 "
       ]
      },
      {
       "output_type": "stream",
       "stream": "stderr",
       "text": [
        "5232 5233 "
       ]
      },
      {
       "output_type": "stream",
       "stream": "stderr",
       "text": [
        "5234 5235 "
       ]
      },
      {
       "output_type": "stream",
       "stream": "stderr",
       "text": [
        "5236 5237 "
       ]
      },
      {
       "output_type": "stream",
       "stream": "stderr",
       "text": [
        "5238 5239 "
       ]
      },
      {
       "output_type": "stream",
       "stream": "stderr",
       "text": [
        "5240 5241 "
       ]
      },
      {
       "output_type": "stream",
       "stream": "stderr",
       "text": [
        "5242 5243 "
       ]
      },
      {
       "output_type": "stream",
       "stream": "stderr",
       "text": [
        "5244 5245 "
       ]
      },
      {
       "output_type": "stream",
       "stream": "stderr",
       "text": [
        "5246 5247 "
       ]
      },
      {
       "output_type": "stream",
       "stream": "stderr",
       "text": [
        "5248 5249 "
       ]
      },
      {
       "output_type": "stream",
       "stream": "stderr",
       "text": [
        "5250 5251 "
       ]
      },
      {
       "output_type": "stream",
       "stream": "stderr",
       "text": [
        "5252 5253 "
       ]
      },
      {
       "output_type": "stream",
       "stream": "stderr",
       "text": [
        "5254 5255 "
       ]
      },
      {
       "output_type": "stream",
       "stream": "stderr",
       "text": [
        "5256 5257 "
       ]
      },
      {
       "output_type": "stream",
       "stream": "stderr",
       "text": [
        "5258 5259 "
       ]
      },
      {
       "output_type": "stream",
       "stream": "stderr",
       "text": [
        "5260 5261 "
       ]
      },
      {
       "output_type": "stream",
       "stream": "stderr",
       "text": [
        "5262 5263 "
       ]
      },
      {
       "output_type": "stream",
       "stream": "stderr",
       "text": [
        "5264 5265 "
       ]
      },
      {
       "output_type": "stream",
       "stream": "stderr",
       "text": [
        "5266 5267 "
       ]
      },
      {
       "output_type": "stream",
       "stream": "stderr",
       "text": [
        "5268 5269 "
       ]
      },
      {
       "output_type": "stream",
       "stream": "stderr",
       "text": [
        "5270 5271 "
       ]
      },
      {
       "output_type": "stream",
       "stream": "stderr",
       "text": [
        "5272 5273 "
       ]
      },
      {
       "output_type": "stream",
       "stream": "stderr",
       "text": [
        "5274 5275 "
       ]
      },
      {
       "output_type": "stream",
       "stream": "stderr",
       "text": [
        "5276 5277 "
       ]
      },
      {
       "output_type": "stream",
       "stream": "stderr",
       "text": [
        "5278 5279 "
       ]
      },
      {
       "output_type": "stream",
       "stream": "stderr",
       "text": [
        "5280 5281 "
       ]
      },
      {
       "output_type": "stream",
       "stream": "stderr",
       "text": [
        "5282 5283 "
       ]
      },
      {
       "output_type": "stream",
       "stream": "stderr",
       "text": [
        "5284 5285 "
       ]
      },
      {
       "output_type": "stream",
       "stream": "stderr",
       "text": [
        "5286 5287 "
       ]
      },
      {
       "output_type": "stream",
       "stream": "stderr",
       "text": [
        "5288 5289 "
       ]
      },
      {
       "output_type": "stream",
       "stream": "stderr",
       "text": [
        "5290 5291 "
       ]
      },
      {
       "output_type": "stream",
       "stream": "stderr",
       "text": [
        "5292 5293 "
       ]
      },
      {
       "output_type": "stream",
       "stream": "stderr",
       "text": [
        "5294 5295 "
       ]
      },
      {
       "output_type": "stream",
       "stream": "stderr",
       "text": [
        "5296 5297 "
       ]
      },
      {
       "output_type": "stream",
       "stream": "stderr",
       "text": [
        "5298 5299 "
       ]
      },
      {
       "output_type": "stream",
       "stream": "stderr",
       "text": [
        "5300 5301 "
       ]
      },
      {
       "output_type": "stream",
       "stream": "stderr",
       "text": [
        "5302 5303 "
       ]
      },
      {
       "output_type": "stream",
       "stream": "stderr",
       "text": [
        "5304 5305 "
       ]
      },
      {
       "output_type": "stream",
       "stream": "stderr",
       "text": [
        "5306 5307 "
       ]
      },
      {
       "output_type": "stream",
       "stream": "stderr",
       "text": [
        "5308 5309 "
       ]
      },
      {
       "output_type": "stream",
       "stream": "stderr",
       "text": [
        "5310 5311 "
       ]
      },
      {
       "output_type": "stream",
       "stream": "stderr",
       "text": [
        "5312 5313 "
       ]
      },
      {
       "output_type": "stream",
       "stream": "stderr",
       "text": [
        "5314 5315 "
       ]
      },
      {
       "output_type": "stream",
       "stream": "stderr",
       "text": [
        "5316 5317 "
       ]
      },
      {
       "output_type": "stream",
       "stream": "stderr",
       "text": [
        "5318 5319 "
       ]
      },
      {
       "output_type": "stream",
       "stream": "stderr",
       "text": [
        "5320 5321 "
       ]
      },
      {
       "output_type": "stream",
       "stream": "stderr",
       "text": [
        "5322 5323 "
       ]
      },
      {
       "output_type": "stream",
       "stream": "stderr",
       "text": [
        "5324 5325 "
       ]
      },
      {
       "output_type": "stream",
       "stream": "stderr",
       "text": [
        "5326 5327 "
       ]
      },
      {
       "output_type": "stream",
       "stream": "stderr",
       "text": [
        "5328 5329 "
       ]
      },
      {
       "output_type": "stream",
       "stream": "stderr",
       "text": [
        "5330 5331 "
       ]
      },
      {
       "output_type": "stream",
       "stream": "stderr",
       "text": [
        "5332 5333 "
       ]
      },
      {
       "output_type": "stream",
       "stream": "stderr",
       "text": [
        "5334 5335 "
       ]
      },
      {
       "output_type": "stream",
       "stream": "stderr",
       "text": [
        "5336 5337 "
       ]
      },
      {
       "output_type": "stream",
       "stream": "stderr",
       "text": [
        "5338 5339 "
       ]
      },
      {
       "output_type": "stream",
       "stream": "stderr",
       "text": [
        "5340 5341 "
       ]
      },
      {
       "output_type": "stream",
       "stream": "stderr",
       "text": [
        "5342 5343 "
       ]
      },
      {
       "output_type": "stream",
       "stream": "stderr",
       "text": [
        "5344 5345 "
       ]
      },
      {
       "output_type": "stream",
       "stream": "stderr",
       "text": [
        "5346 5347 "
       ]
      },
      {
       "output_type": "stream",
       "stream": "stderr",
       "text": [
        "5348 5349 "
       ]
      },
      {
       "output_type": "stream",
       "stream": "stderr",
       "text": [
        "5350 5351 "
       ]
      },
      {
       "output_type": "stream",
       "stream": "stderr",
       "text": [
        "5352 5353 "
       ]
      },
      {
       "output_type": "stream",
       "stream": "stderr",
       "text": [
        "5354 5355 "
       ]
      },
      {
       "output_type": "stream",
       "stream": "stderr",
       "text": [
        "5356 5357 "
       ]
      },
      {
       "output_type": "stream",
       "stream": "stderr",
       "text": [
        "5358 5359 "
       ]
      },
      {
       "output_type": "stream",
       "stream": "stderr",
       "text": [
        "5360 5361 "
       ]
      },
      {
       "output_type": "stream",
       "stream": "stderr",
       "text": [
        "5362 5363 "
       ]
      },
      {
       "output_type": "stream",
       "stream": "stderr",
       "text": [
        "5364 5365 "
       ]
      },
      {
       "output_type": "stream",
       "stream": "stderr",
       "text": [
        "5366 5367 "
       ]
      },
      {
       "output_type": "stream",
       "stream": "stderr",
       "text": [
        "5368 5369 "
       ]
      },
      {
       "output_type": "stream",
       "stream": "stderr",
       "text": [
        "5370 5371 "
       ]
      },
      {
       "output_type": "stream",
       "stream": "stderr",
       "text": [
        "5372 5373 "
       ]
      },
      {
       "output_type": "stream",
       "stream": "stderr",
       "text": [
        "5374 5375 "
       ]
      },
      {
       "output_type": "stream",
       "stream": "stderr",
       "text": [
        "5376 5377 "
       ]
      },
      {
       "output_type": "stream",
       "stream": "stderr",
       "text": [
        "5378 5379 "
       ]
      },
      {
       "output_type": "stream",
       "stream": "stderr",
       "text": [
        "5380 5381 "
       ]
      },
      {
       "output_type": "stream",
       "stream": "stderr",
       "text": [
        "5382 5383 "
       ]
      },
      {
       "output_type": "stream",
       "stream": "stderr",
       "text": [
        "5384 5385 "
       ]
      },
      {
       "output_type": "stream",
       "stream": "stderr",
       "text": [
        "5386 5387 "
       ]
      },
      {
       "output_type": "stream",
       "stream": "stderr",
       "text": [
        "5388 5389 "
       ]
      },
      {
       "output_type": "stream",
       "stream": "stderr",
       "text": [
        "5390 5391 "
       ]
      },
      {
       "output_type": "stream",
       "stream": "stderr",
       "text": [
        "5392 5393 "
       ]
      },
      {
       "output_type": "stream",
       "stream": "stderr",
       "text": [
        "5394 5395 "
       ]
      },
      {
       "output_type": "stream",
       "stream": "stderr",
       "text": [
        "5396 5397 "
       ]
      },
      {
       "output_type": "stream",
       "stream": "stderr",
       "text": [
        "5398 5399 "
       ]
      },
      {
       "output_type": "stream",
       "stream": "stderr",
       "text": [
        "5400 5401 "
       ]
      },
      {
       "output_type": "stream",
       "stream": "stderr",
       "text": [
        "5402 5403 "
       ]
      },
      {
       "output_type": "stream",
       "stream": "stderr",
       "text": [
        "5404 5405 "
       ]
      },
      {
       "output_type": "stream",
       "stream": "stderr",
       "text": [
        "5406 5407 "
       ]
      },
      {
       "output_type": "stream",
       "stream": "stderr",
       "text": [
        "5408 5409 "
       ]
      },
      {
       "output_type": "stream",
       "stream": "stderr",
       "text": [
        "5410 5411 "
       ]
      },
      {
       "output_type": "stream",
       "stream": "stderr",
       "text": [
        "5412 5413 "
       ]
      },
      {
       "output_type": "stream",
       "stream": "stderr",
       "text": [
        "5414 5415 "
       ]
      },
      {
       "output_type": "stream",
       "stream": "stderr",
       "text": [
        "5416 5417 "
       ]
      },
      {
       "output_type": "stream",
       "stream": "stderr",
       "text": [
        "5418 5419 "
       ]
      },
      {
       "output_type": "stream",
       "stream": "stderr",
       "text": [
        "5420 5421 "
       ]
      },
      {
       "output_type": "stream",
       "stream": "stderr",
       "text": [
        "5422 5423 "
       ]
      },
      {
       "output_type": "stream",
       "stream": "stderr",
       "text": [
        "5424 5425 "
       ]
      },
      {
       "output_type": "stream",
       "stream": "stderr",
       "text": [
        "5426 5427 "
       ]
      },
      {
       "output_type": "stream",
       "stream": "stderr",
       "text": [
        "5428 5429 "
       ]
      },
      {
       "output_type": "stream",
       "stream": "stderr",
       "text": [
        "5430 5431 "
       ]
      },
      {
       "output_type": "stream",
       "stream": "stderr",
       "text": [
        "5432 5433 "
       ]
      },
      {
       "output_type": "stream",
       "stream": "stderr",
       "text": [
        "5434 5435 "
       ]
      },
      {
       "output_type": "stream",
       "stream": "stderr",
       "text": [
        "5436 5437 "
       ]
      },
      {
       "output_type": "stream",
       "stream": "stderr",
       "text": [
        "5438 5439 "
       ]
      },
      {
       "output_type": "stream",
       "stream": "stderr",
       "text": [
        "5440 5441 "
       ]
      },
      {
       "output_type": "stream",
       "stream": "stderr",
       "text": [
        "5442 5443 "
       ]
      },
      {
       "output_type": "stream",
       "stream": "stderr",
       "text": [
        "5444 5445 "
       ]
      },
      {
       "output_type": "stream",
       "stream": "stderr",
       "text": [
        "5446 5447 "
       ]
      },
      {
       "output_type": "stream",
       "stream": "stderr",
       "text": [
        "5448 5449 "
       ]
      },
      {
       "ename": "KeyboardInterrupt",
       "evalue": "",
       "output_type": "pyerr",
       "traceback": [
        "\u001b[0;31m---------------------------------------------------------------------------\u001b[0m\n\u001b[0;31mKeyboardInterrupt\u001b[0m                         Traceback (most recent call last)",
        "\u001b[0;32m<ipython-input-151-b3d2ee2d39bc>\u001b[0m in \u001b[0;36m<module>\u001b[0;34m()\u001b[0m\n\u001b[1;32m      6\u001b[0m         \u001b[0msys\u001b[0m\u001b[0;34m.\u001b[0m\u001b[0mstderr\u001b[0m\u001b[0;34m.\u001b[0m\u001b[0mwrite\u001b[0m\u001b[0;34m(\u001b[0m \u001b[0;34m\"%s \"\u001b[0m \u001b[0;34m%\u001b[0m \u001b[0midx\u001b[0m \u001b[0;34m)\u001b[0m\u001b[0;34m\u001b[0m\u001b[0m\n\u001b[1;32m      7\u001b[0m \u001b[0;34m\u001b[0m\u001b[0m\n\u001b[0;32m----> 8\u001b[0;31m     \u001b[0mmatches\u001b[0m \u001b[0;34m=\u001b[0m \u001b[0mutils_search\u001b[0m\u001b[0;34m.\u001b[0m\u001b[0mget_ranked_matches\u001b[0m\u001b[0;34m(\u001b[0m \u001b[0mi\u001b[0m\u001b[0;34m,\u001b[0m \u001b[0mword_inverted_index\u001b[0m \u001b[0;34m)\u001b[0m\u001b[0;34m\u001b[0m\u001b[0m\n\u001b[0m\u001b[1;32m      9\u001b[0m     \u001b[0mtop_matches\u001b[0m\u001b[0;34m.\u001b[0m\u001b[0mappend\u001b[0m\u001b[0;34m(\u001b[0m \u001b[0mmatches\u001b[0m \u001b[0;34m)\u001b[0m\u001b[0;34m\u001b[0m\u001b[0m\n",
        "\u001b[0;32m/Users/wli/projects/legalcode/unshared/code/utils/utils_search.pyc\u001b[0m in \u001b[0;36mget_ranked_matches\u001b[0;34m(query_word_set, word_inverted_index)\u001b[0m\n\u001b[1;32m      9\u001b[0m         \u001b[0mall_indices\u001b[0m \u001b[0;34m+=\u001b[0m \u001b[0mindices\u001b[0m\u001b[0;34m\u001b[0m\u001b[0m\n\u001b[1;32m     10\u001b[0m \u001b[0;34m\u001b[0m\u001b[0m\n\u001b[0;32m---> 11\u001b[0;31m     \u001b[0mcount_by_index\u001b[0m \u001b[0;34m=\u001b[0m \u001b[0mcollections\u001b[0m\u001b[0;34m.\u001b[0m\u001b[0mCounter\u001b[0m\u001b[0;34m(\u001b[0m \u001b[0mall_indices\u001b[0m \u001b[0;34m)\u001b[0m\u001b[0;34m\u001b[0m\u001b[0m\n\u001b[0m\u001b[1;32m     12\u001b[0m \u001b[0;34m\u001b[0m\u001b[0m\n\u001b[1;32m     13\u001b[0m     \u001b[0mk\u001b[0m \u001b[0;34m=\u001b[0m \u001b[0;36m10\u001b[0m\u001b[0;34m\u001b[0m\u001b[0m\n",
        "\u001b[0;32m/Users/wli/anaconda/python.app/Contents/lib/python2.7/collections.pyc\u001b[0m in \u001b[0;36m__init__\u001b[0;34m(self, iterable, **kwds)\u001b[0m\n\u001b[1;32m    442\u001b[0m         '''\n\u001b[1;32m    443\u001b[0m         \u001b[0msuper\u001b[0m\u001b[0;34m(\u001b[0m\u001b[0mCounter\u001b[0m\u001b[0;34m,\u001b[0m \u001b[0mself\u001b[0m\u001b[0;34m)\u001b[0m\u001b[0;34m.\u001b[0m\u001b[0m__init__\u001b[0m\u001b[0;34m(\u001b[0m\u001b[0;34m)\u001b[0m\u001b[0;34m\u001b[0m\u001b[0m\n\u001b[0;32m--> 444\u001b[0;31m         \u001b[0mself\u001b[0m\u001b[0;34m.\u001b[0m\u001b[0mupdate\u001b[0m\u001b[0;34m(\u001b[0m\u001b[0miterable\u001b[0m\u001b[0;34m,\u001b[0m \u001b[0;34m**\u001b[0m\u001b[0mkwds\u001b[0m\u001b[0;34m)\u001b[0m\u001b[0;34m\u001b[0m\u001b[0m\n\u001b[0m\u001b[1;32m    445\u001b[0m \u001b[0;34m\u001b[0m\u001b[0m\n\u001b[1;32m    446\u001b[0m     \u001b[0;32mdef\u001b[0m \u001b[0m__missing__\u001b[0m\u001b[0;34m(\u001b[0m\u001b[0mself\u001b[0m\u001b[0;34m,\u001b[0m \u001b[0mkey\u001b[0m\u001b[0;34m)\u001b[0m\u001b[0;34m:\u001b[0m\u001b[0;34m\u001b[0m\u001b[0m\n",
        "\u001b[0;32m/Users/wli/anaconda/python.app/Contents/lib/python2.7/collections.pyc\u001b[0m in \u001b[0;36mupdate\u001b[0;34m(self, iterable, **kwds)\u001b[0m\n\u001b[1;32m    524\u001b[0m                 \u001b[0mself_get\u001b[0m \u001b[0;34m=\u001b[0m \u001b[0mself\u001b[0m\u001b[0;34m.\u001b[0m\u001b[0mget\u001b[0m\u001b[0;34m\u001b[0m\u001b[0m\n\u001b[1;32m    525\u001b[0m                 \u001b[0;32mfor\u001b[0m \u001b[0melem\u001b[0m \u001b[0;32min\u001b[0m \u001b[0miterable\u001b[0m\u001b[0;34m:\u001b[0m\u001b[0;34m\u001b[0m\u001b[0m\n\u001b[0;32m--> 526\u001b[0;31m                     \u001b[0mself\u001b[0m\u001b[0;34m[\u001b[0m\u001b[0melem\u001b[0m\u001b[0;34m]\u001b[0m \u001b[0;34m=\u001b[0m \u001b[0mself_get\u001b[0m\u001b[0;34m(\u001b[0m\u001b[0melem\u001b[0m\u001b[0;34m,\u001b[0m \u001b[0;36m0\u001b[0m\u001b[0;34m)\u001b[0m \u001b[0;34m+\u001b[0m \u001b[0;36m1\u001b[0m\u001b[0;34m\u001b[0m\u001b[0m\n\u001b[0m\u001b[1;32m    527\u001b[0m         \u001b[0;32mif\u001b[0m \u001b[0mkwds\u001b[0m\u001b[0;34m:\u001b[0m\u001b[0;34m\u001b[0m\u001b[0m\n\u001b[1;32m    528\u001b[0m             \u001b[0mself\u001b[0m\u001b[0;34m.\u001b[0m\u001b[0mupdate\u001b[0m\u001b[0;34m(\u001b[0m\u001b[0mkwds\u001b[0m\u001b[0;34m)\u001b[0m\u001b[0;34m\u001b[0m\u001b[0m\n",
        "\u001b[0;31mKeyboardInterrupt\u001b[0m: "
       ]
      },
      {
       "output_type": "stream",
       "stream": "stderr",
       "text": [
        "5450 "
       ]
      }
     ],
     "prompt_number": 151
    },
    {
     "cell_type": "code",
     "collapsed": false,
     "input": [
      "import cPickle\n",
      "with open( '../../data/processed/top_matches_5450.pkl', 'w' ) as f:\n",
      "    cPickle.dump( top_matches, f )"
     ],
     "language": "python",
     "metadata": {},
     "outputs": [],
     "prompt_number": 153
    },
    {
     "cell_type": "code",
     "collapsed": false,
     "input": [
      "tarp_indices = set( [ idx for idx, i in enumerate( data_list_of_dicts ) if i['bill_version'] == 'hr1424-110-enr' ] )"
     ],
     "language": "python",
     "metadata": {},
     "outputs": [],
     "prompt_number": 17
    },
    {
     "cell_type": "code",
     "collapsed": false,
     "input": [
      "reload( utils_search )\n",
      "tarp_top_matches = []\n",
      "for idx, i in enumerate( data_list_sets ):\n",
      "    if idx in tarp_indices:\n",
      "        \n",
      "    #if idx % 100 == 0:\n",
      "        sys.stderr.write( \"%s \" % idx )\n",
      "    \n",
      "        matches = utils_search.get_ranked_matches( i, word_inverted_index, top_k=100 ) \n",
      "        tarp_top_matches.append( ( idx, matches ) )\n",
      "    else:\n",
      "        pass"
     ],
     "language": "python",
     "metadata": {},
     "outputs": [
      {
       "output_type": "stream",
       "stream": "stderr",
       "text": [
        "69484 69485 "
       ]
      },
      {
       "output_type": "stream",
       "stream": "stderr",
       "text": [
        "69486 69487 "
       ]
      },
      {
       "output_type": "stream",
       "stream": "stderr",
       "text": [
        "69488 69489 "
       ]
      },
      {
       "output_type": "stream",
       "stream": "stderr",
       "text": [
        "69490 69491 "
       ]
      },
      {
       "output_type": "stream",
       "stream": "stderr",
       "text": [
        "69492 69493 "
       ]
      },
      {
       "output_type": "stream",
       "stream": "stderr",
       "text": [
        "69494 69495 "
       ]
      },
      {
       "output_type": "stream",
       "stream": "stderr",
       "text": [
        "69496 69497 "
       ]
      },
      {
       "output_type": "stream",
       "stream": "stderr",
       "text": [
        "69498 69499 "
       ]
      },
      {
       "output_type": "stream",
       "stream": "stderr",
       "text": [
        "69500 69501 "
       ]
      },
      {
       "output_type": "stream",
       "stream": "stderr",
       "text": [
        "69502 69503 "
       ]
      },
      {
       "output_type": "stream",
       "stream": "stderr",
       "text": [
        "69504 69505 "
       ]
      },
      {
       "output_type": "stream",
       "stream": "stderr",
       "text": [
        "69506 69507 "
       ]
      },
      {
       "output_type": "stream",
       "stream": "stderr",
       "text": [
        "69508 69509 "
       ]
      },
      {
       "output_type": "stream",
       "stream": "stderr",
       "text": [
        "69510 69511 "
       ]
      },
      {
       "output_type": "stream",
       "stream": "stderr",
       "text": [
        "69512 69513 "
       ]
      },
      {
       "output_type": "stream",
       "stream": "stderr",
       "text": [
        "69514 69515 "
       ]
      },
      {
       "output_type": "stream",
       "stream": "stderr",
       "text": [
        "69516 69517 "
       ]
      },
      {
       "output_type": "stream",
       "stream": "stderr",
       "text": [
        "69518 69519 "
       ]
      },
      {
       "output_type": "stream",
       "stream": "stderr",
       "text": [
        "69520 69521 "
       ]
      },
      {
       "output_type": "stream",
       "stream": "stderr",
       "text": [
        "69522 "
       ]
      }
     ],
     "prompt_number": 49
    },
    {
     "cell_type": "code",
     "collapsed": false,
     "input": [
      "reload( utils_text )\n",
      "tarp_top_matches_jaccard = []\n",
      "\n",
      "for query_idx, matches in tarp_top_matches:\n",
      "\n",
      "    query_word_set = data_list_sets[query_idx]\n",
      "    \n",
      "    jaccard_scores = []\n",
      "    for match_idx, num_matches in matches:\n",
      "        match_word_set = data_list_sets[match_idx]\n",
      "        jacc = utils_text.jaccard( query_word_set, match_word_set )\n",
      "        jaccard_scores.append( jacc )\n",
      "        \n",
      "    match_jaccard = zip( [ i[0] for i in matches ], jaccard_scores )\n",
      "    match_jaccard.sort( key=lambda x:x[1], reverse=True )\n",
      "    \n",
      "    tarp_top_matches_jaccard.append( ( query_idx, match_jaccard ) )\n",
      "    "
     ],
     "language": "python",
     "metadata": {},
     "outputs": [],
     "prompt_number": 50
    },
    {
     "cell_type": "code",
     "collapsed": true,
     "input": [
      "for query_idx, matches in tarp_top_matches_jaccard:\n",
      "    print query_idx, len( data_list_of_dicts[query_idx]['text'].split() )\n",
      "    print data_list_of_dicts[query_idx]['bill_version']\n",
      "    for match_idx, num_matches in matches[:5]:\n",
      "        match_entry = data_list_of_dicts[match_idx]\n",
      "        print match_idx, match_entry['bill_version'], match_entry['IssuedOn'], len( match_entry['text'].split() ), float( num_matches ) / matches[0][1] \n",
      "    print \"\\n\"         \n",
      "    "
     ],
     "language": "python",
     "metadata": {},
     "outputs": [
      {
       "output_type": "stream",
       "stream": "stdout",
       "text": [
        "69484 87\n",
        "hr1424-110-enr\n",
        "69484 hr1424-110-enr 2008-10-03 87 1.0\n",
        "69704 hr1424-110-eas 2008-10-02 1428 0.134048257373\n",
        "12553 hr1427-110-rh 2007-05-09 4706 0.0461922596754\n",
        "12392 hr1427-110-rfs 2007-05-24 5324 0.0431893687708\n",
        "12635 hr1427-110-eh 2007-05-22 5324 0.0431893687708\n",
        "\n",
        "\n",
        "69485 4\n",
        "hr1424-110-enr\n",
        "69485 hr1424-110-enr 2008-10-03 4 1.0\n",
        "69523 hr1424-110-eas 2008-10-02 4 1.0\n",
        "11888 hr7307-110-ih 2008-11-20 44 0.1\n",
        "125979 s3690-110-is 2008-11-17 44 0.1\n",
        "102816 s3738-110-is 2008-12-11 19 0.1\n",
        "\n",
        "\n",
        "69486 47\n",
        "hr1424-110-enr\n",
        "69486 hr1424-110-enr 2008-10-03 47 1.0\n",
        "69524 hr1424-110-eas 2008-10-02 47 1.0\n",
        "122494 s3581-110-is 2008-09-25 45 0.771428571429\n",
        "101234 s280-110-is 2007-01-12 46 0.75\n",
        "103227 s3320-110-is 2008-07-23 47 0.75\n",
        "\n",
        "\n",
        "69487 191\n",
        "hr1424-110-enr\n",
        "69487 hr1424-110-enr 2008-10-03 191 1.0\n",
        "69525 hr1424-110-eas 2008-10-02 191 1.0\n",
        "19946 hr3121-110-eas 2008-05-13 210 0.234309623431\n",
        "80465 hr1401-110-rfs 2007-03-28 249 0.203921568627\n",
        "80575 hr1401-110-eh 2007-03-27 249 0.203921568627\n",
        "\n",
        "\n",
        "69488 31\n",
        "hr1424-110-enr\n",
        "69488 hr1424-110-enr 2008-10-03 31 1.0\n",
        "69526 hr1424-110-eas 2008-10-02 31 1.0\n",
        "69493 hr1424-110-enr 2008-10-03 911 0.0815602836879\n",
        "102762 s1970-110-rs 2007-11-15 2232 0.030612244898\n",
        "117425 s3181-110-pcs 2008-06-23 2994 0.0264317180617\n",
        "\n",
        "\n",
        "69489 46\n",
        "hr1424-110-enr\n",
        "69489 hr1424-110-enr 2008-10-03 46 1.0\n",
        "69527 hr1424-110-eas 2008-10-02 46 1.0\n",
        "69494 hr1424-110-enr 2008-10-03 2065 0.0949868073879\n",
        "8271 hr2419-110-enr 2008-05-20 400 0.0709219858156\n",
        "112672 s12-110-pcs 2008-03-03 718 0.0537897310513\n",
        "\n",
        "\n",
        "69490 95\n",
        "hr1424-110-enr\n",
        "69490 hr1424-110-enr 2008-10-03 95 1.0\n",
        "69528 hr1424-110-eas 2008-10-02 95 1.0\n",
        "136522 s3688-110-pcs 2008-11-18 1459 0.0913140311804\n",
        "22139 hr3221-110-eas2 2008-07-16 6133 0.0469798657718\n",
        "12392 hr1427-110-rfs 2007-05-24 5324 0.0453539823009\n",
        "\n",
        "\n",
        "69491 354\n",
        "hr1424-110-enr\n",
        "69491 hr1424-110-enr 2008-10-03 354 1.0\n",
        "69529 hr1424-110-eas 2008-10-02 354 1.0\n",
        "112198 s40-110-is 2007-05-24 3641 0.125140924464\n",
        "19222 hr3200-110-ih 2007-07-26 3701 0.122787610619\n",
        "22188 hr3221-110-eas2 2008-07-16 3985 0.115171650055\n",
        "\n",
        "\n",
        "69492 14536\n",
        "hr1424-110-enr\n",
        "69492 hr1424-110-enr 2008-10-03 14536 1.0\n",
        "3511 hr2095-110-enr 2008-10-03 11292 0.27915451895\n",
        "6135 hr2761-110-rfs 2007-09-20 10922 0.278490859588\n",
        "6172 hr2761-110-eh 2007-09-19 10922 0.278490859588\n",
        "2190 hr6210-110-ih 2008-06-09 9551 0.276681433749\n",
        "\n",
        "\n",
        "69493 911\n",
        "hr1424-110-enr\n",
        "69493 hr1424-110-enr 2008-10-03 911 1.0\n",
        "69520 hr1424-110-enr 2008-10-03 7567 0.139888089528\n",
        "73412 hr2002-110-ih 2007-04-23 10334 0.139384116694\n",
        "69689 hr1424-110-eas 2008-10-02 7451 0.138263665595\n",
        "94500 hr6049-110-eas 2008-09-29 7451 0.138263665595\n",
        "\n",
        "\n",
        "69494 2065\n",
        "hr1424-110-enr\n",
        "69494 hr1424-110-enr 2008-10-03 2065 1.0\n",
        "69574 hr1424-110-eas 2008-10-02 1468 0.771276595745\n",
        "27188 hr6081-110-enr 2008-05-28 4704 0.25\n",
        "69519 hr1424-110-enr 2008-10-03 7333 0.221335992024\n",
        "69521 hr1424-110-enr 2008-10-03 6991 0.219900497512\n",
        "\n",
        "\n",
        "69495 8\n",
        "hr1424-110-enr\n",
        "69495 hr1424-110-enr 2008-10-03 8 1.0\n",
        "69576 hr1424-110-eas 2008-10-02 8 1.0\n",
        "47282 hr3162-110-ih 2007-07-24 75 0.148936170213\n",
        "47443 hr3162-110-rh 2007-08-01 75 0.148936170213\n",
        "47608 hr3162-110-pcs 2007-09-04 75 0.148936170213\n",
        "\n",
        "\n",
        "69496 89\n",
        "hr1424-110-enr\n",
        "69496 hr1424-110-enr 2008-10-03 89 1.0\n",
        "69577 hr1424-110-eas 2008-10-02 89 0.981132075472\n",
        "81253 hr7201-110-ih 2008-09-28 89 0.962264150943\n",
        "94387 hr6049-110-eas 2008-09-29 89 0.962264150943\n",
        "94516 hr6049-110-ih 2008-05-14 89 0.890909090909\n",
        "\n",
        "\n",
        "69497 157\n",
        "hr1424-110-enr\n",
        "69497 hr1424-110-enr 2008-10-03 157 1.0\n",
        "69578 hr1424-110-eas 2008-10-02 157 1.0\n",
        "94388 hr6049-110-eas 2008-09-29 157 1.0\n",
        "131738 s3478-110-is 2008-09-11 121 0.747572815534\n",
        "28709 hr7060-110-ih 2008-09-25 258 0.378238341969\n",
        "\n",
        "\n",
        "69498 146\n",
        "hr1424-110-enr\n",
        "69498 hr1424-110-enr 2008-10-03 146 1.0\n",
        "69579 hr1424-110-eas 2008-10-02 146 1.0\n",
        "94389 hr6049-110-eas 2008-09-29 146 1.0\n",
        "131739 s3478-110-is 2008-09-11 162 0.873873873874\n",
        "28709 hr7060-110-ih 2008-09-25 258 0.383419689119\n",
        "\n",
        "\n",
        "69499 72\n",
        "hr1424-110-enr\n",
        "69499 hr1424-110-enr 2008-10-03 72 1.0\n",
        "69580 hr1424-110-eas 2008-10-02 72 1.0\n",
        "94390 hr6049-110-eas 2008-09-29 72 1.0\n",
        "131740 s3478-110-is 2008-09-11 72 1.0\n",
        "3952 hr2776-110-ih 2007-06-19 112 0.252336448598\n",
        "\n",
        "\n",
        "69500 70\n",
        "hr1424-110-enr\n",
        "69500 hr1424-110-enr 2008-10-03 70 1.0\n",
        "69581 hr1424-110-eas 2008-10-02 70 1.0\n",
        "94391 hr6049-110-eas 2008-09-29 70 1.0\n",
        "28712 hr7060-110-ih 2008-09-25 96 0.708333333333\n",
        "28788 hr7060-110-pcs 2008-12-09 96 0.708333333333\n",
        "\n",
        "\n",
        "69501 10136\n",
        "hr1424-110-enr\n",
        "69501 hr1424-110-enr 2008-10-03 10136 1.0\n",
        "117839 s1201-110-is 2007-04-24 11564 0.234133790738\n",
        "124734 s1554-110-is 2007-06-06 8741 0.232073643411\n",
        "126333 s1177-110-is 2007-04-20 9185 0.226653696498\n",
        "88351 hr2809-110-ih 2007-06-21 9021 0.225524475524\n",
        "\n",
        "\n",
        "69502 4093\n",
        "hr1424-110-enr\n",
        "69502 hr1424-110-enr 2008-10-03 4093 1.0\n",
        "69604 hr1424-110-eas 2008-10-02 1812 0.567867036011\n",
        "94414 hr6049-110-eas 2008-09-29 1812 0.567867036011\n",
        "131762 s3478-110-is 2008-09-11 1815 0.559834938102\n",
        "123356 s2642-110-is 2008-02-14 2120 0.467336683417\n",
        "\n",
        "\n",
        "69503 3876\n",
        "hr1424-110-enr\n",
        "69503 hr1424-110-enr 2008-10-03 3876 1.0\n",
        "69501 hr1424-110-enr 2008-10-03 10136 0.239300783605\n",
        "114214 s1602-110-is 2007-06-12 5641 0.220897615708\n",
        "126333 s1177-110-is 2007-04-20 9185 0.194758784991\n",
        "124734 s1554-110-is 2007-06-06 8741 0.1944608132\n",
        "\n",
        "\n",
        "69504 4166\n",
        "hr1424-110-enr\n",
        "69504 hr1424-110-enr 2008-10-03 4166 1.0\n",
        "69623 hr1424-110-eas 2008-10-02 2465 0.684640522876\n",
        "94433 hr6049-110-eas 2008-09-29 2465 0.684640522876\n",
        "110215 s3335-110-pcs 2008-07-25 2515 0.670947030498\n",
        "131789 s3478-110-is 2008-09-11 2515 0.670947030498\n",
        "\n",
        "\n",
        "69505 8\n",
        "hr1424-110-enr\n",
        "69505 hr1424-110-enr 2008-10-03 8 1.0\n",
        "69626 hr1424-110-eas 2008-10-02 8 1.0\n",
        "94436 hr6049-110-eas 2008-09-29 8 0.777777777778\n",
        "94438 hr6049-110-eas 2008-09-29 18 0.315789473684\n",
        "69627 hr1424-110-eas 2008-10-02 107 0.132075471698\n",
        "\n",
        "\n",
        "69506 107\n",
        "hr1424-110-enr\n",
        "69506 hr1424-110-enr 2008-10-03 107 1.0\n",
        "69627 hr1424-110-eas 2008-10-02 107 0.981132075472\n",
        "98545 s3098-110-pcs 2008-06-09 107 0.962264150943\n",
        "137696 s2886-110-is 2008-04-17 107 0.962264150943\n",
        "94437 hr6049-110-eas 2008-09-29 97 0.944444444444\n",
        "\n",
        "\n",
        "69507 45\n",
        "hr1424-110-enr\n",
        "69507 hr1424-110-enr 2008-10-03 45 1.0\n",
        "69628 hr1424-110-eas 2008-10-02 45 1.0\n",
        "94439 hr6049-110-eas 2008-09-29 45 1.0\n",
        "56337 hr3996-110-rh 2007-10-30 43 0.941176470588\n",
        "56412 hr3996-110-pcs 2007-11-14 43 0.941176470588\n",
        "\n",
        "\n",
        "69508 79\n",
        "hr1424-110-enr\n",
        "69508 hr1424-110-enr 2008-10-03 79 1.0\n",
        "69629 hr1424-110-eas 2008-10-02 79 1.0\n",
        "94440 hr6049-110-eas 2008-09-29 79 1.0\n",
        "98547 s3098-110-pcs 2008-06-09 67 0.85\n",
        "137698 s2886-110-is 2008-04-17 106 0.6\n",
        "\n",
        "\n",
        "69509 261\n",
        "hr1424-110-enr\n",
        "69509 hr1424-110-enr 2008-10-03 261 1.0\n",
        "69630 hr1424-110-eas 2008-10-02 261 1.0\n",
        "94441 hr6049-110-eas 2008-09-29 261 1.0\n",
        "98548 s3098-110-pcs 2008-06-09 216 0.8\n",
        "137699 s2886-110-is 2008-04-17 228 0.778409090909\n",
        "\n",
        "\n",
        "69510 23\n",
        "hr1424-110-enr\n",
        "69510 hr1424-110-enr 2008-10-03 23 1.0\n",
        "69631 hr1424-110-eas 2008-10-02 23 1.0\n",
        "94442 hr6049-110-eas 2008-09-29 23 1.0\n",
        "98552 s3098-110-pcs 2008-06-09 25 0.5\n",
        "137701 s2886-110-is 2008-04-17 25 0.5\n",
        "\n",
        "\n",
        "69511 106\n",
        "hr1424-110-enr\n",
        "69511 hr1424-110-enr 2008-10-03 106 1.0\n",
        "69632 hr1424-110-eas 2008-10-02 105 0.964705882353\n",
        "94443 hr6049-110-eas 2008-09-29 105 0.964705882353\n",
        "110121 s3335-110-pcs 2008-07-25 109 0.463636363636\n",
        "134109 s3125-110-is 2008-06-12 142 0.340740740741\n",
        "\n",
        "\n",
        "69512 18\n",
        "hr1424-110-enr\n",
        "69512 hr1424-110-enr 2008-10-03 18 1.0\n",
        "69633 hr1424-110-eas 2008-10-02 18 1.0\n",
        "94444 hr6049-110-eas 2008-09-29 18 1.0\n",
        "131743 s3478-110-is 2008-09-11 18 0.521739130435\n",
        "110121 s3335-110-pcs 2008-07-25 109 0.117647058824\n",
        "\n",
        "\n",
        "69513 112\n",
        "hr1424-110-enr\n",
        "69513 hr1424-110-enr 2008-10-03 112 1.0\n",
        "69634 hr1424-110-eas 2008-10-02 112 1.0\n",
        "94445 hr6049-110-eas 2008-09-29 112 1.0\n",
        "110123 s3335-110-pcs 2008-07-25 74 0.29347826087\n",
        "26910 hr7006-110-ih 2008-09-23 153 0.198529411765\n",
        "\n",
        "\n",
        "69514 21\n",
        "hr1424-110-enr\n",
        "69514 hr1424-110-enr 2008-10-03 21 1.0\n",
        "69635 hr1424-110-eas 2008-10-02 21 1.0\n",
        "94446 hr6049-110-eas 2008-09-29 21 1.0\n",
        "637 hr6165-110-ih 2008-05-22 119 0.144736842105\n",
        "7158 hr3923-110-ih 2007-10-22 404 0.066265060241\n",
        "\n",
        "\n",
        "69515 534\n",
        "hr1424-110-enr\n",
        "69515 hr1424-110-enr 2008-10-03 534 1.0\n",
        "69639 hr1424-110-eas 2008-10-02 360 0.827160493827\n",
        "94450 hr6049-110-eas 2008-09-29 360 0.827160493827\n",
        "110155 s3335-110-pcs 2008-07-25 361 0.785714285714\n",
        "13028 hr7005-110-ih 2008-09-23 364 0.781065088757\n",
        "\n",
        "\n",
        "69516 450\n",
        "hr1424-110-enr\n",
        "69516 hr1424-110-enr 2008-10-03 450 1.0\n",
        "82741 hr5105-110-ih 2008-01-23 2241 0.14371257485\n",
        "116319 s2547-110-is 2008-01-23 2241 0.14371257485\n",
        "12182 hr5109-110-ih 2008-01-23 2312 0.140077821012\n",
        "118256 s2592-110-is 2008-02-05 2312 0.140077821012\n",
        "\n",
        "\n",
        "69517 3889\n",
        "hr1424-110-enr\n",
        "69517 hr1424-110-enr 2008-10-03 3889 1.0\n",
        "69662 hr1424-110-eas 2008-10-02 1198 0.423076923077\n",
        "94473 hr6049-110-eas 2008-09-29 1198 0.423076923077\n",
        "28756 hr7060-110-ih 2008-09-25 1189 0.411126187246\n",
        "28832 hr7060-110-pcs 2008-12-09 1189 0.411126187246\n",
        "\n",
        "\n",
        "69518 127\n",
        "hr1424-110-enr\n",
        "69518 hr1424-110-enr 2008-10-03 127 1.0\n",
        "69677 hr1424-110-eas 2008-10-02 75 0.75\n",
        "94488 hr6049-110-eas 2008-09-29 75 0.75\n",
        "48587 hr5159-110-enr 2008-10-03 2700 0.0909090909091\n",
        "47407 hr3162-110-rh 2007-08-01 2243 0.0886319845857\n",
        "\n",
        "\n",
        "69519 7333\n",
        "hr1424-110-enr\n",
        "69519 hr1424-110-enr 2008-10-03 7333 1.0\n",
        "110196 s3335-110-pcs 2008-07-25 5291 0.612412177986\n",
        "69686 hr1424-110-eas 2008-10-02 5281 0.611045828437\n",
        "94497 hr6049-110-eas 2008-09-29 5281 0.611045828437\n",
        "95298 hr6983-110-ih 2008-09-22 5280 0.609154929577\n",
        "\n",
        "\n",
        "69520 7567\n",
        "hr1424-110-enr\n",
        "69520 hr1424-110-enr 2008-10-03 7567 1.0\n",
        "69689 hr1424-110-eas 2008-10-02 7451 0.963917525773\n",
        "94500 hr6049-110-eas 2008-09-29 7451 0.963917525773\n",
        "110199 s3335-110-pcs 2008-07-25 7449 0.960548885077\n",
        "131793 s3478-110-is 2008-09-11 7449 0.960548885077\n",
        "\n",
        "\n",
        "69521 6991\n",
        "hr1424-110-enr\n",
        "69521 hr1424-110-enr 2008-10-03 6991 1.0\n",
        "91429 hr6587-110-ih 2008-07-23 3295 0.586516853933\n",
        "132775 s3322-110-is 2008-07-23 3296 0.586516853933\n",
        "69693 hr1424-110-eas 2008-10-02 2765 0.570926143025\n",
        "94504 hr6049-110-eas 2008-09-29 2765 0.570926143025\n",
        "\n",
        "\n",
        "69522 1374\n",
        "hr1424-110-enr\n",
        "69522 hr1424-110-enr 2008-10-03 1374 1.0\n",
        "94515 hr6049-110-eas 2008-09-29 1353 0.94\n",
        "118051 s2936-110-is 2008-04-29 1418 0.882352941176\n",
        "69704 hr1424-110-eas 2008-10-02 1428 0.875331564987\n",
        "110213 s3335-110-pcs 2008-07-25 1569 0.872340425532\n",
        "\n",
        "\n"
       ]
      }
     ],
     "prompt_number": 51
    },
    {
     "cell_type": "code",
     "collapsed": false,
     "input": [
      "top_matches_dates = []\n",
      "# [ query_idx, [ ( match_idx, date ), ... \n",
      "for query_idx, matches in tarp_top_matches_jaccard:\n",
      "    #print query_idx, len( data_list_sets[query_idx] )\n",
      "    match_dates = []\n",
      "    for match_idx, jaccard in matches:\n",
      "        match_entry = data_list_of_dicts[match_idx]\n",
      "        \n",
      "        if jaccard > 0.7:\n",
      "            match_dates.append( ( match_idx, match_entry['IssuedOn'] ) )\n",
      "    top_matches_dates.append( ( query_idx, match_dates ) )\n",
      "            #print match_idx, jaccard,  \n",
      "            #print match_entry['IssuedOn'], match_entry['Bill_id']\n",
      "        \n",
      "    #print \"\\n\""
     ],
     "language": "python",
     "metadata": {},
     "outputs": [],
     "prompt_number": 52
    },
    {
     "cell_type": "code",
     "collapsed": false,
     "input": [
      "for query_idx, matches in top_matches_dates:\n",
      "    for match_idx, date in matches:\n",
      "        #if \"2008-12\" in date:\n",
      "        if \"2007-01\" in date:\n",
      "            print query_idx, match_idx, date\n",
      "            "
     ],
     "language": "python",
     "metadata": {},
     "outputs": [
      {
       "output_type": "stream",
       "stream": "stdout",
       "text": [
        "69486 101234 2007-01-12\n"
       ]
      }
     ],
     "prompt_number": 53
    },
    {
     "cell_type": "code",
     "collapsed": false,
     "input": [
      "print data_list_of_dicts[69486]\n",
      "print data_list_of_dicts[101234]"
     ],
     "language": "python",
     "metadata": {},
     "outputs": [
      {
       "output_type": "stream",
       "stream": "stdout",
       "text": [
        "{'IssuedOn': '2008-10-03', 'bill_version': 'hr1424-110-enr', 'sec_sequence': '3', 'SecCount': '39', 'BillVer': 'enr', 'sec_id': '189191', 'text': \"SECTION 1. SHORT TITLE AND TABLE OF CONTENTS.    (a) Short Title.--This division may be cited as the ``Emergency Economic Stabilization Act of 2008''.    (b) Table of Contents.--The table of contents for this division is as follows:Sec. 1. Short title and table of contents.Sec. 2. Purposes.Sec. 3. Definitions.\", 'Bill_id': '437626', 'Cong': '110', 'sec_length': '320', 'bill_ver_id': '21413', 'BillNum': '1424', 'BillType': 'hr'}\n",
        "{'IssuedOn': '2007-01-12', 'bill_version': 's280-110-is', 'sec_sequence': '1', 'SecCount': '58', 'BillVer': 'is', 'sec_id': '220939', 'text': \"SECTION 1. SHORT TITLE; TABLE OF CONTENTS.    (a) Short Title.--This Act may be cited as the ``Climate Stewardship and Innovation Act of 2007''.    (b) Table of Contents.--The table of contents for this Act is as follows:Sec. 1. Short title; table of contents.Sec. 2. Purposes.Sec. 3. Definitions.\", 'Bill_id': '415193', 'Cong': '110', 'sec_length': '306', 'bill_ver_id': '24705', 'BillNum': '280', 'BillType': 's'}\n"
       ]
      }
     ],
     "prompt_number": 396
    },
    {
     "cell_type": "code",
     "collapsed": false,
     "input": [
      "last_section_matches = [ i for i in tarp_top_matches_jaccard if i[0] == 69522 ]\n",
      "for match_idx, jaccard in last_section_matches[0][1]:\n",
      "    #print match_idx, jaccard\n",
      "    if jaccard > 0.7:\n",
      "        possible_match = data_list_of_dicts[match_idx]\n",
      "        print possible_match['bill_version'], possible_match['IssuedOn'], possible_match['SecCount'], possible_match['sec_sequence']"
     ],
     "language": "python",
     "metadata": {},
     "outputs": [
      {
       "output_type": "stream",
       "stream": "stdout",
       "text": [
        "hr1424-110-enr 2008-10-03 39 39\n",
        "hr6049-110-eas 2008-09-29 129 129\n",
        "s2936-110-is 2008-04-29 12 11\n",
        "hr1424-110-eas 2008-10-02 182 182\n",
        "s3335-110-pcs 2008-07-25 99 96\n",
        "hr5790-110-ih 2008-04-15 7 5\n",
        "hr4351-110-rfs 2008-01-22 17 10\n",
        "hr4351-110-ih 2007-12-11 17 10\n",
        "hr4351-110-eh 2007-12-12 17 10\n",
        "hr6595-110-ih 2008-07-24 20 15\n",
        "hr7239-110-ih 2008-09-29 120 118\n",
        "hr6049-110-rh 2008-05-20 81 79\n",
        "hr6049-110-pcs 2008-06-05 81 79\n",
        "hr6049-110-eh 2008-05-21 81 79\n",
        "s3125-110-is 2008-06-12 86 84\n",
        "s3162-110-is 2008-06-19 31 22\n",
        "hr6049-110-ih 2008-05-14 85 83\n",
        "hr7060-110-ih 2008-09-25 76 74\n",
        "hr7060-110-pcs 2008-12-09 76 74\n",
        "hr7060-110-eh 2008-09-26 76 74\n",
        "hr7202-110-ih 2008-09-28 56 53\n",
        "hr6165-110-ih 2008-05-22 55 10\n",
        "hr3996-110-rh 2007-10-30 75 67\n",
        "hr3996-110-pcs 2007-11-14 75 67\n",
        "hr3996-110-eh 2007-11-09 75 67\n"
       ]
      }
     ],
     "prompt_number": 393
    },
    {
     "cell_type": "code",
     "collapsed": true,
     "input": [
      "print data_list_of_dicts[28857]\n",
      "#print data_list_of_dicts[69522]"
     ],
     "language": "python",
     "metadata": {},
     "outputs": [
      {
       "output_type": "stream",
       "stream": "stdout",
       "text": [
        "{'IssuedOn': '2008-12-09', 'bill_version': 'hr7060-110-pcs', 'sec_sequence': '74', 'SecCount': '76', 'BillVer': 'pcs', 'sec_id': '148562', 'text': \"SEC. 406. NONQUALIFIED DEFERRED COMPENSATION FROM CERTAIN TAX               INDIFFERENT PARTIES.    (a) In General.--Subpart B of part II of subchapter E of chapter 1 is amended by inserting after section 457 the following new section:``SEC. 457A. NONQUALIFIED DEFERRED COMPENSATION FROM CERTAIN TAX               INDIFFERENT PARTIES.    ``(a) In General.--Any compensation of a service provider which is deferred under a nonqualified deferred compensation plan of a nonqualified entity shall be includible in gross income when there is no substantial risk of forfeiture of the rights to such compensation.    ``(b) Nonqualified Entity.--For purposes of this section, the term `nonqualified entity' means--            ``(1) any foreign corporation unless substantially all of         its income is--                    ``(A) effectively connected with the conduct of a                 trade or business in the United States, or                    ``(B) subject to a comprehensive foreign income                 tax, and            ``(2) any partnership unless substantially all of its         income is, directly or indirectly, allocated to--                    ``(A) United States persons (other than persons                 exempt from tax under this title),                    ``(B) foreign persons with respect to whom such                 income is subject to a comprehensive foreign income                 tax,                    ``(C) foreign persons with respect to whom--                            ``(i) such income is effectively connected                         with the conduct of a trade or business within                         the United States, and                            ``(ii) a withholding tax is paid under                         section 1446 with respect to such income, or                    ``(D) organizations which are exempt from tax under                 this title if such income is unrelated business taxable                 income (as defined in section 512) with respect to such                 organization.    ``(c) Determinability of Amounts of Compensation.--            ``(1) In general.--If the amount of any compensation is not         determinable at the time that such compensation is otherwise         includible in gross income under subsection (a)--                    ``(A) such amount shall be so includible in gross                 income when determinable, and                    ``(B) the tax imposed under this chapter for the                 taxable year in which such compensation is includible                 in gross income shall be increased by the sum of--                            ``(i) the amount of interest determined                         under paragraph (2), and                            ``(ii) an amount equal to 20 percent of the                         amount of such compensation.            ``(2) Interest.--For purposes of paragraph (1)(B)(i), the         interest determined under this paragraph for any taxable year         is the amount of interest at the underpayment rate under         section 6621 plus 1 percentage point on the underpayments that         would have occurred had the deferred compensation been         includible in gross income for the taxable year in which first         deferred or, if later, the first taxable year in which such         deferred compensation is not subject to a substantial risk of         forfeiture.    ``(d) Other Definitions and Special Rules.--For purposes of this section--            ``(1) Substantial risk of forfeiture.--                    ``(A) In general.--The rights of a person to                 compensation shall be treated as subject to a                 substantial risk of forfeiture only if such person's                 rights to such compensation are conditioned upon the                 future performance of substantial services by any                 individual.                    ``(B) Exception for compensation based on gain                 recognized on an investment asset.--                            ``(i) In general.--To the extent provided                         in regulations prescribed by the Secretary, if                         compensation of a service provider is                         determined solely by reference to the amount of                         gain recognized on the disposition of an                         investment asset, such compensation shall be                         treated as subject to a substantial risk of                         forfeiture until the date of such disposition.                            ``(ii) Investment asset.--For purposes of                         clause (i), the term `investment asset' means                         any single asset (other than an investment fund                         or similar entity)--                                    ``(I) acquired directly by an                                 investment fund or similar entity,                                    ``(II) with respect to which such                                 entity does not (nor does any person                                 related to such entity) participate in                                 the active management of such asset (or                                 if such asset is an interest in an                                 entity, in the active management of the                                 activities of such entity), and                                    ``(III) substantially all of any                                 gain on the disposition of which (other                                 than such deferred compensation) is                                 allocated to investors in such entity.                            ``(iii) Coordination with special rule.--                        Paragraph (3)(B) shall not apply to any                         compensation to which clause (i) applies.            ``(2) Comprehensive foreign income tax.--The term         `comprehensive foreign income tax' means, with respect to any         foreign person, the income tax of a foreign country if--                    ``(A) such person is eligible for the benefits of a                 comprehensive income tax treaty between such foreign                 country and the United States, or                    ``(B) such person demonstrates to the satisfaction                 of the Secretary that such foreign country has a                 comprehensive income tax.            ``(3) Nonqualified deferred compensation plan.--                    ``(A) In general.--The term `nonqualified deferred                 compensation plan' has the meaning given such term                 under section 409A(d), except that such term shall                 include any plan that provides a right to compensation                 based on the appreciation in value of a specified                 number of equity units of the service recipient.                    ``(B) Exception.--Compensation shall not be treated                 as deferred for purposes of this section if the service                 provider receives payment of such compensation not                 later than 12 months after the end of the taxable year                 of the service recipient during which the right to the                 payment of such compensation is no longer subject to a                 substantial risk of forfeiture.            ``(4) Service provider.--The term `service provider' has         the meaning given such term in the regulations under section         409A, determined without regard to method of accounting.            ``(5) Exception for certain compensation with respect to         effectively connected income.--In the case of a foreign         corporation with income which is taxable under section 882,         this section shall not apply to compensation payable by such         foreign corporation which, had such compensation been paid in         cash on the date that such compensation ceased to be subject to         a substantial risk of forfeiture, would have been deductible by         such foreign corporation against such income.            ``(6) Exception with respect to employees of certain         subsidiaries.--This section shall not apply to compensation         deferred under a nonqualified deferred compensation plan of a         nonqualified entity if--                    ``(A) such compensation is payable to an employee                 of a domestic subsidiary of such entity, and                    ``(B) such compensation is reasonably expected to                 be deductible by such subsidiary under section                 404(a)(5) when such compensation is includible in                 income by such employee.            ``(7) Application of rules.--Rules similar to the rules of         paragraphs (5) and (6) of section 409A(d) shall apply.    ``(e) Regulations.--The Secretary shall prescribe such regulations as may be necessary or appropriate to carry out the purposes of this section, including regulations--            ``(1) disregarding a substantial risk of forfeiture in         cases where necessary to carry out the purposes of this         section, and            ``(2) providing appropriate treatment where an individual         who was employed by an employer which is not a nonqualified         entity is temporarily employed by a nonqualified entity which         is related to such employer.''.    (b) Conforming Amendment.--Section 26(b)(2) is amended by striking ``and'' at the end of subparagraph (V), by striking the period at the end of subparagraph (W) and inserting ``, and'', and by adding at the end the following new subparagraph:                    ``(X) section 457A(c)(1)(B) (relating to                 determinability of amounts of compensation).''.    (c) Clerical Amendment.--The table of sections of subpart B of part II of subchapter E of chapter 1 is amended by inserting after the item relating to section 457 the following new item:``Sec. 457A. Nonqualified deferred compensation from certain tax                             indifferent parties.''.    (d) Effective Date.--            (1) In general.--Except as otherwise provided in this         subsection, the amendments made by this section shall apply to         amounts deferred which are attributable to services performed         after December 31, 2008.            (2) Application to existing deferrals.--In the case of any         amount deferred to which the amendments made by this section do         not apply solely by reason of the fact that the amount is         attributable to services performed before January 1, 2009, to         the extent such amount is not includible in gross income in a         taxable year beginning before 2018, such amounts shall be         includible in gross income in the later of--                    (A) the last taxable year beginning before 2018, or                    (B) the taxable year in which there is no                 substantial risk of forfeiture of the rights to such                 compensation (determined in the same manner as                 determined for purposes of section 457A of the Internal                 Revenue Code of 1986, as added by this section).            (3) Accelerated payments.--No later than 120 days after the         date of the enactment of this Act, the Secretary shall issue         guidance providing a limited period of time during which a         nonqualified deferred compensation arrangement attributable to         services performed on or before December 31, 2008, may, without         violating the requirements of section 409A(a) of the Internal         Revenue Code of 1986, be amended to conform the date of         distribution to the date the amounts are required to be         included in income.            (4) Certain back-to-back arrangements.--If the taxpayer is         also a service recipient and maintains one or more nonqualified         deferred compensation arrangements for its service providers         under which any amount is attributable to services performed on         or before December 31, 2008, the guidance issued under         paragraph (4) shall permit such arrangements to be amended to         conform the dates of distribution under such arrangement to the         date amounts are required to be included in the income of such         taxpayer under this subsection.            (5) Accelerated payment not treated as material         modification.--Any amendment to a nonqualified deferred         compensation arrangement made pursuant to paragraph (4) or (5)         shall not be treated as a material modification of the         arrangement for purposes of section 409A of the Internal         Revenue Code of 1986.            (6) Certain preexisting arrangements.--If, pursuant to a         written binding contract entered into on or before December 31,         2007, any portion of compensation payable under such contract         for a period is determined as a portion of the amount of gain         recognized on the disposition during such period of a specified         asset, the amendments made by this section shall not apply to         the portion of compensation attributable to such disposition         notwithstanding the fact that such portion of compensation may         be reduced by realized losses or depreciation in the value of         other assets during such period or a prior period or be         attributable in part to services performed after December 31,         2008, but only if--                    (A) payment of such portion of compensation is                 received by the service provider and included in its                 gross income no later than the earlier of--                            (i) 12 months after the end of the taxable                         year of the service recipient during which the                         disposition of the specified asset occurs, or                            (ii) the last taxable year of the service                         provider beginning before January 1, 2018; and                    (B) the specified asset is held by the service                 recipient on the date of the enactment of this section.\", 'Bill_id': '443262', 'Cong': '110', 'sec_length': '14521', 'bill_ver_id': '16788', 'BillNum': '7060', 'BillType': 'hr'}\n"
       ]
      }
     ],
     "prompt_number": 378
    },
    {
     "cell_type": "code",
     "collapsed": true,
     "input": [
      "bill = [ i for i in data_list_of_dicts if i['bill_version'] == 'hr7201-110-ih' ]\n",
      "for sec in bill[:2]:\n",
      "    print sec"
     ],
     "language": "python",
     "metadata": {},
     "outputs": [
      {
       "output_type": "stream",
       "stream": "stdout",
       "text": [
        "{'IssuedOn': '2008-09-11', 'bill_version': 's3478-110-is', 'sec_sequence': '1', 'SecCount': '58', 'BillVer': 'is', 'sec_id': '251442', 'text': \"SECTION 1. SHORT TITLE, ETC.    (a) Short Title.--This Act may be cited as the ``Energy Independence and Investment Act of 2008''.    (b) Reference.--Except as otherwise expressly provided, whenever in this Act an amendment or repeal is expressed in terms of an amendment to, or repeal of, a section or other provision, the reference shall be considered to be made to a section or other provision of the Internal Revenue Code of 1986.    (c) Table of Contents.--The table of contents for this Act is as follows:Sec. 1. Short title, etc.\", 'Bill_id': '418391', 'Cong': '110', 'sec_length': '548', 'bill_ver_id': '28046', 'BillNum': '3478', 'BillType': 's'}\n",
        "{'IssuedOn': '2008-09-11', 'bill_version': 's3478-110-is', 'sec_sequence': '2', 'SecCount': '58', 'BillVer': 'is', 'sec_id': '251443', 'text': '                 TITLE I--ENERGY PRODUCTION INCENTIVES                Subtitle A--Renewable Energy IncentivesSec. 101. Renewable energy credit.Sec. 102. Production credit for electricity produced from marine                             renewables.Sec. 103. Energy credit.Sec. 104. Credit for residential energy efficient property.Sec. 105. New clean renewable energy bonds.Sec. 106. Energy credit for small wind property.Sec. 107. Energy credit for geothermal heat pump systems.           Subtitle B--Carbon Mitigation and Coal ProvisionsSec. 111. Expansion and modification of advanced coal project                             investment credit.Sec. 112. Expansion and modification of coal gasification investment                             credit.Sec. 113. Temporary increase in coal excise tax; funding of Black Lung                             Disability Trust Fund.Sec. 114. Special rules for refund of the coal excise tax to certain                             coal producers and exporters.Sec. 115. Tax credit for carbon dioxide sequestration.Sec. 116. Carbon audit of the tax code.', 'Bill_id': '418391', 'Cong': '110', 'sec_length': '1114', 'bill_ver_id': '28046', 'BillNum': '3478', 'BillType': 's'}\n"
       ]
      }
     ],
     "prompt_number": 365
    },
    {
     "cell_type": "code",
     "collapsed": true,
     "input": [
      "#print data_list_of_dicts[69496]\n",
      "target_idx = 69497\n",
      "print data_list_of_dicts[target_idx] \n",
      "print\n",
      "print [ i for i in top_matches_dates if i[0] == target_idx ]\n",
      "print\n",
      "jaccard_scores = [ i for i in tarp_top_matches_jaccard if i[0] == target_idx ]\n",
      "for query_idx, matches in jaccard_scores:\n",
      "    for match_idx, score in matches:\n",
      "        if score > 0.7:\n",
      "            print score\n",
      "            print data_list_of_dicts[match_idx]\n",
      "            print\n",
      "\n",
      "\n",
      "#print data_list_of_dicts[69498]"
     ],
     "language": "python",
     "metadata": {},
     "outputs": [
      {
       "output_type": "stream",
       "stream": "stdout",
       "text": [
        "{'IssuedOn': '2008-10-03', 'bill_version': 'hr1424-110-enr', 'sec_sequence': '14', 'SecCount': '39', 'BillVer': 'enr', 'sec_id': '189202', 'text': '                  TITLE I--ENERGY PRODUCTION INCENTIVES                 Subtitle A--Renewable Energy IncentivesSec. 101. Renewable energy credit.Sec. 102. Production credit for electricity produced from marine           renewables.Sec. 103. Energy credit.Sec. 104. Energy credit for small wind property.Sec. 105. Energy credit for geothermal heat pump systems.Sec. 106. Credit for residential energy efficient property.Sec. 107. New clean renewable energy bonds.Sec. 108. Credit for steel industry fuel.Sec. 109. Special rule to implement FERC and State electric           restructuring policy.            Subtitle B--Carbon Mitigation and Coal ProvisionsSec. 111. Expansion and modification of advanced coal project investment           credit.Sec. 112. Expansion and modification of coal gasification investment           credit.Sec. 113. Temporary increase in coal excise tax; funding of Black Lung           Disability Trust Fund.Sec. 114. Special rules for refund of the coal excise tax to certain           coal producers and exporters.Sec. 115. Tax credit for carbon dioxide sequestration.Sec. 116. Certain income and gains relating to industrial source carbon           dioxide treated as qualifying income for publicly traded           partnerships.Sec. 117. Carbon audit of the tax code.', 'Bill_id': '437626', 'Cong': '110', 'sec_length': '1329', 'bill_ver_id': '21413', 'BillNum': '1424', 'BillType': 'hr'}\n",
        "\n",
        "[(69497, [(69497, '2008-10-03'), (69578, '2008-10-02'), (94388, '2008-09-29'), (131738, '2008-09-11')])]\n",
        "\n",
        "1.0\n",
        "{'IssuedOn': '2008-10-03', 'bill_version': 'hr1424-110-enr', 'sec_sequence': '14', 'SecCount': '39', 'BillVer': 'enr', 'sec_id': '189202', 'text': '                  TITLE I--ENERGY PRODUCTION INCENTIVES                 Subtitle A--Renewable Energy IncentivesSec. 101. Renewable energy credit.Sec. 102. Production credit for electricity produced from marine           renewables.Sec. 103. Energy credit.Sec. 104. Energy credit for small wind property.Sec. 105. Energy credit for geothermal heat pump systems.Sec. 106. Credit for residential energy efficient property.Sec. 107. New clean renewable energy bonds.Sec. 108. Credit for steel industry fuel.Sec. 109. Special rule to implement FERC and State electric           restructuring policy.            Subtitle B--Carbon Mitigation and Coal ProvisionsSec. 111. Expansion and modification of advanced coal project investment           credit.Sec. 112. Expansion and modification of coal gasification investment           credit.Sec. 113. Temporary increase in coal excise tax; funding of Black Lung           Disability Trust Fund.Sec. 114. Special rules for refund of the coal excise tax to certain           coal producers and exporters.Sec. 115. Tax credit for carbon dioxide sequestration.Sec. 116. Certain income and gains relating to industrial source carbon           dioxide treated as qualifying income for publicly traded           partnerships.Sec. 117. Carbon audit of the tax code.', 'Bill_id': '437626', 'Cong': '110', 'sec_length': '1329', 'bill_ver_id': '21413', 'BillNum': '1424', 'BillType': 'hr'}\n",
        "\n",
        "1.0\n",
        "{'IssuedOn': '2008-10-02', 'bill_version': 'hr1424-110-eas', 'sec_sequence': '56', 'SecCount': '182', 'BillVer': 'eas', 'sec_id': '189283', 'text': '                 TITLE I--ENERGY PRODUCTION INCENTIVES                Subtitle A--Renewable Energy IncentivesSec. 101. Renewable energy credit.Sec. 102. Production credit for electricity produced from marine                             renewables.Sec. 103. Energy credit.Sec. 104. Energy credit for small wind property.Sec. 105. Energy credit for geothermal heat pump systems.Sec. 106. Credit for residential energy efficient property.Sec. 107. New clean renewable energy bonds.Sec. 108. Credit for steel industry fuel.Sec. 109. Special rule to implement FERC and State electric                             restructuring policy.           Subtitle B--Carbon Mitigation and Coal ProvisionsSec. 111. Expansion and modification of advanced coal project                             investment credit.Sec. 112. Expansion and modification of coal gasification investment                             credit.Sec. 113. Temporary increase in coal excise tax; funding of Black Lung                             Disability Trust Fund.Sec. 114. Special rules for refund of the coal excise tax to certain                             coal producers and exporters.Sec. 115. Tax credit for carbon dioxide sequestration.Sec. 116. Certain income and gains relating to industrial source carbon                             dioxide treated as qualifying income for                             publicly traded partnerships.Sec. 117. Carbon audit of the tax code.', 'Bill_id': '437626', 'Cong': '110', 'sec_length': '1470', 'bill_ver_id': '21414', 'BillNum': '1424', 'BillType': 'hr'}\n",
        "\n",
        "1.0\n",
        "{'IssuedOn': '2008-09-29', 'bill_version': 'hr6049-110-eas', 'sec_sequence': '2', 'SecCount': '129', 'BillVer': 'eas', 'sec_id': '214093', 'text': '                 TITLE I--ENERGY PRODUCTION INCENTIVES                Subtitle A--Renewable Energy IncentivesSec. 101. Renewable energy credit.Sec. 102. Production credit for electricity produced from marine                             renewables.Sec. 103. Energy credit.Sec. 104. Energy credit for small wind property.Sec. 105. Energy credit for geothermal heat pump systems.Sec. 106. Credit for residential energy efficient property.Sec. 107. New clean renewable energy bonds.Sec. 108. Credit for steel industry fuel.Sec. 109. Special rule to implement FERC and State electric                             restructuring policy.           Subtitle B--Carbon Mitigation and Coal ProvisionsSec. 111. Expansion and modification of advanced coal project                             investment credit.Sec. 112. Expansion and modification of coal gasification investment                             credit.Sec. 113. Temporary increase in coal excise tax; funding of Black Lung                             Disability Trust Fund.Sec. 114. Special rules for refund of the coal excise tax to certain                             coal producers and exporters.Sec. 115. Tax credit for carbon dioxide sequestration.Sec. 116. Certain income and gains relating to industrial source carbon                             dioxide treated as qualifying income for                             publicly traded partnerships.Sec. 117. Carbon audit of the tax code.', 'Bill_id': '442251', 'Cong': '110', 'sec_length': '1470', 'bill_ver_id': '23869', 'BillNum': '6049', 'BillType': 'hr'}\n",
        "\n",
        "0.747572815534\n",
        "{'IssuedOn': '2008-09-11', 'bill_version': 's3478-110-is', 'sec_sequence': '2', 'SecCount': '58', 'BillVer': 'is', 'sec_id': '251443', 'text': '                 TITLE I--ENERGY PRODUCTION INCENTIVES                Subtitle A--Renewable Energy IncentivesSec. 101. Renewable energy credit.Sec. 102. Production credit for electricity produced from marine                             renewables.Sec. 103. Energy credit.Sec. 104. Credit for residential energy efficient property.Sec. 105. New clean renewable energy bonds.Sec. 106. Energy credit for small wind property.Sec. 107. Energy credit for geothermal heat pump systems.           Subtitle B--Carbon Mitigation and Coal ProvisionsSec. 111. Expansion and modification of advanced coal project                             investment credit.Sec. 112. Expansion and modification of coal gasification investment                             credit.Sec. 113. Temporary increase in coal excise tax; funding of Black Lung                             Disability Trust Fund.Sec. 114. Special rules for refund of the coal excise tax to certain                             coal producers and exporters.Sec. 115. Tax credit for carbon dioxide sequestration.Sec. 116. Carbon audit of the tax code.', 'Bill_id': '418391', 'Cong': '110', 'sec_length': '1114', 'bill_ver_id': '28046', 'BillNum': '3478', 'BillType': 's'}\n",
        "\n"
       ]
      }
     ],
     "prompt_number": 54
    },
    {
     "cell_type": "code",
     "collapsed": true,
     "input": [
      "for query_idx, matches in top_matches_dates:\n",
      "\n",
      "    if len( matches ) > 20:\n",
      "        print query_idx, len(matches), len( data_list_of_dicts[query_idx]['text'].split() )\n",
      "        print data_list_of_dicts[query_idx]['text']\n",
      "        print\n",
      "        if  len( data_list_of_dicts[query_idx]['text'].split() ) < 200:\n",
      "            for match_idx, date in matches:\n",
      "                print match_idx, data_list_of_dicts[match_idx]\n",
      "                #print data_list_of_dicts[match_idx]['text']\n",
      "                print\n",
      "            \n",
      "                \n",
      "    #for match_idx, date in matches:\n",
      "    #    #if \"2008-12\" in date:\n",
      "    #    #    print query_idx, match_idx, date"
     ],
     "language": "python",
     "metadata": {},
     "outputs": [
      {
       "output_type": "stream",
       "stream": "stdout",
       "text": [
        "69496 40 89\n",
        "SEC. 1. SHORT TITLE, ETC.    (a) Short Title.--This division may be cited as the ``Energy Improvement and Extension Act of 2008''.    (b) Reference.--Except as otherwise expressly provided, whenever in this division an amendment or repeal is expressed in terms of an amendment to, or repeal of, a section or other provision, the reference shall be considered to be made to a section or other provision of the Internal Revenue Code of 1986.    (c) Table of Contents.--The table of contents for this division is as follows:Sec. 1. Short title, etc.\n",
        "\n",
        "69496 {'IssuedOn': '2008-10-03', 'bill_version': 'hr1424-110-enr', 'sec_sequence': '13', 'SecCount': '39', 'BillVer': 'enr', 'sec_id': '189201', 'text': \"SEC. 1. SHORT TITLE, ETC.    (a) Short Title.--This division may be cited as the ``Energy Improvement and Extension Act of 2008''.    (b) Reference.--Except as otherwise expressly provided, whenever in this division an amendment or repeal is expressed in terms of an amendment to, or repeal of, a section or other provision, the reference shall be considered to be made to a section or other provision of the Internal Revenue Code of 1986.    (c) Table of Contents.--The table of contents for this division is as follows:Sec. 1. Short title, etc.\", 'Bill_id': '437626', 'Cong': '110', 'sec_length': '559', 'bill_ver_id': '21413', 'BillNum': '1424', 'BillType': 'hr'}\n",
        "\n",
        "69577 {'IssuedOn': '2008-10-02', 'bill_version': 'hr1424-110-eas', 'sec_sequence': '55', 'SecCount': '182', 'BillVer': 'eas', 'sec_id': '189282', 'text': \"SECTION 1. SHORT TITLE, ETC.    (a) Short Title.--This division may be cited as the ``Energy Improvement and Extension Act of 2008''.    (b) Reference.--Except as otherwise expressly provided, whenever in this division an amendment or repeal is expressed in terms of an amendment to, or repeal of, a section or other provision, the reference shall be considered to be made to a section or other provision of the Internal Revenue Code of 1986.    (c) Table of Contents.--The table of contents for this division is as follows:Sec. 1. Short title, etc.\", 'Bill_id': '437626', 'Cong': '110', 'sec_length': '562', 'bill_ver_id': '21414', 'BillNum': '1424', 'BillType': 'hr'}\n",
        "\n",
        "81253 {'IssuedOn': '2008-09-28', 'bill_version': 'hr7201-110-ih', 'sec_sequence': '1', 'SecCount': '33', 'BillVer': 'ih', 'sec_id': '200958', 'text': \"SECTION 1. SHORT TITLE, ETC.    (a) Short Title.--This Act may be cited as the ``Energy Improvement and Extension Act of 2008''.    (b) Reference.--Except as otherwise expressly provided, whenever in this Act an amendment or repeal is expressed in terms of an amendment to, or repeal of, a section or other provision, the reference shall be considered to be made to a section or other provision of the Internal Revenue Code of 1986.    (c) Table of Contents.--The table of contents for this Act is as follows:Sec. 1. Short title, etc.\", 'Bill_id': '443403', 'Cong': '110', 'sec_length': '546', 'bill_ver_id': '22542', 'BillNum': '7201', 'BillType': 'hr'}\n",
        "\n",
        "94387 {'IssuedOn': '2008-09-29', 'bill_version': 'hr6049-110-eas', 'sec_sequence': '1', 'SecCount': '129', 'BillVer': 'eas', 'sec_id': '214092', 'text': \"SECTION 1. SHORT TITLE, ETC.    (a) Short Title.--This Act may be cited as the ``Energy Improvement and Extension Act of 2008''.    (b) Reference.--Except as otherwise expressly provided, whenever in this Act an amendment or repeal is expressed in terms of an amendment to, or repeal of, a section or other provision, the reference shall be considered to be made to a section or other provision of the Internal Revenue Code of 1986.    (c) Table of Contents.--The table of contents for this Act is as follows:Sec. 1. Short title, etc.\", 'Bill_id': '442251', 'Cong': '110', 'sec_length': '547', 'bill_ver_id': '23869', 'BillNum': '6049', 'BillType': 'hr'}\n",
        "\n",
        "94516 {'IssuedOn': '2008-05-14', 'bill_version': 'hr6049-110-ih', 'sec_sequence': '1', 'SecCount': '85', 'BillVer': 'ih', 'sec_id': '214221', 'text': \"SECTION 1. SHORT TITLE, ETC.    (a) Short Title.--This Act may be cited as the ``Energy and Tax Extenders Act of 2008''.    (b) Reference.--Except as otherwise expressly provided, whenever in this Act an amendment or repeal is expressed in terms of an amendment to, or repeal of, a section or other provision, the reference shall be considered to be made to a section or other provision of the Internal Revenue Code of 1986.    (c) Table of Contents.--The table of contents for this Act is as follows:Sec. 1. Short title, etc.\", 'Bill_id': '442251', 'Cong': '110', 'sec_length': '538', 'bill_ver_id': '23870', 'BillNum': '6049', 'BillType': 'hr'}\n",
        "\n",
        "131737 {'IssuedOn': '2008-09-11', 'bill_version': 's3478-110-is', 'sec_sequence': '1', 'SecCount': '58', 'BillVer': 'is', 'sec_id': '251442', 'text': \"SECTION 1. SHORT TITLE, ETC.    (a) Short Title.--This Act may be cited as the ``Energy Independence and Investment Act of 2008''.    (b) Reference.--Except as otherwise expressly provided, whenever in this Act an amendment or repeal is expressed in terms of an amendment to, or repeal of, a section or other provision, the reference shall be considered to be made to a section or other provision of the Internal Revenue Code of 1986.    (c) Table of Contents.--The table of contents for this Act is as follows:Sec. 1. Short title, etc.\", 'Bill_id': '418391', 'Cong': '110', 'sec_length': '548', 'bill_ver_id': '28046', 'BillNum': '3478', 'BillType': 's'}\n",
        "\n",
        "94601 {'IssuedOn': '2008-05-20', 'bill_version': 'hr6049-110-rh', 'sec_sequence': '1', 'SecCount': '81', 'BillVer': 'rh', 'sec_id': '214306', 'text': \"SECTION 1. SHORT TITLE, ETC.    (a) Short Title.--This Act may be cited as the ``Renewable Energy and Job Creation Act of 2008''.    (b) Reference.--Except as otherwise expressly provided, whenever in this Act an amendment or repeal is expressed in terms of an amendment to, or repeal of, a section or other provision, the reference shall be considered to be made to a section or other provision of the Internal Revenue Code of 1986.    (c) Table of Contents.--The table of contents for this Act is as follows:Sec. 1. Short title, etc.\", 'Bill_id': '442251', 'Cong': '110', 'sec_length': '548', 'bill_ver_id': '23871', 'BillNum': '6049', 'BillType': 'hr'}\n",
        "\n",
        "94682 {'IssuedOn': '2008-06-05', 'bill_version': 'hr6049-110-pcs', 'sec_sequence': '1', 'SecCount': '81', 'BillVer': 'pcs', 'sec_id': '214387', 'text': \"SECTION 1. SHORT TITLE, ETC.    (a) Short Title.--This Act may be cited as the ``Renewable Energy and Job Creation Act of 2008''.    (b) Reference.--Except as otherwise expressly provided, whenever in this Act an amendment or repeal is expressed in terms of an amendment to, or repeal of, a section or other provision, the reference shall be considered to be made to a section or other provision of the Internal Revenue Code of 1986.    (c) Table of Contents.--The table of contents for this Act is as follows:Sec. 1. Short title, etc.\", 'Bill_id': '442251', 'Cong': '110', 'sec_length': '547', 'bill_ver_id': '23872', 'BillNum': '6049', 'BillType': 'hr'}\n",
        "\n",
        "94763 {'IssuedOn': '2008-05-21', 'bill_version': 'hr6049-110-eh', 'sec_sequence': '1', 'SecCount': '81', 'BillVer': 'eh', 'sec_id': '214468', 'text': \"SECTION 1. SHORT TITLE, ETC.    (a) Short Title.--This Act may be cited as the ``Renewable Energy and Job Creation Act of 2008''.    (b) Reference.--Except as otherwise expressly provided, whenever in this Act an amendment or repeal is expressed in terms of an amendment to, or repeal of, a section or other provision, the reference shall be considered to be made to a section or other provision of the Internal Revenue Code of 1986.    (c) Table of Contents.--The table of contents for this Act is as follows:Sec. 1. Short title, etc.\", 'Bill_id': '442251', 'Cong': '110', 'sec_length': '547', 'bill_ver_id': '23873', 'BillNum': '6049', 'BillType': 'hr'}\n",
        "\n",
        "134106 {'IssuedOn': '2008-06-12', 'bill_version': 's3125-110-is', 'sec_sequence': '1', 'SecCount': '86', 'BillVer': 'is', 'sec_id': '253811', 'text': \"SECTION 1. SHORT TITLE, ETC.    (a) Short Title.--This Act may be cited as the ``Energy Independence and Tax Relief Act of 2008''.    (b) Reference.--Except as otherwise expressly provided, whenever in this Act an amendment or repeal is expressed in terms of an amendment to, or repeal of, a section or other provision, the reference shall be considered to be made to a section or other provision of the Internal Revenue Code of 1986.    (c) Table of Contents.--The table of contents for this Act is as follows:Sec. 1. Short title, etc.\", 'Bill_id': '418038', 'Cong': '110', 'sec_length': '548', 'bill_ver_id': '28327', 'BillNum': '3125', 'BillType': 's'}\n",
        "\n",
        "28708 {'IssuedOn': '2008-09-25', 'bill_version': 'hr7060-110-ih', 'sec_sequence': '1', 'SecCount': '76', 'BillVer': 'ih', 'sec_id': '148413', 'text': \"SECTION 1. SHORT TITLE, ETC.    (a) Short Title.--This Act may be cited as the ``Renewable Energy and Job Creation Tax Act of 2008''.    (b) Reference.--Except as otherwise expressly provided, whenever in this Act an amendment or repeal is expressed in terms of an amendment to, or repeal of, a section or other provision, the reference shall be considered to be made to a section or other provision of the Internal Revenue Code of 1986.    (c) Table of Contents.--The table of contents for this Act is as follows:Sec. 1. Short title, etc.\", 'Bill_id': '443262', 'Cong': '110', 'sec_length': '551', 'bill_ver_id': '16787', 'BillNum': '7060', 'BillType': 'hr'}\n",
        "\n",
        "28784 {'IssuedOn': '2008-12-09', 'bill_version': 'hr7060-110-pcs', 'sec_sequence': '1', 'SecCount': '76', 'BillVer': 'pcs', 'sec_id': '148489', 'text': \"SECTION 1. SHORT TITLE, ETC.    (a) Short Title.--This Act may be cited as the ``Renewable Energy and Job Creation Tax Act of 2008''.    (b) Reference.--Except as otherwise expressly provided, whenever in this Act an amendment or repeal is expressed in terms of an amendment to, or repeal of, a section or other provision, the reference shall be considered to be made to a section or other provision of the Internal Revenue Code of 1986.    (c) Table of Contents.--The table of contents for this Act is as follows:Sec. 1. Short title, etc.\", 'Bill_id': '443262', 'Cong': '110', 'sec_length': '551', 'bill_ver_id': '16788', 'BillNum': '7060', 'BillType': 'hr'}\n",
        "\n",
        "28860 {'IssuedOn': '2008-09-26', 'bill_version': 'hr7060-110-eh', 'sec_sequence': '1', 'SecCount': '76', 'BillVer': 'eh', 'sec_id': '148565', 'text': \"SECTION 1. SHORT TITLE, ETC.    (a) Short Title.--This Act may be cited as the ``Renewable Energy and Job Creation Tax Act of 2008''.    (b) Reference.--Except as otherwise expressly provided, whenever in this Act an amendment or repeal is expressed in terms of an amendment to, or repeal of, a section or other provision, the reference shall be considered to be made to a section or other provision of the Internal Revenue Code of 1986.    (c) Table of Contents.--The table of contents for this Act is as follows:Sec. 1. Short title, etc.\", 'Bill_id': '443262', 'Cong': '110', 'sec_length': '551', 'bill_ver_id': '16789', 'BillNum': '7060', 'BillType': 'hr'}\n",
        "\n",
        "110118 {'IssuedOn': '2008-07-25', 'bill_version': 's3335-110-pcs', 'sec_sequence': '1', 'SecCount': '99', 'BillVer': 'pcs', 'sec_id': '229823', 'text': \"SECTION 1. SHORT TITLE, ETC.    (a) Short Title.--This Act may be cited as the ``Jobs, Energy, Families, and Disaster Relief Act of 2008''.    (b) Reference.--Except as otherwise expressly provided, whenever in this Act an amendment or repeal is expressed in terms of an amendment to, or repeal of, a section or other provision, the reference shall be considered to be made to a section or other provision of the Internal Revenue Code of 1986.    (c) Table of Contents.--The table of contents for this Act is as follows:Sec. 1. Short title, etc.\", 'Bill_id': '418248', 'Cong': '110', 'sec_length': '557', 'bill_ver_id': '25819', 'BillNum': '3335', 'BillType': 's'}\n",
        "\n",
        "59610 {'IssuedOn': '2008-09-28', 'bill_version': 'hr7202-110-ih', 'sec_sequence': '1', 'SecCount': '56', 'BillVer': 'ih', 'sec_id': '179315', 'text': \"SECTION 1. SHORT TITLE, ETC.    (a) Short Title.--This Act may be cited as the ``Temporary Tax Relief Act of 2008''.    (b) Reference.--Except as otherwise expressly provided, whenever in this Act an amendment or repeal is expressed in terms of an amendment to, or repeal of, a section or other provision, the reference shall be considered to be made to a section or other provision of the Internal Revenue Code of 1986.    (c) Table of Contents.--The table of contents for this Act is as follows:Sec. 1. Short title, etc.\", 'Bill_id': '443404', 'Cong': '110', 'sec_length': '534', 'bill_ver_id': '20407', 'BillNum': '7202', 'BillType': 'hr'}\n",
        "\n",
        "27181 {'IssuedOn': '2008-05-28', 'bill_version': 'hr6081-110-enr', 'sec_sequence': '2', 'SecCount': '10', 'BillVer': 'enr', 'sec_id': '146886', 'text': \"SECTION 1. SHORT TITLE, ETC.    (a) Short Title.--This Act may be cited as the ``Heroes Earnings Assistance and Relief Tax Act of 2008''.    (b) Reference.--Except as otherwise expressly provided, whenever in this Act an amendment or repeal is expressed in terms of an amendment to, or repeal of, a section or other provision, the reference shall be considered to be made to a section or other provision of the Internal Revenue Code of 1986.    (c) Table of Contents.--The table of contents for this Act is as follows:Sec. 1. Short title, etc.\", 'Bill_id': '442283', 'Cong': '110', 'sec_length': '555', 'bill_ver_id': '16570', 'BillNum': '6081', 'BillType': 'hr'}\n",
        "\n",
        "27190 {'IssuedOn': '2008-05-16', 'bill_version': 'hr6081-110-ih', 'sec_sequence': '1', 'SecCount': '32', 'BillVer': 'ih', 'sec_id': '146895', 'text': \"SECTION 1. SHORT TITLE, ETC.    (a) Short Title.--This Act may be cited as the ``Heroes Earnings Assistance and Relief Tax Act of 2008''.    (b) Reference.--Except as otherwise expressly provided, whenever in this Act an amendment or repeal is expressed in terms of an amendment to, or repeal of, a section or other provision, the reference shall be considered to be made to a section or other provision of the Internal Revenue Code of 1986.    (c) Table of Contents.--The table of contents for this Act is as follows:Sec. 1. Short title, etc.\", 'Bill_id': '442283', 'Cong': '110', 'sec_length': '555', 'bill_ver_id': '16571', 'BillNum': '6081', 'BillType': 'hr'}\n",
        "\n",
        "27222 {'IssuedOn': '2008-05-20', 'bill_version': 'hr6081-110-eh', 'sec_sequence': '1', 'SecCount': '32', 'BillVer': 'eh', 'sec_id': '146927', 'text': \"SECTION 1. SHORT TITLE, ETC.    (a) Short Title.--This Act may be cited as the ``Heroes Earnings Assistance and Relief Tax Act of 2008''.    (b) Reference.--Except as otherwise expressly provided, whenever in this Act an amendment or repeal is expressed in terms of an amendment to, or repeal of, a section or other provision, the reference shall be considered to be made to a section or other provision of the Internal Revenue Code of 1986.    (c) Table of Contents.--The table of contents for this Act is as follows:Sec. 1. Short title, etc.\", 'Bill_id': '442283', 'Cong': '110', 'sec_length': '555', 'bill_ver_id': '16572', 'BillNum': '6081', 'BillType': 'hr'}\n",
        "\n",
        "27254 {'IssuedOn': '2008-05-21', 'bill_version': 'hr6081-110-rds', 'sec_sequence': '1', 'SecCount': '32', 'BillVer': 'rds', 'sec_id': '146959', 'text': \"SECTION 1. SHORT TITLE, ETC.    (a) Short Title.--This Act may be cited as the ``Heroes Earnings Assistance and Relief Tax Act of 2008''.    (b) Reference.--Except as otherwise expressly provided, whenever in this Act an amendment or repeal is expressed in terms of an amendment to, or repeal of, a section or other provision, the reference shall be considered to be made to a section or other provision of the Internal Revenue Code of 1986.    (c) Table of Contents.--The table of contents for this Act is as follows:Sec. 1. Short title, etc.\", 'Bill_id': '442283', 'Cong': '110', 'sec_length': '555', 'bill_ver_id': '16573', 'BillNum': '6081', 'BillType': 'hr'}\n",
        "\n",
        "4158 {'IssuedOn': '2007-10-25', 'bill_version': 'hr3970-110-ih', 'sec_sequence': '1', 'SecCount': '77', 'BillVer': 'ih', 'sec_id': '123863', 'text': \"SECTION 1. SHORT TITLE, ETC.    (a) Short Title.--This Act may be cited as the ``Tax Reduction and Reform Act of 2007''.    (b) Reference.--Except as otherwise expressly provided, whenever in this Act an amendment or repeal is expressed in terms of an amendment to, or repeal of, a section or other provision, the reference shall be considered to be made to a section or other provision of the Internal Revenue Code of 1986.    (c) Table of Contents.--The table of contents for this Act is as follows:Sec. 1. Short title, etc.\", 'Bill_id': '440172', 'Cong': '110', 'sec_length': '538', 'bill_ver_id': '14219', 'BillNum': '3970', 'BillType': 'hr'}\n",
        "\n",
        "17678 {'IssuedOn': '2008-06-26', 'bill_version': 'hr6275-110-rfs', 'sec_sequence': '1', 'SecCount': '13', 'BillVer': 'rfs', 'sec_id': '137383', 'text': \"SECTION 1. SHORT TITLE, ETC.    (a) Short Title.--This Act may be cited as the ``Alternative Minimum Tax Relief Act of 2008''.    (b) Reference.--Except as otherwise expressly provided, whenever in this Act an amendment or repeal is expressed in terms of an amendment to, or repeal of, a section or other provision, the reference shall be considered to be made to a section or other provision of the Internal Revenue Code of 1986.    (c) Table of Contents.--The table of contents for this Act is as follows:Sec. 1. Short title, etc.\", 'Bill_id': '442477', 'Cong': '110', 'sec_length': '544', 'bill_ver_id': '15373', 'BillNum': '6275', 'BillType': 'hr'}\n",
        "\n",
        "17691 {'IssuedOn': '2008-06-17', 'bill_version': 'hr6275-110-ih', 'sec_sequence': '1', 'SecCount': '13', 'BillVer': 'ih', 'sec_id': '137396', 'text': \"SECTION 1. SHORT TITLE, ETC.    (a) Short Title.--This Act may be cited as the ``Alternative Minimum Tax Relief Act of 2008''.    (b) Reference.--Except as otherwise expressly provided, whenever in this Act an amendment or repeal is expressed in terms of an amendment to, or repeal of, a section or other provision, the reference shall be considered to be made to a section or other provision of the Internal Revenue Code of 1986.    (c) Table of Contents.--The table of contents for this Act is as follows:Sec. 1. Short title, etc.\", 'Bill_id': '442477', 'Cong': '110', 'sec_length': '544', 'bill_ver_id': '15374', 'BillNum': '6275', 'BillType': 'hr'}\n",
        "\n",
        "17704 {'IssuedOn': '2008-06-20', 'bill_version': 'hr6275-110-rh', 'sec_sequence': '1', 'SecCount': '13', 'BillVer': 'rh', 'sec_id': '137409', 'text': \"SECTION 1. SHORT TITLE, ETC.    (a) Short Title.--This Act may be cited as the ``Alternative Minimum Tax Relief Act of 2008''.    (b) Reference.--Except as otherwise expressly provided, whenever in this Act an amendment or repeal is expressed in terms of an amendment to, or repeal of, a section or other provision, the reference shall be considered to be made to a section or other provision of the Internal Revenue Code of 1986.    (c) Table of Contents.--The table of contents for this Act is as follows:Sec. 1. Short title, etc.\", 'Bill_id': '442477', 'Cong': '110', 'sec_length': '545', 'bill_ver_id': '15375', 'BillNum': '6275', 'BillType': 'hr'}\n",
        "\n",
        "17717 {'IssuedOn': '2008-06-25', 'bill_version': 'hr6275-110-eh', 'sec_sequence': '1', 'SecCount': '13', 'BillVer': 'eh', 'sec_id': '137422', 'text': \"SECTION 1. SHORT TITLE, ETC.    (a) Short Title.--This Act may be cited as the ``Alternative Minimum Tax Relief Act of 2008''.    (b) Reference.--Except as otherwise expressly provided, whenever in this Act an amendment or repeal is expressed in terms of an amendment to, or repeal of, a section or other provision, the reference shall be considered to be made to a section or other provision of the Internal Revenue Code of 1986.    (c) Table of Contents.--The table of contents for this Act is as follows:Sec. 1. Short title, etc.\", 'Bill_id': '442477', 'Cong': '110', 'sec_length': '544', 'bill_ver_id': '15376', 'BillNum': '6275', 'BillType': 'hr'}\n",
        "\n",
        "84722 {'IssuedOn': '2008-05-07', 'bill_version': 'hr5984-110-ih', 'sec_sequence': '1', 'SecCount': '14', 'BillVer': 'ih', 'sec_id': '204427', 'text': \"SECTION 1. SHORT TITLE; ETC.    (a) Short Title.--This Act may be cited as the ``Clean Energy Tax Stimulus Act of 2008''.    (b) Amendment of 1986 Code.--Except as otherwise expressly provided, whenever in this Act an amendment or repeal is expressed in terms of an amendment to, or repeal of, a section or other provision, the reference shall be considered to be made to a section or other provision of the Internal Revenue Code of 1986.    (c) Table of Contents.--The table of contents for this Act is as follows:Sec. 1. Short title; etc.\", 'Bill_id': '442186', 'Cong': '110', 'sec_length': '552', 'bill_ver_id': '22815', 'BillNum': '5984', 'BillType': 'hr'}\n",
        "\n",
        "117621 {'IssuedOn': '2008-07-25', 'bill_version': 's3336-110-is', 'sec_sequence': '1', 'SecCount': '18', 'BillVer': 'is', 'sec_id': '237326', 'text': \"SECTION 1. SHORT TITLE; ETC.    (a) Short Title.--This Act may be cited as the ``New Clean Energy Tax Extenders Act''.    (b) Reference.--Except as otherwise expressly provided, whenever in this Act an amendment or repeal is expressed in terms of an amendment to, or repeal of, a section or other provision, the reference shall be considered to be made to a section or other provision of the Internal Revenue Code of 1986.    (c) Table of Contents.--The table of contents for this Act is as follows:Sec. 1. Short title; etc.\", 'Bill_id': '418249', 'Cong': '110', 'sec_length': '536', 'bill_ver_id': '26619', 'BillNum': '3336', 'BillType': 's'}\n",
        "\n",
        "130615 {'IssuedOn': '2008-04-03', 'bill_version': 's2821-110-is', 'sec_sequence': '1', 'SecCount': '14', 'BillVer': 'is', 'sec_id': '250320', 'text': \"SECTION 1. SHORT TITLE; ETC.    (a) Short Title.--This Act may be cited as the ``Clean Energy Tax Stimulus Act of 2008''.    (b) Amendment of 1986 Code.--Except as otherwise expressly provided, whenever in this Act an amendment or repeal is expressed in terms of an amendment to, or repeal of, a section or other provision, the reference shall be considered to be made to a section or other provision of the Internal Revenue Code of 1986.    (c) Table of Contents.--The table of contents for this Act is as follows:Sec. 1. Short title; etc.\", 'Bill_id': '417734', 'Cong': '110', 'sec_length': '552', 'bill_ver_id': '27925', 'BillNum': '2821', 'BillType': 's'}\n",
        "\n",
        "34501 {'IssuedOn': '2008-01-22', 'bill_version': 'hr4351-110-rfs', 'sec_sequence': '1', 'SecCount': '17', 'BillVer': 'rfs', 'sec_id': '154206', 'text': \"SECTION 1. SHORT TITLE, ETC.    (a) Short Title.--This Act may be cited as the ``AMT Relief Act of 2007''.    (b) Reference.--Except as otherwise expressly provided, whenever in this Act an amendment or repeal is expressed in terms of an amendment to, or repeal of, a section or other provision, the reference shall be considered to be made to a section or other provision of the Internal Revenue Code of 1986.    (c) Table of Contents.--The table of contents for this Act is as follows:Sec. 1. Short title, etc.\", 'Bill_id': '440553', 'Cong': '110', 'sec_length': '524', 'bill_ver_id': '17478', 'BillNum': '4351', 'BillType': 'hr'}\n",
        "\n",
        "34518 {'IssuedOn': '2007-12-11', 'bill_version': 'hr4351-110-ih', 'sec_sequence': '1', 'SecCount': '17', 'BillVer': 'ih', 'sec_id': '154223', 'text': \"SECTION 1. SHORT TITLE, ETC.    (a) Short Title.--This Act may be cited as the ``AMT Relief Act of 2007''.    (b) Reference.--Except as otherwise expressly provided, whenever in this Act an amendment or repeal is expressed in terms of an amendment to, or repeal of, a section or other provision, the reference shall be considered to be made to a section or other provision of the Internal Revenue Code of 1986.    (c) Table of Contents.--The table of contents for this Act is as follows:Sec. 1. Short title, etc.\", 'Bill_id': '440553', 'Cong': '110', 'sec_length': '524', 'bill_ver_id': '17479', 'BillNum': '4351', 'BillType': 'hr'}\n",
        "\n",
        "34535 {'IssuedOn': '2007-12-12', 'bill_version': 'hr4351-110-eh', 'sec_sequence': '1', 'SecCount': '17', 'BillVer': 'eh', 'sec_id': '154240', 'text': \"SECTION 1. SHORT TITLE, ETC.    (a) Short Title.--This Act may be cited as the ``AMT Relief Act of 2007''.    (b) Reference.--Except as otherwise expressly provided, whenever in this Act an amendment or repeal is expressed in terms of an amendment to, or repeal of, a section or other provision, the reference shall be considered to be made to a section or other provision of the Internal Revenue Code of 1986.    (c) Table of Contents.--The table of contents for this Act is as follows:Sec. 1. Short title, etc.\", 'Bill_id': '440553', 'Cong': '110', 'sec_length': '524', 'bill_ver_id': '17480', 'BillNum': '4351', 'BillType': 'hr'}\n",
        "\n",
        "22049 {'IssuedOn': '2008-07-28', 'bill_version': 'hr3221-110-enr', 'sec_sequence': '216', 'SecCount': '255', 'BillVer': 'enr', 'sec_id': '141754', 'text': \"SEC. 3000. SHORT TITLE; ETC.    (a) Short Title.--This division may be cited as the ``Housing Assistance Tax Act of 2008''.    (b) Amendment of 1986 Code.--Except as otherwise expressly provided, whenever in this division an amendment or repeal is expressed in terms of an amendment to, or repeal of, a section or other provision, the reference shall be considered to be made to a section or other provision of the Internal Revenue Code of 1986.    (c) Table of Contents.--The table of contents for this division is as follows:Sec. 3000. Short title; etc.\", 'Bill_id': '439423', 'Cong': '110', 'sec_length': '568', 'bill_ver_id': '16139', 'BillNum': '3221', 'BillType': 'hr'}\n",
        "\n",
        "24069 {'IssuedOn': '2008-07-23', 'bill_version': 'hr3221-110-eah2', 'sec_sequence': '215', 'SecCount': '254', 'BillVer': 'eah2', 'sec_id': '143774', 'text': \"SEC. 3000. SHORT TITLE; ETC.    (a) Short Title.--This division may be cited as the ``Housing Assistance Tax Act of 2008''.    (b) Amendment of 1986 Code.--Except as otherwise expressly provided, whenever in this division an amendment or repeal is expressed in terms of an amendment to, or repeal of, a section or other provision, the reference shall be considered to be made to a section or other provision of the Internal Revenue Code of 1986.    (c) Table of Contents.--The table of contents for this division is as follows:Sec. 3000. Short title; etc.\", 'Bill_id': '439423', 'Cong': '110', 'sec_length': '569', 'bill_ver_id': '16146', 'BillNum': '3221', 'BillType': 'hr'}\n",
        "\n",
        "138905 {'IssuedOn': '2007-11-13', 'bill_version': 's2345-110-pcs', 'sec_sequence': '1', 'SecCount': '38', 'BillVer': 'pcs', 'sec_id': '258610', 'text': \"SECTION 1. SHORT TITLE, ETC.    (a) Short Title.--This Act may be cited as the ``American Infrastructure Investment and Improvement Act of 2007''.    (b) Amendment of 1986 Code.--Except as otherwise expressly provided, whenever in this Act an amendment or repeal is expressed in terms of an amendment to, or repeal of, a section or other provision, the reference shall be considered to be made to a section or other provision of the Internal Revenue Code of 1986.    (c) Table of Contents.--The table of contents for this Act is as follows:Sec. 1. Short title, etc.\", 'Bill_id': '417258', 'Cong': '110', 'sec_length': '577', 'bill_ver_id': '28788', 'BillNum': '2345', 'BillType': 's'}\n",
        "\n",
        "31534 {'IssuedOn': '2008-02-28', 'bill_version': 'hr5351-110-rfs', 'sec_sequence': '1', 'SecCount': '34', 'BillVer': 'rfs', 'sec_id': '151239', 'text': \"SECTION 1. SHORT TITLE; AMENDMENT OF 1986 CODE; TABLE OF CONTENTS.    (a) Short Title.--This Act may be cited as the ``Renewable Energy and Energy Conservation Tax Act of 2008''.    (b) Amendment of 1986 Code.--Except as otherwise expressly provided, whenever in this Act an amendment or repeal is expressed in terms of an amendment to, or repeal of, a section or other provision, the reference shall be considered to be made to a section or other provision of the Internal Revenue Code of 1986.    (c) Table of Contents.--The table of contents of this Act is as follows:Sec. 1. Short title; amendment of 1986 Code; table of contents.\", 'Bill_id': '441553', 'Cong': '110', 'sec_length': '646', 'bill_ver_id': '17145', 'BillNum': '5351', 'BillType': 'hr'}\n",
        "\n",
        "31568 {'IssuedOn': '2008-02-12', 'bill_version': 'hr5351-110-ih', 'sec_sequence': '1', 'SecCount': '34', 'BillVer': 'ih', 'sec_id': '151273', 'text': \"SECTION 1. SHORT TITLE; AMENDMENT OF 1986 CODE; TABLE OF CONTENTS.    (a) Short Title.--This Act may be cited as the ``Renewable Energy and Energy Conservation Tax Act of 2008''.    (b) Amendment of 1986 Code.--Except as otherwise expressly provided, whenever in this Act an amendment or repeal is expressed in terms of an amendment to, or repeal of, a section or other provision, the reference shall be considered to be made to a section or other provision of the Internal Revenue Code of 1986.    (c) Table of Contents.--The table of contents of this Act is as follows:Sec. 1. Short title; amendment of 1986 Code; table of contents.\", 'Bill_id': '441553', 'Cong': '110', 'sec_length': '646', 'bill_ver_id': '17146', 'BillNum': '5351', 'BillType': 'hr'}\n",
        "\n",
        "31602 {'IssuedOn': '2008-02-27', 'bill_version': 'hr5351-110-eh', 'sec_sequence': '1', 'SecCount': '34', 'BillVer': 'eh', 'sec_id': '151307', 'text': \"SECTION 1. SHORT TITLE; AMENDMENT OF 1986 CODE; TABLE OF CONTENTS.    (a) Short Title.--This Act may be cited as the ``Renewable Energy and Energy Conservation Tax Act of 2008''.    (b) Amendment of 1986 Code.--Except as otherwise expressly provided, whenever in this Act an amendment or repeal is expressed in terms of an amendment to, or repeal of, a section or other provision, the reference shall be considered to be made to a section or other provision of the Internal Revenue Code of 1986.    (c) Table of Contents.--The table of contents of this Act is as follows:Sec. 1. Short title; amendment of 1986 Code; table of contents.\", 'Bill_id': '441553', 'Cong': '110', 'sec_length': '646', 'bill_ver_id': '17147', 'BillNum': '5351', 'BillType': 'hr'}\n",
        "\n",
        "56275 {'IssuedOn': '2007-10-30', 'bill_version': 'hr3996-110-ih', 'sec_sequence': '1', 'SecCount': '61', 'BillVer': 'ih', 'sec_id': '175980', 'text': \"SECTION 1. SHORT TITLE, ETC.    (a) Short Title.--This Act may be cited as the ``Temporary Tax Relief Act of 2007''.    (b) Reference.--Except as otherwise expressly provided, whenever in this Act an amendment or repeal is expressed in terms of an amendment to, or repeal of, a section or other provision, the reference shall be considered to be made to a section or other provision of the Internal Revenue Code of 1986.    (c) Table of Contents.--The table of contents for this Act is as follows:Sec. 1. Short title, etc.\", 'Bill_id': '440198', 'Cong': '110', 'sec_length': '534', 'bill_ver_id': '19852', 'BillNum': '3996', 'BillType': 'hr'}\n",
        "\n",
        "56336 {'IssuedOn': '2007-10-30', 'bill_version': 'hr3996-110-rh', 'sec_sequence': '1', 'SecCount': '75', 'BillVer': 'rh', 'sec_id': '176041', 'text': \"SECTION 1. SHORT TITLE, ETC.    (a) Short Title.--This Act may be cited as the ``Temporary Tax Relief Act of 2007''.    (b) Reference.--Except as otherwise expressly provided, whenever in this Act an amendment or repeal is expressed in terms of an amendment to, or repeal of, a section or other provision, the reference shall be considered to be made to a section or other provision of the Internal Revenue Code of 1986.    (c) Table of Contents.--The table of contents for this Act is as follows:Sec. 1. Short title, etc.\", 'Bill_id': '440198', 'Cong': '110', 'sec_length': '535', 'bill_ver_id': '19853', 'BillNum': '3996', 'BillType': 'hr'}\n",
        "\n",
        "56411 {'IssuedOn': '2007-11-14', 'bill_version': 'hr3996-110-pcs', 'sec_sequence': '1', 'SecCount': '75', 'BillVer': 'pcs', 'sec_id': '176116', 'text': \"SECTION 1. SHORT TITLE, ETC.    (a) Short Title.--This Act may be cited as the ``Temporary Tax Relief Act of 2007''.    (b) Reference.--Except as otherwise expressly provided, whenever in this Act an amendment or repeal is expressed in terms of an amendment to, or repeal of, a section or other provision, the reference shall be considered to be made to a section or other provision of the Internal Revenue Code of 1986.    (c) Table of Contents.--The table of contents for this Act is as follows:Sec. 1. Short title, etc.\", 'Bill_id': '440198', 'Cong': '110', 'sec_length': '534', 'bill_ver_id': '19854', 'BillNum': '3996', 'BillType': 'hr'}\n",
        "\n",
        "56486 {'IssuedOn': '2007-11-09', 'bill_version': 'hr3996-110-eh', 'sec_sequence': '1', 'SecCount': '75', 'BillVer': 'eh', 'sec_id': '176191', 'text': \"SECTION 1. SHORT TITLE, ETC.    (a) Short Title.--This Act may be cited as the ``Temporary Tax Relief Act of 2007''.    (b) Reference.--Except as otherwise expressly provided, whenever in this Act an amendment or repeal is expressed in terms of an amendment to, or repeal of, a section or other provision, the reference shall be considered to be made to a section or other provision of the Internal Revenue Code of 1986.    (c) Table of Contents.--The table of contents for this Act is as follows:Sec. 1. Short title, etc.\", 'Bill_id': '440198', 'Cong': '110', 'sec_length': '534', 'bill_ver_id': '19855', 'BillNum': '3996', 'BillType': 'hr'}\n",
        "\n",
        "69506 21 107\n",
        "SEC. 1. SHORT TITLE; AMENDMENT OF 1986 CODE; TABLE OF CONTENTS.    (a) Short Title.--This division may be cited as the ``Tax Extenders and Alternative Minimum Tax Relief Act of 2008''.    (b) Amendment of 1986 Code.--Except as otherwise expressly provided, whenever in this division an amendment or repeal is expressed in terms of an amendment to, or repeal of, a section or other provision, the reference shall be considered to be made to a section or other provision of the Internal Revenue Code of 1986.    (c) Table of Contents.--The table of contents of this division is as follows:Sec. 1. Short title; amendment of 1986 Code; table of contents.\n",
        "\n",
        "69506 {'IssuedOn': '2008-10-03', 'bill_version': 'hr1424-110-enr', 'sec_sequence': '23', 'SecCount': '39', 'BillVer': 'enr', 'sec_id': '189211', 'text': \"SEC. 1. SHORT TITLE; AMENDMENT OF 1986 CODE; TABLE OF CONTENTS.    (a) Short Title.--This division may be cited as the ``Tax Extenders and Alternative Minimum Tax Relief Act of 2008''.    (b) Amendment of 1986 Code.--Except as otherwise expressly provided, whenever in this division an amendment or repeal is expressed in terms of an amendment to, or repeal of, a section or other provision, the reference shall be considered to be made to a section or other provision of the Internal Revenue Code of 1986.    (c) Table of Contents.--The table of contents of this division is as follows:Sec. 1. Short title; amendment of 1986 Code; table of contents.\", 'Bill_id': '437626', 'Cong': '110', 'sec_length': '663', 'bill_ver_id': '21413', 'BillNum': '1424', 'BillType': 'hr'}\n",
        "\n",
        "69627 {'IssuedOn': '2008-10-02', 'bill_version': 'hr1424-110-eas', 'sec_sequence': '105', 'SecCount': '182', 'BillVer': 'eas', 'sec_id': '189332', 'text': \"SECTION 1. SHORT TITLE; AMENDMENT OF 1986 CODE; TABLE OF CONTENTS.    (a) Short Title.--This division may be cited as the ``Tax Extenders and Alternative Minimum Tax Relief Act of 2008''.    (b) Amendment of 1986 Code.--Except as otherwise expressly provided, whenever in this division an amendment or repeal is expressed in terms of an amendment to, or repeal of, a section or other provision, the reference shall be considered to be made to a section or other provision of the Internal Revenue Code of 1986.    (c) Table of Contents.--The table of contents of this division is as follows:Sec. 1. Short title; amendment of 1986 Code; table of contents.\", 'Bill_id': '437626', 'Cong': '110', 'sec_length': '666', 'bill_ver_id': '21414', 'BillNum': '1424', 'BillType': 'hr'}\n",
        "\n",
        "98545 {'IssuedOn': '2008-06-09', 'bill_version': 's3098-110-pcs', 'sec_sequence': '1', 'SecCount': '61', 'BillVer': 'pcs', 'sec_id': '218250', 'text': \"SECTION 1. SHORT TITLE; AMENDMENT OF 1986 CODE; TABLE OF CONTENTS.    (a) Short Title.--This Act may be cited as the ``Alternative Minimum Tax and Extenders Tax Relief Act of 2008''.    (b) Amendment of 1986 Code.--Except as otherwise expressly provided, whenever in this Act an amendment or repeal is expressed in terms of an amendment to, or repeal of, a section or other provision, the reference shall be considered to be made to a section or other provision of the Internal Revenue Code of 1986.    (c) Table of Contents.--The table of contents of this Act is as follows:Sec. 1. Short title; amendment of 1986 Code; table of contents.\", 'Bill_id': '418011', 'Cong': '110', 'sec_length': '650', 'bill_ver_id': '24416', 'BillNum': '3098', 'BillType': 's'}\n",
        "\n",
        "137696 {'IssuedOn': '2008-04-17', 'bill_version': 's2886-110-is', 'sec_sequence': '1', 'SecCount': '58', 'BillVer': 'is', 'sec_id': '257401', 'text': \"SECTION 1. SHORT TITLE; AMENDMENT OF 1986 CODE; TABLE OF CONTENTS.    (a) Short Title.--This Act may be cited as the ``Alternative Minimum Tax and Extenders Tax Relief Act of 2008''.    (b) Amendment of 1986 Code.--Except as otherwise expressly provided, whenever in this Act an amendment or repeal is expressed in terms of an amendment to, or repeal of, a section or other provision, the reference shall be considered to be made to a section or other provision of the Internal Revenue Code of 1986.    (c) Table of Contents.--The table of contents of this Act is as follows:Sec. 1. Short title; amendment of 1986 Code; table of contents.\", 'Bill_id': '417799', 'Cong': '110', 'sec_length': '650', 'bill_ver_id': '28664', 'BillNum': '2886', 'BillType': 's'}\n",
        "\n",
        "94437 {'IssuedOn': '2008-09-29', 'bill_version': 'hr6049-110-eas', 'sec_sequence': '51', 'SecCount': '129', 'BillVer': 'eas', 'sec_id': '214142', 'text': \"SECTION 1. SHORT TITLE; AMENDMENT OF 1986 CODE; TABLE OF CONTENTS.    (a) Short Title.--This division may be cited as the ``Tax Extenders and Alternative Minimum Tax Relief Act of 2008''.    (b) Amendment of 1986 Code.--Except as otherwise expressly provided, whenever in this division an amendment or repeal is expressed in terms of an amendment to, or repeal of, a section or other provision, the reference shall be considered to be made to a section or other provision of the Internal Revenue Code of 1986.    (c) Table of Contents.--The table of contents of this division is as follows:\", 'Bill_id': '442251', 'Cong': '110', 'sec_length': '601', 'bill_ver_id': '23869', 'BillNum': '6049', 'BillType': 'hr'}\n",
        "\n",
        "17678 {'IssuedOn': '2008-06-26', 'bill_version': 'hr6275-110-rfs', 'sec_sequence': '1', 'SecCount': '13', 'BillVer': 'rfs', 'sec_id': '137383', 'text': \"SECTION 1. SHORT TITLE, ETC.    (a) Short Title.--This Act may be cited as the ``Alternative Minimum Tax Relief Act of 2008''.    (b) Reference.--Except as otherwise expressly provided, whenever in this Act an amendment or repeal is expressed in terms of an amendment to, or repeal of, a section or other provision, the reference shall be considered to be made to a section or other provision of the Internal Revenue Code of 1986.    (c) Table of Contents.--The table of contents for this Act is as follows:Sec. 1. Short title, etc.\", 'Bill_id': '442477', 'Cong': '110', 'sec_length': '544', 'bill_ver_id': '15373', 'BillNum': '6275', 'BillType': 'hr'}\n",
        "\n",
        "17691 {'IssuedOn': '2008-06-17', 'bill_version': 'hr6275-110-ih', 'sec_sequence': '1', 'SecCount': '13', 'BillVer': 'ih', 'sec_id': '137396', 'text': \"SECTION 1. SHORT TITLE, ETC.    (a) Short Title.--This Act may be cited as the ``Alternative Minimum Tax Relief Act of 2008''.    (b) Reference.--Except as otherwise expressly provided, whenever in this Act an amendment or repeal is expressed in terms of an amendment to, or repeal of, a section or other provision, the reference shall be considered to be made to a section or other provision of the Internal Revenue Code of 1986.    (c) Table of Contents.--The table of contents for this Act is as follows:Sec. 1. Short title, etc.\", 'Bill_id': '442477', 'Cong': '110', 'sec_length': '544', 'bill_ver_id': '15374', 'BillNum': '6275', 'BillType': 'hr'}\n",
        "\n",
        "17704 {'IssuedOn': '2008-06-20', 'bill_version': 'hr6275-110-rh', 'sec_sequence': '1', 'SecCount': '13', 'BillVer': 'rh', 'sec_id': '137409', 'text': \"SECTION 1. SHORT TITLE, ETC.    (a) Short Title.--This Act may be cited as the ``Alternative Minimum Tax Relief Act of 2008''.    (b) Reference.--Except as otherwise expressly provided, whenever in this Act an amendment or repeal is expressed in terms of an amendment to, or repeal of, a section or other provision, the reference shall be considered to be made to a section or other provision of the Internal Revenue Code of 1986.    (c) Table of Contents.--The table of contents for this Act is as follows:Sec. 1. Short title, etc.\", 'Bill_id': '442477', 'Cong': '110', 'sec_length': '545', 'bill_ver_id': '15375', 'BillNum': '6275', 'BillType': 'hr'}\n",
        "\n",
        "17717 {'IssuedOn': '2008-06-25', 'bill_version': 'hr6275-110-eh', 'sec_sequence': '1', 'SecCount': '13', 'BillVer': 'eh', 'sec_id': '137422', 'text': \"SECTION 1. SHORT TITLE, ETC.    (a) Short Title.--This Act may be cited as the ``Alternative Minimum Tax Relief Act of 2008''.    (b) Reference.--Except as otherwise expressly provided, whenever in this Act an amendment or repeal is expressed in terms of an amendment to, or repeal of, a section or other provision, the reference shall be considered to be made to a section or other provision of the Internal Revenue Code of 1986.    (c) Table of Contents.--The table of contents for this Act is as follows:Sec. 1. Short title, etc.\", 'Bill_id': '442477', 'Cong': '110', 'sec_length': '544', 'bill_ver_id': '15376', 'BillNum': '6275', 'BillType': 'hr'}\n",
        "\n",
        "31534 {'IssuedOn': '2008-02-28', 'bill_version': 'hr5351-110-rfs', 'sec_sequence': '1', 'SecCount': '34', 'BillVer': 'rfs', 'sec_id': '151239', 'text': \"SECTION 1. SHORT TITLE; AMENDMENT OF 1986 CODE; TABLE OF CONTENTS.    (a) Short Title.--This Act may be cited as the ``Renewable Energy and Energy Conservation Tax Act of 2008''.    (b) Amendment of 1986 Code.--Except as otherwise expressly provided, whenever in this Act an amendment or repeal is expressed in terms of an amendment to, or repeal of, a section or other provision, the reference shall be considered to be made to a section or other provision of the Internal Revenue Code of 1986.    (c) Table of Contents.--The table of contents of this Act is as follows:Sec. 1. Short title; amendment of 1986 Code; table of contents.\", 'Bill_id': '441553', 'Cong': '110', 'sec_length': '646', 'bill_ver_id': '17145', 'BillNum': '5351', 'BillType': 'hr'}\n",
        "\n",
        "31568 {'IssuedOn': '2008-02-12', 'bill_version': 'hr5351-110-ih', 'sec_sequence': '1', 'SecCount': '34', 'BillVer': 'ih', 'sec_id': '151273', 'text': \"SECTION 1. SHORT TITLE; AMENDMENT OF 1986 CODE; TABLE OF CONTENTS.    (a) Short Title.--This Act may be cited as the ``Renewable Energy and Energy Conservation Tax Act of 2008''.    (b) Amendment of 1986 Code.--Except as otherwise expressly provided, whenever in this Act an amendment or repeal is expressed in terms of an amendment to, or repeal of, a section or other provision, the reference shall be considered to be made to a section or other provision of the Internal Revenue Code of 1986.    (c) Table of Contents.--The table of contents of this Act is as follows:Sec. 1. Short title; amendment of 1986 Code; table of contents.\", 'Bill_id': '441553', 'Cong': '110', 'sec_length': '646', 'bill_ver_id': '17146', 'BillNum': '5351', 'BillType': 'hr'}\n",
        "\n",
        "31602 {'IssuedOn': '2008-02-27', 'bill_version': 'hr5351-110-eh', 'sec_sequence': '1', 'SecCount': '34', 'BillVer': 'eh', 'sec_id': '151307', 'text': \"SECTION 1. SHORT TITLE; AMENDMENT OF 1986 CODE; TABLE OF CONTENTS.    (a) Short Title.--This Act may be cited as the ``Renewable Energy and Energy Conservation Tax Act of 2008''.    (b) Amendment of 1986 Code.--Except as otherwise expressly provided, whenever in this Act an amendment or repeal is expressed in terms of an amendment to, or repeal of, a section or other provision, the reference shall be considered to be made to a section or other provision of the Internal Revenue Code of 1986.    (c) Table of Contents.--The table of contents of this Act is as follows:Sec. 1. Short title; amendment of 1986 Code; table of contents.\", 'Bill_id': '441553', 'Cong': '110', 'sec_length': '646', 'bill_ver_id': '17147', 'BillNum': '5351', 'BillType': 'hr'}\n",
        "\n",
        "94516 {'IssuedOn': '2008-05-14', 'bill_version': 'hr6049-110-ih', 'sec_sequence': '1', 'SecCount': '85', 'BillVer': 'ih', 'sec_id': '214221', 'text': \"SECTION 1. SHORT TITLE, ETC.    (a) Short Title.--This Act may be cited as the ``Energy and Tax Extenders Act of 2008''.    (b) Reference.--Except as otherwise expressly provided, whenever in this Act an amendment or repeal is expressed in terms of an amendment to, or repeal of, a section or other provision, the reference shall be considered to be made to a section or other provision of the Internal Revenue Code of 1986.    (c) Table of Contents.--The table of contents for this Act is as follows:Sec. 1. Short title, etc.\", 'Bill_id': '442251', 'Cong': '110', 'sec_length': '538', 'bill_ver_id': '23870', 'BillNum': '6049', 'BillType': 'hr'}\n",
        "\n",
        "94169 {'IssuedOn': '2008-04-08', 'bill_version': 'hr5720-110-ih', 'sec_sequence': '1', 'SecCount': '33', 'BillVer': 'ih', 'sec_id': '213874', 'text': \"SECTION 1. SHORT TITLE; ETC.    (a) Short Title.--This Act may be cited as the ``Housing Assistance Tax Act of 2008''.    (b) Amendment of 1986 Code.--Except as otherwise expressly provided, whenever in this Act an amendment or repeal is expressed in terms of an amendment to, or repeal of, a section or other provision, the reference shall be considered to be made to a section or other provision of the Internal Revenue Code of 1986.    (c) Table of Contents.--The table of contents of this Act is as follows:Sec. 1. Short title; etc.\", 'Bill_id': '441922', 'Cong': '110', 'sec_length': '548', 'bill_ver_id': '23849', 'BillNum': '5720', 'BillType': 'hr'}\n",
        "\n",
        "94202 {'IssuedOn': '2008-04-08', 'bill_version': 'hr5720-110-rh', 'sec_sequence': '1', 'SecCount': '33', 'BillVer': 'rh', 'sec_id': '213907', 'text': \"SECTION 1. SHORT TITLE; ETC.    (a) Short Title.--This Act may be cited as the ``Housing Assistance Tax Act of 2008''.    (b) Amendment of 1986 Code.--Except as otherwise expressly provided, whenever in this Act an amendment or repeal is expressed in terms of an amendment to, or repeal of, a section or other provision, the reference shall be considered to be made to a section or other provision of the Internal Revenue Code of 1986.    (c) Table of Contents.--The table of contents of this Act is as follows:Sec. 1. Short title; etc.\", 'Bill_id': '441922', 'Cong': '110', 'sec_length': '549', 'bill_ver_id': '23850', 'BillNum': '5720', 'BillType': 'hr'}\n",
        "\n",
        "22049 {'IssuedOn': '2008-07-28', 'bill_version': 'hr3221-110-enr', 'sec_sequence': '216', 'SecCount': '255', 'BillVer': 'enr', 'sec_id': '141754', 'text': \"SEC. 3000. SHORT TITLE; ETC.    (a) Short Title.--This division may be cited as the ``Housing Assistance Tax Act of 2008''.    (b) Amendment of 1986 Code.--Except as otherwise expressly provided, whenever in this division an amendment or repeal is expressed in terms of an amendment to, or repeal of, a section or other provision, the reference shall be considered to be made to a section or other provision of the Internal Revenue Code of 1986.    (c) Table of Contents.--The table of contents for this division is as follows:Sec. 3000. Short title; etc.\", 'Bill_id': '439423', 'Cong': '110', 'sec_length': '568', 'bill_ver_id': '16139', 'BillNum': '3221', 'BillType': 'hr'}\n",
        "\n",
        "24069 {'IssuedOn': '2008-07-23', 'bill_version': 'hr3221-110-eah2', 'sec_sequence': '215', 'SecCount': '254', 'BillVer': 'eah2', 'sec_id': '143774', 'text': \"SEC. 3000. SHORT TITLE; ETC.    (a) Short Title.--This division may be cited as the ``Housing Assistance Tax Act of 2008''.    (b) Amendment of 1986 Code.--Except as otherwise expressly provided, whenever in this division an amendment or repeal is expressed in terms of an amendment to, or repeal of, a section or other provision, the reference shall be considered to be made to a section or other provision of the Internal Revenue Code of 1986.    (c) Table of Contents.--The table of contents for this division is as follows:Sec. 3000. Short title; etc.\", 'Bill_id': '439423', 'Cong': '110', 'sec_length': '569', 'bill_ver_id': '16146', 'BillNum': '3221', 'BillType': 'hr'}\n",
        "\n",
        "134106 {'IssuedOn': '2008-06-12', 'bill_version': 's3125-110-is', 'sec_sequence': '1', 'SecCount': '86', 'BillVer': 'is', 'sec_id': '253811', 'text': \"SECTION 1. SHORT TITLE, ETC.    (a) Short Title.--This Act may be cited as the ``Energy Independence and Tax Relief Act of 2008''.    (b) Reference.--Except as otherwise expressly provided, whenever in this Act an amendment or repeal is expressed in terms of an amendment to, or repeal of, a section or other provision, the reference shall be considered to be made to a section or other provision of the Internal Revenue Code of 1986.    (c) Table of Contents.--The table of contents for this Act is as follows:Sec. 1. Short title, etc.\", 'Bill_id': '418038', 'Cong': '110', 'sec_length': '548', 'bill_ver_id': '28327', 'BillNum': '3125', 'BillType': 's'}\n",
        "\n",
        "3950 {'IssuedOn': '2007-06-19', 'bill_version': 'hr2776-110-ih', 'sec_sequence': '1', 'SecCount': '35', 'BillVer': 'ih', 'sec_id': '123655', 'text': \"SECTION 1. SHORT TITLE; AMENDMENT OF 1986 CODE; TABLE OF CONTENTS.    (a) Short Title.--This Act may be cited as the ``Renewable Energy and Energy Conservation Tax Act of 2007''.    (b) Amendment of 1986 Code.--Except as otherwise expressly provided, whenever in this Act an amendment or repeal is expressed in terms of an amendment to, or repeal of, a section or other provision, the reference shall be considered to be made to a section or other provision of the Internal Revenue Code of 1986.    (c) Table of Contents.--The table of contents of this Act is as follows:Sec. 1. Short title; amendment of 1986 Code; table of contents.\", 'Bill_id': '438978', 'Cong': '110', 'sec_length': '646', 'bill_ver_id': '14181', 'BillNum': '2776', 'BillType': 'hr'}\n",
        "\n",
        "3985 {'IssuedOn': '2007-06-27', 'bill_version': 'hr2776-110-rh', 'sec_sequence': '1', 'SecCount': '35', 'BillVer': 'rh', 'sec_id': '123690', 'text': \"SECTION 1. SHORT TITLE; AMENDMENT OF 1986 CODE; TABLE OF CONTENTS.    (a) Short Title.--This Act may be cited as the ``Renewable Energy and Energy Conservation Tax Act of 2007''.    (b) Amendment of 1986 Code.--Except as otherwise expressly provided, whenever in this Act an amendment or repeal is expressed in terms of an amendment to, or repeal of, a section or other provision, the reference shall be considered to be made to a section or other provision of the Internal Revenue Code of 1986.    (c) Table of Contents.--The table of contents of this Act is as follows:Sec. 1. Short title; amendment of 1986 Code; table of contents.\", 'Bill_id': '438978', 'Cong': '110', 'sec_length': '647', 'bill_ver_id': '14182', 'BillNum': '2776', 'BillType': 'hr'}\n",
        "\n",
        "59610 {'IssuedOn': '2008-09-28', 'bill_version': 'hr7202-110-ih', 'sec_sequence': '1', 'SecCount': '56', 'BillVer': 'ih', 'sec_id': '179315', 'text': \"SECTION 1. SHORT TITLE, ETC.    (a) Short Title.--This Act may be cited as the ``Temporary Tax Relief Act of 2008''.    (b) Reference.--Except as otherwise expressly provided, whenever in this Act an amendment or repeal is expressed in terms of an amendment to, or repeal of, a section or other provision, the reference shall be considered to be made to a section or other provision of the Internal Revenue Code of 1986.    (c) Table of Contents.--The table of contents for this Act is as follows:Sec. 1. Short title, etc.\", 'Bill_id': '443404', 'Cong': '110', 'sec_length': '534', 'bill_ver_id': '20407', 'BillNum': '7202', 'BillType': 'hr'}\n",
        "\n",
        "69522 21 1374\n",
        "TITLE VIII--SPENDING REDUCTIONS AND APPROPRIATE REVENUE RAISERS FOR NEW                            TAX RELIEF POLICY    SEC. 801. NONQUALIFIED DEFERRED COMPENSATION FROM CERTAIN TAX       INDIFFERENT PARTIES.    (a) In General.--Subpart B of part II of subchapter E of chapter 1 is amended by inserting after section 457 the following new section:``SEC. 457A. NONQUALIFIED DEFERRED COMPENSATION FROM CERTAIN TAX INDIFFERENT PARTIES.    ``(a) In General.--Any compensation which is deferred under a nonqualified deferred compensation plan of a nonqualified entity shall be includible in gross income when there is no substantial risk of forfeiture of the rights to such compensation.    ``(b) Nonqualified Entity.--For purposes of this section, the term `nonqualified entity' means--        ``(1) any foreign corporation unless substantially all of its     income is--            ``(A) effectively connected with the conduct of a trade or         business in the United States, or            ``(B) subject to a comprehensive foreign income tax, and        ``(2) any partnership unless substantially all of its income is     allocated to persons other than--            ``(A) foreign persons with respect to whom such income is         not subject to a comprehensive foreign income tax, and            ``(B) organizations which are exempt from tax under this         title.    ``(c) Determinability of Amounts of Compensation.--        ``(1) In general.--If the amount of any compensation is not     determinable at the time that such compensation is otherwise     includible in gross income under subsection (a)--            ``(A) such amount shall be so includible in gross income         when determinable, and            ``(B) the tax imposed under this chapter for the taxable         year in which such compensation is includible in gross income         shall be increased by the sum of--                ``(i) the amount of interest determined under paragraph             (2), and                ``(ii) an amount equal to 20 percent of the amount of             such compensation.        ``(2) Interest.--For purposes of paragraph (1)(B)(i), the     interest determined under this paragraph for any taxable year is     the amount of interest at the underpayment rate under section 6621     plus 1 percentage point on the underpayments that would have     occurred had the deferred compensation been includible in gross     income for the taxable year in which first deferred or, if later,     the first taxable year in which such deferred compensation is not     subject to a substantial risk of forfeiture.    ``(d) Other Definitions and Special Rules.--For purposes of this section--        ``(1) Substantial risk of forfeiture.--            ``(A) In general.--The rights of a person to compensation         shall be treated as subject to a substantial risk of forfeiture         only if such person's rights to such compensation are         conditioned upon the future performance of substantial services         by any individual.            ``(B) Exception for compensation based on gain recognized         on an investment asset.--                ``(i) In general.--To the extent provided in             regulations prescribed by the Secretary, if compensation is             determined solely by reference to the amount of gain             recognized on the disposition of an investment asset, such             compensation shall be treated as subject to a substantial             risk of forfeiture until the date of such disposition.                ``(ii) Investment asset.--For purposes of clause (i),             the term `investment asset' means any single asset (other             than an investment fund or similar entity)--                    ``(I) acquired directly by an investment fund or                 similar entity,                    ``(II) with respect to which such entity does not                 (nor does any person related to such entity)                 participate in the active management of such asset (or                 if such asset is an interest in an entity, in the                 active management of the activities of such entity),                 and                    ``(III) substantially all of any gain on the                 disposition of which (other than such deferred                 compensation) is allocated to investors in such entity.                ``(iii) Coordination with special rule.--Paragraph             (3)(B) shall not apply to any compensation to which clause             (i) applies.        ``(2) Comprehensive foreign income tax.--The term     `comprehensive foreign income tax' means, with respect to any     foreign person, the income tax of a foreign country if--            ``(A) such person is eligible for the benefits of a         comprehensive income tax treaty between such foreign country         and the United States, or            ``(B) such person demonstrates to the satisfaction of the         Secretary that such foreign country has a comprehensive income         tax.        ``(3) Nonqualified deferred compensation plan.--            ``(A) In general.--The term `nonqualified deferred         compensation plan' has the meaning given such term under         section 409A(d), except that such term shall include any plan         that provides a right to compensation based on the appreciation         in value of a specified number of equity units of the service         recipient.            ``(B) Exception.--Compensation shall not be treated as         deferred for purposes of this section if the service provider         receives payment of such compensation not later than 12 months         after the end of the taxable year of the service recipient         during which the right to the payment of such compensation is         no longer subject to a substantial risk of forfeiture.        ``(4) Exception for certain compensation with respect to     effectively connected income.--In the case a foreign corporation     with income which is taxable under section 882, this section shall     not apply to compensation which, had such compensation had been     paid in cash on the date that such compensation ceased to be     subject to a substantial risk of forfeiture, would have been     deductible by such foreign corporation against such income.        ``(5) Application of rules.--Rules similar to the rules of     paragraphs (5) and (6) of section 409A(d) shall apply.    ``(e) Regulations.--The Secretary shall prescribe such regulations as may be necessary or appropriate to carry out the purposes of this section, including regulations disregarding a substantial risk of forfeiture in cases where necessary to carry out the purposes of this section.''.    (b) Conforming Amendment.--Section 26(b)(2), as amended by the Housing Assistance Tax Act of 2008, is amended by striking ``and'' at the end of subparagraph (V), by striking the period at the end of subparagraph (W) and inserting ``, and'', and by adding at the end the following new subparagraph:            ``(X) section 457A(c)(1)(B) (relating to determinability of         amounts of compensation).''.    (c) Clerical Amendment.--The table of sections of subpart B of part II of subchapter E of chapter 1 is amended by inserting after the item relating to section 457 the following new item:``Sec. 457A. Nonqualified deferred compensation from certain tax           indifferent parties.''.    (d) Effective Date.--        (1) In general.--Except as otherwise provided in this     subsection, the amendments made by this section shall apply to     amounts deferred which are attributable to services performed after     December 31, 2008.        (2) Application to existing deferrals.--In the case of any     amount deferred to which the amendments made by this section do not     apply solely by reason of the fact that the amount is attributable     to services performed before January 1, 2009, to the extent such     amount is not includible in gross income in a taxable year     beginning before 2018, such amounts shall be includible in gross     income in the later of--            (A) the last taxable year beginning before 2018, or            (B) the taxable year in which there is no substantial risk         of forfeiture of the rights to such compensation (determined in         the same manner as determined for purposes of section 457A of         the Internal Revenue Code of 1986, as added by this section).        (3) Accelerated payments.--No later than 120 days after the     date of the enactment of this Act, the Secretary shall issue     guidance providing a limited period of time during which a     nonqualified deferred compensation arrangement attributable to     services performed on or before December 31, 2008, may, without     violating the requirements of section 409A(a) of the Internal     Revenue Code of 1986, be amended to conform the date of     distribution to the date the amounts are required to be included in     income.        (4) Certain back-to-back arrangements.--If the taxpayer is also     a service recipient and maintains one or more nonqualified deferred     compensation arrangements for its service providers under which any     amount is attributable to services performed on or before December     31, 2008, the guidance issued under paragraph (4) shall permit such     arrangements to be amended to conform the dates of distribution     under such arrangement to the date amounts are required to be     included in the income of such taxpayer under this subsection.        (5) Accelerated payment not treated as material modification.--    Any amendment to a nonqualified deferred compensation arrangement     made pursuant to paragraph (4) or (5) shall not be treated as a     material modification of the arrangement for purposes of section     409A of the Internal Revenue Code of 1986.                               Speaker of the House of Representatives.                            Vice President of the United States and                                                   President of the Senate.\n",
        "\n"
       ]
      }
     ],
     "prompt_number": 335
    },
    {
     "cell_type": "code",
     "collapsed": true,
     "input": [
      "#print data_list_of_dicts[69496]['text']\n",
      "print \n",
      "#print data_list_of_dicts[28784]['text']\n",
      "print\n",
      "print data_list_of_dicts[69522]['text'][:10000]\n",
      "print\n",
      "print data_list_of_dicts[28857]['text'][:10000]"
     ],
     "language": "python",
     "metadata": {},
     "outputs": [
      {
       "output_type": "stream",
       "stream": "stdout",
       "text": [
        "\n",
        "\n",
        "TITLE VIII--SPENDING REDUCTIONS AND APPROPRIATE REVENUE RAISERS FOR NEW                            TAX RELIEF POLICY    SEC. 801. NONQUALIFIED DEFERRED COMPENSATION FROM CERTAIN TAX       INDIFFERENT PARTIES.    (a) In General.--Subpart B of part II of subchapter E of chapter 1 is amended by inserting after section 457 the following new section:``SEC. 457A. NONQUALIFIED DEFERRED COMPENSATION FROM CERTAIN TAX INDIFFERENT PARTIES.    ``(a) In General.--Any compensation which is deferred under a nonqualified deferred compensation plan of a nonqualified entity shall be includible in gross income when there is no substantial risk of forfeiture of the rights to such compensation.    ``(b) Nonqualified Entity.--For purposes of this section, the term `nonqualified entity' means--        ``(1) any foreign corporation unless substantially all of its     income is--            ``(A) effectively connected with the conduct of a trade or         business in the United States, or            ``(B) subject to a comprehensive foreign income tax, and        ``(2) any partnership unless substantially all of its income is     allocated to persons other than--            ``(A) foreign persons with respect to whom such income is         not subject to a comprehensive foreign income tax, and            ``(B) organizations which are exempt from tax under this         title.    ``(c) Determinability of Amounts of Compensation.--        ``(1) In general.--If the amount of any compensation is not     determinable at the time that such compensation is otherwise     includible in gross income under subsection (a)--            ``(A) such amount shall be so includible in gross income         when determinable, and            ``(B) the tax imposed under this chapter for the taxable         year in which such compensation is includible in gross income         shall be increased by the sum of--                ``(i) the amount of interest determined under paragraph             (2), and                ``(ii) an amount equal to 20 percent of the amount of             such compensation.        ``(2) Interest.--For purposes of paragraph (1)(B)(i), the     interest determined under this paragraph for any taxable year is     the amount of interest at the underpayment rate under section 6621     plus 1 percentage point on the underpayments that would have     occurred had the deferred compensation been includible in gross     income for the taxable year in which first deferred or, if later,     the first taxable year in which such deferred compensation is not     subject to a substantial risk of forfeiture.    ``(d) Other Definitions and Special Rules.--For purposes of this section--        ``(1) Substantial risk of forfeiture.--            ``(A) In general.--The rights of a person to compensation         shall be treated as subject to a substantial risk of forfeiture         only if such person's rights to such compensation are         conditioned upon the future performance of substantial services         by any individual.            ``(B) Exception for compensation based on gain recognized         on an investment asset.--                ``(i) In general.--To the extent provided in             regulations prescribed by the Secretary, if compensation is             determined solely by reference to the amount of gain             recognized on the disposition of an investment asset, such             compensation shall be treated as subject to a substantial             risk of forfeiture until the date of such disposition.                ``(ii) Investment asset.--For purposes of clause (i),             the term `investment asset' means any single asset (other             than an investment fund or similar entity)--                    ``(I) acquired directly by an investment fund or                 similar entity,                    ``(II) with respect to which such entity does not                 (nor does any person related to such entity)                 participate in the active management of such asset (or                 if such asset is an interest in an entity, in the                 active management of the activities of such entity),                 and                    ``(III) substantially all of any gain on the                 disposition of which (other than such deferred                 compensation) is allocated to investors in such entity.                ``(iii) Coordination with special rule.--Paragraph             (3)(B) shall not apply to any compensation to which clause             (i) applies.        ``(2) Comprehensive foreign income tax.--The term     `comprehensive foreign income tax' means, with respect to any     foreign person, the income tax of a foreign country if--            ``(A) such person is eligible for the benefits of a         comprehensive income tax treaty between such foreign country         and the United States, or            ``(B) such person demonstrates to the satisfaction of the         Secretary that such foreign country has a comprehensive income         tax.        ``(3) Nonqualified deferred compensation plan.--            ``(A) In general.--The term `nonqualified deferred         compensation plan' has the meaning given such term under         section 409A(d), except that such term shall include any plan         that provides a right to compensation based on the appreciation         in value of a specified number of equity units of the service         recipient.            ``(B) Exception.--Compensation shall not be treated as         deferred for purposes of this section if the service provider         receives payment of such compensation not later than 12 months         after the end of the taxable year of the service recipient         during which the right to the payment of such compensation is         no longer subject to a substantial risk of forfeiture.        ``(4) Exception for certain compensation with respect to     effectively connected income.--In the case a foreign corporation     with income which is taxable under section 882, this section shall     not apply to compensation which, had such compensation had been     paid in cash on the date that such compensation ceased to be     subject to a substantial risk of forfeiture, would have been     deductible by such foreign corporation against such income.        ``(5) Application of rules.--Rules similar to the rules of     paragraphs (5) and (6) of section 409A(d) shall apply.    ``(e) Regulations.--The Secretary shall prescribe such regulations as may be necessary or appropriate to carry out the purposes of this section, including regulations disregarding a substantial risk of forfeiture in cases where necessary to carry out the purposes of this section.''.    (b) Conforming Amendment.--Section 26(b)(2), as amended by the Housing Assistance Tax Act of 2008, is amended by striking ``and'' at the end of subparagraph (V), by striking the period at the end of subparagraph (W) and inserting ``, and'', and by adding at the end the following new subparagraph:            ``(X) section 457A(c)(1)(B) (relating to determinability of         amounts of compensation).''.    (c) Clerical Amendment.--The table of sections of subpart B of part II of subchapter E of chapter 1 is amended by inserting after the item relating to section 457 the following new item:``Sec. 457A. Nonqualified deferred compensation from certain tax           indifferent parties.''.    (d) Effective Date.--        (1) In general.--Except as otherwise provided in this     subsection, the amendments made by this section shall apply to     amounts deferred which are attributable to services performed after     December 31, 2008.        (2) Application to existing deferrals.--In the case of any     amount deferred to which the amendments made by this section do not     apply solely by reason of the fact that the amount is attributable     to services performed before January 1, 2009, to the extent such     amount is not includible in gross income in a taxable year     beginning before 2018, such amounts shall be includible in gross     income in the later of--            (A) the last taxable year beginning before 2018, or            (B) the taxable year in which there is no substantial risk         of forfeiture of the rights to such compensation (determined in         the same manner as determined for purposes of section 457A of         the Internal Revenue Code of 1986, as added by this section).        (3) Accelerated payments.--No later than 120 days after the     date of the enactment of this Act, the Secretary shall issue     guidance providing a limited period of time during which a     nonqualified deferred compensation arrangement attributable to     services performed on or before December 31, 2008, may, without     violating the requirements of section 409A(a) of the Internal     Revenue Code of 1986, be amended to conform the date of     distribution to the date the amounts are required to be included in     income.        (4) Certain back-to-back arrangements.--If the taxpayer is also     a service recipient and maintains one or more nonqualified deferred     compensation arrangements for its service providers under which any     amount is attributable to services performed on or before December     31, 2008, the guidance issued under paragraph (4) shall permit such     arrangements to be amended to conform the dates of distribution     under such arrangement to the date amounts are required to be     included in the income of such taxpayer under this subsection.        (5) Accelerated payment not treated as material modification.--    Any amendment to a nonqualified deferred compensation arrangement     made pursuant to paragraph (4) or (5) shall not be treated as a     material modification of the arrangement for purposes of section     409A of the Internal Revenue Code of 1986.                               Speaker of the House of Representatives.                \n",
        "\n",
        "SEC. 406. NONQUALIFIED DEFERRED COMPENSATION FROM CERTAIN TAX               INDIFFERENT PARTIES.    (a) In General.--Subpart B of part II of subchapter E of chapter 1 is amended by inserting after section 457 the following new section:``SEC. 457A. NONQUALIFIED DEFERRED COMPENSATION FROM CERTAIN TAX               INDIFFERENT PARTIES.    ``(a) In General.--Any compensation of a service provider which is deferred under a nonqualified deferred compensation plan of a nonqualified entity shall be includible in gross income when there is no substantial risk of forfeiture of the rights to such compensation.    ``(b) Nonqualified Entity.--For purposes of this section, the term `nonqualified entity' means--            ``(1) any foreign corporation unless substantially all of         its income is--                    ``(A) effectively connected with the conduct of a                 trade or business in the United States, or                    ``(B) subject to a comprehensive foreign income                 tax, and            ``(2) any partnership unless substantially all of its         income is, directly or indirectly, allocated to--                    ``(A) United States persons (other than persons                 exempt from tax under this title),                    ``(B) foreign persons with respect to whom such                 income is subject to a comprehensive foreign income                 tax,                    ``(C) foreign persons with respect to whom--                            ``(i) such income is effectively connected                         with the conduct of a trade or business within                         the United States, and                            ``(ii) a withholding tax is paid under                         section 1446 with respect to such income, or                    ``(D) organizations which are exempt from tax under                 this title if such income is unrelated business taxable                 income (as defined in section 512) with respect to such                 organization.    ``(c) Determinability of Amounts of Compensation.--            ``(1) In general.--If the amount of any compensation is not         determinable at the time that such compensation is otherwise         includible in gross income under subsection (a)--                    ``(A) such amount shall be so includible in gross                 income when determinable, and                    ``(B) the tax imposed under this chapter for the                 taxable year in which such compensation is includible                 in gross income shall be increased by the sum of--                            ``(i) the amount of interest determined                         under paragraph (2), and                            ``(ii) an amount equal to 20 percent of the                         amount of such compensation.            ``(2) Interest.--For purposes of paragraph (1)(B)(i), the         interest determined under this paragraph for any taxable year         is the amount of interest at the underpayment rate under         section 6621 plus 1 percentage point on the underpayments that         would have occurred had the deferred compensation been         includible in gross income for the taxable year in which first         deferred or, if later, the first taxable year in which such         deferred compensation is not subject to a substantial risk of         forfeiture.    ``(d) Other Definitions and Special Rules.--For purposes of this section--            ``(1) Substantial risk of forfeiture.--                    ``(A) In general.--The rights of a person to                 compensation shall be treated as subject to a                 substantial risk of forfeiture only if such person's                 rights to such compensation are conditioned upon the                 future performance of substantial services by any                 individual.                    ``(B) Exception for compensation based on gain                 recognized on an investment asset.--                            ``(i) In general.--To the extent provided                         in regulations prescribed by the Secretary, if                         compensation of a service provider is                         determined solely by reference to the amount of                         gain recognized on the disposition of an                         investment asset, such compensation shall be                         treated as subject to a substantial risk of                         forfeiture until the date of such disposition.                            ``(ii) Investment asset.--For purposes of                         clause (i), the term `investment asset' means                         any single asset (other than an investment fund                         or similar entity)--                                    ``(I) acquired directly by an                                 investment fund or similar entity,                                    ``(II) with respect to which such                                 entity does not (nor does any person                                 related to such entity) participate in                                 the active management of such asset (or                                 if such asset is an interest in an                                 entity, in the active management of the                                 activities of such entity), and                                    ``(III) substantially all of any                                 gain on the disposition of which (other                                 than such deferred compensation) is                                 allocated to investors in such entity.                            ``(iii) Coordination with special rule.--                        Paragraph (3)(B) shall not apply to any                         compensation to which clause (i) applies.            ``(2) Comprehensive foreign income tax.--The term         `comprehensive foreign income tax' means, with respect to any         foreign person, the income tax of a foreign country if--                    ``(A) such person is eligible for the benefits of a                 comprehensive income tax treaty between such foreign                 country and the United States, or                    ``(B) such person demonstrates to the satisfaction                 of the Secretary that such foreign country has a                 comprehensive income tax.            ``(3) Nonqualified deferred compensation plan.--                    ``(A) In general.--The term `nonqualified deferred                 compensation plan' has the meaning given such term                 under section 409A(d), except that such term shall                 include any plan that provides a right to compensation                 based on the appreciation in value of a specified                 number of equity units of the service recipient.                    ``(B) Exception.--Compensation shall not be treated                 as deferred for purposes of this section if the service                 provider receives payment of such compensation not                 later than 12 months after the end of the taxable year                 of the service recipient during which the right to the                 payment of such compensation is no longer subject to a                 substantial risk of forfeiture.            ``(4) Service provider.--The term `service provider' has         the meaning given such term in the regulations under section         409A, determined without regard to method of accounting.            ``(5) Exception for certain compensation with respect to         effectively connected income.--In the case of a foreign         corporation with income which is taxable under section 882,         this section shall not apply to compensation payable by such         foreign corporation which, had such compensation been paid in         cash on the date that such compensation ceased to be subject to         a substantial risk of forfeiture, would have been deductible by         such foreign corporation against such income.            ``(6) Exception with respect to employees of certain         subsidiaries.--This section shall not apply to compensation         deferred under a nonqualified deferred compensation plan of a         nonqualified entity if--                    ``(A) such compensation is payable to an employee                 of a domestic subsidiary of such entity, and                    ``(B) such compensation is reasonably expected to                 be deductible by such subsidiary under section                 404(a)(5) when such compensation is includible in                 income by such employee.            ``(7) Application of rules.--Rules similar to the rules of         paragraphs (5) and (6) of section 409A(d) shall apply.    ``(e) Regulations.--The Secretary shall prescribe such regulations as may be necessary or appropriate to carry out the purposes of this section, including regulations--            ``(1) disregarding a substantial risk of forfeiture in         cases where necessary to carry out the purposes of this         section, and            ``(2) providing appropriate treatment where an individual         who was employed by an employer which is not a nonqualified         entity is temporarily employed by a nonqualified entity which         is related to such employer.''.    (b) Conforming Amendment.--Section 26(b)(2) is amended by striking ``and'' at the end of subparagraph (V), by striking the period at the end of subparagraph (W) and inserting ``, and'', and by adding at the end the following new subparagraph:                    ``(X) section 457A(c)(1)(B) (relating to                 determinability of amounts of compensation).''.    (c) Clerical Amendment.--The table of sections of subpart B of part II of subchapter E of chapter 1 is amended by inserting after the item relating to\n"
       ]
      }
     ],
     "prompt_number": 320
    },
    {
     "cell_type": "code",
     "collapsed": true,
     "input": [
      "\n",
      "print data_list_of_dicts[94516]\n",
      "print\n",
      "print data_list_of_dicts[69496]\n"
     ],
     "language": "python",
     "metadata": {},
     "outputs": [
      {
       "output_type": "stream",
       "stream": "stdout",
       "text": [
        "{'IssuedOn': '2008-05-14', 'bill_version': 'hr6049-110-ih', 'sec_sequence': '1', 'SecCount': '85', 'BillVer': 'ih', 'sec_id': '214221', 'text': \"SECTION 1. SHORT TITLE, ETC.    (a) Short Title.--This Act may be cited as the ``Energy and Tax Extenders Act of 2008''.    (b) Reference.--Except as otherwise expressly provided, whenever in this Act an amendment or repeal is expressed in terms of an amendment to, or repeal of, a section or other provision, the reference shall be considered to be made to a section or other provision of the Internal Revenue Code of 1986.    (c) Table of Contents.--The table of contents for this Act is as follows:Sec. 1. Short title, etc.\", 'Bill_id': '442251', 'Cong': '110', 'sec_length': '538', 'bill_ver_id': '23870', 'BillNum': '6049', 'BillType': 'hr'}\n",
        "\n",
        "{'IssuedOn': '2008-10-03', 'bill_version': 'hr1424-110-enr', 'sec_sequence': '13', 'SecCount': '39', 'BillVer': 'enr', 'sec_id': '189201', 'text': \"SEC. 1. SHORT TITLE, ETC.    (a) Short Title.--This division may be cited as the ``Energy Improvement and Extension Act of 2008''.    (b) Reference.--Except as otherwise expressly provided, whenever in this division an amendment or repeal is expressed in terms of an amendment to, or repeal of, a section or other provision, the reference shall be considered to be made to a section or other provision of the Internal Revenue Code of 1986.    (c) Table of Contents.--The table of contents for this division is as follows:Sec. 1. Short title, etc.\", 'Bill_id': '437626', 'Cong': '110', 'sec_length': '559', 'bill_ver_id': '21413', 'BillNum': '1424', 'BillType': 'hr'}\n"
       ]
      }
     ],
     "prompt_number": 216
    },
    {
     "cell_type": "code",
     "collapsed": false,
     "input": [
      "exclude = set()\n",
      "for query_idx, matches in top_matches_dates:\n",
      "    leng = len( data_list_of_dicts[query_idx]['text'].split() )\n",
      "    #print leng\n",
      "    if leng < 200:\n",
      "        exclude.add( query_idx )"
     ],
     "language": "python",
     "metadata": {},
     "outputs": [],
     "prompt_number": 432
    },
    {
     "cell_type": "code",
     "collapsed": false,
     "input": [
      "import cPickle\n",
      "import utils_text\n",
      "reload( utils_text )\n",
      "\n",
      "with open( '../../../../interactiveml/labelcli/outputs/query_match_results.pkl.bak' ) as f:\n",
      "    query_match_results = cPickle.load( f )\n",
      "\n",
      "with open( './query_match.pkl' ) as f:\n",
      "    query_match = cPickle.load( f )\n",
      "\n",
      "query_indices = [i[0] for i in query_match ]\n",
      "#print len( query_indices )\n",
      "#print len( query_match_results )\n",
      "indices_results_dict = dict( zip( query_indices, query_match_results ) )\n",
      "\n",
      "lengths_jaccards = []\n",
      "\n",
      "for index, ( query_text, match_text ) in query_match:\n",
      "    length = len( query_text.split() )\n",
      "    query_text_set = set( query_text.split() )\n",
      "    match_text_set = set( match_text.split() )\n",
      "    jaccard = utils_text.jaccard( query_text_set, match_text_set )\n",
      "    lengths_jaccards.append( (length, jaccard) )\n"
     ],
     "language": "python",
     "metadata": {},
     "outputs": [
      {
       "ename": "ImportError",
       "evalue": "No module named utils_text",
       "output_type": "pyerr",
       "traceback": [
        "\u001b[0;31m---------------------------------------------------------------------------\u001b[0m\n\u001b[0;31mImportError\u001b[0m                               Traceback (most recent call last)",
        "\u001b[0;32m<ipython-input-1-5048d7cb9086>\u001b[0m in \u001b[0;36m<module>\u001b[0;34m()\u001b[0m\n\u001b[1;32m      1\u001b[0m \u001b[0;32mimport\u001b[0m \u001b[0mcPickle\u001b[0m\u001b[0;34m\u001b[0m\u001b[0m\n\u001b[0;32m----> 2\u001b[0;31m \u001b[0;32mimport\u001b[0m \u001b[0mutils_text\u001b[0m\u001b[0;34m\u001b[0m\u001b[0m\n\u001b[0m\u001b[1;32m      3\u001b[0m \u001b[0mreload\u001b[0m\u001b[0;34m(\u001b[0m \u001b[0mutils_text\u001b[0m \u001b[0;34m)\u001b[0m\u001b[0;34m\u001b[0m\u001b[0m\n\u001b[1;32m      4\u001b[0m \u001b[0;34m\u001b[0m\u001b[0m\n\u001b[1;32m      5\u001b[0m \u001b[0;32mwith\u001b[0m \u001b[0mopen\u001b[0m\u001b[0;34m(\u001b[0m \u001b[0;34m'../../../../interactiveml/labelcli/outputs/query_match_results.pkl.bak'\u001b[0m \u001b[0;34m)\u001b[0m \u001b[0;32mas\u001b[0m \u001b[0mf\u001b[0m\u001b[0;34m:\u001b[0m\u001b[0;34m\u001b[0m\u001b[0m\n",
        "\u001b[0;31mImportError\u001b[0m: No module named utils_text"
       ]
      }
     ],
     "prompt_number": 1
    },
    {
     "cell_type": "code",
     "collapsed": false,
     "input": [
      "indices_results_dict"
     ],
     "language": "python",
     "metadata": {},
     "outputs": [
      {
       "metadata": {},
       "output_type": "pyout",
       "prompt_number": 25,
       "text": [
        "{(69486, 518): '0',\n",
        " (69486, 545): '0',\n",
        " (69486, 1704): '0',\n",
        " (69486, 1931): '0',\n",
        " (69486, 3501): '0',\n",
        " (69486, 3771): '0',\n",
        " (69486, 4685): '0',\n",
        " (69486, 7394): '0',\n",
        " (69486, 7597): '0',\n",
        " (69486, 8110): '0',\n",
        " (69486, 13157): '0',\n",
        " (69486, 14198): '0',\n",
        " (69486, 19213): '0',\n",
        " (69486, 20313): '0',\n",
        " (69486, 44441): '0',\n",
        " (69486, 44476): '0',\n",
        " (69486, 44511): '0',\n",
        " (69486, 57930): '0',\n",
        " (69486, 57969): '0',\n",
        " (69486, 70416): '0',\n",
        " (69486, 74584): '0',\n",
        " (69486, 74684): '0',\n",
        " (69486, 74795): '0',\n",
        " (69486, 74906): '0',\n",
        " (69486, 74990): '0',\n",
        " (69486, 75077): '0',\n",
        " (69486, 101234): '0',\n",
        " (69486, 101843): '0',\n",
        " (69486, 103227): '0',\n",
        " (69486, 116490): '0',\n",
        " (69486, 122494): '0',\n",
        " (69486, 138360): '0',\n",
        " (69494, 69574): '0',\n",
        " (69496, 2139): '0',\n",
        " (69496, 4029): '0',\n",
        " (69496, 4158): '0',\n",
        " (69496, 17678): '0',\n",
        " (69496, 17691): '0',\n",
        " (69496, 17704): '0',\n",
        " (69496, 17717): '0',\n",
        " (69496, 22049): '0',\n",
        " (69496, 23385): '0',\n",
        " (69496, 23820): '0',\n",
        " (69496, 24069): '0',\n",
        " (69496, 27181): '0',\n",
        " (69496, 27190): '0',\n",
        " (69496, 27222): '0',\n",
        " (69496, 27254): '0',\n",
        " (69496, 28708): '0',\n",
        " (69496, 28784): '0',\n",
        " (69496, 28860): '0',\n",
        " (69496, 29897): '0',\n",
        " (69496, 29960): '0',\n",
        " (69496, 29979): '0',\n",
        " (69496, 30004): '0',\n",
        " (69496, 30050): '0',\n",
        " (69496, 30075): '0',\n",
        " (69496, 31534): '0',\n",
        " (69496, 31568): '0',\n",
        " (69496, 31602): '0',\n",
        " (69496, 34385): '0',\n",
        " (69496, 34501): '0',\n",
        " (69496, 34518): '0',\n",
        " (69496, 34535): '0',\n",
        " (69496, 56275): '0',\n",
        " (69496, 56336): '0',\n",
        " (69496, 56411): '0',\n",
        " (69496, 56486): '0',\n",
        " (69496, 59610): '0',\n",
        " (69496, 61139): '0',\n",
        " (69496, 69506): '0',\n",
        " (69496, 69577): '1',\n",
        " (69496, 69627): '0',\n",
        " (69496, 81253): '1',\n",
        " (69496, 84722): '0',\n",
        " (69496, 94387): '1',\n",
        " (69496, 94516): '0',\n",
        " (69496, 94601): '0',\n",
        " (69496, 94682): '0',\n",
        " (69496, 94763): '0',\n",
        " (69496, 99928): '0',\n",
        " (69496, 110118): '0',\n",
        " (69496, 117621): '0',\n",
        " (69496, 130615): '0',\n",
        " (69496, 131737): '0',\n",
        " (69496, 134106): '0',\n",
        " (69496, 138905): '0',\n",
        " (69497, 131738): '1',\n",
        " (69498, 131739): '1',\n",
        " (69500, 28712): '1',\n",
        " (69500, 28788): '1',\n",
        " (69500, 28864): '1',\n",
        " (69500, 81255): '1',\n",
        " (69500, 131742): '1',\n",
        " (69502, 69604): '0',\n",
        " (69502, 94414): '0',\n",
        " (69502, 131762): '0',\n",
        " (69504, 2154): '0',\n",
        " (69504, 4178): '0',\n",
        " (69504, 22974): '0',\n",
        " (69504, 28778): '0',\n",
        " (69504, 28854): '0',\n",
        " (69504, 28930): '0',\n",
        " (69504, 56407): '0',\n",
        " (69504, 56482): '0',\n",
        " (69504, 56557): '0',\n",
        " (69504, 69623): '0',\n",
        " (69504, 81283): '0',\n",
        " (69504, 82394): '0',\n",
        " (69504, 94199): '0',\n",
        " (69504, 94232): '0',\n",
        " (69504, 94433): '0',\n",
        " (69504, 110215): '0',\n",
        " (69504, 131789): '0',\n",
        " (69505, 94436): '1',\n",
        " (69506, 2139): '0',\n",
        " (69506, 3950): '0',\n",
        " (69506, 3985): '0',\n",
        " (69506, 4029): '0',\n",
        " (69506, 4158): '0',\n",
        " (69506, 17678): '1',\n",
        " (69506, 17691): '1',\n",
        " (69506, 17704): '1',\n",
        " (69506, 17717): '1',\n",
        " (69506, 19139): '0',\n",
        " (69506, 22049): '0',\n",
        " (69506, 23385): '0',\n",
        " (69506, 23820): '0',\n",
        " (69506, 24069): '0',\n",
        " (69506, 27181): '0',\n",
        " (69506, 27190): '0',\n",
        " (69506, 27222): '0',\n",
        " (69506, 27254): '0',\n",
        " (69506, 28708): '0',\n",
        " (69506, 28784): '0',\n",
        " (69506, 28860): '0',\n",
        " (69506, 29937): '0',\n",
        " (69506, 29960): '0',\n",
        " (69506, 29979): '0',\n",
        " (69506, 30004): '0',\n",
        " (69506, 30050): '0',\n",
        " (69506, 30075): '0',\n",
        " (69506, 31534): '0',\n",
        " (69506, 31568): '0',\n",
        " (69506, 31602): '0',\n",
        " (69506, 59610): '0',\n",
        " (69506, 61139): '0',\n",
        " (69506, 69364): '0',\n",
        " (69506, 69496): '0',\n",
        " (69506, 69577): '0',\n",
        " (69506, 69627): '1',\n",
        " (69506, 84722): '0',\n",
        " (69506, 94169): '0',\n",
        " (69506, 94202): '0',\n",
        " (69506, 94437): '1',\n",
        " (69506, 94516): '0',\n",
        " (69506, 98545): '1',\n",
        " (69506, 103181): '0',\n",
        " (69506, 106861): '0',\n",
        " (69506, 110118): '0',\n",
        " (69506, 130615): '0',\n",
        " (69506, 132688): '0',\n",
        " (69506, 134106): '0',\n",
        " (69506, 137696): '1',\n",
        " (69507, 34502): '1',\n",
        " (69507, 34519): '1',\n",
        " (69507, 34536): '1',\n",
        " (69507, 56337): '1',\n",
        " (69507, 56412): '1',\n",
        " (69507, 56487): '1',\n",
        " (69507, 98546): '1',\n",
        " (69507, 137697): '1',\n",
        " (69508, 98547): '1',\n",
        " (69508, 137698): '1',\n",
        " (69509, 98548): '1',\n",
        " (69509, 137699): '1',\n",
        " (69511, 69632): '1',\n",
        " (69511, 94443): '1',\n",
        " (69512, 131743): '1',\n",
        " (69515, 1552): '0',\n",
        " (69515, 13028): '0',\n",
        " (69515, 13032): '0',\n",
        " (69515, 13036): '0',\n",
        " (69515, 34507): '0',\n",
        " (69515, 34524): '0',\n",
        " (69515, 34541): '0',\n",
        " (69515, 56346): '0',\n",
        " (69515, 56421): '0',\n",
        " (69515, 56496): '0',\n",
        " (69515, 69639): '0',\n",
        " (69515, 94450): '0',\n",
        " (69515, 94592): '0',\n",
        " (69515, 94673): '0',\n",
        " (69515, 94754): '0',\n",
        " (69515, 94835): '0',\n",
        " (69515, 110155): '0',\n",
        " (69515, 118128): '0',\n",
        " (69515, 134140): '0',\n",
        " (69518, 69677): '1',\n",
        " (69518, 94488): '1',\n",
        " (69519, 59659): '0',\n",
        " (69519, 69686): '0',\n",
        " (69519, 94497): '0',\n",
        " (69519, 95298): '0',\n",
        " (69519, 95300): '0',\n",
        " (69519, 95303): '0',\n",
        " (69519, 110196): '0',\n",
        " (69520, 59656): '1',\n",
        " (69520, 69689): '1',\n",
        " (69520, 82400): '1',\n",
        " (69520, 92388): '1',\n",
        " (69520, 92935): '1',\n",
        " (69520, 94500): '1',\n",
        " (69520, 110199): '1',\n",
        " (69520, 131793): '1',\n",
        " (69520, 134186): '1',\n",
        " (69521, 170): '0',\n",
        " (69521, 69693): '1',\n",
        " (69521, 91429): '1',\n",
        " (69521, 94504): '1',\n",
        " (69521, 132775): '1',\n",
        " (69522, 644): '1',\n",
        " (69522, 2153): '1',\n",
        " (69522, 4174): '1',\n",
        " (69522, 5623): '1',\n",
        " (69522, 28781): '1',\n",
        " (69522, 28857): '1',\n",
        " (69522, 28933): '1',\n",
        " (69522, 34510): '1',\n",
        " (69522, 34527): '1',\n",
        " (69522, 34544): '1',\n",
        " (69522, 42449): '1',\n",
        " (69522, 56402): '1',\n",
        " (69522, 56477): '1',\n",
        " (69522, 56552): '1',\n",
        " (69522, 59662): '1',\n",
        " (69522, 69704): '1',\n",
        " (69522, 94515): '1',\n",
        " (69522, 94598): '1',\n",
        " (69522, 94679): '1',\n",
        " (69522, 94760): '1',\n",
        " (69522, 94841): '1',\n",
        " (69522, 110213): '1',\n",
        " (69522, 118051): '1',\n",
        " (69522, 132709): '1',\n",
        " (69522, 134189): '1'}"
       ]
      }
     ],
     "prompt_number": 25
    },
    {
     "cell_type": "code",
     "collapsed": false,
     "input": [],
     "language": "python",
     "metadata": {},
     "outputs": []
    },
    {
     "cell_type": "code",
     "collapsed": false,
     "input": [
      "negatives = []\n",
      "positives = []\n",
      "negatives = [ i for (idx, i) in enumerate( lengths_jaccards ) if query_match_results[idx] == '0' ]\n",
      "positives = [ i for (idx, i) in enumerate( lengths_jaccards ) if query_match_results[idx] == '1' ]\n",
      "\n",
      "scatter( *zip(*negatives), c='r', marker='x' )\n",
      "scatter( *zip(*positives), c='b', marker='o' )\n",
      "xlabel( \"Length (words)\" )\n",
      "ylabel( \"Jaccard Index\" )"
     ],
     "language": "python",
     "metadata": {},
     "outputs": [
      {
       "metadata": {},
       "output_type": "pyout",
       "prompt_number": 3,
       "text": [
        "<matplotlib.text.Text at 0x105c4bf10>"
       ]
      },
      {
       "metadata": {},
       "output_type": "display_data",
       "png": "[encoded data removed]",
       "text": [
        "<matplotlib.figure.Figure at 0x105c0d9d0>"
       ]
      }
     ],
     "prompt_number": 3
    },
    {
     "cell_type": "code",
     "collapsed": false,
     "input": [
      "from sklearn import linear_model\n",
      "from sklearn import ensemble\n",
      "\n",
      "X_neg = negatives\n",
      "X_pos = positives\n",
      "X = numpy.array( X_neg + X_pos )\n",
      "Y = [ 0 ] * len( X_neg ) + [1]*len(X_pos)\n",
      "#clf = ensemble.RandomForestClassifier()\n",
      "clf = linear_model.LogisticRegression()\n",
      "clf.fit(X, Y)"
     ],
     "language": "python",
     "metadata": {},
     "outputs": [
      {
       "metadata": {},
       "output_type": "pyout",
       "prompt_number": 18,
       "text": [
        "LogisticRegression(C=1.0, class_weight=None, dual=False, fit_intercept=True,\n",
        "          intercept_scaling=1, penalty='l2', random_state=None, tol=0.0001)"
       ]
      }
     ],
     "prompt_number": 18
    },
    {
     "cell_type": "code",
     "collapsed": false,
     "input": [
      "predictions = clf.predict( X )\n",
      "print clf.coef_\n",
      "print predictions\n",
      "print numpy.array(Y)"
     ],
     "language": "python",
     "metadata": {},
     "outputs": [
      {
       "output_type": "stream",
       "stream": "stdout",
       "text": [
        "[[  1.69200152e-04   2.11419316e+00]]\n",
        "[0 0 0 0 0 0 0 0 0 0 0 0 0 0 0 0 0 0 0 0 0 0 0 0 0 0 0 0 0 0 0 0 0 0 0 0 0\n",
        " 0 0 0 0 0 0 0 0 0 0 0 0 0 0 0 0 0 0 0 0 0 0 0 0 0 0 0 0 0 0 0 0 0 0 0 0 0\n",
        " 0 0 0 0 0 0 0 0 0 0 0 0 0 0 0 0 0 0 0 0 0 0 0 0 0 0 0 0 0 0 0 0 0 0 0 0 0\n",
        " 0 0 0 0 0 0 0 0 0 0 0 0 0 0 0 0 0 0 0 0 0 0 0 0 0 0 0 0 0 0 0 0 0 0 0 0 0\n",
        " 0 0 0 0 0 0 0 0 0 0 0 0 0 0 0 0 0 0 0 0 0 0 0 0 0 0 0 0 0 0 0 0 0 0 0 0 0\n",
        " 0 0 0 0 0 0 0 0 0 0 0 0 0 0 0 0 0 0 0 0 0 0 0 1 1 1 1 1 1 1 1 1 0 0 0 0 0\n",
        " 0 0 0 0 0 0 0 0 0 0 0 0 0 0 0 0 0 0 0 0 0 0 0 0]\n",
        "[0 0 0 0 0 0 0 0 0 0 0 0 0 0 0 0 0 0 0 0 0 0 0 0 0 0 0 0 0 0 0 0 0 0 0 0 0\n",
        " 0 0 0 0 0 0 0 0 0 0 0 0 0 0 0 0 0 0 0 0 0 0 0 0 0 0 0 0 0 0 0 0 0 0 0 0 0\n",
        " 0 0 0 0 0 0 0 0 0 0 0 0 0 0 0 0 0 0 0 0 0 0 0 0 0 0 0 0 0 0 0 0 0 0 0 0 0\n",
        " 0 0 0 0 0 0 0 0 0 0 0 0 0 0 0 0 0 0 0 0 0 0 0 0 0 0 0 0 0 0 0 0 0 0 0 0 0\n",
        " 0 0 0 0 0 0 0 0 0 0 0 0 0 0 0 0 0 0 0 0 0 0 0 0 1 1 1 1 1 1 1 1 1 1 1 1 1\n",
        " 1 1 1 1 1 1 1 1 1 1 1 1 1 1 1 1 1 1 1 1 1 1 1 1 1 1 1 1 1 1 1 1 1 1 1 1 1\n",
        " 1 1 1 1 1 1 1 1 1 1 1 1 1 1 1 1 1 1 1 1 1 1 1 1]\n"
       ]
      }
     ],
     "prompt_number": 20
    },
    {
     "cell_type": "code",
     "collapsed": false,
     "input": [
      "print X.shape\n",
      "print Y.shape"
     ],
     "language": "python",
     "metadata": {},
     "outputs": [
      {
       "ename": "AttributeError",
       "evalue": "'list' object has no attribute 'shape'",
       "output_type": "pyerr",
       "traceback": [
        "\u001b[0;31m---------------------------------------------------------------------------\u001b[0m\n\u001b[0;31mAttributeError\u001b[0m                            Traceback (most recent call last)",
        "\u001b[0;32m<ipython-input-15-b7201fdfa61a>\u001b[0m in \u001b[0;36m<module>\u001b[0;34m()\u001b[0m\n\u001b[1;32m      1\u001b[0m \u001b[0;32mprint\u001b[0m \u001b[0mX\u001b[0m\u001b[0;34m.\u001b[0m\u001b[0mshape\u001b[0m\u001b[0;34m\u001b[0m\u001b[0m\n\u001b[0;32m----> 2\u001b[0;31m \u001b[0;32mprint\u001b[0m \u001b[0mY\u001b[0m\u001b[0;34m.\u001b[0m\u001b[0mshape\u001b[0m\u001b[0;34m\u001b[0m\u001b[0m\n\u001b[0m",
        "\u001b[0;31mAttributeError\u001b[0m: 'list' object has no attribute 'shape'"
       ]
      },
      {
       "output_type": "stream",
       "stream": "stdout",
       "text": [
        "(40, 2)\n"
       ]
      }
     ],
     "prompt_number": 15
    },
    {
     "cell_type": "code",
     "collapsed": false,
     "input": [
      "from sklearn import svm\n",
      "import pylab as pl\n",
      "X = np.r_[np.random.randn(20, 2) - [2, 2], np.random.randn(20, 2) + [2, 2]]\n",
      "Y = [0] * 20 + [1] * 20\n",
      "\n",
      "# fit the model\n",
      "clf = svm.SVC(kernel='linear')\n",
      "clf.fit(X, Y)\n",
      "clf.coef_\n",
      "# get the separating hyperplane\n",
      "w = clf.coef_[0]\n",
      "a = -w[0] / w[1]\n",
      "xx = np.linspace(-5, 5)\n",
      "yy = a * xx - (clf.intercept_[0]) / w[1]\n",
      "\n",
      "# plot the parallels to the separating hyperplane that pass through the\n",
      "# support vectors\n",
      "b = clf.support_vectors_[0]\n",
      "yy_down = a * xx + (b[1] - a * b[0])\n",
      "b = clf.support_vectors_[-1]\n",
      "yy_up = a * xx + (b[1] - a * b[0])\n",
      "\n",
      "# plot the line, the points, and the nearest vectors to the plane\n",
      "pl.plot(xx, yy, 'k-')\n",
      "pl.plot(xx, yy_down, 'k--')\n",
      "pl.plot(xx, yy_up, 'k--')\n",
      "\n",
      "pl.scatter(clf.support_vectors_[:, 0], clf.support_vectors_[:, 1],\n",
      "           s=80, facecolors='none')\n",
      "pl.scatter(X[:, 0], X[:, 1], c=Y, cmap=pl.cm.Paired)\n",
      "\n",
      "pl.axis('tight')\n",
      "pl.show()"
     ],
     "language": "python",
     "metadata": {},
     "outputs": [
      {
       "metadata": {},
       "output_type": "display_data",
       "png": "[encoded data removed]",
       "text": [
        "<matplotlib.figure.Figure at 0x107cc7910>"
       ]
      }
     ],
     "prompt_number": 13
    },
    {
     "cell_type": "code",
     "collapsed": false,
     "input": [],
     "language": "python",
     "metadata": {},
     "outputs": [
      {
       "output_type": "stream",
       "stream": "stdout",
       "text": [
        "((69486, 122494), (\"SECTION 1. SHORT TITLE AND TABLE OF CONTENTS.    (a) Short Title.--This division may be cited as the ``Emergency Economic Stabilization Act of 2008''.    (b) Table of Contents.--The table of contents for this division is as follows:Sec. 1. Short title and table of contents.Sec. 2. Purposes.Sec. 3. Definitions.\", \"SECTION 1. SHORT TITLE; TABLE OF CONTENTS.    (a) Short Title.--This Act may be cited as the ``Mortgage Origination Commission Act of 2008''.    (b) Table of Contents.--The table of contents for this Act is as follows:Sec. 1. Short title; table of contents.Sec. 2. Purposes.Sec. 3. Definitions.\"))\n"
       ]
      }
     ],
     "prompt_number": 454
    },
    {
     "cell_type": "code",
     "collapsed": false,
     "input": [
      "print top_matches_dates[0]\n",
      "print indices_results_dict.iteritems().next()"
     ],
     "language": "python",
     "metadata": {},
     "outputs": [
      {
       "output_type": "stream",
       "stream": "stdout",
       "text": [
        "(69484, [(69484, '2008-10-03')])\n",
        "((69496, 4158), '0')\n"
       ]
      }
     ],
     "prompt_number": 61
    },
    {
     "cell_type": "code",
     "collapsed": false,
     "input": [
      "#query_indices = [ i[0] for i in top_matches_dates ]\n",
      "\n",
      "\n",
      "filtered_data = []\n",
      "for query_idx, top_matches in top_matches_dates:\n",
      "    for match_idx, date in top_matches:\n",
      "        section_idx = data_list_of_dicts[query_idx]['sec_sequence']\n",
      "        dt = datetime.datetime.strptime( date, \"%Y-%m-%d\" )\n",
      "        query_match_indices = ( query_idx, match_idx )\n",
      "        if query_idx == match_idx:\n",
      "            filtered_data.append( ( dt, section_idx ) )\n",
      "        else:\n",
      "            pass\n",
      "            #print indices_results_dict[ query_match_indices ], \n",
      "            "
     ],
     "language": "python",
     "metadata": {},
     "outputs": [],
     "prompt_number": 76
    },
    {
     "cell_type": "code",
     "collapsed": false,
     "input": [
      "print sorted( list( tarp_indices ) )"
     ],
     "language": "python",
     "metadata": {},
     "outputs": [
      {
       "output_type": "stream",
       "stream": "stdout",
       "text": [
        "[69484, 69485, 69486, 69487, 69488, 69489, 69490, 69491, 69492, 69493, 69494, 69495, 69496, 69497, 69498, 69499, 69500, 69501, 69502, 69503, 69504, 69505, 69506, 69507, 69508, 69509, 69510, 69511, 69512, 69513, 69514, 69515, 69516, 69517, 69518, 69519, 69520, 69521, 69522]\n"
       ]
      }
     ],
     "prompt_number": 71
    },
    {
     "cell_type": "code",
     "collapsed": false,
     "input": [
      "ct = 0\n",
      "indices_to_plot = []\n",
      "for query_idx, matches in tarp_top_matches_jaccard:\n",
      "    for match_idx, jaccard in matches:\n",
      "        tup = ( query_idx, match_idx ) \n",
      "        if query_idx == match_idx:\n",
      "            indices_to_plot.append( tup )\n",
      "        elif jaccard == 1.0:\n",
      "            indices_to_plot.append( tup )\n",
      "        elif jaccard <= 0.5:\n",
      "            pass\n",
      "        else:\n",
      "            #ct += 1\n",
      "            if indices_results_dict[ tup ] == '1':\n",
      "                indices_to_plot.append( tup )\n",
      "            #print indices_results_dict[ ( query_idx, match_idx ) ]\n",
      "print len( indices_to_plot )          \n",
      "filtered_data = []\n",
      "for query_idx, match_idx in indices_to_plot:\n",
      "    section_idx = data_list_of_dicts[query_idx]['sec_sequence']\n",
      "    date = data_list_of_dicts[match_idx]['IssuedOn']\n",
      "    dt = datetime.datetime.strptime( date, \"%Y-%m-%d\" )\n",
      "    filtered_data.append( ( dt, section_idx ) )\n",
      "    "
     ],
     "language": "python",
     "metadata": {},
     "outputs": [
      {
       "output_type": "stream",
       "stream": "stdout",
       "text": [
        "145\n"
       ]
      }
     ],
     "prompt_number": 91
    },
    {
     "cell_type": "code",
     "collapsed": false,
     "input": [
      "import datetime\n",
      "#from matplotlib import pyplot as plt\n",
      "from matplotlib.dates import date2num\n",
      "\n",
      "data = []\n",
      "for query_idx, top_matches in top_matches_dates:\n",
      "    #if query_idx in exclude:\n",
      "    #    pass\n",
      "    #else:\n",
      "    if 1:\n",
      "        section_idx = data_list_of_dicts[query_idx]['sec_sequence']\n",
      "        for match_idx, date in top_matches:\n",
      "            dt = datetime.datetime.strptime( date, \"%Y-%m-%d\" )\n",
      "            data.append( ( dt, section_idx ) )\n",
      "    \n",
      "#data = [(DT.datetime.strptime('2010-02-05', \"%Y-%m-%d\"), 123),\n",
      "#        (DT.datetime.strptime('2010-02-19', \"%Y-%m-%d\"), 678),\n",
      "#        (DT.datetime.strptime('2010-03-05', \"%Y-%m-%d\"), 987),\n",
      "#        (DT.datetime.strptime('2010-03-19', \"%Y-%m-%d\"), 345)]"
     ],
     "language": "python",
     "metadata": {},
     "outputs": [],
     "prompt_number": 73
    },
    {
     "cell_type": "code",
     "collapsed": false,
     "input": [],
     "language": "python",
     "metadata": {},
     "outputs": [
      {
       "metadata": {},
       "output_type": "pyout",
       "prompt_number": 96,
       "text": [
        "732858.0"
       ]
      }
     ],
     "prompt_number": 96
    },
    {
     "cell_type": "code",
     "collapsed": false,
     "input": [
      "\n",
      "data = filtered_data\n",
      "\n",
      "x = [date2num(date) for (date, value) in data]\n",
      "y = [value for (date, value) in data]\n",
      "\n",
      "xmin = date2num( datetime.datetime( 2008, 9, 25 ) )\n",
      "xmax = date2num( datetime.datetime( 2008, 10, 10 ) )\n",
      "\n",
      "\n",
      "min_date = min( [ i[0] for i in data ] )\n",
      "max_date = max( [ i[0] for i in data ] )\n",
      "\n",
      "starting_month = datetime.datetime( min_date.year, min_date.month, day=1 )\n",
      "ending_month = max_date + dateutil.relativedelta.relativedelta( months=1 )\n",
      "ending_month = datetime.datetime( ending_month.year, ending_month.month, day=1 )\n",
      "#print starting_month\n",
      "#print ending_month \n",
      "\n",
      "months = []\n",
      "current_month = starting_month\n",
      "while current_month <= ending_month:\n",
      "    months.append( current_month )\n",
      "    current_month += dateutil.relativedelta.relativedelta( months=1 )\n",
      "    \n",
      "#print months\n",
      "\n",
      "fig = plt.figure()\n",
      "figsize( 10,6 )\n",
      "graph = fig.add_subplot(111)\n",
      "\n",
      "graph.scatter(x,y, s=25, c='k', marker='o', alpha=1)\n",
      "\n",
      "\n",
      "plt.xlabel( 'Date', fontsize='large' )\n",
      "plt.ylabel( 'Bill Section', fontsize='large' )\n",
      "\n",
      "# Set the xtick locations to correspond to just the dates you entered.\n",
      "\n",
      "month_nums = [ date2num( date ) for date in months ] \n",
      "graph.set_xticks( month_nums )\n",
      "plt.ylim( (0,40) )\n",
      "plt.xlim( ( xmin, xmax ) )\n",
      "plt.gca().invert_yaxis()\n",
      "graph.yaxis.set_label_position(\"right\")\n",
      "graph.yaxis.tick_right()\n",
      "# Set the xtick labels to correspond to just the dates you entered.\n",
      "graph.set_xticklabels(\n",
      "        [date.strftime(\"%Y-%m\") for date in months ], rotation=90, fontsize='large'\n",
      "        )\n",
      "\n",
      "\n",
      "\n",
      "plt.show()"
     ],
     "language": "python",
     "metadata": {},
     "outputs": [
      {
       "metadata": {},
       "output_type": "display_data",
       "png": "[encoded data removed]",
       "text": [
        "<matplotlib.figure.Figure at 0x1bf400dd0>"
       ]
      }
     ],
     "prompt_number": 140
    },
    {
     "cell_type": "code",
     "collapsed": false,
     "input": [
      "idx = get_tarp_index( tarp_indices, 14 )\n",
      "print data_list_of_dicts[idx]"
     ],
     "language": "python",
     "metadata": {},
     "outputs": [
      {
       "output_type": "stream",
       "stream": "stdout",
       "text": [
        "{'IssuedOn': '2008-10-03', 'bill_version': 'hr1424-110-enr', 'sec_sequence': '14', 'SecCount': '39', 'BillVer': 'enr', 'sec_id': '189202', 'text': '                  TITLE I--ENERGY PRODUCTION INCENTIVES                 Subtitle A--Renewable Energy IncentivesSec. 101. Renewable energy credit.Sec. 102. Production credit for electricity produced from marine           renewables.Sec. 103. Energy credit.Sec. 104. Energy credit for small wind property.Sec. 105. Energy credit for geothermal heat pump systems.Sec. 106. Credit for residential energy efficient property.Sec. 107. New clean renewable energy bonds.Sec. 108. Credit for steel industry fuel.Sec. 109. Special rule to implement FERC and State electric           restructuring policy.            Subtitle B--Carbon Mitigation and Coal ProvisionsSec. 111. Expansion and modification of advanced coal project investment           credit.Sec. 112. Expansion and modification of coal gasification investment           credit.Sec. 113. Temporary increase in coal excise tax; funding of Black Lung           Disability Trust Fund.Sec. 114. Special rules for refund of the coal excise tax to certain           coal producers and exporters.Sec. 115. Tax credit for carbon dioxide sequestration.Sec. 116. Certain income and gains relating to industrial source carbon           dioxide treated as qualifying income for publicly traded           partnerships.Sec. 117. Carbon audit of the tax code.', 'Bill_id': '437626', 'Cong': '110', 'sec_length': '1329', 'bill_ver_id': '21413', 'BillNum': '1424', 'BillType': 'hr'}\n"
       ]
      }
     ],
     "prompt_number": 150
    },
    {
     "cell_type": "code",
     "collapsed": false,
     "input": [
      "def get_tarp_index( tarp_indices, section ):\n",
      "    target_idx = None\n",
      "    for idx in tarp_indices:\n",
      "        if data_list_of_dicts[idx]['sec_sequence'] == str( section ):\n",
      "            target_idx = idx\n",
      "            break\n",
      "        else:\n",
      "            pass\n",
      "    return target_idx\n",
      "            \n",
      "        \n",
      "idx = get_tarp_index( tarp_indices, 37 )\n",
      "for i in range( 4 ):\n",
      "    \n",
      "    print data_list_of_dicts[idx+i]['text']\n"
     ],
     "language": "python",
     "metadata": {},
     "outputs": [
      {
       "output_type": "stream",
       "stream": "stdout",
       "text": [
        "                       TITLE VI--OTHER PROVISIONS    SEC. 601. SECURE RURAL SCHOOLS AND COMMUNITY SELF-DETERMINATION       PROGRAM.    (a) Reauthorization of the Secure Rural Schools and Community Self-Determination Act of 2000.--The Secure Rural Schools and Community Self-Determination Act of 2000 (16 U.S.C. 500 note; Public Law 106-393) is amended by striking sections 1 through 403 and inserting the following:``SEC. 1. SHORT TITLE.    ``This Act may be cited as the `Secure Rural Schools and Community Self-Determination Act of 2000'.``SEC. 2. PURPOSES.    ``The purposes of this Act are--        ``(1) to stabilize and transition payments to counties to     provide funding for schools and roads that supplements other     available funds;        ``(2) to make additional investments in, and create additional     employment opportunities through, projects that--            ``(A)(i) improve the maintenance of existing         infrastructure;            ``(ii) implement stewardship objectives that enhance forest         ecosystems; and            ``(iii) restore and improve land health and water quality;            ``(B) enjoy broad-based support; and            ``(C) have objectives that may include--                ``(i) road, trail, and infrastructure maintenance or             obliteration;                ``(ii) soil productivity improvement;                ``(iii) improvements in forest ecosystem health;                ``(iv) watershed restoration and maintenance;                ``(v) the restoration, maintenance, and improvement of             wildlife and fish habitat;                ``(vi) the control of noxious and exotic weeds; and                ``(vii) the reestablishment of native species; and        ``(3) to improve cooperative relationships among--            ``(A) the people that use and care for Federal land; and            ``(B) the agencies that manage the Federal land.``SEC. 3. DEFINITIONS.    ``In this Act:        ``(1) Adjusted share.--The term `adjusted share' means the     number equal to the quotient obtained by dividing--            ``(A) the number equal to the quotient obtained by         dividing--                ``(i) the base share for the eligible county; by                ``(ii) the income adjustment for the eligible county;             by            ``(B) the number equal to the sum of the quotients obtained         under subparagraph (A) and paragraph (8)(A) for all eligible         counties.        ``(2) Base share.--The term `base share' means the number equal     to the average of--            ``(A) the quotient obtained by dividing--                ``(i) the number of acres of Federal land described in             paragraph (7)(A) in each eligible county; by                ``(ii) the total number acres of Federal land in all             eligible counties in all eligible States; and            ``(B) the quotient obtained by dividing--                ``(i) the amount equal to the average of the 3 highest             25-percent payments and safety net payments made to each             eligible State for each eligible county during the             eligibility period; by                ``(ii) the amount equal to the sum of the amounts             calculated under clause (i) and paragraph (9)(B)(i) for all             eligible counties in all eligible States during the             eligibility period.        ``(3) County payment.--The term `county payment' means the     payment for an eligible county calculated under section 101(b).        ``(4) Eligible county.--The term `eligible county' means any     county that--            ``(A) contains Federal land (as defined in paragraph (7));         and            ``(B) elects to receive a share of the State payment or the         county payment under section 102(b).        ``(5) Eligibility period.--The term `eligibility period' means     fiscal year 1986 through fiscal year 1999.        ``(6) Eligible state.--The term `eligible State' means a State     or territory of the United States that received a 25-percent     payment for 1 or more fiscal years of the eligibility period.        ``(7) Federal land.--The term `Federal land' means--            ``(A) land within the National Forest System, as defined in         section 11(a) of the Forest and Rangeland Renewable Resources         Planning Act of 1974 (16 U.S.C. 1609(a)) exclusive of the         National Grasslands and land utilization projects designated as         National Grasslands administered pursuant to the Act of July         22, 1937 (7 U.S.C. 1010-1012); and            ``(B) such portions of the revested Oregon and California         Railroad and reconveyed Coos Bay Wagon Road grant land as are         or may hereafter come under the jurisdiction of the Department         of the Interior, which have heretofore or may hereafter be         classified as timberlands, and power-site land valuable for         timber, that shall be managed, except as provided in the former         section 3 of the Act of August 28, 1937 (50 Stat. 875; 43         U.S.C. 1181c), for permanent forest production.        ``(8) 50-percent adjusted share.--The term `50-percent adjusted     share' means the number equal to the quotient obtained by     dividing--            ``(A) the number equal to the quotient obtained by         dividing--                ``(i) the 50-percent base share for the eligible             county; by                ``(ii) the income adjustment for the eligible county;             by            ``(B) the number equal to the sum of the quotients obtained         under subparagraph (A) and paragraph (1)(A) for all eligible         counties.        ``(9) 50-percent base share.--The term `50-percent base share'     means the number equal to the average of--            ``(A) the quotient obtained by dividing--                ``(i) the number of acres of Federal land described in             paragraph (7)(B) in each eligible county; by                ``(ii) the total number acres of Federal land in all             eligible counties in all eligible States; and            ``(B) the quotient obtained by dividing--                ``(i) the amount equal to the average of the 3 highest             50-percent payments made to each eligible county during the             eligibility period; by                ``(ii) the amount equal to the sum of the amounts             calculated under clause (i) and paragraph (2)(B)(i) for all             eligible counties in all eligible States during the             eligibility period.        ``(10) 50-percent payment.--The term `50-percent payment' means     the payment that is the sum of the 50-percent share otherwise paid     to a county pursuant to title II of the Act of August 28, 1937     (chapter 876; 50 Stat. 875; 43 U.S.C. 1181f), and the payment made     to a county pursuant to the Act of May 24, 1939 (chapter 144; 53     Stat. 753; 43 U.S.C. 1181f-1 et seq.).        ``(11) Full funding amount.--The term `full funding amount'     means--            ``(A) $500,000,000 for fiscal year 2008; and            ``(B) for fiscal year 2009 and each fiscal year thereafter,         the amount that is equal to 90 percent of the full funding         amount for the preceding fiscal year.        ``(12) Income adjustment.--The term `income adjustment' means     the square of the quotient obtained by dividing--            ``(A) the per capita personal income for each eligible         county; by            ``(B) the median per capita personal income of all eligible         counties.        ``(13) Per capita personal income.--The term `per capita     personal income' means the most recent per capita personal income     data, as determined by the Bureau of Economic Analysis.        ``(14) Safety net payments.--The term `safety net payments'     means the special payment amounts paid to States and counties     required by section 13982 or 13983 of the Omnibus Budget     Reconciliation Act of 1993 (Public Law 103-66; 16 U.S.C. 500 note;     43 U.S.C. 1181f note).        ``(15) Secretary concerned.--The term `Secretary concerned'     means--            ``(A) the Secretary of Agriculture or the designee of the         Secretary of Agriculture with respect to the Federal land         described in paragraph (7)(A); and            ``(B) the Secretary of the Interior or the designee of the         Secretary of the Interior with respect to the Federal land         described in paragraph (7)(B).        ``(16) State payment.--The term `State payment' means the     payment for an eligible State calculated under section 101(a).        ``(17) 25-percent payment.--The term `25-percent payment' means     the payment to States required by the sixth paragraph under the     heading of `FOREST SERVICE' in the Act of May 23, 1908 (35 Stat.     260; 16 U.S.C. 500), and section 13 of the Act of March 1, 1911 (36     Stat. 963; 16 U.S.C. 500). ``TITLE I--SECURE PAYMENTS FOR STATES AND COUNTIES CONTAINING FEDERAL                                   LAND    ``SEC. 101. SECURE PAYMENTS FOR STATES CONTAINING FEDERAL LAND.    ``(a) State Payment.--For each of fiscal years 2008 through 2011, the Secretary of Agriculture shall calculate for each eligible State an amount equal to the sum of the products obtained by multiplying--        ``(1) the adjusted share for each eligible county within the     eligible State; by        ``(2) the full funding amount for the fiscal year.    ``(b) County Payment.--For each of fiscal years 2008 through 2011, the Secretary of the Interior shall calculate for each eligible county that received a 50-percent payment during the eligibility period an amount equal to the product obtained by multiplying--        ``(1) the 50-percent adjusted share for the eligible county; by        ``(2) the full funding amount for the fiscal year.    ``SEC. 102. PAYMENTS TO STATES AND COUNTIES.    ``(a) Payment Amounts.--Except as provided in section 103, the Secretary of the Treasury shall pay to--        ``(1) a State or territory of the United States an amount equal     to the sum of the amounts elected under subsection (b) by each     county within the State or territory for--            ``(A) if the county is eligible for the 25-percent payment,         the share of the 25-percent payment; or            ``(B) the share of the State payment of the eligible         county; and        ``(2) a county an amount equal to the amount elected under     subsection (b) by each county for--            ``(A) if the county is eligible for the 50-percent payment,         the 50-percent payment; or            ``(B) the county payment for the eligible county.    ``(b) Election To Receive Payment Amount.--        ``(1) Election; submission of results.--            ``(A) In general.--The election to receive a share of the         State payment, the county payment, a share of the State payment         and the county payment, a share of the 25-percent payment, the         50-percent payment, or a share of the 25-percent payment and         the 50-percent payment, as applicable, shall be made at the         discretion of each affected county by August 1, 2008 (or as         soon thereafter as the Secretary concerned determines is         practicable), and August 1 of each second fiscal year         thereafter, in accordance with paragraph (2), and transmitted         to the Secretary concerned by the Governor of each eligible         State.            ``(B) Failure to transmit.--If an election for an affected         county is not transmitted to the Secretary concerned by the         date specified under subparagraph (A), the affected county         shall be considered to have elected to receive a share of the         State payment, the county payment, or a share of the State         payment and the county payment, as applicable.        ``(2) Duration of election.--            ``(A) In general.--A county election to receive a share of         the 25-percent payment or 50-percent payment, as applicable,         shall be effective for 2 fiscal years.            ``(B) Full funding amount.--If a county elects to receive a         share of the State payment or the county payment, the election         shall be effective for all subsequent fiscal years through         fiscal year 2011.        ``(3) Source of payment amounts.--The payment to an eligible     State or eligible county under this section for a fiscal year shall     be derived from--            ``(A) any amounts that are appropriated to carry out this         Act;            ``(B) any revenues, fees, penalties, or miscellaneous         receipts, exclusive of deposits to any relevant trust fund,         special account, or permanent operating funds, received by the         Federal Government from activities by the Bureau of Land         Management or the Forest Service on the applicable Federal         land; and            ``(C) to the extent of any shortfall, out of any amounts in         the Treasury of the United States not otherwise appropriated.    ``(c) Distribution and Expenditure of Payments.--        ``(1) Distribution method.--A State that receives a payment     under subsection (a) for Federal land described in section 3(7)(A)     shall distribute the appropriate payment amount among the     appropriate counties in the State in accordance with--            ``(A) the Act of May 23, 1908 (16 U.S.C. 500); and            ``(B) section 13 of the Act of March 1, 1911 (36 Stat. 963;         16 U.S.C. 500).        ``(2) Expenditure purposes.--Subject to subsection (d),     payments received by a State under subsection (a) and distributed     to counties in accordance with paragraph (1) shall be expended as     required by the laws referred to in paragraph (1).    ``(d) Expenditure Rules for Eligible Counties.--        ``(1) Allocations.--            ``(A) Use of portion in same manner as 25-percent payment         or 50-percent payment, as applicable.--Except as provided in         paragraph (3)(B), if an eligible county elects to receive its         share of the State payment or the county payment, not less than         80 percent, but not more than 85 percent, of the funds shall be         expended in the same manner in which the 25-percent payments or         50-percent payment, as applicable, are required to be expended.            ``(B) Election as to use of balance.--Except as provided in         subparagraph (C), an eligible county shall elect to do 1 or         more of the following with the balance of any funds not         expended pursuant to subparagraph (A):                ``(i) Reserve any portion of the balance for projects             in accordance with title II.                ``(ii) Reserve not more than 7 percent of the total             share for the eligible county of the State payment or the             county payment for projects in accordance with title III.                ``(iii) Return the portion of the balance not reserved             under clauses (i) and (ii) to the Treasury of the United             States.            ``(C) Counties with modest distributions.--In the case of         each eligible county to which more than $100,000, but less than         $350,000, is distributed for any fiscal year pursuant to either         or both of paragraphs (1)(B) and (2)(B) of subsection (a), the         eligible county, with respect to the balance of any funds not         expended pursuant to subparagraph (A) for that fiscal year,         shall--                ``(i) reserve any portion of the balance for--                    ``(I) carrying out projects under title II;                    ``(II) carrying out projects under title III; or                    ``(III) a combination of the purposes described in                 subclauses (I) and (II); or                ``(ii) return the portion of the balance not reserved             under clause (i) to the Treasury of the United States.        ``(2) Distribution of funds.--            ``(A) In general.--Funds reserved by an eligible county         under subparagraph (B)(i) or (C)(i) of paragraph (1) for         carrying out projects under title II shall be deposited in a         special account in the Treasury of the United States.            ``(B) Availability.--Amounts deposited under subparagraph         (A) shall--                ``(i) be available for expenditure by the Secretary             concerned, without further appropriation; and                ``(ii) remain available until expended in accordance             with title II.        ``(3) Election.--            ``(A) Notification.--                ``(i) In general.--An eligible county shall notify the             Secretary concerned of an election by the eligible county             under this subsection not later than September 30, 2008 (or             as soon thereafter as the Secretary concerned determines is             practicable), and each September 30 thereafter for each             succeeding fiscal year.                ``(ii) Failure to elect.--Except as provided in             subparagraph (B), if the eligible county fails to make an             election by the date specified in clause (i), the eligible             county shall--                    ``(I) be considered to have elected to expend 85                 percent of the funds in accordance with paragraph                 (1)(A); and                    ``(II) return the balance to the Treasury of the                 United States.            ``(B) Counties with minor distributions.--In the case of         each eligible county to which less than $100,000 is distributed         for any fiscal year pursuant to either or both of paragraphs         (1)(B) and (2)(B) of subsection (a), the eligible county may         elect to expend all the funds in the same manner in which the         25-percent payments or 50-percent payments, as applicable, are         required to be expended.    ``(e) Time for Payment.--The payments required under this section for a fiscal year shall be made as soon as practicable after the end of that fiscal year.    ``SEC. 103. TRANSITION PAYMENTS TO STATES.    ``(a) Definitions.--In this section:        ``(1) Adjusted amount.--The term `adjusted amount' means, with     respect to a covered State--            ``(A) for fiscal year 2008, 90 percent of--                ``(i) the sum of the amounts paid for fiscal year 2006             under section 102(a)(2) (as in effect on September 29,             2006) for the eligible counties in the covered State that             have elected under section 102(b) to receive a share of the             State payment for fiscal year 2008; and                ``(ii) the sum of the amounts paid for fiscal year 2006             under section 103(a)(2) (as in effect on September 29,             2006) for the eligible counties in the State of Oregon that             have elected under section 102(b) to receive the county             payment for fiscal year 2008;            ``(B) for fiscal year 2009, 81 percent of--                ``(i) the sum of the amounts paid for fiscal year 2006             under section 102(a)(2) (as in effect on September 29,             2006) for the eligible counties in the covered State that             have elected under section 102(b) to receive a share of the             State payment for fiscal year 2009; and                ``(ii) the sum of the amounts paid for fiscal year 2006             under section 103(a)(2) (as in effect on September 29,             2006) for the eligible counties in the State of Oregon that             have elected under section 102(b) to receive the county             payment for fiscal year 2009; and            ``(C) for fiscal year 2010, 73 percent of--                ``(i) the sum of the amounts paid for fiscal year 2006             under section 102(a)(2) (as in effect on September 29,             2006) for the eligible counties in the covered State that             have elected under section 102(b) to receive a share of the             State payment for fiscal year 2010; and                ``(ii) the sum of the amounts paid for fiscal year 2006             under section 103(a)(2) (as in effect on September 29,             2006) for the eligible counties in the State of Oregon that             have elected under section 102(b) to receive the county             payment for fiscal year 2010.        ``(2) Covered state.--The term `covered State' means each of     the States of California, Louisiana, Oregon, Pennsylvania, South     Carolina, South Dakota, Texas, and Washington.    ``(b) Transition Payments.--For each of fiscal years 2008 through 2010, in lieu of the payment amounts that otherwise would have been made under paragraphs (1)(B) and (2)(B) of section 102(a), the Secretary of the Treasury shall pay the adjusted amount to each covered State and the eligible counties within the covered State, as applicable.    ``(c) Distribution of Adjusted Amount.--Except as provided in subsection (d), it is the intent of Congress that the method of distributing the payments under subsection (b) among the counties in the covered States for each of fiscal years 2008 through 2010 be in the same proportion that the payments were distributed to the eligible counties in fiscal year 2006.    ``(d) Distribution of Payments in California.--The following payments shall be distributed among the eligible counties in the State of California in the same proportion that payments under section 102(a)(2) (as in effect on September 29, 2006) were distributed to the eligible counties for fiscal year 2006:        ``(1) Payments to the State of California under subsection (b).        ``(2) The shares of the eligible counties of the State payment     for California under section 102 for fiscal year 2011.    ``(e) Treatment of Payments.--For purposes of this Act, any payment made under subsection (b) shall be considered to be a payment made under section 102(a).              ``TITLE II--SPECIAL PROJECTS ON FEDERAL LAND    ``SEC. 201. DEFINITIONS.    ``In this title:        ``(1) Participating county.--The term `participating county'     means an eligible county that elects under section 102(d) to expend     a portion of the Federal funds received under section 102 in     accordance with this title.        ``(2) Project funds.--The term `project funds' means all funds     an eligible county elects under section 102(d) to reserve for     expenditure in accordance with this title.        ``(3) Resource advisory committee.--The term `resource advisory     committee' means--            ``(A) an advisory committee established by the Secretary         concerned under section 205; or            ``(B) an advisory committee determined by the Secretary         concerned to meet the requirements of section 205.        ``(4) Resource management plan.--The term `resource management     plan' means--            ``(A) a land use plan prepared by the Bureau of Land         Management for units of the Federal land described in section         3(7)(B) pursuant to section 202 of the Federal Land Policy and         Management Act of 1976 (43 U.S.C. 1712); or            ``(B) a land and resource management plan prepared by the         Forest Service for units of the National Forest System pursuant         to section 6 of the Forest and Rangeland Renewable Resources         Planning Act of 1974 (16 U.S.C. 1604).    ``SEC. 202. GENERAL LIMITATION ON USE OF PROJECT FUNDS.    ``(a) Limitation.--Project funds shall be expended solely on projects that meet the requirements of this title.    ``(b) Authorized Uses.--Project funds may be used by the Secretary concerned for the purpose of entering into and implementing cooperative agreements with willing Federal agencies, State and local governments, private and nonprofit entities, and landowners for protection, restoration, and enhancement of fish and wildlife habitat, and other resource objectives consistent with the purposes of this Act on Federal land and on non-Federal land where projects would benefit the resources on Federal land.    ``SEC. 203. SUBMISSION OF PROJECT PROPOSALS.    ``(a) Submission of Project Proposals to Secretary Concerned.--        ``(1) Projects funded using project funds.--Not later than     September 30 for fiscal year 2008 (or as soon thereafter as the     Secretary concerned determines is practicable), and each September     30 thereafter for each succeeding fiscal year through fiscal year     2011, each resource advisory committee shall submit to the     Secretary concerned a description of any projects that the resource     advisory committee proposes the Secretary undertake using any     project funds reserved by eligible counties in the area in which     the resource advisory committee has geographic jurisdiction.        ``(2) Projects funded using other funds.--A resource advisory     committee may submit to the Secretary concerned a description of     any projects that the committee proposes the Secretary undertake     using funds from State or local governments, or from the private     sector, other than project funds and funds appropriated and     otherwise available to do similar work.        ``(3) Joint projects.--Participating counties or other persons     may propose to pool project funds or other funds, described in     paragraph (2), and jointly propose a project or group of projects     to a resource advisory committee established under section 205.    ``(b) Required Description of Projects.--In submitting proposed projects to the Secretary concerned under subsection (a), a resource advisory committee shall include in the description of each proposed project the following information:        ``(1) The purpose of the project and a description of how the     project will meet the purposes of this title.        ``(2) The anticipated duration of the project.        ``(3) The anticipated cost of the project.        ``(4) The proposed source of funding for the project, whether     project funds or other funds.        ``(5)(A) Expected outcomes, including how the project will meet     or exceed desired ecological conditions, maintenance objectives, or     stewardship objectives.        ``(B) An estimate of the amount of any timber, forage, and     other commodities and other economic activity, including jobs     generated, if any, anticipated as part of the project.        ``(6) A detailed monitoring plan, including funding needs and     sources, that--            ``(A) tracks and identifies the positive or negative         impacts of the project, implementation, and provides for         validation monitoring; and            ``(B) includes an assessment of the following:                ``(i) Whether or not the project met or exceeded             desired ecological conditions; created local employment or             training opportunities, including summer youth jobs             programs such as the Youth Conservation Corps where             appropriate.                ``(ii) Whether the project improved the use of, or             added value to, any products removed from land consistent             with the purposes of this title.        ``(7) An assessment that the project is to be in the public     interest.    ``(c) Authorized Projects.--Projects proposed under subsection (a) shall be consistent with section 2.    ``SEC. 204. EVALUATION AND APPROVAL OF PROJECTS BY SECRETARY       CONCERNED.    ``(a) Conditions for Approval of Proposed Project.--The Secretary concerned may make a decision to approve a project submitted by a resource advisory committee under section 203 only if the proposed project satisfies each of the following conditions:        ``(1) The project complies with all applicable Federal laws     (including regulations).        ``(2) The project is consistent with the applicable resource     management plan and with any watershed or subsequent plan developed     pursuant to the resource management plan and approved by the     Secretary concerned.        ``(3) The project has been approved by the resource advisory     committee in accordance with section 205, including the procedures     issued under subsection (e) of that section.        ``(4) A project description has been submitted by the resource     advisory committee to the Secretary concerned in accordance with     section 203.        ``(5) The project will improve the maintenance of existing     infrastructure, implement stewardship objectives that enhance     forest ecosystems, and restore and improve land health and water     quality.    ``(b) Environmental Reviews.--        ``(1) Request for payment by county.--The Secretary concerned     may request the resource advisory committee submitting a proposed     project to agree to the use of project funds to pay for any     environmental review, consultation, or compliance with applicable     environmental laws required in connection with the project.        ``(2) Conduct of environmental review.--If a payment is     requested under paragraph (1) and the resource advisory committee     agrees to the expenditure of funds for this purpose, the Secretary     concerned shall conduct environmental review, consultation, or     other compliance responsibilities in accordance with Federal laws     (including regulations).        ``(3) Effect of refusal to pay.--            ``(A) In general.--If a resource advisory committee does         not agree to the expenditure of funds under paragraph (1), the         project shall be deemed withdrawn from further consideration by         the Secretary concerned pursuant to this title.            ``(B) Effect of withdrawal.--A withdrawal under         subparagraph (A) shall be deemed to be a rejection of the         project for purposes of section 207(c).    ``(c) Decisions of Secretary Concerned.--        ``(1) Rejection of projects.--            ``(A) In general.--A decision by the Secretary concerned to         reject a proposed project shall be at the sole discretion of         the Secretary concerned.            ``(B) No administrative appeal or judicial review.--        Notwithstanding any other provision of law, a decision by the         Secretary concerned to reject a proposed project shall not be         subject to administrative appeal or judicial review.            ``(C) Notice of rejection.--Not later than 30 days after         the date on which the Secretary concerned makes the rejection         decision, the Secretary concerned shall notify in writing the         resource advisory committee that submitted the proposed project         of the rejection and the reasons for rejection.        ``(2) Notice of project approval.--The Secretary concerned     shall publish in the Federal Register notice of each project     approved under subsection (a) if the notice would be required had     the project originated with the Secretary.    ``(d) Source and Conduct of Project.--Once the Secretary concerned accepts a project for review under section 203, the acceptance shall be deemed a Federal action for all purposes.    ``(e) Implementation of Approved Projects.--        ``(1) Cooperation.--Notwithstanding chapter 63 of title 31,     United States Code, using project funds the Secretary concerned may     enter into contracts, grants, and cooperative agreements with     States and local governments, private and nonprofit entities, and     landowners and other persons to assist the Secretary in carrying     out an approved project.        ``(2) Best value contracting.--            ``(A) In general.--For any project involving a contract         authorized by paragraph (1) the Secretary concerned may elect a         source for performance of the contract on a best value basis.            ``(B) Factors.--The Secretary concerned shall determine         best value based on such factors as--                ``(i) the technical demands and complexity of the work             to be done;                ``(ii)(I) the ecological objectives of the project; and                ``(II) the sensitivity of the resources being treated;                ``(iii) the past experience by the contractor with the             type of work being done, using the type of equipment             proposed for the project, and meeting or exceeding desired             ecological conditions; and                ``(iv) the commitment of the contractor to hiring             highly qualified workers and local residents.        ``(3) Merchantable timber contracting pilot program.--            ``(A) Establishment.--The Secretary concerned shall         establish a pilot program to implement a certain percentage of         approved projects involving the sale of merchantable timber         using separate contracts for--                ``(i) the harvesting or collection of merchantable             timber; and                ``(ii) the sale of the timber.            ``(B) Annual percentages.--Under the pilot program, the         Secretary concerned shall ensure that, on a nationwide basis,         not less than the following percentage of all approved projects         involving the sale of merchantable timber are implemented using         separate contracts:                ``(i) For fiscal year 2008, 35 percent.                ``(ii) For fiscal year 2009, 45 percent.                ``(iii) For each of fiscal years 2010 and 2011, 50             percent.            ``(C) Inclusion in pilot program.--The decision whether to         use separate contracts to implement a project involving the         sale of merchantable timber shall be made by the Secretary         concerned after the approval of the project under this title.            ``(D) Assistance.--                ``(i) In general.--The Secretary concerned may use             funds from any appropriated account available to the             Secretary for the Federal land to assist in the             administration of projects conducted under the pilot             program.                ``(ii) Maximum amount of assistance.--The total amount             obligated under this subparagraph may not exceed $1,000,000             for any fiscal year during which the pilot program is in             effect.            ``(E) Review and report.--                ``(i) Initial report.--Not later than September 30,             2010, the Comptroller General shall submit to the             Committees on Agriculture, Nutrition, and Forestry and             Energy and Natural Resources of the Senate and the             Committees on Agriculture and Natural Resources of the             House of Representatives a report assessing the pilot             program.                ``(ii) Annual report.--The Secretary concerned shall             submit to the Committees on Agriculture, Nutrition, and             Forestry and Energy and Natural Resources of the Senate and             the Committees on Agriculture and Natural Resources of the             House of Representatives an annual report describing the             results of the pilot program.    ``(f) Requirements for Project Funds.--The Secretary shall ensure that at least 50 percent of all project funds be used for projects that are primarily dedicated--        ``(1) to road maintenance, decommissioning, or obliteration; or        ``(2) to restoration of streams and watersheds.    ``SEC. 205. RESOURCE ADVISORY COMMITTEES.    ``(a) Establishment and Purpose of Resource Advisory Committees.--        ``(1) Establishment.--The Secretary concerned shall establish     and maintain resource advisory committees to perform the duties in     subsection (b), except as provided in paragraph (4).        ``(2) Purpose.--The purpose of a resource advisory committee     shall be--            ``(A) to improve collaborative relationships; and            ``(B) to provide advice and recommendations to the land         management agencies consistent with the purposes of this title.        ``(3) Access to resource advisory committees.--To ensure that     each unit of Federal land has access to a resource advisory     committee, and that there is sufficient interest in participation     on a committee to ensure that membership can be balanced in terms     of the points of view represented and the functions to be     performed, the Secretary concerned may, establish resource advisory     committees for part of, or 1 or more, units of Federal land.        ``(4) Existing advisory committees.--            ``(A) In general.--An advisory committee that meets the         requirements of this section, a resource advisory committee         established before September 29, 2006, or an advisory committee         determined by the Secretary concerned before September 29,         2006, to meet the requirements of this section may be deemed by         the Secretary concerned to be a resource advisory committee for         the purposes of this title.            ``(B) Charter.--A charter for a committee described in         subparagraph (A) that was filed on or before September 29,         2006, shall be considered to be filed for purposes of this Act.            ``(C) Bureau of land management advisory committees.--The         Secretary of the Interior may deem a resource advisory         committee meeting the requirements of subpart 1784 of part 1780         of title 43, Code of Federal Regulations, as a resource         advisory committee for the purposes of this title.    ``(b) Duties.--A resource advisory committee shall--        ``(1) review projects proposed under this title by     participating counties and other persons;        ``(2) propose projects and funding to the Secretary concerned     under section 203;        ``(3) provide early and continuous coordination with     appropriate land management agency officials in recommending     projects consistent with purposes of this Act under this title;        ``(4) provide frequent opportunities for citizens,     organizations, tribes, land management agencies, and other     interested parties to participate openly and meaningfully,     beginning at the early stages of the project development process     under this title;        ``(5)(A) monitor projects that have been approved under section     204; and        ``(B) advise the designated Federal official on the progress of     the monitoring efforts under subparagraph (A); and        ``(6) make recommendations to the Secretary concerned for any     appropriate changes or adjustments to the projects being monitored     by the resource advisory committee.    ``(c) Appointment by the Secretary.--        ``(1) Appointment and term.--            ``(A) In general.--The Secretary concerned, shall appoint         the members of resource advisory committees for a term of 4         years beginning on the date of appointment.            ``(B) Reappointment.--The Secretary concerned may reappoint         members to subsequent 4-year terms.        ``(2) Basic requirements.--The Secretary concerned shall ensure     that each resource advisory committee established meets the     requirements of subsection (d).        ``(3) Initial appointment.--Not later than 180 days after the     date of the enactment of this Act, the Secretary concerned shall     make initial appointments to the resource advisory committees.        ``(4) Vacancies.--The Secretary concerned shall make     appointments to fill vacancies on any resource advisory committee     as soon as practicable after the vacancy has occurred.        ``(5) Compensation.--Members of the resource advisory     committees shall not receive any compensation.    ``(d) Composition of Advisory Committee.--        ``(1) Number.--Each resource advisory committee shall be     comprised of 15 members.        ``(2) Community interests represented.--Committee members shall     be representative of the interests of the following 3 categories:            ``(A) 5 persons that--                ``(i) represent organized labor or non-timber forest             product harvester groups;                ``(ii) represent developed outdoor recreation, off             highway vehicle users, or commercial recreation activities;                ``(iii) represent--                    ``(I) energy and mineral development interests; or                    ``(II) commercial or recreational fishing                 interests;                ``(iv) represent the commercial timber industry; or                ``(v) hold Federal grazing or other land use permits,             or represent nonindustrial private forest land owners,             within the area for which the committee is organized.            ``(B) 5 persons that represent--                ``(i) nationally recognized environmental             organizations;                ``(ii) regionally or locally recognized environmental             organizations;                ``(iii) dispersed recreational activities;                ``(iv) archaeological and historical interests; or                ``(v) nationally or regionally recognized wild horse             and burro interest groups, wildlife or hunting             organizations, or watershed associations.            ``(C) 5 persons that--                ``(i) hold State elected office (or a designee);                ``(ii) hold county or local elected office;                ``(iii) represent American Indian tribes within or             adjacent to the area for which the committee is organized;                ``(iv) are school officials or teachers; or                ``(v) represent the affected public at large.        ``(3) Balanced representation.--In appointing committee members     from the 3 categories in paragraph (2), the Secretary concerned     shall provide for balanced and broad representation from within     each category.        ``(4) Geographic distribution.--The members of a resource     advisory committee shall reside within the State in which the     committee has jurisdiction and, to extent practicable, the     Secretary concerned shall ensure local representation in each     category in paragraph (2).        ``(5) Chairperson.--A majority on each resource advisory     committee shall select the chairperson of the committee.    ``(e) Approval Procedures.--        ``(1) In general.--Subject to paragraph (3), each resource     advisory committee shall establish procedures for proposing     projects to the Secretary concerned under this title.        ``(2) Quorum.--A quorum must be present to constitute an     official meeting of the committee.        ``(3) Approval by majority of members.--A project may be     proposed by a resource advisory committee to the Secretary     concerned under section 203(a), if the project has been approved by     a majority of members of the committee from each of the 3     categories in subsection (d)(2).    ``(f) Other Committee Authorities and Requirements.--        ``(1) Staff assistance.--A resource advisory committee may     submit to the Secretary concerned a request for periodic staff     assistance from Federal employees under the jurisdiction of the     Secretary.        ``(2) Meetings.--All meetings of a resource advisory committee     shall be announced at least 1 week in advance in a local newspaper     of record and shall be open to the public.        ``(3) Records.--A resource advisory committee shall maintain     records of the meetings of the committee and make the records     available for public inspection.    ``SEC. 206. USE OF PROJECT FUNDS.    ``(a) Agreement Regarding Schedule and Cost of Project.--        ``(1) Agreement between parties.--The Secretary concerned may     carry out a project submitted by a resource advisory committee     under section 203(a) using project funds or other funds described     in section 203(a)(2), if, as soon as practicable after the issuance     of a decision document for the project and the exhaustion of all     administrative appeals and judicial review of the project decision,     the Secretary concerned and the resource advisory committee enter     into an agreement addressing, at a minimum, the following:            ``(A) The schedule for completing the project.            ``(B) The total cost of the project, including the level of         agency overhead to be assessed against the project.            ``(C) For a multiyear project, the estimated cost of the         project for each of the fiscal years in which it will be         carried out.            ``(D) The remedies for failure of the Secretary concerned         to comply with the terms of the agreement consistent with         current Federal law.        ``(2) Limited use of federal funds.--The Secretary concerned     may decide, at the sole discretion of the Secretary concerned, to     cover the costs of a portion of an approved project using Federal     funds appropriated or otherwise available to the Secretary for the     same purposes as the project.    ``(b) Transfer of Project Funds.--        ``(1) Initial transfer required.--As soon as practicable after     the agreement is reached under subsection (a) with regard to a     project to be funded in whole or in part using project funds, or     other funds described in section 203(a)(2), the Secretary concerned     shall transfer to the applicable unit of National Forest System     land or Bureau of Land Management District an amount of project     funds equal to--            ``(A) in the case of a project to be completed in a single         fiscal year, the total amount specified in the agreement to be         paid using project funds, or other funds described in section         203(a)(2); or            ``(B) in the case of a multiyear project, the amount         specified in the agreement to be paid using project funds, or         other funds described in section 203(a)(2) for the first fiscal         year.        ``(2) Condition on project commencement.--The unit of National     Forest System land or Bureau of Land Management District concerned,     shall not commence a project until the project funds, or other     funds described in section 203(a)(2) required to be transferred     under paragraph (1) for the project, have been made available by     the Secretary concerned.        ``(3) Subsequent transfers for multiyear projects.--            ``(A) In general.--For the second and subsequent fiscal         years of a multiyear project to be funded in whole or in part         using project funds, the unit of National Forest System land or         Bureau of Land Management District concerned shall use the         amount of project funds required to continue the project in         that fiscal year according to the agreement entered into under         subsection (a).            ``(B) Suspension of work.--The Secretary concerned shall         suspend work on the project if the project funds required by         the agreement in the second and subsequent fiscal years are not         available.    ``SEC. 207. AVAILABILITY OF PROJECT FUNDS.    ``(a) Submission of Proposed Projects To Obligate Funds.--By September 30, 2008 (or as soon thereafter as the Secretary concerned determines is practicable), and each September 30 thereafter for each succeeding fiscal year through fiscal year 2011, a resource advisory committee shall submit to the Secretary concerned pursuant to section 203(a)(1) a sufficient number of project proposals that, if approved, would result in the obligation of at least the full amount of the project funds reserved by the participating county in the preceding fiscal year.    ``(b) Use or Transfer of Unobligated Funds.--Subject to section 208, if a resource advisory committee fails to comply with subsection (a) for a fiscal year, any project funds reserved by the participating county in the preceding fiscal year and remaining unobligated shall be available for use as part of the project submissions in the next fiscal year.    ``(c) Effect of Rejection of Projects.--Subject to section 208, any project funds reserved by a participating county in the preceding fiscal year that are unobligated at the end of a fiscal year because the Secretary concerned has rejected one or more proposed projects shall be available for use as part of the project submissions in the next fiscal year.    ``(d) Effect of Court Orders.--        ``(1) In general.--If an approved project under this Act is     enjoined or prohibited by a Federal court, the Secretary concerned     shall return the unobligated project funds related to the project     to the participating county or counties that reserved the funds.        ``(2) Expenditure of funds.--The returned funds shall be     available for the county to expend in the same manner as the funds     reserved by the county under subparagraph (B) or (C)(i) of section     102(d)(1).    ``SEC. 208. TERMINATION OF AUTHORITY.    ``(a) In General.--The authority to initiate projects under this title shall terminate on September 30, 2011.    ``(b) Deposits in Treasury.--Any project funds not obligated by September 30, 2012, shall be deposited in the Treasury of the United States.                       ``TITLE III--COUNTY FUNDS    ``SEC. 301. DEFINITIONS.    ``In this title:        ``(1) County funds.--The term `county funds' means all funds an     eligible county elects under section 102(d) to reserve for     expenditure in accordance with this title.        ``(2) Participating county.--The term `participating county'     means an eligible county that elects under section 102(d) to expend     a portion of the Federal funds received under section 102 in     accordance with this title.    ``SEC. 302. USE.    ``(a) Authorized Uses.--A participating county, including any applicable agencies of the participating county, shall use county funds, in accordance with this title, only--        ``(1) to carry out activities under the Firewise Communities     program to provide to homeowners in fire-sensitive ecosystems     education on, and assistance with implementing, techniques in home     siting, home construction, and home landscaping that can increase     the protection of people and property from wildfires;        ``(2) to reimburse the participating county for search and     rescue and other emergency services, including firefighting, that     are--            ``(A) performed on Federal land after the date on which the         use was approved under subsection (b);            ``(B) paid for by the participating county; and        ``(3) to develop community wildfire protection plans in     coordination with the appropriate Secretary concerned.    ``(b) Proposals.--A participating county shall use county funds for a use described in subsection (a) only after a 45-day public comment period, at the beginning of which the participating county shall--        ``(1) publish in any publications of local record a proposal     that describes the proposed use of the county funds; and        ``(2) submit the proposal to any resource advisory committee     established under section 205 for the participating county.    ``SEC. 303. CERTIFICATION.    ``(a) In General.--Not later than February 1 of the year after the year in which any county funds were expended by a participating county, the appropriate official of the participating county shall submit to the Secretary concerned a certification that the county funds expended in the applicable year have been used for the uses authorized under section 302(a), including a description of the amounts expended and the uses for which the amounts were expended.    ``(b) Review.--The Secretary concerned shall review the certifications submitted under subsection (a) as the Secretary concerned determines to be appropriate.    ``SEC. 304. TERMINATION OF AUTHORITY.    ``(a) In General.--The authority to initiate projects under this title terminates on September 30, 2011.    ``(b) Availability.--Any county funds not obligated by September 30, 2012, shall be returned to the Treasury of the United States.                  ``TITLE IV--MISCELLANEOUS PROVISIONS    ``SEC. 401. REGULATIONS.    ``The Secretary of Agriculture and the Secretary of the Interior shall issue regulations to carry out the purposes of this Act.    ``SEC. 402. AUTHORIZATION OF APPROPRIATIONS.    ``There are authorized to be appropriated such sums as are necessary to carry out this Act for each of fiscal years 2008 through 2011.    ``SEC. 403. TREATMENT OF FUNDS AND REVENUES.    ``(a) Relation to Other Appropriations.--Funds made available under section 402 and funds made available to a Secretary concerned under section 206 shall be in addition to any other annual appropriations for the Forest Service and the Bureau of Land Management.    ``(b) Deposit of Revenues and Other Funds.--All revenues generated from projects pursuant to title II, including any interest accrued from the revenues, shall be deposited in the Treasury of the United States.''.    (b) Forest Receipt Payments to Eligible States and Counties.--        (1) Act of may 23, 1908.--The sixth paragraph under the heading     ``FOREST SERVICE'' in the Act of May 23, 1908 (16 U.S.C. 500) is     amended in the first sentence by striking ``twenty-five percentum''     and all that follows through ``shall be paid'' and inserting the     following: ``an amount equal to the annual average of 25 percent of     all amounts received for the applicable fiscal year and each of the     preceding 6 fiscal years from each national forest shall be paid''.        (2) Weeks law.--Section 13 of the Act of March 1, 1911     (commonly known as the ``Weeks Law'') (16 U.S.C. 500) is amended in     the first sentence by striking ``twenty-five percentum'' and all     that follows through ``shall be paid'' and inserting the following:     ``an amount equal to the annual average of 25 percent of all     amounts received for the applicable fiscal year and each of the     preceding 6 fiscal years from each national forest shall be paid''.    (c) Payments in Lieu of Taxes.--        (1) In general.--Section 6906 of title 31, United States Code,     is amended to read as follows:``Sec. 6906. Funding    ``For each of fiscal years 2008 through 2012--        ``(1) each county or other eligible unit of local government     shall be entitled to payment under this chapter; and        ``(2) sums shall be made available to the Secretary of the     Interior for obligation or expenditure in accordance with this     chapter.''.        (2) Conforming amendment.--The table of sections for chapter 69     of title 31, United States Code, is amended by striking the item     relating to section 6906 and inserting the following:``6906. Funding.''.        (3) Budget scorekeeping.--            (A) In general.--Notwithstanding the Budget Scorekeeping         Guidelines and the accompanying list of programs and accounts         set forth in the joint explanatory statement of the committee         of conference accompanying Conference Report 105-217, the         section in this title regarding Payments in Lieu of Taxes shall         be treated in the baseline for purposes of section 257 of the         Balanced Budget and Emergency Deficit Control Act of 1985 (as         in effect prior to September 30, 2002), and by the Chairmen of         the House and Senate Budget Committees, as appropriate, for         purposes of budget enforcement in the House and Senate, and         under the Congressional Budget Act of 1974 as if Payment in         Lieu of Taxes (14-1114-0-1-806) were an account designated as         Appropriated Entitlements and Mandatories for Fiscal Year 1997         in the joint explanatory statement of the committee of         conference accompanying Conference Report 105-217.            (B) Effective date.--This paragraph shall remain in effect         for the fiscal years to which the entitlement in section 6906         of title 31, United States Code (as amended by paragraph (1)),         applies.    SEC. 602. TRANSFER TO ABANDONED MINE RECLAMATION FUND.    Subparagraph (C) of section 402(i)(1) of the Surface Mining Control and Reclamation Act of 1977 (30 U.S.C. 1232(i)(1)) is amended by striking ``and $9,000,000 on October 1, 2009'' and inserting ``$9,000,000 on October 1, 2009, and $9,000,000 on October 1, 2010''.\n",
        "                       TITLE VII--DISASTER RELIEF        Subtitle A--Heartland and Hurricane Ike Disaster Relief    SEC. 701. SHORT TITLE.    This subtitle may be cited as the ``Heartland Disaster Tax Relief Act of 2008''.    SEC. 702. TEMPORARY TAX RELIEF FOR AREAS DAMAGED BY 2008 MIDWESTERN       SEVERE STORMS, TORNADOS, AND FLOODING.    (a) In General.--Subject to the modifications described in this section, the following provisions of or relating to the Internal Revenue Code of 1986 shall apply to any Midwestern disaster area in addition to the areas to which such provisions otherwise apply:        (1) Go zone benefits.--            (A) Section 1400N (relating to tax benefits) other than         subsections (b), (d), (e), (i), (j), (m), and (o) thereof.            (B) Section 1400O (relating to education tax benefits).            (C) Section 1400P (relating to housing tax benefits).            (D) Section 1400Q (relating to special rules for use of         retirement funds).            (E) Section 1400R(a) (relating to employee retention credit         for employers).            (F) Section 1400S (relating to additional tax relief) other         than subsection (d) thereof.            (G) Section 1400T (relating to special rules for mortgage         revenue bonds).        (2) Other benefits included in katrina emergency tax relief act     of 2005.--Sections 302, 303, 304, 401, and 405 of the Katrina     Emergency Tax Relief Act of 2005.    (b) Midwestern Disaster Area.--        (1) In general.--For purposes of this section and for applying     the substitutions described in subsections (d) and (e), the term     ``Midwestern disaster area'' means an area--            (A) with respect to which a major disaster has been         declared by the President on or after May 20, 2008, and before         August 1, 2008, under section 401 of the Robert T. Stafford         Disaster Relief and Emergency Assistance Act by reason of         severe storms, tornados, or flooding occurring in any of the         States of Arkansas, Illinois, Indiana, Iowa, Kansas, Michigan,         Minnesota, Missouri, Nebraska, and Wisconsin, and            (B) determined by the President to warrant individual or         individual and public assistance from the Federal Government         under such Act with respect to damages attributable to such         severe storms, tornados, or flooding.        (2) Certain benefits available to areas eligible only for     public assistance.--For purposes of applying this section to     benefits under the following provisions, paragraph (1) shall be     applied without regard to subparagraph (B):            (A) Sections 1400Q, 1400S(b), and 1400S(d) of the Internal         Revenue Code of 1986.            (B) Sections 302, 401, and 405 of the Katrina Emergency Tax         Relief Act of 2005.    (c) References.--        (1) Area.--Any reference in such provisions to the Hurricane     Katrina disaster area or the Gulf Opportunity Zone shall be treated     as a reference to any Midwestern disaster area and any reference to     the Hurricane Katrina disaster area or the Gulf Opportunity Zone     within a State shall be treated as a reference to all Midwestern     disaster areas within the State.        (2) Items attributable to disaster.--Any reference in such     provisions to any loss, damage, or other item attributable to     Hurricane Katrina shall be treated as a reference to any loss,     damage, or other item attributable to the severe storms, tornados,     or flooding giving rise to any Presidential declaration described     in subsection (b)(1)(A).        (3) Applicable disaster date.--For purposes of applying the     substitutions described in subsections (d) and (e), the term     ``applicable disaster date'' means, with respect to any Midwestern     disaster area, the date on which the severe storms, tornados, or     flooding giving rise to the Presidential declaration described in     subsection (b)(1)(A) occurred.    (d) Modifications to 1986 Code.--The following provisions of the Internal Revenue Code of 1986 shall be applied with the following modifications:        (1) Tax-exempt bond financing.--Section 1400N(a)--            (A) by substituting ``qualified Midwestern disaster area         bond'' for ``qualified Gulf Opportunity Zone Bond'' each place         it appears, except that in determining whether a bond is a         qualified Midwestern disaster area bond--                (i) paragraph (2)(A)(i) shall be applied by only             treating costs as qualified project costs if--                    (I) in the case of a project involving a private                 business use (as defined in section 141(b)(6)), either                 the person using the property suffered a loss in a                 trade or business attributable to the severe storms,                 tornados, or flooding giving rise to any Presidential                 declaration described in subsection (b)(1)(A) or is a                 person designated for purposes of this section by the                 Governor of the State in which the project is located                 as a person carrying on a trade or business replacing a                 trade or business with respect to which another person                 suffered such a loss, and                    (II) in the case of a project relating to public                 utility property, the project involves repair or                 reconstruction of public utility property damaged by                 such severe storms, tornados, or flooding, and                (ii) paragraph (2)(A)(ii) shall be applied by treating             an issue as a qualified mortgage issue only if 95 percent             or more of the net proceeds (as defined in section             150(a)(3)) of the issue are to be used to provide financing             for mortgagors who suffered damages to their principal             residences attributable to such severe storms, tornados, or             flooding.            (B) by substituting ``any State in which a Midwestern         disaster area is located'' for ``the State of Alabama,         Louisiana, or Mississippi'' in paragraph (2)(B),            (C) by substituting ``designated for purposes of this         section (on the basis of providing assistance to areas in the         order in which such assistance is most needed)'' for         ``designated for purposes of this section'' in paragraph         (2)(C),            (D) by substituting ``January 1, 2013'' for ``January 1,         2011'' in paragraph (2)(D),            (E) in paragraph (3)(A)--                (i) by substituting ``$1,000'' for ``$2,500'', and                (ii) by substituting ``before the earliest applicable             disaster date for Midwestern disaster areas within the             State'' for ``before August 28, 2005'',            (F) by substituting ``qualified Midwestern disaster area         repair or construction'' for ``qualified GO Zone repair or         construction'' each place it appears,            (G) by substituting ``after the date of the enactment of         the Heartland Disaster Tax Relief Act of 2008 and before         January 1, 2013'' for ``after the date of the enactment of this         paragraph and before January 1, 2011'' in paragraph (7)(C), and            (H) by disregarding paragraph (8) thereof.        (2) Low-income housing credit.--Section 1400N(c)--            (A) only with respect to calendar years 2008, 2009, and         2010,            (B) by substituting ``Disaster Recovery Assistance housing         amount'' for ``Gulf Opportunity housing amount'' each place it         appears,            (C) in paragraph (1)(B)--                (i) by substituting ``$8.00'' for ``$18.00'', and                (ii) by substituting ``before the earliest applicable             disaster date for Midwestern disaster areas within the             State'' for ``before August 28, 2005'', and            (D) determined without regard to paragraphs (2), (3), (4),         (5), and (6) thereof.        (3) Expensing for certain demolition and clean-up costs.--    Section 1400N(f)--            (A) by substituting ``qualified Disaster Recovery         Assistance clean-up cost'' for ``qualified Gulf Opportunity         Zone clean-up cost'' each place it appears,            (B) by substituting ``beginning on the applicable disaster         date and ending on December 31, 2010'' for ``beginning on         August 28, 2005, and ending on December 31, 2007'' in paragraph         (2), and            (C) by treating costs as qualified Disaster Recovery         Assistance clean-up costs only if the removal of debris or         demolition of any structure was necessary due to damage         attributable to the severe storms, tornados, or flooding giving         rise to any Presidential declaration described in subsection         (b)(1)(A).        (4) Extension of expensing for environmental remediation     costs.--Section 1400N(g)--            (A) by substituting ``the applicable disaster date'' for         ``August 28, 2005'' each place it appears,            (B) by substituting ``January 1, 2011'' for ``January 1,         2008'' in paragraph (1),            (C) by substituting ``December 31, 2010'' for ``December         31, 2007'' in paragraph (1), and            (D) by treating a site as a qualified contaminated site         only if the release (or threat of release) or disposal of a         hazardous substance at the site was attributable to the severe         storms, tornados, or flooding giving rise to any Presidential         declaration described in subsection (b)(1)(A).        (5) Increase in rehabilitation credit.--Section 1400N(h), as     amended by this Act--            (A) by substituting ``the applicable disaster date'' for         ``August 28, 2005'',            (B) by substituting ``December 31, 2011'' for ``December         31, 2009'' in paragraph (1), and            (C) by only applying such subsection to qualified         rehabilitation expenditures with respect to any building or         structure which was damaged or destroyed as a result of the         severe storms, tornados, or flooding giving rise to any         Presidential declaration described in subsection (b)(1)(A).        (6) Treatment of net operating losses attributable to disaster     losses.--Section 1400N(k)--            (A) by substituting ``qualified Disaster Recovery         Assistance loss'' for ``qualified Gulf Opportunity Zone loss''         each place it appears,            (B) by substituting ``after the day before the applicable         disaster date, and before January 1, 2011'' for ``after August         27, 2005, and before January 1, 2008'' each place it appears,            (C) by substituting ``the applicable disaster date'' for         ``August 28, 2005'' in paragraph (2)(B)(ii)(I),            (D) by substituting ``qualified Disaster Recovery         Assistance property'' for ``qualified Gulf Opportunity Zone         property'' in paragraph (2)(B)(iv), and            (E) by substituting ``qualified Disaster Recovery         Assistance casualty loss'' for ``qualified Gulf Opportunity         Zone casualty loss'' each place it appears.        (7) Credit to holders of tax credit bonds.--Section 1400N(l)--            (A) by substituting ``Midwestern tax credit bond'' for         ``Gulf tax credit bond'' each place it appears,            (B) by substituting ``any State in which a Midwestern         disaster area is located or any instrumentality of the State''         for ``the State of Alabama, Louisiana, or Mississippi'' in         paragraph (4)(A)(i),            (C) by substituting ``after December 31, 2008 and before         January 1, 2010'' for ``after December 31, 2005, and before         January 1, 2007'',            (D) by substituting ``shall not exceed $100,000,000 for any         State with an aggregate population located in all Midwestern         disaster areas within the State of at least 2,000,000,         $50,000,000 for any State with an aggregate population located         in all Midwestern disaster areas within the State of at least         1,000,000 but less than 2,000,000, and zero for any other         State. The population of a State within any area shall be         determined on the basis of the most recent census estimate of         resident population released by the Bureau of Census before the         earliest applicable disaster date for Midwestern disaster areas         within the State.'' for ``shall not exceed'' and all that         follows in paragraph (4)(C), and            (E) by substituting ``the earliest applicable disaster date         for Midwestern disaster areas within the State'' for ``August         28, 2005'' in paragraph (5)(A).        (8) Education tax benefits.--Section 1400O, by substituting     ``2008 or 2009'' for ``2005 or 2006''.        (9) Housing tax benefits.--Section 1400P, by substituting ``the     applicable disaster date'' for ``August 28, 2005'' in subsection     (c)(1).        (10) Special rules for use of retirement funds.--Section     1400Q--            (A) by substituting ``qualified Disaster Recovery         Assistance distribution'' for ``qualified hurricane         distribution'' each place it appears,            (B) by substituting ``on or after the applicable disaster         date and before January 1, 2010'' for ``on or after August 25,         2005, and before January 1, 2007'' in subsection (a)(4)(A)(i),            (C) by substituting ``the applicable disaster date'' for         ``August 28, 2005'' in subsections (a)(4)(A)(i) and (c)(3)(B),            (D) by disregarding clauses (ii) and (iii) of subsection         (a)(4)(A) thereof,            (E) by substituting ``qualified storm damage distribution''         for ``qualified Katrina distribution'' each place it appears,            (F) by substituting ``after the date which is 6 months         before the applicable disaster date and before the date which         is the day after the applicable disaster date'' for ``after         February 28, 2005, and before August 29, 2005'' in subsection         (b)(2)(B)(ii),            (G) by substituting ``the Midwestern disaster area, but not         so purchased or constructed on account of severe storms,         tornados, or flooding giving rise to the designation of the         area as a disaster area'' for ``the Hurricane Katrina disaster         area, but not so purchased or constructed on account of         Hurricane Katrina'' in subsection (b)(2)(B)(iii),            (H) by substituting ``beginning on the applicable disaster         date and ending on the date which is 5 months after the date of         the enactment of the Heartland Disaster Tax Relief Act of         2008'' for ``beginning on August 25, 2005, and ending on         February 28, 2006'' in subsection (b)(3)(A),            (I) by substituting ``qualified storm damage individual''         for ``qualified Hurricane Katrina individual'' each place it         appears,            (J) by substituting ``December 31, 2009'' for ``December         31, 2006'' in subsection (c)(2)(A),            (K) by disregarding subparagraphs (C) and (D) of subsection         (c)(3) thereof,            (L) by substituting ``beginning on the date of the         enactment of the Heartland Disaster Tax Relief Act of 2008 and         ending on December 31, 2009'' for ``beginning on September 24,         2005, and ending on December 31, 2006'' in subsection         (c)(4)(A)(i),            (M) by substituting ``the applicable disaster date'' for         ``August 25, 2005'' in subsection (c)(4)(A)(ii), and            (N) by substituting ``January 1, 2010'' for ``January 1,         2007'' in subsection (d)(2)(A)(ii).        (11) Employee retention credit for employers affected by severe     storms, tornados, and flooding.--Section 1400R(a)--            (A) by substituting ``the applicable disaster date'' for         ``August 28, 2005'' each place it appears,            (B) by substituting ``January 1, 2009'' for ``January 1,         2006'' both places it appears, and            (C) only with respect to eligible employers who employed an         average of not more than 200 employees on business days during         the taxable year before the applicable disaster date.        (12) Temporary suspension of limitations on charitable     contributions.--Section 1400S(a), by substituting the following     paragraph for paragraph (4) thereof:        ``(4) Qualified contributions.--            ``(A) In general.--For purposes of this subsection, the         term `qualified contribution' means any charitable contribution         (as defined in section 170(c)) if--                ``(i) such contribution--                    ``(I) is paid during the period beginning on the                 earliest applicable disaster date for all States and                 ending on December 31, 2008, in cash to an organization                 described in section 170(b)(1)(A), and                    ``(II) is made for relief efforts in 1 or more                 Midwestern disaster areas,                ``(ii) the taxpayer obtains from such organization             contemporaneous written acknowledgment (within the meaning             of section 170(f)(8)) that such contribution was used (or             is to be used) for relief efforts in 1 or more Midwestern             disaster areas, and                ``(iii) the taxpayer has elected the application of             this subsection with respect to such contribution.            ``(B) Exception.--Such term shall not include a         contribution by a donor if the contribution is--                ``(i) to an organization described in section             509(a)(3), or                ``(ii) for establishment of a new, or maintenance of an             existing, donor advised fund (as defined in section             4966(d)(2)).            ``(C) Application of election to partnerships and s         corporations.--In the case of a partnership or S corporation,         the election under subparagraph (A)(iii) shall be made         separately by each partner or shareholder.''.        (13) Suspension of certain limitations on personal casualty     losses.--Section 1400S(b)(1), by substituting ``the applicable     disaster date'' for ``August 25, 2005''.        (14) Special rule for determining earned income.--Section     1400S(d)--            (A) by treating an individual as a qualified individual if         such individual's principal place of abode on the applicable         disaster date was located in a Midwestern disaster area,            (B) by treating the applicable disaster date with respect         to any such individual as the applicable date for purposes of         such subsection, and            (C) by treating an area as described in paragraph         (2)(B)(ii) thereof if the area is a Midwestern disaster area         only by reason of subsection (b)(2) of this section (relating         to areas eligible only for public assistance).        (15) Adjustments regarding taxpayer and dependency status.--    Section 1400S(e), by substituting ``2008 or 2009'' for ``2005 or     2006''.    (e) Modifications to Katrina Emergency Tax Relief Act of 2005.--The following provisions of the Katrina Emergency Tax Relief Act of 2005 shall be applied with the following modifications:        (1) Additional exemption for housing displaced individual.--    Section 302--            (A) by substituting ``2008 or 2009'' for ``2005 or 2006''         in subsection (a) thereof,            (B) by substituting ``Midwestern displaced individual'' for         ``Hurricane Katrina displaced individual'' each place it         appears, and            (C) by treating an area as a core disaster area for         purposes of applying subsection (c) thereof if the area is a         Midwestern disaster area without regard to subsection (b)(2) of         this section (relating to areas eligible only for public         assistance).        (2) Increase in standard mileage rate.--Section 303, by     substituting ``beginning on the applicable disaster date and ending     on December 31, 2008'' for ``beginning on August 25, 2005, and     ending on December 31, 2006''.        (3) Mileage reimbursements for charitable volunteers.--Section     304--            (A) by substituting ``beginning on the applicable disaster         date and ending on December 31, 2008'' for ``beginning on         August 25, 2005, and ending on December 31, 2006'' in         subsection (a), and            (B) by substituting ``the applicable disaster date'' for         ``August 25, 2005'' in subsection (a).        (4) Exclusion of certain cancellation of indebtedness income.--    Section 401--            (A) by treating an individual whose principal place of         abode on the applicable disaster date was in a Midwestern         disaster area (determined without regard to subsection (b)(2)         of this section) as an individual described in subsection         (b)(1) thereof, and by treating an individual whose principal         place of abode on the applicable disaster date was in a         Midwestern disaster area solely by reason of subsection (b)(2)         of this section as an individual described in subsection (b)(2)         thereof,            (B) by substituting ``the applicable disaster date'' for         ``August 28, 2005'' both places it appears, and            (C) by substituting ``January 1, 2010'' for ``January 1,         2007'' in subsection (e).        (5) Extension of replacement period for nonrecognition of     gain.--Section 405, by substituting ``on or after the applicable     disaster date'' for ``on or after August 25, 2005''.    SEC. 703. REPORTING REQUIREMENTS RELATING TO DISASTER RELIEF       CONTRIBUTIONS.    (a) In General.--Section 6033(b) (relating to returns of certain organizations described in section 501(c)(3)) is amended by striking ``and'' at the end of paragraph (13), by redesignating paragraph (14) as paragraph (15), and by adding after paragraph (13) the following new paragraph:        ``(14) such information as the Secretary may require with     respect to disaster relief activities, including the amount and use     of qualified contributions to which section 1400S(a) applies,     and''.    (b) Effective Date.--The amendments made by this section shall apply to returns the due date for which (determined without regard to any extension) occurs after December 31, 2008.    SEC. 704. TEMPORARY TAX-EXEMPT BOND FINANCING AND LOW-INCOME       HOUSING TAX RELIEF FOR AREAS DAMAGED BY HURRICANE IKE.    (a) Tax-Exempt Bond Financing.--Section 1400N(a) of the Internal Revenue Code of 1986 shall apply to any Hurricane Ike disaster area in addition to any other area referenced in such section, but with the following modifications:        (1) By substituting ``qualified Hurricane Ike disaster area     bond'' for ``qualified Gulf Opportunity Zone Bond'' each place it     appears, except that in determining whether a bond is a qualified     Hurricane Ike disaster area bond--            (A) paragraph (2)(A)(i) shall be applied by only treating         costs as qualified project costs if--                (i) in the case of a project involving a private             business use (as defined in section 141(b)(6)), either the             person using the property suffered a loss in a trade or             business attributable to Hurricane Ike or is a person             designated for purposes of this section by the Governor of             the State in which the project is located as a person             carrying on a trade or business replacing a trade or             business with respect to which another person suffered such             a loss, and                (ii) in the case of a project relating to public             utility property, the project involves repair or             reconstruction of public utility property damaged by             Hurricane Ike, and            (B) paragraph (2)(A)(ii) shall be applied by treating an         issue as a qualified mortgage issue only if 95 percent or more         of the net proceeds (as defined in section 150(a)(3)) of the         issue are to be used to provide financing for mortgagors who         suffered damages to their principal residences attributable to         Hurricane Ike.        (2) By substituting ``any State in which any Hurricane Ike     disaster area is located'' for ``the State of Alabama, Louisiana,     or Mississippi'' in paragraph (2)(B).        (3) By substituting ``designated for purposes of this section     (on the basis of providing assistance to areas in the order in     which such assistance is most needed)'' for ``designated for     purposes of this section'' in paragraph (2)(C).        (4) By substituting ``January 1, 2013'' for ``January 1, 2011''     in paragraph (2)(D).        (5) By substituting the following for subparagraph (A) of     paragraph (3):            ``(A) Aggregate amount designated.--The maximum aggregate         face amount of bonds which may be designated under this         subsection with respect to any State shall not exceed the         product of $2,000 multiplied by the portion of the State         population which is in--                ``(i) in the case of Texas, the counties of Brazoria,             Chambers, Galveston, Jefferson, and Orange, and                ``(ii) in the case of Louisiana, the parishes of             Calcasieu and Cameron,        (as determined on the basis of the most recent census estimate         of resident population released by the Bureau of Census before         September 13, 2008).''.        (6) By substituting ``qualified Hurricane Ike disaster area     repair or construction'' for ``qualified GO Zone repair or     construction'' each place it appears.        (7) By substituting ``after the date of the enactment of the     Heartland Disaster Tax Relief Act of 2008 and before January 1,     2013'' for ``after the date of the enactment of this paragraph and     before January 1, 2011'' in paragraph (7)(C).        (8) By disregarding paragraph (8) thereof.        (9) By substituting ``any Hurricane Ike disaster area'' for     ``the Gulf Opportunity Zone'' each place it appears.    (b) Low-Income Housing Credit.--Section 1400N(c) of the Internal Revenue Code of 1986 shall apply to any Hurricane Ike disaster area in addition to any other area referenced in such section, but with the following modifications:        (1) Only with respect to calendar years 2008, 2009, and 2010.        (2) By substituting ``any Hurricane Ike disaster area'' for     ``the Gulf Opportunity Zone'' each place it appears.        (3) By substituting ``Hurricane Ike Recovery Assistance housing     amount'' for ``Gulf Opportunity housing amount'' each place it     appears.        (4) By substituting the following for subparagraph (B) of     paragraph (1):            ``(B) Hurricane ike housing amount.--For purposes of         subparagraph (A), the term `Hurricane Ike housing amount'         means, for any calendar year, the amount equal to the product         of $16.00 multiplied by the portion of the State population         which is in--                ``(i) in the case of Texas, the counties of Brazoria,             Chambers, Galveston, Jefferson, and Orange, and                ``(ii) in the case of Louisiana, the parishes of             Calcasieu and Cameron,        (as determined on the basis of the most recent census estimate         of resident population released by the Bureau of Census before         September 13, 2008).''.        (5) Determined without regard to paragraphs (2), (3), (4), (5),     and (6) thereof.    (c) Hurricane Ike Disaster Area.--For purposes of this section and for applying the substitutions described in subsections (a) and (b), the term ``Hurricane Ike disaster area'' means an area in the State of Texas or Louisiana--        (1) with respect to which a major disaster has been declared by     the President on September 13, 2008, under section 401 of the     Robert T. Stafford Disaster Relief and Emergency Assistance Act by     reason of Hurricane Ike, and        (2) determined by the President to warrant individual or     individual and public assistance from the Federal Government under     such Act with respect to damages attributable to Hurricane Ike.                  Subtitle B--National Disaster Relief    SEC. 706. LOSSES ATTRIBUTABLE TO FEDERALLY DECLARED DISASTERS.    (a) Waiver of Adjusted Gross Income Limitation.--        (1) In general.--Subsection (h) of section 165 is amended by     redesignating paragraphs (3) and (4) as paragraphs (4) and (5),     respectively, and by inserting after paragraph (2) the following     new paragraph:        ``(3) Special rule for losses in federally declared     disasters.--            ``(A) In general.--If an individual has a net disaster loss         for any taxable year, the amount determined under paragraph         (2)(A)(ii) shall be the sum of--                ``(i) such net disaster loss, and                ``(ii) so much of the excess referred to in the matter             preceding clause (i) of paragraph (2)(A) (reduced by the             amount in clause (i) of this subparagraph) as exceeds 10             percent of the adjusted gross income of the individual.            ``(B) Net disaster loss.--For purposes of subparagraph (A),         the term `net disaster loss' means the excess of--                ``(i) the personal casualty losses--                    ``(I) attributable to a federally declared disaster                 occurring before January 1, 2010, and                    ``(II) occurring in a disaster area, over                ``(ii) personal casualty gains.            ``(C) Federally declared disaster.--For purposes of this         paragraph--                ``(i) Federally declared disaster.--The term `federally             declared disaster' means any disaster subsequently             determined by the President of the United States to warrant             assistance by the Federal Government under the Robert T.             Stafford Disaster Relief and Emergency Assistance Act.                ``(ii) Disaster area.--The term `disaster area' means             the area so determined to warrant such assistance.''.        (2) Conforming amendments.--            (A) Section 165(h)(4)(B) (as so redesignated) is amended by         striking ``paragraph (2)'' and inserting ``paragraphs (2) and         (3)''.            (B) Section 165(i)(1) is amended by striking ``loss'' and         all that follows through ``Act'' and inserting ``loss occurring         in a disaster area (as defined by clause (ii) of subsection         (h)(3)(C)) and attributable to a federally declared disaster         (as defined by clause (i) of such subsection)''.            (C) Section 165(i)(4) is amended by striking         ``Presidentially declared disaster (as defined by section         1033(h)(3))'' and inserting ``federally declared disaster (as         defined by subsection (h)(3)(C)(i)''.            (D)(i) So much of subsection (h) of section 1033 as         precedes subparagraph (A) of paragraph (1) thereof is amended         to read as follows:    ``(h) Special Rules for Property Damaged by Federally Declared Disasters.--        ``(1) Principal residences.--If the taxpayer's principal     residence or any of its contents is located in a disaster area and     is compulsorily or involuntarily converted as a result of a     federally declared disaster--''.            (ii) Paragraph (2) of section 1033(h) is amended by         striking ``investment'' and all that follows through         ``disaster'' and inserting ``investment located in a disaster         area and compulsorily or involuntarily converted as a result of         a federally declared disaster''.            (iii) Paragraph (3) of section 1033(h) is amended to read         as follows:        ``(3) Federally declared disaster; disaster area.--The terms     ``federally declared disaster'' and ``disaster area'' shall have     the respective meaning given such terms by section 165(h)(3)(C).''.            (iv) Section 139(c)(2) is amended to read as follows:        ``(2) federally declared disaster (as defined by section     165(h)(3)(C)(i)),''.            (v) Subclause (II) of section 172(b)(1)(F)(ii) is amended         by striking ``Presidentially declared disasters (as defined in         section 1033(h)(3))'' and inserting ``federally declared         disasters (as defined by subsection (h)(3)(C)(i))''.            (vi) Subclause (III) of section 172(b)(1)(F)(ii) is amended         by striking ``Presidentially declared disasters'' and inserting         ``federally declared disasters''.            (vii) Subsection (a) of section 7508A is amended by         striking ``Presidentially declared disaster (as defined in         section 1033(h)(3))'' and inserting ``federally declared         disaster (as defined by section 165(h)(3)(C)(i))''.    (b) Increase in Standard Deduction by Disaster Casualty Loss.--        (1) In general.--Paragraph (1) of section 63(c), as amended by     the Housing Assistance Tax Act of 2008, is amended by striking     ``and'' at the end of subparagraph (B), by striking the period at     the end of subparagraph (C) and inserting ``, and'', and by adding     at the end the following new subparagraph:            ``(D) the disaster loss deduction.''.        (2) Disaster loss deduction.--Subsection (c) of section 63, as     amended by the Housing Assistance Tax Act of 2008, is amended by     adding at the end the following new paragraph:        ``(8) Disaster loss deduction.--For the purposes of paragraph     (1), the term `disaster loss deduction' means the net disaster loss     (as defined in section 165(h)(3)(B)).''.        (3) Allowance in computing alternative minimum taxable     income.--Subparagraph (E) of section 56(b)(1) is amended by adding     at the end the following new sentence: ``The preceding sentence     shall not apply to so much of the standard deduction as is     determined under section 63(c)(1)(D).''.    (c) Increase in Limitation on Individual Loss Per Casualty.--Paragraph (1) of section 165(h) is amended by striking ``$100'' and inserting ``$500 ($100 for taxable years beginning after December 31, 2009)''.    (d) Effective Dates.--        (1) In general.--Except as provided by paragraph (2), the     amendments made by this section shall apply to disasters declared     in taxable years beginning after December 31, 2007.        (2) Increase in limitation on individual loss per casualty.--    The amendment made by subsection (c) shall apply to taxable years     beginning after December 31, 2008.    SEC. 707. EXPENSING OF QUALIFIED DISASTER EXPENSES.    (a) In General.--Part VI of subchapter B of chapter 1 is amended by inserting after section 198 the following new section:``SEC. 198A. EXPENSING OF QUALIFIED DISASTER EXPENSES.    ``(a) In General.--A taxpayer may elect to treat any qualified disaster expenses which are paid or incurred by the taxpayer as an expense which is not chargeable to capital account. Any expense which is so treated shall be allowed as a deduction for the taxable year in which it is paid or incurred.    ``(b) Qualified Disaster Expense.--For purposes of this section, the term `qualified disaster expense' means any expenditure--        ``(1) which is paid or incurred in connection with a trade or     business or with business-related property,        ``(2) which is--            ``(A) for the abatement or control of hazardous substances         that were released on account of a federally declared disaster         occurring before January 1, 2010,            ``(B) for the removal of debris from, or the demolition of         structures on, real property which is business-related property         damaged or destroyed as a result of a federally declared         disaster occurring before such date, or            ``(C) for the repair of business-related property damaged         as a result of a federally declared disaster occurring before         such date, and        ``(3) which is otherwise chargeable to capital account.    ``(c) Other Definitions.--For purposes of this section--        ``(1) Business-related property.--The term `business-related     property' means property--            ``(A) held by the taxpayer for use in a trade or business         or for the production of income, or            ``(B) described in section 1221(a)(1) in the hands of the         taxpayer.        ``(2) Federally declared disaster.--The term `federally     declared disaster' has the meaning given such term by section     165(h)(3)(C)(i).    ``(d) Deduction Recaptured as Ordinary Income on Sale, etc.--Solely for purposes of section 1245, in the case of property to which a qualified disaster expense would have been capitalized but for this section--        ``(1) the deduction allowed by this section for such expense     shall be treated as a deduction for depreciation, and        ``(2) such property (if not otherwise section 1245 property)     shall be treated as section 1245 property solely for purposes of     applying section 1245 to such deduction.    ``(e) Coordination With Other Provisions.--Sections 198, 280B, and 468 shall not apply to amounts which are treated as expenses under this section.    ``(f) Regulations.--The Secretary shall prescribe such regulations as may be necessary or appropriate to carry out the purposes of this section.''.    (b) Clerical Amendment.--The table of sections for part VI of subchapter B of chapter 1 is amended by inserting after the item relating to section 198 the following new item:``Sec. 198A. Expensing of Qualified Disaster Expenses.''.    (c) Effective Date.--The amendments made by this section shall apply to amounts paid or incurred after December 31, 2007 in connection with disaster declared after such date.    SEC. 708. NET OPERATING LOSSES ATTRIBUTABLE TO FEDERALLY DECLARED       DISASTERS.    (a) In General.--Paragraph (1) of section 172(b) is amended by adding at the end the following new subparagraph:            ``(J) Certain losses attributable federally declared         disasters.--In the case of a taxpayer who has a qualified         disaster loss (as defined in subsection (j)), such loss shall         be a net operating loss carryback to each of the 5 taxable         years preceding the taxable year of such loss.''.    (b) Qualified Disaster Loss.--Section 172 is amended by redesignating subsections (j) and (k) as subsections (k) and (l), respectively, and by inserting after subsection (i) the following new subsection:    ``(j) Rules Relating to Qualified Disaster Losses.--For purposes of this section--        ``(1) In general.--The term `qualified disaster loss' means the     lesser of--            ``(A) the sum of--                ``(i) the losses allowable under section 165 for the             taxable year--                    ``(I) attributable to a federally declared disaster                 (as defined in section 165(h)(3)(C)(i)) occurring                 before January 1, 2010, and                    ``(II) occurring in a disaster area (as defined in                 section 165(h)(3)(C)(ii)), and                ``(ii) the deduction for the taxable year for qualified             disaster expenses which is allowable under section 198A(a)             or which would be so allowable if not otherwise treated as             an expense, or            ``(B) the net operating loss for such taxable year.        ``(2) Coordination with subsection (b)(2).--For purposes of     applying subsection (b)(2), a qualified disaster loss for any     taxable year shall be treated in a manner similar to the manner in     which a specified liability loss is treated.        ``(3) Election.--Any taxpayer entitled to a 5-year carryback     under subsection (b)(1)(J) from any loss year may elect to have the     carryback period with respect to such loss year determined without     regard to subsection (b)(1)(J). Such election shall be made in such     manner as may be prescribed by the Secretary and shall be made by     the due date (including extensions of time) for filing the     taxpayer's return for the taxable year of the net operating loss.     Such election, once made for any taxable year, shall be irrevocable     for such taxable year.        ``(4) Exclusion.--The term `qualified disaster loss' shall not     include any loss with respect to any property described in section     1400N(p)(3).''.    (c) Loss Deduction Allowed in Computing Alternative Minimum Taxable Income.--Subsection (d) of section 56 is amended by adding at the end the following new paragraph:        ``(3) Net operating loss attributable to federally declared     disasters.--In the case of a taxpayer which has a qualified     disaster loss (as defined by section 172(b)(1)(J)) for the taxable     year, paragraph (1) shall be applied by increasing the amount     determined under subparagraph (A)(ii)(I) thereof by the sum of the     carrybacks and carryovers of such loss.''.    (d) Conforming Amendments.--        (1) Clause (ii) of section 172(b)(1)(F) is amended by inserting     ``or qualified disaster loss (as defined in subsection (j))''     before the period at the end of the last sentence.        (2) Paragraph (1) of section 172(i) is amended by adding at the     end the following new flush sentence:    ``Such term shall not include any qualified disaster loss (as     defined in subsection (j)).''.    (e) Effective Date.--The amendments made by this section shall apply to losses arising in taxable years beginning after December 31, 2007, in connection with disasters declared after such date.    SEC. 709. WAIVER OF CERTAIN MORTGAGE REVENUE BOND REQUIREMENTS       FOLLOWING FEDERALLY DECLARED DISASTERS.    (a) In General.--Subsection (k) of section 143 is amended by adding at the end the following new paragraph:        ``(12) Special rules for residences destroyed in federally     declared disasters.--            ``(A) Principal residence destroyed.--At the election of         the taxpayer, if the principal residence (within the meaning of         section 121) of such taxpayer is--                ``(i) rendered unsafe for use as a residence by reason             of a federally declared disaster occurring before January             1, 2010, or                ``(ii) demolished or relocated by reason of an order of             the government of a State or political subdivision thereof             on account of a federally declared disaster occurring             before such date,        then, for the 2-year period beginning on the date of the         disaster declaration, subsection (d)(1) shall not apply with         respect to such taxpayer and subsection (e) shall be applied by         substituting `110' for `90' in paragraph (1) thereof.            ``(B) Principal residence damaged.--                ``(i) In general.--At the election of the taxpayer, if             the principal residence (within the meaning of section 121)             of such taxpayer was damaged as the result of a federally             declared disaster occurring before January 1, 2010, any             owner-financing provided in connection with the repair or             reconstruction of such residence shall be treated as a             qualified rehabilitation loan.                ``(ii) Limitation.--The aggregate owner-financing to             which clause (i) applies shall not exceed the lesser of--                    ``(I) the cost of such repair or reconstruction, or                    ``(II) $150,000.            ``(C) Federally declared disaster.--For purposes of this         paragraph, the term `federally declared disaster' has the         meaning given such term by section 165(h)(3)(C)(i).            ``(D) Election; denial of double benefit.--                ``(i) Election.--An election under this paragraph may             not be revoked except with the consent of the Secretary.                ``(ii) Denial of double benefit.--If a taxpayer elects             the application of this paragraph, paragraph (11) shall not             apply with respect to the purchase or financing of any             residence by such taxpayer.''.    (b) Effective Date.--The amendment made by subsection (a) shall apply to disasters occurring after December 31, 2007.    SEC. 710. SPECIAL DEPRECIATION ALLOWANCE FOR QUALIFIED DISASTER       PROPERTY.    (a) In General.--Section 168, as amended by this Act, is amended by adding at the end the following new subsection:    ``(n) Special Allowance for Qualified Disaster Assistance Property.--        ``(1) In general.--In the case of any qualified disaster     assistance property--            ``(A) the depreciation deduction provided by section 167(a)         for the taxable year in which such property is placed in         service shall include an allowance equal to 50 percent of the         adjusted basis of the qualified disaster assistance property,         and            ``(B) the adjusted basis of the qualified disaster         assistance property shall be reduced by the amount of such         deduction before computing the amount otherwise allowable as a         depreciation deduction under this chapter for such taxable year         and any subsequent taxable year.        ``(2) Qualified disaster assistance property.--For purposes of     this subsection--            ``(A) In general.--The term `qualified disaster assistance         property' means any property--                ``(i)(I) which is described in subsection (k)(2)(A)(i),             or                ``(II) which is nonresidential real property or             residential rental property,                ``(ii) substantially all of the use of which is--                    ``(I) in a disaster area with respect to a                 federally declared disaster occurring before January 1,                 2010, and                    ``(II) in the active conduct of a trade or business                 by the taxpayer in such disaster area,                ``(iii) which--                    ``(I) rehabilitates property damaged, or replaces                 property destroyed or condemned, as a result of such                 federally declared disaster, except that, for purposes                 of this clause, property shall be treated as replacing                 property destroyed or condemned if, as part of an                 integrated plan, such property replaces property which                 is included in a continuous area which includes real                 property destroyed or condemned, and                    ``(II) is similar in nature to, and located in the                 same county as, the property being rehabilitated or                 replaced,                ``(iv) the original use of which in such disaster area             commences with an eligible taxpayer on or after the             applicable disaster date,                ``(v) which is acquired by such eligible taxpayer by             purchase (as defined in section 179(d)) on or after the             applicable disaster date, but only if no written binding             contract for the acquisition was in effect before such             date, and                ``(vi) which is placed in service by such eligible             taxpayer on or before the date which is the last day of the             third calendar year following the applicable disaster date             (the fourth calendar year in the case of nonresidential             real property and residential rental property).            ``(B) Exceptions.--                ``(i) Other bonus depreciation property.--The term             `qualified disaster assistance property' shall not             include--                    ``(I) any property to which subsection (k)                 (determined without regard to paragraph (4)), (l), or                 (m) applies,                    ``(II) any property to which section 1400N(d)                 applies, and                    ``(III) any property described in section                 1400N(p)(3).                ``(ii) Alternative depreciation property.--The term             `qualified disaster assistance property' shall not include             any property to which the alternative depreciation system             under subsection (g) applies, determined without regard to             paragraph (7) of subsection (g) (relating to election to             have system apply).                ``(iii) Tax-exempt bond financed property.--Such term             shall not include any property any portion of which is             financed with the proceeds of any obligation the interest             on which is exempt from tax under section 103.                ``(iv) Qualified revitalization buildings.--Such term             shall not include any qualified revitalization building             with respect to which the taxpayer has elected the             application of paragraph (1) or (2) of section 1400I(a).                ``(v) Election out.--If a taxpayer makes an election             under this clause with respect to any class of property for             any taxable year, this subsection shall not apply to all             property in such class placed in service during such             taxable year.            ``(C) Special rules.--For purposes of this subsection,         rules similar to the rules of subparagraph (E) of subsection         (k)(2) shall apply, except that such subparagraph shall be         applied--                ``(i) by substituting `the applicable disaster date'             for `December 31, 2007' each place it appears therein,                ``(ii) without regard to `and before January 1, 2009'             in clause (i) thereof, and                ``(iii) by substituting `qualified disaster assistance             property' for `qualified property' in clause (iv) thereof.            ``(D) Allowance against alternative minimum tax.--For         purposes of this subsection, rules similar to the rules of         subsection (k)(2)(G) shall apply.        ``(3) Other definitions.--For purposes of this subsection--            ``(A) Applicable disaster date.--The term `applicable         disaster date' means, with respect to any federally declared         disaster, the date on which such federally declared disaster         occurs.            ``(B) Federally declared disaster.--The term `federally         declared disaster' has the meaning given such term under         section 165(h)(3)(C)(i).            ``(C) Disaster area.--The term `disaster area' has the         meaning given such term under section 165(h)(3)(C)(ii).            ``(D) Eligible taxpayer.--The term `eligible taxpayer'         means a taxpayer who has suffered an economic loss attributable         to a federally declared disaster.        ``(4) Recapture.--For purposes of this subsection, rules     similar to the rules under section 179(d)(10) shall apply with     respect to any qualified disaster assistance property which ceases     to be qualified disaster assistance property.''.    (b) Effective Date.--The amendment made by this section shall apply to property placed in service after December 31, 2007, with respect disasters declared after such date.    SEC. 711. INCREASED EXPENSING FOR QUALIFIED DISASTER ASSISTANCE       PROPERTY.    (a) In General.--Section 179 is amended by adding at the end the following new subsection:    ``(e) Special Rules for Qualified Disaster Assistance Property.--        ``(1) In general.--For purposes of this section--            ``(A) the dollar amount in effect under subsection (b)(1)         for the taxable year shall be increased by the lesser of--                ``(i) $100,000, or                ``(ii) the cost of qualified section 179 disaster             assistance property placed in service during the taxable             year, and            ``(B) the dollar amount in effect under subsection (b)(2)         for the taxable year shall be increased by the lesser of--                ``(i) $600,000, or                ``(ii) the cost of qualified section 179 disaster             assistance property placed in service during the taxable             year.        ``(2) Qualified section 179 disaster assistance property.--For     purposes of this subsection, the term `qualified section 179     disaster assistance property' means section 179 property (as     defined in subsection (d)) which is qualified disaster assistance     property (as defined in section 168(n)(2)).        ``(3) Coordination with empowerment zones and renewal     communities.--For purposes of sections 1397A and 1400J, qualified     section 179 disaster assistance property shall not be treated as     qualified zone property or qualified renewal property, unless the     taxpayer elects not to take such qualified section 179 disaster     assistance property into account for purposes of this subsection.        ``(4) Recapture.--For purposes of this subsection, rules     similar to the rules under subsection (d)(10) shall apply with     respect to any qualified section 179 disaster assistance property     which ceases to be qualified section 179 disaster assistance     property.''.    (b) Effective Date.--The amendment made by this section shall apply to property placed in service after December 31, 2007, with respect disasters declared after such date.    SEC. 712. COORDINATION WITH HEARTLAND DISASTER RELIEF.    The amendments made by this subtitle, other than the amendments made by sections 706(a)(2), 710, and 711, shall not apply to any disaster described in section 702(c)(1)(A), or to any expenditure or loss resulting from such disaster.\n",
        "TITLE VIII--SPENDING REDUCTIONS AND APPROPRIATE REVENUE RAISERS FOR NEW                            TAX RELIEF POLICY    SEC. 801. NONQUALIFIED DEFERRED COMPENSATION FROM CERTAIN TAX       INDIFFERENT PARTIES.    (a) In General.--Subpart B of part II of subchapter E of chapter 1 is amended by inserting after section 457 the following new section:``SEC. 457A. NONQUALIFIED DEFERRED COMPENSATION FROM CERTAIN TAX INDIFFERENT PARTIES.    ``(a) In General.--Any compensation which is deferred under a nonqualified deferred compensation plan of a nonqualified entity shall be includible in gross income when there is no substantial risk of forfeiture of the rights to such compensation.    ``(b) Nonqualified Entity.--For purposes of this section, the term `nonqualified entity' means--        ``(1) any foreign corporation unless substantially all of its     income is--            ``(A) effectively connected with the conduct of a trade or         business in the United States, or            ``(B) subject to a comprehensive foreign income tax, and        ``(2) any partnership unless substantially all of its income is     allocated to persons other than--            ``(A) foreign persons with respect to whom such income is         not subject to a comprehensive foreign income tax, and            ``(B) organizations which are exempt from tax under this         title.    ``(c) Determinability of Amounts of Compensation.--        ``(1) In general.--If the amount of any compensation is not     determinable at the time that such compensation is otherwise     includible in gross income under subsection (a)--            ``(A) such amount shall be so includible in gross income         when determinable, and            ``(B) the tax imposed under this chapter for the taxable         year in which such compensation is includible in gross income         shall be increased by the sum of--                ``(i) the amount of interest determined under paragraph             (2), and                ``(ii) an amount equal to 20 percent of the amount of             such compensation.        ``(2) Interest.--For purposes of paragraph (1)(B)(i), the     interest determined under this paragraph for any taxable year is     the amount of interest at the underpayment rate under section 6621     plus 1 percentage point on the underpayments that would have     occurred had the deferred compensation been includible in gross     income for the taxable year in which first deferred or, if later,     the first taxable year in which such deferred compensation is not     subject to a substantial risk of forfeiture.    ``(d) Other Definitions and Special Rules.--For purposes of this section--        ``(1) Substantial risk of forfeiture.--            ``(A) In general.--The rights of a person to compensation         shall be treated as subject to a substantial risk of forfeiture         only if such person's rights to such compensation are         conditioned upon the future performance of substantial services         by any individual.            ``(B) Exception for compensation based on gain recognized         on an investment asset.--                ``(i) In general.--To the extent provided in             regulations prescribed by the Secretary, if compensation is             determined solely by reference to the amount of gain             recognized on the disposition of an investment asset, such             compensation shall be treated as subject to a substantial             risk of forfeiture until the date of such disposition.                ``(ii) Investment asset.--For purposes of clause (i),             the term `investment asset' means any single asset (other             than an investment fund or similar entity)--                    ``(I) acquired directly by an investment fund or                 similar entity,                    ``(II) with respect to which such entity does not                 (nor does any person related to such entity)                 participate in the active management of such asset (or                 if such asset is an interest in an entity, in the                 active management of the activities of such entity),                 and                    ``(III) substantially all of any gain on the                 disposition of which (other than such deferred                 compensation) is allocated to investors in such entity.                ``(iii) Coordination with special rule.--Paragraph             (3)(B) shall not apply to any compensation to which clause             (i) applies.        ``(2) Comprehensive foreign income tax.--The term     `comprehensive foreign income tax' means, with respect to any     foreign person, the income tax of a foreign country if--            ``(A) such person is eligible for the benefits of a         comprehensive income tax treaty between such foreign country         and the United States, or            ``(B) such person demonstrates to the satisfaction of the         Secretary that such foreign country has a comprehensive income         tax.        ``(3) Nonqualified deferred compensation plan.--            ``(A) In general.--The term `nonqualified deferred         compensation plan' has the meaning given such term under         section 409A(d), except that such term shall include any plan         that provides a right to compensation based on the appreciation         in value of a specified number of equity units of the service         recipient.            ``(B) Exception.--Compensation shall not be treated as         deferred for purposes of this section if the service provider         receives payment of such compensation not later than 12 months         after the end of the taxable year of the service recipient         during which the right to the payment of such compensation is         no longer subject to a substantial risk of forfeiture.        ``(4) Exception for certain compensation with respect to     effectively connected income.--In the case a foreign corporation     with income which is taxable under section 882, this section shall     not apply to compensation which, had such compensation had been     paid in cash on the date that such compensation ceased to be     subject to a substantial risk of forfeiture, would have been     deductible by such foreign corporation against such income.        ``(5) Application of rules.--Rules similar to the rules of     paragraphs (5) and (6) of section 409A(d) shall apply.    ``(e) Regulations.--The Secretary shall prescribe such regulations as may be necessary or appropriate to carry out the purposes of this section, including regulations disregarding a substantial risk of forfeiture in cases where necessary to carry out the purposes of this section.''.    (b) Conforming Amendment.--Section 26(b)(2), as amended by the Housing Assistance Tax Act of 2008, is amended by striking ``and'' at the end of subparagraph (V), by striking the period at the end of subparagraph (W) and inserting ``, and'', and by adding at the end the following new subparagraph:            ``(X) section 457A(c)(1)(B) (relating to determinability of         amounts of compensation).''.    (c) Clerical Amendment.--The table of sections of subpart B of part II of subchapter E of chapter 1 is amended by inserting after the item relating to section 457 the following new item:``Sec. 457A. Nonqualified deferred compensation from certain tax           indifferent parties.''.    (d) Effective Date.--        (1) In general.--Except as otherwise provided in this     subsection, the amendments made by this section shall apply to     amounts deferred which are attributable to services performed after     December 31, 2008.        (2) Application to existing deferrals.--In the case of any     amount deferred to which the amendments made by this section do not     apply solely by reason of the fact that the amount is attributable     to services performed before January 1, 2009, to the extent such     amount is not includible in gross income in a taxable year     beginning before 2018, such amounts shall be includible in gross     income in the later of--            (A) the last taxable year beginning before 2018, or            (B) the taxable year in which there is no substantial risk         of forfeiture of the rights to such compensation (determined in         the same manner as determined for purposes of section 457A of         the Internal Revenue Code of 1986, as added by this section).        (3) Accelerated payments.--No later than 120 days after the     date of the enactment of this Act, the Secretary shall issue     guidance providing a limited period of time during which a     nonqualified deferred compensation arrangement attributable to     services performed on or before December 31, 2008, may, without     violating the requirements of section 409A(a) of the Internal     Revenue Code of 1986, be amended to conform the date of     distribution to the date the amounts are required to be included in     income.        (4) Certain back-to-back arrangements.--If the taxpayer is also     a service recipient and maintains one or more nonqualified deferred     compensation arrangements for its service providers under which any     amount is attributable to services performed on or before December     31, 2008, the guidance issued under paragraph (4) shall permit such     arrangements to be amended to conform the dates of distribution     under such arrangement to the date amounts are required to be     included in the income of such taxpayer under this subsection.        (5) Accelerated payment not treated as material modification.--    Any amendment to a nonqualified deferred compensation arrangement     made pursuant to paragraph (4) or (5) shall not be treated as a     material modification of the arrangement for purposes of section     409A of the Internal Revenue Code of 1986.                               Speaker of the House of Representatives.                            Vice President of the United States and                                                   President of the Senate.\n",
        "              DIVISION A--EMERGENCY ECONOMIC STABILIZATION\n"
       ]
      }
     ],
     "prompt_number": 134
    },
    {
     "cell_type": "code",
     "collapsed": false,
     "input": [
      "iml_list = []\n",
      "ct = 0\n",
      "for query_idx, matches in tarp_top_matches_jaccard:\n",
      "    matches_to_check = [ ( match_idx, jacc ) for ( match_idx, jacc ) in matches if jacc < 1.0 and jacc > 0.5 ]\n",
      "    #print len( matches_to_check ), len( data_list_of_dicts[query_idx]['text'].split() )\n",
      "    ct += len( matches_to_check )\n",
      "    for match_idx, jacc in matches_to_check:\n",
      "        text = ( data_list_of_dicts[query_idx]['text'], data_list_of_dicts[match_idx]['text'] )\n",
      "        iml_list.append( ( ( query_idx, match_idx ), text ) ) \n",
      "print ct\n"
     ],
     "language": "python",
     "metadata": {},
     "outputs": [
      {
       "output_type": "stream",
       "stream": "stdout",
       "text": [
        "246\n"
       ]
      }
     ],
     "prompt_number": 421
    },
    {
     "cell_type": "code",
     "collapsed": false,
     "input": [
      "print len( tarp_top_matches_jaccard )"
     ],
     "language": "python",
     "metadata": {},
     "outputs": [
      {
       "output_type": "stream",
       "stream": "stdout",
       "text": [
        "39\n"
       ]
      }
     ],
     "prompt_number": 122
    },
    {
     "cell_type": "code",
     "collapsed": false,
     "input": [
      "print len( iml_list )"
     ],
     "language": "python",
     "metadata": {},
     "outputs": [
      {
       "output_type": "stream",
       "stream": "stdout",
       "text": [
        "246\n"
       ]
      }
     ],
     "prompt_number": 422
    },
    {
     "cell_type": "code",
     "collapsed": false,
     "input": [
      "with open( 'query_match.pkl', 'w' ) as f:\n",
      "    cPickle.dump( iml_list, f )"
     ],
     "language": "python",
     "metadata": {},
     "outputs": [],
     "prompt_number": 423
    },
    {
     "cell_type": "code",
     "collapsed": false,
     "input": [
      "#print tarp_top_matches_jaccard[0]\n",
      "print data_list_of_dicts[69484]['text'] "
     ],
     "language": "python",
     "metadata": {},
     "outputs": [
      {
       "output_type": "stream",
       "stream": "stdout",
       "text": [
        "                                 An Act  To provide authority for the Federal Government to purchase and insure certain types of troubled assets for the purposes of providing stability   to and preventing disruption in the economy and financial system and   protecting taxpayers, to amend the Internal Revenue Code of 1986 to   provide incentives for energy production and conservation, to extend  certain expiring provisions, to provide individual income tax relief,                          and for other purposes.    Be it enacted by the Senate and House of Representatives of the United States of America in Congress assembled,\n"
       ]
      }
     ],
     "prompt_number": 411
    },
    {
     "cell_type": "code",
     "collapsed": false,
     "input": [
      "#print tarp_top_matches_jaccard[-1]\n",
      "print data_list_of_dicts[69522]['text']"
     ],
     "language": "python",
     "metadata": {},
     "outputs": [
      {
       "output_type": "stream",
       "stream": "stdout",
       "text": [
        "TITLE VIII--SPENDING REDUCTIONS AND APPROPRIATE REVENUE RAISERS FOR NEW                            TAX RELIEF POLICY    SEC. 801. NONQUALIFIED DEFERRED COMPENSATION FROM CERTAIN TAX       INDIFFERENT PARTIES.    (a) In General.--Subpart B of part II of subchapter E of chapter 1 is amended by inserting after section 457 the following new section:``SEC. 457A. NONQUALIFIED DEFERRED COMPENSATION FROM CERTAIN TAX INDIFFERENT PARTIES.    ``(a) In General.--Any compensation which is deferred under a nonqualified deferred compensation plan of a nonqualified entity shall be includible in gross income when there is no substantial risk of forfeiture of the rights to such compensation.    ``(b) Nonqualified Entity.--For purposes of this section, the term `nonqualified entity' means--        ``(1) any foreign corporation unless substantially all of its     income is--            ``(A) effectively connected with the conduct of a trade or         business in the United States, or            ``(B) subject to a comprehensive foreign income tax, and        ``(2) any partnership unless substantially all of its income is     allocated to persons other than--            ``(A) foreign persons with respect to whom such income is         not subject to a comprehensive foreign income tax, and            ``(B) organizations which are exempt from tax under this         title.    ``(c) Determinability of Amounts of Compensation.--        ``(1) In general.--If the amount of any compensation is not     determinable at the time that such compensation is otherwise     includible in gross income under subsection (a)--            ``(A) such amount shall be so includible in gross income         when determinable, and            ``(B) the tax imposed under this chapter for the taxable         year in which such compensation is includible in gross income         shall be increased by the sum of--                ``(i) the amount of interest determined under paragraph             (2), and                ``(ii) an amount equal to 20 percent of the amount of             such compensation.        ``(2) Interest.--For purposes of paragraph (1)(B)(i), the     interest determined under this paragraph for any taxable year is     the amount of interest at the underpayment rate under section 6621     plus 1 percentage point on the underpayments that would have     occurred had the deferred compensation been includible in gross     income for the taxable year in which first deferred or, if later,     the first taxable year in which such deferred compensation is not     subject to a substantial risk of forfeiture.    ``(d) Other Definitions and Special Rules.--For purposes of this section--        ``(1) Substantial risk of forfeiture.--            ``(A) In general.--The rights of a person to compensation         shall be treated as subject to a substantial risk of forfeiture         only if such person's rights to such compensation are         conditioned upon the future performance of substantial services         by any individual.            ``(B) Exception for compensation based on gain recognized         on an investment asset.--                ``(i) In general.--To the extent provided in             regulations prescribed by the Secretary, if compensation is             determined solely by reference to the amount of gain             recognized on the disposition of an investment asset, such             compensation shall be treated as subject to a substantial             risk of forfeiture until the date of such disposition.                ``(ii) Investment asset.--For purposes of clause (i),             the term `investment asset' means any single asset (other             than an investment fund or similar entity)--                    ``(I) acquired directly by an investment fund or                 similar entity,                    ``(II) with respect to which such entity does not                 (nor does any person related to such entity)                 participate in the active management of such asset (or                 if such asset is an interest in an entity, in the                 active management of the activities of such entity),                 and                    ``(III) substantially all of any gain on the                 disposition of which (other than such deferred                 compensation) is allocated to investors in such entity.                ``(iii) Coordination with special rule.--Paragraph             (3)(B) shall not apply to any compensation to which clause             (i) applies.        ``(2) Comprehensive foreign income tax.--The term     `comprehensive foreign income tax' means, with respect to any     foreign person, the income tax of a foreign country if--            ``(A) such person is eligible for the benefits of a         comprehensive income tax treaty between such foreign country         and the United States, or            ``(B) such person demonstrates to the satisfaction of the         Secretary that such foreign country has a comprehensive income         tax.        ``(3) Nonqualified deferred compensation plan.--            ``(A) In general.--The term `nonqualified deferred         compensation plan' has the meaning given such term under         section 409A(d), except that such term shall include any plan         that provides a right to compensation based on the appreciation         in value of a specified number of equity units of the service         recipient.            ``(B) Exception.--Compensation shall not be treated as         deferred for purposes of this section if the service provider         receives payment of such compensation not later than 12 months         after the end of the taxable year of the service recipient         during which the right to the payment of such compensation is         no longer subject to a substantial risk of forfeiture.        ``(4) Exception for certain compensation with respect to     effectively connected income.--In the case a foreign corporation     with income which is taxable under section 882, this section shall     not apply to compensation which, had such compensation had been     paid in cash on the date that such compensation ceased to be     subject to a substantial risk of forfeiture, would have been     deductible by such foreign corporation against such income.        ``(5) Application of rules.--Rules similar to the rules of     paragraphs (5) and (6) of section 409A(d) shall apply.    ``(e) Regulations.--The Secretary shall prescribe such regulations as may be necessary or appropriate to carry out the purposes of this section, including regulations disregarding a substantial risk of forfeiture in cases where necessary to carry out the purposes of this section.''.    (b) Conforming Amendment.--Section 26(b)(2), as amended by the Housing Assistance Tax Act of 2008, is amended by striking ``and'' at the end of subparagraph (V), by striking the period at the end of subparagraph (W) and inserting ``, and'', and by adding at the end the following new subparagraph:            ``(X) section 457A(c)(1)(B) (relating to determinability of         amounts of compensation).''.    (c) Clerical Amendment.--The table of sections of subpart B of part II of subchapter E of chapter 1 is amended by inserting after the item relating to section 457 the following new item:``Sec. 457A. Nonqualified deferred compensation from certain tax           indifferent parties.''.    (d) Effective Date.--        (1) In general.--Except as otherwise provided in this     subsection, the amendments made by this section shall apply to     amounts deferred which are attributable to services performed after     December 31, 2008.        (2) Application to existing deferrals.--In the case of any     amount deferred to which the amendments made by this section do not     apply solely by reason of the fact that the amount is attributable     to services performed before January 1, 2009, to the extent such     amount is not includible in gross income in a taxable year     beginning before 2018, such amounts shall be includible in gross     income in the later of--            (A) the last taxable year beginning before 2018, or            (B) the taxable year in which there is no substantial risk         of forfeiture of the rights to such compensation (determined in         the same manner as determined for purposes of section 457A of         the Internal Revenue Code of 1986, as added by this section).        (3) Accelerated payments.--No later than 120 days after the     date of the enactment of this Act, the Secretary shall issue     guidance providing a limited period of time during which a     nonqualified deferred compensation arrangement attributable to     services performed on or before December 31, 2008, may, without     violating the requirements of section 409A(a) of the Internal     Revenue Code of 1986, be amended to conform the date of     distribution to the date the amounts are required to be included in     income.        (4) Certain back-to-back arrangements.--If the taxpayer is also     a service recipient and maintains one or more nonqualified deferred     compensation arrangements for its service providers under which any     amount is attributable to services performed on or before December     31, 2008, the guidance issued under paragraph (4) shall permit such     arrangements to be amended to conform the dates of distribution     under such arrangement to the date amounts are required to be     included in the income of such taxpayer under this subsection.        (5) Accelerated payment not treated as material modification.--    Any amendment to a nonqualified deferred compensation arrangement     made pursuant to paragraph (4) or (5) shall not be treated as a     material modification of the arrangement for purposes of section     409A of the Internal Revenue Code of 1986.                               Speaker of the House of Representatives.                            Vice President of the United States and                                                   President of the Senate.\n"
       ]
      }
     ],
     "prompt_number": 435
    }
   ],
   "metadata": {}
  }
 ]
}