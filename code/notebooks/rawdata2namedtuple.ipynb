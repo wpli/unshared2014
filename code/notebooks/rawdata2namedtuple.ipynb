{
 "metadata": {
  "name": ""
 },
 "nbformat": 3,
 "nbformat_minor": 0,
 "worksheets": [
  {
   "cells": [
    {
     "cell_type": "code",
     "collapsed": false,
     "input": [
      "# Python libraries\n",
      "import collections\n",
      "import os\n",
      "import sys\n",
      "import csv\n",
      "import cPickle\n",
      "sys.path.append( '../utils' )\n",
      "import utils_schema\n",
      "reload(utils_schema )"
     ],
     "language": "python",
     "metadata": {},
     "outputs": [
      {
       "metadata": {},
       "output_type": "pyout",
       "prompt_number": 5,
       "text": [
        "<module 'utils_schema' from '../utils/utils_schema.pyc'>"
       ]
      }
     ],
     "prompt_number": 5
    },
    {
     "cell_type": "code",
     "collapsed": false,
     "input": [
      "UNSHARED_DATA_PATH = '../../data/unshared-task-poliinformatics-2014-v1.0/'\n",
      "DATA_SOURCES = [ 'FOMC' ]"
     ],
     "language": "python",
     "metadata": {},
     "outputs": [],
     "prompt_number": 4
    },
    {
     "cell_type": "markdown",
     "metadata": {},
     "source": [
      "FOMC "
     ]
    },
    {
     "cell_type": "code",
     "collapsed": false,
     "input": [
      "print csv_schema"
     ],
     "language": "python",
     "metadata": {},
     "outputs": [
      {
       "output_type": "stream",
       "stream": "stdout",
       "text": [
        "['Discourse_Number', 'Speaker', 'Speech']\n"
       ]
      }
     ],
     "prompt_number": 54
    },
    {
     "cell_type": "code",
     "collapsed": false,
     "input": [
      "\n",
      "csv_schema = utils_schema.get_schema( os.path.join( UNSHARED_DATA_PATH, 'FOMC', 'FOMC20050202meeting', 'FOMC20050202meeting.csv' ) )\n",
      "fomc_schema = [ 'meeting_id' ] + csv_schema\n",
      "folder = 'FOMC'\n",
      "FOMC = collections.namedtuple( folder, fomc_schema )\n",
      "folder_full_path = os.path.join( UNSHARED_DATA_PATH, folder )\n",
      "subfolders = os.listdir( folder_full_path )\n",
      "\n",
      "fomc_namedtuples = []\n",
      "#fomc_meetings_dict = {}\n",
      "for subf in subfolders:\n",
      "    subfolder_full_path = os.path.join( folder_full_path, subf )\n",
      "    files = os.listdir( subfolder_full_path )\n",
      "    \n",
      "c\n",
      "    for fname in files:\n",
      "        if fname.endswith( '.csv' ):\n",
      "            meeting_namedtuples = []\n",
      "            with open( os.path.join( subfolder_full_path, fname ) ) as f:\n",
      "                csvreader = csv.reader( f, dialect='excel' )\n",
      "                for idx, row in enumerate( csvreader ):\n",
      "                    if idx == 0:\n",
      "                        pass\n",
      "                    else:\n",
      "                        new_entry = FOMC( *([subf] + [int(row[0])] + row[1:]) )\n",
      "                        fomc_namedtuples.append( new_entry )"
     ],
     "language": "python",
     "metadata": {},
     "outputs": [],
     "prompt_number": 57
    },
    {
     "cell_type": "markdown",
     "metadata": {},
     "source": [
      "Add FOMC2008"
     ]
    },
    {
     "cell_type": "code",
     "collapsed": false,
     "input": [
      "folder_full_path = os.path.join( '../../data/', 'FOMC2008' )\n",
      "subfolders = os.listdir( folder_full_path )\n",
      "subfolders = [ i for i in subfolders if \"FOMC2008\" in i ]\n",
      "for subf in subfolders:\n",
      "    subfolder_full_path = os.path.join( folder_full_path, subf )\n",
      "    files = os.listdir( subfolder_full_path )\n",
      "    \n",
      "\n",
      "    for fname in files:\n",
      "        if fname.endswith( '.csv' ):\n",
      "            meeting_namedtuples = []\n",
      "            with open( os.path.join( subfolder_full_path, fname ) ) as f:\n",
      "                csvreader = csv.reader( f, dialect='excel' )\n",
      "                for idx, row in enumerate( csvreader ):\n",
      "                    if idx == 0:\n",
      "                        pass\n",
      "                    else:\n",
      "                        new_entry = FOMC( *([subf] + [int(row[0])] + row[1:]) )\n",
      "                        fomc_namedtuples.append( new_entry )"
     ],
     "language": "python",
     "metadata": {},
     "outputs": [],
     "prompt_number": 65
    },
    {
     "cell_type": "code",
     "collapsed": false,
     "input": [
      "print len( fomc_namedtuples )"
     ],
     "language": "python",
     "metadata": {},
     "outputs": [
      {
       "output_type": "stream",
       "stream": "stdout",
       "text": [
        "9363\n"
       ]
      }
     ],
     "prompt_number": 66
    },
    {
     "cell_type": "code",
     "collapsed": false,
     "input": [
      "import cPickle\n",
      "with open( 'fomc_namedtuples.pkl', 'w' ) as f:\n",
      "    cPickle.dump( fomc_namedtuples, f )\n",
      "    "
     ],
     "language": "python",
     "metadata": {},
     "outputs": [],
     "prompt_number": 67
    },
    {
     "cell_type": "markdown",
     "metadata": {},
     "source": [
      "CongressionalHearings"
     ]
    },
    {
     "cell_type": "code",
     "collapsed": false,
     "input": [
      "print hearing_categories\n",
      "    \n"
     ],
     "language": "python",
     "metadata": {},
     "outputs": [
      {
       "output_type": "stream",
       "stream": "stdout",
       "text": [
        "['Dodd-Frank', 'MonetaryPolicy', 'Other', 'TARP']\n"
       ]
      }
     ],
     "prompt_number": 8
    },
    {
     "cell_type": "code",
     "collapsed": false,
     "input": [
      "print folder_full_path"
     ],
     "language": "python",
     "metadata": {},
     "outputs": [
      {
       "output_type": "stream",
       "stream": "stdout",
       "text": [
        "../../data/unshared-task-poliinformatics-2014-v1.0/CongressionalHearings\n"
       ]
      }
     ],
     "prompt_number": 9
    },
    {
     "cell_type": "code",
     "collapsed": false,
     "input": [
      "print hearings_schema"
     ],
     "language": "python",
     "metadata": {},
     "outputs": [
      {
       "output_type": "stream",
       "stream": "stdout",
       "text": [
        "['hearing_category', 'folder', 'Discourse_Number', 'Speaker', 'Speech']\n"
       ]
      }
     ],
     "prompt_number": 56
    },
    {
     "cell_type": "code",
     "collapsed": false,
     "input": [
      "csv_schema = utils_schema.get_schema( os.path.join( UNSHARED_DATA_PATH, 'CongressionalHearings', 'Dodd-Frank', 'CHRG-110hhrg44900', 'CHRG-110hhrg44900.csv' ) )\n",
      "hearings_schema = [ 'hearing_category', 'folder', 'Discourse_Number' ] + csv_schema\n",
      "folder = 'CongressionalHearings'\n",
      "folder_full_path = os.path.join( UNSHARED_DATA_PATH, folder )\n",
      "hearing_categories = os.listdir( folder_full_path )\n",
      "CongressionalHearings = collections.namedtuple( folder, hearings_schema )\n",
      "folder_full_path = os.path.join( UNSHARED_DATA_PATH, folder )\n",
      "subfolders = os.listdir( folder_full_path )"
     ],
     "language": "python",
     "metadata": {},
     "outputs": [],
     "prompt_number": 55
    },
    {
     "cell_type": "code",
     "collapsed": false,
     "input": [
      "csv.field_size_limit(sys.maxsize)\n",
      "hearing_categories = os.listdir( folder_full_path )\n",
      "hearing_files = []\n",
      "for hc in hearing_categories:\n",
      "    \n",
      "    hc_full_path = os.path.join( folder_full_path, hc )\n",
      "    for root, dirs, files in os.walk( hc_full_path ):\n",
      "        for file in files:\n",
      "            if file.endswith(\".csv\"):\n",
      "                subfolder = root.replace( folder_full_path, '' )\n",
      "                hearing_files.append( ( root, hc, subfolder, file ) )\n",
      "                \n",
      "\n",
      "congressionalhearings_namedtuples = []                \n",
      "for root, hc, subfolder, file in hearing_files:\n",
      "    fpath = os.path.join( root, file )\n",
      "    with open( fpath ) as f:\n",
      "        csvreader = csv.reader( f, dialect='excel' )\n",
      "        for idx, row in enumerate( csvreader ):\n",
      "            if idx == 0:\n",
      "                pass\n",
      "            else:\n",
      "                new_entry = CongressionalHearings( *([hc, subfolder,idx-1] + row) )\n",
      "                congressionalhearings_namedtuples.append( new_entry )\n",
      "\n",
      "                \n",
      "import cPickle\n",
      "with open( 'congressionalhearings_namedtuples.pkl', 'w' ) as f:\n",
      "    cPickle.dump( congressionalhearings_namedtuples, f )\n"
     ],
     "language": "python",
     "metadata": {},
     "outputs": [],
     "prompt_number": 52
    },
    {
     "cell_type": "markdown",
     "metadata": {},
     "source": []
    },
    {
     "cell_type": "code",
     "collapsed": false,
     "input": [],
     "language": "python",
     "metadata": {},
     "outputs": []
    },
    {
     "cell_type": "code",
     "collapsed": false,
     "input": [
      "hearing_files = []\n",
      "for root, dirs, files in os.walk( folder_full_path ):\n",
      "    for file in files:\n",
      "        if file.endswith(\".csv\"):\n",
      "             hearing_files.append( ( root, file ) )\n",
      "\n",
      "\n",
      "\n"
     ],
     "language": "python",
     "metadata": {},
     "outputs": [],
     "prompt_number": 51
    },
    {
     "cell_type": "code",
     "collapsed": false,
     "input": [
      "os.listdir( folder_full_path )"
     ],
     "language": "python",
     "metadata": {},
     "outputs": [
      {
       "metadata": {},
       "output_type": "pyout",
       "prompt_number": 18,
       "text": [
        "['Dodd-Frank', 'MonetaryPolicy', 'Other', 'TARP']"
       ]
      }
     ],
     "prompt_number": 18
    }
   ],
   "metadata": {}
  }
 ]
}