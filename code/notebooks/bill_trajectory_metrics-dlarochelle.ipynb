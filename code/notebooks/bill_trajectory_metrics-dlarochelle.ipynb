{
 "metadata": {
  "name": "bill_trajectory_metrics-dlarochelle"
 },
 "nbformat": 3,
 "nbformat_minor": 0,
 "worksheets": [
  {
   "cells": [
    {
     "cell_type": "code",
     "collapsed": false,
     "input": [
      "import os, sys\n",
      "sys.path.append( '../utils' )\n",
      "import utils_bill_trajectory\n",
      "import utils_search\n",
      "import dateutil\n",
      "import cPickle\n",
      "import datetime\n",
      "import collections\n",
      "#from matplotlib import pyplot as plt\n",
      "from matplotlib.dates import date2num"
     ],
     "language": "python",
     "metadata": {},
     "outputs": [],
     "prompt_number": 5
    },
    {
     "cell_type": "code",
     "collapsed": false,
     "input": [
      "reload( utils_bill_trajectory )\n",
      "data_list_of_dicts = utils_bill_trajectory.get_data_list_of_dicts()\n",
      "data_list_sets = utils_bill_trajectory.get_data_list_sets( data_list_of_dicts )\n",
      "word_inverted_index = utils_bill_trajectory.get_word_inverted_index( data_list_sets )"
     ],
     "language": "python",
     "metadata": {},
     "outputs": [
      {
       "output_type": "stream",
       "stream": "stderr",
       "text": [
        "0 10000 "
       ]
      },
      {
       "output_type": "stream",
       "stream": "stderr",
       "text": [
        "20000 30000 "
       ]
      },
      {
       "output_type": "stream",
       "stream": "stderr",
       "text": [
        "40000 50000 "
       ]
      },
      {
       "output_type": "stream",
       "stream": "stderr",
       "text": [
        "60000 70000 "
       ]
      },
      {
       "output_type": "stream",
       "stream": "stderr",
       "text": [
        "80000 90000 "
       ]
      },
      {
       "output_type": "stream",
       "stream": "stderr",
       "text": [
        "100000 110000 "
       ]
      },
      {
       "output_type": "stream",
       "stream": "stderr",
       "text": [
        "120000 130000 "
       ]
      },
      {
       "output_type": "stream",
       "stream": "stderr",
       "text": [
        "140000 150000 "
       ]
      },
      {
       "output_type": "stream",
       "stream": "stderr",
       "text": [
        "160000 170000 "
       ]
      },
      {
       "output_type": "stream",
       "stream": "stderr",
       "text": [
        "180000 190000 "
       ]
      },
      {
       "output_type": "stream",
       "stream": "stderr",
       "text": [
        "200000 210000 "
       ]
      },
      {
       "output_type": "stream",
       "stream": "stderr",
       "text": [
        "220000 230000 "
       ]
      },
      {
       "output_type": "stream",
       "stream": "stderr",
       "text": [
        "240000 250000 "
       ]
      },
      {
       "output_type": "stream",
       "stream": "stderr",
       "text": [
        "0 10000 "
       ]
      },
      {
       "output_type": "stream",
       "stream": "stderr",
       "text": [
        "20000 30000 "
       ]
      },
      {
       "output_type": "stream",
       "stream": "stderr",
       "text": [
        "40000 50000 "
       ]
      },
      {
       "output_type": "stream",
       "stream": "stderr",
       "text": [
        "60000 70000 "
       ]
      },
      {
       "output_type": "stream",
       "stream": "stderr",
       "text": [
        "80000 90000 "
       ]
      },
      {
       "output_type": "stream",
       "stream": "stderr",
       "text": [
        "100000 110000 "
       ]
      },
      {
       "output_type": "stream",
       "stream": "stderr",
       "text": [
        "120000 130000 "
       ]
      },
      {
       "output_type": "stream",
       "stream": "stderr",
       "text": [
        "140000 150000 "
       ]
      },
      {
       "output_type": "stream",
       "stream": "stderr",
       "text": [
        "160000 170000 "
       ]
      },
      {
       "output_type": "stream",
       "stream": "stderr",
       "text": [
        "180000 190000 "
       ]
      },
      {
       "output_type": "stream",
       "stream": "stderr",
       "text": [
        "200000 210000 "
       ]
      },
      {
       "output_type": "stream",
       "stream": "stderr",
       "text": [
        "220000 230000 "
       ]
      },
      {
       "output_type": "stream",
       "stream": "stderr",
       "text": [
        "240000 250000 "
       ]
      }
     ],
     "prompt_number": 2
    },
    {
     "cell_type": "code",
     "collapsed": false,
     "input": [
      "bill_name_dict = { 'TARP': 'hr1424-110-enr', 'HERA': 'hr3221-110-enr', 'Dodd-Frank': 'hr4173-111-enr', \n",
      "                  'ARRA': 'hr1-111-as2'}\n",
      "\n",
      "for bill in ( \"TARP\", \"HERA\", \"Dodd-Frank\", \"ARRA\" ):\n",
      "    print bill\n",
      "    target_bill = bill_name_dict[bill]\n",
      "    target_indices = [ idx for idx, i in enumerate( data_list_of_dicts ) if i['bill_version'] == target_bill ]\n",
      "\n",
      "    target_top_matches = utils_bill_trajectory.get_target_top_matches( target_indices, data_list_sets, word_inverted_index )\n",
      "    target_top_matches_jaccard = utils_bill_trajectory.get_target_top_matches_jaccard( target_top_matches, data_list_sets )\n",
      "    with open( '%s_top_matches_jaccard.pkl' % bill , 'w' ) as f:\n",
      "        cPickle.dump( target_top_matches_jaccard, f )"
     ],
     "language": "python",
     "metadata": {},
     "outputs": [
      {
       "output_type": "stream",
       "stream": "stderr",
       "text": [
        "69484 69485 "
       ]
      },
      {
       "output_type": "stream",
       "stream": "stderr",
       "text": [
        "69486 69487 "
       ]
      },
      {
       "output_type": "stream",
       "stream": "stderr",
       "text": [
        "69488 69489 "
       ]
      },
      {
       "output_type": "stream",
       "stream": "stderr",
       "text": [
        "69490 69491 "
       ]
      },
      {
       "output_type": "stream",
       "stream": "stderr",
       "text": [
        "69492 69493 "
       ]
      },
      {
       "output_type": "stream",
       "stream": "stderr",
       "text": [
        "69494 69495 "
       ]
      },
      {
       "output_type": "stream",
       "stream": "stderr",
       "text": [
        "69496 69497 "
       ]
      },
      {
       "output_type": "stream",
       "stream": "stderr",
       "text": [
        "69498 69499 "
       ]
      },
      {
       "output_type": "stream",
       "stream": "stderr",
       "text": [
        "69500 69501 "
       ]
      },
      {
       "output_type": "stream",
       "stream": "stderr",
       "text": [
        "69502 69503 "
       ]
      },
      {
       "output_type": "stream",
       "stream": "stderr",
       "text": [
        "69504 69505 "
       ]
      },
      {
       "output_type": "stream",
       "stream": "stderr",
       "text": [
        "69506 69507 "
       ]
      },
      {
       "output_type": "stream",
       "stream": "stderr",
       "text": [
        "69508 69509 "
       ]
      },
      {
       "output_type": "stream",
       "stream": "stderr",
       "text": [
        "69510 69511 "
       ]
      },
      {
       "output_type": "stream",
       "stream": "stderr",
       "text": [
        "69512 69513 "
       ]
      },
      {
       "output_type": "stream",
       "stream": "stderr",
       "text": [
        "69514 69515 "
       ]
      },
      {
       "output_type": "stream",
       "stream": "stderr",
       "text": [
        "69516 69517 "
       ]
      },
      {
       "output_type": "stream",
       "stream": "stderr",
       "text": [
        "69518 69519 "
       ]
      },
      {
       "output_type": "stream",
       "stream": "stderr",
       "text": [
        "69520 69521 "
       ]
      },
      {
       "output_type": "stream",
       "stream": "stdout",
       "text": [
        "TARP\n",
        "HERA"
       ]
      },
      {
       "output_type": "stream",
       "stream": "stderr",
       "text": [
        "69522 21834 "
       ]
      },
      {
       "output_type": "stream",
       "stream": "stderr",
       "text": [
        "21835 21836 "
       ]
      },
      {
       "output_type": "stream",
       "stream": "stderr",
       "text": [
        "21837 21838 "
       ]
      },
      {
       "output_type": "stream",
       "stream": "stderr",
       "text": [
        "21839 21840 "
       ]
      },
      {
       "output_type": "stream",
       "stream": "stderr",
       "text": [
        "21841 21842 "
       ]
      },
      {
       "output_type": "stream",
       "stream": "stderr",
       "text": [
        "21843 21844 21845 "
       ]
      },
      {
       "output_type": "stream",
       "stream": "stderr",
       "text": [
        "21846 21847 "
       ]
      },
      {
       "output_type": "stream",
       "stream": "stderr",
       "text": [
        "21848 21849 "
       ]
      },
      {
       "output_type": "stream",
       "stream": "stderr",
       "text": [
        "21850 21851 "
       ]
      },
      {
       "output_type": "stream",
       "stream": "stderr",
       "text": [
        "21852 21853 "
       ]
      },
      {
       "output_type": "stream",
       "stream": "stderr",
       "text": [
        "21854 21855 "
       ]
      },
      {
       "output_type": "stream",
       "stream": "stderr",
       "text": [
        "21856 21857 "
       ]
      },
      {
       "output_type": "stream",
       "stream": "stderr",
       "text": [
        "21858 21859 "
       ]
      },
      {
       "output_type": "stream",
       "stream": "stderr",
       "text": [
        "21860 21861 "
       ]
      },
      {
       "output_type": "stream",
       "stream": "stderr",
       "text": [
        "21862 21863 "
       ]
      },
      {
       "output_type": "stream",
       "stream": "stderr",
       "text": [
        "21864 21865 "
       ]
      },
      {
       "output_type": "stream",
       "stream": "stderr",
       "text": [
        "21866 21867 "
       ]
      },
      {
       "output_type": "stream",
       "stream": "stderr",
       "text": [
        "21868 21869 "
       ]
      },
      {
       "output_type": "stream",
       "stream": "stderr",
       "text": [
        "21870 21871 "
       ]
      },
      {
       "output_type": "stream",
       "stream": "stderr",
       "text": [
        "21872 21873 "
       ]
      },
      {
       "output_type": "stream",
       "stream": "stderr",
       "text": [
        "21874 21875 "
       ]
      },
      {
       "output_type": "stream",
       "stream": "stderr",
       "text": [
        "21876 21877 "
       ]
      },
      {
       "output_type": "stream",
       "stream": "stderr",
       "text": [
        "21878 21879 "
       ]
      },
      {
       "output_type": "stream",
       "stream": "stderr",
       "text": [
        "21880 21881 "
       ]
      },
      {
       "output_type": "stream",
       "stream": "stderr",
       "text": [
        "21882 21883 "
       ]
      },
      {
       "output_type": "stream",
       "stream": "stderr",
       "text": [
        "21884 21885 "
       ]
      },
      {
       "output_type": "stream",
       "stream": "stderr",
       "text": [
        "21886 21887 "
       ]
      },
      {
       "output_type": "stream",
       "stream": "stderr",
       "text": [
        "21888 21889 "
       ]
      },
      {
       "output_type": "stream",
       "stream": "stderr",
       "text": [
        "21890 21891 "
       ]
      },
      {
       "output_type": "stream",
       "stream": "stderr",
       "text": [
        "21892 21893 "
       ]
      },
      {
       "output_type": "stream",
       "stream": "stderr",
       "text": [
        "21894 21895 "
       ]
      },
      {
       "output_type": "stream",
       "stream": "stderr",
       "text": [
        "21896 21897 "
       ]
      },
      {
       "output_type": "stream",
       "stream": "stderr",
       "text": [
        "21898 21899 "
       ]
      },
      {
       "output_type": "stream",
       "stream": "stderr",
       "text": [
        "21900 21901 "
       ]
      },
      {
       "output_type": "stream",
       "stream": "stderr",
       "text": [
        "21902 21903 "
       ]
      },
      {
       "output_type": "stream",
       "stream": "stderr",
       "text": [
        "21904 21905 "
       ]
      },
      {
       "output_type": "stream",
       "stream": "stderr",
       "text": [
        "21906 21907 "
       ]
      },
      {
       "output_type": "stream",
       "stream": "stderr",
       "text": [
        "21908 21909 "
       ]
      },
      {
       "output_type": "stream",
       "stream": "stderr",
       "text": [
        "21910 21911 "
       ]
      },
      {
       "output_type": "stream",
       "stream": "stderr",
       "text": [
        "21912 21913 "
       ]
      },
      {
       "output_type": "stream",
       "stream": "stderr",
       "text": [
        "21914 21915 "
       ]
      },
      {
       "output_type": "stream",
       "stream": "stderr",
       "text": [
        "21916 21917 "
       ]
      },
      {
       "output_type": "stream",
       "stream": "stderr",
       "text": [
        "21918 21919 "
       ]
      },
      {
       "output_type": "stream",
       "stream": "stderr",
       "text": [
        "21920 21921 "
       ]
      },
      {
       "output_type": "stream",
       "stream": "stderr",
       "text": [
        "21922 21923 "
       ]
      },
      {
       "output_type": "stream",
       "stream": "stderr",
       "text": [
        "21924 21925 "
       ]
      },
      {
       "output_type": "stream",
       "stream": "stderr",
       "text": [
        "21926 21927 "
       ]
      },
      {
       "output_type": "stream",
       "stream": "stderr",
       "text": [
        "21928 21929 "
       ]
      },
      {
       "output_type": "stream",
       "stream": "stderr",
       "text": [
        "21930 21931 "
       ]
      },
      {
       "output_type": "stream",
       "stream": "stderr",
       "text": [
        "21932 21933 "
       ]
      },
      {
       "output_type": "stream",
       "stream": "stderr",
       "text": [
        "21934 21935 "
       ]
      },
      {
       "output_type": "stream",
       "stream": "stderr",
       "text": [
        "21936 21937 "
       ]
      },
      {
       "output_type": "stream",
       "stream": "stderr",
       "text": [
        "21938 21939 "
       ]
      },
      {
       "output_type": "stream",
       "stream": "stderr",
       "text": [
        "21940 21941 "
       ]
      },
      {
       "output_type": "stream",
       "stream": "stderr",
       "text": [
        "21942 21943 "
       ]
      },
      {
       "output_type": "stream",
       "stream": "stderr",
       "text": [
        "21944 21945 "
       ]
      },
      {
       "output_type": "stream",
       "stream": "stderr",
       "text": [
        "21946 21947 "
       ]
      },
      {
       "output_type": "stream",
       "stream": "stderr",
       "text": [
        "21948 21949 "
       ]
      },
      {
       "output_type": "stream",
       "stream": "stderr",
       "text": [
        "21950 21951 "
       ]
      },
      {
       "output_type": "stream",
       "stream": "stderr",
       "text": [
        "21952 21953 "
       ]
      },
      {
       "output_type": "stream",
       "stream": "stderr",
       "text": [
        "21954 21955 "
       ]
      },
      {
       "output_type": "stream",
       "stream": "stderr",
       "text": [
        "21956 21957 "
       ]
      },
      {
       "output_type": "stream",
       "stream": "stderr",
       "text": [
        "21958 21959 "
       ]
      },
      {
       "output_type": "stream",
       "stream": "stderr",
       "text": [
        "21960 21961 "
       ]
      },
      {
       "output_type": "stream",
       "stream": "stderr",
       "text": [
        "21962 21963 "
       ]
      },
      {
       "output_type": "stream",
       "stream": "stderr",
       "text": [
        "21964 21965 "
       ]
      },
      {
       "output_type": "stream",
       "stream": "stderr",
       "text": [
        "21966 21967 "
       ]
      },
      {
       "output_type": "stream",
       "stream": "stderr",
       "text": [
        "21968 21969 "
       ]
      },
      {
       "output_type": "stream",
       "stream": "stderr",
       "text": [
        "21970 21971 "
       ]
      },
      {
       "output_type": "stream",
       "stream": "stderr",
       "text": [
        "21972 21973 "
       ]
      },
      {
       "output_type": "stream",
       "stream": "stderr",
       "text": [
        "21974 21975 "
       ]
      },
      {
       "output_type": "stream",
       "stream": "stderr",
       "text": [
        "21976 21977 "
       ]
      },
      {
       "output_type": "stream",
       "stream": "stderr",
       "text": [
        "21978 21979 "
       ]
      },
      {
       "output_type": "stream",
       "stream": "stderr",
       "text": [
        "21980 21981 "
       ]
      },
      {
       "output_type": "stream",
       "stream": "stderr",
       "text": [
        "21982 21983 "
       ]
      },
      {
       "output_type": "stream",
       "stream": "stderr",
       "text": [
        "21984 21985 "
       ]
      },
      {
       "output_type": "stream",
       "stream": "stderr",
       "text": [
        "21986 21987 "
       ]
      },
      {
       "output_type": "stream",
       "stream": "stderr",
       "text": [
        "21988 21989 "
       ]
      },
      {
       "output_type": "stream",
       "stream": "stderr",
       "text": [
        "21990 21991 "
       ]
      },
      {
       "output_type": "stream",
       "stream": "stderr",
       "text": [
        "21992 21993 "
       ]
      },
      {
       "output_type": "stream",
       "stream": "stderr",
       "text": [
        "21994 21995 "
       ]
      },
      {
       "output_type": "stream",
       "stream": "stderr",
       "text": [
        "21996 21997 "
       ]
      },
      {
       "output_type": "stream",
       "stream": "stderr",
       "text": [
        "21998 21999 "
       ]
      },
      {
       "output_type": "stream",
       "stream": "stderr",
       "text": [
        "22000 22001 "
       ]
      },
      {
       "output_type": "stream",
       "stream": "stderr",
       "text": [
        "22002 22003 "
       ]
      },
      {
       "output_type": "stream",
       "stream": "stderr",
       "text": [
        "22004 22005 "
       ]
      },
      {
       "output_type": "stream",
       "stream": "stderr",
       "text": [
        "22006 22007 "
       ]
      },
      {
       "output_type": "stream",
       "stream": "stderr",
       "text": [
        "22008 22009 "
       ]
      },
      {
       "output_type": "stream",
       "stream": "stderr",
       "text": [
        "22010 22011 "
       ]
      },
      {
       "output_type": "stream",
       "stream": "stderr",
       "text": [
        "22012 22013 "
       ]
      },
      {
       "output_type": "stream",
       "stream": "stderr",
       "text": [
        "22014 22015 "
       ]
      },
      {
       "output_type": "stream",
       "stream": "stderr",
       "text": [
        "22016 22017 "
       ]
      },
      {
       "output_type": "stream",
       "stream": "stderr",
       "text": [
        "22018 22019 "
       ]
      },
      {
       "output_type": "stream",
       "stream": "stderr",
       "text": [
        "22020 22021 "
       ]
      },
      {
       "output_type": "stream",
       "stream": "stderr",
       "text": [
        "22022 22023 "
       ]
      },
      {
       "output_type": "stream",
       "stream": "stderr",
       "text": [
        "22024 22025 "
       ]
      },
      {
       "output_type": "stream",
       "stream": "stderr",
       "text": [
        "22026 22027 "
       ]
      },
      {
       "output_type": "stream",
       "stream": "stderr",
       "text": [
        "22028 22029 "
       ]
      },
      {
       "output_type": "stream",
       "stream": "stderr",
       "text": [
        "22030 22031 "
       ]
      },
      {
       "output_type": "stream",
       "stream": "stderr",
       "text": [
        "22032 22033 "
       ]
      },
      {
       "output_type": "stream",
       "stream": "stderr",
       "text": [
        "22034 22035 "
       ]
      },
      {
       "output_type": "stream",
       "stream": "stderr",
       "text": [
        "22036 22037 "
       ]
      },
      {
       "output_type": "stream",
       "stream": "stderr",
       "text": [
        "22038 22039 "
       ]
      },
      {
       "output_type": "stream",
       "stream": "stderr",
       "text": [
        "22040 22041 "
       ]
      },
      {
       "output_type": "stream",
       "stream": "stderr",
       "text": [
        "22042 22043 "
       ]
      },
      {
       "output_type": "stream",
       "stream": "stderr",
       "text": [
        "22044 22045 "
       ]
      },
      {
       "output_type": "stream",
       "stream": "stderr",
       "text": [
        "22046 22047 "
       ]
      },
      {
       "output_type": "stream",
       "stream": "stderr",
       "text": [
        "22048 22049 22050 "
       ]
      },
      {
       "output_type": "stream",
       "stream": "stderr",
       "text": [
        "22051 22052 "
       ]
      },
      {
       "output_type": "stream",
       "stream": "stderr",
       "text": [
        "22053 22054 "
       ]
      },
      {
       "output_type": "stream",
       "stream": "stderr",
       "text": [
        "22055 22056 "
       ]
      },
      {
       "output_type": "stream",
       "stream": "stderr",
       "text": [
        "22057 22058 "
       ]
      },
      {
       "output_type": "stream",
       "stream": "stderr",
       "text": [
        "22059 22060 "
       ]
      },
      {
       "output_type": "stream",
       "stream": "stderr",
       "text": [
        "22061 22062 "
       ]
      },
      {
       "output_type": "stream",
       "stream": "stderr",
       "text": [
        "22063 22064 "
       ]
      },
      {
       "output_type": "stream",
       "stream": "stderr",
       "text": [
        "22065 22066 "
       ]
      },
      {
       "output_type": "stream",
       "stream": "stderr",
       "text": [
        "22067 22068 "
       ]
      },
      {
       "output_type": "stream",
       "stream": "stderr",
       "text": [
        "22069 22070 "
       ]
      },
      {
       "output_type": "stream",
       "stream": "stderr",
       "text": [
        "22071 22072 "
       ]
      },
      {
       "output_type": "stream",
       "stream": "stderr",
       "text": [
        "22073 22074 "
       ]
      },
      {
       "output_type": "stream",
       "stream": "stderr",
       "text": [
        "22075 22076 "
       ]
      },
      {
       "output_type": "stream",
       "stream": "stderr",
       "text": [
        "22077 22078 "
       ]
      },
      {
       "output_type": "stream",
       "stream": "stderr",
       "text": [
        "22079 22080 "
       ]
      },
      {
       "output_type": "stream",
       "stream": "stderr",
       "text": [
        "22081 22082 "
       ]
      },
      {
       "output_type": "stream",
       "stream": "stderr",
       "text": [
        "22083 22084 "
       ]
      },
      {
       "output_type": "stream",
       "stream": "stderr",
       "text": [
        "22085 22086 "
       ]
      },
      {
       "output_type": "stream",
       "stream": "stderr",
       "text": [
        "22087 22088 "
       ]
      },
      {
       "output_type": "stream",
       "stream": "stdout",
       "text": [
        "\n",
        "Dodd-Frank"
       ]
      },
      {
       "output_type": "stream",
       "stream": "stderr",
       "text": [
        "225635 225636 "
       ]
      },
      {
       "output_type": "stream",
       "stream": "stderr",
       "text": [
        "225637 225638 "
       ]
      },
      {
       "output_type": "stream",
       "stream": "stderr",
       "text": [
        "225639 225640 "
       ]
      },
      {
       "output_type": "stream",
       "stream": "stderr",
       "text": [
        "225641 225642 "
       ]
      },
      {
       "output_type": "stream",
       "stream": "stderr",
       "text": [
        "225643 225644 "
       ]
      },
      {
       "output_type": "stream",
       "stream": "stderr",
       "text": [
        "225645 225646 "
       ]
      },
      {
       "output_type": "stream",
       "stream": "stderr",
       "text": [
        "225647 225648 "
       ]
      },
      {
       "output_type": "stream",
       "stream": "stderr",
       "text": [
        "225649 225650 "
       ]
      },
      {
       "output_type": "stream",
       "stream": "stderr",
       "text": [
        "225651 225652 "
       ]
      },
      {
       "output_type": "stream",
       "stream": "stderr",
       "text": [
        "225653 225654 "
       ]
      },
      {
       "output_type": "stream",
       "stream": "stderr",
       "text": [
        "225655 225656 "
       ]
      },
      {
       "output_type": "stream",
       "stream": "stderr",
       "text": [
        "225657 225658 "
       ]
      },
      {
       "output_type": "stream",
       "stream": "stderr",
       "text": [
        "225659 225660 "
       ]
      },
      {
       "output_type": "stream",
       "stream": "stderr",
       "text": [
        "225661 225662 "
       ]
      },
      {
       "output_type": "stream",
       "stream": "stderr",
       "text": [
        "225663 225664 "
       ]
      },
      {
       "output_type": "stream",
       "stream": "stderr",
       "text": [
        "225665 225666 "
       ]
      },
      {
       "output_type": "stream",
       "stream": "stderr",
       "text": [
        "225667 225668 "
       ]
      },
      {
       "output_type": "stream",
       "stream": "stderr",
       "text": [
        "225669 225670 "
       ]
      },
      {
       "output_type": "stream",
       "stream": "stderr",
       "text": [
        "225671 225672 "
       ]
      },
      {
       "output_type": "stream",
       "stream": "stderr",
       "text": [
        "225673 225674 "
       ]
      },
      {
       "output_type": "stream",
       "stream": "stderr",
       "text": [
        "225675 225676 "
       ]
      },
      {
       "output_type": "stream",
       "stream": "stderr",
       "text": [
        "225677 225678 "
       ]
      },
      {
       "output_type": "stream",
       "stream": "stderr",
       "text": [
        "225679 225680 "
       ]
      },
      {
       "output_type": "stream",
       "stream": "stderr",
       "text": [
        "225681 225682 "
       ]
      },
      {
       "output_type": "stream",
       "stream": "stderr",
       "text": [
        "225683 225684 "
       ]
      },
      {
       "output_type": "stream",
       "stream": "stderr",
       "text": [
        "225685 225686 "
       ]
      },
      {
       "output_type": "stream",
       "stream": "stderr",
       "text": [
        "225687 225688 "
       ]
      },
      {
       "output_type": "stream",
       "stream": "stderr",
       "text": [
        "225689 225690 "
       ]
      },
      {
       "output_type": "stream",
       "stream": "stderr",
       "text": [
        "225691 225692 "
       ]
      },
      {
       "output_type": "stream",
       "stream": "stderr",
       "text": [
        "225693 225694 "
       ]
      },
      {
       "output_type": "stream",
       "stream": "stderr",
       "text": [
        "225695 225696 "
       ]
      },
      {
       "output_type": "stream",
       "stream": "stderr",
       "text": [
        "225697 225698 "
       ]
      },
      {
       "output_type": "stream",
       "stream": "stderr",
       "text": [
        "225699 225700 "
       ]
      },
      {
       "output_type": "stream",
       "stream": "stderr",
       "text": [
        "225701 225702 "
       ]
      },
      {
       "output_type": "stream",
       "stream": "stderr",
       "text": [
        "225703 225704 "
       ]
      },
      {
       "output_type": "stream",
       "stream": "stderr",
       "text": [
        "225705 225706 "
       ]
      },
      {
       "output_type": "stream",
       "stream": "stderr",
       "text": [
        "225707 225708 "
       ]
      },
      {
       "output_type": "stream",
       "stream": "stderr",
       "text": [
        "225709 225710 "
       ]
      },
      {
       "output_type": "stream",
       "stream": "stderr",
       "text": [
        "225711 225712 "
       ]
      },
      {
       "output_type": "stream",
       "stream": "stderr",
       "text": [
        "225713 225714 "
       ]
      },
      {
       "output_type": "stream",
       "stream": "stderr",
       "text": [
        "225715 225716 "
       ]
      },
      {
       "output_type": "stream",
       "stream": "stderr",
       "text": [
        "225717 225718 "
       ]
      },
      {
       "output_type": "stream",
       "stream": "stderr",
       "text": [
        "225719 225720 "
       ]
      },
      {
       "output_type": "stream",
       "stream": "stderr",
       "text": [
        "225721 225722 "
       ]
      },
      {
       "output_type": "stream",
       "stream": "stderr",
       "text": [
        "225723 225724 "
       ]
      },
      {
       "output_type": "stream",
       "stream": "stderr",
       "text": [
        "225725 225726 "
       ]
      },
      {
       "output_type": "stream",
       "stream": "stderr",
       "text": [
        "225727 225728 "
       ]
      },
      {
       "output_type": "stream",
       "stream": "stderr",
       "text": [
        "225729 225730 "
       ]
      },
      {
       "output_type": "stream",
       "stream": "stderr",
       "text": [
        "225731 225732 "
       ]
      },
      {
       "output_type": "stream",
       "stream": "stderr",
       "text": [
        "225733 225734 "
       ]
      },
      {
       "output_type": "stream",
       "stream": "stderr",
       "text": [
        "225735 225736 "
       ]
      },
      {
       "output_type": "stream",
       "stream": "stderr",
       "text": [
        "225737 225738 "
       ]
      },
      {
       "output_type": "stream",
       "stream": "stderr",
       "text": [
        "225739 225740 "
       ]
      },
      {
       "output_type": "stream",
       "stream": "stderr",
       "text": [
        "225741 225742 "
       ]
      },
      {
       "output_type": "stream",
       "stream": "stderr",
       "text": [
        "225743 225744 "
       ]
      },
      {
       "output_type": "stream",
       "stream": "stderr",
       "text": [
        "225745 225746 "
       ]
      },
      {
       "output_type": "stream",
       "stream": "stderr",
       "text": [
        "225747 225748 "
       ]
      },
      {
       "output_type": "stream",
       "stream": "stderr",
       "text": [
        "225749 225750 "
       ]
      },
      {
       "output_type": "stream",
       "stream": "stderr",
       "text": [
        "225751 225752 "
       ]
      },
      {
       "output_type": "stream",
       "stream": "stderr",
       "text": [
        "225753 225754 "
       ]
      },
      {
       "output_type": "stream",
       "stream": "stderr",
       "text": [
        "225755 225756 "
       ]
      },
      {
       "output_type": "stream",
       "stream": "stderr",
       "text": [
        "225757 225758 "
       ]
      },
      {
       "output_type": "stream",
       "stream": "stderr",
       "text": [
        "225759 225760 "
       ]
      },
      {
       "output_type": "stream",
       "stream": "stderr",
       "text": [
        "225761 225762 "
       ]
      },
      {
       "output_type": "stream",
       "stream": "stderr",
       "text": [
        "225763 225764 "
       ]
      },
      {
       "output_type": "stream",
       "stream": "stderr",
       "text": [
        "225765 225766 "
       ]
      },
      {
       "output_type": "stream",
       "stream": "stderr",
       "text": [
        "225767 225768 "
       ]
      },
      {
       "output_type": "stream",
       "stream": "stderr",
       "text": [
        "225769 225770 "
       ]
      },
      {
       "output_type": "stream",
       "stream": "stderr",
       "text": [
        "225771 225772 "
       ]
      },
      {
       "output_type": "stream",
       "stream": "stderr",
       "text": [
        "225773 225774 "
       ]
      },
      {
       "output_type": "stream",
       "stream": "stderr",
       "text": [
        "225775 225776 "
       ]
      },
      {
       "output_type": "stream",
       "stream": "stderr",
       "text": [
        "225777 225778 "
       ]
      },
      {
       "output_type": "stream",
       "stream": "stderr",
       "text": [
        "225779 225780 "
       ]
      },
      {
       "output_type": "stream",
       "stream": "stderr",
       "text": [
        "225781 225782 "
       ]
      },
      {
       "output_type": "stream",
       "stream": "stderr",
       "text": [
        "225783 225784 "
       ]
      },
      {
       "output_type": "stream",
       "stream": "stderr",
       "text": [
        "225785 225786 "
       ]
      },
      {
       "output_type": "stream",
       "stream": "stderr",
       "text": [
        "225787 225788 "
       ]
      },
      {
       "output_type": "stream",
       "stream": "stderr",
       "text": [
        "225789 225790 "
       ]
      },
      {
       "output_type": "stream",
       "stream": "stderr",
       "text": [
        "225791 225792 "
       ]
      },
      {
       "output_type": "stream",
       "stream": "stderr",
       "text": [
        "225793 225794 "
       ]
      },
      {
       "output_type": "stream",
       "stream": "stderr",
       "text": [
        "225795 225796 "
       ]
      },
      {
       "output_type": "stream",
       "stream": "stderr",
       "text": [
        "225797 225798 "
       ]
      },
      {
       "output_type": "stream",
       "stream": "stderr",
       "text": [
        "225799 225800 "
       ]
      },
      {
       "output_type": "stream",
       "stream": "stderr",
       "text": [
        "225801 225802 "
       ]
      },
      {
       "output_type": "stream",
       "stream": "stderr",
       "text": [
        "225803 225804 "
       ]
      },
      {
       "output_type": "stream",
       "stream": "stderr",
       "text": [
        "225805 225806 "
       ]
      },
      {
       "output_type": "stream",
       "stream": "stderr",
       "text": [
        "225807 225808 "
       ]
      },
      {
       "output_type": "stream",
       "stream": "stderr",
       "text": [
        "225809 225810 "
       ]
      },
      {
       "output_type": "stream",
       "stream": "stderr",
       "text": [
        "225811 225812 "
       ]
      },
      {
       "output_type": "stream",
       "stream": "stderr",
       "text": [
        "225813 225814 "
       ]
      },
      {
       "output_type": "stream",
       "stream": "stderr",
       "text": [
        "225815 225816 "
       ]
      },
      {
       "output_type": "stream",
       "stream": "stderr",
       "text": [
        "225817 225818 "
       ]
      },
      {
       "output_type": "stream",
       "stream": "stderr",
       "text": [
        "225819 225820 "
       ]
      },
      {
       "output_type": "stream",
       "stream": "stderr",
       "text": [
        "225821 225822 "
       ]
      },
      {
       "output_type": "stream",
       "stream": "stderr",
       "text": [
        "225823 225824 "
       ]
      },
      {
       "output_type": "stream",
       "stream": "stderr",
       "text": [
        "225825 225826 "
       ]
      },
      {
       "output_type": "stream",
       "stream": "stderr",
       "text": [
        "225827 225828 "
       ]
      },
      {
       "output_type": "stream",
       "stream": "stderr",
       "text": [
        "225829 225830 "
       ]
      },
      {
       "output_type": "stream",
       "stream": "stderr",
       "text": [
        "225831 225832 "
       ]
      },
      {
       "output_type": "stream",
       "stream": "stderr",
       "text": [
        "225833 225834 "
       ]
      },
      {
       "output_type": "stream",
       "stream": "stderr",
       "text": [
        "225835 225836 "
       ]
      },
      {
       "output_type": "stream",
       "stream": "stderr",
       "text": [
        "225837 225838 "
       ]
      },
      {
       "output_type": "stream",
       "stream": "stderr",
       "text": [
        "225839 225840 "
       ]
      },
      {
       "output_type": "stream",
       "stream": "stderr",
       "text": [
        "225841 225842 "
       ]
      },
      {
       "output_type": "stream",
       "stream": "stderr",
       "text": [
        "225843 225844 "
       ]
      },
      {
       "output_type": "stream",
       "stream": "stderr",
       "text": [
        "225845 225846 "
       ]
      },
      {
       "output_type": "stream",
       "stream": "stderr",
       "text": [
        "225847 225848 "
       ]
      },
      {
       "output_type": "stream",
       "stream": "stderr",
       "text": [
        "225849 225850 "
       ]
      },
      {
       "output_type": "stream",
       "stream": "stderr",
       "text": [
        "225851 225852 "
       ]
      },
      {
       "output_type": "stream",
       "stream": "stderr",
       "text": [
        "225853 225854 "
       ]
      },
      {
       "output_type": "stream",
       "stream": "stderr",
       "text": [
        "225855 225856 "
       ]
      },
      {
       "output_type": "stream",
       "stream": "stderr",
       "text": [
        "225857 225858 "
       ]
      },
      {
       "output_type": "stream",
       "stream": "stderr",
       "text": [
        "225859 225860 "
       ]
      },
      {
       "output_type": "stream",
       "stream": "stderr",
       "text": [
        "225861 225862 "
       ]
      },
      {
       "output_type": "stream",
       "stream": "stderr",
       "text": [
        "225863 225864 "
       ]
      },
      {
       "output_type": "stream",
       "stream": "stderr",
       "text": [
        "225865 225866 "
       ]
      },
      {
       "output_type": "stream",
       "stream": "stderr",
       "text": [
        "225867 225868 "
       ]
      },
      {
       "output_type": "stream",
       "stream": "stderr",
       "text": [
        "225869 225870 "
       ]
      },
      {
       "output_type": "stream",
       "stream": "stderr",
       "text": [
        "225871 225872 "
       ]
      },
      {
       "output_type": "stream",
       "stream": "stderr",
       "text": [
        "225873 225874 "
       ]
      },
      {
       "output_type": "stream",
       "stream": "stderr",
       "text": [
        "225875 225876 "
       ]
      },
      {
       "output_type": "stream",
       "stream": "stderr",
       "text": [
        "225877 225878 "
       ]
      },
      {
       "output_type": "stream",
       "stream": "stderr",
       "text": [
        "225879 225880 "
       ]
      },
      {
       "output_type": "stream",
       "stream": "stderr",
       "text": [
        "225881 225882 "
       ]
      },
      {
       "output_type": "stream",
       "stream": "stderr",
       "text": [
        "225883 225884 "
       ]
      },
      {
       "output_type": "stream",
       "stream": "stderr",
       "text": [
        "225885 225886 "
       ]
      },
      {
       "output_type": "stream",
       "stream": "stderr",
       "text": [
        "225887 225888 "
       ]
      },
      {
       "output_type": "stream",
       "stream": "stderr",
       "text": [
        "225889 225890 "
       ]
      },
      {
       "output_type": "stream",
       "stream": "stderr",
       "text": [
        "225891 225892 "
       ]
      },
      {
       "output_type": "stream",
       "stream": "stderr",
       "text": [
        "225893 225894 "
       ]
      },
      {
       "output_type": "stream",
       "stream": "stderr",
       "text": [
        "225895 225896 "
       ]
      },
      {
       "output_type": "stream",
       "stream": "stderr",
       "text": [
        "225897 225898 "
       ]
      },
      {
       "output_type": "stream",
       "stream": "stderr",
       "text": [
        "225899 225900 "
       ]
      },
      {
       "output_type": "stream",
       "stream": "stderr",
       "text": [
        "225901 225902 "
       ]
      },
      {
       "output_type": "stream",
       "stream": "stdout",
       "text": [
        "\n",
        "ARRA"
       ]
      },
      {
       "output_type": "stream",
       "stream": "stderr",
       "text": [
        "225903 252010 "
       ]
      },
      {
       "output_type": "stream",
       "stream": "stderr",
       "text": [
        "252011 252012 "
       ]
      },
      {
       "output_type": "stream",
       "stream": "stderr",
       "text": [
        "252013 252014 "
       ]
      },
      {
       "output_type": "stream",
       "stream": "stderr",
       "text": [
        "252015 252016 "
       ]
      },
      {
       "output_type": "stream",
       "stream": "stderr",
       "text": [
        "252017 252018 "
       ]
      },
      {
       "output_type": "stream",
       "stream": "stderr",
       "text": [
        "252019 252020 "
       ]
      },
      {
       "output_type": "stream",
       "stream": "stderr",
       "text": [
        "252021 252022 "
       ]
      },
      {
       "output_type": "stream",
       "stream": "stderr",
       "text": [
        "252023 252024 "
       ]
      },
      {
       "output_type": "stream",
       "stream": "stderr",
       "text": [
        "252025 252026 "
       ]
      },
      {
       "output_type": "stream",
       "stream": "stderr",
       "text": [
        "252027 252028 "
       ]
      },
      {
       "output_type": "stream",
       "stream": "stderr",
       "text": [
        "252029 252030 "
       ]
      },
      {
       "output_type": "stream",
       "stream": "stderr",
       "text": [
        "252031 252032 "
       ]
      },
      {
       "output_type": "stream",
       "stream": "stderr",
       "text": [
        "252033 252034 "
       ]
      },
      {
       "output_type": "stream",
       "stream": "stderr",
       "text": [
        "252035 252036 "
       ]
      },
      {
       "output_type": "stream",
       "stream": "stderr",
       "text": [
        "252037 252038 "
       ]
      },
      {
       "output_type": "stream",
       "stream": "stderr",
       "text": [
        "252039 252040 "
       ]
      },
      {
       "output_type": "stream",
       "stream": "stderr",
       "text": [
        "252041 252042 "
       ]
      },
      {
       "output_type": "stream",
       "stream": "stderr",
       "text": [
        "252043 252044 "
       ]
      },
      {
       "output_type": "stream",
       "stream": "stderr",
       "text": [
        "252045 252046 "
       ]
      },
      {
       "output_type": "stream",
       "stream": "stderr",
       "text": [
        "252047 252048 "
       ]
      },
      {
       "output_type": "stream",
       "stream": "stderr",
       "text": [
        "252049 252050 "
       ]
      },
      {
       "output_type": "stream",
       "stream": "stderr",
       "text": [
        "252051 252052 "
       ]
      },
      {
       "output_type": "stream",
       "stream": "stderr",
       "text": [
        "252053 252054 "
       ]
      },
      {
       "output_type": "stream",
       "stream": "stderr",
       "text": [
        "252055 252056 "
       ]
      },
      {
       "output_type": "stream",
       "stream": "stderr",
       "text": [
        "252057 252058 "
       ]
      },
      {
       "output_type": "stream",
       "stream": "stderr",
       "text": [
        "252059 252060 "
       ]
      },
      {
       "output_type": "stream",
       "stream": "stderr",
       "text": [
        "252061 252062 "
       ]
      },
      {
       "output_type": "stream",
       "stream": "stderr",
       "text": [
        "252063 252064 "
       ]
      },
      {
       "output_type": "stream",
       "stream": "stderr",
       "text": [
        "252065 252066 "
       ]
      },
      {
       "output_type": "stream",
       "stream": "stderr",
       "text": [
        "252067 252068 "
       ]
      },
      {
       "output_type": "stream",
       "stream": "stderr",
       "text": [
        "252069 252070 "
       ]
      },
      {
       "output_type": "stream",
       "stream": "stderr",
       "text": [
        "252071 252072 "
       ]
      },
      {
       "output_type": "stream",
       "stream": "stderr",
       "text": [
        "252073 252074 "
       ]
      },
      {
       "output_type": "stream",
       "stream": "stderr",
       "text": [
        "252075 252076 "
       ]
      },
      {
       "output_type": "stream",
       "stream": "stderr",
       "text": [
        "252077 252078 "
       ]
      },
      {
       "output_type": "stream",
       "stream": "stderr",
       "text": [
        "252079 252080 "
       ]
      },
      {
       "output_type": "stream",
       "stream": "stderr",
       "text": [
        "252081 252082 "
       ]
      },
      {
       "output_type": "stream",
       "stream": "stderr",
       "text": [
        "252083 252084 "
       ]
      },
      {
       "output_type": "stream",
       "stream": "stderr",
       "text": [
        "252085 252086 "
       ]
      },
      {
       "output_type": "stream",
       "stream": "stderr",
       "text": [
        "252087 252088 "
       ]
      },
      {
       "output_type": "stream",
       "stream": "stderr",
       "text": [
        "252089 252090 "
       ]
      },
      {
       "output_type": "stream",
       "stream": "stderr",
       "text": [
        "252091 252092 "
       ]
      },
      {
       "output_type": "stream",
       "stream": "stderr",
       "text": [
        "252093 252094 "
       ]
      },
      {
       "output_type": "stream",
       "stream": "stderr",
       "text": [
        "252095 252096 "
       ]
      },
      {
       "output_type": "stream",
       "stream": "stderr",
       "text": [
        "252097 252098 "
       ]
      },
      {
       "output_type": "stream",
       "stream": "stderr",
       "text": [
        "252099 252100 "
       ]
      },
      {
       "output_type": "stream",
       "stream": "stderr",
       "text": [
        "252101 252102 "
       ]
      },
      {
       "output_type": "stream",
       "stream": "stderr",
       "text": [
        "252103 252104 "
       ]
      },
      {
       "output_type": "stream",
       "stream": "stderr",
       "text": [
        "252105 252106 "
       ]
      },
      {
       "output_type": "stream",
       "stream": "stderr",
       "text": [
        "252107 252108 "
       ]
      },
      {
       "output_type": "stream",
       "stream": "stderr",
       "text": [
        "252109 252110 "
       ]
      },
      {
       "output_type": "stream",
       "stream": "stderr",
       "text": [
        "252111 252112 "
       ]
      },
      {
       "output_type": "stream",
       "stream": "stderr",
       "text": [
        "252113 252114 "
       ]
      },
      {
       "output_type": "stream",
       "stream": "stderr",
       "text": [
        "252115 252116 "
       ]
      },
      {
       "output_type": "stream",
       "stream": "stderr",
       "text": [
        "252117 252118 "
       ]
      },
      {
       "output_type": "stream",
       "stream": "stderr",
       "text": [
        "252119 252120 "
       ]
      },
      {
       "output_type": "stream",
       "stream": "stderr",
       "text": [
        "252121 252122 "
       ]
      },
      {
       "output_type": "stream",
       "stream": "stderr",
       "text": [
        "252123 252124 "
       ]
      },
      {
       "output_type": "stream",
       "stream": "stderr",
       "text": [
        "252125 252126 "
       ]
      },
      {
       "output_type": "stream",
       "stream": "stderr",
       "text": [
        "252127 252128 "
       ]
      },
      {
       "output_type": "stream",
       "stream": "stderr",
       "text": [
        "252129 252130 "
       ]
      },
      {
       "output_type": "stream",
       "stream": "stderr",
       "text": [
        "252131 252132 "
       ]
      },
      {
       "output_type": "stream",
       "stream": "stderr",
       "text": [
        "252133 252134 "
       ]
      },
      {
       "output_type": "stream",
       "stream": "stderr",
       "text": [
        "252135 252136 "
       ]
      },
      {
       "output_type": "stream",
       "stream": "stderr",
       "text": [
        "252137 252138 "
       ]
      },
      {
       "output_type": "stream",
       "stream": "stderr",
       "text": [
        "252139 252140 "
       ]
      },
      {
       "output_type": "stream",
       "stream": "stderr",
       "text": [
        "252141 252142 "
       ]
      },
      {
       "output_type": "stream",
       "stream": "stderr",
       "text": [
        "252143 252144 "
       ]
      },
      {
       "output_type": "stream",
       "stream": "stderr",
       "text": [
        "252145 252146 "
       ]
      },
      {
       "output_type": "stream",
       "stream": "stderr",
       "text": [
        "252147 252148 "
       ]
      },
      {
       "output_type": "stream",
       "stream": "stderr",
       "text": [
        "252149 252150 "
       ]
      },
      {
       "output_type": "stream",
       "stream": "stderr",
       "text": [
        "252151 252152 "
       ]
      },
      {
       "output_type": "stream",
       "stream": "stderr",
       "text": [
        "252153 252154 "
       ]
      },
      {
       "output_type": "stream",
       "stream": "stderr",
       "text": [
        "252155 252156 "
       ]
      },
      {
       "output_type": "stream",
       "stream": "stderr",
       "text": [
        "252157 252158 "
       ]
      },
      {
       "output_type": "stream",
       "stream": "stderr",
       "text": [
        "252159 252160 "
       ]
      },
      {
       "output_type": "stream",
       "stream": "stderr",
       "text": [
        "252161 252162 "
       ]
      },
      {
       "output_type": "stream",
       "stream": "stderr",
       "text": [
        "252163 252164 "
       ]
      },
      {
       "output_type": "stream",
       "stream": "stderr",
       "text": [
        "252165 252166 "
       ]
      },
      {
       "output_type": "stream",
       "stream": "stderr",
       "text": [
        "252167 252168 "
       ]
      },
      {
       "output_type": "stream",
       "stream": "stderr",
       "text": [
        "252169 252170 "
       ]
      },
      {
       "output_type": "stream",
       "stream": "stderr",
       "text": [
        "252171 252172 "
       ]
      },
      {
       "output_type": "stream",
       "stream": "stderr",
       "text": [
        "252173 252174 "
       ]
      },
      {
       "output_type": "stream",
       "stream": "stderr",
       "text": [
        "252175 252176 "
       ]
      },
      {
       "output_type": "stream",
       "stream": "stderr",
       "text": [
        "252177 252178 "
       ]
      },
      {
       "output_type": "stream",
       "stream": "stderr",
       "text": [
        "252179 252180 "
       ]
      },
      {
       "output_type": "stream",
       "stream": "stderr",
       "text": [
        "252181 252182 "
       ]
      },
      {
       "output_type": "stream",
       "stream": "stderr",
       "text": [
        "252183 252184 "
       ]
      },
      {
       "output_type": "stream",
       "stream": "stderr",
       "text": [
        "252185 252186 "
       ]
      },
      {
       "output_type": "stream",
       "stream": "stderr",
       "text": [
        "252187 252188 "
       ]
      },
      {
       "output_type": "stream",
       "stream": "stderr",
       "text": [
        "252189 252190 "
       ]
      },
      {
       "output_type": "stream",
       "stream": "stderr",
       "text": [
        "252191 252192 "
       ]
      },
      {
       "output_type": "stream",
       "stream": "stderr",
       "text": [
        "252193 252194 "
       ]
      },
      {
       "output_type": "stream",
       "stream": "stderr",
       "text": [
        "252195 252196 "
       ]
      },
      {
       "output_type": "stream",
       "stream": "stderr",
       "text": [
        "252197 252198 "
       ]
      },
      {
       "output_type": "stream",
       "stream": "stderr",
       "text": [
        "252199 252200 "
       ]
      },
      {
       "output_type": "stream",
       "stream": "stderr",
       "text": [
        "252201 252202 "
       ]
      },
      {
       "output_type": "stream",
       "stream": "stderr",
       "text": [
        "252203 252204 "
       ]
      },
      {
       "output_type": "stream",
       "stream": "stderr",
       "text": [
        "252205 252206 "
       ]
      },
      {
       "output_type": "stream",
       "stream": "stderr",
       "text": [
        "252207 252208 "
       ]
      },
      {
       "output_type": "stream",
       "stream": "stderr",
       "text": [
        "252209 252210 "
       ]
      },
      {
       "output_type": "stream",
       "stream": "stderr",
       "text": [
        "252211 252212 "
       ]
      },
      {
       "output_type": "stream",
       "stream": "stderr",
       "text": [
        "252213 252214 "
       ]
      },
      {
       "output_type": "stream",
       "stream": "stderr",
       "text": [
        "252215 252216 "
       ]
      },
      {
       "output_type": "stream",
       "stream": "stderr",
       "text": [
        "252217 252218 "
       ]
      },
      {
       "output_type": "stream",
       "stream": "stderr",
       "text": [
        "252219 252220 "
       ]
      },
      {
       "output_type": "stream",
       "stream": "stderr",
       "text": [
        "252221 252222 "
       ]
      },
      {
       "output_type": "stream",
       "stream": "stderr",
       "text": [
        "252223 252224 "
       ]
      },
      {
       "output_type": "stream",
       "stream": "stderr",
       "text": [
        "252225 252226 "
       ]
      },
      {
       "output_type": "stream",
       "stream": "stderr",
       "text": [
        "252227 252228 "
       ]
      },
      {
       "output_type": "stream",
       "stream": "stderr",
       "text": [
        "252229 252230 "
       ]
      },
      {
       "output_type": "stream",
       "stream": "stderr",
       "text": [
        "252231 252232 "
       ]
      },
      {
       "output_type": "stream",
       "stream": "stderr",
       "text": [
        "252233 252234 "
       ]
      },
      {
       "output_type": "stream",
       "stream": "stderr",
       "text": [
        "252235 252236 "
       ]
      },
      {
       "output_type": "stream",
       "stream": "stderr",
       "text": [
        "252237 252238 "
       ]
      },
      {
       "output_type": "stream",
       "stream": "stderr",
       "text": [
        "252239 252240 "
       ]
      },
      {
       "output_type": "stream",
       "stream": "stderr",
       "text": [
        "252241 252242 "
       ]
      },
      {
       "output_type": "stream",
       "stream": "stderr",
       "text": [
        "252243 252244 "
       ]
      },
      {
       "output_type": "stream",
       "stream": "stderr",
       "text": [
        "252245 252246 "
       ]
      },
      {
       "output_type": "stream",
       "stream": "stderr",
       "text": [
        "252247 252248 "
       ]
      },
      {
       "output_type": "stream",
       "stream": "stderr",
       "text": [
        "252249 252250 "
       ]
      },
      {
       "output_type": "stream",
       "stream": "stderr",
       "text": [
        "252251 252252 "
       ]
      },
      {
       "output_type": "stream",
       "stream": "stderr",
       "text": [
        "252253 252254 "
       ]
      },
      {
       "output_type": "stream",
       "stream": "stderr",
       "text": [
        "252255 252256 "
       ]
      },
      {
       "output_type": "stream",
       "stream": "stderr",
       "text": [
        "252257 252258 "
       ]
      },
      {
       "output_type": "stream",
       "stream": "stderr",
       "text": [
        "252259 252260 "
       ]
      },
      {
       "output_type": "stream",
       "stream": "stderr",
       "text": [
        "252261 252262 "
       ]
      },
      {
       "output_type": "stream",
       "stream": "stderr",
       "text": [
        "252263 252264 "
       ]
      },
      {
       "output_type": "stream",
       "stream": "stderr",
       "text": [
        "252265 252266 "
       ]
      },
      {
       "output_type": "stream",
       "stream": "stderr",
       "text": [
        "252267 252268 "
       ]
      },
      {
       "output_type": "stream",
       "stream": "stderr",
       "text": [
        "252269 252270 "
       ]
      },
      {
       "output_type": "stream",
       "stream": "stderr",
       "text": [
        "252271 252272 "
       ]
      },
      {
       "output_type": "stream",
       "stream": "stderr",
       "text": [
        "252273 252274 "
       ]
      },
      {
       "output_type": "stream",
       "stream": "stderr",
       "text": [
        "252275 252276 "
       ]
      },
      {
       "output_type": "stream",
       "stream": "stdout",
       "text": [
        "\n"
       ]
      },
      {
       "output_type": "stream",
       "stream": "stderr",
       "text": [
        "252277 "
       ]
      }
     ],
     "prompt_number": 6
    },
    {
     "cell_type": "code",
     "collapsed": false,
     "input": [
      "reload( utils_bill_trajectory )\n",
      "\n",
      "def calculate_bill_metrics( target_bill, data_list_of_dicts, word_inverted_index, data_list_sets, target_top_matches_jaccard = None ):\n",
      "    target_indices = [ idx for idx, i in enumerate( data_list_of_dicts ) if i['bill_version'] == target_bill ]\n",
      "\n",
      "    if not target_top_matches_jaccard:\n",
      "        target_top_matches = utils_bill_trajectory.get_target_top_matches( target_indices, data_list_sets, word_inverted_index )\n",
      "        target_top_matches_jaccard = utils_bill_trajectory.get_target_top_matches_jaccard( target_top_matches, data_list_sets )\n",
      "    \n",
      "    target_indices = [ idx for idx, i in enumerate( data_list_of_dicts ) if i['bill_version'] == target_bill ]\n",
      "    \n",
      "    data_to_graph = []\n",
      "    idx_datetime_section_jaccard = []\n",
      "    \n",
      "    # special case for Dodd-Frank: date is listed as 0000-00-00\n",
      "    \n",
      "    #if bill == \"Dodd-Frank\":\n",
      "    #    for target_idx in target_indices:\n",
      "    #        if data_list_of_dicts[target_idx]['IssuedOn'] == '0000-00-00':\n",
      "    #            data_list_of_dicts[target_idx]['IssuedOn'] = '2010-07-15'\n",
      "        \n",
      "    target_bill_date_text = data_list_of_dicts[ list( target_indices )[0] ]['IssuedOn']\n",
      "    \n",
      "    #print target_bill_date\n",
      "    target_bill_datetime = datetime.datetime.strptime( target_bill_date_text, \"%Y-%m-%d\" )\n",
      "    target_bill_date = target_bill_datetime.date()\n",
      "    \n",
      "    for query_idx, matches in target_top_matches_jaccard:\n",
      "        sys.stderr.write( \"%s \" % query_idx ) \n",
      "        for match_idx, jaccard in matches:\n",
      "        \n",
      "            if utils_bill_trajectory.is_match( data_list_of_dicts[match_idx], target_bill_date, data_list_of_dicts[query_idx], jaccard ):\n",
      "                match_date_text = data_list_of_dicts[match_idx]['IssuedOn']\n",
      "                match_datetime = datetime.datetime.strptime( match_date_text, \"%Y-%m-%d\" )\n",
      "                section_idx = data_list_of_dicts[query_idx]['sec_sequence']\n",
      "                data_to_graph.append( ( match_datetime, section_idx ) )\n",
      "                idx_datetime_section_jaccard.append( ( match_idx, match_datetime, section_idx, jaccard ) )\n",
      "                \n",
      "    # compute metrics\n",
      "    target_bill_date = data_list_of_dicts[ list( target_indices )[0] ]['IssuedOn']\n",
      "    #print target_bill_date\n",
      "    target_bill_datetime = datetime.datetime.strptime( target_bill_date, \"%Y-%m-%d\" )\n",
      "    target_bill_date = target_bill_datetime.date()\n",
      "    \n",
      "    section_intro_dates = utils_bill_trajectory.get_section_intro_dates( target_bill_date, data_to_graph )\n",
      "    week_threshold_metric = utils_bill_trajectory.get_week_threshold_metric( section_intro_dates, target_bill_date, week_threshold=12 )\n",
      "    average_gestation_metric = utils_bill_trajectory.get_average_gestation_metric( section_intro_dates, target_bill_date )\n",
      "    \n",
      "    print week_threshold_metric\n",
      "    print average_gestation_metric\n",
      "\n",
      "    ret = { 'week_threshold_metric': week_threshold_metric, 'average_gestation_metric': average_gestation_metric, \n",
      "            'bill_version': target_bill, 'date': target_bill_date, 'num_sections': len( target_indices), 'section_intro_dates': section_intro_dates }\n",
      "    return ret"
     ],
     "language": "python",
     "metadata": {},
     "outputs": [],
     "prompt_number": 48
    },
    {
     "cell_type": "code",
     "collapsed": false,
     "input": [
      "metrics = calculate_bill_metrics( bill_name_dict['TARP'], data_list_of_dicts, word_inverted_index, data_list_sets )\n",
      "metrics\n"
     ],
     "language": "python",
     "metadata": {},
     "outputs": [
      {
       "output_type": "stream",
       "stream": "stderr",
       "text": [
        "69484 69485 "
       ]
      },
      {
       "output_type": "stream",
       "stream": "stderr",
       "text": [
        "69486 69487 "
       ]
      },
      {
       "output_type": "stream",
       "stream": "stderr",
       "text": [
        "69488 69489 "
       ]
      },
      {
       "output_type": "stream",
       "stream": "stderr",
       "text": [
        "69490 69491 "
       ]
      },
      {
       "output_type": "stream",
       "stream": "stderr",
       "text": [
        "69492 69493 "
       ]
      },
      {
       "output_type": "stream",
       "stream": "stderr",
       "text": [
        "69494 69495 "
       ]
      },
      {
       "output_type": "stream",
       "stream": "stderr",
       "text": [
        "69496 69497 "
       ]
      },
      {
       "output_type": "stream",
       "stream": "stderr",
       "text": [
        "69498 69499 "
       ]
      },
      {
       "output_type": "stream",
       "stream": "stderr",
       "text": [
        "69500 69501 "
       ]
      },
      {
       "output_type": "stream",
       "stream": "stderr",
       "text": [
        "69502 69503 "
       ]
      },
      {
       "output_type": "stream",
       "stream": "stderr",
       "text": [
        "69504 69505 "
       ]
      },
      {
       "output_type": "stream",
       "stream": "stderr",
       "text": [
        "69506 69507 "
       ]
      },
      {
       "output_type": "stream",
       "stream": "stderr",
       "text": [
        "69508 69509 "
       ]
      },
      {
       "output_type": "stream",
       "stream": "stderr",
       "text": [
        "69510 69511 "
       ]
      },
      {
       "output_type": "stream",
       "stream": "stderr",
       "text": [
        "69512 69513 "
       ]
      },
      {
       "output_type": "stream",
       "stream": "stderr",
       "text": [
        "69514 69515 "
       ]
      },
      {
       "output_type": "stream",
       "stream": "stderr",
       "text": [
        "69516 69517 "
       ]
      },
      {
       "output_type": "stream",
       "stream": "stderr",
       "text": [
        "69518 69519 "
       ]
      },
      {
       "output_type": "stream",
       "stream": "stderr",
       "text": [
        "69520 69521 "
       ]
      },
      {
       "output_type": "stream",
       "stream": "stderr",
       "text": [
        "69522 69484 "
       ]
      },
      {
       "output_type": "stream",
       "stream": "stderr",
       "text": [
        "69485 69486 69487 "
       ]
      },
      {
       "output_type": "stream",
       "stream": "stderr",
       "text": [
        "69488 69489 "
       ]
      },
      {
       "output_type": "stream",
       "stream": "stderr",
       "text": [
        "69490 69491 "
       ]
      },
      {
       "output_type": "stream",
       "stream": "stderr",
       "text": [
        "69492 69493 "
       ]
      },
      {
       "output_type": "stream",
       "stream": "stderr",
       "text": [
        "69494 69495 "
       ]
      },
      {
       "output_type": "stream",
       "stream": "stderr",
       "text": [
        "69496 69497 69498 "
       ]
      },
      {
       "output_type": "stream",
       "stream": "stderr",
       "text": [
        "69499 69500 "
       ]
      },
      {
       "output_type": "stream",
       "stream": "stderr",
       "text": [
        "69501 69502 "
       ]
      },
      {
       "output_type": "stream",
       "stream": "stderr",
       "text": [
        "69503 69504 "
       ]
      },
      {
       "output_type": "stream",
       "stream": "stderr",
       "text": [
        "69505 69506 "
       ]
      },
      {
       "output_type": "stream",
       "stream": "stderr",
       "text": [
        "69507 69508 "
       ]
      },
      {
       "output_type": "stream",
       "stream": "stderr",
       "text": [
        "69509 69510 "
       ]
      },
      {
       "output_type": "stream",
       "stream": "stderr",
       "text": [
        "69511 69512 "
       ]
      },
      {
       "output_type": "stream",
       "stream": "stderr",
       "text": [
        "69513 69514 "
       ]
      },
      {
       "output_type": "stream",
       "stream": "stderr",
       "text": [
        "69515 69516 "
       ]
      },
      {
       "output_type": "stream",
       "stream": "stderr",
       "text": [
        "69517 69518 "
       ]
      },
      {
       "output_type": "stream",
       "stream": "stderr",
       "text": [
        "69519 69520 "
       ]
      },
      {
       "output_type": "stream",
       "stream": "stderr",
       "text": [
        "69521 69522 "
       ]
      },
      {
       "output_type": "stream",
       "stream": "stdout",
       "text": [
        "0.153846153846\n",
        "6.28205128205\n"
       ]
      },
      {
       "output_type": "pyout",
       "prompt_number": 24,
       "text": [
        "{'average_gestation_metric': 6.282051282051282,\n",
        " 'bill_version': 'hr1424-110-enr',\n",
        " 'date': datetime.date(2008, 10, 3),\n",
        " 'num_sections': 39,\n",
        " 'week_threshold_metric': 0.15384615384615385}"
       ]
      }
     ],
     "prompt_number": 24
    },
    {
     "cell_type": "code",
     "collapsed": false,
     "input": [
      "enrolled_bills = set ( [ i['bill_version'] for i in data_list_of_dicts if i['BillVer'] == 'enr' and i['IssuedOn'] != '0000-00-00' ] )\n",
      "print len(set ( [ i['bill_version'] for i in data_list_of_dicts if i['BillVer'] == 'enr' ] ) )\n",
      "print len(set ( [ i['bill_version'] for i in data_list_of_dicts if i['BillVer'] == 'enr' and i['IssuedOn'] != '0000-00-00' ] ) )\n",
      "print len(set ( [ i['bill_version'] for i in data_list_of_dicts if i['BillVer'] == 'enr' and i['IssuedOn'] == '0000-00-00' ] ) )\n",
      "\n",
      "enrolled_bill_metrics = []\n",
      "for enrolled_bill in list(enrolled_bills):\n",
      "    metrics = calculate_bill_metrics( enrolled_bill, data_list_of_dicts, word_inverted_index, data_list_sets )\n",
      "    enrolled_bill_metrics.append( metrics )\n",
      "\n",
      "with open( 'enrolled_bill_metrics' , 'w' ) as f:\n",
      "        cPickle.dump( enrolled_bill_metrics, f )\n",
      "        \n",
      "print \"Complete\"\n",
      "#enrolled_bill_metrics"
     ],
     "language": "python",
     "metadata": {},
     "outputs": [
      {
       "output_type": "stream",
       "stream": "stdout",
       "text": [
        "816\n",
        "450"
       ]
      },
      {
       "output_type": "stream",
       "stream": "stdout",
       "text": [
        "\n",
        "366"
       ]
      },
      {
       "output_type": "stream",
       "stream": "stderr",
       "text": [
        "125878 125879 "
       ]
      },
      {
       "output_type": "stream",
       "stream": "stderr",
       "text": [
        "125880 125881 "
       ]
      },
      {
       "output_type": "stream",
       "stream": "stderr",
       "text": [
        "125882 125883 "
       ]
      },
      {
       "output_type": "stream",
       "stream": "stderr",
       "text": [
        "125884 125885 "
       ]
      },
      {
       "output_type": "stream",
       "stream": "stderr",
       "text": [
        "125886 125887 "
       ]
      },
      {
       "output_type": "stream",
       "stream": "stderr",
       "text": [
        "125878 125879 "
       ]
      },
      {
       "output_type": "stream",
       "stream": "stderr",
       "text": [
        "125880 125881 "
       ]
      },
      {
       "output_type": "stream",
       "stream": "stderr",
       "text": [
        "125882 125883 "
       ]
      },
      {
       "output_type": "stream",
       "stream": "stderr",
       "text": [
        "125884 125885 "
       ]
      },
      {
       "output_type": "stream",
       "stream": "stderr",
       "text": [
        "125886 125887 "
       ]
      },
      {
       "output_type": "stream",
       "stream": "stdout",
       "text": [
        "\n",
        "0.0"
       ]
      },
      {
       "output_type": "stream",
       "stream": "stderr",
       "text": [
        "62656 62657 "
       ]
      },
      {
       "output_type": "stream",
       "stream": "stderr",
       "text": [
        "62658 62659 "
       ]
      },
      {
       "output_type": "stream",
       "stream": "stderr",
       "text": [
        "62656 62657 "
       ]
      },
      {
       "output_type": "stream",
       "stream": "stderr",
       "text": [
        "62658 62659 "
       ]
      },
      {
       "output_type": "stream",
       "stream": "stdout",
       "text": [
        "\n",
        "0.571428571429\n",
        "0.75"
       ]
      },
      {
       "output_type": "stream",
       "stream": "stderr",
       "text": [
        "137671 137672 "
       ]
      },
      {
       "output_type": "stream",
       "stream": "stderr",
       "text": [
        "137671 137672 "
       ]
      },
      {
       "output_type": "stream",
       "stream": "stdout",
       "text": [
        "\n",
        "9.85714285714\n",
        "0.5"
       ]
      },
      {
       "output_type": "stream",
       "stream": "stderr",
       "text": [
        "26608 26609 "
       ]
      },
      {
       "output_type": "stream",
       "stream": "stdout",
       "text": [
        "\n",
        "19.5\n",
        "0.0"
       ]
      },
      {
       "output_type": "stream",
       "stream": "stderr",
       "text": [
        "26608 26609 68742 "
       ]
      },
      {
       "output_type": "stream",
       "stream": "stderr",
       "text": [
        "68743 68742 "
       ]
      },
      {
       "output_type": "stream",
       "stream": "stdout",
       "text": [
        "\n",
        "0.0\n",
        "0.0"
       ]
      },
      {
       "output_type": "stream",
       "stream": "stderr",
       "text": [
        "68743 49181 "
       ]
      },
      {
       "output_type": "stream",
       "stream": "stderr",
       "text": [
        "49182 49183 "
       ]
      },
      {
       "output_type": "stream",
       "stream": "stderr",
       "text": [
        "49181 49182 "
       ]
      },
      {
       "output_type": "stream",
       "stream": "stdout",
       "text": [
        "\n",
        "0.0\n",
        "0.333333333333"
       ]
      },
      {
       "output_type": "stream",
       "stream": "stderr",
       "text": [
        "49183 104471 "
       ]
      },
      {
       "output_type": "stream",
       "stream": "stderr",
       "text": [
        "104472 104473 "
       ]
      },
      {
       "output_type": "stream",
       "stream": "stderr",
       "text": [
        "104474 104471 "
       ]
      },
      {
       "output_type": "stream",
       "stream": "stderr",
       "text": [
        "104472 104473 "
       ]
      },
      {
       "output_type": "stream",
       "stream": "stdout",
       "text": [
        "\n",
        "31.8095238095\n",
        "0.5"
       ]
      },
      {
       "output_type": "stream",
       "stream": "stderr",
       "text": [
        "104474 108608 "
       ]
      },
      {
       "output_type": "stream",
       "stream": "stderr",
       "text": [
        "108609 108608 "
       ]
      },
      {
       "output_type": "stream",
       "stream": "stdout",
       "text": [
        "\n",
        "7.0\n",
        "0.0"
       ]
      },
      {
       "output_type": "stream",
       "stream": "stderr",
       "text": [
        "108609 71029 "
       ]
      },
      {
       "output_type": "stream",
       "stream": "stderr",
       "text": [
        "71030 71031 "
       ]
      },
      {
       "output_type": "stream",
       "stream": "stderr",
       "text": [
        "71032 71033 "
       ]
      },
      {
       "output_type": "stream",
       "stream": "stderr",
       "text": [
        "71034 71035 "
       ]
      },
      {
       "output_type": "stream",
       "stream": "stderr",
       "text": [
        "71036 71037 "
       ]
      },
      {
       "output_type": "stream",
       "stream": "stderr",
       "text": [
        "71038 71029 "
       ]
      },
      {
       "output_type": "stream",
       "stream": "stderr",
       "text": [
        "71030 71031 "
       ]
      },
      {
       "output_type": "stream",
       "stream": "stderr",
       "text": [
        "71032 71033 "
       ]
      },
      {
       "output_type": "stream",
       "stream": "stderr",
       "text": [
        "71034 71035 "
       ]
      },
      {
       "output_type": "stream",
       "stream": "stderr",
       "text": [
        "71036 71037 "
       ]
      },
      {
       "output_type": "stream",
       "stream": "stdout",
       "text": [
        "\n",
        "0.0\n",
        "0.0"
       ]
      },
      {
       "output_type": "stream",
       "stream": "stderr",
       "text": [
        "71038 117008 "
       ]
      },
      {
       "output_type": "stream",
       "stream": "stderr",
       "text": [
        "117009 117008 "
       ]
      },
      {
       "output_type": "stream",
       "stream": "stdout",
       "text": [
        "\n",
        "0.0\n",
        "0.0"
       ]
      },
      {
       "output_type": "stream",
       "stream": "stderr",
       "text": [
        "117009 84854 "
       ]
      },
      {
       "output_type": "stream",
       "stream": "stderr",
       "text": [
        "84855 84854 "
       ]
      },
      {
       "output_type": "stream",
       "stream": "stdout",
       "text": [
        "\n",
        "0.0\n",
        "0.0"
       ]
      },
      {
       "output_type": "stream",
       "stream": "stderr",
       "text": [
        "84855 6139 "
       ]
      },
      {
       "output_type": "stream",
       "stream": "stderr",
       "text": [
        "6140 6141 "
       ]
      },
      {
       "output_type": "stream",
       "stream": "stderr",
       "text": [
        "6142 6143 "
       ]
      },
      {
       "output_type": "stream",
       "stream": "stderr",
       "text": [
        "6144 6139 "
       ]
      },
      {
       "output_type": "stream",
       "stream": "stderr",
       "text": [
        "6140 6141 "
       ]
      },
      {
       "output_type": "stream",
       "stream": "stderr",
       "text": [
        "6142 6143 "
       ]
      },
      {
       "output_type": "stream",
       "stream": "stdout",
       "text": [
        "\n",
        "0.0\n",
        "0.0"
       ]
      },
      {
       "output_type": "stream",
       "stream": "stderr",
       "text": [
        "6144 21457 "
       ]
      },
      {
       "output_type": "stream",
       "stream": "stderr",
       "text": [
        "21458 21459 "
       ]
      },
      {
       "output_type": "stream",
       "stream": "stderr",
       "text": [
        "21457 21458 "
       ]
      },
      {
       "output_type": "stream",
       "stream": "stdout",
       "text": [
        "\n",
        "5.59523809524\n",
        "0.0"
       ]
      },
      {
       "output_type": "stream",
       "stream": "stderr",
       "text": [
        "21459 111331 "
       ]
      },
      {
       "output_type": "stream",
       "stream": "stderr",
       "text": [
        "111332 111333 "
       ]
      },
      {
       "output_type": "stream",
       "stream": "stderr",
       "text": [
        "111334 111335 "
       ]
      },
      {
       "output_type": "stream",
       "stream": "stderr",
       "text": [
        "111336 111331 "
       ]
      },
      {
       "output_type": "stream",
       "stream": "stderr",
       "text": [
        "111332 111333 "
       ]
      },
      {
       "output_type": "stream",
       "stream": "stderr",
       "text": [
        "111334 111335 111336 "
       ]
      },
      {
       "output_type": "stream",
       "stream": "stdout",
       "text": [
        "\n",
        "2.2380952381\n",
        "0.666666666667"
       ]
      },
      {
       "output_type": "stream",
       "stream": "stderr",
       "text": [
        "74683 74684 "
       ]
      },
      {
       "output_type": "stream",
       "stream": "stderr",
       "text": [
        "74685 74686 "
       ]
      },
      {
       "output_type": "stream",
       "stream": "stderr",
       "text": [
        "74687 74688 "
       ]
      },
      {
       "output_type": "stream",
       "stream": "stderr",
       "text": [
        "74689 74690 "
       ]
      },
      {
       "output_type": "stream",
       "stream": "stderr",
       "text": [
        "74691 74692 "
       ]
      },
      {
       "output_type": "stream",
       "stream": "stderr",
       "text": [
        "74693 74694 "
       ]
      },
      {
       "output_type": "stream",
       "stream": "stderr",
       "text": [
        "74695 74696 "
       ]
      },
      {
       "output_type": "stream",
       "stream": "stderr",
       "text": [
        "74697 74698 "
       ]
      },
      {
       "output_type": "stream",
       "stream": "stderr",
       "text": [
        "74699 74700 "
       ]
      },
      {
       "output_type": "stream",
       "stream": "stderr",
       "text": [
        "74701 74702 "
       ]
      },
      {
       "output_type": "stream",
       "stream": "stderr",
       "text": [
        "74703 74704 "
       ]
      },
      {
       "output_type": "stream",
       "stream": "stderr",
       "text": [
        "74705 74706 "
       ]
      },
      {
       "output_type": "stream",
       "stream": "stderr",
       "text": [
        "74707 74708 "
       ]
      },
      {
       "output_type": "stream",
       "stream": "stderr",
       "text": [
        "74709 74710 "
       ]
      },
      {
       "output_type": "stream",
       "stream": "stderr",
       "text": [
        "74711 74712 "
       ]
      },
      {
       "output_type": "stream",
       "stream": "stderr",
       "text": [
        "74713 74714 "
       ]
      },
      {
       "output_type": "stream",
       "stream": "stderr",
       "text": [
        "74715 74716 "
       ]
      },
      {
       "output_type": "stream",
       "stream": "stderr",
       "text": [
        "74717 74718 "
       ]
      },
      {
       "output_type": "stream",
       "stream": "stderr",
       "text": [
        "74719 74720 "
       ]
      },
      {
       "output_type": "stream",
       "stream": "stderr",
       "text": [
        "74721 74722 "
       ]
      },
      {
       "output_type": "stream",
       "stream": "stderr",
       "text": [
        "74723 74724 "
       ]
      },
      {
       "output_type": "stream",
       "stream": "stderr",
       "text": [
        "74725 74726 "
       ]
      },
      {
       "output_type": "stream",
       "stream": "stderr",
       "text": [
        "74727 74728 "
       ]
      },
      {
       "output_type": "stream",
       "stream": "stderr",
       "text": [
        "74729 74730 "
       ]
      },
      {
       "output_type": "stream",
       "stream": "stderr",
       "text": [
        "74731 74732 "
       ]
      },
      {
       "output_type": "stream",
       "stream": "stderr",
       "text": [
        "74733 74734 "
       ]
      },
      {
       "output_type": "stream",
       "stream": "stderr",
       "text": [
        "74735 74736 "
       ]
      },
      {
       "output_type": "stream",
       "stream": "stderr",
       "text": [
        "74737 74738 "
       ]
      },
      {
       "output_type": "stream",
       "stream": "stderr",
       "text": [
        "74739 74740 "
       ]
      },
      {
       "output_type": "stream",
       "stream": "stderr",
       "text": [
        "74741 74742 "
       ]
      },
      {
       "output_type": "stream",
       "stream": "stderr",
       "text": [
        "74743 74744 "
       ]
      },
      {
       "output_type": "stream",
       "stream": "stderr",
       "text": [
        "74745 74746 "
       ]
      },
      {
       "output_type": "stream",
       "stream": "stderr",
       "text": [
        "74747 74748 "
       ]
      },
      {
       "output_type": "stream",
       "stream": "stderr",
       "text": [
        "74749 74750 "
       ]
      },
      {
       "output_type": "stream",
       "stream": "stderr",
       "text": [
        "74751 74752 "
       ]
      },
      {
       "output_type": "stream",
       "stream": "stderr",
       "text": [
        "74753 74754 "
       ]
      },
      {
       "output_type": "stream",
       "stream": "stderr",
       "text": [
        "74755 74756 "
       ]
      },
      {
       "output_type": "stream",
       "stream": "stderr",
       "text": [
        "74757 74758 "
       ]
      },
      {
       "output_type": "stream",
       "stream": "stderr",
       "text": [
        "74759 74760 "
       ]
      },
      {
       "output_type": "stream",
       "stream": "stderr",
       "text": [
        "74761 74762 "
       ]
      },
      {
       "output_type": "stream",
       "stream": "stderr",
       "text": [
        "74763 74764 "
       ]
      },
      {
       "output_type": "stream",
       "stream": "stderr",
       "text": [
        "74765 74766 "
       ]
      },
      {
       "output_type": "stream",
       "stream": "stderr",
       "text": [
        "74767 74768 "
       ]
      },
      {
       "output_type": "stream",
       "stream": "stderr",
       "text": [
        "74769 74770 "
       ]
      },
      {
       "output_type": "stream",
       "stream": "stderr",
       "text": [
        "74771 74772 "
       ]
      },
      {
       "output_type": "stream",
       "stream": "stderr",
       "text": [
        "74773 74774 "
       ]
      },
      {
       "output_type": "stream",
       "stream": "stderr",
       "text": [
        "74775 74776 "
       ]
      },
      {
       "output_type": "stream",
       "stream": "stderr",
       "text": [
        "74777 74778 "
       ]
      },
      {
       "output_type": "stream",
       "stream": "stderr",
       "text": [
        "74779 74780 "
       ]
      },
      {
       "output_type": "stream",
       "stream": "stderr",
       "text": [
        "74781 74782 "
       ]
      },
      {
       "output_type": "stream",
       "stream": "stderr",
       "text": [
        "74783 74784 "
       ]
      },
      {
       "output_type": "stream",
       "stream": "stderr",
       "text": [
        "74785 74786 "
       ]
      },
      {
       "output_type": "stream",
       "stream": "stderr",
       "text": [
        "74787 74788 "
       ]
      },
      {
       "output_type": "stream",
       "stream": "stderr",
       "text": [
        "74789 74790 "
       ]
      },
      {
       "output_type": "stream",
       "stream": "stderr",
       "text": [
        "74791 74792 "
       ]
      },
      {
       "output_type": "stream",
       "stream": "stderr",
       "text": [
        "74793 74794 "
       ]
      },
      {
       "output_type": "stream",
       "stream": "stderr",
       "text": [
        "74683 74684 "
       ]
      },
      {
       "output_type": "stream",
       "stream": "stderr",
       "text": [
        "74685 74686 "
       ]
      },
      {
       "output_type": "stream",
       "stream": "stderr",
       "text": [
        "74687 74688 "
       ]
      },
      {
       "output_type": "stream",
       "stream": "stderr",
       "text": [
        "74689 74690 "
       ]
      },
      {
       "output_type": "stream",
       "stream": "stderr",
       "text": [
        "74691 74692 "
       ]
      },
      {
       "output_type": "stream",
       "stream": "stderr",
       "text": [
        "74693 74694 "
       ]
      },
      {
       "output_type": "stream",
       "stream": "stderr",
       "text": [
        "74695 74696 "
       ]
      },
      {
       "output_type": "stream",
       "stream": "stderr",
       "text": [
        "74697 74698 "
       ]
      },
      {
       "output_type": "stream",
       "stream": "stderr",
       "text": [
        "74699 74700 "
       ]
      },
      {
       "output_type": "stream",
       "stream": "stderr",
       "text": [
        "74701 74702 "
       ]
      },
      {
       "output_type": "stream",
       "stream": "stderr",
       "text": [
        "74703 74704 "
       ]
      },
      {
       "output_type": "stream",
       "stream": "stderr",
       "text": [
        "74705 74706 "
       ]
      },
      {
       "output_type": "stream",
       "stream": "stderr",
       "text": [
        "74707 74708 "
       ]
      },
      {
       "output_type": "stream",
       "stream": "stderr",
       "text": [
        "74709 74710 74711 "
       ]
      },
      {
       "output_type": "stream",
       "stream": "stderr",
       "text": [
        "74712 74713 "
       ]
      },
      {
       "output_type": "stream",
       "stream": "stderr",
       "text": [
        "74714 74715 "
       ]
      },
      {
       "output_type": "stream",
       "stream": "stderr",
       "text": [
        "74716 74717 "
       ]
      },
      {
       "output_type": "stream",
       "stream": "stderr",
       "text": [
        "74718 74719 74720 "
       ]
      },
      {
       "output_type": "stream",
       "stream": "stderr",
       "text": [
        "74721 74722 "
       ]
      },
      {
       "output_type": "stream",
       "stream": "stderr",
       "text": [
        "74723 74724 "
       ]
      },
      {
       "output_type": "stream",
       "stream": "stderr",
       "text": [
        "74725 74726 "
       ]
      },
      {
       "output_type": "stream",
       "stream": "stderr",
       "text": [
        "74727 74728 "
       ]
      },
      {
       "output_type": "stream",
       "stream": "stderr",
       "text": [
        "74729 74730 74731 "
       ]
      },
      {
       "output_type": "stream",
       "stream": "stderr",
       "text": [
        "74732 74733 "
       ]
      },
      {
       "output_type": "stream",
       "stream": "stderr",
       "text": [
        "74734 74735 "
       ]
      },
      {
       "output_type": "stream",
       "stream": "stderr",
       "text": [
        "74736 74737 "
       ]
      },
      {
       "output_type": "stream",
       "stream": "stderr",
       "text": [
        "74738 74739 "
       ]
      },
      {
       "output_type": "stream",
       "stream": "stderr",
       "text": [
        "74740 74741 "
       ]
      },
      {
       "output_type": "stream",
       "stream": "stderr",
       "text": [
        "74742 74743 "
       ]
      },
      {
       "output_type": "stream",
       "stream": "stderr",
       "text": [
        "74744 74745 "
       ]
      },
      {
       "output_type": "stream",
       "stream": "stderr",
       "text": [
        "74746 74747 "
       ]
      },
      {
       "output_type": "stream",
       "stream": "stderr",
       "text": [
        "74748 74749 "
       ]
      },
      {
       "output_type": "stream",
       "stream": "stderr",
       "text": [
        "74750 74751 "
       ]
      },
      {
       "output_type": "stream",
       "stream": "stderr",
       "text": [
        "74752 74753 "
       ]
      },
      {
       "output_type": "stream",
       "stream": "stderr",
       "text": [
        "74754 74755 "
       ]
      },
      {
       "output_type": "stream",
       "stream": "stderr",
       "text": [
        "74756 74757 74758 "
       ]
      },
      {
       "output_type": "stream",
       "stream": "stderr",
       "text": [
        "74759 74760 "
       ]
      },
      {
       "output_type": "stream",
       "stream": "stderr",
       "text": [
        "74761 74762 "
       ]
      },
      {
       "output_type": "stream",
       "stream": "stderr",
       "text": [
        "74763 74764 "
       ]
      },
      {
       "output_type": "stream",
       "stream": "stderr",
       "text": [
        "74765 74766 "
       ]
      },
      {
       "output_type": "stream",
       "stream": "stderr",
       "text": [
        "74767 74768 74769 "
       ]
      },
      {
       "output_type": "stream",
       "stream": "stderr",
       "text": [
        "74770 74771 "
       ]
      },
      {
       "output_type": "stream",
       "stream": "stderr",
       "text": [
        "74772 74773 74774 "
       ]
      },
      {
       "output_type": "stream",
       "stream": "stderr",
       "text": [
        "74775 74776 "
       ]
      },
      {
       "output_type": "stream",
       "stream": "stderr",
       "text": [
        "74777 74778 "
       ]
      },
      {
       "output_type": "stream",
       "stream": "stderr",
       "text": [
        "74779 74780 "
       ]
      },
      {
       "output_type": "stream",
       "stream": "stderr",
       "text": [
        "74781 74782 "
       ]
      },
      {
       "output_type": "stream",
       "stream": "stderr",
       "text": [
        "74783 74784 "
       ]
      },
      {
       "output_type": "stream",
       "stream": "stderr",
       "text": [
        "74785 74786 "
       ]
      },
      {
       "output_type": "stream",
       "stream": "stderr",
       "text": [
        "74787 74788 "
       ]
      },
      {
       "output_type": "stream",
       "stream": "stderr",
       "text": [
        "74789 74790 "
       ]
      },
      {
       "output_type": "stream",
       "stream": "stderr",
       "text": [
        "74791 74792 "
       ]
      },
      {
       "output_type": "stream",
       "stream": "stderr",
       "text": [
        "74793 74794 "
       ]
      },
      {
       "output_type": "stream",
       "stream": "stdout",
       "text": [
        "\n",
        "24.0714285714\n",
        "0.5625"
       ]
      },
      {
       "output_type": "stream",
       "stream": "stderr",
       "text": [
        "53471 53472 "
       ]
      },
      {
       "output_type": "stream",
       "stream": "stderr",
       "text": [
        "53473 53474 "
       ]
      },
      {
       "output_type": "stream",
       "stream": "stderr",
       "text": [
        "53475 53476 "
       ]
      },
      {
       "output_type": "stream",
       "stream": "stderr",
       "text": [
        "53477 53478 "
       ]
      },
      {
       "output_type": "stream",
       "stream": "stderr",
       "text": [
        "53479 53480 "
       ]
      },
      {
       "output_type": "stream",
       "stream": "stderr",
       "text": [
        "53481 53482 "
       ]
      },
      {
       "output_type": "stream",
       "stream": "stderr",
       "text": [
        "53483 53484 "
       ]
      },
      {
       "output_type": "stream",
       "stream": "stderr",
       "text": [
        "53485 53486 "
       ]
      },
      {
       "output_type": "stream",
       "stream": "stderr",
       "text": [
        "53487 53488 "
       ]
      },
      {
       "output_type": "stream",
       "stream": "stderr",
       "text": [
        "53471 53472 "
       ]
      },
      {
       "output_type": "stream",
       "stream": "stderr",
       "text": [
        "53473 53474 "
       ]
      },
      {
       "output_type": "stream",
       "stream": "stderr",
       "text": [
        "53475 53476 "
       ]
      },
      {
       "output_type": "stream",
       "stream": "stderr",
       "text": [
        "53477 53478 53479 "
       ]
      },
      {
       "output_type": "stream",
       "stream": "stderr",
       "text": [
        "53480 53481 "
       ]
      },
      {
       "output_type": "stream",
       "stream": "stderr",
       "text": [
        "53482 53483 "
       ]
      },
      {
       "output_type": "stream",
       "stream": "stderr",
       "text": [
        "53484 53485 "
       ]
      },
      {
       "output_type": "stream",
       "stream": "stderr",
       "text": [
        "53486 53487 "
       ]
      },
      {
       "output_type": "stream",
       "stream": "stdout",
       "text": [
        "\n",
        "11.3303571429\n",
        "0.5"
       ]
      },
      {
       "output_type": "stream",
       "stream": "stderr",
       "text": [
        "53488 99342 "
       ]
      },
      {
       "output_type": "stream",
       "stream": "stderr",
       "text": [
        "99343 99344 "
       ]
      },
      {
       "output_type": "stream",
       "stream": "stderr",
       "text": [
        "99345 99346 "
       ]
      },
      {
       "output_type": "stream",
       "stream": "stderr",
       "text": [
        "99347 99348 "
       ]
      },
      {
       "output_type": "stream",
       "stream": "stderr",
       "text": [
        "99349 99350 "
       ]
      },
      {
       "output_type": "stream",
       "stream": "stderr",
       "text": [
        "99351 99352 "
       ]
      },
      {
       "output_type": "stream",
       "stream": "stderr",
       "text": [
        "99353 99354 "
       ]
      },
      {
       "output_type": "stream",
       "stream": "stderr",
       "text": [
        "99355 99356 "
       ]
      },
      {
       "output_type": "stream",
       "stream": "stderr",
       "text": [
        "99357 99358 "
       ]
      },
      {
       "output_type": "stream",
       "stream": "stderr",
       "text": [
        "99359 99360 "
       ]
      },
      {
       "output_type": "stream",
       "stream": "stderr",
       "text": [
        "99342 99343 "
       ]
      },
      {
       "output_type": "stream",
       "stream": "stderr",
       "text": [
        "99344 99345 "
       ]
      },
      {
       "output_type": "stream",
       "stream": "stderr",
       "text": [
        "99346 99347 "
       ]
      },
      {
       "output_type": "stream",
       "stream": "stderr",
       "text": [
        "99348 99349 "
       ]
      },
      {
       "output_type": "stream",
       "stream": "stderr",
       "text": [
        "99350 99351 "
       ]
      },
      {
       "output_type": "stream",
       "stream": "stderr",
       "text": [
        "99352 99353 "
       ]
      },
      {
       "output_type": "stream",
       "stream": "stderr",
       "text": [
        "99354 99355 "
       ]
      },
      {
       "output_type": "stream",
       "stream": "stderr",
       "text": [
        "99356 99357 "
       ]
      },
      {
       "output_type": "stream",
       "stream": "stderr",
       "text": [
        "99358 99359 "
       ]
      },
      {
       "output_type": "stream",
       "stream": "stdout",
       "text": [
        "\n",
        "10.380952381\n",
        "0.105263157895"
       ]
      },
      {
       "output_type": "stream",
       "stream": "stderr",
       "text": [
        "99360 136434 "
       ]
      },
      {
       "output_type": "stream",
       "stream": "stderr",
       "text": [
        "136435 136436 "
       ]
      },
      {
       "output_type": "stream",
       "stream": "stderr",
       "text": [
        "136437 136438 "
       ]
      },
      {
       "output_type": "stream",
       "stream": "stderr",
       "text": [
        "136439 136434 "
       ]
      },
      {
       "output_type": "stream",
       "stream": "stderr",
       "text": [
        "136435 136436 "
       ]
      },
      {
       "output_type": "stream",
       "stream": "stderr",
       "text": [
        "136437 136438 "
       ]
      },
      {
       "output_type": "stream",
       "stream": "stdout",
       "text": [
        "\n",
        "8.39097744361\n",
        "0.833333333333"
       ]
      },
      {
       "output_type": "stream",
       "stream": "stderr",
       "text": [
        "136439 4150 "
       ]
      },
      {
       "output_type": "stream",
       "stream": "stderr",
       "text": [
        "4151 4150 "
       ]
      },
      {
       "output_type": "stream",
       "stream": "stdout",
       "text": [
        "\n",
        "36.0714285714\n",
        "0.0"
       ]
      },
      {
       "output_type": "stream",
       "stream": "stderr",
       "text": [
        "4151 11252 "
       ]
      },
      {
       "output_type": "stream",
       "stream": "stderr",
       "text": [
        "11253 11252 "
       ]
      },
      {
       "output_type": "stream",
       "stream": "stdout",
       "text": [
        "\n",
        "0.0\n",
        "0.0"
       ]
      },
      {
       "output_type": "stream",
       "stream": "stderr",
       "text": [
        "11253 105692 "
       ]
      },
      {
       "output_type": "stream",
       "stream": "stderr",
       "text": [
        "105693 105694 "
       ]
      }
     ],
     "prompt_number": "*"
    },
    {
     "cell_type": "code",
     "collapsed": false,
     "input": [
      "with open( 'enrolled_bill_metrics') as f:\n",
      "        enrolled_bill_pickle = cPickle.load( f )\n",
      "\n",
      "enrolled_bill_pickle"
     ],
     "language": "python",
     "metadata": {},
     "outputs": [
      {
       "output_type": "pyout",
       "prompt_number": 50,
       "text": [
        "[{'average_gestation_metric': 0.5714285714285714,\n",
        "  'bill_version': 's3569-110-enr',\n",
        "  'date': datetime.date(2008, 9, 29),\n",
        "  'num_sections': 10,\n",
        "  'section_intro_dates': {'1': datetime.date(2008, 9, 29),\n",
        "   '10': datetime.date(2008, 9, 29),\n",
        "   '2': datetime.date(2008, 9, 24),\n",
        "   '3': datetime.date(2008, 9, 24),\n",
        "   '4': datetime.date(2008, 9, 24),\n",
        "   '5': datetime.date(2008, 9, 24),\n",
        "   '6': datetime.date(2008, 9, 24),\n",
        "   '7': datetime.date(2008, 9, 24),\n",
        "   '8': datetime.date(2008, 9, 24),\n",
        "   '9': datetime.date(2008, 9, 24)},\n",
        "  'week_threshold_metric': 0.0},\n",
        " {'average_gestation_metric': 9.857142857142858,\n",
        "  'bill_version': 'hr6370-110-enr',\n",
        "  'date': datetime.date(2008, 9, 25),\n",
        "  'num_sections': 4,\n",
        "  'section_intro_dates': {'1': datetime.date(2008, 9, 25),\n",
        "   '2': datetime.date(2008, 6, 25),\n",
        "   '3': datetime.date(2008, 6, 25),\n",
        "   '4': datetime.date(2008, 6, 25)},\n",
        "  'week_threshold_metric': 0.75},\n",
        " {'average_gestation_metric': 19.5,\n",
        "  'bill_version': 's2450-110-enr',\n",
        "  'date': datetime.date(2008, 9, 9),\n",
        "  'num_sections': 2,\n",
        "  'section_intro_dates': {'1': datetime.date(2008, 9, 9),\n",
        "   '2': datetime.date(2007, 12, 11)},\n",
        "  'week_threshold_metric': 0.5}]"
       ]
      }
     ],
     "prompt_number": 50
    },
    {
     "cell_type": "code",
     "collapsed": false,
     "input": [
      "reload( utils_bill_trajectory )\n",
      "\n",
      "#for bill in ( \"HERA\", \"Dodd-Frank\", \"ARRA\" ):\n",
      "bill = \"ARRA\"\n",
      "if 1:\n",
      "    print bill\n",
      "    target_bill = bill_name_dict[bill]\n",
      "    target_indices = [ idx for idx, i in enumerate( data_list_of_dicts ) if i['bill_version'] == target_bill ]\n",
      "    with open( '%s_top_matches_jaccard.pkl' % bill ) as f:\n",
      "        target_top_matches_jaccard = cPickle.load( f )\n",
      "\n",
      "    data_to_graph = []\n",
      "    idx_datetime_section_jaccard = []\n",
      "    \n",
      "    \n",
      "    \n",
      "    # special case for Dodd-Frank: date is listed as 0000-00-00\n",
      "    \n",
      "    if bill == \"Dodd-Frank\":\n",
      "        for target_idx in target_indices:\n",
      "            if data_list_of_dicts[target_idx]['IssuedOn'] == '0000-00-00':\n",
      "                data_list_of_dicts[target_idx]['IssuedOn'] = '2010-07-15'\n",
      "        \n",
      "    target_bill_date_text = data_list_of_dicts[ list( target_indices )[0] ]['IssuedOn']\n",
      "    \n",
      "    \n",
      "    #print target_bill_date\n",
      "    target_bill_datetime = datetime.datetime.strptime( target_bill_date_text, \"%Y-%m-%d\" )\n",
      "    target_bill_date = target_bill_datetime.date()\n",
      "    \n",
      "    for query_idx, matches in target_top_matches_jaccard:\n",
      "        sys.stderr.write( \"%s \" % query_idx ) \n",
      "        for match_idx, jaccard in matches:\n",
      "        \n",
      "            if utils_bill_trajectory.is_match( data_list_of_dicts[match_idx], target_bill_date, data_list_of_dicts[query_idx], jaccard ):\n",
      "                match_date_text = data_list_of_dicts[match_idx]['IssuedOn']\n",
      "                match_datetime = datetime.datetime.strptime( match_date_text, \"%Y-%m-%d\" )\n",
      "                section_idx = data_list_of_dicts[query_idx]['sec_sequence']\n",
      "                data_to_graph.append( ( match_datetime, section_idx ) )\n",
      "                idx_datetime_section_jaccard.append( ( match_idx, match_datetime, section_idx, jaccard ) )\n",
      "                \n",
      "    # compute metrics\n",
      "    target_bill_date = data_list_of_dicts[ list( target_indices )[0] ]['IssuedOn']\n",
      "    #print target_bill_date\n",
      "    target_bill_datetime = datetime.datetime.strptime( target_bill_date, \"%Y-%m-%d\" )\n",
      "    target_bill_date = target_bill_datetime.date()\n",
      "    \n",
      "    section_intro_dates = utils_bill_trajectory.get_section_intro_dates( target_bill_date, data_to_graph )\n",
      "    week_threshold_metric = utils_bill_trajectory.get_week_threshold_metric( section_intro_dates, target_bill_date, week_threshold=12 )\n",
      "    average_gestation_metric = utils_bill_trajectory.get_average_gestation_metric( section_intro_dates, target_bill_date )\n",
      "    \n",
      "    print week_threshold_metric\n",
      "    print average_gestation_metric\n",
      "\n",
      "\n",
      "\n"
     ],
     "language": "python",
     "metadata": {},
     "outputs": [
      {
       "output_type": "stream",
       "stream": "stderr",
       "text": [
        "252010 252011 "
       ]
      },
      {
       "output_type": "stream",
       "stream": "stderr",
       "text": [
        "252012 252013 252014 "
       ]
      },
      {
       "output_type": "stream",
       "stream": "stderr",
       "text": [
        "252015 252016 252017 252018 "
       ]
      },
      {
       "output_type": "stream",
       "stream": "stderr",
       "text": [
        "252019 252020 252021 "
       ]
      },
      {
       "output_type": "stream",
       "stream": "stderr",
       "text": [
        "252022 252023 "
       ]
      },
      {
       "output_type": "stream",
       "stream": "stderr",
       "text": [
        "252024 252025 252026 "
       ]
      },
      {
       "output_type": "stream",
       "stream": "stderr",
       "text": [
        "252027 252028 "
       ]
      },
      {
       "output_type": "stream",
       "stream": "stderr",
       "text": [
        "252029 252030 "
       ]
      },
      {
       "output_type": "stream",
       "stream": "stderr",
       "text": [
        "252031 252032 252033 252034 "
       ]
      },
      {
       "output_type": "stream",
       "stream": "stderr",
       "text": [
        "252035 252036 "
       ]
      },
      {
       "output_type": "stream",
       "stream": "stderr",
       "text": [
        "252037 252038 "
       ]
      },
      {
       "output_type": "stream",
       "stream": "stderr",
       "text": [
        "252039 252040 "
       ]
      },
      {
       "output_type": "stream",
       "stream": "stderr",
       "text": [
        "252041 252042 "
       ]
      },
      {
       "output_type": "stream",
       "stream": "stderr",
       "text": [
        "252043 252044 "
       ]
      },
      {
       "output_type": "stream",
       "stream": "stderr",
       "text": [
        "252045 252046 "
       ]
      },
      {
       "output_type": "stream",
       "stream": "stderr",
       "text": [
        "252047 252048 "
       ]
      },
      {
       "output_type": "stream",
       "stream": "stderr",
       "text": [
        "252049 252050 "
       ]
      },
      {
       "output_type": "stream",
       "stream": "stderr",
       "text": [
        "252051 252052 "
       ]
      },
      {
       "output_type": "stream",
       "stream": "stderr",
       "text": [
        "252053 252054 "
       ]
      },
      {
       "output_type": "stream",
       "stream": "stderr",
       "text": [
        "252055 252056 "
       ]
      },
      {
       "output_type": "stream",
       "stream": "stderr",
       "text": [
        "252057 252058 "
       ]
      },
      {
       "output_type": "stream",
       "stream": "stderr",
       "text": [
        "252059 252060 "
       ]
      },
      {
       "output_type": "stream",
       "stream": "stderr",
       "text": [
        "252061 252062 "
       ]
      },
      {
       "output_type": "stream",
       "stream": "stderr",
       "text": [
        "252063 252064 "
       ]
      },
      {
       "output_type": "stream",
       "stream": "stderr",
       "text": [
        "252065 252066 "
       ]
      },
      {
       "output_type": "stream",
       "stream": "stderr",
       "text": [
        "252067 252068 "
       ]
      },
      {
       "output_type": "stream",
       "stream": "stderr",
       "text": [
        "252069 252070 "
       ]
      },
      {
       "output_type": "stream",
       "stream": "stderr",
       "text": [
        "252071 252072 "
       ]
      },
      {
       "output_type": "stream",
       "stream": "stderr",
       "text": [
        "252073 252074 252075 "
       ]
      },
      {
       "output_type": "stream",
       "stream": "stderr",
       "text": [
        "252076 252077 "
       ]
      },
      {
       "output_type": "stream",
       "stream": "stderr",
       "text": [
        "252078 252079 "
       ]
      },
      {
       "output_type": "stream",
       "stream": "stderr",
       "text": [
        "252080 252081 "
       ]
      },
      {
       "output_type": "stream",
       "stream": "stderr",
       "text": [
        "252082 252083 252084 "
       ]
      },
      {
       "output_type": "stream",
       "stream": "stderr",
       "text": [
        "252085 252086 "
       ]
      },
      {
       "output_type": "stream",
       "stream": "stderr",
       "text": [
        "252087 252088 "
       ]
      },
      {
       "output_type": "stream",
       "stream": "stderr",
       "text": [
        "252089 252090 "
       ]
      },
      {
       "output_type": "stream",
       "stream": "stderr",
       "text": [
        "252091 252092 "
       ]
      },
      {
       "output_type": "stream",
       "stream": "stderr",
       "text": [
        "252093 252094 "
       ]
      },
      {
       "output_type": "stream",
       "stream": "stderr",
       "text": [
        "252095 252096 "
       ]
      },
      {
       "output_type": "stream",
       "stream": "stderr",
       "text": [
        "252097 252098 "
       ]
      },
      {
       "output_type": "stream",
       "stream": "stderr",
       "text": [
        "252099 252100 "
       ]
      },
      {
       "output_type": "stream",
       "stream": "stderr",
       "text": [
        "252101 252102 "
       ]
      },
      {
       "output_type": "stream",
       "stream": "stderr",
       "text": [
        "252103 252104 "
       ]
      },
      {
       "output_type": "stream",
       "stream": "stderr",
       "text": [
        "252105 252106 "
       ]
      },
      {
       "output_type": "stream",
       "stream": "stderr",
       "text": [
        "252107 252108 "
       ]
      },
      {
       "output_type": "stream",
       "stream": "stderr",
       "text": [
        "252109 252110 "
       ]
      },
      {
       "output_type": "stream",
       "stream": "stderr",
       "text": [
        "252111 252112 "
       ]
      },
      {
       "output_type": "stream",
       "stream": "stderr",
       "text": [
        "252113 252114 "
       ]
      },
      {
       "output_type": "stream",
       "stream": "stderr",
       "text": [
        "252115 252116 "
       ]
      },
      {
       "output_type": "stream",
       "stream": "stderr",
       "text": [
        "252117 252118 "
       ]
      },
      {
       "output_type": "stream",
       "stream": "stderr",
       "text": [
        "252119 252120 "
       ]
      },
      {
       "output_type": "stream",
       "stream": "stderr",
       "text": [
        "252121 252122 "
       ]
      },
      {
       "output_type": "stream",
       "stream": "stderr",
       "text": [
        "252123 252124 "
       ]
      },
      {
       "output_type": "stream",
       "stream": "stderr",
       "text": [
        "252125 252126 "
       ]
      },
      {
       "output_type": "stream",
       "stream": "stderr",
       "text": [
        "252127 252128 "
       ]
      },
      {
       "output_type": "stream",
       "stream": "stderr",
       "text": [
        "252129 252130 "
       ]
      },
      {
       "output_type": "stream",
       "stream": "stderr",
       "text": [
        "252131 252132 "
       ]
      },
      {
       "output_type": "stream",
       "stream": "stderr",
       "text": [
        "252133 252134 "
       ]
      },
      {
       "output_type": "stream",
       "stream": "stderr",
       "text": [
        "252135 252136 252137 "
       ]
      },
      {
       "output_type": "stream",
       "stream": "stderr",
       "text": [
        "252138 252139 "
       ]
      },
      {
       "output_type": "stream",
       "stream": "stderr",
       "text": [
        "252140 252141 "
       ]
      },
      {
       "output_type": "stream",
       "stream": "stderr",
       "text": [
        "252142 252143 "
       ]
      },
      {
       "output_type": "stream",
       "stream": "stderr",
       "text": [
        "252144 252145 "
       ]
      },
      {
       "output_type": "stream",
       "stream": "stderr",
       "text": [
        "252146 252147 "
       ]
      },
      {
       "output_type": "stream",
       "stream": "stderr",
       "text": [
        "252148 252149 "
       ]
      },
      {
       "output_type": "stream",
       "stream": "stderr",
       "text": [
        "252150 252151 "
       ]
      },
      {
       "output_type": "stream",
       "stream": "stderr",
       "text": [
        "252152 252153 "
       ]
      },
      {
       "output_type": "stream",
       "stream": "stderr",
       "text": [
        "252154 252155 "
       ]
      },
      {
       "output_type": "stream",
       "stream": "stderr",
       "text": [
        "252156 252157 252158 "
       ]
      },
      {
       "output_type": "stream",
       "stream": "stderr",
       "text": [
        "252159 252160 "
       ]
      },
      {
       "output_type": "stream",
       "stream": "stderr",
       "text": [
        "252161 252162 "
       ]
      },
      {
       "output_type": "stream",
       "stream": "stderr",
       "text": [
        "252163 252164 "
       ]
      },
      {
       "output_type": "stream",
       "stream": "stderr",
       "text": [
        "252165 252166 "
       ]
      },
      {
       "output_type": "stream",
       "stream": "stderr",
       "text": [
        "252167 252168 "
       ]
      },
      {
       "output_type": "stream",
       "stream": "stderr",
       "text": [
        "252169 252170 "
       ]
      },
      {
       "output_type": "stream",
       "stream": "stderr",
       "text": [
        "252171 252172 "
       ]
      },
      {
       "output_type": "stream",
       "stream": "stderr",
       "text": [
        "252173 252174 "
       ]
      },
      {
       "output_type": "stream",
       "stream": "stderr",
       "text": [
        "252175 252176 "
       ]
      },
      {
       "output_type": "stream",
       "stream": "stderr",
       "text": [
        "252177 252178 "
       ]
      },
      {
       "output_type": "stream",
       "stream": "stderr",
       "text": [
        "252179 252180 "
       ]
      },
      {
       "output_type": "stream",
       "stream": "stderr",
       "text": [
        "252181 252182 "
       ]
      },
      {
       "output_type": "stream",
       "stream": "stderr",
       "text": [
        "252183 252184 "
       ]
      },
      {
       "output_type": "stream",
       "stream": "stderr",
       "text": [
        "252185 252186 "
       ]
      },
      {
       "output_type": "stream",
       "stream": "stderr",
       "text": [
        "252187 252188 "
       ]
      },
      {
       "output_type": "stream",
       "stream": "stderr",
       "text": [
        "252189 252190 "
       ]
      },
      {
       "output_type": "stream",
       "stream": "stderr",
       "text": [
        "252191 252192 "
       ]
      },
      {
       "output_type": "stream",
       "stream": "stderr",
       "text": [
        "252193 252194 "
       ]
      },
      {
       "output_type": "stream",
       "stream": "stderr",
       "text": [
        "252195 252196 "
       ]
      },
      {
       "output_type": "stream",
       "stream": "stderr",
       "text": [
        "252197 252198 "
       ]
      },
      {
       "output_type": "stream",
       "stream": "stderr",
       "text": [
        "252199 252200 "
       ]
      },
      {
       "output_type": "stream",
       "stream": "stderr",
       "text": [
        "252201 252202 "
       ]
      },
      {
       "output_type": "stream",
       "stream": "stderr",
       "text": [
        "252203 252204 "
       ]
      },
      {
       "output_type": "stream",
       "stream": "stderr",
       "text": [
        "252205 252206 "
       ]
      },
      {
       "output_type": "stream",
       "stream": "stderr",
       "text": [
        "252207 252208 "
       ]
      },
      {
       "output_type": "stream",
       "stream": "stderr",
       "text": [
        "252209 252210 "
       ]
      },
      {
       "output_type": "stream",
       "stream": "stderr",
       "text": [
        "252211 252212 "
       ]
      },
      {
       "output_type": "stream",
       "stream": "stderr",
       "text": [
        "252213 252214 "
       ]
      },
      {
       "output_type": "stream",
       "stream": "stderr",
       "text": [
        "252215 252216 252217 "
       ]
      },
      {
       "output_type": "stream",
       "stream": "stderr",
       "text": [
        "252218 252219 "
       ]
      },
      {
       "output_type": "stream",
       "stream": "stderr",
       "text": [
        "252220 252221 "
       ]
      },
      {
       "output_type": "stream",
       "stream": "stderr",
       "text": [
        "252222 252223 "
       ]
      },
      {
       "output_type": "stream",
       "stream": "stderr",
       "text": [
        "252224 252225 "
       ]
      },
      {
       "output_type": "stream",
       "stream": "stderr",
       "text": [
        "252226 252227 252228 252229 "
       ]
      },
      {
       "output_type": "stream",
       "stream": "stderr",
       "text": [
        "252230 252231 "
       ]
      },
      {
       "output_type": "stream",
       "stream": "stderr",
       "text": [
        "252232 252233 "
       ]
      },
      {
       "output_type": "stream",
       "stream": "stderr",
       "text": [
        "252234 252235 "
       ]
      },
      {
       "output_type": "stream",
       "stream": "stderr",
       "text": [
        "252236 252237 "
       ]
      },
      {
       "output_type": "stream",
       "stream": "stderr",
       "text": [
        "252238 252239 "
       ]
      },
      {
       "output_type": "stream",
       "stream": "stderr",
       "text": [
        "252240 252241 "
       ]
      },
      {
       "output_type": "stream",
       "stream": "stderr",
       "text": [
        "252242 252243 "
       ]
      },
      {
       "output_type": "stream",
       "stream": "stderr",
       "text": [
        "252244 252245 "
       ]
      },
      {
       "output_type": "stream",
       "stream": "stderr",
       "text": [
        "252246 252247 "
       ]
      },
      {
       "output_type": "stream",
       "stream": "stderr",
       "text": [
        "252248 252249 "
       ]
      },
      {
       "output_type": "stream",
       "stream": "stderr",
       "text": [
        "252250 252251 "
       ]
      },
      {
       "output_type": "stream",
       "stream": "stderr",
       "text": [
        "252252 252253 "
       ]
      },
      {
       "output_type": "stream",
       "stream": "stderr",
       "text": [
        "252254 252255 "
       ]
      },
      {
       "output_type": "stream",
       "stream": "stderr",
       "text": [
        "252256 252257 "
       ]
      },
      {
       "output_type": "stream",
       "stream": "stderr",
       "text": [
        "252258 252259 "
       ]
      },
      {
       "output_type": "stream",
       "stream": "stderr",
       "text": [
        "252260 252261 "
       ]
      },
      {
       "output_type": "stream",
       "stream": "stderr",
       "text": [
        "252262 252263 "
       ]
      },
      {
       "output_type": "stream",
       "stream": "stderr",
       "text": [
        "252264 252265 "
       ]
      },
      {
       "output_type": "stream",
       "stream": "stderr",
       "text": [
        "252266 252267 "
       ]
      },
      {
       "output_type": "stream",
       "stream": "stderr",
       "text": [
        "252268 252269 252270 "
       ]
      },
      {
       "output_type": "stream",
       "stream": "stderr",
       "text": [
        "252271 252272 252273 "
       ]
      },
      {
       "output_type": "stream",
       "stream": "stderr",
       "text": [
        "252274 252275 "
       ]
      },
      {
       "output_type": "stream",
       "stream": "stdout",
       "text": [
        "ARRA\n",
        "0.0858208955224"
       ]
      },
      {
       "output_type": "stream",
       "stream": "stdout",
       "text": [
        "\n",
        "5.77718550107\n"
       ]
      },
      {
       "output_type": "stream",
       "stream": "stderr",
       "text": [
        "252276 252277 "
       ]
      }
     ],
     "prompt_number": 7
    },
    {
     "cell_type": "code",
     "collapsed": false,
     "input": [
      "# Graphing cell\n",
      "#data = filtered_data\n",
      "data = data_to_graph\n",
      "\n",
      "x = [date2num(date) for (date, value) in data]\n",
      "y = [int(value) for (date, value) in data]\n",
      "\n",
      "# TARP\n",
      "#xmin = date2num( datetime.datetime( 2007, 1, 1 ) )\n",
      "#xmax = date2num( datetime.datetime( 2008, 10, 15 ) ) \n",
      "\n",
      "# Dodd-Frank\n",
      "#xmax = date2num( datetime.datetime( 2010, 8, 1 ) )\n",
      "\n",
      "#ARRA\n",
      "#xmin = date2num( datetime.datetime( 2007, 1, 1 ) )\n",
      "#xmax = date2num( datetime.datetime( 2009,2,15) )\n",
      "\n",
      "min_date = min( [ i[0] for i in data ] )\n",
      "max_date = max( [ i[0] for i in data ] )\n",
      "\n",
      "starting_month = datetime.datetime( min_date.year, min_date.month, day=1 )\n",
      "ending_month = max_date + dateutil.relativedelta.relativedelta( months=1 )\n",
      "ending_month = datetime.datetime( ending_month.year, ending_month.month, day=1 )\n",
      "#print starting_month\n",
      "#print ending_month \n",
      "\n",
      "months = []\n",
      "current_month = starting_month\n",
      "while current_month <= ending_month:\n",
      "    months.append( current_month )\n",
      "    current_month += dateutil.relativedelta.relativedelta( months=1 )\n",
      "    \n",
      "#print months\n",
      "\n",
      "fig = plt.figure()\n",
      "figsize( 10,6 )\n",
      "graph = fig.add_subplot(111)\n",
      "\n",
      "graph.scatter(x,y, s=5, c='k', marker='o', alpha=1)\n",
      "\n",
      "plt.xlabel( 'Date', fontsize='large' )\n",
      "plt.ylabel( 'Bill Section', fontsize='large' )\n",
      "\n",
      "# Set the xtick locations to correspond to just the dates you entered.\n",
      "\n",
      "month_nums = [ date2num( date ) for date in months ] \n",
      "graph.set_xticks( month_nums )\n",
      "num_sections = max(y)\n",
      "plt.ylim( (0,num_sections+1) )\n",
      "#plt.ylim( ( 225, 250 ) )\n",
      "\n",
      "plt.xlim( ( min(x)-15, max(x)+15 ) )\n",
      "plt.gca().invert_yaxis()\n",
      "graph.yaxis.set_label_position(\"right\")\n",
      "graph.yaxis.tick_right()\n",
      "\n",
      "# Set the xtick labels to correspond to just the dates you entered.\n",
      "graph.set_xticklabels(\n",
      "        [date.strftime(\"%Y-%m\") for date in months ], rotation=90, fontsize='large'\n",
      "        )\n",
      "\n",
      "plt.show()"
     ],
     "language": "python",
     "metadata": {},
     "outputs": [
      {
       "output_type": "display_data",
       "png": "[encoded data removed]"
      }
     ],
     "prompt_number": 9
    },
    {
     "cell_type": "code",
     "collapsed": false,
     "input": [
      "ct = 0\n",
      "data = []\n",
      "for query_idx, top_matches in top_matches_dates:\n",
      "    #if query_idx in exclude:\n",
      "    #    pass\n",
      "    #else:\n",
      "    if 1:\n",
      "        section_idx = data_list_of_dicts[query_idx]['sec_sequence']\n",
      "        for match_idx, date in top_matches:\n",
      "            #if match_idx in target_indices:\n",
      "            #    assert date == '0000-00-00'\n",
      "            #    # ARRA\n",
      "            #    dt = datetime.datetime( 2009, 1, 6 )\n",
      "            #    # Dodd-Frank\n",
      "            #    #dt = datetime.datetime( 2010, 7, 21 )\n",
      "            #    data.append( ( dt, section_idx ) )\n",
      "            if date == '0000-00-00':\n",
      "                print match_idx\n",
      "                ct += 1\n",
      "            else:\n",
      "                dt = datetime.datetime.strptime( date, \"%Y-%m-%d\" )\n",
      "                data.append( ( dt, section_idx ) )\n"
     ],
     "language": "python",
     "metadata": {},
     "outputs": [
      {
       "output_type": "stream",
       "stream": "stdout",
       "text": [
        "195264\n",
        "195290\n"
       ]
      }
     ],
     "prompt_number": 44
    },
    {
     "cell_type": "code",
     "collapsed": false,
     "input": [
      "import cPickle\n",
      "import utils_text\n",
      "reload( utils_text )\n",
      "with open( '../../../../interactiveml/labelcli/outputs/query_match_results.pkl.bak' ) as f:\n",
      "    query_match_results = cPickle.load( f )\n",
      "\n",
      "with open( './query_match.pkl' ) as f:\n",
      "    query_match = cPickle.load( f )\n",
      "\n",
      "query_indices = [i[0] for i in query_match ]\n",
      "#print len( query_indices )\n",
      "#print len( query_match_results )\n",
      "indices_results_dict = dict( zip( query_indices, query_match_results ) )\n",
      "\n",
      "lengths_jaccards = []\n",
      "\n",
      "for index, ( query_text, match_text ) in query_match:\n",
      "    length = len( query_text.split() )\n",
      "    query_text_set = set( query_text.split() )\n",
      "    match_text_set = set( match_text.split() )\n",
      "    jaccard = utils_text.jaccard( query_text_set, match_text_set )\n",
      "    lengths_jaccards.append( (length, jaccard) )\n",
      "    "
     ],
     "language": "python",
     "metadata": {},
     "outputs": [],
     "prompt_number": 45
    },
    {
     "cell_type": "code",
     "collapsed": false,
     "input": [
      "reload( utils_bill_trajectory )\n",
      "\n"
     ],
     "language": "python",
     "metadata": {},
     "outputs": [
      {
       "output_type": "stream",
       "stream": "stdout",
       "text": [
        "0.572549019608\n",
        "28.2095238095\n"
       ]
      }
     ],
     "prompt_number": 160
    },
    {
     "cell_type": "code",
     "collapsed": false,
     "input": [
      "def get_section_intro_dates( target_bill_date, datetimes_sections ):\n",
      "    section_numbers = set( [ i[1] for i in filtered_data ] )\n",
      "    num_sections = len( section_numbers )\n",
      "    dates_by_section_dict = collections.defaultdict( list )\n",
      "    for dt, section in datetimes_sections:\n",
      "        dates_by_section_dict[section].append( dt.date() )\n",
      "        \n",
      "    section_intro_dates = {}\n",
      "    for section, dates in dates_by_section_dict.items():\n",
      "        section_intro_dates[section] = min( dates )\n",
      "        \n",
      "    assert len( section_intro_dates ) == num_sections \n",
      "    \n",
      "    return section_intro_dates\n",
      "\n",
      "def get_week_threshold_metric( section_intro_dates, target_bill_date, week_threshold=12 ):\n",
      "    num_weeks_before_threshold = 0\n",
      "    for section, intro_date in section_intro_dates.items():\n",
      "        timedelta = target_bill_date - intro_date\n",
      " \n",
      "        weeks = timedelta.days / 7.0\n",
      "        if weeks > week_threshold:\n",
      "            num_weeks_before_threshold += 1\n",
      "            \n",
      "    week_threshold_metric = float( num_weeks_before_threshold ) / len( section_intro_dates )\n",
      "    \n",
      "    return week_threshold_metric\n",
      "\n",
      "def get_average_gestation_metric( section_intro_dates, target_bill_date ):\n",
      "    section_weeks_before_dict = {}\n",
      "    for section, intro_date in section_intro_dates.items():\n",
      "        timedelta = target_bill_date - intro_date\n",
      "        weeks = timedelta.days / 7.0\n",
      "        section_weeks_before_dict[section] = weeks\n",
      "        \n",
      "    average_gestation_metric = sum( section_weeks_before_dict.values() ) / len( section_weeks_before_dict )\n",
      "    return average_gestation_metric\n",
      "            "
     ],
     "language": "python",
     "metadata": {},
     "outputs": [],
     "prompt_number": 114
    },
    {
     "cell_type": "code",
     "collapsed": false,
     "input": [
      "x = collections.defaultdict( list )\n",
      "x['1'].append( 123 )\n",
      "print x"
     ],
     "language": "python",
     "metadata": {},
     "outputs": [
      {
       "output_type": "stream",
       "stream": "stdout",
       "text": [
        "defaultdict(<type 'list'>, {'1': [123]})\n"
       ]
      }
     ],
     "prompt_number": 67
    }
   ],
   "metadata": {}
  }
 ]
}