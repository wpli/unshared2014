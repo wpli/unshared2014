{
 "metadata": {
  "name": ""
 },
 "nbformat": 3,
 "nbformat_minor": 0,
 "worksheets": [
  {
   "cells": [
    {
     "cell_type": "code",
     "collapsed": false,
     "input": [
      "import os, sys\n",
      "sys.path.append( '../utils' )\n",
      "import utils_bill_trajectory\n",
      "import utils_search\n",
      "import dateutil\n",
      "import datetime\n",
      "import collections\n",
      "#from matplotlib import pyplot as plt\n",
      "from matplotlib.dates import date2num"
     ],
     "language": "python",
     "metadata": {},
     "outputs": [],
     "prompt_number": 63
    },
    {
     "cell_type": "code",
     "collapsed": false,
     "input": [
      "reload( utils_bill_trajectory )\n",
      "data_list_of_dicts = utils_bill_trajectory.get_data_list_of_dicts()\n",
      "data_list_sets = utils_bill_trajectory.get_data_list_sets( data_list_of_dicts )\n",
      "word_inverted_index = utils_bill_trajectory.get_word_inverted_index( data_list_sets )"
     ],
     "language": "python",
     "metadata": {},
     "outputs": [
      {
       "output_type": "stream",
       "stream": "stderr",
       "text": [
        "0 10000 "
       ]
      },
      {
       "output_type": "stream",
       "stream": "stderr",
       "text": [
        "20000 30000 "
       ]
      },
      {
       "output_type": "stream",
       "stream": "stderr",
       "text": [
        "40000 50000 "
       ]
      },
      {
       "output_type": "stream",
       "stream": "stderr",
       "text": [
        "60000 70000 "
       ]
      },
      {
       "output_type": "stream",
       "stream": "stderr",
       "text": [
        "80000 90000 "
       ]
      },
      {
       "output_type": "stream",
       "stream": "stderr",
       "text": [
        "100000 110000 "
       ]
      },
      {
       "output_type": "stream",
       "stream": "stderr",
       "text": [
        "120000 130000 "
       ]
      },
      {
       "output_type": "stream",
       "stream": "stderr",
       "text": [
        "140000 150000 "
       ]
      },
      {
       "output_type": "stream",
       "stream": "stderr",
       "text": [
        "160000 170000 "
       ]
      },
      {
       "output_type": "stream",
       "stream": "stderr",
       "text": [
        "180000 190000 "
       ]
      },
      {
       "output_type": "stream",
       "stream": "stderr",
       "text": [
        "200000 210000 "
       ]
      },
      {
       "output_type": "stream",
       "stream": "stderr",
       "text": [
        "220000 230000 "
       ]
      },
      {
       "output_type": "stream",
       "stream": "stderr",
       "text": [
        "240000 250000 "
       ]
      },
      {
       "output_type": "stream",
       "stream": "stderr",
       "text": [
        "0 10000 "
       ]
      },
      {
       "output_type": "stream",
       "stream": "stderr",
       "text": [
        "20000 30000 "
       ]
      },
      {
       "output_type": "stream",
       "stream": "stderr",
       "text": [
        "40000 50000 "
       ]
      },
      {
       "output_type": "stream",
       "stream": "stderr",
       "text": [
        "60000 70000 "
       ]
      },
      {
       "output_type": "stream",
       "stream": "stderr",
       "text": [
        "80000 90000 "
       ]
      },
      {
       "output_type": "stream",
       "stream": "stderr",
       "text": [
        "100000 110000 "
       ]
      },
      {
       "output_type": "stream",
       "stream": "stderr",
       "text": [
        "120000 130000 "
       ]
      },
      {
       "output_type": "stream",
       "stream": "stderr",
       "text": [
        "140000 150000 "
       ]
      },
      {
       "output_type": "stream",
       "stream": "stderr",
       "text": [
        "160000 170000 "
       ]
      },
      {
       "output_type": "stream",
       "stream": "stderr",
       "text": [
        "180000 190000 "
       ]
      },
      {
       "output_type": "stream",
       "stream": "stderr",
       "text": [
        "200000 210000 "
       ]
      },
      {
       "output_type": "stream",
       "stream": "stderr",
       "text": [
        "220000 230000 "
       ]
      },
      {
       "output_type": "stream",
       "stream": "stderr",
       "text": [
        "240000 250000 "
       ]
      }
     ],
     "prompt_number": 117
    },
    {
     "cell_type": "code",
     "collapsed": false,
     "input": [
      "bill_name_dict = { 'TARP': 'hr1424-110-enr', 'HERA': 'hr3221-110-enr', 'Dodd-Frank': 'hr4173-111-enr', \n",
      "                  'ARRA': 'hr1-111-as2', 'FHA2007': 's2338-110-es' }\n"
     ],
     "language": "python",
     "metadata": {},
     "outputs": [],
     "prompt_number": 326
    },
    {
     "cell_type": "code",
     "collapsed": false,
     "input": [
      "#for bill in ( \"TARP\", \"HERA\", \"Dodd-Frank\", \"ARRA\" ):\n",
      "bill = 'FHA2007'\n",
      "if 1:\n",
      "    print bill\n",
      "    target_bill = bill_name_dict[bill]\n",
      "    target_indices = [ idx for idx, i in enumerate( data_list_of_dicts ) if i['bill_version'] == target_bill ]\n",
      "\n",
      "    target_top_matches = utils_bill_trajectory.get_target_top_matches( target_indices, data_list_sets, word_inverted_index )\n",
      "    target_top_matches_jaccard = utils_bill_trajectory.get_target_top_matches_jaccard( target_top_matches, data_list_sets )\n",
      "    with open( '%s_top_matches_jaccard.pkl' % bill , 'w' ) as f:\n",
      "        cPickle.dump( target_top_matches_jaccard, f )"
     ],
     "language": "python",
     "metadata": {},
     "outputs": [
      {
       "output_type": "stream",
       "stream": "stderr",
       "text": [
        "98110 98111 "
       ]
      },
      {
       "output_type": "stream",
       "stream": "stderr",
       "text": [
        "98112 98113 "
       ]
      },
      {
       "output_type": "stream",
       "stream": "stderr",
       "text": [
        "98114 98115 "
       ]
      },
      {
       "output_type": "stream",
       "stream": "stderr",
       "text": [
        "98116 98117 "
       ]
      },
      {
       "output_type": "stream",
       "stream": "stderr",
       "text": [
        "98118 98119 "
       ]
      },
      {
       "output_type": "stream",
       "stream": "stderr",
       "text": [
        "98120 98121 "
       ]
      },
      {
       "output_type": "stream",
       "stream": "stderr",
       "text": [
        "98122 98123 "
       ]
      },
      {
       "output_type": "stream",
       "stream": "stderr",
       "text": [
        "98124 98125 "
       ]
      },
      {
       "output_type": "stream",
       "stream": "stderr",
       "text": [
        "98126 98127 "
       ]
      },
      {
       "output_type": "stream",
       "stream": "stderr",
       "text": [
        "98128 98129 "
       ]
      },
      {
       "output_type": "stream",
       "stream": "stderr",
       "text": [
        "98130 98131 "
       ]
      },
      {
       "output_type": "stream",
       "stream": "stderr",
       "text": [
        "98132 98133 "
       ]
      },
      {
       "output_type": "stream",
       "stream": "stderr",
       "text": [
        "98134 98135 "
       ]
      },
      {
       "output_type": "stream",
       "stream": "stderr",
       "text": [
        "98136 98137 "
       ]
      },
      {
       "output_type": "stream",
       "stream": "stderr",
       "text": [
        "98138 98139 "
       ]
      },
      {
       "output_type": "stream",
       "stream": "stderr",
       "text": [
        "98140 98141 "
       ]
      },
      {
       "output_type": "stream",
       "stream": "stderr",
       "text": [
        "98142 98143 "
       ]
      },
      {
       "output_type": "stream",
       "stream": "stderr",
       "text": [
        "98144 98145 "
       ]
      },
      {
       "output_type": "stream",
       "stream": "stderr",
       "text": [
        "98146 98147 "
       ]
      },
      {
       "output_type": "stream",
       "stream": "stdout",
       "text": [
        "FHA2007\n"
       ]
      }
     ],
     "prompt_number": 327
    },
    {
     "cell_type": "code",
     "collapsed": false,
     "input": [
      "reload( utils_bill_trajectory )\n",
      "\n",
      "#for bill in ( \"HERA\", \"Dodd-Frank\", \"ARRA\" ):\n",
      "bill = \"FHA2007\"\n",
      "if 1:\n",
      "    print bill\n",
      "    target_bill = bill_name_dict[bill]\n",
      "    target_indices = [ idx for idx, i in enumerate( data_list_of_dicts ) if i['bill_version'] == target_bill ]\n",
      "\n",
      "    #target_top_matches = utils_bill_trajectory.get_target_top_matches( target_indices, data_list_sets, word_inverted_index )\n",
      "    #target_top_matches_jaccard = utils_bill_trajectory.get_target_top_matches_jaccard( target_top_matches, data_list_sets )\n",
      "    with open( '%s_top_matches_jaccard.pkl' % bill ) as f:\n",
      "        target_top_matches_jaccard = cPickle.load( f )\n",
      "\n",
      "    data_to_graph = []\n",
      "    idx_datetime_section_jaccard = []\n",
      "    \n",
      "    # special case for Dodd-Frank: date is listed as 0000-00-00\n",
      "    \n",
      "    if bill == \"Dodd-Frank\":\n",
      "        for target_idx in target_indices:\n",
      "            if data_list_of_dicts[target_idx]['IssuedOn'] == '0000-00-00':\n",
      "                data_list_of_dicts[target_idx]['IssuedOn'] = '2010-07-15'\n",
      "        \n",
      "    target_bill_date_text = data_list_of_dicts[ list( target_indices )[0] ]['IssuedOn']\n",
      "    \n",
      "    \n",
      "    #print target_bill_date\n",
      "    target_bill_datetime = datetime.datetime.strptime( target_bill_date_text, \"%Y-%m-%d\" )\n",
      "    target_bill_date = target_bill_datetime.date()\n",
      "    \n",
      "    for query_idx, matches in target_top_matches_jaccard:\n",
      "        sys.stderr.write( \"%s \" % query_idx ) \n",
      "        for match_idx, jaccard in matches:\n",
      "        \n",
      "            if utils_bill_trajectory.is_match( \\\n",
      "                                                data_list_of_dicts[match_idx], \\\n",
      "                                                target_bill_date, data_list_of_dicts[query_idx], \\\n",
      "                                                jaccard, \\\n",
      "                                                include_future=True ):\n",
      "                match_date_text = data_list_of_dicts[match_idx]['IssuedOn']\n",
      "                match_datetime = datetime.datetime.strptime( match_date_text, \"%Y-%m-%d\" )\n",
      "                section_idx = data_list_of_dicts[query_idx]['sec_sequence']\n",
      "                data_to_graph.append( ( match_datetime, section_idx ) )\n",
      "                idx_datetime_section_jaccard.append( ( match_idx, match_datetime, section_idx, jaccard ) )\n",
      "                \n",
      "    # compute metrics\n",
      "    target_bill_date = data_list_of_dicts[ list( target_indices )[0] ]['IssuedOn']\n",
      "    #print target_bill_date\n",
      "    target_bill_datetime = datetime.datetime.strptime( target_bill_date, \"%Y-%m-%d\" )\n",
      "    target_bill_date = target_bill_datetime.date()\n",
      "    \n",
      "    section_intro_dates = utils_bill_trajectory.get_section_intro_dates( target_bill_date, data_to_graph )\n",
      "    week_threshold_metric = utils_bill_trajectory.get_week_threshold_metric( section_intro_dates, target_bill_date, week_threshold=12 )\n",
      "    average_gestation_metric = utils_bill_trajectory.get_average_gestation_metric( section_intro_dates, target_bill_date )\n",
      "    \n",
      "    print week_threshold_metric\n",
      "    print average_gestation_metric\n",
      "\n",
      "\n",
      "\n"
     ],
     "language": "python",
     "metadata": {},
     "outputs": [
      {
       "output_type": "stream",
       "stream": "stderr",
       "text": [
        "98110 98111 98112 "
       ]
      },
      {
       "output_type": "stream",
       "stream": "stderr",
       "text": [
        "98113 98114 98115 "
       ]
      },
      {
       "output_type": "stream",
       "stream": "stderr",
       "text": [
        "98116 98117 "
       ]
      },
      {
       "output_type": "stream",
       "stream": "stderr",
       "text": [
        "98118 98119 "
       ]
      },
      {
       "output_type": "stream",
       "stream": "stderr",
       "text": [
        "98120 98121 "
       ]
      },
      {
       "output_type": "stream",
       "stream": "stderr",
       "text": [
        "98122 98123 "
       ]
      },
      {
       "output_type": "stream",
       "stream": "stderr",
       "text": [
        "98124 98125 98126 "
       ]
      },
      {
       "output_type": "stream",
       "stream": "stderr",
       "text": [
        "98127 98128 "
       ]
      },
      {
       "output_type": "stream",
       "stream": "stderr",
       "text": [
        "98129 98130 "
       ]
      },
      {
       "output_type": "stream",
       "stream": "stderr",
       "text": [
        "98131 98132 "
       ]
      },
      {
       "output_type": "stream",
       "stream": "stderr",
       "text": [
        "98133 98134 "
       ]
      },
      {
       "output_type": "stream",
       "stream": "stderr",
       "text": [
        "98135 98136 "
       ]
      },
      {
       "output_type": "stream",
       "stream": "stderr",
       "text": [
        "98137 98138 98139 "
       ]
      },
      {
       "output_type": "stream",
       "stream": "stderr",
       "text": [
        "98140 98141 "
       ]
      },
      {
       "output_type": "stream",
       "stream": "stderr",
       "text": [
        "98142 98143 "
       ]
      },
      {
       "output_type": "stream",
       "stream": "stderr",
       "text": [
        "98144 98145 "
       ]
      },
      {
       "output_type": "stream",
       "stream": "stderr",
       "text": [
        "98146 98147 "
       ]
      },
      {
       "output_type": "stream",
       "stream": "stdout",
       "text": [
        "FHA2007\n",
        "0.368421052632"
       ]
      },
      {
       "output_type": "stream",
       "stream": "stdout",
       "text": [
        "\n",
        "15.4586466165\n"
       ]
      }
     ],
     "prompt_number": 330
    },
    {
     "cell_type": "code",
     "collapsed": false,
     "input": [],
     "language": "python",
     "metadata": {},
     "outputs": [
      {
       "output_type": "stream",
       "stream": "stdout",
       "text": [
        "2007-12-14\n"
       ]
      }
     ],
     "prompt_number": 333
    },
    {
     "cell_type": "code",
     "collapsed": false,
     "input": [
      "bill_SecCounts = {}\n",
      "for i in data_list_of_dicts:\n",
      "    bill_SecCounts[i['bill_version']] = i['SecCount']\n"
     ],
     "language": "python",
     "metadata": {},
     "outputs": [],
     "prompt_number": 306
    },
    {
     "cell_type": "code",
     "collapsed": false,
     "input": [
      "print data_list_of_dicts[target_indices[0]]"
     ],
     "language": "python",
     "metadata": {},
     "outputs": [
      {
       "output_type": "stream",
       "stream": "stdout",
       "text": [
        "{'IssuedOn': '2008-07-28', 'bill_version': 'hr3221-110-enr', 'sec_sequence': '1', 'SecCount': '255', 'BillVer': 'enr', 'sec_id': '141539', 'text': '                                 An Act         To provide needed housing reform and for other purposes.    Be it enacted by the Senate and House of Representatives of the United States of America in Congress assembled,', 'Bill_id': '439423', 'Cong': '110', 'sec_length': '229', 'bill_ver_id': '16139', 'BillNum': '3221', 'BillType': 'hr'}\n"
       ]
      }
     ],
     "prompt_number": 314
    },
    {
     "cell_type": "code",
     "collapsed": false,
     "input": [
      "print bill_conserved_sections\n",
      "print bill_SecCounts['hr3221-110-enr']"
     ],
     "language": "python",
     "metadata": {},
     "outputs": [
      {
       "output_type": "stream",
       "stream": "stdout",
       "text": [
        "Counter({'hr3221-110-enr': 268, 'hr3221-110-eah2': 266, 'hr3221-110-eas2': 223, 'hr6521-110-ih': 71, 'hr3221-110-eas': 59, 'hr3221-110-eah': 54, 's1100-110-is': 41, 'hr5857-110-ih': 35, 's2734-110-pcs': 31, 's2338-110-pcs': 26, 's2338-110-es': 26, 'hr5720-110-rh': 18, 'hr1427-110-rfs': 17, 'hr1427-110-rh': 17, 'hr1427-110-eh': 17, 'hr1427-110-ih': 15, 'hr5720-110-ih': 15, 'hr3915-110-eh': 10, 'hr3915-110-rfs': 10, 's2595-110-is': 9, 'hr1852-110-rh': 9, 'hr1852-110-rfs': 8, 'hr1852-110-eh': 8, 'hr3915-110-rh': 7, 'hr1852-110-ih': 6, 's1741-110-is': 6, 'hr2139-110-eh': 6, 'hr2139-110-rfs': 6, 'hr2139-110-rh': 6, 'hr2139-110-ih': 6, 's2325-110-is': 6, 'hr1752-110-ih': 6, 's2640-110-is': 5, 's1315-110-es': 4, 's1315-110-rs': 4, 's2002-110-is': 3, 's2391-110-is': 3, 'hr6049-110-ih': 2, 's1096-110-is': 2, 's2636-110-pcs': 2, 's3125-110-is': 2, 'hr1147-110-ih': 2, 'hr6049-110-eh': 2, 'hr6049-110-pcs': 2, 'hr6049-110-rh': 2, 'hr3996-110-eh': 1, 'hr3067-110-eh': 1, 'hr6275-110-rfs': 1, 'hr6275-110-ih': 1, 'hr3162-110-rh': 1, 'hr5937-110-rfs': 1, 'hr3162-110-pcs': 1, 'hr1677-110-eh': 1, 'hr3996-110-rh': 1, 's2452-110-is': 1, 'hr3648-110-ih': 1, 'hr5937-110-ih': 1, 'hr3162-110-eh': 1, 'hr6275-110-rh': 1, 'hr3996-110-pcs': 1, 'hr976-110-eas': 1, 's809-110-is': 1, 'hr5830-110-rh': 1, 'hr1677-110-rh': 1, 's2768-110-is': 1, 's3036-110-pcs': 1, 's1893-110-pcs': 1, 'hr2954-110-ih': 1, 'hr3269-110-ih': 1, 'hr6275-110-eh': 1, 'hr3067-110-rfs': 1, 'hr6595-110-ih': 1, 's2625-110-is': 1, 's2191-110-is': 1, 'hr3996-110-ih': 1, 'hr3067-110-ih': 1, 'hr5937-110-eh': 1, 'hr3648-110-eh': 1, 'hr3648-110-rfs': 1, 'hr3648-110-rh': 1, 'hr1851-110-eh': 1, 'hr925-110-ih': 1, 'hr5824-110-ih': 1, 'hr3162-110-ih': 1, 's2191-110-rs': 1, 'hr1851-110-rfs': 1, 'hr1677-110-rfs': 1})\n",
        "255\n"
       ]
      }
     ],
     "prompt_number": 312
    },
    {
     "cell_type": "code",
     "collapsed": false,
     "input": [
      "bill_versions = []\n",
      "\n",
      "matching_indices = list( set( [ i[0] for i in idx_datetime_section_jaccard ]) )\n",
      "for idx in matching_indices:\n",
      "    bill_version = data_list_of_dicts[idx]['bill_version']\n",
      "    bill_versions.append( bill_version )\n",
      "\n",
      "    \n",
      "#for idx, dt, section, jaccard in idx_datetime_section_jaccard:\n",
      "#    bill_version = data_list_of_dicts[idx]['bill_version']\n",
      "#    bill_versions.append( bill_version )\n",
      "    \n",
      "bill_conserved_sections = collections.Counter( bill_versions )\n",
      "\n",
      "bill_proportion_conserved = []\n",
      "for bill, conserved_sections in bill_conserved_sections.items():\n",
      "    bill_proportion_conserved.append( ( bill, conserved_sections / float( bill_SecCounts[bill] ), conserved_sections ) )\n",
      "\n",
      "#print bill_conserved_sections    \n",
      "bill_proportion_conserved.sort( key=lambda x:x[1], reverse=True )\n",
      "bill_proportion_conserved.sort( key=lambda x:x[0] )\n",
      "print bill_proportion_conserved"
     ],
     "language": "python",
     "metadata": {},
     "outputs": [
      {
       "output_type": "stream",
       "stream": "stdout",
       "text": [
        "[('hr1147-110-ih', 0.1111111111111111, 2), ('hr1427-110-eh', 0.1686746987951807, 14), ('hr1427-110-ih', 0.1518987341772152, 12), ('hr1427-110-rfs', 0.1686746987951807, 14), ('hr1427-110-rh', 0.1728395061728395, 14), ('hr1677-110-eh', 0.08333333333333333, 1), ('hr1677-110-rfs', 0.08333333333333333, 1), ('hr1677-110-rh', 0.09090909090909091, 1), ('hr1752-110-ih', 0.3157894736842105, 6), ('hr1851-110-eh', 0.045454545454545456, 1), ('hr1851-110-rfs', 0.045454545454545456, 1), ('hr1852-110-eh', 0.2222222222222222, 8), ('hr1852-110-ih', 0.24, 6), ('hr1852-110-rfs', 0.2222222222222222, 8), ('hr1852-110-rh', 0.28125, 9), ('hr2139-110-eh', 0.6, 6), ('hr2139-110-ih', 0.75, 6), ('hr2139-110-rfs', 0.6, 6), ('hr2139-110-rh', 0.6, 6), ('hr2954-110-ih', 0.013888888888888888, 1), ('hr3067-110-eh', 0.5, 1), ('hr3067-110-ih', 0.5, 1), ('hr3067-110-rfs', 0.5, 1), ('hr3162-110-eh', 0.0058823529411764705, 1), ('hr3162-110-ih', 0.006289308176100629, 1), ('hr3162-110-pcs', 0.0058823529411764705, 1), ('hr3162-110-rh', 0.006172839506172839, 1), ('hr3221-110-eah', 0.2698412698412698, 51), ('hr3221-110-eah2', 0.9960629921259843, 253), ('hr3221-110-eas', 0.5514018691588785, 59), ('hr3221-110-eas2', 0.8842975206611571, 214), ('hr3221-110-enr', 1.0, 255), ('hr3269-110-ih', 0.018867924528301886, 1), ('hr3648-110-eh', 0.16666666666666666, 1), ('hr3648-110-ih', 0.2, 1), ('hr3648-110-rfs', 0.16666666666666666, 1), ('hr3648-110-rh', 0.16666666666666666, 1), ('hr3915-110-eh', 0.13333333333333333, 10), ('hr3915-110-rfs', 0.13333333333333333, 10), ('hr3915-110-rh', 0.12280701754385964, 7), ('hr3996-110-eh', 0.013333333333333334, 1), ('hr3996-110-ih', 0.01639344262295082, 1), ('hr3996-110-pcs', 0.013333333333333334, 1), ('hr3996-110-rh', 0.013333333333333334, 1), ('hr5720-110-ih', 0.45454545454545453, 15), ('hr5720-110-rh', 0.5454545454545454, 18), ('hr5824-110-ih', 0.5, 1), ('hr5830-110-rh', 0.045454545454545456, 1), ('hr5857-110-ih', 0.21621621621621623, 32), ('hr5937-110-eh', 1.0, 1), ('hr5937-110-ih', 1.0, 1), ('hr5937-110-rfs', 1.0, 1), ('hr6049-110-eh', 0.024691358024691357, 2), ('hr6049-110-ih', 0.023529411764705882, 2), ('hr6049-110-pcs', 0.024691358024691357, 2), ('hr6049-110-rh', 0.024691358024691357, 2), ('hr6275-110-eh', 0.07692307692307693, 1), ('hr6275-110-ih', 0.07692307692307693, 1), ('hr6275-110-rfs', 0.07692307692307693, 1), ('hr6275-110-rh', 0.07692307692307693, 1), ('hr6521-110-ih', 0.8421052631578947, 64), ('hr6595-110-ih', 0.05, 1), ('hr925-110-ih', 0.03225806451612903, 1), ('hr976-110-eas', 0.017241379310344827, 1), ('s1096-110-is', 0.3333333333333333, 2), ('s1100-110-is', 0.4794520547945205, 35), ('s1315-110-es', 0.07142857142857142, 4), ('s1315-110-rs', 0.07017543859649122, 4), ('s1741-110-is', 0.75, 6), ('s1893-110-pcs', 0.018867924528301886, 1), ('s2002-110-is', 0.16666666666666666, 3), ('s2191-110-is', 0.0072992700729927005, 1), ('s2191-110-rs', 0.005681818181818182, 1), ('s2325-110-is', 0.3157894736842105, 6), ('s2338-110-es', 0.6842105263157895, 26), ('s2338-110-pcs', 0.7027027027027027, 26), ('s2391-110-is', 0.375, 3), ('s2452-110-is', 0.02564102564102564, 1), ('s2595-110-is', 0.5294117647058824, 9), ('s2625-110-is', 0.3333333333333333, 1), ('s2636-110-pcs', 0.07407407407407407, 2), ('s2640-110-is', 0.08771929824561403, 5), ('s2734-110-pcs', 0.6458333333333334, 31), ('s2768-110-is', 1.0, 1), ('s3036-110-pcs', 0.005681818181818182, 1), ('s3125-110-is', 0.023255813953488372, 2), ('s809-110-is', 0.5, 1)]\n"
       ]
      }
     ],
     "prompt_number": 321
    },
    {
     "cell_type": "code",
     "collapsed": false,
     "input": [
      "print 26.0/38"
     ],
     "language": "python",
     "metadata": {},
     "outputs": [
      {
       "output_type": "stream",
       "stream": "stdout",
       "text": [
        "0.684210526316\n"
       ]
      }
     ],
     "prompt_number": 386
    },
    {
     "cell_type": "code",
     "collapsed": false,
     "input": [
      "data_list_of_dicts[0].keys()"
     ],
     "language": "python",
     "metadata": {},
     "outputs": [
      {
       "metadata": {},
       "output_type": "pyout",
       "prompt_number": 290,
       "text": [
        "['IssuedOn',\n",
        " 'bill_version',\n",
        " 'sec_sequence',\n",
        " 'SecCount',\n",
        " 'BillVer',\n",
        " 'sec_id',\n",
        " 'text',\n",
        " 'Bill_id',\n",
        " 'Cong',\n",
        " 'sec_length',\n",
        " 'bill_ver_id',\n",
        " 'BillNum',\n",
        " 'BillType']"
       ]
      }
     ],
     "prompt_number": 290
    },
    {
     "cell_type": "code",
     "collapsed": false,
     "input": [
      "# Federal Housing Finance Regulatory Reform Act of 2008 \n",
      "\n",
      "originating_bill = 'hr6521-110-ih'\n",
      "limited_data_to_graph = []\n",
      "for idx, dt, section, jaccard in idx_datetime_section_jaccard:\n",
      "    bill_version = data_list_of_dicts[idx]['bill_version']\n",
      "    if bill_version == originating_bill: #or bill_version == bill_name_dict['HERA']:\n",
      "        print idx, \n",
      "        limited_data_to_graph.append( ( dt, section ) )\n"
     ],
     "language": "python",
     "metadata": {},
     "outputs": [
      {
       "output_type": "stream",
       "stream": "stdout",
       "text": [
        "77956 77957 77958 77959 77960 77961 77962 77963 77964 77965 77966 77967 77968 77969 77970 77971 77972 77973 77974 77975 77976 77977 77978 77979 77982 77983 78022 78026 77984 77985 77986 77987 77988 77989 77990 77991 77992 77993 77994 77995 77996 77997 77998 77999 78000 78002 78003 78005 78006 78008 78009 78010 78011 78012 78013 78014 78015 78016 78017 78019 78020 78024 78021 78022 78026 77983 78024 78020 78025 78026 78022\n"
       ]
      }
     ],
     "prompt_number": 301
    },
    {
     "cell_type": "code",
     "collapsed": false,
     "input": [
      "# FHA Modernization Act of 2007\n",
      "\n",
      "originating_bill = 's2338-110-es'\n",
      "limited_data_to_graph = []\n",
      "originating_bill_data = []\n",
      "final_bill_data = []\n",
      "for idx, dt, section, jaccard in idx_datetime_section_jaccard:\n",
      "    bill_version = data_list_of_dicts[idx]['bill_version']\n",
      "    if bill_version == originating_bill:\n",
      "        originating_bill_data.append( ( dt, section) ) \n",
      "    elif bill_version == bill_name_dict['HERA']:\n",
      "        final_bill_data.append( ( dt, section ) )\n",
      "        \n",
      "\n",
      "        \n",
      "    \n",
      "    #limited_data_to_graph.append( ( dt, section ) )"
     ],
     "language": "python",
     "metadata": {},
     "outputs": [],
     "prompt_number": 355
    },
    {
     "cell_type": "code",
     "collapsed": false,
     "input": [
      "#print originating_bill_data\n",
      "final_bill_set = set( [i[1] for i in final_bill_data ] )\n",
      "missing_sections = []\n",
      "for i in originating_bill_data:\n",
      "    if i[1] not in final_bill_set:\n",
      "        missing_sections.append( i[1] )\n",
      "        \n",
      "missing_sections_set = set( missing_sections )\n",
      "\n",
      "for i in target_indices:\n",
      "    if data_list_of_dicts[i]['sec_sequence'] in missing_sections_set:\n",
      "        print data_list_of_dicts[i]['sec_sequence'], data_list_of_dicts[i]['text']"
     ],
     "language": "python",
     "metadata": {},
     "outputs": [
      {
       "output_type": "stream",
       "stream": "stdout",
       "text": [
        "\n",
        "1 SECTION 1. SHORT TITLE AND TABLE OF CONTENTS.    (a) Short Title.--This Act may be cited as the ``FHA Modernization Act of 2007''.    (b) Table of Contents.--The table of contents for this Act is as follows:Sec. 1. Short title and table of contents.\n",
        "\n",
        "2                 TITLE I--BUILDING AMERICAN HOMEOWNERSHIPSec. 101. Short title.Sec. 102. Maximum principal loan obligation.Sec. 103. Cash investment requirement and prohibition of seller-funded                             downpayment assistance.Sec. 104. Mortgage insurance premiums.Sec. 105. Rehabilitation loans.Sec. 106. Discretionary action.Sec. 107. Insurance of condominiums.Sec. 108. Mutual Mortgage Insurance Fund.Sec. 109. Hawaiian home lands and Indian reservations.Sec. 110. Conforming and technical amendments.Sec. 111. Insurance of mortgages.Sec. 112. Home equity conversion mortgages.Sec. 113. Energy efficient mortgages program.Sec. 114. Pilot program for automated process for borrowers without                             sufficient credit history.Sec. 115. Homeownership preservation.Sec. 116. Use of FHA savings for improvements in FHA technologies,                             procedures, processes, program performance,                             staffing, and salaries.Sec. 117. Post-purchase housing counseling eligibility improvements.Sec. 118. Pre-purchase homeownership counseling demonstration.Sec. 119. Fraud prevention.Sec. 120. Limitation on mortgage insurance premium increases.Sec. 121. Savings provision.Sec. 122. Implementation.Sec. 123. Moratorium on implementation of risk-based premiums.\n",
        "\n",
        "3            TITLE II--MANUFACTURED HOUSING LOAN MODERNIZATIONSec. 201. Short title.Sec. 202. Purposes.Sec. 203. Exception to limitation on financial institution portfolio.Sec. 204. Insurance benefits.Sec. 205. Maximum loan limits.Sec. 206. Insurance premiums.Sec. 207. Technical corrections.Sec. 208. Revision of underwriting criteria.Sec. 209. Prohibition against kickbacks and unearned fees.Sec. 210. Leasehold requirements.\n",
        "\n",
        "4                 TITLE I--BUILDING AMERICAN HOMEOWNERSHIP\n",
        "\n",
        "5 SEC. 101. SHORT TITLE.    This title may be cited as the ``Building American Homeownership Act of 2007''.\n",
        "\n",
        "6 SEC. 102. MAXIMUM PRINCIPAL LOAN OBLIGATION.    Paragraph (2) of section 203(b)(2) of the National Housing Act (12 U.S.C. 1709(b)(2)) is amended--            (1) by amending subparagraphs (A) and (B) to read as         follows:                    ``(A) not to exceed the lesser of--                            ``(i) in the case of a 1-family residence,                         the median 1-family house price in the area, as                         determined by the Secretary; and in the case of                         a 2-, 3-, or 4-family residence, the percentage                         of such median price that bears the same ratio                         to such median price as the dollar amount                         limitation in effect under section 305(a)(2) of                         the Federal Home Loan Mortgage Corporation Act                         (12 U.S.C. 1454(a)(2)) for a 2-, 3-, or 4-                        family residence, respectively, bears to the                         dollar amount limitation in effect under such                         section for a 1-family residence; or                            ``(ii) the dollar amount limitation                         determined under such section 305(a)(2) for a                         residence of the applicable size;                except that the dollar amount limitation in effect for                 any area under this subparagraph may not be less than                 the greater of (I) the dollar amount limitation in                 effect under this section for the area on October 21,                 1998, or (II) 65 percent of the dollar limitation                 determined under such section 305(a)(2) for a residence                 of the applicable size; and                    ``(B) not to exceed 100 percent of the appraised                 value of the property.''; and            (2) in the matter following subparagraph (B), by striking         the second sentence (relating to a definition of ``average         closing cost'') and all that follows through ``section 3103A(d)         of title 38, United States Code.''.\n",
        "\n",
        "7 SEC. 103. CASH INVESTMENT REQUIREMENT AND PROHIBITION OF SELLER-FUNDED               DOWNPAYMENT ASSISTANCE.    Paragraph 9 of section 203(b) of the National Housing Act (12 U.S.C. 1709(b)(9)) is amended to read as follows:            ``(9) Cash investment requirement.--                    ``(A) In general.--A mortgage insured under this                 section shall be executed by a mortgagor who shall have                 paid, in cash, on account of the property an amount                 equal to not less than 1.5 percent of the appraised                 value of the property or such larger amount as the                 Secretary may determine.                    ``(B) Family members.--For purposes of this                 paragraph, the Secretary shall consider as cash or its                 equivalent any amounts borrowed from a family member                 (as such term is defined in section 201), subject only                 to the requirements that, in any case in which the                 repayment of such borrowed amounts is secured by a lien                 against the property, that--                            ``(i) such lien shall be subordinate to the                         mortgage; and                            ``(ii) the sum of the principal obligation                         of the mortgage and the obligation secured by                         such lien may not exceed 100 percent of the                         appraised value of the property.                    ``(C) Prohibited sources.--In no case shall the                 funds required by subparagraph (A) consist, in whole or                 in part, of funds provided by any of the following                 parties before, during, or after closing of the                 property sale:                            ``(i) The seller or any other person or                         entity that financially benefits from the                         transaction.                            ``(ii) Any third party or entity that is                         reimbursed, directly or indirectly, by any of                         the parties described in clause (i).''.\n",
        "\n",
        "16 SEC. 112. HOME EQUITY CONVERSION MORTGAGES.    (a) In General.--Section 255 of the National Housing Act (12 U.S.C. 1715z-20) is amended--            (1) in subsection (b)(2), insert ```real estate,''' after         ```mortgagor','';            (2) in subsection (g)--                    (A) by striking the first sentence; and                    (B) by striking ``established under section                 203(b)(2)'' and all that follows through ``located''                 and inserting ``limitation established under section                 305(a)(2) of the Federal Home Loan Mortgage Corporation                 Act for a 1-family residence'';            (3) in subsection (i)(1)(C), by striking ``limitations''         and inserting ``limitation''; and            (4) by adding at the end the following new subsection:    ``(o) Authority To Insure Home Purchase Mortgage.--            ``(1) In general.--Notwithstanding any other provision of         this section, the Secretary may insure, upon application by a         mortgagee, a home equity conversion mortgage upon such terms         and conditions as the Secretary may prescribe, when the home         equity conversion mortgage will be used to purchase a 1- to 4-        family dwelling unit, one unit of which that the mortgagor will         occupy as a primary residence, and to provide for any future         payments to the mortgagor, based on available equity, as         authorized under subsection (d)(9).            ``(2) Limitation on principal obligation.--A home equity         conversion mortgage insured pursuant to paragraph (1) shall         involve a principal obligation that does not exceed the dollar         amount limitation determined under section 305(a)(2) of the         Federal Home Loan Mortgage Corporation Act for a 1-family         residence.''.    (b) Mortgages for Cooperatives.--Subsection (b) of section 255 of the National Housing Act (12 U.S.C. 1715z-20(b)) is amended--            (1) in paragraph (4)--                    (A) by inserting ``a first or subordinate mortgage                 or lien'' before ``on all stock'';                    (B) by inserting ``unit'' after ``dwelling''; and                    (C) by inserting ``a first mortgage or first lien''                 before ``on a leasehold''; and            (2) in paragraph (5), by inserting ``a first or subordinate         lien on'' before ``all stock''.    (c) Limitation on Origination Fees.--Section 255 of the National Housing Act (12 U.S.C. 1715z-20), as amended by the preceding provisions of this section, is further amended--            (1) by redesignating subsections (k), (l), and (m) as         subsections (l), (m), and (n), respectively; and            (2) by inserting after subsection (j) the following new         subsection:    ``(k) Limitation on Origination Fees.--The Secretary shall establish limits on the origination fee that may be charged to a mortgagor under a mortgage insured under this section, which limitations shall--            ``(1) equal 1.5 percent of the maximum claim amount of the         mortgage unless adjusted thereafter on the basis of--                    ``(A) the costs to the mortgagor; and                    ``(B) the impact of such fees on the reverse                 mortgage market;            ``(2) be subject to a minimum allowable amount;            ``(3) provide that the origination fee may be fully         financed with the mortgage;            ``(4) include any fees paid to correspondent mortgagees         approved by the Secretary; and            ``(5) have the same effective date as subsection (o)(2)         regarding the limitation on principal obligation.''.    (d) Study Regarding Program Costs and Credit Availability.--            (1) In general.--The Comptroller General of the United         States shall conduct a study regarding the costs and         availability of credit under the home equity conversion         mortgages for elderly homeowners program under section 255 of         the National Housing Act (12 U.S.C. 1715z-20) (in this         subsection referred to as the ``program'').            (2) Purpose.--The purpose of the study required under         paragraph (1) is to help Congress analyze and determine the         effects of limiting the amounts of the costs or fees under the         program from the amounts charged under the program as of the         date of the enactment of this Act.            (3) Content of report.--The study required under paragraph         (1) should focus on--                    (A) the cost to mortgagors of participating in the                 program;                    (B) the financial soundness of the program;                    (C) the availability of credit under the program;                 and                    (D) the costs to elderly homeowners participating                 in the program, including--                            (i) mortgage insurance premiums charged                         under the program;                            (ii) up-front fees charged under the                         program; and                            (iii) margin rates charged under the                         program.            (4) Timing of report.--Not later than 12 months after the         date of the enactment of this Act, the Comptroller General         shall submit a report to the Committee on Banking, Housing, and         Urban Affairs of the Senate and the Committee on Financial         Services of the House of Representatives setting forth the         results and conclusions of the study required under paragraph         (1).\n",
        "\n",
        "27 SEC. 123. MORATORIUM ON IMPLEMENTATION OF RISK-BASED PREMIUMS.    For the 12-month period beginning on the date of enactment of this Act, the Secretary of Housing and Urban Development shall not enact, execute, or take any action to make effective the planned implementation of risk-based premiums, which are designed for mortgage lenders to offer borrowers an FHA-insured product that provides a range of mortgage insurance premium pricing, based on the risk the insurance contract represents, as such planned implementation was set forth in the Notice published in the Federal Register on September 20, 2007 (Vol. 72, No. 182, Page 53872).\n",
        "\n",
        "28            TITLE II--MANUFACTURED HOUSING LOAN MODERNIZATION\n",
        "\n",
        "29 SEC. 201. SHORT TITLE.    This title may be cited as the ``FHA Manufactured Housing Loan Modernization Act of 2007''.\n",
        "\n",
        "38 SEC. 210. LEASEHOLD REQUIREMENTS.    Subsection (b) of section 2 of the National Housing Act (12 U.S.C. 1703(b)), as amended by the preceding provisions of this Act, is further amended by adding at the end the following new paragraph:            ``(11) Leasehold requirements.--No insurance shall be         granted under this section to any such financial institution         with respect to any obligation representing any such loan,         advance of credit, or purchase by it, made for the purposes of         financing a manufactured home which is intended to be situated         in a manufactured home community pursuant to a lease, unless         such lease--                    ``(A) expires not less than 3 years after the                 origination date of the obligation;                    ``(B) is renewable upon the expiration of the                 original 3 year term by successive 1 year terms; and                    ``(C) requires the lessor to provide the lessee                 written notice of termination of the lease not less                 than 180 days prior to the expiration of the current                 lease term in the event the lessee is required to move                 due to the closing of the manufactured home community,                 and further provides that failure to provide such                 notice to the mortgagor in a timely manner will cause                 the lease term, at its expiration, to automatically                 renew for an additional 1 year term.''.            Passed the Senate December 14, 2007.            Attest:                                                             Secretary.110th CONGRESS  1st Session                                S. 2338_______________________________________________________________________                                 AN ACTTo modernize and update the National Housing Act and enable the Federal Housing Administration to more effectively reach underserved borrowers,                         and for other purposes.\n"
       ]
      }
     ],
     "prompt_number": 364
    },
    {
     "cell_type": "code",
     "collapsed": false,
     "input": [
      "target_top_matches_jaccard_dict = dict( target_top_matches_jaccard )"
     ],
     "language": "python",
     "metadata": {},
     "outputs": [],
     "prompt_number": 368
    },
    {
     "cell_type": "code",
     "collapsed": false,
     "input": [
      "for i in target_indices:\n",
      "    sec_sequence = data_list_of_dicts[i]['sec_sequence'] \n",
      "    if sec_sequence in missing_sections_set:\n",
      "        print sec_sequence, data_list_of_dicts[i]['text'][:100]\n",
      "        if 1:\n",
      "        #if sec_sequence == '6':\n",
      "            ref_text = data_list_of_dicts[i]['text']\n",
      "            for match_idx, jaccard in target_top_matches_jaccard_dict[i]:\n",
      "                bill_version = data_list_of_dicts[match_idx]['bill_version']\n",
      "                if bill_version == 'hr3221-110-enr':\n",
      "                    print bill_version, jaccard\n",
      "                    if jaccard:\n",
      "                        query_text = data_list_of_dicts[match_idx]['text']\n",
      "        "
     ],
     "language": "python",
     "metadata": {},
     "outputs": [
      {
       "output_type": "stream",
       "stream": "stdout",
       "text": [
        "1 SECTION 1. SHORT TITLE AND TABLE OF CONTENTS.    (a) Short Title.--This Act may be cited as the ``FH\n",
        "2                 TITLE I--BUILDING AMERICAN HOMEOWNERSHIPSec. 101. Short title.Sec. 102. Maximum prin\n",
        "hr3221-110-enr 0.491228070175\n",
        "3            TITLE II--MANUFACTURED HOUSING LOAN MODERNIZATIONSec. 201. Short title.Sec. 202. Purposes\n",
        "hr3221-110-enr 0.210191082803\n",
        "4                 TITLE I--BUILDING AMERICAN HOMEOWNERSHIP\n",
        "hr3221-110-enr 0.166666666667\n",
        "hr3221-110-enr 0.15\n",
        "hr3221-110-enr 0.0204081632653\n",
        "hr3221-110-enr 0.0194805194805\n",
        "hr3221-110-enr 0.0104895104895\n",
        "hr3221-110-enr 0.00769230769231\n",
        "hr3221-110-enr 0.00324675324675\n",
        "5 SEC. 101. SHORT TITLE.    This title may be cited as the ``Building American Homeownership Act of 20\n",
        "hr3221-110-enr 0.736842105263\n",
        "hr3221-110-enr 0.590909090909\n",
        "6 SEC. 102. MAXIMUM PRINCIPAL LOAN OBLIGATION.    Paragraph (2) of section 203(b)(2) of the National H\n",
        "hr3221-110-enr 0.677631578947\n",
        "hr3221-110-enr 0.09410430839\n",
        "hr3221-110-enr 0.0863157894737\n",
        "7 SEC. 103. CASH INVESTMENT REQUIREMENT AND PROHIBITION OF SELLER-FUNDED               DOWNPAYMENT ASS\n",
        "hr3221-110-enr 0.815789473684\n",
        "hr3221-110-enr 0.0664383561644\n",
        "16 SEC. 112. HOME EQUITY CONVERSION MORTGAGES.    (a) In General.--Section 255 of the National Housing \n",
        "hr3221-110-enr 0.573934837093\n",
        "hr3221-110-enr 0.192810457516\n",
        "hr3221-110-enr 0.111925383078\n",
        "27 SEC. 123. MORATORIUM ON IMPLEMENTATION OF RISK-BASED PREMIUMS.    For the 12-month period beginning \n",
        "hr3221-110-enr 0.487804878049\n",
        "hr3221-110-enr 0.0580204778157\n",
        "28            TITLE II--MANUFACTURED HOUSING LOAN MODERNIZATION\n",
        "hr3221-110-enr 0.2\n",
        "hr3221-110-enr 0.043956043956\n",
        "hr3221-110-enr 0.0363636363636\n",
        "hr3221-110-enr 0.0307692307692\n",
        "hr3221-110-enr 0.0272108843537\n",
        "29 SEC. 201. SHORT TITLE.    This title may be cited as the ``FHA Manufactured Housing Loan Modernizati\n",
        "hr3221-110-enr 0.761904761905\n",
        "hr3221-110-enr 0.105263157895\n",
        "38 SEC. 210. LEASEHOLD REQUIREMENTS.    Subsection (b) of section 2 of the National Housing Act (12 U.S\n",
        "hr3221-110-enr 0.80985915493\n"
       ]
      }
     ],
     "prompt_number": 389
    },
    {
     "cell_type": "code",
     "collapsed": false,
     "input": [
      "print query_text"
     ],
     "language": "python",
     "metadata": {},
     "outputs": [
      {
       "output_type": "stream",
       "stream": "stdout",
       "text": [
        "SEC. 2112. MAXIMUM PRINCIPAL LOAN OBLIGATION.    (a) In General.--Paragraph (2) of section 203(b) of the National Housing Act (12 U.S.C. 1709(b)(2)) is amended--        (1) by striking subparagraphs (A) and (B) and inserting the     following:            ``(A) not to exceed the lesser of--                ``(i) in the case of a 1-family residence, 115 percent             of the median 1-family house price in the area, as             determined by the Secretary; and in the case of a 2-, 3-,             or 4-family residence, the percentage of such median price             that bears the same ratio to such median price as the             dollar amount limitation determined under the sixth             sentence of section 305(a)(2) of the Federal Home Loan             Mortgage Corporation Act (12 U.S.C. 1454(a)(2)) for a 2-,             3-, or 4-family residence, respectively, bears to the             dollar amount limitation determined under such section for             a 1-family residence; or                ``(ii) 150 percent of the dollar amount limitation             determined under the sixth sentence of such section             305(a)(2) for a residence of applicable size;        except that the dollar amount limitation in effect under this         subparagraph for any size residence for any area may not be         less than the greater of: (I) the dollar amount limitation in         effect under this section for the area on October 21, 1998; or         (II) 65 percent of the dollar amount limitation determined         under the sixth sentence of such section 305(a)(2) for a         residence of the applicable size; and            ``(B) not to exceed 100 percent of the appraised value of         the property.''; and        (2) in the matter following subparagraph (B), by striking the     second sentence (relating to a definition of ``average closing     cost'') and all that follows through ``section 3103A(d) of title     38, United States Code.''.    (b) Treatment of Up-Front Premiums.--Section 203(d) of the National Housing Act (12 U.S.C. 1709(d)) is amended--        (1) by striking ``Notwithstanding any'' and inserting the     following: ``Except as provided in paragraph (2) of this     subsection, notwithstanding'';        (2) by inserting ``(1)'' after ``(d)''; and        (3) by adding at the end the following new paragraph:    ``(2) The maximum amount of a mortgage determined under subsection (b)(2)(B) of this section may not be increased as provided in paragraph (1).''.    (c) Effective Date.-- The amendments made by subsection (a) shall take effect upon the expiration of the date described in section 202(a) of the Economic Stimulus Act of 2008 (Public Law 110-185; 122 Stat. 620).\n"
       ]
      }
     ],
     "prompt_number": 385
    },
    {
     "cell_type": "code",
     "collapsed": false,
     "input": [
      "with open( 'ref.txt', 'w' ) as f:\n",
      "    f.write( \"\\n\".join( ref_text.split('.') ) )\n",
      "\n",
      "with open( 'query.txt', 'w' ) as f:\n",
      "    f.write( \"\\n\".join( query_text.split('.') ) )"
     ],
     "language": "python",
     "metadata": {},
     "outputs": [],
     "prompt_number": 383
    },
    {
     "cell_type": "code",
     "collapsed": false,
     "input": [
      "print data_list_of_dicts[77956]['SecCount']\n",
      "print len( limited_data_to_graph )"
     ],
     "language": "python",
     "metadata": {},
     "outputs": [
      {
       "output_type": "stream",
       "stream": "stdout",
       "text": [
        "76\n",
        "71\n"
       ]
      }
     ],
     "prompt_number": 304
    },
    {
     "cell_type": "code",
     "collapsed": false,
     "input": [
      "total_valid_matches = 0\n",
      "for query_idx, matches in target_top_matches_jaccard:\n",
      "    valid_matches = len( [ i for i in matches if i[1] > 0.9 ] )\n",
      "    total_valid_matches += valid_matches\n",
      "    #for match_idx, jaccard in matches:\n",
      "    #    print \n",
      "print total_valid_matches"
     ],
     "language": "python",
     "metadata": {},
     "outputs": [
      {
       "output_type": "stream",
       "stream": "stdout",
       "text": [
        "865\n"
       ]
      }
     ],
     "prompt_number": 207
    },
    {
     "cell_type": "code",
     "collapsed": false,
     "input": [
      "# Graphing cell\n",
      "#data = filtered_data\n",
      "data = data_to_graph\n",
      "target_bill_data_only = [ i for i in data if i[0].date() == target_bill_date ]\n",
      "\n",
      "x = [date2num(date) for (date, value) in data]\n",
      "y = [int(value) for (date, value) in data]\n",
      "\n",
      "target_x = [date2num(date) for (date, value) in target_bill_data_only]\n",
      "target_y = [ int(value) for (date, value) in target_bill_data_only ] \n",
      "\n",
      "# TARP\n",
      "#xmin = date2num( datetime.datetime( 2007, 1, 1 ) )\n",
      "#xmax = date2num( datetime.datetime( 2008, 10, 15 ) ) \n",
      "\n",
      "# Dodd-Frank\n",
      "#xmax = date2num( datetime.datetime( 2010, 8, 1 ) )\n",
      "\n",
      "#ARRA\n",
      "#xmin = date2num( datetime.datetime( 2007, 1, 1 ) )\n",
      "#xmax = date2num( datetime.datetime( 2009,2,15) )\n",
      "\n",
      "min_date = min( [ i[0] for i in data ] )\n",
      "max_date = max( [ i[0] for i in data ] )\n",
      "\n",
      "starting_month = datetime.datetime( min_date.year, min_date.month, day=1 )\n",
      "ending_month = max_date + dateutil.relativedelta.relativedelta( months=1 )\n",
      "ending_month = datetime.datetime( ending_month.year, ending_month.month, day=1 )\n",
      "#print starting_month\n",
      "#print ending_month \n",
      "\n",
      "months = []\n",
      "current_month = starting_month\n",
      "while current_month <= ending_month:\n",
      "    months.append( current_month )\n",
      "    current_month += dateutil.relativedelta.relativedelta( months=1 )\n",
      "    \n",
      "#print months\n",
      "\n",
      "fig = plt.figure()\n",
      "figsize( 9,3 )\n",
      "graph = fig.add_subplot(111)\n",
      "\n",
      "graph.scatter(x,y, s=5, c='k', marker='o', alpha=1)\n",
      "graph.scatter(target_x, target_y, s=30, c='blue', marker='x', alpha=1)\n",
      "\n",
      "plt.xlabel( 'Date', fontsize='x-large' )\n",
      "plt.ylabel( 'Bill Section', fontsize='x-large' )\n",
      "plt.yticks( fontsize='small')\n",
      "# Set the xtick locations to correspond to just the dates you entered.\n",
      "\n",
      "month_nums = [ date2num( date ) for date in months ] \n",
      "graph.set_xticks( month_nums )\n",
      "num_sections = max(y)\n",
      "plt.ylim( (0,num_sections+1) )\n",
      "#plt.ylim( ( 225, 250 ) )\n",
      "\n",
      "plt.xlim( ( min(x)-15, max(x)+15 ) )\n",
      "\n",
      "plt.gca().invert_yaxis()\n",
      "graph.yaxis.set_label_position(\"right\")\n",
      "graph.yaxis.tick_right()\n",
      "\n",
      "# Set the xtick labels to correspond to just the dates you entered.\n",
      "graph.set_xticklabels(\n",
      "        [date.strftime(\"%Y-%m\") for date in months ], rotation=90, fontsize='x-large'\n",
      "        )\n",
      "#graph.set_yticklabels( fontsize='large' )\n",
      "\n",
      "plt.show()"
     ],
     "language": "python",
     "metadata": {},
     "outputs": [
      {
       "metadata": {},
       "output_type": "display_data",
       "png": "[encoded data removed]",
       "text": [
        "<matplotlib.figure.Figure at 0x1b5fbd490>"
       ]
      }
     ],
     "prompt_number": 453
    },
    {
     "cell_type": "code",
     "collapsed": false,
     "input": [
      "ct = 0\n",
      "data = []\n",
      "for query_idx, top_matches in top_matches_dates:\n",
      "    #if query_idx in exclude:\n",
      "    #    pass\n",
      "    #else:\n",
      "    if 1:\n",
      "        section_idx = data_list_of_dicts[query_idx]['sec_sequence']\n",
      "        for match_idx, date in top_matches:\n",
      "            #if match_idx in target_indices:\n",
      "            #    assert date == '0000-00-00'\n",
      "            #    # ARRA\n",
      "            #    dt = datetime.datetime( 2009, 1, 6 )\n",
      "            #    # Dodd-Frank\n",
      "            #    #dt = datetime.datetime( 2010, 7, 21 )\n",
      "            #    data.append( ( dt, section_idx ) )\n",
      "            if date == '0000-00-00':\n",
      "                print match_idx\n",
      "                ct += 1\n",
      "            else:\n",
      "                dt = datetime.datetime.strptime( date, \"%Y-%m-%d\" )\n",
      "                data.append( ( dt, section_idx ) )\n"
     ],
     "language": "python",
     "metadata": {},
     "outputs": [
      {
       "output_type": "stream",
       "stream": "stdout",
       "text": [
        "195264\n",
        "195290\n"
       ]
      }
     ],
     "prompt_number": 44
    },
    {
     "cell_type": "code",
     "collapsed": false,
     "input": [
      "import cPickle\n",
      "import utils_text\n",
      "reload( utils_text )\n",
      "with open( '../../../../interactiveml/labelcli/outputs/query_match_results.pkl.bak' ) as f:\n",
      "    query_match_results = cPickle.load( f )\n",
      "\n",
      "with open( './query_match.pkl' ) as f:\n",
      "    query_match = cPickle.load( f )\n",
      "\n",
      "query_indices = [i[0] for i in query_match ]\n",
      "#print len( query_indices )\n",
      "#print len( query_match_results )\n",
      "indices_results_dict = dict( zip( query_indices, query_match_results ) )\n",
      "\n",
      "lengths_jaccards = []\n",
      "\n",
      "for index, ( query_text, match_text ) in query_match:\n",
      "    length = len( query_text.split() )\n",
      "    query_text_set = set( query_text.split() )\n",
      "    match_text_set = set( match_text.split() )\n",
      "    jaccard = utils_text.jaccard( query_text_set, match_text_set )\n",
      "    lengths_jaccards.append( (length, jaccard) )\n",
      "    "
     ],
     "language": "python",
     "metadata": {},
     "outputs": [],
     "prompt_number": 45
    },
    {
     "cell_type": "code",
     "collapsed": false,
     "input": [
      "reload( utils_bill_trajectory )\n",
      "\n"
     ],
     "language": "python",
     "metadata": {},
     "outputs": [
      {
       "output_type": "stream",
       "stream": "stdout",
       "text": [
        "0.572549019608\n",
        "28.2095238095\n"
       ]
      }
     ],
     "prompt_number": 160
    },
    {
     "cell_type": "code",
     "collapsed": false,
     "input": [
      "def get_section_intro_dates( target_bill_date, datetimes_sections ):\n",
      "    section_numbers = set( [ i[1] for i in filtered_data ] )\n",
      "    num_sections = len( section_numbers )\n",
      "    dates_by_section_dict = collections.defaultdict( list )\n",
      "    for dt, section in datetimes_sections:\n",
      "        dates_by_section_dict[section].append( dt.date() )\n",
      "        \n",
      "    section_intro_dates = {}\n",
      "    for section, dates in dates_by_section_dict.items():\n",
      "        section_intro_dates[section] = min( dates )\n",
      "        \n",
      "    assert len( section_intro_dates ) == num_sections \n",
      "    \n",
      "    return section_intro_dates\n",
      "\n",
      "def get_week_threshold_metric( section_intro_dates, target_bill_date, week_threshold=12 ):\n",
      "    num_weeks_before_threshold = 0\n",
      "    for section, intro_date in section_intro_dates.items():\n",
      "        timedelta = target_bill_date - intro_date\n",
      " \n",
      "        weeks = timedelta.days / 7.0\n",
      "        if weeks > week_threshold:\n",
      "            num_weeks_before_threshold += 1\n",
      "            \n",
      "    week_threshold_metric = float( num_weeks_before_threshold ) / len( section_intro_dates )\n",
      "    \n",
      "    return week_threshold_metric\n",
      "\n",
      "def get_average_gestation_metric( section_intro_dates, target_bill_date ):\n",
      "    section_weeks_before_dict = {}\n",
      "    for section, intro_date in section_intro_dates.items():\n",
      "        timedelta = target_bill_date - intro_date\n",
      "        weeks = timedelta.days / 7.0\n",
      "        section_weeks_before_dict[section] = weeks\n",
      "        \n",
      "    average_gestation_metric = sum( section_weeks_before_dict.values() ) / len( section_weeks_before_dict )\n",
      "    return average_gestation_metric\n",
      "            "
     ],
     "language": "python",
     "metadata": {},
     "outputs": [],
     "prompt_number": 114
    },
    {
     "cell_type": "code",
     "collapsed": false,
     "input": [
      "with open( '/Users/wli/Dropbox/projects/unshared/enrolled_bill_metrics.pkl' ) as f:\n",
      "    enrolled_bill_metrics = cPickle.load( f )"
     ],
     "language": "python",
     "metadata": {},
     "outputs": [],
     "prompt_number": 397
    },
    {
     "cell_type": "code",
     "collapsed": false,
     "input": [
      "with open( 'ag.csv', 'w' ) as f:\n",
      "    for i,j in zip( x,y):\n",
      "        f.write( str(i) + \"\\t\" + str(j) + \"\\n\" )"
     ],
     "language": "python",
     "metadata": {},
     "outputs": [],
     "prompt_number": 432
    },
    {
     "cell_type": "code",
     "collapsed": false,
     "input": [
      "enrolled_bills = enrolled_bill_metrics\n",
      "x= [ enrolled_bill['num_sections'] for enrolled_bill in enrolled_bills ]\n",
      "y = [ enrolled_bill['average_gestation_metric'] for enrolled_bill in enrolled_bills ]\n",
      "#xlim( 0, 500)\n",
      "fig = plt.figure()\n",
      "figsize( 9,3 )\n",
      "xlim( 0,1200)\n",
      "ylim( 0,70 )\n",
      "\n",
      "xlabel( 'Number of Sections', size='x-large' )\n",
      "ylabel( 'Average Gestation \\n(weeks)', size='x-large' ) \n",
      "graph = fig.add_subplot(111)\n",
      "graph.scatter( x, y )\n",
      "graph.set_xscale('linear')"
     ],
     "language": "python",
     "metadata": {},
     "outputs": [
      {
       "metadata": {},
       "output_type": "display_data",
       "png": "[encoded data removed]",
       "text": [
        "<matplotlib.figure.Figure at 0x16c485ed0>"
       ]
      }
     ],
     "prompt_number": 458
    },
    {
     "cell_type": "code",
     "collapsed": false,
     "input": [
      "enrolled_bills.sort( key=lambda x:x['num_sections'], reverse=True )\n"
     ],
     "language": "python",
     "metadata": {},
     "outputs": [],
     "prompt_number": 435
    },
    {
     "cell_type": "code",
     "collapsed": false,
     "input": [
      "for i in enrolled_bills[:25]:\n",
      "    print i['bill_version'], i['num_sections'], i['date'], i['average_gestation_metric']"
     ],
     "language": "python",
     "metadata": {},
     "outputs": [
      {
       "output_type": "stream",
       "stream": "stdout",
       "text": [
        "hr2764-110-enr 1076 2007-12-27 18.516924307\n",
        "hr4986-110-enr 774 2008-01-23 17.7216685124\n",
        "hr6124-110-enr 659 2008-06-12 17.994572297\n",
        "hr2419-110-enr 619 2008-05-20 15.0501618123\n",
        "hr1495-110-enr 554 2007-10-16 17.382929345\n",
        "hr1585-110-enr 461 2007-12-18 13.0130151844\n",
        "hr2638-110-enr 370 2008-09-28 32.8985675571\n",
        "s3001-110-enr 302 2008-10-03 18.0610217597\n",
        "hr6-110-enr 292 2007-12-18 10.5494129159\n",
        "hr3221-110-enr 255 2008-07-28 26.0330532213\n",
        "hr1-110-enr 214 2007-08-01 3.64485981308\n",
        "hr2206-110-enr 203 2007-07-03 10.5313159747\n",
        "hr1591-110-enr 171 2007-07-03 11.8781512605\n",
        "hr3222-110-enr 139 2007-11-09 12.6659815005\n",
        "hr2272-110-enr 132 2007-08-04 7.54112554113\n",
        "hr6063-110-enr 112 2008-10-03 11.3303571429\n",
        "hr3043-110-enr 90 2007-11-09 14.3483146067\n",
        "hr2642-110-enr 90 2008-06-27 12.0888888889\n",
        "hr4137-110-enr 70 2008-08-01 5.87991718427\n",
        "s1-110-enr 70 2007-08-04 3.5306122449\n",
        "hr3688-110-enr 53 2007-12-07 9.76010781671\n",
        "hr3580-110-enr 45 2007-09-27 8.56493506494\n",
        "hr1424-110-enr 39 2008-10-03 6.28205128205\n",
        "hr660-110-enr 35 2007-12-20 27.2979591837\n",
        "hr2095-110-enr 35 2008-10-03 8.82040816327\n"
       ]
      }
     ],
     "prompt_number": 436
    },
    {
     "cell_type": "code",
     "collapsed": false,
     "input": [
      "print [ i for i in enrolled_bills if i['bill_version'] == 'hr3221-110-enr' ][0]"
     ],
     "language": "python",
     "metadata": {},
     "outputs": [
      {
       "output_type": "stream",
       "stream": "stdout",
       "text": [
        "{'bill_version': 'hr3221-110-enr', 'num_sections': 255, 'date': datetime.date(2008, 7, 28), 'week_threshold_metric': 0.5411764705882353, 'section_intro_dates': {'216': datetime.date(2008, 4, 8), '217': datetime.date(2008, 7, 16), '214': datetime.date(2008, 7, 23), '215': datetime.date(2008, 7, 16), '212': datetime.date(2007, 7, 24), '213': datetime.date(2008, 7, 23), '210': datetime.date(2008, 5, 13), '211': datetime.date(2008, 5, 13), '165': datetime.date(2007, 5, 3), '218': datetime.date(2008, 7, 16), '219': datetime.date(2008, 7, 23), '133': datetime.date(2008, 7, 16), '132': datetime.date(2008, 7, 16), '131': datetime.date(2008, 7, 16), '130': datetime.date(2008, 7, 16), '137': datetime.date(2008, 3, 7), '136': datetime.date(2008, 3, 7), '135': datetime.date(2008, 4, 17), '134': datetime.date(2008, 4, 17), '139': datetime.date(2008, 7, 23), '138': datetime.date(2008, 7, 23), '225': datetime.date(2008, 7, 16), '24': datetime.date(2008, 7, 16), '25': datetime.date(2008, 4, 22), '26': datetime.date(2007, 4, 12), '27': datetime.date(2007, 4, 12), '20': datetime.date(2008, 7, 16), '21': datetime.date(2008, 7, 16), '22': datetime.date(2008, 7, 16), '23': datetime.date(2008, 7, 23), '95': datetime.date(2007, 3, 9), '28': datetime.date(2007, 3, 9), '29': datetime.date(2007, 4, 12), '94': datetime.date(2007, 4, 12), '4': datetime.date(2008, 7, 16), '161': datetime.date(2007, 11, 13), '8': datetime.date(2008, 7, 16), '163': datetime.date(2007, 5, 3), '120': datetime.date(2007, 10, 22), '121': datetime.date(2007, 10, 22), '122': datetime.date(2007, 10, 22), '123': datetime.date(2008, 7, 16), '124': datetime.date(2008, 7, 16), '125': datetime.date(2008, 2, 6), '126': datetime.date(2007, 2, 8), '127': datetime.date(2007, 4, 12), '128': datetime.date(2008, 7, 16), '129': datetime.date(2008, 5, 1), '167': datetime.date(2007, 5, 3), '91': datetime.date(2008, 7, 16), '59': datetime.date(2008, 7, 16), '58': datetime.date(2007, 3, 9), '55': datetime.date(2008, 7, 16), '54': datetime.date(2008, 7, 23), '57': datetime.date(2008, 7, 16), '56': datetime.date(2007, 11, 16), '51': datetime.date(2007, 11, 16), '50': datetime.date(2007, 11, 16), '53': datetime.date(2008, 7, 23), '52': datetime.date(2008, 7, 16), '164': datetime.date(2007, 5, 3), '201': datetime.date(2008, 7, 23), '199': datetime.date(2008, 7, 16), '198': datetime.date(2008, 7, 16), '200': datetime.date(2007, 3, 8), '195': datetime.date(2008, 7, 16), '194': datetime.date(2007, 5, 7), '197': datetime.date(2008, 4, 17), '178': datetime.date(2008, 4, 17), '191': datetime.date(2008, 4, 17), '190': datetime.date(2007, 4, 12), '193': datetime.date(2007, 5, 7), '192': datetime.date(2008, 2, 14), '115': datetime.date(2007, 11, 15), '114': datetime.date(2007, 11, 15), '88': datetime.date(2008, 7, 16), '89': datetime.date(2008, 7, 16), '111': datetime.date(2007, 10, 22), '110': datetime.date(2008, 7, 16), '113': datetime.date(2007, 11, 15), '112': datetime.date(2008, 7, 16), '82': datetime.date(2008, 7, 23), '83': datetime.date(2007, 4, 12), '80': datetime.date(2008, 7, 16), '81': datetime.date(2008, 7, 16), '119': datetime.date(2007, 10, 22), '118': datetime.date(2008, 7, 16), '84': datetime.date(2007, 4, 12), '85': datetime.date(2007, 4, 12), '251': datetime.date(2008, 7, 23), '207': datetime.date(2008, 5, 13), '206': datetime.date(2008, 7, 23), '226': datetime.date(2008, 4, 8), '172': datetime.date(2008, 3, 7), '3': datetime.date(2008, 7, 16), '254': datetime.date(2008, 4, 8), '7': datetime.date(2008, 7, 16), '255': datetime.date(2008, 7, 28), '166': datetime.date(2007, 5, 3), '245': datetime.date(2007, 8, 3), '244': datetime.date(2008, 7, 23), '247': datetime.date(2008, 7, 16), '109': datetime.date(2008, 7, 16), '241': datetime.date(2008, 7, 16), '240': datetime.date(2008, 7, 16), '243': datetime.date(2008, 7, 16), '242': datetime.date(2007, 2, 16), '102': datetime.date(2008, 7, 16), '103': datetime.date(2008, 7, 16), '100': datetime.date(2007, 4, 12), '101': datetime.date(2007, 4, 12), '106': datetime.date(2008, 7, 23), '107': datetime.date(2008, 7, 16), '104': datetime.date(2008, 7, 16), '105': datetime.date(2008, 7, 16), '39': datetime.date(2008, 7, 16), '38': datetime.date(2008, 7, 16), '33': datetime.date(2007, 3, 9), '32': datetime.date(2008, 7, 16), '31': datetime.date(2007, 4, 12), '30': datetime.date(2007, 4, 12), '37': datetime.date(2008, 7, 16), '108': datetime.date(2008, 7, 16), '35': datetime.date(2008, 7, 16), '34': datetime.date(2007, 4, 12), '246': datetime.date(2007, 2, 16), '162': datetime.date(2007, 5, 3), '160': datetime.date(2008, 3, 7), '252': datetime.date(2008, 6, 17), '176': datetime.date(2008, 4, 17), '60': datetime.date(2007, 3, 9), '61': datetime.date(2007, 4, 12), '62': datetime.date(2007, 4, 12), '63': datetime.date(2007, 3, 9), '64': datetime.date(2007, 4, 12), '65': datetime.date(2007, 4, 12), '179': datetime.date(2008, 7, 23), '67': datetime.date(2008, 7, 16), '68': datetime.date(2007, 4, 12), '69': datetime.date(2007, 4, 12), '175': datetime.date(2008, 4, 17), '174': datetime.date(2008, 4, 17), '173': datetime.date(2008, 4, 17), '177': datetime.date(2008, 4, 17), '171': datetime.date(2008, 3, 13), '170': datetime.date(2008, 3, 7), '249': datetime.date(2008, 7, 16), '253': datetime.date(2007, 9, 25), '248': datetime.date(2008, 7, 16), '182': datetime.date(2008, 4, 17), '183': datetime.date(2008, 2, 14), '180': datetime.date(2008, 4, 17), '181': datetime.date(2008, 4, 17), '186': datetime.date(2008, 7, 16), '187': datetime.date(2008, 7, 16), '184': datetime.date(2008, 2, 14), '6': datetime.date(2008, 7, 16), '188': datetime.date(2007, 4, 12), '189': datetime.date(2007, 5, 7), '202': datetime.date(2007, 3, 29), '196': datetime.date(2008, 2, 12), '97': datetime.date(2007, 3, 9), '185': datetime.date(2008, 4, 17), '99': datetime.date(2007, 3, 9), '98': datetime.date(2008, 7, 16), '168': datetime.date(2007, 11, 13), '169': datetime.date(2008, 4, 17), '229': datetime.date(2008, 4, 8), '228': datetime.date(2008, 4, 8), '227': datetime.date(2008, 4, 8), '90': datetime.date(2008, 7, 16), '93': datetime.date(2008, 7, 23), '92': datetime.date(2008, 7, 16), '223': datetime.date(2008, 7, 16), '222': datetime.date(2008, 7, 23), '221': datetime.date(2008, 7, 16), '220': datetime.date(2008, 7, 16), '11': datetime.date(2008, 7, 16), '10': datetime.date(2008, 7, 16), '13': datetime.date(2008, 7, 16), '12': datetime.date(2008, 7, 16), '15': datetime.date(2008, 7, 16), '14': datetime.date(2008, 7, 16), '66': datetime.date(2007, 4, 12), '16': datetime.date(2008, 7, 16), '19': datetime.date(2008, 7, 23), '18': datetime.date(2008, 7, 23), '117': datetime.date(2007, 10, 22), '116': datetime.date(2007, 10, 22), '204': datetime.date(2007, 7, 12), '17': datetime.date(2008, 7, 16), '151': datetime.date(2007, 11, 13), '150': datetime.date(2007, 3, 29), '153': datetime.date(2007, 11, 13), '152': datetime.date(2007, 11, 13), '155': datetime.date(2007, 11, 13), '250': datetime.date(2008, 5, 14), '157': datetime.date(2007, 3, 29), '156': datetime.date(2007, 11, 13), '159': datetime.date(2008, 7, 16), '158': datetime.date(2007, 11, 13), '36': datetime.date(2008, 7, 16), '238': datetime.date(2008, 7, 23), '239': datetime.date(2008, 4, 8), '234': datetime.date(2008, 4, 8), '235': datetime.date(2007, 3, 26), '236': datetime.date(2008, 4, 8), '237': datetime.date(2008, 7, 16), '230': datetime.date(2008, 4, 8), '231': datetime.date(2008, 4, 8), '232': datetime.date(2008, 4, 8), '233': datetime.date(2008, 4, 8), '224': datetime.date(2008, 4, 8), '48': datetime.date(2008, 7, 16), '49': datetime.date(2008, 7, 16), '46': datetime.date(2007, 4, 12), '86': datetime.date(2007, 3, 9), '44': datetime.date(2008, 7, 23), '45': datetime.date(2008, 7, 23), '42': datetime.date(2007, 4, 12), '43': datetime.date(2007, 5, 9), '40': datetime.date(2007, 3, 9), '87': datetime.date(2008, 7, 16), '1': datetime.date(2008, 7, 28), '5': datetime.date(2008, 7, 16), '9': datetime.date(2008, 7, 16), '78': datetime.date(2007, 4, 12), '146': datetime.date(2007, 3, 29), '147': datetime.date(2007, 11, 13), '203': datetime.date(2008, 5, 13), '145': datetime.date(2007, 3, 29), '142': datetime.date(2007, 3, 29), '143': datetime.date(2007, 3, 29), '140': datetime.date(2007, 11, 13), '141': datetime.date(2007, 3, 29), '209': datetime.date(2008, 5, 13), '208': datetime.date(2008, 5, 13), '148': datetime.date(2008, 4, 17), '149': datetime.date(2007, 11, 13), '77': datetime.date(2008, 7, 16), '76': datetime.date(2008, 7, 16), '75': datetime.date(2007, 3, 9), '74': datetime.date(2007, 4, 12), '73': datetime.date(2007, 4, 12), '72': datetime.date(2007, 4, 12), '71': datetime.date(2007, 4, 12), '70': datetime.date(2008, 7, 16), '154': datetime.date(2007, 11, 13), '96': datetime.date(2007, 4, 12), '79': datetime.date(2008, 7, 23), '205': datetime.date(2008, 7, 23), '2': datetime.date(2008, 7, 16), '144': datetime.date(2007, 3, 29), '41': datetime.date(2007, 4, 12), '47': datetime.date(2008, 7, 16)}, 'average_gestation_metric': 26.033053221288473}\n"
       ]
      }
     ],
     "prompt_number": 438
    },
    {
     "cell_type": "code",
     "collapsed": false,
     "input": [
      "dates = [ i['date'] for i in enrolled_bills ]\n",
      "date_nums = [ date2num(d) for d in dates ]\n"
     ],
     "language": "python",
     "metadata": {},
     "outputs": [],
     "prompt_number": 419
    },
    {
     "cell_type": "code",
     "collapsed": false,
     "input": [
      "date2num( datetime.date( 2008,12,31 ) )"
     ],
     "language": "python",
     "metadata": {},
     "outputs": [
      {
       "metadata": {},
       "output_type": "pyout",
       "prompt_number": 421,
       "text": [
        "733407.0"
       ]
      }
     ],
     "prompt_number": 421
    },
    {
     "cell_type": "code",
     "collapsed": false,
     "input": [
      "hist( date_nums )"
     ],
     "language": "python",
     "metadata": {},
     "outputs": [
      {
       "metadata": {},
       "output_type": "pyout",
       "prompt_number": 420,
       "text": [
        "(array([  93.,   87.,   22.,   77.,  126.,   44.,    0.,    0.,    0.,    1.]),\n",
        " array([ 732860. ,  732951.3,  733042.6,  733133.9,  733225.2,  733316.5,\n",
        "        733407.8,  733499.1,  733590.4,  733681.7,  733773. ]),\n",
        " <a list of 10 Patch objects>)"
       ]
      },
      {
       "metadata": {},
       "output_type": "display_data",
       "png": "[encoded data removed]",
       "text": [
        "<matplotlib.figure.Figure at 0x151b14850>"
       ]
      }
     ],
     "prompt_number": 420
    },
    {
     "cell_type": "code",
     "collapsed": false,
     "input": [],
     "language": "python",
     "metadata": {},
     "outputs": []
    }
   ],
   "metadata": {}
  }
 ]
}