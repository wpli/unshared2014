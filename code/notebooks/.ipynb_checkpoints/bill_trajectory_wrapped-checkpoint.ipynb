{
 "metadata": {
  "name": ""
 },
 "nbformat": 3,
 "nbformat_minor": 0,
 "worksheets": [
  {
   "cells": [
    {
     "cell_type": "code",
     "collapsed": false,
     "input": [
      "import os, sys\n",
      "import csv\n",
      "import datetime\n",
      "import dateutil\n",
      "import cPickle\n",
      "sys.path.append( '../utils' )\n",
      "import utils_text\n",
      "import utils_search\n",
      "data_path = '../../data/unshared-task-poliinformatics-2014-v1.0/CongressionalBills'\n",
      "bills = [ i for i in os.listdir( data_path ) if \".txt\" in i ]\n",
      "sys.path.append( '../utils' )\n",
      "csv.field_size_limit(sys.maxsize)\n",
      "\n",
      "congress_files = [ '110thALL.txt', '111thALL.txt' ]\n",
      "\n",
      "data_list_of_dicts = []\n",
      "for congress in congress_files:    \n",
      "    full_path = os.path.join( data_path, congress )\n",
      "    with open( full_path, 'rb' ) as f:\n",
      "        csvreader = csv.reader( f, delimiter='\\t', quoting=csv.QUOTE_ALL )\n",
      "        for idx, row in enumerate(  csvreader ):\n",
      "            if idx == 0:\n",
      "                header = row\n",
      "            else:    \n",
      "                data_dict = dict( zip( header, row ) )\n",
      "                assert len( data_dict ) == len( header )\n",
      "                data_list_of_dicts.append( data_dict )\n"
     ],
     "language": "python",
     "metadata": {},
     "outputs": [],
     "prompt_number": 1
    },
    {
     "cell_type": "markdown",
     "metadata": {},
     "source": [
      "Load the data"
     ]
    },
    {
     "cell_type": "code",
     "collapsed": false,
     "input": [
      "data_list_sets = []\n",
      "for idx, i in enumerate( data_list_of_dicts ):\n",
      "    if idx % 10000 == 0:\n",
      "        sys.stderr.write( \"%s \" % idx )\n",
      "    x = i['text'].lower()\n",
      "    text = utils_text.strip_punctuation( x )\n",
      "    word_set = set( text.split() )\n",
      "    data_list_sets.append( word_set )"
     ],
     "language": "python",
     "metadata": {},
     "outputs": [
      {
       "output_type": "stream",
       "stream": "stderr",
       "text": [
        "0 10000 "
       ]
      },
      {
       "output_type": "stream",
       "stream": "stderr",
       "text": [
        "20000 30000 "
       ]
      },
      {
       "output_type": "stream",
       "stream": "stderr",
       "text": [
        "40000 50000 "
       ]
      },
      {
       "output_type": "stream",
       "stream": "stderr",
       "text": [
        "60000 70000 "
       ]
      },
      {
       "output_type": "stream",
       "stream": "stderr",
       "text": [
        "80000 90000 "
       ]
      },
      {
       "output_type": "stream",
       "stream": "stderr",
       "text": [
        "100000 110000 "
       ]
      },
      {
       "output_type": "stream",
       "stream": "stderr",
       "text": [
        "120000 130000 "
       ]
      },
      {
       "output_type": "stream",
       "stream": "stderr",
       "text": [
        "140000 150000 "
       ]
      },
      {
       "output_type": "stream",
       "stream": "stderr",
       "text": [
        "160000 170000 "
       ]
      },
      {
       "output_type": "stream",
       "stream": "stderr",
       "text": [
        "180000 190000 "
       ]
      },
      {
       "output_type": "stream",
       "stream": "stderr",
       "text": [
        "200000 210000 "
       ]
      },
      {
       "output_type": "stream",
       "stream": "stderr",
       "text": [
        "220000 230000 "
       ]
      },
      {
       "output_type": "stream",
       "stream": "stderr",
       "text": [
        "240000 250000 "
       ]
      }
     ],
     "prompt_number": 14
    },
    {
     "cell_type": "code",
     "collapsed": false,
     "input": [
      "import collections\n",
      "word_inverted_index = collections.defaultdict( list )\n",
      "\n",
      "for idx, word_set in enumerate( data_list_sets ):\n",
      "    if idx % 1000 == 0:\n",
      "        sys.stderr.write( \"%s \" % idx )\n",
      "\n",
      "        \n",
      "    for word in list( word_set ):\n",
      "        word_inverted_index[word].append( idx )\n",
      "\n",
      "with open( '../../data/processed/word_inverted_index_110_111.pkl', 'w' ) as f:\n",
      "    cPickle.dump( word_inverted_index, f )"
     ],
     "language": "python",
     "metadata": {},
     "outputs": [
      {
       "output_type": "stream",
       "stream": "stderr",
       "text": [
        "0 1000 "
       ]
      },
      {
       "output_type": "stream",
       "stream": "stderr",
       "text": [
        "2000 3000 "
       ]
      },
      {
       "output_type": "stream",
       "stream": "stderr",
       "text": [
        "4000 5000 6000 "
       ]
      },
      {
       "output_type": "stream",
       "stream": "stderr",
       "text": [
        "7000 8000 9000 "
       ]
      },
      {
       "output_type": "stream",
       "stream": "stderr",
       "text": [
        "10000 11000 12000 "
       ]
      },
      {
       "output_type": "stream",
       "stream": "stderr",
       "text": [
        "13000 14000 15000 "
       ]
      },
      {
       "output_type": "stream",
       "stream": "stderr",
       "text": [
        "16000 17000 18000 "
       ]
      },
      {
       "output_type": "stream",
       "stream": "stderr",
       "text": [
        "19000 20000 21000 "
       ]
      },
      {
       "output_type": "stream",
       "stream": "stderr",
       "text": [
        "22000 23000 24000 "
       ]
      },
      {
       "output_type": "stream",
       "stream": "stderr",
       "text": [
        "25000 26000 27000 "
       ]
      },
      {
       "output_type": "stream",
       "stream": "stderr",
       "text": [
        "28000 29000 30000 "
       ]
      },
      {
       "output_type": "stream",
       "stream": "stderr",
       "text": [
        "31000 32000 33000 "
       ]
      },
      {
       "output_type": "stream",
       "stream": "stderr",
       "text": [
        "34000 35000 36000 "
       ]
      },
      {
       "output_type": "stream",
       "stream": "stderr",
       "text": [
        "37000 38000 39000 "
       ]
      },
      {
       "output_type": "stream",
       "stream": "stderr",
       "text": [
        "40000 41000 "
       ]
      },
      {
       "output_type": "stream",
       "stream": "stderr",
       "text": [
        "42000 43000 44000 "
       ]
      },
      {
       "output_type": "stream",
       "stream": "stderr",
       "text": [
        "45000 46000 47000 "
       ]
      },
      {
       "output_type": "stream",
       "stream": "stderr",
       "text": [
        "48000 49000 50000 "
       ]
      },
      {
       "output_type": "stream",
       "stream": "stderr",
       "text": [
        "51000 52000 "
       ]
      },
      {
       "output_type": "stream",
       "stream": "stderr",
       "text": [
        "53000 54000 55000 "
       ]
      },
      {
       "output_type": "stream",
       "stream": "stderr",
       "text": [
        "56000 57000 58000 "
       ]
      },
      {
       "output_type": "stream",
       "stream": "stderr",
       "text": [
        "59000 60000 61000 "
       ]
      },
      {
       "output_type": "stream",
       "stream": "stderr",
       "text": [
        "62000 63000 64000 "
       ]
      },
      {
       "output_type": "stream",
       "stream": "stderr",
       "text": [
        "65000 66000 67000 "
       ]
      },
      {
       "output_type": "stream",
       "stream": "stderr",
       "text": [
        "68000 69000 70000 "
       ]
      },
      {
       "output_type": "stream",
       "stream": "stderr",
       "text": [
        "71000 72000 "
       ]
      },
      {
       "output_type": "stream",
       "stream": "stderr",
       "text": [
        "73000 74000 75000 "
       ]
      },
      {
       "output_type": "stream",
       "stream": "stderr",
       "text": [
        "76000 77000 "
       ]
      },
      {
       "output_type": "stream",
       "stream": "stderr",
       "text": [
        "78000 79000 80000 "
       ]
      },
      {
       "output_type": "stream",
       "stream": "stderr",
       "text": [
        "81000 82000 "
       ]
      },
      {
       "output_type": "stream",
       "stream": "stderr",
       "text": [
        "83000 84000 "
       ]
      },
      {
       "output_type": "stream",
       "stream": "stderr",
       "text": [
        "85000 86000 87000 "
       ]
      },
      {
       "output_type": "stream",
       "stream": "stderr",
       "text": [
        "88000 89000 90000 "
       ]
      },
      {
       "output_type": "stream",
       "stream": "stderr",
       "text": [
        "91000 92000 93000 "
       ]
      },
      {
       "output_type": "stream",
       "stream": "stderr",
       "text": [
        "94000 95000 96000 "
       ]
      },
      {
       "output_type": "stream",
       "stream": "stderr",
       "text": [
        "97000 98000 "
       ]
      },
      {
       "output_type": "stream",
       "stream": "stderr",
       "text": [
        "99000 100000 101000 "
       ]
      },
      {
       "output_type": "stream",
       "stream": "stderr",
       "text": [
        "102000 103000 104000 "
       ]
      },
      {
       "output_type": "stream",
       "stream": "stderr",
       "text": [
        "105000 106000 107000 "
       ]
      },
      {
       "output_type": "stream",
       "stream": "stderr",
       "text": [
        "108000 109000 110000 "
       ]
      },
      {
       "output_type": "stream",
       "stream": "stderr",
       "text": [
        "111000 112000 113000 "
       ]
      },
      {
       "output_type": "stream",
       "stream": "stderr",
       "text": [
        "114000 115000 116000 "
       ]
      },
      {
       "output_type": "stream",
       "stream": "stderr",
       "text": [
        "117000 118000 "
       ]
      },
      {
       "output_type": "stream",
       "stream": "stderr",
       "text": [
        "119000 120000 121000 "
       ]
      },
      {
       "output_type": "stream",
       "stream": "stderr",
       "text": [
        "122000 123000 124000 "
       ]
      },
      {
       "output_type": "stream",
       "stream": "stderr",
       "text": [
        "125000 126000 127000 "
       ]
      },
      {
       "output_type": "stream",
       "stream": "stderr",
       "text": [
        "128000 129000 130000 "
       ]
      },
      {
       "output_type": "stream",
       "stream": "stderr",
       "text": [
        "131000 132000 "
       ]
      },
      {
       "output_type": "stream",
       "stream": "stderr",
       "text": [
        "133000 134000 135000 "
       ]
      },
      {
       "output_type": "stream",
       "stream": "stderr",
       "text": [
        "136000 137000 138000 "
       ]
      },
      {
       "output_type": "stream",
       "stream": "stderr",
       "text": [
        "139000 140000 141000 "
       ]
      },
      {
       "output_type": "stream",
       "stream": "stderr",
       "text": [
        "142000 143000 "
       ]
      },
      {
       "output_type": "stream",
       "stream": "stderr",
       "text": [
        "144000 145000 "
       ]
      },
      {
       "output_type": "stream",
       "stream": "stderr",
       "text": [
        "146000 147000 "
       ]
      },
      {
       "output_type": "stream",
       "stream": "stderr",
       "text": [
        "148000 149000 150000 "
       ]
      },
      {
       "output_type": "stream",
       "stream": "stderr",
       "text": [
        "151000 152000 153000 "
       ]
      },
      {
       "output_type": "stream",
       "stream": "stderr",
       "text": [
        "154000 155000 "
       ]
      },
      {
       "output_type": "stream",
       "stream": "stderr",
       "text": [
        "156000 157000 158000 "
       ]
      },
      {
       "output_type": "stream",
       "stream": "stderr",
       "text": [
        "159000 160000 "
       ]
      },
      {
       "output_type": "stream",
       "stream": "stderr",
       "text": [
        "161000 162000 "
       ]
      },
      {
       "output_type": "stream",
       "stream": "stderr",
       "text": [
        "163000 164000 165000 "
       ]
      },
      {
       "output_type": "stream",
       "stream": "stderr",
       "text": [
        "166000 167000 168000 "
       ]
      },
      {
       "output_type": "stream",
       "stream": "stderr",
       "text": [
        "169000 170000 171000 "
       ]
      },
      {
       "output_type": "stream",
       "stream": "stderr",
       "text": [
        "172000 173000 "
       ]
      },
      {
       "output_type": "stream",
       "stream": "stderr",
       "text": [
        "174000 175000 176000 "
       ]
      },
      {
       "output_type": "stream",
       "stream": "stderr",
       "text": [
        "177000 178000 179000 "
       ]
      },
      {
       "output_type": "stream",
       "stream": "stderr",
       "text": [
        "180000 181000 182000 "
       ]
      },
      {
       "output_type": "stream",
       "stream": "stderr",
       "text": [
        "183000 184000 185000 "
       ]
      },
      {
       "output_type": "stream",
       "stream": "stderr",
       "text": [
        "186000 187000 188000 "
       ]
      },
      {
       "output_type": "stream",
       "stream": "stderr",
       "text": [
        "189000 190000 191000 "
       ]
      },
      {
       "output_type": "stream",
       "stream": "stderr",
       "text": [
        "192000 193000 194000 "
       ]
      },
      {
       "output_type": "stream",
       "stream": "stderr",
       "text": [
        "195000 196000 197000 "
       ]
      },
      {
       "output_type": "stream",
       "stream": "stderr",
       "text": [
        "198000 199000 200000 "
       ]
      },
      {
       "output_type": "stream",
       "stream": "stderr",
       "text": [
        "201000 202000 203000 "
       ]
      },
      {
       "output_type": "stream",
       "stream": "stderr",
       "text": [
        "204000 205000 "
       ]
      },
      {
       "output_type": "stream",
       "stream": "stderr",
       "text": [
        "206000 207000 "
       ]
      },
      {
       "output_type": "stream",
       "stream": "stderr",
       "text": [
        "208000 209000 210000 "
       ]
      },
      {
       "output_type": "stream",
       "stream": "stderr",
       "text": [
        "211000 212000 213000 "
       ]
      },
      {
       "output_type": "stream",
       "stream": "stderr",
       "text": [
        "214000 215000 216000 "
       ]
      },
      {
       "output_type": "stream",
       "stream": "stderr",
       "text": [
        "217000 218000 "
       ]
      },
      {
       "output_type": "stream",
       "stream": "stderr",
       "text": [
        "219000 220000 "
       ]
      },
      {
       "output_type": "stream",
       "stream": "stderr",
       "text": [
        "221000 222000 223000 "
       ]
      },
      {
       "output_type": "stream",
       "stream": "stderr",
       "text": [
        "224000 225000 "
       ]
      },
      {
       "output_type": "stream",
       "stream": "stderr",
       "text": [
        "226000 227000 "
       ]
      },
      {
       "output_type": "stream",
       "stream": "stderr",
       "text": [
        "228000 229000 230000 "
       ]
      },
      {
       "output_type": "stream",
       "stream": "stderr",
       "text": [
        "231000 232000 233000 "
       ]
      },
      {
       "output_type": "stream",
       "stream": "stderr",
       "text": [
        "234000 235000 236000 "
       ]
      },
      {
       "output_type": "stream",
       "stream": "stderr",
       "text": [
        "237000 238000 239000 "
       ]
      },
      {
       "output_type": "stream",
       "stream": "stderr",
       "text": [
        "240000 241000 242000 "
       ]
      },
      {
       "output_type": "stream",
       "stream": "stderr",
       "text": [
        "243000 244000 245000 "
       ]
      },
      {
       "output_type": "stream",
       "stream": "stderr",
       "text": [
        "246000 247000 "
       ]
      },
      {
       "output_type": "stream",
       "stream": "stderr",
       "text": [
        "248000 249000 250000 "
       ]
      },
      {
       "output_type": "stream",
       "stream": "stderr",
       "text": [
        "251000 252000 253000 "
       ]
      },
      {
       "output_type": "stream",
       "stream": "stderr",
       "text": [
        "254000 255000 256000 "
       ]
      },
      {
       "output_type": "stream",
       "stream": "stderr",
       "text": [
        "257000 258000 259000 "
       ]
      }
     ],
     "prompt_number": 3
    },
    {
     "cell_type": "code",
     "collapsed": false,
     "input": [
      "# Load from pickle\n",
      "with open( '../../data/processed/word_inverted_index_110_111.pkl' ) as f:\n",
      "    word_inverted_index = cPickle.load( f )"
     ],
     "language": "python",
     "metadata": {},
     "outputs": [],
     "prompt_number": 2
    },
    {
     "cell_type": "code",
     "collapsed": false,
     "input": [
      "bill_name_dict = { 'TARP': 'hr1424-110-enr', 'HERA': 'hr3221-110-enr', 'Dodd-Frank': 'hr4173-111-enr', \n",
      "                  'ARRA': 'hr1-111-as2'}\n",
      "\n",
      "target_bill = bill_name_dict[\"TARP\"]\n",
      "target_indices = set( [ idx for idx, i in enumerate( data_list_of_dicts ) if i['bill_version'] == target_bill ] )\n",
      "print target_indices"
     ],
     "language": "python",
     "metadata": {},
     "outputs": [
      {
       "output_type": "stream",
       "stream": "stdout",
       "text": [
        "set([69504, 69505, 69506, 69507, 69508, 69509, 69510, 69511, 69512, 69513, 69514, 69515, 69516, 69517, 69518, 69519, 69520, 69521, 69522, 69484, 69485, 69486, 69487, 69488, 69489, 69490, 69491, 69492, 69493, 69494, 69495, 69496, 69497, 69498, 69499, 69500, 69501, 69502, 69503])\n"
       ]
      }
     ],
     "prompt_number": 12
    },
    {
     "cell_type": "code",
     "collapsed": false,
     "input": [
      "reload( utils_search )\n",
      "target_top_matches = []\n",
      "for idx, i in enumerate( data_list_sets ):\n",
      "    if idx in target_indices:    \n",
      "    #if idx % 100 == 0:\n",
      "        sys.stderr.write( \"%s \" % idx )        \n",
      "        matches = utils_search.get_ranked_matches( i, word_inverted_index, top_k=100 ) \n",
      "        target_top_matches.append( ( idx, matches ) )\n",
      "    else:\n",
      "        pass"
     ],
     "language": "python",
     "metadata": {},
     "outputs": [
      {
       "output_type": "stream",
       "stream": "stderr",
       "text": [
        "69484 69485 "
       ]
      },
      {
       "output_type": "stream",
       "stream": "stderr",
       "text": [
        "69486 69487 "
       ]
      },
      {
       "output_type": "stream",
       "stream": "stderr",
       "text": [
        "69488 69489 "
       ]
      },
      {
       "output_type": "stream",
       "stream": "stderr",
       "text": [
        "69490 69491 "
       ]
      },
      {
       "output_type": "stream",
       "stream": "stderr",
       "text": [
        "69492 69493 "
       ]
      },
      {
       "output_type": "stream",
       "stream": "stderr",
       "text": [
        "69494 69495 "
       ]
      },
      {
       "output_type": "stream",
       "stream": "stderr",
       "text": [
        "69496 69497 "
       ]
      },
      {
       "output_type": "stream",
       "stream": "stderr",
       "text": [
        "69498 69499 "
       ]
      },
      {
       "output_type": "stream",
       "stream": "stderr",
       "text": [
        "69500 69501 "
       ]
      },
      {
       "output_type": "stream",
       "stream": "stderr",
       "text": [
        "69502 69503 "
       ]
      },
      {
       "output_type": "stream",
       "stream": "stderr",
       "text": [
        "69504 69505 "
       ]
      },
      {
       "output_type": "stream",
       "stream": "stderr",
       "text": [
        "69506 69507 "
       ]
      },
      {
       "output_type": "stream",
       "stream": "stderr",
       "text": [
        "69508 69509 "
       ]
      },
      {
       "output_type": "stream",
       "stream": "stderr",
       "text": [
        "69510 69511 "
       ]
      },
      {
       "output_type": "stream",
       "stream": "stderr",
       "text": [
        "69512 69513 "
       ]
      },
      {
       "output_type": "stream",
       "stream": "stderr",
       "text": [
        "69514 69515 "
       ]
      },
      {
       "output_type": "stream",
       "stream": "stderr",
       "text": [
        "69516 69517 "
       ]
      },
      {
       "output_type": "stream",
       "stream": "stderr",
       "text": [
        "69518 69519 "
       ]
      },
      {
       "output_type": "stream",
       "stream": "stderr",
       "text": [
        "69520 69521 "
       ]
      },
      {
       "output_type": "stream",
       "stream": "stderr",
       "text": [
        "69522 "
       ]
      }
     ],
     "prompt_number": 15
    },
    {
     "cell_type": "code",
     "collapsed": false,
     "input": [
      "target_top_matches_dict[\"Dodd-Frank\"] = target_top_matches"
     ],
     "language": "python",
     "metadata": {},
     "outputs": [],
     "prompt_number": 96
    },
    {
     "cell_type": "code",
     "collapsed": false,
     "input": [
      "reload( utils_text )\n",
      "target_top_matches_jaccard = []\n",
      "\n",
      "for query_idx, matches in target_top_matches:\n",
      "    query_word_set = data_list_sets[query_idx]\n",
      "    jaccard_scores = []\n",
      "    for match_idx, num_matches in matches:\n",
      "        match_word_set = data_list_sets[match_idx]\n",
      "        jacc = utils_text.jaccard( query_word_set, match_word_set )\n",
      "        jaccard_scores.append( jacc )\n",
      "        \n",
      "    match_jaccard = zip( [ i[0] for i in matches ], jaccard_scores )\n",
      "    match_jaccard.sort( key=lambda x:x[1], reverse=True )\n",
      "    \n",
      "    target_top_matches_jaccard.append( ( query_idx, match_jaccard ) )\n",
      "    "
     ],
     "language": "python",
     "metadata": {},
     "outputs": [],
     "prompt_number": 16
    },
    {
     "cell_type": "code",
     "collapsed": false,
     "input": [
      "top_matches_dates = []\n",
      "# [ query_idx, [ ( match_idx, date ), ... \n",
      "for query_idx, matches in target_top_matches_jaccard:\n",
      "    #print query_idx, len( data_list_sets[query_idx] )\n",
      "    match_dates = []\n",
      "    for match_idx, jaccard in matches:\n",
      "        match_entry = data_list_of_dicts[match_idx]\n",
      "        \n",
      "        if jaccard > 0.7:\n",
      "            match_dates.append( ( match_idx, match_entry['IssuedOn'] ) )\n",
      "    top_matches_dates.append( ( query_idx, match_dates ) )\n",
      "            #print match_idx, jaccard,  \n",
      "            #print match_entry['IssuedOn'], match_entry['Bill_id']\n",
      "        \n",
      "    #print \"\\n\""
     ],
     "language": "python",
     "metadata": {},
     "outputs": [],
     "prompt_number": 17
    },
    {
     "cell_type": "code",
     "collapsed": false,
     "input": [
      "import datetime\n",
      "#from matplotlib import pyplot as plt\n",
      "from matplotlib.dates import date2num\n",
      "ct = 0\n",
      "data = []\n",
      "for query_idx, top_matches in top_matches_dates:\n",
      "    #if query_idx in exclude:\n",
      "    #    pass\n",
      "    #else:\n",
      "    if 1:\n",
      "        section_idx = data_list_of_dicts[query_idx]['sec_sequence']\n",
      "        for match_idx, date in top_matches:\n",
      "            #if match_idx in target_indices:\n",
      "            #    assert date == '0000-00-00'\n",
      "            #    # ARRA\n",
      "            #    dt = datetime.datetime( 2009, 1, 6 )\n",
      "            #    # Dodd-Frank\n",
      "            #    #dt = datetime.datetime( 2010, 7, 21 )\n",
      "            #    data.append( ( dt, section_idx ) )\n",
      "            if date == '0000-00-00':\n",
      "                print match_idx\n",
      "                ct += 1\n",
      "            else:\n",
      "                dt = datetime.datetime.strptime( date, \"%Y-%m-%d\" )\n",
      "                data.append( ( dt, section_idx ) )\n",
      "    \n",
      "#data = [(DT.datetime.strptime('2010-02-05', \"%Y-%m-%d\"), 123),\n",
      "#        (DT.datetime.strptime('2010-02-19', \"%Y-%m-%d\"), 678),\n",
      "#        (DT.datetime.strptime('2010-03-05', \"%Y-%m-%d\"), 987),\n",
      "#        (DT.datetime.strptime('2010-03-19', \"%Y-%m-%d\"), 345)]\n",
      "print ct"
     ],
     "language": "python",
     "metadata": {},
     "outputs": [
      {
       "output_type": "stream",
       "stream": "stdout",
       "text": [
        "195264\n",
        "195290\n",
        "2\n"
       ]
      }
     ],
     "prompt_number": 19
    },
    {
     "cell_type": "code",
     "collapsed": true,
     "input": [
      "# Graph cell\n",
      "#data = filtered_data\n",
      "data = data\n",
      "\n",
      "x = [date2num(date) for (date, value) in data]\n",
      "y = [int(value) for (date, value) in data]\n",
      "\n",
      "\n",
      "xmin = date2num( datetime.datetime( 2007, 1, 1 ) )\n",
      "#xmax = date2num( datetime.datetime( 2008, 8, 1 ) ) \n",
      "\n",
      "# Dodd-Frank\n",
      "#xmax = date2num( datetime.datetime( 2010, 8, 1 ) )\n",
      "\n",
      "#ARRA\n",
      "xmin = date2num( datetime.datetime( 2007, 7, 1 ) )\n",
      "xmax = date2num( datetime.datetime( 2009,10,15) )\n",
      "\n",
      "min_date = min( [ i[0] for i in data ] )\n",
      "max_date = max( [ i[0] for i in data ] )\n",
      "\n",
      "starting_month = datetime.datetime( min_date.year, min_date.month, day=1 )\n",
      "ending_month = max_date + dateutil.relativedelta.relativedelta( months=1 )\n",
      "ending_month = datetime.datetime( ending_month.year, ending_month.month, day=1 )\n",
      "#print starting_month\n",
      "#print ending_month \n",
      "\n",
      "months = []\n",
      "current_month = starting_month\n",
      "while current_month <= ending_month:\n",
      "    months.append( current_month )\n",
      "    current_month += dateutil.relativedelta.relativedelta( months=1 )\n",
      "    \n",
      "#print months\n",
      "\n",
      "fig = plt.figure()\n",
      "figsize( 10,6 )\n",
      "graph = fig.add_subplot(111)\n",
      "\n",
      "graph.scatter(x,y, s=20, c='k', marker='o', alpha=1)\n",
      "\n",
      "\n",
      "plt.xlabel( 'Date', fontsize='large' )\n",
      "plt.ylabel( 'Bill Section', fontsize='large' )\n",
      "\n",
      "# Set the xtick locations to correspond to just the dates you entered.\n",
      "\n",
      "month_nums = [ date2num( date ) for date in months ] \n",
      "graph.set_xticks( month_nums )\n",
      "num_sections = max(y)\n",
      "plt.ylim( (0,num_sections) )\n",
      "\n",
      "#plt.ylim( ( 70, 100 ) )\n",
      "\n",
      "plt.xlim( ( xmin, xmax ) )\n",
      "plt.gca().invert_yaxis()\n",
      "graph.yaxis.set_label_position(\"right\")\n",
      "graph.yaxis.tick_right()\n",
      "# Set the xtick labels to correspond to just the dates you entered.\n",
      "graph.set_xticklabels(\n",
      "        [date.strftime(\"%Y-%m\") for date in months ], rotation=90, fontsize='large'\n",
      "        )\n",
      "\n",
      "\n",
      "\n",
      "plt.show()"
     ],
     "language": "python",
     "metadata": {},
     "outputs": [
      {
       "metadata": {},
       "output_type": "display_data",
       "png": "[encoded data removed]",
       "text": [
        "<matplotlib.figure.Figure at 0x1678212d0>"
       ]
      }
     ],
     "prompt_number": 24
    },
    {
     "cell_type": "code",
     "collapsed": false,
     "input": [
      "idx = sorted( list( target_indices ) )[77]\n",
      "#print data_list_of_dicts[idx]\n",
      "matches = get_matches( idx, target_top_matches_jaccard)\n",
      "\n",
      "for query_idx in range( idx, idx+20 ):\n",
      "    matches = get_matches( query_idx, target_top_matches_jaccard)\n",
      "    for i in matches:\n",
      "        issued_date = data_list_of_dicts[i]['IssuedOn']\n",
      "        if \"2008-09\" in issued_date:\n",
      "            #print query_idx, issued_date, data_list_of_dicts[i]['bill_version'], data_list_of_dicts[i]['sec_sequence'], data_list_of_dicts[i]['text']\n",
      "            print data_list_of_dicts[query_idx]['text']\n",
      "    print\n"
     ],
     "language": "python",
     "metadata": {},
     "outputs": [
      {
       "output_type": "stream",
       "stream": "stdout",
       "text": [
        "SEC. 13111. COORDINATION OF FEDERAL ACTIVITIES WITH ADOPTED STANDARDS               AND IMPLEMENTATION SPECIFICATIONS.    (a) Spending on Health Information Technology Systems.--As each agency (as defined in the Executive Order issued on August 22, 2006, relating to promoting quality and efficient health care in Federal government administered or sponsored health care programs) implements, acquires, or upgrades health information technology systems used for the direct exchange of individually identifiable health information between agencies and with non-Federal entities, it shall utilize, where available, health information technology systems and products that meet standards and implementation specifications adopted under section 3004(b) of the Public Health Service Act, as added by section 13101.    (b) Federal Information Collection Activities.--With respect to a standard or implementation specification adopted under section 3004(b) of the Public Health Service Act, as added by section 13101, the President shall take measures to ensure that Federal activities involving the broad collection and submission of health information are consistent with such standard or implementation specification, respectively, within three years after the date of such adoption.    (c) Application of Definitions.--The definitions contained in section 3000 of the Public Health Service Act, as added by section 13101, shall apply for purposes of this part.\n",
        "\n",
        "SEC. 13112. APPLICATION TO PRIVATE ENTITIES.    Each agency (as defined in such Executive Order issued on August 22, 2006, relating to promoting quality and efficient health care in Federal government administered or sponsored health care programs) shall require in contracts or agreements with health care providers, health plans, or health insurance issuers that as each provider, plan, or issuer implements, acquires, or upgrades health information technology systems, it shall utilize, where available, health information technology systems and products that meet standards and implementation specifications adopted under section 3004(b) of the Public Health Service Act, as added by section 13101.\n",
        "\n",
        "\n",
        "\n",
        "SEC. 13201. NATIONAL INSTITUTE FOR STANDARDS AND TECHNOLOGY TESTING.    (a) Pilot Testing of Standards and Implementation Specifications.--In coordination with the HIT Standards Committee established under section 3003 of the Public Health Service Act, as added by section 13101, with respect to the development of standards and implementation specifications under such section, the Director of the National Institute for Standards and Technology shall test such standards and implementation specifications, as appropriate, in order to assure the efficient implementation and use of such standards and implementation specifications.    (b) Voluntary Testing Program.--In coordination with the HIT Standards Committee established under section 3003 of the Public Health Service Act, as added by section 13101, with respect to the development of standards and implementation specifications under such section, the Director of the National Institute of Standards and Technology shall support the establishment of a conformance testing infrastructure, including the development of technical test beds. The development of this conformance testing infrastructure may include a program to accredit independent, non-Federal laboratories to perform testing.\n",
        "\n",
        "\n",
        "\n",
        "SEC. 13400. DEFINITIONS.    In this subtitle, except as specified otherwise:            (1) Breach.--The term ``breach'' means the unauthorized         acquisition, access, use, or disclosure of protected health         information which compromises the security, privacy, or         integrity of protected health information maintained by or on         behalf of a person. Such term does not include any         unintentional acquisition, access, use, or disclosure of such         information by an employee or agent of the covered entity or         business associate involved if such acquisition, access, use,         or disclosure, respectively, was made in good faith and within         the course and scope of the employment or other contractual         relationship of such employee or agent, respectively, with the         covered entity or business associate and if such information is         not further acquired, accessed, used, or disclosed by such         employee or agent.            (2) Business associate.--The term ``business associate''         has the meaning given such term in section 160.103 of title 45,         Code of Federal Regulations.            (3) Covered entity.--The term ``covered entity'' has the         meaning given such term in section 160.103 of title 45, Code of         Federal Regulations.            (4) Disclose.--The terms ``disclose'' and ``disclosure''         have the meaning given the term ``disclosure'' in section         160.103 of title 45, Code of Federal Regulations.            (5) Electronic health record.--The term ``electronic health         record'' means an electronic record of health-related         information on an individual that is created, gathered,         managed, and consulted by authorized health care clinicians and         staff.            (6) Health care operations.--The term ``health care         operation'' has the meaning given such term in section 164.501         of title 45, Code of Federal Regulations.            (7) Health care provider.--The term ``health care         provider'' has the meaning given such term in section 160.103         of title 45, Code of Federal Regulations.            (8) Health plan.--The term ``health plan'' has the meaning         given such term in section 1171(5) of the Social Security Act.            (9) National coordinator.--The term ``National         Coordinator'' means the head of the Office of the National         Coordinator for Health Information Technology established under         section 3001(a) of the Public Health Service Act, as added by         section 13101.            (10) Payment.--The term ``payment'' has the meaning given         such term in section 164.501 of title 45, Code of Federal         Regulations.            (11) Personal health record.--The term ``personal health         record'' means an electronic record of individually         identifiable health information on an individual that can be         drawn from multiple sources and that is managed, shared, and         controlled by or for the individual.            (12) Protected health information.--The term ``protected         health information'' has the meaning given such term in section         160.103 of title 45, Code of Federal Regulations.            (13) Secretary.--The term ``Secretary'' means the Secretary         of Health and Human Services.            (14) Security.--The term ``security'' has the meaning given         such term in section 164.304 of title 45, Code of Federal         Regulations.            (15) State.--The term ``State'' means each of the several         States, the District of Columbia, Puerto Rico, the Virgin         Islands, Guam, American Samoa, and the Northern Mariana         Islands.            (16) Treatment.--The term ``treatment'' has the meaning         given such term in section 164.501 of title 45, Code of Federal         Regulations.            (17) Use.--The term ``use'' has the meaning given such term         in section 160.103 of title 45, Code of Federal Regulations.            (18) Vendor of personal health records.--The term ``vendor         of personal health records'' means an entity, other than a         covered entity (as defined in paragraph (3)), that offers or         maintains a personal health record.      PART I--IMPROVED PRIVACY PROVISIONS AND SECURITY PROVISIONS\n",
        "\n",
        "\n",
        "SEC. 13402. NOTIFICATION IN THE CASE OF BREACH.    (a) In General.--A covered entity that accesses, maintains, retains, modifies, records, stores, destroys, or otherwise holds, uses, or discloses unsecured protected health information (as defined in subsection (h)(1)) shall, in the case of a breach of such information that is discovered by the covered entity, notify each individual whose unsecured protected health information has been, or is reasonably believed by the covered entity to have been, accessed, acquired, or disclosed as a result of such breach.    (b) Notification of Covered Entity by Business Associate.--A business associate of a covered entity that accesses, maintains, retains, modifies, records, stores, destroys, or otherwise holds, uses, or discloses unsecured protected health information shall, following the discovery of a breach of such information, notify the covered entity of such breach. Such notice shall include the identification of each individual whose unsecured protected health information has been, or is reasonably believed by the business associate to have been, accessed, acquired, or disclosed during such breach.    (c) Breaches Treated as Discovered.--For purposes of this section, a breach shall be treated as discovered by a covered entity or by a business associate as of the first day on which such breach is known to such entity or associate, respectively, (including any person, other than the individual committing the breach, that is an employee, officer, or other agent of such entity or associate, respectively) or should reasonably have been known to such entity or associate (or person) to have occurred.    (d) Timeliness of Notification.--            (1) In general.--Subject to subsection (g), all         notifications required under this section shall be made without         unreasonable delay and in no case later than 60 calendar days         after the discovery of a breach by the covered entity involved         (or business associate involved in the case of a notification         required under subsection (b)).            (2) Burden of proof.--The covered entity involved (or         business associate involved in the case of a notification         required under subsection (b)), shall have the burden of         demonstrating that all notifications were made as required         under this part, including evidence demonstrating the necessity         of any delay.    (e) Methods of Notice.--            (1) Individual notice.--Notice required under this section         to be provided to an individual, with respect to a breach,         shall be provided promptly and in the following form:                    (A) Written notification by first-class mail to the                 individual (or the next of kin of the individual if the                 individual is deceased) at the last known address of                 the individual or the next of kin, respectively, or, if                 specified as a preference by the individual, by                 electronic mail. The notification may be provided in                 one or more mailings as information is available.                    (B) In the case in which there is insufficient, or                 out-of-date contact information (including a phone                 number, email address, or any other form of appropriate                 communication) that precludes direct written (or, if                 specified by the individual under subparagraph (A),                 electronic) notification to the individual, a                 substitute form of notice shall be provided, including,                 in the case that there are 10 or more individuals for                 which there is insufficient or out-of-date contact                 information, a conspicuous posting for a period                 determined by the Secretary on the home page of the Web                 site of the covered entity involved or notice in major                 print or broadcast media, including major media in                 geographic areas where the individuals affected by the                 breach likely reside. Such a notice in media or web                 posting will include a toll-free phone number where an                 individual can learn whether or not the individual's                 unsecured protected health information is possibly                 included in the breach.                    (C) In any case deemed by the covered entity                 involved to require urgency because of possible                 imminent misuse of unsecured protected health                 information, the covered entity, in addition to notice                 provided under subparagraph (A), may provide                 information to individuals by telephone or other means,                 as appropriate.            (2) Media notice.--Notice shall be provided to prominent         media outlets serving a State or jurisdiction, following the         discovery of a breach described in subsection (a), if the         unsecured protected health information of more than 500         residents of such State or jurisdiction is, or is reasonably         believed to have been, accessed, acquired, or disclosed during         such breach.            (3) Notice to secretary.--Notice shall be provided to the         Secretary by covered entities of unsecured protected health         information that has been acquired or disclosed in a breach. If         the breach was with respect to 500 or more individuals than         such notice must be provided immediately. If the breach was         with respect to less than 500 individuals, the covered entity         may maintain a log of any such breach occurring and annually         submit such a log to the Secretary documenting such breaches         occurring during the year involved.            (4) Posting on hhs public website.--The Secretary shall         make available to the public on the Internet website of the         Department of Health and Human Services a list that identifies         each covered entity involved in a breach described in         subsection (a) in which the unsecured protected health         information of more than 500 individuals is acquired or         disclosed.    (f) Content of Notification.--Regardless of the method by which notice is provided to individuals under this section, notice of a breach shall include, to the extent possible, the following:            (1) A brief description of what happened, including the         date of the breach and the date of the discovery of the breach,         if known.            (2) A description of the types of unsecured protected         health information that were involved in the breach (such as         full name, Social Security number, date of birth, home address,         account number, or disability code).            (3) The steps individuals should take to protect themselves         from potential harm resulting from the breach.            (4) A brief description of what the covered entity involved         is doing to investigate the breach, to mitigate losses, and to         protect against any further breaches.            (5) Contact procedures for individuals to ask questions or         learn additional information, which shall include a toll-free         telephone number, an e-mail address, Web site, or postal         address.    (g) Delay of Notification Authorized for Law Enforcement Purposes.--If a law enforcement official determines that a notification, notice, or posting required under this section would impede a criminal investigation or cause damage to national security, such notification, notice, or posting shall be delayed in the same manner as provided under section 164.528(a)(2) of title 45, Code of Federal Regulations, in the case of a disclosure covered under such section.    (h) Unsecured Protected Health Information.--            (1) Definition.--                    (A) In general.--Subject to subparagraph (B), for                 purposes of this section, the term ``unsecured                 protected health information'' means protected health                 information that is not secured through the use of a                 technology or methodology specified by the Secretary in                 the guidance issued under paragraph (2).                    (B) Exception in case timely guidance not issued.--                In the case that the Secretary does not issue guidance                 under paragraph (2) by the date specified in such                 paragraph, for purposes of this section, the term                 ``unsecured protected health information'' shall mean                 protected health information that is not secured by a                 technology standard that renders protected health                 information unusable, unreadable, or indecipherable to                 unauthorized individuals and is developed or endorsed                 by a standards developing organization that is                 accredited by the American National Standards                 Institute.            (2) Guidance.--For purposes of paragraph (1) and section         13407(f)(3), not later than the date that is 60 days after the         date of the enactment of this Act, the Secretary shall, after         consultation with stakeholders, issue (and annually update)         guidance specifying the technologies and methodologies that         render protected health information unusable, unreadable, or         indecipherable to unauthorized individuals.    (i) Report to Congress on Breaches.--            (1) In general.--Not later than 12 months after the date of         the enactment of this Act and annually thereafter, the         Secretary shall prepare and submit to the Committee on Finance         and the Committee on Health, Education, Labor, and Pensions of         the Senate and the Committee on Ways and Means and the         Committee on Energy and Commerce of the House of         Representatives a report containing the information described         in paragraph (2) regarding breaches for which notice was         provided to the Secretary under subsection (e)(3).            (2) Information.--The information described in this         paragraph regarding breaches specified in paragraph (1) shall         include--                    (A) the number and nature of such breaches; and                    (B) actions taken in response to such breaches.    (j) Regulations; Effective Date.--To carry out this section, the Secretary of Health and Human Services shall promulgate interim final regulations by not later than the date that is 180 days after the date of the enactment of this title. The provisions of this section shall apply to breaches that are discovered on or after the date that is 30 days after the date of publication of such interim final regulations.\n",
        "\n",
        "\n",
        "SEC. 13404. APPLICATION OF PRIVACY PROVISIONS AND PENALTIES TO BUSINESS               ASSOCIATES OF COVERED ENTITIES.    (a) Application of Contract Requirements.--In the case of a business associate of a covered entity that obtains or creates protected health information pursuant to a written contract (or other written arrangement) described in section 164.502(e)(2) of title 45, Code of Federal Regulations, with such covered entity, the business associate may use and disclose such protected health information only if such use or disclosure, respectively, is in compliance with each applicable requirement of section 164.504(e) of such title. The additional requirements of this subtitle that relate to privacy and that are made applicable with respect to covered entities shall also be applicable to such a business associate and shall be incorporated into the business associate agreement between the business associate and the covered entity.    (b) Application of Knowledge Elements Associated With Contracts.--Section 164.504(e)(1)(ii) of title 45, Code of Federal Regulations, shall apply to a business associate described in subsection (a), with respect to compliance with such subsection, in the same manner that such section applies to a covered entity, with respect to compliance with the standards in sections 164.502(e) and 164.504(e) of such title, except that in applying such section 164.504(e)(1)(ii) each reference to the business associate, with respect to a contract, shall be treated as a reference to the covered entity involved in such contract.    (c) Application of Civil and Criminal Penalties.--In the case of a business associate that violates any provision of subsection (a) or (b), the provisions of sections 1176 and 1177 of the Social Security Act (42 U.S.C. 1320d-5, 1320d-6) shall apply to the business associate with respect to such violation in the same manner as such provisions apply to a person who violates a provision of part C of title XI of such Act.\n",
        "\n",
        "\n",
        "\n",
        "SEC. 13407. TEMPORARY BREACH NOTIFICATION REQUIREMENT FOR VENDORS OF               PERSONAL HEALTH RECORDS AND OTHER NON-HIPAA COVERED               ENTITIES.    (a) In General.--In accordance with subsection (c), each vendor of personal health records, following the discovery of a breach of security of unsecured PHR identifiable health information that is in a personal health record maintained or offered by such vendor, and each entity described in clause (ii) or (iii) of section 13424(b)(1)(A), following the discovery of a breach of security of such information that is obtained through a product or service provided by such entity, shall--            (1) notify each individual who is a citizen or resident of         the United States whose unsecured PHR identifiable health         information was acquired by an unauthorized person as a result         of such a breach of security; and            (2) notify the Federal Trade Commission.    (b) Notification by Third Party Service Providers.--A third party service provider that provides services to a vendor of personal health records or to an entity described in clause (ii) or (iii) of section 13424(b)(1)(A) in connection with the offering or maintenance of a personal health record or a related product or service and that accesses, maintains, retains, modifies, records, stores, destroys, or otherwise holds, uses, or discloses unsecured PHR identifiable health information in such a record as a result of such services shall, following the discovery of a breach of security of such information, notify such vendor or entity, respectively, of such breach. Such notice shall include the identification of each individual whose unsecured PHR identifiable health information has been, or is reasonably believed to have been, accessed, acquired, or disclosed during such breach.    (c) Application of Requirements for Timeliness, Method, and Content of Notifications.--Subsections (c), (d), (e), and (f) of section 13402 shall apply to a notification required under subsection (a) and a vendor of personal health records, an entity described in subsection (a) and a third party service provider described in subsection (b), with respect to a breach of security under subsection (a) of unsecured PHR identifiable health information in such records maintained or offered by such vendor, in a manner specified by the Federal Trade Commission.    (d) Notification of the Secretary.--Upon receipt of a notification of a breach of security under subsection (a)(2), the Federal Trade Commission shall notify the Secretary of such breach.    (e) Enforcement.--A violation of subsection (a) or (b) shall be treated as an unfair and deceptive act or practice in violation of a regulation under section 18(a)(1)(B) of the Federal Trade Commission Act (15 U.S.C. 57a(a)(1)(B)) regarding unfair or deceptive acts or practices.    (f) Definitions.--For purposes of this section:            (1) Breach of security.--The term ``breach of security''         means, with respect to unsecured PHR identifiable health         information of an individual in a personal health record,         acquisition of such information without the authorization of         the individual.            (2) Phr identifiable health information.--The term ``PHR         identifiable health information'' means individually         identifiable health information, as defined in section 1171(6)         of the Social Security Act (42 U.S.C. 1320d(6)), and includes,         with respect to an individual, information--                    (A) that is provided by or on behalf of the                 individual; and                    (B) that identifies the individual or with respect                 to which there is a reasonable basis to believe that                 the information can be used to identify the individual.            (3) Unsecured phr identifiable health information.--                    (A) In general.--Subject to subparagraph (B), the                 term ``unsecured PHR identifiable health information''                 means PHR identifiable health information that is not                 protected through the use of a technology or                 methodology specified by the Secretary in the guidance                 issued under section 13402(h)(2).                    (B) Exception in case timely guidance not issued.--                In the case that the Secretary does not issue guidance                 under section 13402(h)(2) by the date specified in such                 section, for purposes of this section, the term                 ``unsecured PHR identifiable health information'' shall                 mean PHR identifiable health information that is not                 secured by a technology standard that renders protected                 health information unusable, unreadable, or                 indecipherable to unauthorized individuals and that is                 developed or endorsed by a standards developing                 organization that is accredited by the American                 National Standards Institute.    (g) Regulations; Effective Date; Sunset.--            (1) Regulations; effective date.--To carry out this         section, the Federal Trade Commission shall, in accordance with         section 553 of title 5, United States Code, promulgate interim         final regulations by not later than the date that is 180 days         after the date of the enactment of this section. The provisions         of this section shall apply to breaches of security that are         discovered on or after the date that is 30 days after the date         of publication of such interim final regulations.            (2) Sunset.--The provisions of this section shall not apply         to breaches of security occurring on or after the earlier of         the following the dates:                    (A) The date on which a standard relating to                 requirements for entities that are not covered entities                 that includes requirements relating to breach                 notification has been promulgated by the Secretary.                    (B) The date on which a standard relating to                 requirements for entities that are not covered entities                 that includes requirements relating to breach                 notification has been promulgated by the Federal Trade                 Commission and has taken effect.\n",
        "\n",
        "\n",
        "SEC. 13409. CLARIFICATION OF APPLICATION OF WRONGFUL DISCLOSURES               CRIMINAL PENALTIES.    Section 1177(a) of the Social Security Act (42 U.S.C. 1320d-6(a)) is amended by adding at the end the following new sentence: ``For purposes of the previous sentence, a person (including an employee or other individual) shall be considered to have obtained or disclosed individually identifiable health information in violation of this part if the information is maintained by a covered entity (as defined in the HIPAA privacy regulation described in section 1180(b)(3)) and the individual obtained or disclosed such information without authorization.''.\n",
        "\n",
        "\n",
        "\n",
        "SEC. 13421. RELATIONSHIP TO OTHER LAWS.    (a) Application of Hipaa State Preemption.--Section 1178 of the Social Security Act (42 U.S.C. 1320d-7) shall apply to a provision or requirement under this subtitle in the same manner that such section applies to a provision or requirement under part C of title XI of such Act or a standard or implementation specification adopted or established under sections 1172 through 1174 of such Act.    (b) Health Insurance Portability and Accountability Act.--The standards governing the privacy and security of individually identifiable health information promulgated by the Secretary under sections 262(a) and 264 of the Health Insurance Portability and Accountability Act of 1996 shall remain in effect to the extent that they are consistent with this subtitle. The Secretary shall by rule amend such Federal regulations as required to make such regulations consistent with this subtitle. In carrying out the preceding sentence, the Secretary shall revise the definition of ``psychotherapy notes'' in section 164.501 of title 45, Code of Federal Regulations, to include test data that is related to direct responses, scores, items, forms, protocols, manuals, or other materials that are part of a mental health evaluation, as determined by the mental health professional providing treatment or evaluation.\n",
        "\n"
       ]
      }
     ],
     "prompt_number": 91
    },
    {
     "cell_type": "code",
     "collapsed": false,
     "input": [],
     "language": "python",
     "metadata": {},
     "outputs": [
      {
       "metadata": {},
       "output_type": "pyout",
       "prompt_number": 73,
       "text": [
        "(252010,\n",
        " [(142228, 1.0),\n",
        "  (166919, 1.0),\n",
        "  (252010, 1.0),\n",
        "  (252280, 1.0),\n",
        "  (252548, 1.0),\n",
        "  (252786, 1.0),\n",
        "  (253025, 1.0),\n",
        "  (253369, 1.0),\n",
        "  (253590, 1.0),\n",
        "  (253825, 1.0),\n",
        "  (254805, 1.0),\n",
        "  (208311, 0.85),\n",
        "  (52892, 0.4838709677419355),\n",
        "  (52902, 0.4838709677419355),\n",
        "  (52912, 0.4838709677419355),\n",
        "  (142230, 0.2962962962962963),\n",
        "  (252157, 0.2962962962962963),\n",
        "  (252427, 0.2962962962962963),\n",
        "  (253197, 0.2962962962962963),\n",
        "  (253731, 0.2962962962962963),\n",
        "  (253972, 0.2962962962962963),\n",
        "  (227795, 0.2909090909090909),\n",
        "  (243984, 0.25),\n",
        "  (258951, 0.20481927710843373),\n",
        "  (189162, 0.11347517730496454),\n",
        "  (189228, 0.11347517730496454),\n",
        "  (189291, 0.11347517730496454),\n",
        "  (206471, 0.06201550387596899),\n",
        "  (206552, 0.06060606060606061),\n",
        "  (252683, 0.06060606060606061),\n",
        "  (252921, 0.06060606060606061),\n",
        "  (253486, 0.06060606060606061),\n",
        "  (150622, 0.05860805860805861),\n",
        "  (162874, 0.052805280528052806),\n",
        "  (4492, 0.05154639175257732),\n",
        "  (176463, 0.03611738148984198),\n",
        "  (217423, 0.02809917355371901),\n",
        "  (244576, 0.027586206896551724),\n",
        "  (244705, 0.027586206896551724),\n",
        "  (244832, 0.027586206896551724),\n",
        "  (148755, 0.027257240204429302),\n",
        "  (200165, 0.026359143327841845),\n",
        "  (243838, 0.02631578947368421),\n",
        "  (146474, 0.026101141924959218),\n",
        "  (12836, 0.02029769959404601),\n",
        "  (22565, 0.018518518518518517),\n",
        "  (55344, 0.018518518518518517),\n",
        "  (23131, 0.018315018315018316),\n",
        "  (23566, 0.018315018315018316),\n",
        "  (79262, 0.017758046614872364),\n",
        "  (69519, 0.01762632197414806),\n",
        "  (69521, 0.017605633802816902),\n",
        "  (10394, 0.01744186046511628),\n",
        "  (10804, 0.01744186046511628),\n",
        "  (72277, 0.01669941060903733),\n",
        "  (231361, 0.016683022571148183),\n",
        "  (6985, 0.016569200779727095),\n",
        "  (3938, 0.0165016501650165),\n",
        "  (136803, 0.015755329008341055),\n",
        "  (22805, 0.014720314033366046),\n",
        "  (59656, 0.013562386980108499),\n",
        "  (69520, 0.013043478260869565),\n",
        "  (174755, 0.012924071082390954),\n",
        "  (11913, 0.012701100762066046),\n",
        "  (69206, 0.012254901960784314),\n",
        "  (174753, 0.011653313911143482),\n",
        "  (141970, 0.01088348271446863),\n",
        "  (2844, 0.010570824524312896),\n",
        "  (66944, 0.010026737967914439),\n",
        "  (100857, 0.009821976672805401),\n",
        "  (241064, 0.009779951100244499),\n",
        "  (136280, 0.009738283627510651),\n",
        "  (12834, 0.009586578789694428),\n",
        "  (160085, 0.009586578789694428),\n",
        "  (160283, 0.009534492428491307),\n",
        "  (155787, 0.007428040854224698),\n",
        "  (14179, 0.006291781360597719),\n",
        "  (162383, 0.005961251862891207),\n",
        "  (27340, 0.005506607929515419),\n",
        "  (204169, 0.004347826086956522),\n",
        "  (204690, 0.004347826086956522),\n",
        "  (252279, 0.004346714395295321),\n",
        "  (203634, 0.004333418302319653),\n",
        "  (219539, 0.004302708175145533),\n",
        "  (95316, 0.004056795131845842),\n",
        "  (95335, 0.004049607694254619),\n",
        "  (137428, 0.004034291477559254),\n",
        "  (137477, 0.004034291477559254),\n",
        "  (137398, 0.003999000249937516),\n",
        "  (137447, 0.003999000249937516),\n",
        "  (158572, 0.0037400654511453952),\n",
        "  (38522, 0.0036840893391664746),\n",
        "  (223671, 0.0035468853912657946),\n",
        "  (223685, 0.0035468853912657946),\n",
        "  (223692, 0.0035468853912657946),\n",
        "  (223700, 0.0035468853912657946),\n",
        "  (223707, 0.0035468853912657946),\n",
        "  (223678, 0.0035460992907801418),\n",
        "  (252278, 0.0029391424619640387),\n",
        "  (97597, 0.002813434148056972)])"
       ]
      }
     ],
     "prompt_number": 73
    },
    {
     "cell_type": "code",
     "collapsed": false,
     "input": [
      "def get_matches( target_idx, target_top_matches_jaccard ):\n",
      "    d  = dict( target_top_matches_jaccard )\n",
      "    return [ i[0] for i in d[target_idx] if i[1] > 0.7 ]    \n"
     ],
     "language": "python",
     "metadata": {},
     "outputs": [
      {
       "output_type": "stream",
       "stream": "stdout",
       "text": [
        "21860 {'IssuedOn': '2008-07-28', 'bill_version': 'hr3221-110-enr', 'sec_sequence': '27', 'SecCount': '255', 'BillVer': 'enr', 'sec_id': '141565', 'text': '              TITLE I--REFORM OF REGULATION OF ENTERPRISES      Subtitle A--Improvement of Safety and Soundness Supervision', 'Bill_id': '439423', 'Cong': '110', 'sec_length': '126', 'bill_ver_id': '16139', 'BillNum': '3221', 'BillType': 'hr'}\n",
        "22113 {'IssuedOn': '2008-07-16', 'bill_version': 'hr3221-110-eas2', 'sec_sequence': '25', 'SecCount': '242', 'BillVer': 'eas2', 'sec_id': '141818', 'text': '              TITLE I--REFORM OF REGULATION OF ENTERPRISES      Subtitle A--Improvement of Safety and Soundness Supervision', 'Bill_id': '439423', 'Cong': '110', 'sec_length': '127', 'bill_ver_id': '16140', 'BillNum': '3221', 'BillType': 'hr'}\n",
        "23880 {'IssuedOn': '2008-07-23', 'bill_version': 'hr3221-110-eah2', 'sec_sequence': '26', 'SecCount': '254', 'BillVer': 'eah2', 'sec_id': '143585', 'text': '              TITLE I--REFORM OF REGULATION OF ENTERPRISES      Subtitle A--Improvement of Safety and Soundness Supervision', 'Bill_id': '439423', 'Cong': '110', 'sec_length': '127', 'bill_ver_id': '16146', 'BillNum': '3221', 'BillType': 'hr'}\n",
        "77957 {'IssuedOn': '2008-07-16', 'bill_version': 'hr6521-110-ih', 'sec_sequence': '6', 'SecCount': '76', 'BillVer': 'ih', 'sec_id': '197662', 'text': '              TITLE I--REFORM OF REGULATION OF ENTERPRISES      Subtitle A--Improvement of Safety and Soundness Supervision', 'Bill_id': '442723', 'Cong': '110', 'sec_length': '127', 'bill_ver_id': '22287', 'BillNum': '6521', 'BillType': 'hr'}\n",
        "103591 {'IssuedOn': '2007-04-12', 'bill_version': 's1100-110-is', 'sec_sequence': '7', 'SecCount': '73', 'BillVer': 'is', 'sec_id': '223296', 'text': '              TITLE I--REFORM OF REGULATION OF ENTERPRISES      Subtitle A--Improvement of Safety and Soundness Supervision', 'Bill_id': '416013', 'Cong': '110', 'sec_length': '127', 'bill_ver_id': '24997', 'BillNum': '1100', 'BillType': 's'}\n"
       ]
      }
     ],
     "prompt_number": 36
    },
    {
     "cell_type": "code",
     "collapsed": false,
     "input": [
      "import collections\n",
      "collections.Counter( [ i[1] for i in data ] )"
     ],
     "language": "python",
     "metadata": {},
     "outputs": [
      {
       "metadata": {},
       "output_type": "pyout",
       "prompt_number": 16,
       "text": [
        "Counter({'216': 44, '58': 32, '101': 32, '97': 32, '99': 22, '95': 22, '100': 17, '2': 16, '157': 15, '146': 15, '144': 15, '145': 15, '142': 15, '141': 15, '137': 14, '165': 13, '166': 13, '163': 13, '167': 13, '164': 13, '162': 13, '158': 13, '212': 12, '74': 12, '136': 11, '28': 11, '34': 11, '61': 11, '62': 11, '63': 11, '66': 11, '67': 11, '253': 11, '150': 11, '143': 11, '78': 11, '86': 10, '33': 10, '30': 10, '37': 10, '60': 10, '171': 10, '91': 10, '231': 10, '40': 10, '73': 10, '119': 9, '120': 9, '126': 9, '112': 9, '246': 9, '188': 9, '98': 9, '235': 9, '232': 9, '75': 9, '160': 8, '121': 8, '122': 8, '118': 8, '190': 8, '193': 8, '115': 8, '114': 8, '113': 8, '247': 8, '245': 8, '240': 8, '242': 8, '252': 8, '117': 8, '250': 8, '116': 8, '218': 7, '134': 7, '139': 7, '22': 7, '161': 7, '129': 7, '200': 7, '194': 7, '191': 7, '111': 7, '173': 7, '172': 7, '181': 7, '189': 7, '168': 7, '169': 7, '151': 7, '153': 7, '152': 7, '155': 7, '154': 7, '156': 7, '147': 7, '140': 7, '149': 7, '227': 7, '226': 6, '174': 6, '202': 6, '221': 6, '229': 6, '228': 6, '236': 6, '230': 6, '233': 6, '224': 6, '43': 6, '217': 5, '25': 5, '26': 5, '27': 5, '21': 5, '29': 5, '55': 5, '51': 5, '50': 5, '192': 5, '83': 5, '84': 5, '85': 5, '254': 5, '243': 5, '102': 5, '32': 5, '31': 5, '64': 5, '65': 5, '68': 5, '69': 5, '170': 5, '203': 5, '183': 5, '184': 5, '220': 5, '186': 5, '196': 5, '93': 5, '94': 5, '96': 5, '12': 5, '204': 5, '234': 5, '239': 5, '48': 5, '46': 5, '47': 5, '42': 5, '41': 5, '77': 5, '72': 5, '71': 5, '70': 5, '219': 4, '133': 4, '135': 4, '23': 4, '124': 4, '125': 4, '127': 4, '59': 4, '56': 4, '52': 4, '199': 4, '179': 4, '195': 4, '197': 4, '178': 4, '88': 4, '89': 4, '110': 4, '82': 4, '80': 4, '81': 4, '87': 4, '251': 4, '177': 4, '39': 4, '38': 4, '36': 4, '35': 4, '176': 4, '175': 4, '182': 4, '180': 4, '185': 4, '90': 4, '92': 4, '13': 4, '16': 4, '49': 4, '148': 4, '76': 4, '215': 3, '210': 3, '211': 3, '132': 3, '131': 3, '130': 3, '138': 3, '24': 3, '20': 3, '4': 3, '8': 3, '123': 3, '128': 3, '57': 3, '198': 3, '3': 3, '7': 3, '225': 3, '108': 3, '109': 3, '241': 3, '103': 3, '106': 3, '107': 3, '104': 3, '105': 3, '205': 3, '223': 3, '222': 3, '248': 3, '187': 3, '6': 3, '11': 3, '10': 3, '15': 3, '14': 3, '17': 3, '159': 3, '207': 3, '237': 3, '1': 3, '5': 3, '9': 3, '209': 3, '208': 3, '249': 3, '214': 2, '213': 2, '54': 2, '53': 2, '201': 2, '206': 2, '244': 2, '19': 2, '18': 2, '238': 2, '44': 2, '45': 2, '79': 2, '255': 1})"
       ]
      }
     ],
     "prompt_number": 16
    },
    {
     "cell_type": "code",
     "collapsed": false,
     "input": [
      "import cPickle\n",
      "import utils_text\n",
      "reload( utils_text )\n",
      "\n",
      "with open( '../../../../interactiveml/labelcli/outputs/query_match_results.pkl.bak' ) as f:\n",
      "    query_match_results = cPickle.load( f )\n",
      "\n",
      "with open( './query_match.pkl' ) as f:\n",
      "    query_match = cPickle.load( f )\n",
      "\n",
      "query_indices = [i[0] for i in query_match ]\n",
      "#print len( query_indices )\n",
      "#print len( query_match_results )\n",
      "indices_results_dict = dict( zip( query_indices, query_match_results ) )\n",
      "\n",
      "lengths_jaccards = []\n",
      "\n",
      "for index, ( query_text, match_text ) in query_match:\n",
      "    length = len( query_text.split() )\n",
      "    query_text_set = set( query_text.split() )\n",
      "    match_text_set = set( match_text.split() )\n",
      "    jaccard = utils_text.jaccard( query_text_set, match_text_set )\n",
      "    lengths_jaccards.append( (length, jaccard) )\n"
     ],
     "language": "python",
     "metadata": {},
     "outputs": [],
     "prompt_number": 57
    },
    {
     "cell_type": "code",
     "collapsed": false,
     "input": [
      "for query_idx, matches in top_matches_dates:\n",
      "    if int( data_list_of_dicts[query_idx]['sec_sequence'] ) in set( range(80,100)):\n",
      "        print matches\n",
      "                                     "
     ],
     "language": "python",
     "metadata": {},
     "outputs": [
      {
       "output_type": "stream",
       "stream": "stdout",
       "text": [
        "[(252089, '2009-02-07'), (252359, '2009-02-10'), (253904, '2009-02-10'), (154784, '2009-01-27'), (253121, '0000-00-00'), (253668, '2009-01-30'), (206524, '2009-01-16'), (206606, '2009-01-27'), (235864, '2009-01-22'), (235928, '2009-01-27'), (252737, '2009-01-28'), (252975, '2009-01-29'), (253540, '2009-01-26')]\n",
        "[(252090, '2009-02-07'), (252360, '2009-02-10'), (253905, '2009-02-10')]\n",
        "[(154785, '2009-01-27'), (252091, '2009-02-07'), (252361, '2009-02-10'), (253122, '0000-00-00'), (253669, '2009-01-30'), (253906, '2009-02-10'), (206525, '2009-01-16'), (206607, '2009-01-27'), (235865, '2009-01-22'), (235929, '2009-01-27'), (252738, '2009-01-28'), (252976, '2009-01-29'), (253541, '2009-01-26'), (68145, '2008-06-24'), (93678, '2008-09-15')]\n",
        "[(252092, '2009-02-07'), (252362, '2009-02-10'), (253907, '2009-02-10'), (154786, '2009-01-27'), (253670, '2009-01-30'), (206526, '2009-01-16'), (206608, '2009-01-27'), (235866, '2009-01-22'), (235930, '2009-01-27'), (252739, '2009-01-28'), (252977, '2009-01-29'), (253542, '2009-01-26'), (68146, '2008-06-24'), (39151, '2007-05-21'), (253123, '0000-00-00')]\n",
        "[(252093, '2009-02-07'), (252363, '2009-02-10'), (253908, '2009-02-10'), (154787, '2009-01-27'), (253671, '2009-01-30'), (206527, '2009-01-16'), (206609, '2009-01-27'), (235867, '2009-01-22'), (235931, '2009-01-27'), (252740, '2009-01-28'), (252978, '2009-01-29'), (253124, '0000-00-00'), (253543, '2009-01-26')]\n",
        "[(154788, '2009-01-27'), (252094, '2009-02-07'), (252364, '2009-02-10'), (253672, '2009-01-30'), (253909, '2009-02-10'), (206533, '2009-01-16'), (206615, '2009-01-27'), (235873, '2009-01-22'), (235937, '2009-01-27'), (252747, '2009-01-28'), (252985, '2009-01-29'), (253550, '2009-01-26'), (93685, '2008-09-15'), (253125, '0000-00-00'), (68148, '2008-06-24')]\n",
        "[(154789, '2009-01-27'), (252095, '2009-02-07'), (252365, '2009-02-10'), (253673, '2009-01-30'), (253910, '2009-02-10'), (206534, '2009-01-16'), (206616, '2009-01-27'), (235874, '2009-01-22'), (235938, '2009-01-27'), (253126, '0000-00-00'), (252748, '2009-01-28'), (252986, '2009-01-29'), (253551, '2009-01-26')]\n",
        "[(154790, '2009-01-27'), (252096, '2009-02-07'), (252366, '2009-02-10'), (253674, '2009-01-30'), (253911, '2009-02-10'), (235875, '2009-01-22'), (235939, '2009-01-27'), (253127, '0000-00-00'), (206535, '2009-01-16'), (206617, '2009-01-27'), (252749, '2009-01-28'), (252987, '2009-01-29'), (253552, '2009-01-26'), (93687, '2008-09-15'), (68150, '2008-06-24')]\n",
        "[(154791, '2009-01-27'), (252097, '2009-02-07'), (252367, '2009-02-10'), (253128, '0000-00-00'), (253675, '2009-01-30'), (253912, '2009-02-10'), (206536, '2009-01-16'), (206618, '2009-01-27'), (235876, '2009-01-22'), (235940, '2009-01-27'), (252750, '2009-01-28'), (252988, '2009-01-29'), (253553, '2009-01-26')]\n",
        "[(154792, '2009-01-27'), (252098, '2009-02-07'), (252368, '2009-02-10'), (253129, '0000-00-00'), (253676, '2009-01-30'), (253913, '2009-02-10'), (206537, '2009-01-16'), (206619, '2009-01-27'), (235877, '2009-01-22'), (235941, '2009-01-27'), (252751, '2009-01-28'), (252989, '2009-01-29'), (253554, '2009-01-26'), (93689, '2008-09-15'), (68152, '2008-06-24')]\n",
        "[(252099, '2009-02-07'), (252369, '2009-02-10'), (253914, '2009-02-10'), (154793, '2009-01-27'), (253677, '2009-01-30'), (206538, '2009-01-16'), (206620, '2009-01-27'), (235878, '2009-01-22'), (235942, '2009-01-27'), (253130, '0000-00-00'), (252752, '2009-01-28'), (252990, '2009-01-29'), (253555, '2009-01-26')]\n",
        "[(252100, '2009-02-07'), (252370, '2009-02-10'), (253915, '2009-02-10'), (154794, '2009-01-27'), (253678, '2009-01-30'), (206539, '2009-01-16'), (206621, '2009-01-27'), (235879, '2009-01-22'), (235943, '2009-01-27'), (252753, '2009-01-28'), (252991, '2009-01-29'), (253556, '2009-01-26')]\n",
        "[(252101, '2009-02-07'), (252371, '2009-02-10'), (253916, '2009-02-10'), (154795, '2009-01-27'), (253679, '2009-01-30'), (206540, '2009-01-16'), (206622, '2009-01-27'), (235880, '2009-01-22'), (235944, '2009-01-27'), (252754, '2009-01-28'), (252992, '2009-01-29'), (253557, '2009-01-26'), (253132, '0000-00-00'), (93693, '2008-09-15')]\n",
        "[(154796, '2009-01-27'), (252102, '2009-02-07'), (252372, '2009-02-10'), (253133, '0000-00-00'), (253680, '2009-01-30'), (253917, '2009-02-10'), (206541, '2009-01-16'), (206623, '2009-01-27'), (235881, '2009-01-22'), (235945, '2009-01-27'), (252755, '2009-01-28'), (252993, '2009-01-29'), (253558, '2009-01-26')]\n",
        "[(154797, '2009-01-27'), (252103, '2009-02-07'), (252373, '2009-02-10'), (253134, '0000-00-00'), (253681, '2009-01-30'), (253918, '2009-02-10'), (206542, '2009-01-16'), (206624, '2009-01-27'), (235882, '2009-01-22'), (235946, '2009-01-27'), (252756, '2009-01-28'), (252994, '2009-01-29'), (253559, '2009-01-26'), (93697, '2008-09-15'), (68160, '2008-06-24')]\n",
        "[(154798, '2009-01-27'), (252104, '2009-02-07'), (252374, '2009-02-10'), (253682, '2009-01-30'), (253919, '2009-02-10'), (206543, '2009-01-16'), (206625, '2009-01-27'), (235883, '2009-01-22'), (235947, '2009-01-27'), (252757, '2009-01-28'), (252995, '2009-01-29'), (253560, '2009-01-26'), (253135, '0000-00-00')]\n",
        "[(154799, '2009-01-27'), (252105, '2009-02-07'), (252375, '2009-02-10'), (253683, '2009-01-30'), (253920, '2009-02-10'), (206544, '2009-01-16'), (206626, '2009-01-27'), (235884, '2009-01-22'), (253136, '0000-00-00'), (235948, '2009-01-27'), (252758, '2009-01-28')]\n",
        "[(154800, '2009-01-27'), (252106, '2009-02-07'), (252376, '2009-02-10'), (253684, '2009-01-30'), (253921, '2009-02-10'), (206545, '2009-01-16'), (206627, '2009-01-27'), (235885, '2009-01-22'), (235951, '2009-01-27'), (252760, '2009-01-28'), (252998, '2009-01-29'), (253563, '2009-01-26'), (68161, '2008-06-24'), (93703, '2008-09-15')]\n",
        "[(154801, '2009-01-27'), (252107, '2009-02-07'), (252377, '2009-02-10'), (253138, '0000-00-00'), (253685, '2009-01-30'), (253922, '2009-02-10'), (206546, '2009-01-16'), (206628, '2009-01-27'), (235886, '2009-01-22'), (235952, '2009-01-27'), (252761, '2009-01-28'), (252999, '2009-01-29'), (253564, '2009-01-26'), (93704, '2008-09-15')]\n",
        "[(154802, '2009-01-27'), (252108, '2009-02-07'), (252378, '2009-02-10'), (253139, '0000-00-00'), (253686, '2009-01-30'), (253923, '2009-02-10'), (206547, '2009-01-16'), (206629, '2009-01-27'), (235887, '2009-01-22'), (235953, '2009-01-27'), (252762, '2009-01-28'), (253000, '2009-01-29'), (253565, '2009-01-26')]\n"
       ]
      }
     ],
     "prompt_number": 54
    },
    {
     "cell_type": "code",
     "collapsed": false,
     "input": [
      "print data_list_of_dicts[93685]"
     ],
     "language": "python",
     "metadata": {},
     "outputs": [
      {
       "output_type": "stream",
       "stream": "stdout",
       "text": [
        "{'IssuedOn': '2008-09-15', 'bill_version': 'hr6898-110-ih', 'sec_sequence': '20', 'SecCount': '40', 'BillVer': 'ih', 'sec_id': '213390', 'text': \"SEC. 400. DEFINITIONS.    In this title, except as specified otherwise:            (1) Breach.--The term ``breach'' means the unauthorized         acquisition, access, or disclosure of protected health         information which compromises the security, privacy, or         integrity of protected health information maintained by or on         behalf of a person. Such term does not include any         unintentional acquisition or access of such information by an         employee or agent of the covered entity or business associate         involved if such acquisition or access, respectively, was made         in good faith and within the course and scope of the employment         or other contractual relationship of such employee or agent,         respectively, with the covered entity or business associate and         if such information is not further acquired, accessed, or         disclosed by such employee or agent.            (2) Business associate.--The term ``business associate''         has the meaning given such term in section 160.103 of title 45,         Code of Federal Regulations.            (3) Covered entity.--The term ``covered entity'' has the         meaning given such term in section 160.103 of title 45, Code of         Federal Regulations.            (4) Disclose.--The terms ``disclose'' and ``disclosure''         have the meaning given the term ``disclosure'' in section         160.103 of title 45, Code of Federal Regulations.            (5) Electronic health record.--The term ``electronic health         record'' means an electronic record of health-related         information on an individual that is created, gathered,         managed, and consulted by authorized health care clinicians and         staff of one or more organizations, that conforms to standards         adopted under section 3003(a) of the Public Health Service Act,         as added by section 101, and is made accessible electronically         to other health care organizations and other authorized users.            (6) Electronic medical record.--The term ``electronic         medical record'' means an electronic record of individually         identifiable health information on an individual that is         created, gathered, managed, and consulted by authorized health         care clinicians and staff within a single organization.            (7) Health care operations.--The term ``health care         operation'' has the meaning given such term in section 164.501         of title 45, Code of Federal Regulations.            (8) Health care provider.--The term ``health care         provider'' has the meaning given such term in section 160.103         of title 45, Code of Federal Regulations.            (9) Health plan.--The term ``health plan'' has the meaning         given such term in section 1171(5) of the Social Security Act,         as amended by section 415.            (10) National coordinator.--The term ``National         Coordinator'' means the head of the Office of the National         Coordinator for Health Information Technology established under         section 3001(a) of the Public Health Service Act, as added by         section 101.            (11) Payment.--The term ``payment'' has the meaning given         such term in section 164.501 of title 45, Code of Federal         Regulations.            (12) Personal health record.--The term ``personal health         record'' means an electronic record of individually         identifiable health information on an individual that can be         drawn from multiple sources and that is managed, shared, and         controlled by or for the individual.            (13) Protected health information.--The term ``protected         health information'' has the meaning given such term in section         160.103 of title 45, Code of Federal Regulations.            (14) Secretary.--The term ``Secretary'' means the Secretary         of Health and Human Services.            (15) Security.--The term ``security'' has the meaning given         such term in section 164.304 of title 45, Code of Federal         Regulations.            (16) State.--The term ``State'' means each of the several         States, the District of Columbia, Puerto Rico, the Virgin         Islands, Guam, American Samoa, and the Northern Mariana         Islands.            (17) Treatment.--The term ``treatment'' has the meaning         given such term in section 164.501 of title 45, Code of Federal         Regulations.            (18) Use.--The term ``use'' has the meaning given such term         in section 160.103 of title 45, Code of Federal Regulations.            (19) Vendor of personal health records.--The term ``vendor         of personal health records'' means an entity that offers or         maintains a personal health record. Such term does not include         an entity that is a covered entity for purposes of offering or         maintaining such personal health record.    Subtitle A--Improved Privacy Provisions and Security Provisions\", 'Bill_id': '443100', 'Cong': '110', 'sec_length': '5113', 'bill_ver_id': '23732', 'BillNum': '6898', 'BillType': 'hr'}\n"
       ]
      }
     ],
     "prompt_number": 55
    }
   ],
   "metadata": {}
  }
 ]
}