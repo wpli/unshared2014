{
 "metadata": {
  "name": ""
 },
 "nbformat": 3,
 "nbformat_minor": 0,
 "worksheets": [
  {
   "cells": [
    {
     "cell_type": "code",
     "collapsed": false,
     "input": [
      "import os, sys\n",
      "import csv\n",
      "import datetime\n",
      "import dateutil\n",
      "import cPickle\n",
      "sys.path.append( '../utils' )\n",
      "import utils_text\n",
      "import utils_search\n",
      "data_path = '../../data/unshared-task-poliinformatics-2014-v1.0/CongressionalBills'\n",
      "bills = [ i for i in os.listdir( data_path ) if \".txt\" in i ]\n",
      "sys.path.append( '../utils' )\n",
      "csv.field_size_limit(sys.maxsize)\n",
      "\n",
      "congress_files = [ '110thALL.txt', '111thALL.txt' ]\n",
      "\n",
      "data_list_of_dicts = []\n",
      "for congress in congress_files:    \n",
      "    full_path = os.path.join( data_path, congress )\n",
      "    with open( full_path, 'rb' ) as f:\n",
      "        csvreader = csv.reader( f, delimiter='\\t', quoting=csv.QUOTE_ALL )\n",
      "        for idx, row in enumerate(  csvreader ):\n",
      "            if idx == 0:\n",
      "                header = row\n",
      "            else:    \n",
      "                data_dict = dict( zip( header, row ) )\n",
      "                assert len( data_dict ) == len( header )\n",
      "                data_list_of_dicts.append( data_dict )\n"
     ],
     "language": "python",
     "metadata": {},
     "outputs": [],
     "prompt_number": 1
    },
    {
     "cell_type": "markdown",
     "metadata": {},
     "source": [
      "Summary Statistics"
     ]
    },
    {
     "cell_type": "code",
     "collapsed": false,
     "input": [
      "cong_billtype_version = [ ( i['Cong'], i['BillType'], i['bill_version'] ) for i in data_list_of_dicts ] \n",
      "\n",
      "for cong in ( '110', '111' ):\n",
      "    for billtype in ( 'hr', 's' ):\n",
      "        print cong, billtype, \n",
      "        print len( set( [ i[2] for i in cong_billtype_version if i[0] == cong and i[1] == billtype ] ) )\n",
      "\n",
      "#print set( [ i[1] for i in cong_billtype_version ] )\n",
      "#bill_types = [ i['BillType'] for i in data_list_of_dicts ]\n",
      "#print data_list_of_dicts[0]"
     ],
     "language": "python",
     "metadata": {},
     "outputs": [
      {
       "output_type": "stream",
       "stream": "stdout",
       "text": [
        "110 hr "
       ]
      },
      {
       "output_type": "stream",
       "stream": "stdout",
       "text": [
        "10437\n",
        "110 s "
       ]
      },
      {
       "output_type": "stream",
       "stream": "stdout",
       "text": [
        "4755\n",
        "111 hr "
       ]
      },
      {
       "output_type": "stream",
       "stream": "stdout",
       "text": [
        "8923\n",
        "111 s "
       ]
      },
      {
       "output_type": "stream",
       "stream": "stdout",
       "text": [
        "4795\n"
       ]
      }
     ],
     "prompt_number": 13
    },
    {
     "cell_type": "code",
     "collapsed": false,
     "input": [
      "print 10437+4755\n",
      "print 8923+4795"
     ],
     "language": "python",
     "metadata": {},
     "outputs": [
      {
       "output_type": "stream",
       "stream": "stdout",
       "text": [
        "15192\n",
        "13718\n"
       ]
      }
     ],
     "prompt_number": 10
    },
    {
     "cell_type": "code",
     "collapsed": false,
     "input": [
      "#print data_list_of_dicts[0]\n",
      "cong_billtype_version_billver = [ ( i['Cong'], i['BillType'], i['bill_version'], i['BillVer'] ) for i in data_list_of_dicts ] \n",
      "\n",
      "for cong in ( '110', '111' ):\n",
      "    for billtype in ( 'hr', 's' ):\n",
      "        print cong, billtype, \n",
      "        print len( set( [ i[2] for i in cong_billtype_version_billver if i[0] == cong and i[1] == billtype and i[3] == 'enr' ] ) )"
     ],
     "language": "python",
     "metadata": {},
     "outputs": [
      {
       "output_type": "stream",
       "stream": "stdout",
       "text": [
        " 110 hr "
       ]
      },
      {
       "output_type": "stream",
       "stream": "stdout",
       "text": [
        "314\n",
        "110 s 135\n",
        "111 hr "
       ]
      },
      {
       "output_type": "stream",
       "stream": "stdout",
       "text": [
        "255\n",
        "111 s 112\n"
       ]
      }
     ],
     "prompt_number": 15
    },
    {
     "cell_type": "markdown",
     "metadata": {},
     "source": [
      "Load the data"
     ]
    },
    {
     "cell_type": "code",
     "collapsed": false,
     "input": [],
     "language": "python",
     "metadata": {},
     "outputs": []
    },
    {
     "cell_type": "code",
     "collapsed": false,
     "input": [
      "data_list_sets = []\n",
      "for idx, i in enumerate( data_list_of_dicts ):\n",
      "    if idx % 10000 == 0:\n",
      "        sys.stderr.write( \"%s \" % idx )\n",
      "    x = i['text'].lower()\n",
      "    text = utils_text.strip_punctuation( x )\n",
      "    word_set = set( text.split() )\n",
      "    data_list_sets.append( word_set )"
     ],
     "language": "python",
     "metadata": {},
     "outputs": [
      {
       "output_type": "stream",
       "stream": "stderr",
       "text": [
        "0 10000 "
       ]
      },
      {
       "output_type": "stream",
       "stream": "stderr",
       "text": [
        "20000 30000 "
       ]
      },
      {
       "output_type": "stream",
       "stream": "stderr",
       "text": [
        "40000 50000 "
       ]
      },
      {
       "output_type": "stream",
       "stream": "stderr",
       "text": [
        "60000 70000 "
       ]
      },
      {
       "output_type": "stream",
       "stream": "stderr",
       "text": [
        "80000 90000 "
       ]
      },
      {
       "output_type": "stream",
       "stream": "stderr",
       "text": [
        "100000 110000 "
       ]
      },
      {
       "output_type": "stream",
       "stream": "stderr",
       "text": [
        "120000 130000 "
       ]
      },
      {
       "output_type": "stream",
       "stream": "stderr",
       "text": [
        "140000 150000 "
       ]
      },
      {
       "output_type": "stream",
       "stream": "stderr",
       "text": [
        "160000 170000 "
       ]
      },
      {
       "output_type": "stream",
       "stream": "stderr",
       "text": [
        "180000 190000 "
       ]
      },
      {
       "output_type": "stream",
       "stream": "stderr",
       "text": [
        "200000 210000 "
       ]
      },
      {
       "output_type": "stream",
       "stream": "stderr",
       "text": [
        "220000 230000 "
       ]
      },
      {
       "output_type": "stream",
       "stream": "stderr",
       "text": [
        "240000 250000 "
       ]
      }
     ],
     "prompt_number": 2
    },
    {
     "cell_type": "code",
     "collapsed": false,
     "input": [
      "import collections\n",
      "word_inverted_index = collections.defaultdict( list )\n",
      "\n",
      "for idx, word_set in enumerate( data_list_sets ):\n",
      "    if idx % 1000 == 0:\n",
      "        sys.stderr.write( \"%s \" % idx )\n",
      "\n",
      "        \n",
      "    for word in list( word_set ):\n",
      "        word_inverted_index[word].append( idx )\n",
      "\n",
      "with open( '../../data/processed/word_inverted_index_110_111.pkl', 'w' ) as f:\n",
      "    cPickle.dump( word_inverted_index, f )"
     ],
     "language": "python",
     "metadata": {},
     "outputs": [
      {
       "output_type": "stream",
       "stream": "stderr",
       "text": [
        "0 1000 "
       ]
      },
      {
       "output_type": "stream",
       "stream": "stderr",
       "text": [
        "2000 3000 "
       ]
      },
      {
       "output_type": "stream",
       "stream": "stderr",
       "text": [
        "4000 5000 6000 "
       ]
      },
      {
       "output_type": "stream",
       "stream": "stderr",
       "text": [
        "7000 8000 9000 "
       ]
      },
      {
       "output_type": "stream",
       "stream": "stderr",
       "text": [
        "10000 11000 12000 "
       ]
      },
      {
       "output_type": "stream",
       "stream": "stderr",
       "text": [
        "13000 14000 15000 "
       ]
      },
      {
       "output_type": "stream",
       "stream": "stderr",
       "text": [
        "16000 17000 18000 "
       ]
      },
      {
       "output_type": "stream",
       "stream": "stderr",
       "text": [
        "19000 20000 21000 "
       ]
      },
      {
       "output_type": "stream",
       "stream": "stderr",
       "text": [
        "22000 23000 24000 "
       ]
      },
      {
       "output_type": "stream",
       "stream": "stderr",
       "text": [
        "25000 26000 27000 "
       ]
      },
      {
       "output_type": "stream",
       "stream": "stderr",
       "text": [
        "28000 29000 30000 "
       ]
      },
      {
       "output_type": "stream",
       "stream": "stderr",
       "text": [
        "31000 32000 33000 "
       ]
      },
      {
       "output_type": "stream",
       "stream": "stderr",
       "text": [
        "34000 35000 36000 "
       ]
      },
      {
       "output_type": "stream",
       "stream": "stderr",
       "text": [
        "37000 38000 39000 "
       ]
      },
      {
       "output_type": "stream",
       "stream": "stderr",
       "text": [
        "40000 41000 "
       ]
      },
      {
       "output_type": "stream",
       "stream": "stderr",
       "text": [
        "42000 43000 44000 "
       ]
      },
      {
       "output_type": "stream",
       "stream": "stderr",
       "text": [
        "45000 46000 47000 "
       ]
      },
      {
       "output_type": "stream",
       "stream": "stderr",
       "text": [
        "48000 49000 50000 "
       ]
      },
      {
       "output_type": "stream",
       "stream": "stderr",
       "text": [
        "51000 52000 "
       ]
      },
      {
       "output_type": "stream",
       "stream": "stderr",
       "text": [
        "53000 54000 55000 "
       ]
      },
      {
       "output_type": "stream",
       "stream": "stderr",
       "text": [
        "56000 57000 58000 "
       ]
      },
      {
       "output_type": "stream",
       "stream": "stderr",
       "text": [
        "59000 60000 61000 "
       ]
      },
      {
       "output_type": "stream",
       "stream": "stderr",
       "text": [
        "62000 63000 64000 "
       ]
      },
      {
       "output_type": "stream",
       "stream": "stderr",
       "text": [
        "65000 66000 67000 "
       ]
      },
      {
       "output_type": "stream",
       "stream": "stderr",
       "text": [
        "68000 69000 70000 "
       ]
      },
      {
       "output_type": "stream",
       "stream": "stderr",
       "text": [
        "71000 72000 "
       ]
      },
      {
       "output_type": "stream",
       "stream": "stderr",
       "text": [
        "73000 74000 75000 "
       ]
      },
      {
       "output_type": "stream",
       "stream": "stderr",
       "text": [
        "76000 77000 "
       ]
      },
      {
       "output_type": "stream",
       "stream": "stderr",
       "text": [
        "78000 79000 80000 "
       ]
      },
      {
       "output_type": "stream",
       "stream": "stderr",
       "text": [
        "81000 82000 "
       ]
      },
      {
       "output_type": "stream",
       "stream": "stderr",
       "text": [
        "83000 84000 "
       ]
      },
      {
       "output_type": "stream",
       "stream": "stderr",
       "text": [
        "85000 86000 87000 "
       ]
      },
      {
       "output_type": "stream",
       "stream": "stderr",
       "text": [
        "88000 89000 90000 "
       ]
      },
      {
       "output_type": "stream",
       "stream": "stderr",
       "text": [
        "91000 92000 93000 "
       ]
      },
      {
       "output_type": "stream",
       "stream": "stderr",
       "text": [
        "94000 95000 96000 "
       ]
      },
      {
       "output_type": "stream",
       "stream": "stderr",
       "text": [
        "97000 98000 "
       ]
      },
      {
       "output_type": "stream",
       "stream": "stderr",
       "text": [
        "99000 100000 101000 "
       ]
      },
      {
       "output_type": "stream",
       "stream": "stderr",
       "text": [
        "102000 103000 104000 "
       ]
      },
      {
       "output_type": "stream",
       "stream": "stderr",
       "text": [
        "105000 106000 107000 "
       ]
      },
      {
       "output_type": "stream",
       "stream": "stderr",
       "text": [
        "108000 109000 110000 "
       ]
      },
      {
       "output_type": "stream",
       "stream": "stderr",
       "text": [
        "111000 112000 113000 "
       ]
      },
      {
       "output_type": "stream",
       "stream": "stderr",
       "text": [
        "114000 115000 116000 "
       ]
      },
      {
       "output_type": "stream",
       "stream": "stderr",
       "text": [
        "117000 118000 "
       ]
      },
      {
       "output_type": "stream",
       "stream": "stderr",
       "text": [
        "119000 120000 121000 "
       ]
      },
      {
       "output_type": "stream",
       "stream": "stderr",
       "text": [
        "122000 123000 124000 "
       ]
      },
      {
       "output_type": "stream",
       "stream": "stderr",
       "text": [
        "125000 126000 127000 "
       ]
      },
      {
       "output_type": "stream",
       "stream": "stderr",
       "text": [
        "128000 129000 130000 "
       ]
      },
      {
       "output_type": "stream",
       "stream": "stderr",
       "text": [
        "131000 132000 "
       ]
      },
      {
       "output_type": "stream",
       "stream": "stderr",
       "text": [
        "133000 134000 135000 "
       ]
      },
      {
       "output_type": "stream",
       "stream": "stderr",
       "text": [
        "136000 137000 138000 "
       ]
      },
      {
       "output_type": "stream",
       "stream": "stderr",
       "text": [
        "139000 140000 141000 "
       ]
      },
      {
       "output_type": "stream",
       "stream": "stderr",
       "text": [
        "142000 143000 "
       ]
      },
      {
       "output_type": "stream",
       "stream": "stderr",
       "text": [
        "144000 145000 "
       ]
      },
      {
       "output_type": "stream",
       "stream": "stderr",
       "text": [
        "146000 147000 "
       ]
      },
      {
       "output_type": "stream",
       "stream": "stderr",
       "text": [
        "148000 149000 150000 "
       ]
      },
      {
       "output_type": "stream",
       "stream": "stderr",
       "text": [
        "151000 152000 153000 "
       ]
      },
      {
       "output_type": "stream",
       "stream": "stderr",
       "text": [
        "154000 155000 "
       ]
      },
      {
       "output_type": "stream",
       "stream": "stderr",
       "text": [
        "156000 157000 158000 "
       ]
      },
      {
       "output_type": "stream",
       "stream": "stderr",
       "text": [
        "159000 160000 "
       ]
      },
      {
       "output_type": "stream",
       "stream": "stderr",
       "text": [
        "161000 162000 "
       ]
      },
      {
       "output_type": "stream",
       "stream": "stderr",
       "text": [
        "163000 164000 165000 "
       ]
      },
      {
       "output_type": "stream",
       "stream": "stderr",
       "text": [
        "166000 167000 168000 "
       ]
      },
      {
       "output_type": "stream",
       "stream": "stderr",
       "text": [
        "169000 170000 171000 "
       ]
      },
      {
       "output_type": "stream",
       "stream": "stderr",
       "text": [
        "172000 173000 "
       ]
      },
      {
       "output_type": "stream",
       "stream": "stderr",
       "text": [
        "174000 175000 176000 "
       ]
      },
      {
       "output_type": "stream",
       "stream": "stderr",
       "text": [
        "177000 178000 179000 "
       ]
      },
      {
       "output_type": "stream",
       "stream": "stderr",
       "text": [
        "180000 181000 182000 "
       ]
      },
      {
       "output_type": "stream",
       "stream": "stderr",
       "text": [
        "183000 184000 185000 "
       ]
      },
      {
       "output_type": "stream",
       "stream": "stderr",
       "text": [
        "186000 187000 188000 "
       ]
      },
      {
       "output_type": "stream",
       "stream": "stderr",
       "text": [
        "189000 190000 191000 "
       ]
      },
      {
       "output_type": "stream",
       "stream": "stderr",
       "text": [
        "192000 193000 194000 "
       ]
      },
      {
       "output_type": "stream",
       "stream": "stderr",
       "text": [
        "195000 196000 197000 "
       ]
      },
      {
       "output_type": "stream",
       "stream": "stderr",
       "text": [
        "198000 199000 200000 "
       ]
      },
      {
       "output_type": "stream",
       "stream": "stderr",
       "text": [
        "201000 202000 203000 "
       ]
      },
      {
       "output_type": "stream",
       "stream": "stderr",
       "text": [
        "204000 205000 "
       ]
      },
      {
       "output_type": "stream",
       "stream": "stderr",
       "text": [
        "206000 207000 "
       ]
      },
      {
       "output_type": "stream",
       "stream": "stderr",
       "text": [
        "208000 209000 210000 "
       ]
      },
      {
       "output_type": "stream",
       "stream": "stderr",
       "text": [
        "211000 212000 213000 "
       ]
      },
      {
       "output_type": "stream",
       "stream": "stderr",
       "text": [
        "214000 215000 216000 "
       ]
      },
      {
       "output_type": "stream",
       "stream": "stderr",
       "text": [
        "217000 218000 "
       ]
      },
      {
       "output_type": "stream",
       "stream": "stderr",
       "text": [
        "219000 220000 "
       ]
      },
      {
       "output_type": "stream",
       "stream": "stderr",
       "text": [
        "221000 222000 223000 "
       ]
      },
      {
       "output_type": "stream",
       "stream": "stderr",
       "text": [
        "224000 225000 "
       ]
      },
      {
       "output_type": "stream",
       "stream": "stderr",
       "text": [
        "226000 227000 "
       ]
      },
      {
       "output_type": "stream",
       "stream": "stderr",
       "text": [
        "228000 229000 230000 "
       ]
      },
      {
       "output_type": "stream",
       "stream": "stderr",
       "text": [
        "231000 232000 233000 "
       ]
      },
      {
       "output_type": "stream",
       "stream": "stderr",
       "text": [
        "234000 235000 236000 "
       ]
      },
      {
       "output_type": "stream",
       "stream": "stderr",
       "text": [
        "237000 238000 239000 "
       ]
      },
      {
       "output_type": "stream",
       "stream": "stderr",
       "text": [
        "240000 241000 242000 "
       ]
      },
      {
       "output_type": "stream",
       "stream": "stderr",
       "text": [
        "243000 244000 245000 "
       ]
      },
      {
       "output_type": "stream",
       "stream": "stderr",
       "text": [
        "246000 247000 "
       ]
      },
      {
       "output_type": "stream",
       "stream": "stderr",
       "text": [
        "248000 249000 250000 "
       ]
      },
      {
       "output_type": "stream",
       "stream": "stderr",
       "text": [
        "251000 252000 253000 "
       ]
      },
      {
       "output_type": "stream",
       "stream": "stderr",
       "text": [
        "254000 255000 256000 "
       ]
      },
      {
       "output_type": "stream",
       "stream": "stderr",
       "text": [
        "257000 258000 259000 "
       ]
      }
     ],
     "prompt_number": 3
    },
    {
     "cell_type": "code",
     "collapsed": false,
     "input": [
      "# Load from pickle\n",
      "with open( '../../data/processed/word_inverted_index_110_111.pkl' ) as f:\n",
      "    word_inverted_index = cPickle.load( f )"
     ],
     "language": "python",
     "metadata": {},
     "outputs": [],
     "prompt_number": 35
    },
    {
     "cell_type": "code",
     "collapsed": false,
     "input": [
      "bill_name_dict = { 'TARP': 'hr1424-110-enr', 'HERA': 'hr3221-110-enr', 'Dodd-Frank': 'hr4173-111-enr', \n",
      "                  'ARRA': 'hr1-111-as2'}\n",
      "\n",
      "target_bill = bill_name_dict[\"ARRA\"]\n",
      "target_indices = set( [ idx for idx, i in enumerate( data_list_of_dicts ) if i['bill_version'] == target_bill ] )\n"
     ],
     "language": "python",
     "metadata": {},
     "outputs": [],
     "prompt_number": 42
    },
    {
     "cell_type": "code",
     "collapsed": false,
     "input": [
      "dateless_indices = [ idx for idx, i in enumerate( data_list_of_dicts ) if i['IssuedOn'] == '0000-00-00' ]\n",
      "print len( dateless_indices )"
     ],
     "language": "python",
     "metadata": {},
     "outputs": [
      {
       "output_type": "stream",
       "stream": "stdout",
       "text": [
        "35597\n"
       ]
      }
     ],
     "prompt_number": 31
    },
    {
     "cell_type": "code",
     "collapsed": false,
     "input": [
      "bill_versions = [ data_list_of_dicts[i]['BillVer'] for i in dateless_indices ]\n",
      "print bill_versions[:100]"
     ],
     "language": "python",
     "metadata": {},
     "outputs": [
      {
       "output_type": "stream",
       "stream": "stdout",
       "text": [
        "['is', 'is', 'enr', 'enr', 'enr', 'enr', 'enr', 'is', 'is', 'is', 'is', 'is', 'is', 'is', 'is', 'is', 'is', 'is', 'is', 'is', 'is', 'is', 'is', 'is', 'is', 'is', 'is', 'is', 'is', 'is', 'is', 'is', 'is', 'is', 'is', 'is', 'is', 'is', 'is', 'is', 'is', 'is', 'is', 'enr', 'enr', 'enr', 'enr', 'enr', 'es', 'es', 'es', 'es', 'is', 'is', 'is', 'is', 'is', 'is', 'is', 'is', 'is', 'is', 'is', 'is', 'is', 'is', 'is', 'is', 'is', 'is', 'enr', 'enr', 'enr', 'enr', 'enr', 'enr', 'is', 'is', 'is', 'rs', 'rs', 'rs', 'rs', 'rs', 'rs', 'rs', 'rs', 'rs', 'rs', 'rs', 'rs', 'rs', 'rs', 'rs', 'rs', 'is', 'is', 'pcs', 'enr', 'enr']\n"
       ]
      }
     ],
     "prompt_number": 40
    },
    {
     "cell_type": "code",
     "collapsed": false,
     "input": [
      "reload( utils_search )\n",
      "target_top_matches = []\n",
      "for idx, i in enumerate( data_list_sets ):\n",
      "    if idx in target_indices:    \n",
      "    #if idx % 100 == 0:\n",
      "        sys.stderr.write( \"%s \" % idx )        \n",
      "        matches = utils_search.get_ranked_matches( i, word_inverted_index, top_k=100 ) \n",
      "        target_top_matches.append( ( idx, matches ) )\n",
      "    else:\n",
      "        pass"
     ],
     "language": "python",
     "metadata": {},
     "outputs": [
      {
       "output_type": "stream",
       "stream": "stderr",
       "text": [
        "252010 252011 "
       ]
      },
      {
       "output_type": "stream",
       "stream": "stderr",
       "text": [
        "252012 252013 252014 "
       ]
      },
      {
       "output_type": "stream",
       "stream": "stderr",
       "text": [
        "252015 252016 "
       ]
      },
      {
       "output_type": "stream",
       "stream": "stderr",
       "text": [
        "252017 252018 "
       ]
      },
      {
       "output_type": "stream",
       "stream": "stderr",
       "text": [
        "252019 252020 "
       ]
      },
      {
       "output_type": "stream",
       "stream": "stderr",
       "text": [
        "252021 252022 "
       ]
      },
      {
       "output_type": "stream",
       "stream": "stderr",
       "text": [
        "252023 252024 "
       ]
      },
      {
       "output_type": "stream",
       "stream": "stderr",
       "text": [
        "252025 252026 "
       ]
      },
      {
       "output_type": "stream",
       "stream": "stderr",
       "text": [
        "252027 252028 "
       ]
      },
      {
       "output_type": "stream",
       "stream": "stderr",
       "text": [
        "252029 252030 "
       ]
      },
      {
       "output_type": "stream",
       "stream": "stderr",
       "text": [
        "252031 252032 "
       ]
      },
      {
       "output_type": "stream",
       "stream": "stderr",
       "text": [
        "252033 252034 "
       ]
      },
      {
       "output_type": "stream",
       "stream": "stderr",
       "text": [
        "252035 252036 "
       ]
      },
      {
       "output_type": "stream",
       "stream": "stderr",
       "text": [
        "252037 252038 "
       ]
      },
      {
       "output_type": "stream",
       "stream": "stderr",
       "text": [
        "252039 252040 "
       ]
      },
      {
       "output_type": "stream",
       "stream": "stderr",
       "text": [
        "252041 252042 "
       ]
      },
      {
       "output_type": "stream",
       "stream": "stderr",
       "text": [
        "252043 252044 "
       ]
      },
      {
       "output_type": "stream",
       "stream": "stderr",
       "text": [
        "252045 252046 "
       ]
      },
      {
       "output_type": "stream",
       "stream": "stderr",
       "text": [
        "252047 252048 "
       ]
      },
      {
       "output_type": "stream",
       "stream": "stderr",
       "text": [
        "252049 252050 "
       ]
      },
      {
       "output_type": "stream",
       "stream": "stderr",
       "text": [
        "252051 252052 "
       ]
      },
      {
       "output_type": "stream",
       "stream": "stderr",
       "text": [
        "252053 252054 "
       ]
      },
      {
       "output_type": "stream",
       "stream": "stderr",
       "text": [
        "252055 252056 "
       ]
      },
      {
       "output_type": "stream",
       "stream": "stderr",
       "text": [
        "252057 252058 "
       ]
      },
      {
       "output_type": "stream",
       "stream": "stderr",
       "text": [
        "252059 252060 "
       ]
      },
      {
       "output_type": "stream",
       "stream": "stderr",
       "text": [
        "252061 252062 "
       ]
      },
      {
       "output_type": "stream",
       "stream": "stderr",
       "text": [
        "252063 252064 "
       ]
      },
      {
       "output_type": "stream",
       "stream": "stderr",
       "text": [
        "252065 252066 "
       ]
      },
      {
       "output_type": "stream",
       "stream": "stderr",
       "text": [
        "252067 252068 "
       ]
      },
      {
       "output_type": "stream",
       "stream": "stderr",
       "text": [
        "252069 252070 "
       ]
      },
      {
       "output_type": "stream",
       "stream": "stderr",
       "text": [
        "252071 252072 "
       ]
      },
      {
       "output_type": "stream",
       "stream": "stderr",
       "text": [
        "252073 252074 "
       ]
      },
      {
       "output_type": "stream",
       "stream": "stderr",
       "text": [
        "252075 252076 "
       ]
      },
      {
       "output_type": "stream",
       "stream": "stderr",
       "text": [
        "252077 252078 "
       ]
      },
      {
       "output_type": "stream",
       "stream": "stderr",
       "text": [
        "252079 252080 "
       ]
      },
      {
       "output_type": "stream",
       "stream": "stderr",
       "text": [
        "252081 252082 "
       ]
      },
      {
       "output_type": "stream",
       "stream": "stderr",
       "text": [
        "252083 252084 "
       ]
      },
      {
       "output_type": "stream",
       "stream": "stderr",
       "text": [
        "252085 252086 "
       ]
      },
      {
       "output_type": "stream",
       "stream": "stderr",
       "text": [
        "252087 252088 "
       ]
      },
      {
       "output_type": "stream",
       "stream": "stderr",
       "text": [
        "252089 252090 "
       ]
      },
      {
       "output_type": "stream",
       "stream": "stderr",
       "text": [
        "252091 252092 "
       ]
      },
      {
       "output_type": "stream",
       "stream": "stderr",
       "text": [
        "252093 252094 "
       ]
      },
      {
       "output_type": "stream",
       "stream": "stderr",
       "text": [
        "252095 252096 "
       ]
      },
      {
       "output_type": "stream",
       "stream": "stderr",
       "text": [
        "252097 252098 "
       ]
      },
      {
       "output_type": "stream",
       "stream": "stderr",
       "text": [
        "252099 252100 "
       ]
      },
      {
       "output_type": "stream",
       "stream": "stderr",
       "text": [
        "252101 252102 "
       ]
      },
      {
       "output_type": "stream",
       "stream": "stderr",
       "text": [
        "252103 252104 "
       ]
      },
      {
       "output_type": "stream",
       "stream": "stderr",
       "text": [
        "252105 252106 "
       ]
      },
      {
       "output_type": "stream",
       "stream": "stderr",
       "text": [
        "252107 252108 "
       ]
      },
      {
       "output_type": "stream",
       "stream": "stderr",
       "text": [
        "252109 252110 "
       ]
      },
      {
       "output_type": "stream",
       "stream": "stderr",
       "text": [
        "252111 252112 "
       ]
      },
      {
       "output_type": "stream",
       "stream": "stderr",
       "text": [
        "252113 252114 "
       ]
      },
      {
       "output_type": "stream",
       "stream": "stderr",
       "text": [
        "252115 252116 "
       ]
      },
      {
       "output_type": "stream",
       "stream": "stderr",
       "text": [
        "252117 252118 "
       ]
      },
      {
       "output_type": "stream",
       "stream": "stderr",
       "text": [
        "252119 252120 "
       ]
      },
      {
       "output_type": "stream",
       "stream": "stderr",
       "text": [
        "252121 252122 "
       ]
      },
      {
       "output_type": "stream",
       "stream": "stderr",
       "text": [
        "252123 252124 "
       ]
      },
      {
       "output_type": "stream",
       "stream": "stderr",
       "text": [
        "252125 252126 "
       ]
      },
      {
       "output_type": "stream",
       "stream": "stderr",
       "text": [
        "252127 252128 "
       ]
      },
      {
       "output_type": "stream",
       "stream": "stderr",
       "text": [
        "252129 252130 "
       ]
      },
      {
       "output_type": "stream",
       "stream": "stderr",
       "text": [
        "252131 252132 "
       ]
      },
      {
       "output_type": "stream",
       "stream": "stderr",
       "text": [
        "252133 252134 "
       ]
      },
      {
       "output_type": "stream",
       "stream": "stderr",
       "text": [
        "252135 252136 "
       ]
      },
      {
       "output_type": "stream",
       "stream": "stderr",
       "text": [
        "252137 252138 "
       ]
      },
      {
       "output_type": "stream",
       "stream": "stderr",
       "text": [
        "252139 252140 "
       ]
      },
      {
       "output_type": "stream",
       "stream": "stderr",
       "text": [
        "252141 252142 "
       ]
      },
      {
       "output_type": "stream",
       "stream": "stderr",
       "text": [
        "252143 252144 "
       ]
      },
      {
       "output_type": "stream",
       "stream": "stderr",
       "text": [
        "252145 252146 "
       ]
      },
      {
       "output_type": "stream",
       "stream": "stderr",
       "text": [
        "252147 252148 "
       ]
      },
      {
       "output_type": "stream",
       "stream": "stderr",
       "text": [
        "252149 252150 "
       ]
      },
      {
       "output_type": "stream",
       "stream": "stderr",
       "text": [
        "252151 252152 "
       ]
      },
      {
       "output_type": "stream",
       "stream": "stderr",
       "text": [
        "252153 252154 "
       ]
      },
      {
       "output_type": "stream",
       "stream": "stderr",
       "text": [
        "252155 252156 "
       ]
      },
      {
       "output_type": "stream",
       "stream": "stderr",
       "text": [
        "252157 252158 "
       ]
      },
      {
       "output_type": "stream",
       "stream": "stderr",
       "text": [
        "252159 252160 "
       ]
      },
      {
       "output_type": "stream",
       "stream": "stderr",
       "text": [
        "252161 252162 "
       ]
      },
      {
       "output_type": "stream",
       "stream": "stderr",
       "text": [
        "252163 252164 "
       ]
      },
      {
       "output_type": "stream",
       "stream": "stderr",
       "text": [
        "252165 252166 "
       ]
      },
      {
       "output_type": "stream",
       "stream": "stderr",
       "text": [
        "252167 252168 "
       ]
      },
      {
       "output_type": "stream",
       "stream": "stderr",
       "text": [
        "252169 252170 "
       ]
      },
      {
       "output_type": "stream",
       "stream": "stderr",
       "text": [
        "252171 252172 "
       ]
      },
      {
       "output_type": "stream",
       "stream": "stderr",
       "text": [
        "252173 252174 "
       ]
      },
      {
       "output_type": "stream",
       "stream": "stderr",
       "text": [
        "252175 252176 "
       ]
      },
      {
       "output_type": "stream",
       "stream": "stderr",
       "text": [
        "252177 252178 "
       ]
      },
      {
       "output_type": "stream",
       "stream": "stderr",
       "text": [
        "252179 252180 "
       ]
      },
      {
       "output_type": "stream",
       "stream": "stderr",
       "text": [
        "252181 252182 "
       ]
      },
      {
       "output_type": "stream",
       "stream": "stderr",
       "text": [
        "252183 252184 "
       ]
      },
      {
       "output_type": "stream",
       "stream": "stderr",
       "text": [
        "252185 252186 "
       ]
      },
      {
       "output_type": "stream",
       "stream": "stderr",
       "text": [
        "252187 252188 "
       ]
      },
      {
       "output_type": "stream",
       "stream": "stderr",
       "text": [
        "252189 252190 "
       ]
      },
      {
       "output_type": "stream",
       "stream": "stderr",
       "text": [
        "252191 252192 "
       ]
      },
      {
       "output_type": "stream",
       "stream": "stderr",
       "text": [
        "252193 252194 "
       ]
      },
      {
       "output_type": "stream",
       "stream": "stderr",
       "text": [
        "252195 252196 "
       ]
      },
      {
       "output_type": "stream",
       "stream": "stderr",
       "text": [
        "252197 252198 "
       ]
      },
      {
       "output_type": "stream",
       "stream": "stderr",
       "text": [
        "252199 252200 "
       ]
      },
      {
       "output_type": "stream",
       "stream": "stderr",
       "text": [
        "252201 252202 "
       ]
      },
      {
       "output_type": "stream",
       "stream": "stderr",
       "text": [
        "252203 252204 "
       ]
      },
      {
       "output_type": "stream",
       "stream": "stderr",
       "text": [
        "252205 252206 "
       ]
      },
      {
       "output_type": "stream",
       "stream": "stderr",
       "text": [
        "252207 252208 "
       ]
      },
      {
       "output_type": "stream",
       "stream": "stderr",
       "text": [
        "252209 252210 "
       ]
      },
      {
       "output_type": "stream",
       "stream": "stderr",
       "text": [
        "252211 252212 "
       ]
      },
      {
       "output_type": "stream",
       "stream": "stderr",
       "text": [
        "252213 252214 "
       ]
      },
      {
       "output_type": "stream",
       "stream": "stderr",
       "text": [
        "252215 252216 "
       ]
      },
      {
       "output_type": "stream",
       "stream": "stderr",
       "text": [
        "252217 252218 "
       ]
      },
      {
       "output_type": "stream",
       "stream": "stderr",
       "text": [
        "252219 252220 "
       ]
      },
      {
       "output_type": "stream",
       "stream": "stderr",
       "text": [
        "252221 252222 "
       ]
      },
      {
       "output_type": "stream",
       "stream": "stderr",
       "text": [
        "252223 252224 "
       ]
      },
      {
       "output_type": "stream",
       "stream": "stderr",
       "text": [
        "252225 252226 "
       ]
      },
      {
       "output_type": "stream",
       "stream": "stderr",
       "text": [
        "252227 252228 "
       ]
      },
      {
       "output_type": "stream",
       "stream": "stderr",
       "text": [
        "252229 252230 "
       ]
      },
      {
       "output_type": "stream",
       "stream": "stderr",
       "text": [
        "252231 252232 "
       ]
      },
      {
       "output_type": "stream",
       "stream": "stderr",
       "text": [
        "252233 252234 "
       ]
      },
      {
       "output_type": "stream",
       "stream": "stderr",
       "text": [
        "252235 252236 "
       ]
      },
      {
       "output_type": "stream",
       "stream": "stderr",
       "text": [
        "252237 252238 "
       ]
      },
      {
       "output_type": "stream",
       "stream": "stderr",
       "text": [
        "252239 252240 "
       ]
      },
      {
       "output_type": "stream",
       "stream": "stderr",
       "text": [
        "252241 252242 "
       ]
      },
      {
       "output_type": "stream",
       "stream": "stderr",
       "text": [
        "252243 252244 "
       ]
      },
      {
       "output_type": "stream",
       "stream": "stderr",
       "text": [
        "252245 252246 "
       ]
      },
      {
       "output_type": "stream",
       "stream": "stderr",
       "text": [
        "252247 252248 "
       ]
      },
      {
       "output_type": "stream",
       "stream": "stderr",
       "text": [
        "252249 252250 "
       ]
      },
      {
       "output_type": "stream",
       "stream": "stderr",
       "text": [
        "252251 252252 "
       ]
      },
      {
       "output_type": "stream",
       "stream": "stderr",
       "text": [
        "252253 252254 "
       ]
      },
      {
       "output_type": "stream",
       "stream": "stderr",
       "text": [
        "252255 252256 "
       ]
      },
      {
       "output_type": "stream",
       "stream": "stderr",
       "text": [
        "252257 252258 "
       ]
      },
      {
       "output_type": "stream",
       "stream": "stderr",
       "text": [
        "252259 252260 "
       ]
      },
      {
       "output_type": "stream",
       "stream": "stderr",
       "text": [
        "252261 252262 "
       ]
      },
      {
       "output_type": "stream",
       "stream": "stderr",
       "text": [
        "252263 252264 "
       ]
      },
      {
       "output_type": "stream",
       "stream": "stderr",
       "text": [
        "252265 252266 "
       ]
      },
      {
       "output_type": "stream",
       "stream": "stderr",
       "text": [
        "252267 252268 "
       ]
      },
      {
       "output_type": "stream",
       "stream": "stderr",
       "text": [
        "252269 252270 "
       ]
      },
      {
       "output_type": "stream",
       "stream": "stderr",
       "text": [
        "252271 252272 "
       ]
      },
      {
       "output_type": "stream",
       "stream": "stderr",
       "text": [
        "252273 252274 "
       ]
      },
      {
       "output_type": "stream",
       "stream": "stderr",
       "text": [
        "252275 252276 "
       ]
      },
      {
       "output_type": "stream",
       "stream": "stderr",
       "text": [
        "252277 "
       ]
      }
     ],
     "prompt_number": 43
    },
    {
     "cell_type": "code",
     "collapsed": false,
     "input": [
      "reload( utils_text )\n",
      "target_top_matches_jaccard = []\n",
      "\n",
      "for query_idx, matches in target_top_matches:\n",
      "    query_word_set = data_list_sets[query_idx]\n",
      "    jaccard_scores = []\n",
      "    for match_idx, num_matches in matches:\n",
      "        match_word_set = data_list_sets[match_idx]\n",
      "        jacc = utils_text.jaccard( query_word_set, match_word_set )\n",
      "        jaccard_scores.append( jacc )\n",
      "        \n",
      "    match_jaccard = zip( [ i[0] for i in matches ], jaccard_scores )\n",
      "    match_jaccard.sort( key=lambda x:x[1], reverse=True )\n",
      "    \n",
      "    target_top_matches_jaccard.append( ( query_idx, match_jaccard ) )\n",
      "    "
     ],
     "language": "python",
     "metadata": {},
     "outputs": [],
     "prompt_number": 44
    },
    {
     "cell_type": "code",
     "collapsed": false,
     "input": [
      "top_matches_dates = []\n",
      "# [ query_idx, [ ( match_idx, date ), ... \n",
      "for query_idx, matches in target_top_matches_jaccard:\n",
      "    #print query_idx, len( data_list_sets[query_idx] )\n",
      "    match_dates = []\n",
      "    for match_idx, jaccard in matches:\n",
      "        match_entry = data_list_of_dicts[match_idx]\n",
      "        \n",
      "        if jaccard > 0.7:\n",
      "            match_dates.append( ( match_idx, match_entry['IssuedOn'] ) )\n",
      "    top_matches_dates.append( ( query_idx, match_dates ) )\n",
      "            #print match_idx, jaccard,  \n",
      "            #print match_entry['IssuedOn'], match_entry['Bill_id']\n",
      "        \n",
      "    #print \"\\n\""
     ],
     "language": "python",
     "metadata": {},
     "outputs": [],
     "prompt_number": 45
    },
    {
     "cell_type": "code",
     "collapsed": false,
     "input": [
      "import cPickle\n",
      "import utils_text\n",
      "reload( utils_text )\n",
      "\n",
      "with open( '../../../../interactiveml/labelcli/outputs/query_match_results.pkl.bak' ) as f:\n",
      "    query_match_results = cPickle.load( f )\n",
      "\n",
      "with open( './query_match.pkl' ) as f:\n",
      "    query_match = cPickle.load( f )\n",
      "\n",
      "query_indices = [i[0] for i in query_match ]\n",
      "#print len( query_indices )\n",
      "#print len( query_match_results )\n",
      "indices_results_dict = dict( zip( query_indices, query_match_results ) )\n",
      "\n",
      "lengths_jaccards = []\n",
      "\n",
      "for index, ( query_text, match_text ) in query_match:\n",
      "    length = len( query_text.split() )\n",
      "    query_text_set = set( query_text.split() )\n",
      "    match_text_set = set( match_text.split() )\n",
      "    jaccard = utils_text.jaccard( query_text_set, match_text_set )\n",
      "    lengths_jaccards.append( (length, jaccard) )\n"
     ],
     "language": "python",
     "metadata": {},
     "outputs": [],
     "prompt_number": 57
    },
    {
     "cell_type": "code",
     "collapsed": false,
     "input": [
      "import datetime\n",
      "#from matplotlib import pyplot as plt\n",
      "from matplotlib.dates import date2num\n",
      "ct = 0\n",
      "data = []\n",
      "for query_idx, top_matches in top_matches_dates:\n",
      "    #if query_idx in exclude:\n",
      "    #    pass\n",
      "    #else:\n",
      "    if 1:\n",
      "        section_idx = data_list_of_dicts[query_idx]['sec_sequence']\n",
      "        for match_idx, date in top_matches:\n",
      "            #if match_idx in target_indices:\n",
      "            #    assert date == '0000-00-00'\n",
      "            #    # ARRA\n",
      "            #    dt = datetime.datetime( 2009, 1, 6 )\n",
      "            #    # Dodd-Frank\n",
      "            #    #dt = datetime.datetime( 2010, 7, 21 )\n",
      "            #    data.append( ( dt, section_idx ) )\n",
      "            if date == '0000-00-00':\n",
      "                print match_idx\n",
      "                ct += 1\n",
      "            else:\n",
      "                dt = datetime.datetime.strptime( date, \"%Y-%m-%d\" )\n",
      "                data.append( ( dt, section_idx ) )\n",
      "    \n",
      "#data = [(DT.datetime.strptime('2010-02-05', \"%Y-%m-%d\"), 123),\n",
      "#        (DT.datetime.strptime('2010-02-19', \"%Y-%m-%d\"), 678),\n",
      "#        (DT.datetime.strptime('2010-03-05', \"%Y-%m-%d\"), 987),\n",
      "#        (DT.datetime.strptime('2010-03-19', \"%Y-%m-%d\"), 345)]\n",
      "print ct"
     ],
     "language": "python",
     "metadata": {},
     "outputs": [
      {
       "output_type": "stream",
       "stream": "stdout",
       "text": [
        "253025\n",
        "253027\n",
        "253028\n",
        "253029\n",
        "253030\n",
        "253031\n",
        "253032\n",
        "253033\n",
        "253034\n",
        "253035\n",
        "253036\n",
        "253037\n",
        "253038\n",
        "253039\n",
        "253040\n",
        "253115\n",
        "253041\n",
        "253043\n",
        "253044\n",
        "253195\n",
        "253045\n",
        "253196\n",
        "253046\n",
        "253320\n",
        "253049\n",
        "253349\n",
        "179166\n",
        "199056\n",
        "199780\n",
        "223136\n",
        "243594\n",
        "253053\n",
        "195775\n",
        "253055\n",
        "195776\n",
        "253058\n",
        "253062\n",
        "253363\n",
        "253066\n",
        "253067\n",
        "253070\n",
        "253073\n",
        "253077\n",
        "253086\n",
        "253087\n",
        "253088\n",
        "253092\n",
        "253093\n",
        "253097\n",
        "253099\n",
        "253098\n",
        "253103\n",
        "253104\n",
        "253105\n",
        "253107\n",
        "253108\n",
        "253109\n",
        "253040\n",
        "253115\n",
        "253117\n",
        "253118\n",
        "253119\n",
        "253120\n",
        "253121\n",
        "253122\n",
        "253123\n",
        "253124\n",
        "253125\n",
        "253126\n",
        "253127\n",
        "253128\n",
        "253129\n",
        "253130\n",
        "253132\n",
        "253133\n",
        "253134\n",
        "253135\n",
        "253136\n",
        "253138\n",
        "253139\n",
        "253140\n",
        "253142\n",
        "253146\n",
        "253147\n",
        "253148\n",
        "253149\n",
        "253150\n",
        "253151\n",
        "253156\n",
        "253162\n",
        "253163\n",
        "253164\n",
        "253165\n",
        "253166\n",
        "253168\n",
        "253169\n",
        "253172\n",
        "253173\n",
        "253174\n",
        "253175\n",
        "255140\n",
        "255158\n",
        "253159\n",
        "253054\n",
        "253183\n",
        "253187\n",
        "207131\n",
        "253190\n",
        "253191\n",
        "253193\n",
        "253044\n",
        "253195\n",
        "253045\n",
        "253196\n",
        "253197\n",
        "253199\n",
        "253200\n",
        "253201\n",
        "253202\n",
        "253203\n",
        "253204\n",
        "253206\n",
        "253208\n",
        "195305\n",
        "195232\n",
        "210355\n",
        "253209\n",
        "253210\n",
        "253211\n",
        "253212\n",
        "253214\n",
        "253216\n",
        "253217\n",
        "144940\n",
        "253219\n",
        "253225\n",
        "182235\n",
        "253226\n",
        "253229\n",
        "253232\n",
        "253224\n",
        "253233\n",
        "253234\n",
        "253236\n",
        "253237\n",
        "253238\n",
        "253239\n",
        "253242\n",
        "253243\n",
        "253244\n",
        "253245\n",
        "253246\n",
        "253247\n",
        "253248\n",
        "253249\n",
        "253333\n",
        "226455\n",
        "185628\n",
        "234149\n",
        "232985\n",
        "253255\n",
        "253251\n",
        "253046\n",
        "253320\n",
        "253321\n",
        "253323\n",
        "253324\n",
        "253325\n",
        "253326\n",
        "253329\n",
        "253330\n",
        "253331\n",
        "253338\n",
        "253355\n",
        "253356\n",
        "194278\n",
        "253342\n",
        "253343\n",
        "253049\n",
        "253349\n",
        "253350\n",
        "253352\n",
        "253359\n",
        "183\n"
       ]
      }
     ],
     "prompt_number": 47
    },
    {
     "cell_type": "code",
     "collapsed": false,
     "input": [
      "for query_idx, matches in top_matches_dates:\n",
      "    if int( data_list_of_dicts[query_idx]['sec_sequence'] ) in set( range(80,100)):\n",
      "        print matches\n",
      "                                     "
     ],
     "language": "python",
     "metadata": {},
     "outputs": [
      {
       "output_type": "stream",
       "stream": "stdout",
       "text": [
        "[(252089, '2009-02-07'), (252359, '2009-02-10'), (253904, '2009-02-10'), (154784, '2009-01-27'), (253121, '0000-00-00'), (253668, '2009-01-30'), (206524, '2009-01-16'), (206606, '2009-01-27'), (235864, '2009-01-22'), (235928, '2009-01-27'), (252737, '2009-01-28'), (252975, '2009-01-29'), (253540, '2009-01-26')]\n",
        "[(252090, '2009-02-07'), (252360, '2009-02-10'), (253905, '2009-02-10')]\n",
        "[(154785, '2009-01-27'), (252091, '2009-02-07'), (252361, '2009-02-10'), (253122, '0000-00-00'), (253669, '2009-01-30'), (253906, '2009-02-10'), (206525, '2009-01-16'), (206607, '2009-01-27'), (235865, '2009-01-22'), (235929, '2009-01-27'), (252738, '2009-01-28'), (252976, '2009-01-29'), (253541, '2009-01-26'), (68145, '2008-06-24'), (93678, '2008-09-15')]\n",
        "[(252092, '2009-02-07'), (252362, '2009-02-10'), (253907, '2009-02-10'), (154786, '2009-01-27'), (253670, '2009-01-30'), (206526, '2009-01-16'), (206608, '2009-01-27'), (235866, '2009-01-22'), (235930, '2009-01-27'), (252739, '2009-01-28'), (252977, '2009-01-29'), (253542, '2009-01-26'), (68146, '2008-06-24'), (39151, '2007-05-21'), (253123, '0000-00-00')]\n",
        "[(252093, '2009-02-07'), (252363, '2009-02-10'), (253908, '2009-02-10'), (154787, '2009-01-27'), (253671, '2009-01-30'), (206527, '2009-01-16'), (206609, '2009-01-27'), (235867, '2009-01-22'), (235931, '2009-01-27'), (252740, '2009-01-28'), (252978, '2009-01-29'), (253124, '0000-00-00'), (253543, '2009-01-26')]\n",
        "[(154788, '2009-01-27'), (252094, '2009-02-07'), (252364, '2009-02-10'), (253672, '2009-01-30'), (253909, '2009-02-10'), (206533, '2009-01-16'), (206615, '2009-01-27'), (235873, '2009-01-22'), (235937, '2009-01-27'), (252747, '2009-01-28'), (252985, '2009-01-29'), (253550, '2009-01-26'), (93685, '2008-09-15'), (253125, '0000-00-00'), (68148, '2008-06-24')]\n",
        "[(154789, '2009-01-27'), (252095, '2009-02-07'), (252365, '2009-02-10'), (253673, '2009-01-30'), (253910, '2009-02-10'), (206534, '2009-01-16'), (206616, '2009-01-27'), (235874, '2009-01-22'), (235938, '2009-01-27'), (253126, '0000-00-00'), (252748, '2009-01-28'), (252986, '2009-01-29'), (253551, '2009-01-26')]\n",
        "[(154790, '2009-01-27'), (252096, '2009-02-07'), (252366, '2009-02-10'), (253674, '2009-01-30'), (253911, '2009-02-10'), (235875, '2009-01-22'), (235939, '2009-01-27'), (253127, '0000-00-00'), (206535, '2009-01-16'), (206617, '2009-01-27'), (252749, '2009-01-28'), (252987, '2009-01-29'), (253552, '2009-01-26'), (93687, '2008-09-15'), (68150, '2008-06-24')]\n",
        "[(154791, '2009-01-27'), (252097, '2009-02-07'), (252367, '2009-02-10'), (253128, '0000-00-00'), (253675, '2009-01-30'), (253912, '2009-02-10'), (206536, '2009-01-16'), (206618, '2009-01-27'), (235876, '2009-01-22'), (235940, '2009-01-27'), (252750, '2009-01-28'), (252988, '2009-01-29'), (253553, '2009-01-26')]\n",
        "[(154792, '2009-01-27'), (252098, '2009-02-07'), (252368, '2009-02-10'), (253129, '0000-00-00'), (253676, '2009-01-30'), (253913, '2009-02-10'), (206537, '2009-01-16'), (206619, '2009-01-27'), (235877, '2009-01-22'), (235941, '2009-01-27'), (252751, '2009-01-28'), (252989, '2009-01-29'), (253554, '2009-01-26'), (93689, '2008-09-15'), (68152, '2008-06-24')]\n",
        "[(252099, '2009-02-07'), (252369, '2009-02-10'), (253914, '2009-02-10'), (154793, '2009-01-27'), (253677, '2009-01-30'), (206538, '2009-01-16'), (206620, '2009-01-27'), (235878, '2009-01-22'), (235942, '2009-01-27'), (253130, '0000-00-00'), (252752, '2009-01-28'), (252990, '2009-01-29'), (253555, '2009-01-26')]\n",
        "[(252100, '2009-02-07'), (252370, '2009-02-10'), (253915, '2009-02-10'), (154794, '2009-01-27'), (253678, '2009-01-30'), (206539, '2009-01-16'), (206621, '2009-01-27'), (235879, '2009-01-22'), (235943, '2009-01-27'), (252753, '2009-01-28'), (252991, '2009-01-29'), (253556, '2009-01-26')]\n",
        "[(252101, '2009-02-07'), (252371, '2009-02-10'), (253916, '2009-02-10'), (154795, '2009-01-27'), (253679, '2009-01-30'), (206540, '2009-01-16'), (206622, '2009-01-27'), (235880, '2009-01-22'), (235944, '2009-01-27'), (252754, '2009-01-28'), (252992, '2009-01-29'), (253557, '2009-01-26'), (253132, '0000-00-00'), (93693, '2008-09-15')]\n",
        "[(154796, '2009-01-27'), (252102, '2009-02-07'), (252372, '2009-02-10'), (253133, '0000-00-00'), (253680, '2009-01-30'), (253917, '2009-02-10'), (206541, '2009-01-16'), (206623, '2009-01-27'), (235881, '2009-01-22'), (235945, '2009-01-27'), (252755, '2009-01-28'), (252993, '2009-01-29'), (253558, '2009-01-26')]\n",
        "[(154797, '2009-01-27'), (252103, '2009-02-07'), (252373, '2009-02-10'), (253134, '0000-00-00'), (253681, '2009-01-30'), (253918, '2009-02-10'), (206542, '2009-01-16'), (206624, '2009-01-27'), (235882, '2009-01-22'), (235946, '2009-01-27'), (252756, '2009-01-28'), (252994, '2009-01-29'), (253559, '2009-01-26'), (93697, '2008-09-15'), (68160, '2008-06-24')]\n",
        "[(154798, '2009-01-27'), (252104, '2009-02-07'), (252374, '2009-02-10'), (253682, '2009-01-30'), (253919, '2009-02-10'), (206543, '2009-01-16'), (206625, '2009-01-27'), (235883, '2009-01-22'), (235947, '2009-01-27'), (252757, '2009-01-28'), (252995, '2009-01-29'), (253560, '2009-01-26'), (253135, '0000-00-00')]\n",
        "[(154799, '2009-01-27'), (252105, '2009-02-07'), (252375, '2009-02-10'), (253683, '2009-01-30'), (253920, '2009-02-10'), (206544, '2009-01-16'), (206626, '2009-01-27'), (235884, '2009-01-22'), (253136, '0000-00-00'), (235948, '2009-01-27'), (252758, '2009-01-28')]\n",
        "[(154800, '2009-01-27'), (252106, '2009-02-07'), (252376, '2009-02-10'), (253684, '2009-01-30'), (253921, '2009-02-10'), (206545, '2009-01-16'), (206627, '2009-01-27'), (235885, '2009-01-22'), (235951, '2009-01-27'), (252760, '2009-01-28'), (252998, '2009-01-29'), (253563, '2009-01-26'), (68161, '2008-06-24'), (93703, '2008-09-15')]\n",
        "[(154801, '2009-01-27'), (252107, '2009-02-07'), (252377, '2009-02-10'), (253138, '0000-00-00'), (253685, '2009-01-30'), (253922, '2009-02-10'), (206546, '2009-01-16'), (206628, '2009-01-27'), (235886, '2009-01-22'), (235952, '2009-01-27'), (252761, '2009-01-28'), (252999, '2009-01-29'), (253564, '2009-01-26'), (93704, '2008-09-15')]\n",
        "[(154802, '2009-01-27'), (252108, '2009-02-07'), (252378, '2009-02-10'), (253139, '0000-00-00'), (253686, '2009-01-30'), (253923, '2009-02-10'), (206547, '2009-01-16'), (206629, '2009-01-27'), (235887, '2009-01-22'), (235953, '2009-01-27'), (252762, '2009-01-28'), (253000, '2009-01-29'), (253565, '2009-01-26')]\n"
       ]
      }
     ],
     "prompt_number": 54
    },
    {
     "cell_type": "code",
     "collapsed": false,
     "input": [
      "print data_list_of_dicts[93685]"
     ],
     "language": "python",
     "metadata": {},
     "outputs": [
      {
       "output_type": "stream",
       "stream": "stdout",
       "text": [
        "{'IssuedOn': '2008-09-15', 'bill_version': 'hr6898-110-ih', 'sec_sequence': '20', 'SecCount': '40', 'BillVer': 'ih', 'sec_id': '213390', 'text': \"SEC. 400. DEFINITIONS.    In this title, except as specified otherwise:            (1) Breach.--The term ``breach'' means the unauthorized         acquisition, access, or disclosure of protected health         information which compromises the security, privacy, or         integrity of protected health information maintained by or on         behalf of a person. Such term does not include any         unintentional acquisition or access of such information by an         employee or agent of the covered entity or business associate         involved if such acquisition or access, respectively, was made         in good faith and within the course and scope of the employment         or other contractual relationship of such employee or agent,         respectively, with the covered entity or business associate and         if such information is not further acquired, accessed, or         disclosed by such employee or agent.            (2) Business associate.--The term ``business associate''         has the meaning given such term in section 160.103 of title 45,         Code of Federal Regulations.            (3) Covered entity.--The term ``covered entity'' has the         meaning given such term in section 160.103 of title 45, Code of         Federal Regulations.            (4) Disclose.--The terms ``disclose'' and ``disclosure''         have the meaning given the term ``disclosure'' in section         160.103 of title 45, Code of Federal Regulations.            (5) Electronic health record.--The term ``electronic health         record'' means an electronic record of health-related         information on an individual that is created, gathered,         managed, and consulted by authorized health care clinicians and         staff of one or more organizations, that conforms to standards         adopted under section 3003(a) of the Public Health Service Act,         as added by section 101, and is made accessible electronically         to other health care organizations and other authorized users.            (6) Electronic medical record.--The term ``electronic         medical record'' means an electronic record of individually         identifiable health information on an individual that is         created, gathered, managed, and consulted by authorized health         care clinicians and staff within a single organization.            (7) Health care operations.--The term ``health care         operation'' has the meaning given such term in section 164.501         of title 45, Code of Federal Regulations.            (8) Health care provider.--The term ``health care         provider'' has the meaning given such term in section 160.103         of title 45, Code of Federal Regulations.            (9) Health plan.--The term ``health plan'' has the meaning         given such term in section 1171(5) of the Social Security Act,         as amended by section 415.            (10) National coordinator.--The term ``National         Coordinator'' means the head of the Office of the National         Coordinator for Health Information Technology established under         section 3001(a) of the Public Health Service Act, as added by         section 101.            (11) Payment.--The term ``payment'' has the meaning given         such term in section 164.501 of title 45, Code of Federal         Regulations.            (12) Personal health record.--The term ``personal health         record'' means an electronic record of individually         identifiable health information on an individual that can be         drawn from multiple sources and that is managed, shared, and         controlled by or for the individual.            (13) Protected health information.--The term ``protected         health information'' has the meaning given such term in section         160.103 of title 45, Code of Federal Regulations.            (14) Secretary.--The term ``Secretary'' means the Secretary         of Health and Human Services.            (15) Security.--The term ``security'' has the meaning given         such term in section 164.304 of title 45, Code of Federal         Regulations.            (16) State.--The term ``State'' means each of the several         States, the District of Columbia, Puerto Rico, the Virgin         Islands, Guam, American Samoa, and the Northern Mariana         Islands.            (17) Treatment.--The term ``treatment'' has the meaning         given such term in section 164.501 of title 45, Code of Federal         Regulations.            (18) Use.--The term ``use'' has the meaning given such term         in section 160.103 of title 45, Code of Federal Regulations.            (19) Vendor of personal health records.--The term ``vendor         of personal health records'' means an entity that offers or         maintains a personal health record. Such term does not include         an entity that is a covered entity for purposes of offering or         maintaining such personal health record.    Subtitle A--Improved Privacy Provisions and Security Provisions\", 'Bill_id': '443100', 'Cong': '110', 'sec_length': '5113', 'bill_ver_id': '23732', 'BillNum': '6898', 'BillType': 'hr'}\n"
       ]
      }
     ],
     "prompt_number": 55
    },
    {
     "cell_type": "code",
     "collapsed": false,
     "input": [
      "\n",
      "#data = filtered_data\n",
      "data = data\n",
      "\n",
      "x = [date2num(date) for (date, value) in data]\n",
      "y = [int(value) for (date, value) in data]\n",
      "\n",
      "xmin = date2num( datetime.datetime( 2008, 1, 1 ) )\n",
      "\n",
      "#xmax = date2num( datetime.datetime( 2010, 8, 1 ) )\n",
      "\n",
      "# ARRA\n",
      "xmax = date2num( datetime.datetime( 2009,2,15) )\n",
      "\n",
      "min_date = min( [ i[0] for i in data ] )\n",
      "max_date = max( [ i[0] for i in data ] )\n",
      "\n",
      "starting_month = datetime.datetime( min_date.year, min_date.month, day=1 )\n",
      "ending_month = max_date + dateutil.relativedelta.relativedelta( months=1 )\n",
      "ending_month = datetime.datetime( ending_month.year, ending_month.month, day=1 )\n",
      "#print starting_month\n",
      "#print ending_month \n",
      "\n",
      "months = []\n",
      "current_month = starting_month\n",
      "while current_month <= ending_month:\n",
      "    months.append( current_month )\n",
      "    current_month += dateutil.relativedelta.relativedelta( months=1 )\n",
      "    \n",
      "#print months\n",
      "\n",
      "fig = plt.figure()\n",
      "figsize( 10,6 )\n",
      "graph = fig.add_subplot(111)\n",
      "\n",
      "graph.scatter(x,y, s=5, c='k', marker='o', alpha=1)\n",
      "\n",
      "\n",
      "plt.xlabel( 'Date', fontsize='large' )\n",
      "plt.ylabel( 'Bill Section', fontsize='large' )\n",
      "\n",
      "# Set the xtick locations to correspond to just the dates you entered.\n",
      "\n",
      "month_nums = [ date2num( date ) for date in months ] \n",
      "graph.set_xticks( month_nums )\n",
      "num_sections = max(y)\n",
      "plt.ylim( (0,num_sections) )\n",
      "plt.xlim( ( xmin, xmax ) )\n",
      "plt.gca().invert_yaxis()\n",
      "graph.yaxis.set_label_position(\"right\")\n",
      "graph.yaxis.tick_right()\n",
      "# Set the xtick labels to correspond to just the dates you entered.\n",
      "graph.set_xticklabels(\n",
      "        [date.strftime(\"%Y-%m\") for date in months ], rotation=90, fontsize='large'\n",
      "        )\n",
      "\n",
      "\n",
      "\n",
      "plt.show()"
     ],
     "language": "python",
     "metadata": {},
     "outputs": [
      {
       "metadata": {},
       "output_type": "display_data",
       "png": "[encoded data removed]",
       "text": [
        "<matplotlib.figure.Figure at 0x2187cbfd0>"
       ]
      }
     ],
     "prompt_number": 52
    }
   ],
   "metadata": {}
  }
 ]
}