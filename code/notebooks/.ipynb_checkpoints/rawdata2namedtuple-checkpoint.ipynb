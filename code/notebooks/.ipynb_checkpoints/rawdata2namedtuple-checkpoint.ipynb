{
 "metadata": {
  "name": ""
 },
 "nbformat": 3,
 "nbformat_minor": 0,
 "worksheets": [
  {
   "cells": [
    {
     "cell_type": "code",
     "collapsed": false,
     "input": [
      "# Python libraries\n",
      "import collections\n",
      "import os\n",
      "import sys\n",
      "import csv"
     ],
     "language": "python",
     "metadata": {},
     "outputs": [],
     "prompt_number": 30
    },
    {
     "cell_type": "code",
     "collapsed": false,
     "input": [
      "UNSHARED_DATA_PATH = '../../data/unshared-task-poliinformatics-2014-v1.0/'\n",
      "DATA_SOURCES = [ 'FOMC' ]"
     ],
     "language": "python",
     "metadata": {},
     "outputs": [],
     "prompt_number": 6
    },
    {
     "cell_type": "code",
     "collapsed": false,
     "input": [
      "sys.path.append( '../utils' )\n",
      "import utils_schema\n",
      "reload(utils_schema )\n",
      "csv_schema = utils_schema.get_schema( os.path.join( UNSHARED_DATA_PATH, 'FOMC', 'FOMC20050202meeting', 'FOMC20050202meeting.csv' ) )\n",
      "fomc_schema = [ 'meeting_id' ] + csv_schema\n",
      "FOMC = collections.namedtuple( 'FOMC', fomc_schema )\n",
      "folder = 'FOMC'\n",
      "folder_full_path = os.path.join( UNSHARED_DATA_PATH, folder )\n",
      "subfolders = os.listdir( folder_full_path )\n",
      "\n",
      "fomc_namedtuples = []\n",
      "#fomc_meetings_dict = {}\n",
      "for subf in subfolders:\n",
      "    subfolder_full_path = os.path.join( folder_full_path, subf )\n",
      "    files = os.listdir( subfolder_full_path )\n",
      "    \n",
      "\n",
      "    for fname in files:\n",
      "        if fname.endswith( '.csv' ):\n",
      "            meeting_namedtuples = []\n",
      "            with open( os.path.join( subfolder_full_path, fname ) ) as f:\n",
      "                csvreader = csv.reader( f, dialect='excel' )\n",
      "                for idx, row in enumerate( csvreader ):\n",
      "                    if idx == 0:\n",
      "                        pass\n",
      "                    else:\n",
      "                        new_entry = FOMC( *([subf] + [int(row[0])] + row[1:]) )\n",
      "                        fomc_namedtuples.append( new_entry )"
     ],
     "language": "python",
     "metadata": {},
     "outputs": [],
     "prompt_number": 87
    },
    {
     "cell_type": "code",
     "collapsed": false,
     "input": [
      "print len( fomc_namedtuples )"
     ],
     "language": "python",
     "metadata": {},
     "outputs": [
      {
       "output_type": "stream",
       "stream": "stdout",
       "text": [
        "6288\n"
       ]
      }
     ],
     "prompt_number": 76
    },
    {
     "cell_type": "code",
     "collapsed": false,
     "input": [
      "import cPickle\n",
      "with open( 'fomc_namedtuples.pkl', 'w' ) as f:\n",
      "    cPickle.dump( fomc_namedtuples, f )\n",
      "    "
     ],
     "language": "python",
     "metadata": {},
     "outputs": [],
     "prompt_number": 89
    },
    {
     "cell_type": "code",
     "collapsed": false,
     "input": [
      "with open( 'test.pkl' ) as f:\n",
      "    fn = cPickle.load( f )"
     ],
     "language": "python",
     "metadata": {},
     "outputs": [],
     "prompt_number": 85
    },
    {
     "cell_type": "code",
     "collapsed": false,
     "input": [],
     "language": "python",
     "metadata": {},
     "outputs": [
      {
       "output_type": "stream",
       "stream": "stdout",
       "text": [
        "<class '__main__.FOMC'>\n"
       ]
      }
     ],
     "prompt_number": 62
    }
   ],
   "metadata": {}
  }
 ]
}